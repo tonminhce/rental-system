{
 "cells": [
  {
   "cell_type": "code",
   "execution_count": null,
   "id": "47649e2f",
   "metadata": {},
   "outputs": [],
   "source": [
    "from source import scrape_with_threading\n",
    "import pandas as pd\n",
    "\n",
    "START_PAGE = 1\n",
    "END_PAGE = 600\n",
    "MAX_WORKERS = 4  \n",
    "\n",
    "print(f\"Starting parallel scraping from page {START_PAGE} to {END_PAGE} with {MAX_WORKERS} workers\")\n",
    "\n",
    "# parallel scraping\n",
    "data = scrape_with_threading(START_PAGE, END_PAGE, MAX_WORKERS)\n",
    "\n",
    "# Convert to DataFrame \n",
    "df = pd.DataFrame(data)\n",
    "df.to_csv(\"phong_tro_overview_full.csv\", index=False, encoding='utf-8-sig')\n",
    "\n",
    "print(f\"✅ Scraping completed. Collected {len(df)} entries across {END_PAGE-START_PAGE+1} pages.\")\n",
    "print(f\"Data saved to phong_tro_overview_full.csv\")"
   ]
  },
  {
   "cell_type": "code",
   "execution_count": null,
   "id": "01823d2b",
   "metadata": {},
   "outputs": [],
   "source": [
    "\n",
    "from scrapepage import runner\n"
   ]
  },
  {
   "cell_type": "code",
   "execution_count": null,
   "id": "8040b828",
   "metadata": {},
   "outputs": [],
   "source": [
    "runner(\"./phong_tro_overview_full.csv\", \"final_data.json\")"
   ]
  }
 ],
 "metadata": {
  "kernelspec": {
   "display_name": "env",
   "language": "python",
   "name": "python3"
  },
  "language_info": {
   "codemirror_mode": {
    "name": "ipython",
    "version": 3
   },
   "file_extension": ".py",
   "mimetype": "text/x-python",
   "name": "python",
   "nbconvert_exporter": "python",
   "pygments_lexer": "ipython3",
   "version": "3.13.2"
  }
 },
 "nbformat": 4,
 "nbformat_minor": 5
}
