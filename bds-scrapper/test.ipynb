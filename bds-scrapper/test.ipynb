{
 "cells": [
  {
   "cell_type": "code",
   "execution_count": null,
   "id": "47649e2f",
   "metadata": {},
   "outputs": [],
   "source": [
    "from source import scrape_with_threading\n",
    "import pandas as pd\n",
    "\n",
    "START_PAGE = 1\n",
    "END_PAGE = 600\n",
    "MAX_WORKERS = 4  \n",
    "\n",
    "print(f\"Starting parallel scraping from page {START_PAGE} to {END_PAGE} with {MAX_WORKERS} workers\")\n",
    "\n",
    "# parallel scraping\n",
    "data = scrape_with_threading(START_PAGE, END_PAGE, MAX_WORKERS)\n",
    "\n",
    "# Convert to DataFrame \n",
    "df = pd.DataFrame(data)\n",
    "df.to_csv(\"phong_tro_overview_full.csv\", index=False, encoding='utf-8-sig')\n",
    "\n",
    "print(f\"✅ Scraping completed. Collected {len(df)} entries across {END_PAGE-START_PAGE+1} pages.\")\n",
    "print(f\"Data saved to phong_tro_overview_full.csv\")"
   ]
  },
  {
   "cell_type": "code",
   "execution_count": 1,
   "id": "01823d2b",
   "metadata": {},
   "outputs": [],
   "source": [
    "\n",
    "from scrapepage import runner\n"
   ]
  },
  {
   "cell_type": "code",
   "execution_count": 2,
   "id": "8040b828",
   "metadata": {},
   "outputs": [
    {
     "name": "stdout",
     "output_type": "stream",
     "text": [
      "Loaded 11602 links\n",
      "Found 0 already processed links\n",
      "Processing 11602 remaining links\n",
      "Created 1161 batches\n"
     ]
    },
    {
     "name": "stderr",
     "output_type": "stream",
     "text": [
      "Processing batches:   0%|          | 0/1161 [00:00<?, ?it/s]"
     ]
    },
    {
     "name": "stdout",
     "output_type": "stream",
     "text": [
      "First method failed: [Errno 2] No such file or directory: '/Users/macbook/Library/Application Support/undetected_chromedriver/undetected/chromedriver-mac-x64/chromedriver' -> '/Users/macbook/Library/Application Support/undetected_chromedriver/undetected_chromedriver'\n",
      "Using Chrome driver at: /Users/macbook/.wdm/drivers/chromedriver/mac64/135.0.7049.95/chromedriver-mac-arm64/chromedriver\n"
     ]
    },
    {
     "name": "stderr",
     "output_type": "stream",
     "text": [
      "could not detect version_main.therefore, we are assuming it is chrome 108 or higher\n"
     ]
    },
    {
     "name": "stdout",
     "output_type": "stream",
     "text": [
      "Using Chrome with user agent: Mozilla/5.0 (Macintosh; Intel Mac OS X 10_15_7) AppleWebKit/537.36 (KHTML, like Gecko) Chrome/100.0.4896.127 Safari/537.36\n",
      "Using Chrome with user agent: Mozilla/5.0 (Macintosh; Intel Mac OS X 10_15_7) AppleWebKit/537.36 (KHTML, like Gecko) Chrome/100.0.4896.127 Safari/537.36\n",
      "Using Chrome with user agent: Mozilla/5.0 (Windows NT 10.0; Win64; x64) AppleWebKit/537.36 (KHTML, like Gecko) Chrome/100.0.4896.127 Safari/537.36\n"
     ]
    },
    {
     "name": "stderr",
     "output_type": "stream",
     "text": [
      "Processing batches:   0%|          | 1/1161 [00:12<4:11:06, 12.99s/it]"
     ]
    },
    {
     "name": "stdout",
     "output_type": "stream",
     "text": [
      "Error scraping url https://batdongsan.com.vn/cho-thue-can-ho-chung-cu-duong-mai-chi-tho-phuong-an-phu-prj-the-sun-avenue/c-2pn-2wc-76m2-14-trieu-tai-qu-2-hcm-t-uy-tin-pr42709501: 're__icon-front-view'\n"
     ]
    },
    {
     "name": "stderr",
     "output_type": "stream",
     "text": [
      "Processing batches:   0%|          | 2/1161 [00:13<1:46:37,  5.52s/it]"
     ]
    },
    {
     "name": "stdout",
     "output_type": "stream",
     "text": [
      "Error scraping url https://batdongsan.com.vn/cho-thue-nha-tro-phong-tro-duong-vo-oanh-phuong-25/cho-cua-so-trang-bi-nt-he-thong-pccc-cao-cap-pr41495701: 're__icon-road'\n"
     ]
    },
    {
     "name": "stderr",
     "output_type": "stream",
     "text": [
      "Processing batches:   0%|          | 3/1161 [00:13<1:01:52,  3.21s/it]"
     ]
    },
    {
     "name": "stdout",
     "output_type": "stream",
     "text": [
      "Error scraping url https://batdongsan.com.vn/cho-thue-can-ho-chung-cu-duong-bo-bao-tan-thang-phuong-son-ky-prj-celadon-city/gio-hang-cho-moi-nhat-khu-quan-phu-chi-10-5tr-2pn-2wc-fullnt-pr42458033: 're__icon-clock'\n",
      "Using Chrome with user agent: Mozilla/5.0 (Windows NT 10.0; Win64; x64) AppleWebKit/537.36 (KHTML, like Gecko) Chrome/100.0.4896.127 Safari/537.36\n",
      "Using Chrome with user agent: Mozilla/5.0 (Macintosh; Intel Mac OS X 10_15_7) AppleWebKit/537.36 (KHTML, like Gecko) Chrome/99.0.4844.84 Safari/537.36\n",
      "Using Chrome with user agent: Mozilla/5.0 (Macintosh; Intel Mac OS X 10_15_7) AppleWebKit/537.36 (KHTML, like Gecko) Chrome/100.0.4896.127 Safari/537.36\n",
      "Error scraping url https://batdongsan.com.vn/cho-thue-can-ho-chung-cu-duong-nguyen-huu-canh-phuong-22-prj-saigon-pearl/-ngay-top-102-co-gia-kich-san-view-dang-cap-tu-1-2-3-4pn-duplex-pent-pr42421627: 're__icon-front-view'\n"
     ]
    },
    {
     "name": "stderr",
     "output_type": "stream",
     "text": [
      "Processing batches:   0%|          | 4/1161 [00:20<1:31:57,  4.77s/it]"
     ]
    },
    {
     "name": "stdout",
     "output_type": "stream",
     "text": [
      "Error scraping url https://batdongsan.com.vn/cho-thue-can-ho-chung-cu-duong-mai-chi-tho-phuong-thu-thiem-prj-empire-city-thu-thiem/-ngay-pkd-cap-nhat-lien-tuc-cac-sieu-pham-gia-kich-san-tu-1-2-3-4pn-duplex-pent-pr42498976: 're__icon-front-view'\n"
     ]
    },
    {
     "name": "stderr",
     "output_type": "stream",
     "text": [
      "Processing batches:   0%|          | 5/1161 [00:22<1:07:38,  3.51s/it]"
     ]
    },
    {
     "name": "stdout",
     "output_type": "stream",
     "text": [
      "Using Chrome with user agent: Mozilla/5.0 (Windows NT 10.0; Win64; x64) AppleWebKit/537.36 (KHTML, like Gecko) Chrome/100.0.4896.127 Safari/537.36\n",
      "Using Chrome with user agent: Mozilla/5.0 (Macintosh; Intel Mac OS X 10_15_7) AppleWebKit/537.36 (KHTML, like Gecko) Chrome/100.0.4896.127 Safari/537.36\n",
      "Error scraping url https://batdongsan.com.vn/cho-thue-can-ho-chung-cu-duong-bui-dinh-tuy-phuong-22-prj-vinhomes-central-park/c-vinmes-115-4m2-3pn-toa-1-view-song-bitexco-q1-pr28946467: 're__icon-document'\n"
     ]
    },
    {
     "name": "stderr",
     "output_type": "stream",
     "text": [
      "Processing batches:   1%|          | 7/1161 [00:30<1:10:11,  3.65s/it]"
     ]
    },
    {
     "name": "stdout",
     "output_type": "stream",
     "text": [
      "Error scraping url https://batdongsan.com.vn/cho-thue-can-ho-chung-cu-duong-truong-luu-phuong-long-truong-prj-chung-cu-mt-eastmark-city/ro-hang-hon-100-cho-q9-1-pn-1-65m2-gia-5-trieu-2pn-2wc-75m2-gia-7-trieu-3pn-10-trieu-pr42240224: 're__icon-clock'\n"
     ]
    },
    {
     "name": "stderr",
     "output_type": "stream",
     "text": [
      "Processing batches:   1%|          | 8/1161 [00:30<49:09,  2.56s/it]  "
     ]
    },
    {
     "name": "stdout",
     "output_type": "stream",
     "text": [
      "Error scraping url https://batdongsan.com.vn/cho-thue-can-ho-chung-cu-duong-mai-chi-tho-phuong-thu-thiem-prj-empire-city-thu-thiem/c-1pn-64m2-full-noi-that-view-song-cong-vien-tang-mat-pr42710977: 're__icon-private-house'\n",
      "Using Chrome with user agent: Mozilla/5.0 (Windows NT 10.0; Win64; x64) AppleWebKit/537.36 (KHTML, like Gecko) Chrome/99.0.4844.84 Safari/537.36\n",
      "Using Chrome with user agent: Mozilla/5.0 (Macintosh; Intel Mac OS X 10_15_7) AppleWebKit/537.36 (KHTML, like Gecko) Chrome/100.0.4896.127 Safari/537.36\n",
      "Using Chrome with user agent: Mozilla/5.0 (Windows NT 10.0; Win64; x64) AppleWebKit/537.36 (KHTML, like Gecko) Chrome/99.0.4844.84 Safari/537.36\n",
      "Second method failed: Message: Can not connect to the Service /Users/macbook/.wdm/drivers/chromedriver/mac64/135.0.7049.95/chromedriver-mac-arm64/chromedriver\n",
      "\n",
      "Error scraping url https://batdongsan.com.vn/cho-thue-can-ho-chung-cu-duong-vo-nguyen-giap-phuong-an-phu-prj-lumiere-riverside/cho-1pn-18-trieu-2pn-22tr-3pn-34tr-con-nhieu-gia-tot-full-noi-that-pr41713089: 're__icon-front-view'\n"
     ]
    },
    {
     "name": "stderr",
     "output_type": "stream",
     "text": [
      "Processing batches:   1%|          | 9/1161 [00:38<1:21:54,  4.27s/it]"
     ]
    },
    {
     "name": "stdout",
     "output_type": "stream",
     "text": [
      "Error scraping url https://batdongsan.com.vn/cho-thue-can-ho-chung-cu-duong-nguyen-van-linh-xa-binh-hung-1-prj-mizuki-park/-cao-cap-flora-nam-sai-gon-3-pn-tien-nghi-cao-cap-c-tu-1-4-2025-pr42477752: 're__icon-clock'\n"
     ]
    },
    {
     "name": "stderr",
     "output_type": "stream",
     "text": [
      "Processing batches:   1%|          | 10/1161 [00:41<1:11:09,  3.71s/it]"
     ]
    },
    {
     "name": "stdout",
     "output_type": "stream",
     "text": [
      "Using Chrome with user agent: Mozilla/5.0 (Macintosh; Intel Mac OS X 10_15_7) AppleWebKit/537.36 (KHTML, like Gecko) Chrome/99.0.4844.84 Safari/537.36\n",
      "Using Chrome with user agent: Mozilla/5.0 (Windows NT 10.0; Win64; x64) AppleWebKit/537.36 (KHTML, like Gecko) Chrome/99.0.4844.84 Safari/537.36\n",
      "Error scraping url https://batdongsan.com.vn/cho-thue-can-ho-chung-cu-duong-dai-lo-vong-cung-phuong-an-khanh-prj-the-galleria-residence/-cap-nhat-gio-hang-cho-moi-nhat-nha-dep-gia-tot-da-dang-lua-chon-pr42722066: 're__icon-clock'\n"
     ]
    },
    {
     "name": "stderr",
     "output_type": "stream",
     "text": [
      "Processing batches:   1%|          | 11/1161 [00:46<1:18:19,  4.09s/it]"
     ]
    },
    {
     "name": "stdout",
     "output_type": "stream",
     "text": [
      "Using Chrome with user agent: Mozilla/5.0 (Windows NT 10.0; Win64; x64) AppleWebKit/537.36 (KHTML, like Gecko) Chrome/100.0.4896.127 Safari/537.36\n",
      "Error scraping url https://batdongsan.com.vn/cho-thue-can-ho-chung-cu-mini-duong-pham-van-hai-phuong-1-23/-ban-cong-2pn-rieng-ngay-tan-binh-co-thang-may-may-giat-xe-hoi-pr42681274: 're__icon-clock'\n"
     ]
    },
    {
     "name": "stderr",
     "output_type": "stream",
     "text": [
      "Processing batches:   1%|          | 12/1161 [00:52<1:28:24,  4.62s/it]"
     ]
    },
    {
     "name": "stdout",
     "output_type": "stream",
     "text": [
      "Error scraping url https://batdongsan.com.vn/cho-thue-can-ho-chung-cu-duong-dai-lo-vong-cung-phuong-thu-thiem-prj-the-opera-residence/cho-cc-metropole-32-trieu-80m2-2pn-2wc-an-khanh-q2-hcm-pr42764797: 're__icon-front-view'\n"
     ]
    },
    {
     "name": "stderr",
     "output_type": "stream",
     "text": [
      "Processing batches:   1%|          | 13/1161 [00:55<1:18:13,  4.09s/it]"
     ]
    },
    {
     "name": "stdout",
     "output_type": "stream",
     "text": [
      "Using Chrome with user agent: Mozilla/5.0 (Windows NT 10.0; Win64; x64) AppleWebKit/537.36 (KHTML, like Gecko) Chrome/99.0.4844.84 Safari/537.36\n",
      "Using Chrome with user agent: Mozilla/5.0 (Macintosh; Intel Mac OS X 10_15_7) AppleWebKit/537.36 (KHTML, like Gecko) Chrome/100.0.4896.127 Safari/537.36\n"
     ]
    },
    {
     "name": "stderr",
     "output_type": "stream",
     "text": [
      "Processing batches:   1%|          | 14/1161 [01:03<1:45:56,  5.54s/it]"
     ]
    },
    {
     "name": "stdout",
     "output_type": "stream",
     "text": [
      "Error scraping url https://batdongsan.com.vn/cho-thue-nha-tro-phong-tro-duong-xo-viet-nghe-tinh-phuong-26/-moi-100-thoang-mat-sach-se-wifi-tu-tu-lanh-mnnl-bep-kho-camera-an-ninh-pr20370999: 're__icon-front-view'\n"
     ]
    },
    {
     "name": "stderr",
     "output_type": "stream",
     "text": [
      "Processing batches:   1%|▏         | 15/1161 [01:04<1:19:15,  4.15s/it]"
     ]
    },
    {
     "name": "stdout",
     "output_type": "stream",
     "text": [
      "Error scraping url https://batdongsan.com.vn/cho-thue-can-ho-chung-cu-duong-mai-chi-tho-phuong-an-loi-dong-prj-sadora-sala/cho-nhieu-gia-tot-kdt-quan-2-gia-cap-nhat-thang-4-2024-era-antplus-pr39428196: 're__icon-electricity'\n",
      "Using Chrome with user agent: Mozilla/5.0 (Macintosh; Intel Mac OS X 10_15_7) AppleWebKit/537.36 (KHTML, like Gecko) Chrome/99.0.4844.84 Safari/537.36\n",
      "Using Chrome with user agent: Mozilla/5.0 (Windows NT 10.0; Win64; x64) AppleWebKit/537.36 (KHTML, like Gecko) Chrome/100.0.4896.127 Safari/537.36\n"
     ]
    },
    {
     "name": "stderr",
     "output_type": "stream",
     "text": [
      "Processing batches:   1%|▏         | 16/1161 [01:10<1:29:12,  4.67s/it]"
     ]
    },
    {
     "name": "stdout",
     "output_type": "stream",
     "text": [
      "All Chrome initialization methods failed: Message: Can not connect to the Service /Users/macbook/.wdm/drivers/chromedriver/mac64/135.0.7049.95/chromedriver-mac-arm64/chromedriver\n",
      "\n",
      "Error processing batch ['https://batdongsan.com.vn/cho-thue-nha-tro-phong-tro-duong-phan-huy-ich-phuong-14-8/cho-studio-full-noi-that-25m2-go-vap-gia-4-trieu-khong-chung-chu-pr42484671']: cannot access local variable 'url' where it is not associated with a value\n",
      "Error scraping url https://batdongsan.com.vn/cho-thue-can-ho-chung-cu-duong-xa-lo-ha-noi-phuong-thao-dien-prj-masteri-an-phu/cho-dt-72m2-2pn-2wc-day-du-that-view-dong-nam-sieu-thog-mat-gia-17-5tr-pr41789696: 're__icon-private-house'\n"
     ]
    },
    {
     "name": "stderr",
     "output_type": "stream",
     "text": [
      "Processing batches:   1%|▏         | 17/1161 [01:12<1:09:34,  3.65s/it]"
     ]
    },
    {
     "name": "stdout",
     "output_type": "stream",
     "text": [
      "First method failed: Message: Service /Users/macbook/Library/Application Support/undetected_chromedriver/undetected_chromedriver unexpectedly exited. Status code was: -9\n",
      "\n",
      "Using Chrome driver at: /Users/macbook/.wdm/drivers/chromedriver/mac64/135.0.7049.95/chromedriver-mac-arm64/chromedriver\n",
      "Second method failed: you cannot reuse the ChromeOptions object\n"
     ]
    },
    {
     "name": "stderr",
     "output_type": "stream",
     "text": [
      "Processing batches:   2%|▏         | 18/1161 [01:14<1:01:17,  3.22s/it]"
     ]
    },
    {
     "name": "stdout",
     "output_type": "stream",
     "text": [
      "Error scraping url https://batdongsan.com.vn/cho-thue-can-ho-chung-cu-mini-pho-nguyen-xi-phuong-26/he-thong-cho-1pn-2pn-gia-uu-dai-hot-nhat-binh-thanh-pr42754737: 're__icon-front-view'\n",
      "Using Chrome with user agent: Mozilla/5.0 (Macintosh; Intel Mac OS X 10_15_7) AppleWebKit/537.36 (KHTML, like Gecko) Chrome/99.0.4844.84 Safari/537.36\n",
      "Using Chrome with user agent: Mozilla/5.0 (Macintosh; Intel Mac OS X 10_15_7) AppleWebKit/537.36 (KHTML, like Gecko) Chrome/99.0.4844.84 Safari/537.36\n"
     ]
    },
    {
     "name": "stderr",
     "output_type": "stream",
     "text": [
      "Processing batches:   2%|▏         | 19/1161 [01:24<1:44:06,  5.47s/it]"
     ]
    },
    {
     "name": "stdout",
     "output_type": "stream",
     "text": [
      "Error scraping url https://batdongsan.com.vn/cho-thue-can-ho-chung-cu-duong-nguyen-huu-tho-phuong-tan-hung-14-prj-sunrise-city/du-an-t-quan-7-chi-minh-pr40808276: 're__icon-front-view'\n",
      "Using Chrome with user agent: Mozilla/5.0 (Macintosh; Intel Mac OS X 10_15_7) AppleWebKit/537.36 (KHTML, like Gecko) Chrome/100.0.4896.127 Safari/537.36\n",
      "Error scraping url https://batdongsan.com.vn/cho-thue-can-ho-chung-cu-mini-duong-le-van-sy-phuong-1-23/c-day-du-noi-that-co-dupx-pr42303506: 're__icon-clock'\n"
     ]
    },
    {
     "name": "stderr",
     "output_type": "stream",
     "text": [
      "Processing batches:   2%|▏         | 21/1161 [01:35<1:35:40,  5.04s/it]"
     ]
    },
    {
     "name": "stdout",
     "output_type": "stream",
     "text": [
      "Error scraping url https://batdongsan.com.vn/cho-thue-can-ho-chung-cu-pho-ton-duc-thang-phuong-ben-nghe-prj-vinhomes-golden-river-ba-son/-cao-cap-c-tai-vinmes-bason-quan-1-trung-tam-thanh-p-lh-vo-pr42750362: 're__icon-electricity'\n",
      "First method failed: Message: Service /Users/macbook/Library/Application Support/undetected_chromedriver/undetected_chromedriver unexpectedly exited. Status code was: -9\n",
      "\n",
      "Using Chrome driver at: /Users/macbook/.wdm/drivers/chromedriver/mac64/135.0.7049.95/chromedriver-mac-arm64/chromedriver\n",
      "Second method failed: you cannot reuse the ChromeOptions object\n",
      "Using Chrome with user agent: Mozilla/5.0 (Macintosh; Intel Mac OS X 10_15_7) AppleWebKit/537.36 (KHTML, like Gecko) Chrome/99.0.4844.84 Safari/537.36\n"
     ]
    },
    {
     "name": "stderr",
     "output_type": "stream",
     "text": [
      "Processing batches:   2%|▏         | 22/1161 [01:42<1:50:25,  5.82s/it]"
     ]
    },
    {
     "name": "stdout",
     "output_type": "stream",
     "text": [
      "Error scraping url https://batdongsan.com.vn/cho-thue-can-ho-chung-cu-mini-duong-nguyen-thai-binh-phuong-12-10/he-tng-1pn-2pn-studio-tan-san-bay-k300-etown-q10-q3-tan-phu-pr42746062: 're__icon-front-view'\n",
      "Using Chrome with user agent: Mozilla/5.0 (Macintosh; Intel Mac OS X 10_15_7) AppleWebKit/537.36 (KHTML, like Gecko) Chrome/100.0.4896.127 Safari/537.36\n",
      "All Chrome initialization methods failed: Message: Can not connect to the Service /Users/macbook/.wdm/drivers/chromedriver/mac64/135.0.7049.95/chromedriver-mac-arm64/chromedriver\n",
      "\n"
     ]
    },
    {
     "name": "stderr",
     "output_type": "stream",
     "text": [
      "Processing batches:   2%|▏         | 23/1161 [01:54<2:23:17,  7.55s/it]"
     ]
    },
    {
     "name": "stdout",
     "output_type": "stream",
     "text": [
      "Error scraping url https://batdongsan.com.vn/cho-thue-can-ho-chung-cu-duong-nguyen-van-linh-phuong-tan-phong-9-prj-lavida-plus/-2pn-view-song-huong-dn-tang-dep-full-noi-that-xin-dep-nha-moi-100-pr42744376: 're__icon-front-view'\n",
      "Using Chrome with user agent: Mozilla/5.0 (Macintosh; Intel Mac OS X 10_15_7) AppleWebKit/537.36 (KHTML, like Gecko) Chrome/100.0.4896.127 Safari/537.36\n"
     ]
    },
    {
     "name": "stderr",
     "output_type": "stream",
     "text": [
      "Processing batches:   2%|▏         | 24/1161 [02:08<3:01:28,  9.58s/it]"
     ]
    },
    {
     "name": "stdout",
     "output_type": "stream",
     "text": [
      "All Chrome initialization methods failed: Message: Can not connect to the Service /Users/macbook/.wdm/drivers/chromedriver/mac64/135.0.7049.95/chromedriver-mac-arm64/chromedriver\n",
      "\n",
      "Error processing batch ['https://batdongsan.com.vn/cho-thue-can-ho-chung-cu-mini-duong-nguyen-van-dau-phuong-5-14/-studio-ban-cong-ngay-c-cay-queo-full-noi-that-dep-gia-5-trieu-pr42747803']: cannot access local variable 'url' where it is not associated with a value\n",
      "Using Chrome with user agent: Mozilla/5.0 (Macintosh; Intel Mac OS X 10_15_7) AppleWebKit/537.36 (KHTML, like Gecko) Chrome/99.0.4844.84 Safari/537.36\n"
     ]
    },
    {
     "name": "stderr",
     "output_type": "stream",
     "text": [
      "Processing batches:   2%|▏         | 25/1161 [02:24<3:34:34, 11.33s/it]"
     ]
    },
    {
     "name": "stdout",
     "output_type": "stream",
     "text": [
      "Error scraping url https://batdongsan.com.vn/cho-thue-can-ho-chung-cu-duong-n1-phuong-son-ky-prj-celadon-city/c-topaz-ruby-emerald-diamond-1pn-2pn-3pn-gia-chi-7trieu-c-1pn-2pn-68m-9-5tr-pr39173526: 're__icon-front-view'\n",
      "Using Chrome with user agent: Mozilla/5.0 (Macintosh; Intel Mac OS X 10_15_7) AppleWebKit/537.36 (KHTML, like Gecko) Chrome/99.0.4844.84 Safari/537.36\n"
     ]
    },
    {
     "name": "stderr",
     "output_type": "stream",
     "text": [
      "Processing batches:   2%|▏         | 26/1161 [02:32<3:16:51, 10.41s/it]"
     ]
    },
    {
     "name": "stdout",
     "output_type": "stream",
     "text": [
      "Error scraping url https://batdongsan.com.vn/cho-thue-nha-tro-phong-tro-duong-nguyen-tu-gian-phuong-12-8/-studio-cua-so-decor-doc-la-full-noi-that-go-vap-pr42083400: 're__icon-road'\n",
      "Using Chrome with user agent: Mozilla/5.0 (Macintosh; Intel Mac OS X 10_15_7) AppleWebKit/537.36 (KHTML, like Gecko) Chrome/100.0.4896.127 Safari/537.36\n"
     ]
    },
    {
     "name": "stderr",
     "output_type": "stream",
     "text": [
      "Processing batches:   2%|▏         | 27/1161 [02:41<3:07:59,  9.95s/it]"
     ]
    },
    {
     "name": "stdout",
     "output_type": "stream",
     "text": [
      "Error scraping url https://batdongsan.com.vn/cho-thue-can-ho-chung-cu-duong-mai-chi-tho-phuong-binh-khanh-prj-new-city-thu-thiem/-update-12-10-tong-p-c-tot-nhat-thi-truong-l-1-3pn-lh-pr41191773: 're__icon-document'\n",
      "Using Chrome with user agent: Mozilla/5.0 (Windows NT 10.0; Win64; x64) AppleWebKit/537.36 (KHTML, like Gecko) Chrome/100.0.4896.127 Safari/537.36\n"
     ]
    },
    {
     "name": "stderr",
     "output_type": "stream",
     "text": [
      "Service process refused to terminate gracefully with SIGTERM, escalating to SIGKILL.\n",
      "Traceback (most recent call last):\n",
      "  File \"/Users/macbook/Desktop/BecasaNetwork/crawl/scrapepage.py\", line 132, in init_driver\n",
      "    driver = uc.Chrome(version_main=135, options=options)  # Specify a version that works with your Chrome\n",
      "  File \"/Users/macbook/Desktop/BecasaNetwork/crawl/env/lib/python3.13/site-packages/undetected_chromedriver/__init__.py\", line 466, in __init__\n",
      "    super(Chrome, self).__init__(\n",
      "    ~~~~~~~~~~~~~~~~~~~~~~~~~~~~^\n",
      "        service=service,\n",
      "        ^^^^^^^^^^^^^^^^\n",
      "        options=options,\n",
      "        ^^^^^^^^^^^^^^^^\n",
      "        keep_alive=keep_alive,\n",
      "        ^^^^^^^^^^^^^^^^^^^^^^\n",
      "    )\n",
      "    ^\n",
      "  File \"/Users/macbook/Desktop/BecasaNetwork/crawl/env/lib/python3.13/site-packages/selenium/webdriver/chrome/webdriver.py\", line 45, in __init__\n",
      "    super().__init__(\n",
      "    ~~~~~~~~~~~~~~~~^\n",
      "        browser_name=DesiredCapabilities.CHROME[\"browserName\"],\n",
      "        ^^^^^^^^^^^^^^^^^^^^^^^^^^^^^^^^^^^^^^^^^^^^^^^^^^^^^^^\n",
      "    ...<3 lines>...\n",
      "        keep_alive=keep_alive,\n",
      "        ^^^^^^^^^^^^^^^^^^^^^^\n",
      "    )\n",
      "    ^\n",
      "  File \"/Users/macbook/Desktop/BecasaNetwork/crawl/env/lib/python3.13/site-packages/selenium/webdriver/chromium/webdriver.py\", line 55, in __init__\n",
      "    self.service.start()\n",
      "    ~~~~~~~~~~~~~~~~~~^^\n",
      "  File \"/Users/macbook/Desktop/BecasaNetwork/crawl/env/lib/python3.13/site-packages/selenium/webdriver/common/service.py\", line 113, in start\n",
      "    self.assert_process_still_running()\n",
      "    ~~~~~~~~~~~~~~~~~~~~~~~~~~~~~~~~~^^\n",
      "  File \"/Users/macbook/Desktop/BecasaNetwork/crawl/env/lib/python3.13/site-packages/selenium/webdriver/common/service.py\", line 126, in assert_process_still_running\n",
      "    raise WebDriverException(f\"Service {self._path} unexpectedly exited. Status code was: {return_code}\")\n",
      "selenium.common.exceptions.WebDriverException: Message: Service /Users/macbook/Library/Application Support/undetected_chromedriver/undetected_chromedriver unexpectedly exited. Status code was: -9\n",
      "\n",
      "\n",
      "During handling of the above exception, another exception occurred:\n",
      "\n",
      "Traceback (most recent call last):\n",
      "  File \"/Users/macbook/Desktop/BecasaNetwork/crawl/scrapepage.py\", line 139, in init_driver\n",
      "    driver = uc.Chrome(driver_executable_path=driver_path, options=options)\n",
      "  File \"/Users/macbook/Desktop/BecasaNetwork/crawl/env/lib/python3.13/site-packages/undetected_chromedriver/__init__.py\", line 269, in __init__\n",
      "    raise RuntimeError(\"you cannot reuse the ChromeOptions object\")\n",
      "RuntimeError: you cannot reuse the ChromeOptions object\n",
      "\n",
      "During handling of the above exception, another exception occurred:\n",
      "\n",
      "Traceback (most recent call last):\n",
      "  File \"/Users/macbook/Desktop/BecasaNetwork/crawl/scrapepage.py\", line 166, in scrape_page\n",
      "    driver = init_driver()\n",
      "  File \"/Users/macbook/Desktop/BecasaNetwork/crawl/scrapepage.py\", line 147, in init_driver\n",
      "    driver = webdriver.Chrome(service=service, options=options)\n",
      "  File \"/Users/macbook/Desktop/BecasaNetwork/crawl/env/lib/python3.13/site-packages/selenium/webdriver/chrome/webdriver.py\", line 45, in __init__\n",
      "    super().__init__(\n",
      "    ~~~~~~~~~~~~~~~~^\n",
      "        browser_name=DesiredCapabilities.CHROME[\"browserName\"],\n",
      "        ^^^^^^^^^^^^^^^^^^^^^^^^^^^^^^^^^^^^^^^^^^^^^^^^^^^^^^^\n",
      "    ...<3 lines>...\n",
      "        keep_alive=keep_alive,\n",
      "        ^^^^^^^^^^^^^^^^^^^^^^\n",
      "    )\n",
      "    ^\n",
      "  File \"/Users/macbook/Desktop/BecasaNetwork/crawl/env/lib/python3.13/site-packages/selenium/webdriver/chromium/webdriver.py\", line 55, in __init__\n",
      "    self.service.start()\n",
      "    ~~~~~~~~~~~~~~~~~~^^\n",
      "  File \"/Users/macbook/Desktop/BecasaNetwork/crawl/env/lib/python3.13/site-packages/selenium/webdriver/common/service.py\", line 120, in start\n",
      "    raise WebDriverException(f\"Can not connect to the Service {self._path}\")\n",
      "selenium.common.exceptions.WebDriverException: Message: Can not connect to the Service /Users/macbook/.wdm/drivers/chromedriver/mac64/135.0.7049.95/chromedriver-mac-arm64/chromedriver\n",
      "\n",
      "\n",
      "During handling of the above exception, another exception occurred:\n",
      "\n",
      "UnboundLocalError: cannot access local variable 'url' where it is not associated with a value\n",
      "\n",
      "During handling of the above exception, another exception occurred:\n",
      "\n",
      "Traceback (most recent call last):\n",
      "  File \"/Users/macbook/Desktop/BecasaNetwork/crawl/env/lib/python3.13/site-packages/selenium/webdriver/common/service.py\", line 184, in _terminate_process\n",
      "    self.process.wait(60)\n",
      "    ~~~~~~~~~~~~~~~~~^^^^\n",
      "  File \"/opt/homebrew/Cellar/python@3.13/3.13.2/Frameworks/Python.framework/Versions/3.13/lib/python3.13/subprocess.py\", line 1276, in wait\n",
      "    return self._wait(timeout=timeout)\n",
      "           ~~~~~~~~~~^^^^^^^^^^^^^^^^^\n",
      "  File \"/opt/homebrew/Cellar/python@3.13/3.13.2/Frameworks/Python.framework/Versions/3.13/lib/python3.13/subprocess.py\", line 2060, in _wait\n",
      "    raise TimeoutExpired(self.args, timeout)\n",
      "subprocess.TimeoutExpired: Command '['/Users/macbook/.wdm/drivers/chromedriver/mac64/135.0.7049.95/chromedriver-mac-arm64/chromedriver', '--port=63762']' timed out after 60 seconds\n",
      "Processing batches:   2%|▏         | 28/1161 [02:46<2:40:05,  8.48s/it]"
     ]
    },
    {
     "name": "stdout",
     "output_type": "stream",
     "text": [
      "Error processing batch ['https://batdongsan.com.vn/cho-thue-can-ho-chung-cu-mini-pho-nguyen-thien-thuat-phuong-2-14/c-1-png-ngu-ban-cong-khu-vuc-yen-tinh-gan-c-ban-co-cc-q3-pr42753106']: cannot access local variable 'url' where it is not associated with a value\n"
     ]
    },
    {
     "name": "stderr",
     "output_type": "stream",
     "text": [
      "Processing batches:   2%|▏         | 29/1161 [02:49<2:09:08,  6.84s/it]"
     ]
    },
    {
     "name": "stdout",
     "output_type": "stream",
     "text": [
      "Error scraping url https://batdongsan.com.vn/cho-thue-can-ho-chung-cu-mini-duong-nguyen-thi-minh-khai-phuong-da-kao/cho-1-pn-ban-cong-tai-15-trieu-th-pr41352902: 're__icon-private-house'\n",
      "Using Chrome with user agent: Mozilla/5.0 (Macintosh; Intel Mac OS X 10_15_7) AppleWebKit/537.36 (KHTML, like Gecko) Chrome/100.0.4896.127 Safari/537.36\n",
      "Using Chrome with user agent: Mozilla/5.0 (Macintosh; Intel Mac OS X 10_15_7) AppleWebKit/537.36 (KHTML, like Gecko) Chrome/100.0.4896.127 Safari/537.36\n",
      "Error scraping url https://batdongsan.com.vn/cho-thue-can-ho-chung-cu-duong-pham-van-nghi-phuong-tan-phong-9-prj-sky-garden-3/cho-cc-3-12-trieu-77m2-2pn-2wc-cuc-re-o-q7-hcm-pr42732650: 're__icon-private-house'\n"
     ]
    },
    {
     "name": "stderr",
     "output_type": "stream",
     "text": [
      "Processing batches:   3%|▎         | 30/1161 [02:57<2:17:08,  7.28s/it]"
     ]
    },
    {
     "name": "stdout",
     "output_type": "stream",
     "text": [
      "Error scraping url https://batdongsan.com.vn/cho-thue-can-ho-chung-cu-mini-duong-no-trang-long-phuong-12-7/he-thong-chdv-moi-100-thang-may-ham-xe-bao-ve-full-noi-that-gia-chi-tu-5tr9-pr42182315: 're__icon-clock'\n"
     ]
    },
    {
     "name": "stderr",
     "output_type": "stream",
     "text": [
      "Processing batches:   3%|▎         | 31/1161 [02:59<1:45:52,  5.62s/it]"
     ]
    },
    {
     "name": "stdout",
     "output_type": "stream",
     "text": [
      "Error scraping url https://batdongsan.com.vn/cho-thue-can-ho-chung-cu-mini-duong-lam-van-ben-phuong-tan-kieng-prj-my-phu-apartment/-quan-7-studio-dich-vu-tai-tang-pentuse-pr42764000: HTTPConnectionPool(host='localhost', port=64097): Read timed out. (read timeout=120)\n"
     ]
    },
    {
     "name": "stderr",
     "output_type": "stream",
     "text": [
      "Processing batches:   3%|▎         | 32/1161 [03:00<1:18:04,  4.15s/it]"
     ]
    },
    {
     "name": "stdout",
     "output_type": "stream",
     "text": [
      "Using Chrome with user agent: Mozilla/5.0 (Macintosh; Intel Mac OS X 10_15_7) AppleWebKit/537.36 (KHTML, like Gecko) Chrome/100.0.4896.127 Safari/537.36\n",
      "Using Chrome with user agent: Mozilla/5.0 (Macintosh; Intel Mac OS X 10_15_7) AppleWebKit/537.36 (KHTML, like Gecko) Chrome/100.0.4896.127 Safari/537.36\n",
      "Using Chrome with user agent: Mozilla/5.0 (Macintosh; Intel Mac OS X 10_15_7) AppleWebKit/537.36 (KHTML, like Gecko) Chrome/100.0.4896.127 Safari/537.36\n",
      "Error scraping url https://batdongsan.com.vn/cho-thue-can-ho-chung-cu-duong-an-duong-vuong-phuong-an-lac-6-prj-the-privia/cho-ch-mien-phi-q-ly-12th-1pn-51m-7-5tr-2pn-69m-8-5tr-3pn-83m-11tr-pr41678985: 're__icon-document'\n"
     ]
    },
    {
     "name": "stderr",
     "output_type": "stream",
     "text": [
      "Processing batches:   3%|▎         | 34/1161 [03:08<1:16:55,  4.10s/it]"
     ]
    },
    {
     "name": "stdout",
     "output_type": "stream",
     "text": [
      "Error scraping url https://batdongsan.com.vn/cho-thue-can-ho-chung-cu-duong-nguyen-tat-thanh-phuong-18-prj-can-ho-riva-park/c-ntt-quan-4-dep-gia-re-pr39123231: 're__icon-document'\n",
      "Using Chrome with user agent: Mozilla/5.0 (Windows NT 10.0; Win64; x64) AppleWebKit/537.36 (KHTML, like Gecko) Chrome/100.0.4896.127 Safari/537.36\n",
      "Error scraping url https://batdongsan.com.vn/cho-thue-nha-tro-phong-tro-phuong-truong-tho-2/cho-12m2-tai-thu-duc-ho-chi-minh-gia-a-thuan-pr42721495: 're__icon-document'\n"
     ]
    },
    {
     "name": "stderr",
     "output_type": "stream",
     "text": [
      "Processing batches:   3%|▎         | 35/1161 [03:12<1:14:23,  3.96s/it]"
     ]
    },
    {
     "name": "stdout",
     "output_type": "stream",
     "text": [
      "Using Chrome with user agent: Mozilla/5.0 (Macintosh; Intel Mac OS X 10_15_7) AppleWebKit/537.36 (KHTML, like Gecko) Chrome/100.0.4896.127 Safari/537.36\n",
      "Using Chrome with user agent: Mozilla/5.0 (Windows NT 10.0; Win64; x64) AppleWebKit/537.36 (KHTML, like Gecko) Chrome/99.0.4844.84 Safari/537.36\n",
      "Error scraping url https://batdongsan.com.vn/cho-thue-can-ho-chung-cu-duong-pham-van-nghi-phuong-tan-phong-9-prj-sky-garden-3/c-2pn-2wc-74m-3-phu-my-hung-q-7-gia-16tr-thang-pr42720583: 're__icon-electricity'\n"
     ]
    },
    {
     "name": "stderr",
     "output_type": "stream",
     "text": [
      "Processing batches:   3%|▎         | 36/1161 [03:20<1:38:51,  5.27s/it]"
     ]
    },
    {
     "name": "stdout",
     "output_type": "stream",
     "text": [
      "Error scraping url https://batdongsan.com.vn/cho-thue-can-ho-chung-cu-phuong-long-thanh-my-prj-vinhomes-grand-park/gia-cuc-uu-dai-cho-1pn-full-nt-chi-6tr5-khong-gian-song-thoai-mai-day-du-tien-nghi-pr42553299: 're__icon-private-house'\n"
     ]
    },
    {
     "name": "stderr",
     "output_type": "stream",
     "text": [
      "Processing batches:   3%|▎         | 37/1161 [03:21<1:14:28,  3.98s/it]"
     ]
    },
    {
     "name": "stdout",
     "output_type": "stream",
     "text": [
      "Using Chrome with user agent: Mozilla/5.0 (Windows NT 10.0; Win64; x64) AppleWebKit/537.36 (KHTML, like Gecko) Chrome/100.0.4896.127 Safari/537.36\n",
      "Using Chrome with user agent: Mozilla/5.0 (Macintosh; Intel Mac OS X 10_15_7) AppleWebKit/537.36 (KHTML, like Gecko) Chrome/99.0.4844.84 Safari/537.36\n",
      "Error scraping url https://batdongsan.com.vn/cho-thue-can-ho-chung-cu-duong-nguyen-duy-trinh-phuong-long-truong-prj-long-truong-riverside/chu-nha-c-moi-100-chi-5-trieu-vao-o-ngay-lh-pr42718962: 're__icon-front-view'\n"
     ]
    },
    {
     "name": "stderr",
     "output_type": "stream",
     "text": [
      "Processing batches:   3%|▎         | 38/1161 [03:34<2:05:12,  6.69s/it]"
     ]
    },
    {
     "name": "stdout",
     "output_type": "stream",
     "text": [
      "Using Chrome with user agent: Mozilla/5.0 (Macintosh; Intel Mac OS X 10_15_7) AppleWebKit/537.36 (KHTML, like Gecko) Chrome/99.0.4844.84 Safari/537.36\n",
      "Error scraping url https://batdongsan.com.vn/cho-thue-can-ho-chung-cu-mini-duong-thao-dien-phuong-thao-dien/brand-new-2-png-ngu-2-png-tam-full-noi-that-cao-cap-chi-17tr-pr42715344: 're__icon-clock'\n"
     ]
    },
    {
     "name": "stderr",
     "output_type": "stream",
     "text": [
      "Processing batches:   3%|▎         | 39/1161 [03:46<2:33:50,  8.23s/it]"
     ]
    },
    {
     "name": "stdout",
     "output_type": "stream",
     "text": [
      "Using Chrome with user agent: Mozilla/5.0 (Windows NT 10.0; Win64; x64) AppleWebKit/537.36 (KHTML, like Gecko) Chrome/99.0.4844.84 Safari/537.36\n"
     ]
    },
    {
     "name": "stderr",
     "output_type": "stream",
     "text": [
      "Processing batches:   3%|▎         | 40/1161 [03:58<2:54:55,  9.36s/it]"
     ]
    },
    {
     "name": "stdout",
     "output_type": "stream",
     "text": [
      "Error scraping url https://batdongsan.com.vn/cho-thue-can-ho-chung-cu-pho-ton-duc-thang-phuong-ben-nghe-prj-vinhomes-golden-river-ba-son/c-1pn-1wc-vinmes-gia-sieu-i-chi-voi-18-trieu-52-m2-pr42619102: 're__icon-front-view'\n",
      "Using Chrome with user agent: Mozilla/5.0 (Macintosh; Intel Mac OS X 10_15_7) AppleWebKit/537.36 (KHTML, like Gecko) Chrome/100.0.4896.127 Safari/537.36\n",
      "Error scraping url https://batdongsan.com.vn/cho-thue-can-ho-chung-cu-duong-d2a-phuong-long-binh-3-prj-masteri-centre-point/chinh-chu-c-chi-12-trieu-thang-day-du-noi-that-moi-100-pr42710285: 're__icon-private-house'\n"
     ]
    },
    {
     "name": "stderr",
     "output_type": "stream",
     "text": [
      "Processing batches:   4%|▎         | 41/1161 [04:02<2:26:26,  7.85s/it]"
     ]
    },
    {
     "name": "stdout",
     "output_type": "stream",
     "text": [
      "Using Chrome with user agent: Mozilla/5.0 (Windows NT 10.0; Win64; x64) AppleWebKit/537.36 (KHTML, like Gecko) Chrome/100.0.4896.127 Safari/537.36\n"
     ]
    },
    {
     "name": "stderr",
     "output_type": "stream",
     "text": [
      "Processing batches:   4%|▎         | 42/1161 [04:08<2:12:53,  7.13s/it]"
     ]
    },
    {
     "name": "stdout",
     "output_type": "stream",
     "text": [
      "Error scraping url https://batdongsan.com.vn/cho-thue-nha-tro-phong-tro-duong-bui-dinh-tuy-phuong-12-7/cho-studio-co-ban-cong-full-noi-that-chi-sach-vali-vao-o-may-giat-rieng-gan-cho-ba-chieu-pr42709139: 're__icon-front-view'\n"
     ]
    },
    {
     "name": "stderr",
     "output_type": "stream",
     "text": [
      "Processing batches:   4%|▎         | 43/1161 [04:11<1:52:39,  6.05s/it]"
     ]
    },
    {
     "name": "stdout",
     "output_type": "stream",
     "text": [
      "Error scraping url https://batdongsan.com.vn/cho-thue-can-ho-chung-cu-mini-duong-huynh-tan-phat-phuong-tan-thuan-tay-1/-full-noi-that-mat-tien-quan-7-pr42705923: 're__icon-front-view'\n",
      "Using Chrome with user agent: Mozilla/5.0 (Macintosh; Intel Mac OS X 10_15_7) AppleWebKit/537.36 (KHTML, like Gecko) Chrome/100.0.4896.127 Safari/537.36\n",
      "Using Chrome with user agent: Mozilla/5.0 (Macintosh; Intel Mac OS X 10_15_7) AppleWebKit/537.36 (KHTML, like Gecko) Chrome/99.0.4844.84 Safari/537.36\n",
      "Error scraping url https://batdongsan.com.vn/cho-thue-can-ho-chung-cu-duong-so-6-phuong-hiep-binh-phuoc-prj-urban-green/chinh-chu-cho-goc-2pn-84m2-green-pr42686734: 're__icon-clock'\n"
     ]
    },
    {
     "name": "stderr",
     "output_type": "stream",
     "text": [
      "Processing batches:   4%|▍         | 44/1161 [04:20<2:07:32,  6.85s/it]"
     ]
    },
    {
     "name": "stdout",
     "output_type": "stream",
     "text": [
      "Using Chrome with user agent: Mozilla/5.0 (Windows NT 10.0; Win64; x64) AppleWebKit/537.36 (KHTML, like Gecko) Chrome/100.0.4896.127 Safari/537.36\n",
      "Error scraping url https://batdongsan.com.vn/cho-thue-nha-tro-phong-tro-duong-binh-loi-phuong-13-7/khai-truong-100-duplex-gac-cao-rong-30m2-gia-chi-tu-5tr5-thang-ngay-dh-van-lang-pr42149413: 're__icon-road'\n"
     ]
    },
    {
     "name": "stderr",
     "output_type": "stream",
     "text": [
      "Processing batches:   4%|▍         | 45/1161 [04:26<2:04:48,  6.71s/it]"
     ]
    },
    {
     "name": "stdout",
     "output_type": "stream",
     "text": [
      "Using Chrome with user agent: Mozilla/5.0 (Macintosh; Intel Mac OS X 10_15_7) AppleWebKit/537.36 (KHTML, like Gecko) Chrome/100.0.4896.127 Safari/537.36\n",
      "Error scraping url https://batdongsan.com.vn/cho-thue-can-ho-chung-cu-duong-tran-nhat-duat-phuong-tan-dinh-2/cho-4-phong-trong-mat-tien-td-q1-gia-23tr-cho-4pn-3wc-co-ban-cong-pr42685344: 're__icon-electricity'\n"
     ]
    },
    {
     "name": "stderr",
     "output_type": "stream",
     "text": [
      "Processing batches:   4%|▍         | 46/1161 [04:35<2:17:35,  7.40s/it]"
     ]
    },
    {
     "name": "stdout",
     "output_type": "stream",
     "text": [
      "Using Chrome with user agent: Mozilla/5.0 (Macintosh; Intel Mac OS X 10_15_7) AppleWebKit/537.36 (KHTML, like Gecko) Chrome/99.0.4844.84 Safari/537.36\n",
      "Error scraping url https://batdongsan.com.vn/cho-thue-can-ho-chung-cu-pho-ton-duc-thang-phuong-ben-nghe-prj-grand-marina-saigon/cho-cc-79-trieu-78m2-2pn-2wc-full-noi-that-view-song-pr42638361: 're__icon-front-view'\n",
      "Error scraping url https://batdongsan.com.vn/cho-thue-can-ho-chung-cu-duong-nguyen-van-huong-phuong-thao-dien-prj-hoang-anh-river-view/c-ang-riverview-quan-2-gia-18-15-tr-th-pr13768636: 're__icon-private-house'\n"
     ]
    },
    {
     "name": "stderr",
     "output_type": "stream",
     "text": [
      "Processing batches:   4%|▍         | 48/1161 [04:47<1:52:17,  6.05s/it]"
     ]
    },
    {
     "name": "stdout",
     "output_type": "stream",
     "text": [
      "First method failed: [Errno 2] No such file or directory: '/Users/macbook/Library/Application Support/undetected_chromedriver/undetected/chromedriver-mac-x64/chromedriver' -> '/Users/macbook/Library/Application Support/undetected_chromedriver/undetected_chromedriver'\n",
      "Using Chrome driver at: /Users/macbook/.wdm/drivers/chromedriver/mac64/135.0.7049.95/chromedriver-mac-arm64/chromedriver\n"
     ]
    },
    {
     "name": "stderr",
     "output_type": "stream",
     "text": [
      "could not detect version_main.therefore, we are assuming it is chrome 108 or higher\n"
     ]
    },
    {
     "name": "stdout",
     "output_type": "stream",
     "text": [
      "Error scraping url https://batdongsan.com.vn/cho-thue-can-ho-chung-cu-duong-nguyen-huu-tho-phuong-tan-hung-14-prj-sunrise-city/cho-thiet-ke-1pn-1wc-dt-56m2-nha-dep-don-vao-lien-pr42741549: 're__icon-front-view'\n"
     ]
    },
    {
     "name": "stderr",
     "output_type": "stream",
     "text": [
      "Processing batches:   4%|▍         | 49/1161 [04:56<2:10:20,  7.03s/it]"
     ]
    },
    {
     "name": "stdout",
     "output_type": "stream",
     "text": [
      "Using Chrome with user agent: Mozilla/5.0 (Windows NT 10.0; Win64; x64) AppleWebKit/537.36 (KHTML, like Gecko) Chrome/100.0.4896.127 Safari/537.36\n",
      "Error scraping url https://batdongsan.com.vn/cho-thue-can-ho-chung-cu-mini-duong-le-van-sy-phuong-13-1/studio-cua-so-troi-lon-full-noi-that-tach-bep-thang-may-giam-con-6-xtr-pr41555414: 're__icon-front-view'\n"
     ]
    },
    {
     "name": "stderr",
     "output_type": "stream",
     "text": [
      "Processing batches:   4%|▍         | 50/1161 [05:04<2:12:20,  7.15s/it]"
     ]
    },
    {
     "name": "stdout",
     "output_type": "stream",
     "text": [
      "Using Chrome with user agent: Mozilla/5.0 (Windows NT 10.0; Win64; x64) AppleWebKit/537.36 (KHTML, like Gecko) Chrome/100.0.4896.127 Safari/537.36\n",
      "First method failed: Message: Can not connect to the Service /Users/macbook/Library/Application Support/undetected_chromedriver/undetected_chromedriver\n",
      "\n",
      "Using Chrome driver at: /Users/macbook/.wdm/drivers/chromedriver/mac64/135.0.7049.95/chromedriver-mac-arm64/chromedriver\n",
      "Second method failed: you cannot reuse the ChromeOptions object\n",
      "Error scraping url https://batdongsan.com.vn/cho-thue-can-ho-chung-cu-duong-nguyen-thi-thap-phuong-tan-phu-19-prj-can-ho-cosmo-city/c-quan-7-full-noi-that-dep-gia-25tr-thang-3pn-2wc-nha-trong-o-ngay-pr38604312: 're__icon-private-house'\n"
     ]
    },
    {
     "name": "stderr",
     "output_type": "stream",
     "text": [
      "Processing batches:   4%|▍         | 51/1161 [05:22<3:12:38, 10.41s/it]"
     ]
    },
    {
     "name": "stdout",
     "output_type": "stream",
     "text": [
      "Second method failed: Message: Can not connect to the Service /Users/macbook/.wdm/drivers/chromedriver/mac64/135.0.7049.95/chromedriver-mac-arm64/chromedriver\n",
      "\n",
      "Using Chrome with user agent: Mozilla/5.0 (Macintosh; Intel Mac OS X 10_15_7) AppleWebKit/537.36 (KHTML, like Gecko) Chrome/99.0.4844.84 Safari/537.36\n",
      "Error scraping url https://batdongsan.com.vn/cho-thue-can-ho-chung-cu-duong-ben-van-don-phuong-12-prj-the-tresor/30-dep-gia-tot-studio-11tr-1pn-16tr-2pn-20tr-3pn-26tr-t01-2023-pkd-0939-60-90-11-pr36338240: HTTPConnectionPool(host='localhost', port=51083): Read timed out. (read timeout=120)\n"
     ]
    },
    {
     "name": "stderr",
     "output_type": "stream",
     "text": [
      "Processing batches:   4%|▍         | 52/1161 [05:33<3:16:35, 10.64s/it]"
     ]
    },
    {
     "name": "stdout",
     "output_type": "stream",
     "text": [
      "Using Chrome with user agent: Mozilla/5.0 (Macintosh; Intel Mac OS X 10_15_7) AppleWebKit/537.36 (KHTML, like Gecko) Chrome/99.0.4844.84 Safari/537.36\n"
     ]
    },
    {
     "name": "stderr",
     "output_type": "stream",
     "text": [
      "Processing batches:   5%|▍         | 53/1161 [05:39<2:53:22,  9.39s/it]"
     ]
    },
    {
     "name": "stdout",
     "output_type": "stream",
     "text": [
      "Error scraping url https://batdongsan.com.vn/cho-thue-can-ho-chung-cu-duong-nguyen-huu-tho-phuong-tan-hung-14-prj-sunrise-city-view/c-cc-dep-tai-12-trieu-39m2-q7-hcm-pr41981266: 're__icon-front-view'\n",
      "Using Chrome with user agent: Mozilla/5.0 (Macintosh; Intel Mac OS X 10_15_7) AppleWebKit/537.36 (KHTML, like Gecko) Chrome/100.0.4896.127 Safari/537.36\n"
     ]
    },
    {
     "name": "stderr",
     "output_type": "stream",
     "text": [
      "Processing batches:   5%|▍         | 54/1161 [05:46<2:38:49,  8.61s/it]"
     ]
    },
    {
     "name": "stdout",
     "output_type": "stream",
     "text": [
      "Error scraping url https://batdongsan.com.vn/cho-thue-can-ho-chung-cu-duong-go-dua-phuong-hiep-binh-phuoc-prj-sunview-town/cho-ch-2pn-2wc-69m2-goc-full-nt-7tr5-thang-giao-nha-o-ngay-xem-nha-lh-pr42103649: 're__icon-front-view'\n",
      "Using Chrome with user agent: Mozilla/5.0 (Windows NT 10.0; Win64; x64) AppleWebKit/537.36 (KHTML, like Gecko) Chrome/99.0.4844.84 Safari/537.36\n"
     ]
    },
    {
     "name": "stderr",
     "output_type": "stream",
     "text": [
      "Processing batches:   5%|▍         | 55/1161 [05:52<2:23:25,  7.78s/it]"
     ]
    },
    {
     "name": "stdout",
     "output_type": "stream",
     "text": [
      "Error scraping url https://batdongsan.com.vn/cho-thue-nha-tro-phong-tro-duong-ngo-quyen-phuong-8-10/gia-tot-cho-ban-cong-cua-so-full-noi-that-ngay-gan-dai-hoc-ueh-q10-pr42747918: 're__icon-clock'\n",
      "All Chrome initialization methods failed: Message: Can not connect to the Service /Users/macbook/.wdm/drivers/chromedriver/mac64/135.0.7049.95/chromedriver-mac-arm64/chromedriver\n",
      "\n"
     ]
    },
    {
     "name": "stderr",
     "output_type": "stream",
     "text": [
      "Processing batches:   5%|▍         | 56/1161 [05:55<1:56:41,  6.34s/it]"
     ]
    },
    {
     "name": "stdout",
     "output_type": "stream",
     "text": [
      "All Chrome initialization methods failed: Message: Can not connect to the Service /Users/macbook/.wdm/drivers/chromedriver/mac64/135.0.7049.95/chromedriver-mac-arm64/chromedriver\n",
      "\n",
      "Error processing batch ['https://batdongsan.com.vn/cho-thue-can-ho-chung-cu-duong-ben-van-don-phuong-1-prj-the-gold-view/c-cao-cap-quan-4-3pn-25trieu-thang-pr41930590']: cannot access local variable 'url' where it is not associated with a value\n",
      "Using Chrome with user agent: Mozilla/5.0 (Macintosh; Intel Mac OS X 10_15_7) AppleWebKit/537.36 (KHTML, like Gecko) Chrome/99.0.4844.84 Safari/537.36\n",
      "Using Chrome with user agent: Mozilla/5.0 (Windows NT 10.0; Win64; x64) AppleWebKit/537.36 (KHTML, like Gecko) Chrome/100.0.4896.127 Safari/537.36\n"
     ]
    },
    {
     "name": "stderr",
     "output_type": "stream",
     "text": [
      "Processing batches:   5%|▍         | 57/1161 [06:01<1:54:17,  6.21s/it]"
     ]
    },
    {
     "name": "stdout",
     "output_type": "stream",
     "text": [
      "Error scraping url https://batdongsan.com.vn/cho-thue-can-ho-chung-cu-duong-pham-van-dong-phuong-hiep-binh-chanh-prj-st-moritz-pham-van-dong/chinh-chu-cho-ch-nha-moi-co-noi-that-co-ban-tang-cao-view-dep-lh-0968364060-pr33021862: 're__icon-document'\n",
      "Using Chrome with user agent: Mozilla/5.0 (Macintosh; Intel Mac OS X 10_15_7) AppleWebKit/537.36 (KHTML, like Gecko) Chrome/100.0.4896.127 Safari/537.36\n",
      "Error scraping url https://batdongsan.com.vn/cho-thue-can-ho-chung-cu-duong-song-hanh-phuong-an-phu-prj-estella-heights/doc-quyen-danh-sach-15-3-phong-ngu-gia-1900usd-3500-usd-thang-pr36965791: 're__icon-front-view'\n"
     ]
    },
    {
     "name": "stderr",
     "output_type": "stream",
     "text": [
      "Processing batches:   5%|▍         | 58/1161 [06:08<1:59:22,  6.49s/it]"
     ]
    },
    {
     "name": "stdout",
     "output_type": "stream",
     "text": [
      "Error scraping url https://batdongsan.com.vn/cho-thue-can-ho-chung-cu-duong-so-6-phuong-hiep-binh-phuoc-prj-urban-green/c-2pn-83m2-view-2-boi-noi-khu-pr42610064: 're__icon-private-house'\n"
     ]
    },
    {
     "name": "stderr",
     "output_type": "stream",
     "text": [
      "Processing batches:   5%|▌         | 59/1161 [06:09<1:31:03,  4.96s/it]"
     ]
    },
    {
     "name": "stdout",
     "output_type": "stream",
     "text": [
      "Using Chrome with user agent: Mozilla/5.0 (Windows NT 10.0; Win64; x64) AppleWebKit/537.36 (KHTML, like Gecko) Chrome/100.0.4896.127 Safari/537.36\n",
      "Using Chrome with user agent: Mozilla/5.0 (Windows NT 10.0; Win64; x64) AppleWebKit/537.36 (KHTML, like Gecko) Chrome/99.0.4844.84 Safari/537.36\n",
      "Error scraping url https://batdongsan.com.vn/cho-thue-can-ho-chung-cu-duong-so-6-phuong-hiep-binh-phuoc-prj-urban-green/chinh-chu-c-gap-cao-cap-1-pn-thu-duc-gia-than-thien-pr42763081: 're__icon-front-view'\n"
     ]
    },
    {
     "name": "stderr",
     "output_type": "stream",
     "text": [
      "Processing batches:   5%|▌         | 61/1161 [06:18<1:25:05,  4.64s/it]"
     ]
    },
    {
     "name": "stdout",
     "output_type": "stream",
     "text": [
      "Error scraping url https://batdongsan.com.vn/cho-thue-can-ho-chung-cu-duong-nguyen-huu-tho-xa-phuoc-kieng-prj-sunrise-riverside/pkd-quan-ly-100-2pn-10tr-13tr-th-3pn-14-16tr-th-vao-o-duoc-lien-pr38833710: 're__icon-document'\n",
      "Using Chrome with user agent: Mozilla/5.0 (Windows NT 10.0; Win64; x64) AppleWebKit/537.36 (KHTML, like Gecko) Chrome/99.0.4844.84 Safari/537.36\n",
      "Using Chrome with user agent: Mozilla/5.0 (Macintosh; Intel Mac OS X 10_15_7) AppleWebKit/537.36 (KHTML, like Gecko) Chrome/99.0.4844.84 Safari/537.36\n"
     ]
    },
    {
     "name": "stderr",
     "output_type": "stream",
     "text": [
      "Processing batches:   5%|▌         | 62/1161 [06:28<1:53:54,  6.22s/it]"
     ]
    },
    {
     "name": "stdout",
     "output_type": "stream",
     "text": [
      "Error scraping url https://batdongsan.com.vn/cho-thue-can-ho-chung-cu-duong-pho-quang-phuong-2-22-prj-sky-center/c-37m2-9tr-thang-noi-that-co-ban-cam-ket-gia-that-kng-ao-pr42149953: 're__icon-electricity'\n",
      "Using Chrome with user agent: Mozilla/5.0 (Macintosh; Intel Mac OS X 10_15_7) AppleWebKit/537.36 (KHTML, like Gecko) Chrome/100.0.4896.127 Safari/537.36\n"
     ]
    },
    {
     "name": "stderr",
     "output_type": "stream",
     "text": [
      "Processing batches:   5%|▌         | 63/1161 [06:42<2:37:41,  8.62s/it]"
     ]
    },
    {
     "name": "stdout",
     "output_type": "stream",
     "text": [
      "Error scraping url https://batdongsan.com.vn/cho-thue-can-ho-chung-cu-duong-ben-van-don-phuong-12-prj-the-tresor/-sang-2pn-1wc-gia-17tr5-pr42717778: 're__icon-front-view'\n",
      "Using Chrome with user agent: Mozilla/5.0 (Windows NT 10.0; Win64; x64) AppleWebKit/537.36 (KHTML, like Gecko) Chrome/99.0.4844.84 Safari/537.36\n"
     ]
    },
    {
     "name": "stderr",
     "output_type": "stream",
     "text": [
      "Processing batches:   6%|▌         | 64/1161 [06:51<2:39:31,  8.73s/it]"
     ]
    },
    {
     "name": "stdout",
     "output_type": "stream",
     "text": [
      "Error scraping url https://batdongsan.com.vn/cho-thue-can-ho-chung-cu-duong-pham-van-nghi-phuong-tan-phong-9-prj-sky-garden-3/cho-2pn-2wc-3-gia-12-trieu-th-phu-my-hung-q-7-pr41424062: 're__icon-front-view'\n"
     ]
    },
    {
     "name": "stderr",
     "output_type": "stream",
     "text": [
      "Service process refused to terminate gracefully with SIGTERM, escalating to SIGKILL.\n",
      "Traceback (most recent call last):\n",
      "  File \"/Users/macbook/Desktop/BecasaNetwork/crawl/scrapepage.py\", line 132, in init_driver\n",
      "    driver = uc.Chrome(version_main=135, options=options)  # Specify a version that works with your Chrome\n",
      "  File \"/Users/macbook/Desktop/BecasaNetwork/crawl/env/lib/python3.13/site-packages/undetected_chromedriver/__init__.py\", line 466, in __init__\n",
      "    super(Chrome, self).__init__(\n",
      "    ~~~~~~~~~~~~~~~~~~~~~~~~~~~~^\n",
      "        service=service,\n",
      "        ^^^^^^^^^^^^^^^^\n",
      "        options=options,\n",
      "        ^^^^^^^^^^^^^^^^\n",
      "        keep_alive=keep_alive,\n",
      "        ^^^^^^^^^^^^^^^^^^^^^^\n",
      "    )\n",
      "    ^\n",
      "  File \"/Users/macbook/Desktop/BecasaNetwork/crawl/env/lib/python3.13/site-packages/selenium/webdriver/chrome/webdriver.py\", line 45, in __init__\n",
      "    super().__init__(\n",
      "    ~~~~~~~~~~~~~~~~^\n",
      "        browser_name=DesiredCapabilities.CHROME[\"browserName\"],\n",
      "        ^^^^^^^^^^^^^^^^^^^^^^^^^^^^^^^^^^^^^^^^^^^^^^^^^^^^^^^\n",
      "    ...<3 lines>...\n",
      "        keep_alive=keep_alive,\n",
      "        ^^^^^^^^^^^^^^^^^^^^^^\n",
      "    )\n",
      "    ^\n",
      "  File \"/Users/macbook/Desktop/BecasaNetwork/crawl/env/lib/python3.13/site-packages/selenium/webdriver/chromium/webdriver.py\", line 55, in __init__\n",
      "    self.service.start()\n",
      "    ~~~~~~~~~~~~~~~~~~^^\n",
      "  File \"/Users/macbook/Desktop/BecasaNetwork/crawl/env/lib/python3.13/site-packages/selenium/webdriver/common/service.py\", line 120, in start\n",
      "    raise WebDriverException(f\"Can not connect to the Service {self._path}\")\n",
      "selenium.common.exceptions.WebDriverException: Message: Can not connect to the Service /Users/macbook/Library/Application Support/undetected_chromedriver/undetected_chromedriver\n",
      "\n",
      "\n",
      "During handling of the above exception, another exception occurred:\n",
      "\n",
      "Traceback (most recent call last):\n",
      "  File \"/Users/macbook/Desktop/BecasaNetwork/crawl/scrapepage.py\", line 139, in init_driver\n",
      "    driver = uc.Chrome(driver_executable_path=driver_path, options=options)\n",
      "  File \"/Users/macbook/Desktop/BecasaNetwork/crawl/env/lib/python3.13/site-packages/undetected_chromedriver/__init__.py\", line 269, in __init__\n",
      "    raise RuntimeError(\"you cannot reuse the ChromeOptions object\")\n",
      "RuntimeError: you cannot reuse the ChromeOptions object\n",
      "\n",
      "During handling of the above exception, another exception occurred:\n",
      "\n",
      "Traceback (most recent call last):\n",
      "  File \"/Users/macbook/Desktop/BecasaNetwork/crawl/scrapepage.py\", line 166, in scrape_page\n",
      "    driver = init_driver()\n",
      "  File \"/Users/macbook/Desktop/BecasaNetwork/crawl/scrapepage.py\", line 147, in init_driver\n",
      "    driver = webdriver.Chrome(service=service, options=options)\n",
      "  File \"/Users/macbook/Desktop/BecasaNetwork/crawl/env/lib/python3.13/site-packages/selenium/webdriver/chrome/webdriver.py\", line 45, in __init__\n",
      "    super().__init__(\n",
      "    ~~~~~~~~~~~~~~~~^\n",
      "        browser_name=DesiredCapabilities.CHROME[\"browserName\"],\n",
      "        ^^^^^^^^^^^^^^^^^^^^^^^^^^^^^^^^^^^^^^^^^^^^^^^^^^^^^^^\n",
      "    ...<3 lines>...\n",
      "        keep_alive=keep_alive,\n",
      "        ^^^^^^^^^^^^^^^^^^^^^^\n",
      "    )\n",
      "    ^\n",
      "  File \"/Users/macbook/Desktop/BecasaNetwork/crawl/env/lib/python3.13/site-packages/selenium/webdriver/chromium/webdriver.py\", line 55, in __init__\n",
      "    self.service.start()\n",
      "    ~~~~~~~~~~~~~~~~~~^^\n",
      "  File \"/Users/macbook/Desktop/BecasaNetwork/crawl/env/lib/python3.13/site-packages/selenium/webdriver/common/service.py\", line 120, in start\n",
      "    raise WebDriverException(f\"Can not connect to the Service {self._path}\")\n",
      "selenium.common.exceptions.WebDriverException: Message: Can not connect to the Service /Users/macbook/.wdm/drivers/chromedriver/mac64/135.0.7049.95/chromedriver-mac-arm64/chromedriver\n",
      "\n",
      "\n",
      "During handling of the above exception, another exception occurred:\n",
      "\n",
      "UnboundLocalError: cannot access local variable 'url' where it is not associated with a value\n",
      "\n",
      "During handling of the above exception, another exception occurred:\n",
      "\n",
      "Traceback (most recent call last):\n",
      "  File \"/Users/macbook/Desktop/BecasaNetwork/crawl/env/lib/python3.13/site-packages/selenium/webdriver/common/service.py\", line 184, in _terminate_process\n",
      "    self.process.wait(60)\n",
      "    ~~~~~~~~~~~~~~~~~^^^^\n",
      "  File \"/opt/homebrew/Cellar/python@3.13/3.13.2/Frameworks/Python.framework/Versions/3.13/lib/python3.13/subprocess.py\", line 1276, in wait\n",
      "    return self._wait(timeout=timeout)\n",
      "           ~~~~~~~~~~^^^^^^^^^^^^^^^^^\n",
      "  File \"/opt/homebrew/Cellar/python@3.13/3.13.2/Frameworks/Python.framework/Versions/3.13/lib/python3.13/subprocess.py\", line 2060, in _wait\n",
      "    raise TimeoutExpired(self.args, timeout)\n",
      "subprocess.TimeoutExpired: Command '['/Users/macbook/.wdm/drivers/chromedriver/mac64/135.0.7049.95/chromedriver-mac-arm64/chromedriver', '--port=65371']' timed out after 60 seconds\n",
      "Processing batches:   6%|▌         | 65/1161 [06:54<2:07:39,  6.99s/it]"
     ]
    },
    {
     "name": "stdout",
     "output_type": "stream",
     "text": [
      "Using Chrome with user agent: Mozilla/5.0 (Macintosh; Intel Mac OS X 10_15_7) AppleWebKit/537.36 (KHTML, like Gecko) Chrome/99.0.4844.84 Safari/537.36\n",
      "Error processing batch ['https://batdongsan.com.vn/cho-thue-can-ho-chung-cu-duong-nguyen-van-linh-xa-binh-hung-1-prj-mizuki-park/c-c-flora-cho-2pn-2wc-gia-10tr-thang-bao-phi-quan-li-lh-0939-02-29-29-pr23985282']: cannot access local variable 'url' where it is not associated with a value\n",
      "Error scraping url https://batdongsan.com.vn/cho-thue-can-ho-chung-cu-duong-pham-van-nghi-phuong-tan-phong-9-prj-sky-garden-3/cho-gap-ch-3-1-1-trieu-vnd-57m2-q7-tp-hcm-pr42708363: 're__icon-front-view'\n"
     ]
    },
    {
     "name": "stderr",
     "output_type": "stream",
     "text": [
      "Processing batches:   6%|▌         | 66/1161 [06:58<1:46:49,  5.85s/it]"
     ]
    },
    {
     "name": "stdout",
     "output_type": "stream",
     "text": [
      "Using Chrome with user agent: Mozilla/5.0 (Windows NT 10.0; Win64; x64) AppleWebKit/537.36 (KHTML, like Gecko) Chrome/100.0.4896.127 Safari/537.36\n",
      "Using Chrome with user agent: Mozilla/5.0 (Windows NT 10.0; Win64; x64) AppleWebKit/537.36 (KHTML, like Gecko) Chrome/100.0.4896.127 Safari/537.36\n",
      "Error scraping url https://batdongsan.com.vn/cho-thue-can-ho-chung-cu-duong-huynh-tan-phat-phuong-tan-phu-19-prj-riviera-point/c-nhanh-q7-2pn-2w-nha-dep-gia-re-nhat-khu-vuc-lh-ms-ha-pr41207012: 're__icon-private-house'\n"
     ]
    },
    {
     "name": "stderr",
     "output_type": "stream",
     "text": [
      "Processing batches:   6%|▌         | 67/1161 [07:05<1:54:18,  6.27s/it]"
     ]
    },
    {
     "name": "stdout",
     "output_type": "stream",
     "text": [
      "Error scraping url https://batdongsan.com.vn/cho-thue-can-ho-chung-cu-mini-duong-3-2-2-phuong-12-5/-duplex-30m2-ban-cong-full-noi-that-tai-d-3-2-quan-10-pr42436893: 're__icon-clock'\n"
     ]
    },
    {
     "name": "stderr",
     "output_type": "stream",
     "text": [
      "Processing batches:   6%|▌         | 68/1161 [07:06<1:25:55,  4.72s/it]"
     ]
    },
    {
     "name": "stdout",
     "output_type": "stream",
     "text": [
      "Error scraping url https://batdongsan.com.vn/cho-thue-nha-tro-phong-tro-duong-xo-viet-nghe-tinh-phuong-15-5/-co-gac-full-cua-so-ngay-hem-277-tinh-pr42713210: 're__icon-road'\n"
     ]
    },
    {
     "name": "stderr",
     "output_type": "stream",
     "text": [
      "Processing batches:   6%|▌         | 69/1161 [07:09<1:15:26,  4.15s/it]"
     ]
    },
    {
     "name": "stdout",
     "output_type": "stream",
     "text": [
      "Using Chrome with user agent: Mozilla/5.0 (Windows NT 10.0; Win64; x64) AppleWebKit/537.36 (KHTML, like Gecko) Chrome/99.0.4844.84 Safari/537.36\n",
      "Using Chrome with user agent: Mozilla/5.0 (Macintosh; Intel Mac OS X 10_15_7) AppleWebKit/537.36 (KHTML, like Gecko) Chrome/100.0.4896.127 Safari/537.36\n",
      "Using Chrome with user agent: Mozilla/5.0 (Windows NT 10.0; Win64; x64) AppleWebKit/537.36 (KHTML, like Gecko) Chrome/99.0.4844.84 Safari/537.36\n",
      "Error scraping url https://batdongsan.com.vn/cho-thue-can-ho-chung-cu-duong-so-6-phuong-hiep-binh-phuoc-prj-urban-green/cho-2pn-2wc-huong-dong-bac-pr42578445: 're__icon-front-view'\n"
     ]
    },
    {
     "name": "stderr",
     "output_type": "stream",
     "text": [
      "Processing batches:   6%|▌         | 71/1161 [07:21<1:24:14,  4.64s/it]"
     ]
    },
    {
     "name": "stdout",
     "output_type": "stream",
     "text": [
      "Error scraping url https://batdongsan.com.vn/cho-thue-can-ho-chung-cu-duong-xa-lo-ha-noi-phuong-thao-dien-prj-masteri-thao-dien/cho-an-phu-3pn-co-day-du-that-gia-tot-chi-23-trieu-lh-trang-0909-950-204-pr37021288: 're__icon-front-view'\n",
      "Using Chrome with user agent: Mozilla/5.0 (Windows NT 10.0; Win64; x64) AppleWebKit/537.36 (KHTML, like Gecko) Chrome/100.0.4896.127 Safari/537.36\n",
      "Using Chrome with user agent: Mozilla/5.0 (Macintosh; Intel Mac OS X 10_15_7) AppleWebKit/537.36 (KHTML, like Gecko) Chrome/99.0.4844.84 Safari/537.36\n",
      "Error scraping url https://batdongsan.com.vn/cho-thue-nha-tro-phong-tro-phuong-phuoc-long-b-prj-river-park/cho-may-lanh-day-du-noi-that-tien-nghi-tai-kdc-vo-chi-cong-p-b-pr42577454: 're__icon-private-house'\n"
     ]
    },
    {
     "name": "stderr",
     "output_type": "stream",
     "text": [
      "Processing batches:   6%|▌         | 72/1161 [07:29<1:42:57,  5.67s/it]"
     ]
    },
    {
     "name": "stdout",
     "output_type": "stream",
     "text": [
      "Error scraping url https://batdongsan.com.vn/cho-thue-can-ho-chung-cu-duong-pho-quang-phuong-2-22-prj-sky-center/-c-gap-full-noi-that-1pn-11tr-thang-2pn-74m2-14tr-thang-vao-o-lien-pr38961822: 're__icon-electricity'\n"
     ]
    },
    {
     "name": "stderr",
     "output_type": "stream",
     "text": [
      "Processing batches:   6%|▋         | 73/1161 [07:30<1:16:42,  4.23s/it]"
     ]
    },
    {
     "name": "stdout",
     "output_type": "stream",
     "text": [
      "Using Chrome with user agent: Mozilla/5.0 (Macintosh; Intel Mac OS X 10_15_7) AppleWebKit/537.36 (KHTML, like Gecko) Chrome/99.0.4844.84 Safari/537.36\n",
      "Using Chrome with user agent: Mozilla/5.0 (Macintosh; Intel Mac OS X 10_15_7) AppleWebKit/537.36 (KHTML, like Gecko) Chrome/100.0.4896.127 Safari/537.36\n",
      "Error scraping url https://batdongsan.com.vn/cho-thue-can-ho-chung-cu-duong-nguyen-van-linh-phuong-tan-phong-9-prj-lavida-plus/cho-cc-q7-tp-hcm-10-trieu-vnd-53m2-nha-moi-100-pr42772028: 're__icon-water'\n"
     ]
    },
    {
     "name": "stderr",
     "output_type": "stream",
     "text": [
      "Processing batches:   6%|▋         | 74/1161 [07:35<1:21:37,  4.51s/it]"
     ]
    },
    {
     "name": "stdout",
     "output_type": "stream",
     "text": [
      "Error scraping url https://batdongsan.com.vn/cho-thue-can-ho-chung-cu-duong-nguyen-van-huong-phuong-thao-dien-prj-thao-dien-green/c-full-noi-that-view-dep-tai-62m2-mien-phi-quan-li-pr42667320: 're__icon-front-view'\n"
     ]
    },
    {
     "name": "stderr",
     "output_type": "stream",
     "text": [
      "Processing batches:   6%|▋         | 75/1161 [07:36<1:03:55,  3.53s/it]"
     ]
    },
    {
     "name": "stdout",
     "output_type": "stream",
     "text": [
      "Using Chrome with user agent: Mozilla/5.0 (Macintosh; Intel Mac OS X 10_15_7) AppleWebKit/537.36 (KHTML, like Gecko) Chrome/100.0.4896.127 Safari/537.36\n",
      "Using Chrome with user agent: Mozilla/5.0 (Windows NT 10.0; Win64; x64) AppleWebKit/537.36 (KHTML, like Gecko) Chrome/100.0.4896.127 Safari/537.36\n",
      "Error scraping url https://batdongsan.com.vn/cho-thue-can-ho-chung-cu-mini-duong-au-duong-lan-phuong-2-17/-dich-vu-cao-cap-100-o-p2-q8-pr42706559: 're__icon-clock'\n"
     ]
    },
    {
     "name": "stderr",
     "output_type": "stream",
     "text": [
      "Processing batches:   7%|▋         | 76/1161 [07:45<1:30:14,  4.99s/it]"
     ]
    },
    {
     "name": "stdout",
     "output_type": "stream",
     "text": [
      "Error scraping url https://batdongsan.com.vn/cho-thue-can-ho-chung-cu-duong-xa-lo-ha-noi-phuong-thao-dien-prj-masteri-an-phu/cho-1pn-yen-tinh-co-day-du-that-sg-xin-min-gia-yeu-thuong-13-trieu-pr37121653: 're__icon-front-view'\n"
     ]
    },
    {
     "name": "stderr",
     "output_type": "stream",
     "text": [
      "Processing batches:   7%|▋         | 77/1161 [07:47<1:15:22,  4.17s/it]"
     ]
    },
    {
     "name": "stdout",
     "output_type": "stream",
     "text": [
      "Using Chrome with user agent: Mozilla/5.0 (Macintosh; Intel Mac OS X 10_15_7) AppleWebKit/537.36 (KHTML, like Gecko) Chrome/99.0.4844.84 Safari/537.36\n",
      "Error scraping url https://batdongsan.com.vn/cho-thue-nha-tro-phong-tro-duong-dang-thuy-tram-phuong-13-7/khai-truong-duplex-gia-re-hssv-cua-so-lon-ngay-dh-van-lang-cs-chinh-gia-tu-4tr400-pr42771982: 're__icon-clock'\n"
     ]
    },
    {
     "name": "stderr",
     "output_type": "stream",
     "text": [
      "Processing batches:   7%|▋         | 78/1161 [07:51<1:11:26,  3.96s/it]"
     ]
    },
    {
     "name": "stdout",
     "output_type": "stream",
     "text": [
      "Using Chrome with user agent: Mozilla/5.0 (Windows NT 10.0; Win64; x64) AppleWebKit/537.36 (KHTML, like Gecko) Chrome/100.0.4896.127 Safari/537.36\n",
      "Error scraping url https://batdongsan.com.vn/cho-thue-nha-tro-phong-tro-duong-giai-phong-phuong-4-20/chdv-p4-tan-binh-ngu-tach-bep-ban-cong-4-5tr-pr42392175: 're__icon-home'\n"
     ]
    },
    {
     "name": "stderr",
     "output_type": "stream",
     "text": [
      "Processing batches:   7%|▋         | 79/1161 [07:56<1:19:42,  4.42s/it]"
     ]
    },
    {
     "name": "stdout",
     "output_type": "stream",
     "text": [
      "Using Chrome with user agent: Mozilla/5.0 (Macintosh; Intel Mac OS X 10_15_7) AppleWebKit/537.36 (KHTML, like Gecko) Chrome/100.0.4896.127 Safari/537.36\n",
      "Using Chrome with user agent: Mozilla/5.0 (Macintosh; Intel Mac OS X 10_15_7) AppleWebKit/537.36 (KHTML, like Gecko) Chrome/99.0.4844.84 Safari/537.36\n"
     ]
    },
    {
     "name": "stderr",
     "output_type": "stream",
     "text": [
      "Processing batches:   7%|▋         | 80/1161 [08:27<3:42:02, 12.32s/it]"
     ]
    },
    {
     "name": "stdout",
     "output_type": "stream",
     "text": [
      "Using Chrome with user agent: Mozilla/5.0 (Macintosh; Intel Mac OS X 10_15_7) AppleWebKit/537.36 (KHTML, like Gecko) Chrome/100.0.4896.127 Safari/537.36\n"
     ]
    },
    {
     "name": "stderr",
     "output_type": "stream",
     "text": [
      "Processing batches:   7%|▋         | 81/1161 [08:34<3:14:53, 10.83s/it]"
     ]
    },
    {
     "name": "stdout",
     "output_type": "stream",
     "text": [
      "Using Chrome with user agent: Mozilla/5.0 (Macintosh; Intel Mac OS X 10_15_7) AppleWebKit/537.36 (KHTML, like Gecko) Chrome/100.0.4896.127 Safari/537.36\n"
     ]
    },
    {
     "name": "stderr",
     "output_type": "stream",
     "text": [
      "Processing batches:   7%|▋         | 82/1161 [08:45<3:13:59, 10.79s/it]"
     ]
    },
    {
     "name": "stdout",
     "output_type": "stream",
     "text": [
      "Error scraping url https://batdongsan.com.vn/cho-thue-can-ho-chung-cu-duong-ben-van-don-phuong-1-prj-the-gold-view/-2pn-2wc-92m2-full-noi-that-song-tang-mat-c-gia-tot-17-trieu-pr42759973: 're__icon-front-view'\n"
     ]
    },
    {
     "name": "stderr",
     "output_type": "stream",
     "text": [
      "Processing batches:   7%|▋         | 83/1161 [08:45<2:18:53,  7.73s/it]"
     ]
    },
    {
     "name": "stdout",
     "output_type": "stream",
     "text": [
      "Error scraping url https://batdongsan.com.vn/cho-thue-can-ho-chung-cu-duong-nguyen-khoai-phuong-1-prj-galaxy-9/-9-quan-4-cho-3-phong-ngu-3wc-103m2-full-noi-that-gia-24-trieu-xem-nha-moi-luc-pr42141223: 're__icon-private-house'\n",
      "Using Chrome with user agent: Mozilla/5.0 (Macintosh; Intel Mac OS X 10_15_7) AppleWebKit/537.36 (KHTML, like Gecko) Chrome/99.0.4844.84 Safari/537.36\n",
      "Using Chrome with user agent: Mozilla/5.0 (Macintosh; Intel Mac OS X 10_15_7) AppleWebKit/537.36 (KHTML, like Gecko) Chrome/100.0.4896.127 Safari/537.36\n"
     ]
    },
    {
     "name": "stderr",
     "output_type": "stream",
     "text": [
      "Processing batches:   7%|▋         | 84/1161 [09:01<3:00:31, 10.06s/it]"
     ]
    },
    {
     "name": "stdout",
     "output_type": "stream",
     "text": [
      "Error scraping url https://batdongsan.com.vn/cho-thue-nha-tro-phong-tro-duong-dien-hong-phuong-1-20/-xinh-xan-cho-nu-gan-cho-tien-nghi-an-ninh-tai-quan-binh-thanh-pr42510557: 're__icon-front-view'\n"
     ]
    },
    {
     "name": "stderr",
     "output_type": "stream",
     "text": [
      "Processing batches:   7%|▋         | 85/1161 [09:03<2:17:38,  7.68s/it]"
     ]
    },
    {
     "name": "stdout",
     "output_type": "stream",
     "text": [
      "Error scraping url https://batdongsan.com.vn/cho-thue-can-ho-chung-cu-mini-phuong-4-19/ro-hang-2pn-day-du-tien-nghi-nam-trung-tam-thanh-pho-phu-nhuan-di-chuyen-thuan-loi-pr42302913: 're__icon-clock'\n",
      "First method failed: Message: Unable to obtain driver for chrome; For documentation on this error, please visit: https://www.selenium.dev/documentation/webdriver/troubleshooting/errors/driver_location\n",
      "\n",
      "Using Chrome driver at: /Users/macbook/.wdm/drivers/chromedriver/mac64/135.0.7049.95/chromedriver-mac-arm64/chromedriver\n",
      "Second method failed: you cannot reuse the ChromeOptions object\n",
      "Using Chrome with user agent: Mozilla/5.0 (Macintosh; Intel Mac OS X 10_15_7) AppleWebKit/537.36 (KHTML, like Gecko) Chrome/99.0.4844.84 Safari/537.36\n"
     ]
    },
    {
     "name": "stderr",
     "output_type": "stream",
     "text": [
      "Processing batches:   7%|▋         | 86/1161 [09:12<2:26:20,  8.17s/it]"
     ]
    },
    {
     "name": "stdout",
     "output_type": "stream",
     "text": [
      "Error scraping url https://batdongsan.com.vn/cho-thue-nha-tro-phong-tro-duong-nguyen-thi-thap-phuong-binh-thuan-3/cho-gan-lotte-mart-gia-sinh-vien-pr42691040: 're__icon-electricity'\n",
      "Using Chrome with user agent: Mozilla/5.0 (Macintosh; Intel Mac OS X 10_15_7) AppleWebKit/537.36 (KHTML, like Gecko) Chrome/99.0.4844.84 Safari/537.36\n"
     ]
    },
    {
     "name": "stderr",
     "output_type": "stream",
     "text": [
      "Processing batches:   7%|▋         | 87/1161 [09:35<3:43:14, 12.47s/it]"
     ]
    },
    {
     "name": "stdout",
     "output_type": "stream",
     "text": [
      "All Chrome initialization methods failed: Message: Can not connect to the Service /Users/macbook/.wdm/drivers/chromedriver/mac64/135.0.7049.95/chromedriver-mac-arm64/chromedriver\n",
      "\n",
      "Using Chrome with user agent: Mozilla/5.0 (Windows NT 10.0; Win64; x64) AppleWebKit/537.36 (KHTML, like Gecko) Chrome/99.0.4844.84 Safari/537.36\n",
      "Error scraping url https://batdongsan.com.vn/cho-thue-can-ho-chung-cu-duong-ung-van-khiem-phuong-25-prj-chung-cu-the-ky-21/-tk-21-bt-2p-ngu-74m2-noi-that-co-ban-9tr-th-pr42771246: 're__icon-clock'\n"
     ]
    },
    {
     "name": "stderr",
     "output_type": "stream",
     "text": [
      "Processing batches:   8%|▊         | 89/1161 [09:42<2:19:57,  7.83s/it]"
     ]
    },
    {
     "name": "stdout",
     "output_type": "stream",
     "text": [
      "Error scraping url https://batdongsan.com.vn/cho-thue-can-ho-chung-cu-duong-song-hanh-phuong-an-phu-prj-estella-heights/sieu-pham-3pn-full-noi-that-thap-thuong-mai-gia-chi-55-trieu-pr41580990: 're__icon-private-house'\n",
      "Using Chrome with user agent: Mozilla/5.0 (Macintosh; Intel Mac OS X 10_15_7) AppleWebKit/537.36 (KHTML, like Gecko) Chrome/100.0.4896.127 Safari/537.36\n",
      "Using Chrome with user agent: Mozilla/5.0 (Windows NT 10.0; Win64; x64) AppleWebKit/537.36 (KHTML, like Gecko) Chrome/99.0.4844.84 Safari/537.36\n"
     ]
    },
    {
     "name": "stderr",
     "output_type": "stream",
     "text": [
      "Processing batches:   8%|▊         | 90/1161 [09:53<2:37:23,  8.82s/it]"
     ]
    },
    {
     "name": "stdout",
     "output_type": "stream",
     "text": [
      "Error scraping url https://batdongsan.com.vn/cho-thue-can-ho-chung-cu-duong-phan-van-hon-phuong-tan-thoi-nhat-1-prj-topaz-home/cho-60m-2pn-2wc-co-it-noi-that-gia-7tr-hd-2-nam-pr42771201: 're__icon-clock'\n",
      "Using Chrome with user agent: Mozilla/5.0 (Macintosh; Intel Mac OS X 10_15_7) AppleWebKit/537.36 (KHTML, like Gecko) Chrome/99.0.4844.84 Safari/537.36\n"
     ]
    },
    {
     "name": "stderr",
     "output_type": "stream",
     "text": [
      "Processing batches:   8%|▊         | 91/1161 [10:06<3:00:44, 10.13s/it]"
     ]
    },
    {
     "name": "stdout",
     "output_type": "stream",
     "text": [
      "Error scraping url https://batdongsan.com.vn/cho-thue-can-ho-chung-cu-mini-duong-ngo-thi-thu-minh-phuong-2-22/-dich-vu-xinh-xan-gan-san-bay-day-du-noi-that-don-vao-o-ngay-pr42766766: 're__icon-clock'\n",
      "Using Chrome with user agent: Mozilla/5.0 (Macintosh; Intel Mac OS X 10_15_7) AppleWebKit/537.36 (KHTML, like Gecko) Chrome/99.0.4844.84 Safari/537.36\n",
      "Error scraping url https://batdongsan.com.vn/cho-thue-can-ho-chung-cu-duong-nguyen-thi-nho-phuong-15-4-prj-chung-cu-phu-tho/-c-t-q-11-dt-68m2-2pn-nha-dep-gia-8tr-thang-lh-toan-pr39177813: HTTPConnectionPool(host='localhost', port=56932): Read timed out. (read timeout=120)\n"
     ]
    },
    {
     "name": "stderr",
     "output_type": "stream",
     "text": [
      "Processing batches:   8%|▊         | 92/1161 [10:14<2:46:20,  9.34s/it]"
     ]
    },
    {
     "name": "stdout",
     "output_type": "stream",
     "text": [
      "Using Chrome with user agent: Mozilla/5.0 (Macintosh; Intel Mac OS X 10_15_7) AppleWebKit/537.36 (KHTML, like Gecko) Chrome/99.0.4844.84 Safari/537.36\n"
     ]
    },
    {
     "name": "stderr",
     "output_type": "stream",
     "text": [
      "Processing batches:   8%|▊         | 93/1161 [10:28<3:10:46, 10.72s/it]"
     ]
    },
    {
     "name": "stdout",
     "output_type": "stream",
     "text": [
      "Error scraping url https://batdongsan.com.vn/cho-thue-can-ho-chung-cu-duong-nguyen-van-qua-phuong-dong-hung-thuan-a-prj-thai-an-apartment/c-cc-q12-40m2-1pn-1vs-6tr-thg-pr42654108: 're__icon-clock'\n",
      "Using Chrome with user agent: Mozilla/5.0 (Windows NT 10.0; Win64; x64) AppleWebKit/537.36 (KHTML, like Gecko) Chrome/100.0.4896.127 Safari/537.36\n"
     ]
    },
    {
     "name": "stderr",
     "output_type": "stream",
     "text": [
      "Processing batches:   8%|▊         | 94/1161 [10:36<2:55:39,  9.88s/it]"
     ]
    },
    {
     "name": "stdout",
     "output_type": "stream",
     "text": [
      "Error scraping url https://batdongsan.com.vn/cho-thue-can-ho-chung-cu-pho-ton-duc-thang-phuong-ben-nghe-prj-vinhomes-golden-river-ba-son/chinh-chu-cho-2pn-1-phong-lam-viec-118m2-gia-cuc-soc-40-trieu-tai-bason-pr42717710: 're__icon-clock'\n"
     ]
    },
    {
     "name": "stderr",
     "output_type": "stream",
     "text": [
      "Service process refused to terminate gracefully with SIGTERM, escalating to SIGKILL.\n",
      "Traceback (most recent call last):\n",
      "  File \"/Users/macbook/Desktop/BecasaNetwork/crawl/env/lib/python3.13/site-packages/selenium/webdriver/common/driver_finder.py\", line 64, in _binary_paths\n",
      "    raise ValueError(f\"The path is not a valid file: {path}\")\n",
      "ValueError: The path is not a valid file: /Users/macbook/Library/Application Support/undetected_chromedriver/undetected_chromedriver\n",
      "\n",
      "The above exception was the direct cause of the following exception:\n",
      "\n",
      "Traceback (most recent call last):\n",
      "  File \"/Users/macbook/Desktop/BecasaNetwork/crawl/scrapepage.py\", line 132, in init_driver\n",
      "    driver = uc.Chrome(version_main=135, options=options)  # Specify a version that works with your Chrome\n",
      "  File \"/Users/macbook/Desktop/BecasaNetwork/crawl/env/lib/python3.13/site-packages/undetected_chromedriver/__init__.py\", line 466, in __init__\n",
      "    super(Chrome, self).__init__(\n",
      "    ~~~~~~~~~~~~~~~~~~~~~~~~~~~~^\n",
      "        service=service,\n",
      "        ^^^^^^^^^^^^^^^^\n",
      "        options=options,\n",
      "        ^^^^^^^^^^^^^^^^\n",
      "        keep_alive=keep_alive,\n",
      "        ^^^^^^^^^^^^^^^^^^^^^^\n",
      "    )\n",
      "    ^\n",
      "  File \"/Users/macbook/Desktop/BecasaNetwork/crawl/env/lib/python3.13/site-packages/selenium/webdriver/chrome/webdriver.py\", line 45, in __init__\n",
      "    super().__init__(\n",
      "    ~~~~~~~~~~~~~~~~^\n",
      "        browser_name=DesiredCapabilities.CHROME[\"browserName\"],\n",
      "        ^^^^^^^^^^^^^^^^^^^^^^^^^^^^^^^^^^^^^^^^^^^^^^^^^^^^^^^\n",
      "    ...<3 lines>...\n",
      "        keep_alive=keep_alive,\n",
      "        ^^^^^^^^^^^^^^^^^^^^^^\n",
      "    )\n",
      "    ^\n",
      "  File \"/Users/macbook/Desktop/BecasaNetwork/crawl/env/lib/python3.13/site-packages/selenium/webdriver/chromium/webdriver.py\", line 50, in __init__\n",
      "    if finder.get_browser_path():\n",
      "       ~~~~~~~~~~~~~~~~~~~~~~~^^\n",
      "  File \"/Users/macbook/Desktop/BecasaNetwork/crawl/env/lib/python3.13/site-packages/selenium/webdriver/common/driver_finder.py\", line 47, in get_browser_path\n",
      "    return self._binary_paths()[\"browser_path\"]\n",
      "           ~~~~~~~~~~~~~~~~~~^^\n",
      "  File \"/Users/macbook/Desktop/BecasaNetwork/crawl/env/lib/python3.13/site-packages/selenium/webdriver/common/driver_finder.py\", line 78, in _binary_paths\n",
      "    raise NoSuchDriverException(msg) from err\n",
      "selenium.common.exceptions.NoSuchDriverException: Message: Unable to obtain driver for chrome; For documentation on this error, please visit: https://www.selenium.dev/documentation/webdriver/troubleshooting/errors/driver_location\n",
      "\n",
      "\n",
      "During handling of the above exception, another exception occurred:\n",
      "\n",
      "Traceback (most recent call last):\n",
      "  File \"/Users/macbook/Desktop/BecasaNetwork/crawl/scrapepage.py\", line 139, in init_driver\n",
      "    driver = uc.Chrome(driver_executable_path=driver_path, options=options)\n",
      "  File \"/Users/macbook/Desktop/BecasaNetwork/crawl/env/lib/python3.13/site-packages/undetected_chromedriver/__init__.py\", line 269, in __init__\n",
      "    raise RuntimeError(\"you cannot reuse the ChromeOptions object\")\n",
      "RuntimeError: you cannot reuse the ChromeOptions object\n",
      "\n",
      "During handling of the above exception, another exception occurred:\n",
      "\n",
      "Traceback (most recent call last):\n",
      "  File \"/Users/macbook/Desktop/BecasaNetwork/crawl/scrapepage.py\", line 166, in scrape_page\n",
      "    driver = init_driver()\n",
      "  File \"/Users/macbook/Desktop/BecasaNetwork/crawl/scrapepage.py\", line 147, in init_driver\n",
      "    driver = webdriver.Chrome(service=service, options=options)\n",
      "  File \"/Users/macbook/Desktop/BecasaNetwork/crawl/env/lib/python3.13/site-packages/selenium/webdriver/chrome/webdriver.py\", line 45, in __init__\n",
      "    super().__init__(\n",
      "    ~~~~~~~~~~~~~~~~^\n",
      "        browser_name=DesiredCapabilities.CHROME[\"browserName\"],\n",
      "        ^^^^^^^^^^^^^^^^^^^^^^^^^^^^^^^^^^^^^^^^^^^^^^^^^^^^^^^\n",
      "    ...<3 lines>...\n",
      "        keep_alive=keep_alive,\n",
      "        ^^^^^^^^^^^^^^^^^^^^^^\n",
      "    )\n",
      "    ^\n",
      "  File \"/Users/macbook/Desktop/BecasaNetwork/crawl/env/lib/python3.13/site-packages/selenium/webdriver/chromium/webdriver.py\", line 55, in __init__\n",
      "    self.service.start()\n",
      "    ~~~~~~~~~~~~~~~~~~^^\n",
      "  File \"/Users/macbook/Desktop/BecasaNetwork/crawl/env/lib/python3.13/site-packages/selenium/webdriver/common/service.py\", line 120, in start\n",
      "    raise WebDriverException(f\"Can not connect to the Service {self._path}\")\n",
      "selenium.common.exceptions.WebDriverException: Message: Can not connect to the Service /Users/macbook/.wdm/drivers/chromedriver/mac64/135.0.7049.95/chromedriver-mac-arm64/chromedriver\n",
      "\n",
      "\n",
      "During handling of the above exception, another exception occurred:\n",
      "\n",
      "UnboundLocalError: cannot access local variable 'url' where it is not associated with a value\n",
      "\n",
      "During handling of the above exception, another exception occurred:\n",
      "\n",
      "Traceback (most recent call last):\n",
      "  File \"/Users/macbook/Desktop/BecasaNetwork/crawl/env/lib/python3.13/site-packages/selenium/webdriver/common/service.py\", line 184, in _terminate_process\n",
      "    self.process.wait(60)\n",
      "    ~~~~~~~~~~~~~~~~~^^^^\n",
      "  File \"/opt/homebrew/Cellar/python@3.13/3.13.2/Frameworks/Python.framework/Versions/3.13/lib/python3.13/subprocess.py\", line 1276, in wait\n",
      "    return self._wait(timeout=timeout)\n",
      "           ~~~~~~~~~~^^^^^^^^^^^^^^^^^\n",
      "  File \"/opt/homebrew/Cellar/python@3.13/3.13.2/Frameworks/Python.framework/Versions/3.13/lib/python3.13/subprocess.py\", line 2060, in _wait\n",
      "    raise TimeoutExpired(self.args, timeout)\n",
      "subprocess.TimeoutExpired: Command '['/Users/macbook/.wdm/drivers/chromedriver/mac64/135.0.7049.95/chromedriver-mac-arm64/chromedriver', '--port=64864']' timed out after 60 seconds\n",
      "Processing batches:   8%|▊         | 95/1161 [10:37<2:08:31,  7.23s/it]"
     ]
    },
    {
     "name": "stdout",
     "output_type": "stream",
     "text": [
      "Error processing batch ['https://batdongsan.com.vn/cho-thue-can-ho-chung-cu-phuong-an-khanh-prj-zeit-river-thu-thiem/chinh-chu-cho-215m2-4pn-ban-giao-noi-that-co-ban-cdt-gia-110-trieu-thang-pr42604276']: cannot access local variable 'url' where it is not associated with a value\n",
      "Using Chrome with user agent: Mozilla/5.0 (Macintosh; Intel Mac OS X 10_15_7) AppleWebKit/537.36 (KHTML, like Gecko) Chrome/99.0.4844.84 Safari/537.36\n",
      "Using Chrome with user agent: Mozilla/5.0 (Macintosh; Intel Mac OS X 10_15_7) AppleWebKit/537.36 (KHTML, like Gecko) Chrome/99.0.4844.84 Safari/537.36\n"
     ]
    },
    {
     "name": "stderr",
     "output_type": "stream",
     "text": [
      "Processing batches:   8%|▊         | 96/1161 [10:46<2:20:00,  7.89s/it]"
     ]
    },
    {
     "name": "stdout",
     "output_type": "stream",
     "text": [
      "Error scraping url https://batdongsan.com.vn/cho-thue-can-ho-chung-cu-duong-truong-luu-phuong-long-truong-prj-chung-cu-mt-eastmark-city/c-quan-9-dt-tu-65m-100m2-tu-1-2-3pn-gia-chi-tu-5tr-thang-pr42767475: 're__icon-front-view'\n",
      "Using Chrome with user agent: Mozilla/5.0 (Macintosh; Intel Mac OS X 10_15_7) AppleWebKit/537.36 (KHTML, like Gecko) Chrome/99.0.4844.84 Safari/537.36\n",
      "Error scraping url https://batdongsan.com.vn/cho-thue-can-ho-chung-cu-duong-mai-chi-tho-phuong-thu-thiem-prj-empire-city-thu-thiem/dang-trong-san-cho-ch-2pn-full-noi-that-dep-view-song-vao-o-ngay-pr42502348: 're__icon-front-view'\n"
     ]
    },
    {
     "name": "stderr",
     "output_type": "stream",
     "text": [
      "Processing batches:   8%|▊         | 97/1161 [10:54<2:20:45,  7.94s/it]"
     ]
    },
    {
     "name": "stdout",
     "output_type": "stream",
     "text": [
      "Error scraping url https://batdongsan.com.vn/cho-thue-can-ho-chung-cu-duong-n3-phuong-son-ky-prj-diamond-brilliant/-noi-ko-voi-tin-ao-c-96m-2pn-2wc-2bancon-celadon-city-vao-o-ngay-pr42752419: 're__icon-clock'\n"
     ]
    },
    {
     "name": "stderr",
     "output_type": "stream",
     "text": [
      "Processing batches:   8%|▊         | 98/1161 [10:55<1:41:23,  5.72s/it]"
     ]
    },
    {
     "name": "stdout",
     "output_type": "stream",
     "text": [
      "Using Chrome with user agent: Mozilla/5.0 (Windows NT 10.0; Win64; x64) AppleWebKit/537.36 (KHTML, like Gecko) Chrome/99.0.4844.84 Safari/537.36\n",
      "Using Chrome with user agent: Mozilla/5.0 (Macintosh; Intel Mac OS X 10_15_7) AppleWebKit/537.36 (KHTML, like Gecko) Chrome/100.0.4896.127 Safari/537.36\n"
     ]
    },
    {
     "name": "stderr",
     "output_type": "stream",
     "text": [
      "Processing batches:   9%|▊         | 99/1161 [11:03<1:54:12,  6.45s/it]"
     ]
    },
    {
     "name": "stdout",
     "output_type": "stream",
     "text": [
      "Error scraping url https://batdongsan.com.vn/cho-thue-can-ho-chung-cu-duong-truong-luu-phuong-long-truong-prj-chung-cu-mt-eastmark-city/c-quan-9-dt-tu-65m-100m2-tu-1-2-3pn-gia-chi-tu-5tr-thang-pr42767555: 're__icon-front-view'\n"
     ]
    },
    {
     "name": "stderr",
     "output_type": "stream",
     "text": [
      "Processing batches:   9%|▊         | 100/1161 [11:04<1:22:18,  4.65s/it]"
     ]
    },
    {
     "name": "stdout",
     "output_type": "stream",
     "text": [
      "Error scraping url https://batdongsan.com.vn/cho-thue-can-ho-chung-cu-duong-so-6-phuong-hiep-binh-phuoc-prj-urban-green/chinh-chu-cho-10-5-trieu-80m2-2pn-2wc-tot-nhat-pr42157102: 're__icon-front-view'\n",
      "Using Chrome with user agent: Mozilla/5.0 (Macintosh; Intel Mac OS X 10_15_7) AppleWebKit/537.36 (KHTML, like Gecko) Chrome/99.0.4844.84 Safari/537.36\n",
      "Using Chrome with user agent: Mozilla/5.0 (Windows NT 10.0; Win64; x64) AppleWebKit/537.36 (KHTML, like Gecko) Chrome/99.0.4844.84 Safari/537.36\n"
     ]
    },
    {
     "name": "stderr",
     "output_type": "stream",
     "text": [
      "Processing batches:   9%|▊         | 101/1161 [11:13<1:45:40,  5.98s/it]"
     ]
    },
    {
     "name": "stdout",
     "output_type": "stream",
     "text": [
      "Error scraping url https://batdongsan.com.vn/cho-thue-can-ho-chung-cu-duong-ben-van-don-phuong-6-prj-masteri-millennium/cho-12tr-thang-dt-40m2-day-du-noi-that-xem-nha-em-tien-pr42695674: 're__icon-front-view'\n",
      "Using Chrome with user agent: Mozilla/5.0 (Windows NT 10.0; Win64; x64) AppleWebKit/537.36 (KHTML, like Gecko) Chrome/99.0.4844.84 Safari/537.36\n"
     ]
    },
    {
     "name": "stderr",
     "output_type": "stream",
     "text": [
      "Processing batches:   9%|▉         | 102/1161 [11:21<2:00:12,  6.81s/it]"
     ]
    },
    {
     "name": "stdout",
     "output_type": "stream",
     "text": [
      "Error scraping url https://batdongsan.com.vn/cho-thue-can-ho-chung-cu-duong-hong-ha-phuong-2-22-prj-botanica-premier/-noi-that-co-ban-2pn-2wc-70m2-15-trieu-y-hinh-trong-san-o-ngay-pr42732062: 're__icon-front-view'\n",
      "Using Chrome with user agent: Mozilla/5.0 (Macintosh; Intel Mac OS X 10_15_7) AppleWebKit/537.36 (KHTML, like Gecko) Chrome/100.0.4896.127 Safari/537.36\n",
      "Error scraping url https://batdongsan.com.vn/cho-thue-nha-tro-phong-tro-duong-nguyen-thai-binh-phuong-12-10/cho-chinh-chu-cong-hoa-tan-binh-pr42770811: 're__icon-home'\n"
     ]
    },
    {
     "name": "stderr",
     "output_type": "stream",
     "text": [
      "Processing batches:   9%|▉         | 103/1161 [11:30<2:12:34,  7.52s/it]"
     ]
    },
    {
     "name": "stdout",
     "output_type": "stream",
     "text": [
      "Using Chrome with user agent: Mozilla/5.0 (Macintosh; Intel Mac OS X 10_15_7) AppleWebKit/537.36 (KHTML, like Gecko) Chrome/99.0.4844.84 Safari/537.36\n",
      "Error scraping url https://batdongsan.com.vn/cho-thue-can-ho-chung-cu-mini-duong-nguyen-kiem-phuong-4-19/-dich-vu-quan-phu-nhuan-co-cua-so-lon-tang-mat-full-noi-that-bling-bling-pr42771057: 're__icon-clock'\n"
     ]
    },
    {
     "name": "stderr",
     "output_type": "stream",
     "text": [
      "Processing batches:   9%|▉         | 104/1161 [11:42<2:34:11,  8.75s/it]"
     ]
    },
    {
     "name": "stdout",
     "output_type": "stream",
     "text": [
      "Using Chrome with user agent: Mozilla/5.0 (Macintosh; Intel Mac OS X 10_15_7) AppleWebKit/537.36 (KHTML, like Gecko) Chrome/99.0.4844.84 Safari/537.36\n",
      "Error scraping url https://batdongsan.com.vn/cho-thue-nha-tro-phong-tro-duong-vanh-dai-trong-phuong-phu-huu-2-prj-melosa-garden/cho-khang-dien-noi-that-dep-an-ninh-4-5tr-th-pr39070243: 're__icon-home'\n"
     ]
    },
    {
     "name": "stderr",
     "output_type": "stream",
     "text": [
      "Processing batches:   9%|▉         | 105/1161 [11:49<2:22:16,  8.08s/it]"
     ]
    },
    {
     "name": "stdout",
     "output_type": "stream",
     "text": [
      "Using Chrome with user agent: Mozilla/5.0 (Windows NT 10.0; Win64; x64) AppleWebKit/537.36 (KHTML, like Gecko) Chrome/99.0.4844.84 Safari/537.36\n"
     ]
    },
    {
     "name": "stderr",
     "output_type": "stream",
     "text": [
      "Processing batches:   9%|▉         | 106/1161 [11:58<2:27:32,  8.39s/it]"
     ]
    },
    {
     "name": "stdout",
     "output_type": "stream",
     "text": [
      "Error scraping url https://batdongsan.com.vn/cho-thue-can-ho-chung-cu-duong-nguyen-huu-tho-phuong-tan-hung-14-prj-sunrise-city/cho-cc-98m2-20-trieu-tai-quan-7-hcm-gia-cuc-chat-pr42754739: 're__icon-front-view'\n"
     ]
    },
    {
     "name": "stderr",
     "output_type": "stream",
     "text": [
      "Processing batches:   9%|▉         | 107/1161 [11:59<1:49:34,  6.24s/it]"
     ]
    },
    {
     "name": "stdout",
     "output_type": "stream",
     "text": [
      "Error scraping url https://batdongsan.com.vn/cho-thue-can-ho-chung-cu-duong-nguyen-huu-canh-phuong-22-prj-the-manor-tp-ho-chi-minh/c-1pn-12-trieu-vnd-38m2-tai-h-binh-thanh-hcm-pr42712441: 're__icon-front-view'\n",
      "Using Chrome with user agent: Mozilla/5.0 (Macintosh; Intel Mac OS X 10_15_7) AppleWebKit/537.36 (KHTML, like Gecko) Chrome/100.0.4896.127 Safari/537.36\n",
      "Using Chrome with user agent: Mozilla/5.0 (Macintosh; Intel Mac OS X 10_15_7) AppleWebKit/537.36 (KHTML, like Gecko) Chrome/100.0.4896.127 Safari/537.36\n"
     ]
    },
    {
     "name": "stderr",
     "output_type": "stream",
     "text": [
      "Processing batches:   9%|▉         | 108/1161 [12:04<1:40:31,  5.73s/it]"
     ]
    },
    {
     "name": "stdout",
     "output_type": "stream",
     "text": [
      "Error scraping url https://batdongsan.com.vn/cho-thue-nha-tro-phong-tro-duong-le-dinh-can-phuong-tan-tao/-tole-rieng-co-may-lanh-gio-giat-tu-do-pr42770601: 're__icon-electricity'\n"
     ]
    },
    {
     "name": "stderr",
     "output_type": "stream",
     "text": [
      "Processing batches:   9%|▉         | 109/1161 [12:09<1:37:26,  5.56s/it]"
     ]
    },
    {
     "name": "stdout",
     "output_type": "stream",
     "text": [
      "Using Chrome with user agent: Mozilla/5.0 (Macintosh; Intel Mac OS X 10_15_7) AppleWebKit/537.36 (KHTML, like Gecko) Chrome/99.0.4844.84 Safari/537.36\n",
      "Error scraping url https://batdongsan.com.vn/cho-thue-can-ho-chung-cu-pho-ton-duc-thang-phuong-ben-nghe-prj-vinhomes-golden-river-ba-son/toi-chinh-chu-cho-1-pn-view-song-gia-16tr-th-lh-pr42420655: 're__icon-front-view'\n"
     ]
    },
    {
     "name": "stderr",
     "output_type": "stream",
     "text": [
      "Processing batches:   9%|▉         | 110/1161 [12:13<1:30:59,  5.19s/it]"
     ]
    },
    {
     "name": "stdout",
     "output_type": "stream",
     "text": [
      "Using Chrome with user agent: Mozilla/5.0 (Windows NT 10.0; Win64; x64) AppleWebKit/537.36 (KHTML, like Gecko) Chrome/99.0.4844.84 Safari/537.36\n"
     ]
    },
    {
     "name": "stderr",
     "output_type": "stream",
     "text": [
      "Processing batches:  10%|▉         | 111/1161 [12:15<1:13:03,  4.18s/it]"
     ]
    },
    {
     "name": "stdout",
     "output_type": "stream",
     "text": [
      "Error scraping url https://batdongsan.com.vn/cho-thue-can-ho-chung-cu-mini-pho-nguyen-xi-phuong-26/khai-truong-sieu-pham-1pn-2pn-3pn-tai-2-chieu-gan-hang-xanh-va-ben-xe-mien-dong-pr41625506: 're__icon-front-view'\n",
      "Error scraping url https://batdongsan.com.vn/cho-thue-nha-tro-phong-tro-duong-nguyen-van-cu-1-phuong-1-15/cho-75-12-3-7-trieu-18m2-day-du-tien-nghi-pr42665365: 're__icon-front-view'\n"
     ]
    },
    {
     "name": "stderr",
     "output_type": "stream",
     "text": [
      "Processing batches:  10%|▉         | 112/1161 [12:18<1:09:55,  4.00s/it]"
     ]
    },
    {
     "name": "stdout",
     "output_type": "stream",
     "text": [
      "Using Chrome with user agent: Mozilla/5.0 (Macintosh; Intel Mac OS X 10_15_7) AppleWebKit/537.36 (KHTML, like Gecko) Chrome/99.0.4844.84 Safari/537.36\n",
      "Using Chrome with user agent: Mozilla/5.0 (Macintosh; Intel Mac OS X 10_15_7) AppleWebKit/537.36 (KHTML, like Gecko) Chrome/100.0.4896.127 Safari/537.36\n",
      "Using Chrome with user agent: Mozilla/5.0 (Macintosh; Intel Mac OS X 10_15_7) AppleWebKit/537.36 (KHTML, like Gecko) Chrome/99.0.4844.84 Safari/537.36\n",
      "Error scraping url https://batdongsan.com.vn/cho-thue-can-ho-chung-cu-mini-duong-chu-van-an-phuong-12-7/cho-sieu-pham-cc-co-b-cong-g-hoc-vien-bo-va-coopmart-pr42161651: 're__icon-front-view'\n"
     ]
    },
    {
     "name": "stderr",
     "output_type": "stream",
     "text": [
      "Processing batches:  10%|▉         | 113/1161 [12:29<1:44:35,  5.99s/it]"
     ]
    },
    {
     "name": "stdout",
     "output_type": "stream",
     "text": [
      "Using Chrome with user agent: Mozilla/5.0 (Windows NT 10.0; Win64; x64) AppleWebKit/537.36 (KHTML, like Gecko) Chrome/99.0.4844.84 Safari/537.36\n"
     ]
    },
    {
     "name": "stderr",
     "output_type": "stream",
     "text": [
      "Processing batches:  10%|▉         | 114/1161 [12:39<2:07:36,  7.31s/it]"
     ]
    },
    {
     "name": "stdout",
     "output_type": "stream",
     "text": [
      "Error scraping url https://batdongsan.com.vn/cho-thue-can-ho-chung-cu-duong-so-6-phuong-hiep-binh-phuoc-prj-urban-green/3pn-c-tu-100-105-110-118m2-a-c-lao-nham-tro-xem-nha-gia-tot-nhat-pr41729777: 're__icon-front-view'\n",
      "Using Chrome with user agent: Mozilla/5.0 (Windows NT 10.0; Win64; x64) AppleWebKit/537.36 (KHTML, like Gecko) Chrome/99.0.4844.84 Safari/537.36\n",
      "Error scraping url https://batdongsan.com.vn/cho-thue-can-ho-chung-cu-duong-nguyen-van-linh-xa-phong-phu-4-prj-skyway-residence/c-conic-day-du-noi-that-lh-0979-695-276-pr36558368: 're__icon-document'\n"
     ]
    },
    {
     "name": "stderr",
     "output_type": "stream",
     "text": [
      "Processing batches:  10%|▉         | 115/1161 [13:43<7:02:27, 24.23s/it]"
     ]
    },
    {
     "name": "stdout",
     "output_type": "stream",
     "text": [
      "Using Chrome with user agent: Mozilla/5.0 (Windows NT 10.0; Win64; x64) AppleWebKit/537.36 (KHTML, like Gecko) Chrome/100.0.4896.127 Safari/537.36\n",
      "Error scraping url https://batdongsan.com.vn/cho-thue-can-ho-chung-cu-duong-pho-quang-phuong-2-22-prj-the-botanica/1-duy-nhat-c-1pn-rieng-biet-gia-cuc-tot-12-5tr-th-khu-san-bay-pr42757542: 're__icon-clock'\n"
     ]
    },
    {
     "name": "stderr",
     "output_type": "stream",
     "text": [
      "Processing batches:  10%|▉         | 116/1161 [13:59<6:19:53, 21.81s/it]"
     ]
    },
    {
     "name": "stdout",
     "output_type": "stream",
     "text": [
      "Using Chrome with user agent: Mozilla/5.0 (Windows NT 10.0; Win64; x64) AppleWebKit/537.36 (KHTML, like Gecko) Chrome/99.0.4844.84 Safari/537.36\n",
      "Error scraping url https://batdongsan.com.vn/cho-thue-nha-tro-phong-tro-duong-nguyen-canh-chan-phuong-cau-kho/cho-40m2-gia-5-trieu-1pn-1wc-tai-q1-hcm-pr42739725: 're__icon-front-view'\n"
     ]
    },
    {
     "name": "stderr",
     "output_type": "stream",
     "text": [
      "Processing batches:  10%|█         | 117/1161 [14:10<5:22:46, 18.55s/it]"
     ]
    },
    {
     "name": "stdout",
     "output_type": "stream",
     "text": [
      "Error scraping url https://batdongsan.com.vn/cho-thue-can-ho-chung-cu-duong-bat-nan-phuong-thanh-my-loi-prj-one-verandah-mapletree/-cho-duplex-75-tr-thang-cuc-hap-dan-view-song-full-noi-that-sang-trong-pr42536750: 're__icon-front-view'\n"
     ]
    },
    {
     "name": "stderr",
     "output_type": "stream",
     "text": [
      "Processing batches:  10%|█         | 118/1161 [14:12<3:55:31, 13.55s/it]"
     ]
    },
    {
     "name": "stdout",
     "output_type": "stream",
     "text": [
      "Using Chrome with user agent: Mozilla/5.0 (Windows NT 10.0; Win64; x64) AppleWebKit/537.36 (KHTML, like Gecko) Chrome/100.0.4896.127 Safari/537.36\n",
      "Using Chrome with user agent: Mozilla/5.0 (Macintosh; Intel Mac OS X 10_15_7) AppleWebKit/537.36 (KHTML, like Gecko) Chrome/100.0.4896.127 Safari/537.36\n",
      "Error scraping url https://batdongsan.com.vn/cho-thue-can-ho-chung-cu-mini-duong-nguyen-huu-canh-phuong-19/minh-chinh-chu-c-day-du-tien-nghi-ngay-trung-tam-binh-thanh-sat-q1-chi-3p-pr42467327: 're__icon-front-view'\n"
     ]
    },
    {
     "name": "stderr",
     "output_type": "stream",
     "text": [
      "Processing batches:  10%|█         | 119/1161 [14:19<3:21:33, 11.61s/it]"
     ]
    },
    {
     "name": "stdout",
     "output_type": "stream",
     "text": [
      "Error scraping url https://batdongsan.com.vn/cho-thue-can-ho-chung-cu-duong-nguyen-chi-thanh-phuong-9-6-prj-chung-cu-155-nguyen-chi-thanh/cho-2pn-view-bitexco-landmark-bancon-rong-1m4-co-noi-that-may-nuoc-nong-lanh-lh-pr42600819: HTTPConnectionPool(host='localhost', port=61335): Read timed out. (read timeout=120)\n"
     ]
    },
    {
     "name": "stderr",
     "output_type": "stream",
     "text": [
      "Processing batches:  10%|█         | 120/1161 [14:20<2:24:37,  8.34s/it]"
     ]
    },
    {
     "name": "stdout",
     "output_type": "stream",
     "text": [
      "Error scraping url https://batdongsan.com.vn/cho-thue-can-ho-chung-cu-duong-nguyen-huu-tho-phuong-tan-hung-14-prj-sunrise-city-view/ch-3pn-2wc-lau-cao-q1-cuc-dep-noi-that-cao-cap-chi-26tr-dep-nhu-hinh-pr33598123: 're__icon-front-view'\n"
     ]
    },
    {
     "name": "stderr",
     "output_type": "stream",
     "text": [
      "Processing batches:  10%|█         | 121/1161 [14:23<1:55:28,  6.66s/it]"
     ]
    },
    {
     "name": "stdout",
     "output_type": "stream",
     "text": [
      "Using Chrome with user agent: Mozilla/5.0 (Macintosh; Intel Mac OS X 10_15_7) AppleWebKit/537.36 (KHTML, like Gecko) Chrome/100.0.4896.127 Safari/537.36\n",
      "Using Chrome with user agent: Mozilla/5.0 (Windows NT 10.0; Win64; x64) AppleWebKit/537.36 (KHTML, like Gecko) Chrome/99.0.4844.84 Safari/537.36\n",
      "Error scraping url https://batdongsan.com.vn/cho-thue-can-ho-chung-cu-mini-duong-so-6-phuong-hiep-binh-chanh/-1-png-ngu-tach-bep-sieu-rong-50m2-co-ban-cong-ko-gioi-han-nguoi-va-xe-pr42372910: 're__icon-clock'\n"
     ]
    },
    {
     "name": "stderr",
     "output_type": "stream",
     "text": [
      "Processing batches:  11%|█         | 122/1161 [14:28<1:49:08,  6.30s/it]"
     ]
    },
    {
     "name": "stdout",
     "output_type": "stream",
     "text": [
      "Using Chrome with user agent: Mozilla/5.0 (Windows NT 10.0; Win64; x64) AppleWebKit/537.36 (KHTML, like Gecko) Chrome/100.0.4896.127 Safari/537.36\n",
      "Using Chrome with user agent: Mozilla/5.0 (Macintosh; Intel Mac OS X 10_15_7) AppleWebKit/537.36 (KHTML, like Gecko) Chrome/100.0.4896.127 Safari/537.36\n",
      "Error scraping url https://batdongsan.com.vn/cho-thue-can-ho-chung-cu-duong-dao-tri-phuong-phu-thuan-3-prj-sunshine-diamond-river/cho-quan-7-2pn-2-ban-cong-126m2-15-trieu-bao-phi-quan-ly-pr42504910: 're__icon-front-view'\n"
     ]
    },
    {
     "name": "stderr",
     "output_type": "stream",
     "text": [
      "Processing batches:  11%|█         | 123/1161 [14:36<1:56:18,  6.72s/it]"
     ]
    },
    {
     "name": "stdout",
     "output_type": "stream",
     "text": [
      "Error scraping url https://batdongsan.com.vn/cho-thue-can-ho-chung-cu-duong-xa-lo-ha-noi-phuong-an-phu-prj-the-estella/chi-27tr-ngay-2pn-view-boi-sieu-dep-nha-full-that-don-vao-o-ngay-pr42753765: 're__icon-front-view'\n"
     ]
    },
    {
     "name": "stderr",
     "output_type": "stream",
     "text": [
      "Processing batches:  11%|█         | 124/1161 [14:37<1:25:03,  4.92s/it]"
     ]
    },
    {
     "name": "stdout",
     "output_type": "stream",
     "text": [
      "Error scraping url https://batdongsan.com.vn/cho-thue-can-ho-chung-cu-duong-nguyen-van-huong-phuong-thao-dien-prj-thu-thiem-sky/cho-2pn-2wc-full-nt-65m-gia-12tr-thang-lh-pr39892028: HTTPConnectionPool(host='localhost', port=61455): Read timed out. (read timeout=120)\n"
     ]
    },
    {
     "name": "stderr",
     "output_type": "stream",
     "text": [
      "Processing batches:  11%|█         | 125/1161 [14:38<1:05:57,  3.82s/it]"
     ]
    },
    {
     "name": "stdout",
     "output_type": "stream",
     "text": [
      "First method failed: Message: Service /Users/macbook/Library/Application Support/undetected_chromedriver/undetected_chromedriver unexpectedly exited. Status code was: -9\n",
      "\n",
      "Using Chrome driver at: /Users/macbook/.wdm/drivers/chromedriver/mac64/135.0.7049.95/chromedriver-mac-arm64/chromedriver\n",
      "Second method failed: you cannot reuse the ChromeOptions object\n",
      "Using Chrome with user agent: Mozilla/5.0 (Windows NT 10.0; Win64; x64) AppleWebKit/537.36 (KHTML, like Gecko) Chrome/100.0.4896.127 Safari/537.36\n",
      "Using Chrome with user agent: Mozilla/5.0 (Macintosh; Intel Mac OS X 10_15_7) AppleWebKit/537.36 (KHTML, like Gecko) Chrome/100.0.4896.127 Safari/537.36\n"
     ]
    },
    {
     "name": "stderr",
     "output_type": "stream",
     "text": [
      "Processing batches:  11%|█         | 126/1161 [14:50<1:50:59,  6.43s/it]"
     ]
    },
    {
     "name": "stdout",
     "output_type": "stream",
     "text": [
      "Error scraping url https://batdongsan.com.vn/cho-thue-can-ho-chung-cu-duong-song-hanh-phuong-an-phu-prj-estella-heights/gia-re-100-update-gio-hang-pn-height-nhanh-view-cuc-dinh-cam-ket-gia-chinh-chu-pr42262594: 're__icon-front-view'\n",
      "Using Chrome with user agent: Mozilla/5.0 (Windows NT 10.0; Win64; x64) AppleWebKit/537.36 (KHTML, like Gecko) Chrome/99.0.4844.84 Safari/537.36\n",
      "Error scraping url https://batdongsan.com.vn/cho-thue-nha-tro-phong-tro-duong-nguyen-canh-chan-phuong-cau-kho/-cho-dc-tk13-8-hem-457-p-q1-dt-49m2-gia-5-trieu-thang-pr42584241: 're__icon-front-view'\n"
     ]
    },
    {
     "name": "stderr",
     "output_type": "stream",
     "text": [
      "Processing batches:  11%|█         | 127/1161 [15:08<2:47:29,  9.72s/it]"
     ]
    },
    {
     "name": "stdout",
     "output_type": "stream",
     "text": [
      "Using Chrome with user agent: Mozilla/5.0 (Windows NT 10.0; Win64; x64) AppleWebKit/537.36 (KHTML, like Gecko) Chrome/99.0.4844.84 Safari/537.36\n",
      "All Chrome initialization methods failed: Message: Can not connect to the Service /Users/macbook/.wdm/drivers/chromedriver/mac64/135.0.7049.95/chromedriver-mac-arm64/chromedriver\n",
      "\n",
      "Error scraping url https://batdongsan.com.vn/cho-thue-can-ho-chung-cu-duong-so-8-phuong-binh-hung-hoa-b-prj-green-town-binh-tan/-hills-block-a-49m2-1pn-full-noi-that-g-cao-view-g-pr31669076: 're__icon-front-view'\n"
     ]
    },
    {
     "name": "stderr",
     "output_type": "stream",
     "text": [
      "Processing batches:  11%|█         | 128/1161 [15:18<2:48:15,  9.77s/it]"
     ]
    },
    {
     "name": "stdout",
     "output_type": "stream",
     "text": [
      "Using Chrome with user agent: Mozilla/5.0 (Windows NT 10.0; Win64; x64) AppleWebKit/537.36 (KHTML, like Gecko) Chrome/99.0.4844.84 Safari/537.36\n"
     ]
    },
    {
     "name": "stderr",
     "output_type": "stream",
     "text": [
      "Processing batches:  11%|█         | 129/1161 [15:27<2:43:39,  9.52s/it]"
     ]
    },
    {
     "name": "stdout",
     "output_type": "stream",
     "text": [
      "Error scraping url https://batdongsan.com.vn/cho-thue-can-ho-chung-cu-duong-nguyen-thi-dinh-phuong-an-phu-prj-can-ho-dlusso/400-2pn-trong-12tr-co-noi-that-14tr-1pn-9-10tr-co-noi-that-11tr-3pn-full-noi-that-15-16tr-pr39498722: 're__icon-document'\n",
      "Using Chrome with user agent: Mozilla/5.0 (Windows NT 10.0; Win64; x64) AppleWebKit/537.36 (KHTML, like Gecko) Chrome/99.0.4844.84 Safari/537.36\n"
     ]
    },
    {
     "name": "stderr",
     "output_type": "stream",
     "text": [
      "Processing batches:  11%|█         | 130/1161 [15:35<2:35:34,  9.05s/it]"
     ]
    },
    {
     "name": "stdout",
     "output_type": "stream",
     "text": [
      "Error scraping url https://batdongsan.com.vn/cho-thue-can-ho-chung-cu-duong-nguyen-van-linh-phuong-tan-phong-9-prj-lavida-plus/c-2-png-ngu-full-noi-that-gia-15-trieu-nha-moi-dep-lh-pr42113167: 're__icon-private-house'\n",
      "Using Chrome with user agent: Mozilla/5.0 (Windows NT 10.0; Win64; x64) AppleWebKit/537.36 (KHTML, like Gecko) Chrome/99.0.4844.84 Safari/537.36\n"
     ]
    },
    {
     "name": "stderr",
     "output_type": "stream",
     "text": [
      "Processing batches:  11%|█▏        | 131/1161 [15:42<2:28:27,  8.65s/it]"
     ]
    },
    {
     "name": "stdout",
     "output_type": "stream",
     "text": [
      "Error scraping url https://batdongsan.com.vn/cho-thue-can-ho-chung-cu-duong-kinh-duong-vuong-phuong-an-lac-a-prj-moonlight-boulevard/c-1pn-full-noi-that-cao-cap-nhan-nha-o-ngay-gia-9tr-thang-pr38494445: 're__icon-front-view'\n",
      "Using Chrome with user agent: Mozilla/5.0 (Windows NT 10.0; Win64; x64) AppleWebKit/537.36 (KHTML, like Gecko) Chrome/99.0.4844.84 Safari/537.36\n"
     ]
    },
    {
     "name": "stderr",
     "output_type": "stream",
     "text": [
      "Service process refused to terminate gracefully with SIGTERM, escalating to SIGKILL.\n",
      "Traceback (most recent call last):\n",
      "  File \"/Users/macbook/Desktop/BecasaNetwork/crawl/scrapepage.py\", line 132, in init_driver\n",
      "    driver = uc.Chrome(version_main=135, options=options)  # Specify a version that works with your Chrome\n",
      "  File \"/Users/macbook/Desktop/BecasaNetwork/crawl/env/lib/python3.13/site-packages/undetected_chromedriver/__init__.py\", line 466, in __init__\n",
      "    super(Chrome, self).__init__(\n",
      "    ~~~~~~~~~~~~~~~~~~~~~~~~~~~~^\n",
      "        service=service,\n",
      "        ^^^^^^^^^^^^^^^^\n",
      "        options=options,\n",
      "        ^^^^^^^^^^^^^^^^\n",
      "        keep_alive=keep_alive,\n",
      "        ^^^^^^^^^^^^^^^^^^^^^^\n",
      "    )\n",
      "    ^\n",
      "  File \"/Users/macbook/Desktop/BecasaNetwork/crawl/env/lib/python3.13/site-packages/selenium/webdriver/chrome/webdriver.py\", line 45, in __init__\n",
      "    super().__init__(\n",
      "    ~~~~~~~~~~~~~~~~^\n",
      "        browser_name=DesiredCapabilities.CHROME[\"browserName\"],\n",
      "        ^^^^^^^^^^^^^^^^^^^^^^^^^^^^^^^^^^^^^^^^^^^^^^^^^^^^^^^\n",
      "    ...<3 lines>...\n",
      "        keep_alive=keep_alive,\n",
      "        ^^^^^^^^^^^^^^^^^^^^^^\n",
      "    )\n",
      "    ^\n",
      "  File \"/Users/macbook/Desktop/BecasaNetwork/crawl/env/lib/python3.13/site-packages/selenium/webdriver/chromium/webdriver.py\", line 55, in __init__\n",
      "    self.service.start()\n",
      "    ~~~~~~~~~~~~~~~~~~^^\n",
      "  File \"/Users/macbook/Desktop/BecasaNetwork/crawl/env/lib/python3.13/site-packages/selenium/webdriver/common/service.py\", line 113, in start\n",
      "    self.assert_process_still_running()\n",
      "    ~~~~~~~~~~~~~~~~~~~~~~~~~~~~~~~~~^^\n",
      "  File \"/Users/macbook/Desktop/BecasaNetwork/crawl/env/lib/python3.13/site-packages/selenium/webdriver/common/service.py\", line 126, in assert_process_still_running\n",
      "    raise WebDriverException(f\"Service {self._path} unexpectedly exited. Status code was: {return_code}\")\n",
      "selenium.common.exceptions.WebDriverException: Message: Service /Users/macbook/Library/Application Support/undetected_chromedriver/undetected_chromedriver unexpectedly exited. Status code was: -9\n",
      "\n",
      "\n",
      "During handling of the above exception, another exception occurred:\n",
      "\n",
      "Traceback (most recent call last):\n",
      "  File \"/Users/macbook/Desktop/BecasaNetwork/crawl/scrapepage.py\", line 139, in init_driver\n",
      "    driver = uc.Chrome(driver_executable_path=driver_path, options=options)\n",
      "  File \"/Users/macbook/Desktop/BecasaNetwork/crawl/env/lib/python3.13/site-packages/undetected_chromedriver/__init__.py\", line 269, in __init__\n",
      "    raise RuntimeError(\"you cannot reuse the ChromeOptions object\")\n",
      "RuntimeError: you cannot reuse the ChromeOptions object\n",
      "\n",
      "During handling of the above exception, another exception occurred:\n",
      "\n",
      "Traceback (most recent call last):\n",
      "  File \"/Users/macbook/Desktop/BecasaNetwork/crawl/scrapepage.py\", line 166, in scrape_page\n",
      "    driver = init_driver()\n",
      "  File \"/Users/macbook/Desktop/BecasaNetwork/crawl/scrapepage.py\", line 147, in init_driver\n",
      "    driver = webdriver.Chrome(service=service, options=options)\n",
      "  File \"/Users/macbook/Desktop/BecasaNetwork/crawl/env/lib/python3.13/site-packages/selenium/webdriver/chrome/webdriver.py\", line 45, in __init__\n",
      "    super().__init__(\n",
      "    ~~~~~~~~~~~~~~~~^\n",
      "        browser_name=DesiredCapabilities.CHROME[\"browserName\"],\n",
      "        ^^^^^^^^^^^^^^^^^^^^^^^^^^^^^^^^^^^^^^^^^^^^^^^^^^^^^^^\n",
      "    ...<3 lines>...\n",
      "        keep_alive=keep_alive,\n",
      "        ^^^^^^^^^^^^^^^^^^^^^^\n",
      "    )\n",
      "    ^\n",
      "  File \"/Users/macbook/Desktop/BecasaNetwork/crawl/env/lib/python3.13/site-packages/selenium/webdriver/chromium/webdriver.py\", line 55, in __init__\n",
      "    self.service.start()\n",
      "    ~~~~~~~~~~~~~~~~~~^^\n",
      "  File \"/Users/macbook/Desktop/BecasaNetwork/crawl/env/lib/python3.13/site-packages/selenium/webdriver/common/service.py\", line 120, in start\n",
      "    raise WebDriverException(f\"Can not connect to the Service {self._path}\")\n",
      "selenium.common.exceptions.WebDriverException: Message: Can not connect to the Service /Users/macbook/.wdm/drivers/chromedriver/mac64/135.0.7049.95/chromedriver-mac-arm64/chromedriver\n",
      "\n",
      "\n",
      "During handling of the above exception, another exception occurred:\n",
      "\n",
      "UnboundLocalError: cannot access local variable 'url' where it is not associated with a value\n",
      "\n",
      "During handling of the above exception, another exception occurred:\n",
      "\n",
      "Traceback (most recent call last):\n",
      "  File \"/Users/macbook/Desktop/BecasaNetwork/crawl/env/lib/python3.13/site-packages/selenium/webdriver/common/service.py\", line 184, in _terminate_process\n",
      "    self.process.wait(60)\n",
      "    ~~~~~~~~~~~~~~~~~^^^^\n",
      "  File \"/opt/homebrew/Cellar/python@3.13/3.13.2/Frameworks/Python.framework/Versions/3.13/lib/python3.13/subprocess.py\", line 1276, in wait\n",
      "    return self._wait(timeout=timeout)\n",
      "           ~~~~~~~~~~^^^^^^^^^^^^^^^^^\n",
      "  File \"/opt/homebrew/Cellar/python@3.13/3.13.2/Frameworks/Python.framework/Versions/3.13/lib/python3.13/subprocess.py\", line 2060, in _wait\n",
      "    raise TimeoutExpired(self.args, timeout)\n",
      "subprocess.TimeoutExpired: Command '['/Users/macbook/.wdm/drivers/chromedriver/mac64/135.0.7049.95/chromedriver-mac-arm64/chromedriver', '--port=53331']' timed out after 60 seconds\n",
      "Processing batches:  11%|█▏        | 132/1161 [16:12<4:17:18, 15.00s/it]"
     ]
    },
    {
     "name": "stdout",
     "output_type": "stream",
     "text": [
      "Error processing batch ['https://batdongsan.com.vn/cho-thue-can-ho-chung-cu-duong-nguyen-dinh-chieu-phuong-da-kao-prj-the-marq/c-1pn-1-tai-quan-1-dang-cap-tien-nghi-pr42450184']: cannot access local variable 'url' where it is not associated with a value\n",
      "Using Chrome with user agent: Mozilla/5.0 (Macintosh; Intel Mac OS X 10_15_7) AppleWebKit/537.36 (KHTML, like Gecko) Chrome/100.0.4896.127 Safari/537.36\n",
      "Error scraping url https://batdongsan.com.vn/cho-thue-can-ho-chung-cu-duong-kinh-duong-vuong-phuong-an-lac-a-prj-moonlight-boulevard/em-cho-1pn-full-noi-that-boulevard-pr41116215: 're__icon-document'\n"
     ]
    },
    {
     "name": "stderr",
     "output_type": "stream",
     "text": [
      "Processing batches:  11%|█▏        | 133/1161 [16:18<3:30:10, 12.27s/it]"
     ]
    },
    {
     "name": "stdout",
     "output_type": "stream",
     "text": [
      "Error scraping url https://batdongsan.com.vn/cho-thue-can-ho-chung-cu-mini-duong-pham-van-dong-phuong-1-21/cc-1pn-ban-cong-gan-cong-vien-gia-dinh-thuan-tien-di-san-bay-co-thang-may-pr42733660: 're__icon-front-view'\n"
     ]
    },
    {
     "name": "stderr",
     "output_type": "stream",
     "text": [
      "Processing batches:  12%|█▏        | 134/1161 [16:22<2:48:48,  9.86s/it]"
     ]
    },
    {
     "name": "stdout",
     "output_type": "stream",
     "text": [
      "Using Chrome with user agent: Mozilla/5.0 (Macintosh; Intel Mac OS X 10_15_7) AppleWebKit/537.36 (KHTML, like Gecko) Chrome/99.0.4844.84 Safari/537.36\n",
      "Using Chrome with user agent: Mozilla/5.0 (Windows NT 10.0; Win64; x64) AppleWebKit/537.36 (KHTML, like Gecko) Chrome/99.0.4844.84 Safari/537.36\n",
      "Error scraping url https://batdongsan.com.vn/cho-thue-nha-tro-phong-tro-duong-bui-dinh-tuy-phuong-12-7/con-cho-mat-tien-25m2-wc-rieng-co-ban-cong-2-7tr-thang-pr42683692: 're__icon-home'\n"
     ]
    },
    {
     "name": "stderr",
     "output_type": "stream",
     "text": [
      "Processing batches:  12%|█▏        | 135/1161 [16:35<3:05:13, 10.83s/it]"
     ]
    },
    {
     "name": "stdout",
     "output_type": "stream",
     "text": [
      "Using Chrome with user agent: Mozilla/5.0 (Windows NT 10.0; Win64; x64) AppleWebKit/537.36 (KHTML, like Gecko) Chrome/99.0.4844.84 Safari/537.36\n"
     ]
    },
    {
     "name": "stderr",
     "output_type": "stream",
     "text": [
      "Processing batches:  12%|█▏        | 136/1161 [16:46<3:02:52, 10.70s/it]"
     ]
    },
    {
     "name": "stdout",
     "output_type": "stream",
     "text": [
      "Error scraping url https://batdongsan.com.vn/cho-thue-can-ho-chung-cu-duong-n1-phuong-son-ky-prj-celadon-city/c-ngan-han-airbnb-dich-vu-lien-keg-aeon-mall-tan-phu-pr38927909: 're__icon-front-view'\n",
      "Using Chrome with user agent: Mozilla/5.0 (Windows NT 10.0; Win64; x64) AppleWebKit/537.36 (KHTML, like Gecko) Chrome/100.0.4896.127 Safari/537.36\n"
     ]
    },
    {
     "name": "stderr",
     "output_type": "stream",
     "text": [
      "Processing batches:  12%|█▏        | 137/1161 [16:53<2:46:29,  9.76s/it]"
     ]
    },
    {
     "name": "stdout",
     "output_type": "stream",
     "text": [
      "Error scraping url https://batdongsan.com.vn/cho-thue-can-ho-chung-cu-duong-tran-phu-phuong-4-13/chinh-chu-cho-mt-so-4-quan-5-tphcm-ke-ben-truong-chuyen-le-hong-phong-pr42237285: 're__icon-front-view'\n",
      "Using Chrome with user agent: Mozilla/5.0 (Windows NT 10.0; Win64; x64) AppleWebKit/537.36 (KHTML, like Gecko) Chrome/99.0.4844.84 Safari/537.36\n"
     ]
    },
    {
     "name": "stderr",
     "output_type": "stream",
     "text": [
      "Processing batches:  12%|█▏        | 138/1161 [17:04<2:51:22, 10.05s/it]"
     ]
    },
    {
     "name": "stdout",
     "output_type": "stream",
     "text": [
      "Error scraping url https://batdongsan.com.vn/cho-thue-can-ho-chung-cu-duong-an-duong-vuong-phuong-an-lac-6-prj-the-privia/cho-ch-khang-dien-giap-q6-51-68m2-2pn-tu-7-5tr-th-full-noi-that-9tr-mien-phi-qly-pr41020477: 're__icon-document'\n",
      "Using Chrome with user agent: Mozilla/5.0 (Windows NT 10.0; Win64; x64) AppleWebKit/537.36 (KHTML, like Gecko) Chrome/99.0.4844.84 Safari/537.36\n",
      "Error scraping url https://batdongsan.com.vn/cho-thue-can-ho-chung-cu-duong-nguyen-huu-tho-xa-phuoc-kieng-prj-sunrise-riverside/pkd-quan-ly-100-2pn-10tr-13tr-th-3pn-14-16tr-th-vao-o-duoc-lien-pr40019169: 're__icon-document'\n",
      "Error scraping url https://batdongsan.com.vn/cho-thue-can-ho-chung-cu-duong-n1-phuong-son-ky-prj-diamond-alnata-plus-celadon-city/c-2pn-noi-that-co-ban-lien-ke-aeon-mall-tan-phu-pr38927991: 're__icon-front-view'\n"
     ]
    },
    {
     "name": "stderr",
     "output_type": "stream",
     "text": [
      "Processing batches:  12%|█▏        | 140/1161 [17:14<1:59:26,  7.02s/it]"
     ]
    },
    {
     "name": "stdout",
     "output_type": "stream",
     "text": [
      "Using Chrome with user agent: Mozilla/5.0 (Windows NT 10.0; Win64; x64) AppleWebKit/537.36 (KHTML, like Gecko) Chrome/100.0.4896.127 Safari/537.36\n",
      "Using Chrome with user agent: Mozilla/5.0 (Macintosh; Intel Mac OS X 10_15_7) AppleWebKit/537.36 (KHTML, like Gecko) Chrome/100.0.4896.127 Safari/537.36\n",
      "Error scraping url https://batdongsan.com.vn/cho-thue-can-ho-chung-cu-duong-tan-chanh-hiep-21-phuong-tan-chanh-hiep-1-prj-hung-ngan-garden/sang-hd-2pnm-co-ban-cong-gia-6-5-trieu-1-thang-coc-pr41641794: 're__icon-front-view'\n"
     ]
    },
    {
     "name": "stderr",
     "output_type": "stream",
     "text": [
      "Processing batches:  12%|█▏        | 142/1161 [17:27<1:51:31,  6.57s/it]"
     ]
    },
    {
     "name": "stdout",
     "output_type": "stream",
     "text": [
      "Error scraping url https://batdongsan.com.vn/cho-thue-can-ho-chung-cu-phuong-son-ky-prj-diamond-alnata/c-2pn-2wc-92m2-full-noi-that-celadon-city-pr41287100: 're__icon-front-view'\n",
      "Error scraping url https://batdongsan.com.vn/cho-thue-can-ho-chung-cu-duong-bat-nan-phuong-thanh-my-loi-prj-one-verandah-mapletree/c-1pn-12-trieu-2pn-gia-14-trieu-view-song-dep-lung-linh-lh-pr38120919: 're__icon-front-view'\n",
      "Using Chrome with user agent: Mozilla/5.0 (Windows NT 10.0; Win64; x64) AppleWebKit/537.36 (KHTML, like Gecko) Chrome/100.0.4896.127 Safari/537.36\n"
     ]
    },
    {
     "name": "stderr",
     "output_type": "stream",
     "text": [
      "Processing batches:  12%|█▏        | 144/1161 [17:31<1:13:49,  4.36s/it]"
     ]
    },
    {
     "name": "stdout",
     "output_type": "stream",
     "text": [
      "Error scraping url https://batdongsan.com.vn/cho-thue-can-ho-chung-cu-duong-nguyen-huu-tho-xa-phuoc-kieng-prj-saigon-south-residences/c-dep-day-du-noi-that-vao-o-ngay-view-dep-tien-nghi-gia-cuc-mem-pr42666664: 're__icon-clock'\n",
      "Using Chrome with user agent: Mozilla/5.0 (Windows NT 10.0; Win64; x64) AppleWebKit/537.36 (KHTML, like Gecko) Chrome/99.0.4844.84 Safari/537.36\n",
      "Using Chrome with user agent: Mozilla/5.0 (Macintosh; Intel Mac OS X 10_15_7) AppleWebKit/537.36 (KHTML, like Gecko) Chrome/99.0.4844.84 Safari/537.36\n",
      "Using Chrome with user agent: Mozilla/5.0 (Macintosh; Intel Mac OS X 10_15_7) AppleWebKit/537.36 (KHTML, like Gecko) Chrome/99.0.4844.84 Safari/537.36\n",
      "Error scraping url https://batdongsan.com.vn/cho-thue-can-ho-chung-cu-duong-nguyen-huu-tho-xa-phuoc-kieng-prj-saigon-south-residences/c-residence-2pn-gia-13tr-th-3pn-gia-17tr-th-pr42671540: 're__icon-clock'\n"
     ]
    },
    {
     "name": "stderr",
     "output_type": "stream",
     "text": [
      "Processing batches:  12%|█▏        | 145/1161 [17:36<1:17:35,  4.58s/it]"
     ]
    },
    {
     "name": "stdout",
     "output_type": "stream",
     "text": [
      "Using Chrome with user agent: Mozilla/5.0 (Macintosh; Intel Mac OS X 10_15_7) AppleWebKit/537.36 (KHTML, like Gecko) Chrome/99.0.4844.84 Safari/537.36\n",
      "Error scraping url https://batdongsan.com.vn/cho-thue-can-ho-chung-cu-duong-nguyen-luong-bang-1-phuong-phu-my-9-prj-the-era-town/c-gia-re-quan-7-pr41824097: 're__icon-front-view'\n"
     ]
    },
    {
     "name": "stderr",
     "output_type": "stream",
     "text": [
      "Processing batches:  13%|█▎        | 146/1161 [17:46<1:43:14,  6.10s/it]"
     ]
    },
    {
     "name": "stdout",
     "output_type": "stream",
     "text": [
      "Error scraping url https://batdongsan.com.vn/cho-thue-can-ho-chung-cu-duong-nguyen-luong-bang-1-phuong-tan-phu-19-prj-riverside-residence/c-pmh-quan-7-150m2-3pn-35-trieu-th-lien-he-pr42490272: 're__icon-front-view'\n"
     ]
    },
    {
     "name": "stderr",
     "output_type": "stream",
     "text": [
      "Processing batches:  13%|█▎        | 147/1161 [17:48<1:23:09,  4.92s/it]"
     ]
    },
    {
     "name": "stdout",
     "output_type": "stream",
     "text": [
      "Using Chrome with user agent: Mozilla/5.0 (Windows NT 10.0; Win64; x64) AppleWebKit/537.36 (KHTML, like Gecko) Chrome/100.0.4896.127 Safari/537.36\n",
      "Using Chrome with user agent: Mozilla/5.0 (Windows NT 10.0; Win64; x64) AppleWebKit/537.36 (KHTML, like Gecko) Chrome/100.0.4896.127 Safari/537.36\n"
     ]
    },
    {
     "name": "stderr",
     "output_type": "stream",
     "text": [
      "Processing batches:  13%|█▎        | 148/1161 [17:55<1:33:32,  5.54s/it]"
     ]
    },
    {
     "name": "stdout",
     "output_type": "stream",
     "text": [
      "Error scraping url https://batdongsan.com.vn/cho-thue-can-ho-chung-cu-duong-so-7-phuong-an-lac-a-prj-moonlight-park-view/cho-2-phong-ngu-full-noi-that-huong-gio-mat-yen-tinh-dan-van-minh-gia-9-5trieu-th-pr40658403: 're__icon-wifi'\n",
      "Using Chrome with user agent: Mozilla/5.0 (Windows NT 10.0; Win64; x64) AppleWebKit/537.36 (KHTML, like Gecko) Chrome/100.0.4896.127 Safari/537.36\n"
     ]
    },
    {
     "name": "stderr",
     "output_type": "stream",
     "text": [
      "Processing batches:  13%|█▎        | 149/1161 [18:17<2:57:18, 10.51s/it]"
     ]
    },
    {
     "name": "stdout",
     "output_type": "stream",
     "text": [
      "Error scraping url https://batdongsan.com.vn/cho-thue-can-ho-chung-cu-duong-huynh-tan-phat-phuong-phu-thuan-3-prj-chung-cu-huynh-tan-phat/cho-cc-1pn-1wc-44m2-8-trieu-tai-q7-hcm-pr42675755: 're__icon-clock'\n",
      "Using Chrome with user agent: Mozilla/5.0 (Macintosh; Intel Mac OS X 10_15_7) AppleWebKit/537.36 (KHTML, like Gecko) Chrome/100.0.4896.127 Safari/537.36\n"
     ]
    },
    {
     "name": "stderr",
     "output_type": "stream",
     "text": [
      "Processing batches:  13%|█▎        | 150/1161 [18:26<2:50:33, 10.12s/it]"
     ]
    },
    {
     "name": "stdout",
     "output_type": "stream",
     "text": [
      "Using Chrome with user agent: Mozilla/5.0 (Macintosh; Intel Mac OS X 10_15_7) AppleWebKit/537.36 (KHTML, like Gecko) Chrome/100.0.4896.127 Safari/537.36\n"
     ]
    },
    {
     "name": "stderr",
     "output_type": "stream",
     "text": [
      "Processing batches:  13%|█▎        | 151/1161 [19:03<5:02:00, 17.94s/it]"
     ]
    },
    {
     "name": "stdout",
     "output_type": "stream",
     "text": [
      "Using Chrome with user agent: Mozilla/5.0 (Windows NT 10.0; Win64; x64) AppleWebKit/537.36 (KHTML, like Gecko) Chrome/99.0.4844.84 Safari/537.36\n"
     ]
    },
    {
     "name": "stderr",
     "output_type": "stream",
     "text": [
      "Processing batches:  13%|█▎        | 152/1161 [19:09<4:05:20, 14.59s/it]"
     ]
    },
    {
     "name": "stdout",
     "output_type": "stream",
     "text": [
      "Error scraping url https://batdongsan.com.vn/cho-thue-can-ho-chung-cu-duong-3-2-2-phuong-12-5-prj-hado-centrosa-garden/-cho-cho-gap-1pn-full-noi-that-nhan-nha-o-ngay-lh-xem-nha-pr40988271: 're__icon-document'\n",
      "Using Chrome with user agent: Mozilla/5.0 (Macintosh; Intel Mac OS X 10_15_7) AppleWebKit/537.36 (KHTML, like Gecko) Chrome/99.0.4844.84 Safari/537.36\n",
      "Error scraping url https://batdongsan.com.vn/cho-thue-can-ho-chung-cu-duong-ben-van-don-phuong-12-prj-the-tresor/cho-nhanh-3-phong-ngu-lau-cao-view-song-sai-gon-nha-dep-huong-dong-nam-mat-me-pr35302998: 're__icon-front-view'\n"
     ]
    },
    {
     "name": "stderr",
     "output_type": "stream",
     "text": [
      "Processing batches:  13%|█▎        | 153/1161 [19:17<3:28:40, 12.42s/it]"
     ]
    },
    {
     "name": "stdout",
     "output_type": "stream",
     "text": [
      "Using Chrome with user agent: Mozilla/5.0 (Macintosh; Intel Mac OS X 10_15_7) AppleWebKit/537.36 (KHTML, like Gecko) Chrome/99.0.4844.84 Safari/537.36\n"
     ]
    },
    {
     "name": "stderr",
     "output_type": "stream",
     "text": [
      "Processing batches:  13%|█▎        | 154/1161 [19:26<3:10:49, 11.37s/it]"
     ]
    },
    {
     "name": "stdout",
     "output_type": "stream",
     "text": [
      "Using Chrome with user agent: Mozilla/5.0 (Macintosh; Intel Mac OS X 10_15_7) AppleWebKit/537.36 (KHTML, like Gecko) Chrome/100.0.4896.127 Safari/537.36\n",
      "Error scraping url https://batdongsan.com.vn/cho-thue-nha-tro-phong-tro-duong-nguyen-huu-canh-phuong-22/6tr-p-balcon-khu-135-bt-goc-dbp-d1-van-thuong-pr41811238: 're__icon-road'\n"
     ]
    },
    {
     "name": "stderr",
     "output_type": "stream",
     "text": [
      "Processing batches:  13%|█▎        | 156/1161 [19:36<2:12:20,  7.90s/it]"
     ]
    },
    {
     "name": "stdout",
     "output_type": "stream",
     "text": [
      "Error scraping url https://batdongsan.com.vn/cho-thue-can-ho-chung-cu-mini-duong-nguyen-van-dau-phuong-5-16/cho-dep-14-trieu-65m2-tai-p-5-phu-nhuan-hcm-pr42759090: 're__icon-clock'\n",
      "Using Chrome with user agent: Mozilla/5.0 (Windows NT 10.0; Win64; x64) AppleWebKit/537.36 (KHTML, like Gecko) Chrome/100.0.4896.127 Safari/537.36\n",
      "Using Chrome with user agent: Mozilla/5.0 (Macintosh; Intel Mac OS X 10_15_7) AppleWebKit/537.36 (KHTML, like Gecko) Chrome/99.0.4844.84 Safari/537.36\n"
     ]
    },
    {
     "name": "stderr",
     "output_type": "stream",
     "text": [
      "Processing batches:  14%|█▎        | 157/1161 [19:44<2:12:42,  7.93s/it]"
     ]
    },
    {
     "name": "stdout",
     "output_type": "stream",
     "text": [
      "Error scraping url https://batdongsan.com.vn/cho-thue-nha-tro-phong-tro-duong-le-quang-dinh-phuong-7-9/5tr5-p-homestay-balcon-25m2-sieu-thoang-mt-ba-chieu-full-noi-that-pr42648560: 're__icon-home'\n",
      "Error scraping url https://batdongsan.com.vn/cho-thue-can-ho-chung-cu-duong-hoang-minh-giam-phuong-9-12-prj-garden-gate/c-gap-cc-75m2-2pn-2wc-full-nt-gia-15tr-th-lh-ni-na-pr42596648: 're__icon-clock'\n"
     ]
    },
    {
     "name": "stderr",
     "output_type": "stream",
     "text": [
      "Processing batches:  14%|█▎        | 158/1161 [19:44<1:33:48,  5.61s/it]"
     ]
    },
    {
     "name": "stdout",
     "output_type": "stream",
     "text": [
      "Using Chrome with user agent: Mozilla/5.0 (Macintosh; Intel Mac OS X 10_15_7) AppleWebKit/537.36 (KHTML, like Gecko) Chrome/99.0.4844.84 Safari/537.36\n",
      "Using Chrome with user agent: Mozilla/5.0 (Macintosh; Intel Mac OS X 10_15_7) AppleWebKit/537.36 (KHTML, like Gecko) Chrome/99.0.4844.84 Safari/537.36\n",
      "Error scraping url https://batdongsan.com.vn/cho-thue-can-ho-chung-cu-duong-16-5-phuong-linh-trung-prj-can-ho-linh-trung/-c-full-noi-that-pr41511330: 're__icon-front-view'\n"
     ]
    },
    {
     "name": "stderr",
     "output_type": "stream",
     "text": [
      "Processing batches:  14%|█▍        | 160/1161 [19:53<1:18:59,  4.73s/it]"
     ]
    },
    {
     "name": "stdout",
     "output_type": "stream",
     "text": [
      "Error scraping url https://batdongsan.com.vn/cho-thue-can-ho-chung-cu-duong-nguyen-duc-canh-phuong-tan-phong-9-prj-grand-view/c-cao-cap-grandview-c-phu-my-hung-quan-7-160m2gia-40tr-lien-he-em-hao-pr42576959: 're__icon-front-view'\n",
      "Using Chrome with user agent: Mozilla/5.0 (Windows NT 10.0; Win64; x64) AppleWebKit/537.36 (KHTML, like Gecko) Chrome/100.0.4896.127 Safari/537.36\n",
      "Using Chrome with user agent: Mozilla/5.0 (Windows NT 10.0; Win64; x64) AppleWebKit/537.36 (KHTML, like Gecko) Chrome/99.0.4844.84 Safari/537.36\n",
      "Error scraping url https://batdongsan.com.vn/cho-thue-nha-tro-phong-tro-duong-nguyen-trung-truc-phuong-5-14/binh-thanh-nho-sach-se-tien-nghi-pr42581606: 're__icon-front-view'\n"
     ]
    },
    {
     "name": "stderr",
     "output_type": "stream",
     "text": [
      "Processing batches:  14%|█▍        | 161/1161 [20:05<1:57:22,  7.04s/it]"
     ]
    },
    {
     "name": "stdout",
     "output_type": "stream",
     "text": [
      "Using Chrome with user agent: Mozilla/5.0 (Windows NT 10.0; Win64; x64) AppleWebKit/537.36 (KHTML, like Gecko) Chrome/99.0.4844.84 Safari/537.36\n",
      "Error scraping url https://batdongsan.com.vn/cho-thue-can-ho-chung-cu-pho-ton-duc-thang-phuong-ben-nghe-prj-vinhomes-golden-river-ba-son/cho-1pn-full-noi-that-sang-xin-min-chi-18tr-th-tai-lh-pr41837041: 're__icon-document'\n"
     ]
    },
    {
     "name": "stderr",
     "output_type": "stream",
     "text": [
      "Processing batches:  14%|█▍        | 162/1161 [20:13<2:01:22,  7.29s/it]"
     ]
    },
    {
     "name": "stdout",
     "output_type": "stream",
     "text": [
      "Using Chrome with user agent: Mozilla/5.0 (Macintosh; Intel Mac OS X 10_15_7) AppleWebKit/537.36 (KHTML, like Gecko) Chrome/100.0.4896.127 Safari/537.36\n",
      "Error scraping url https://batdongsan.com.vn/cho-thue-can-ho-chung-cu-duong-phu-thuan-phuong-tan-phu-19-prj-sunshine-sky-city/cho-nhieu-my-hung2pn-2wc-70m2-85m2-full-noi-that-gia-tu-15tr-17tr-pr41799110: 're__icon-document'\n"
     ]
    },
    {
     "name": "stderr",
     "output_type": "stream",
     "text": [
      "Processing batches:  14%|█▍        | 163/1161 [20:27<2:32:07,  9.15s/it]"
     ]
    },
    {
     "name": "stdout",
     "output_type": "stream",
     "text": [
      "Error scraping url https://batdongsan.com.vn/cho-thue-can-ho-chung-cu-duong-nguyen-thi-dinh-phuong-cat-lai-prj-citi-esto/citiesto-1pn-1wc-cho-nhanh-gia-6tr-thang-lh-pr40753761: 're__icon-front-view'\n"
     ]
    },
    {
     "name": "stderr",
     "output_type": "stream",
     "text": [
      "Processing batches:  14%|█▍        | 164/1161 [20:29<1:56:15,  7.00s/it]"
     ]
    },
    {
     "name": "stdout",
     "output_type": "stream",
     "text": [
      "Using Chrome with user agent: Mozilla/5.0 (Windows NT 10.0; Win64; x64) AppleWebKit/537.36 (KHTML, like Gecko) Chrome/99.0.4844.84 Safari/537.36\n",
      "Using Chrome with user agent: Mozilla/5.0 (Windows NT 10.0; Win64; x64) AppleWebKit/537.36 (KHTML, like Gecko) Chrome/99.0.4844.84 Safari/537.36\n"
     ]
    },
    {
     "name": "stderr",
     "output_type": "stream",
     "text": [
      "Processing batches:  14%|█▍        | 165/1161 [20:38<2:07:51,  7.70s/it]"
     ]
    },
    {
     "name": "stdout",
     "output_type": "stream",
     "text": [
      "Error scraping url https://batdongsan.com.vn/cho-thue-nha-tro-phong-tro-phuong-tan-thoi-hiep/chinh-chu-cho-20m2-co-may-lanh-gia-2-4-tr-gan-cau-vuot-mega-mall-pr42266176: 're__icon-home'\n",
      "Error scraping url https://batdongsan.com.vn/cho-thue-can-ho-chung-cu-duong-dai-lo-vong-cung-phuong-an-khanh-prj-the-galleria-residence/-gio-20-gia-tot-nhat-c-metropole-thu-thiem-pr42279001: 're__icon-front-view'\n"
     ]
    },
    {
     "name": "stderr",
     "output_type": "stream",
     "text": [
      "Processing batches:  14%|█▍        | 166/1161 [20:40<1:38:46,  5.96s/it]"
     ]
    },
    {
     "name": "stdout",
     "output_type": "stream",
     "text": [
      "First method failed: Message: Unable to obtain driver for chrome; For documentation on this error, please visit: https://www.selenium.dev/documentation/webdriver/troubleshooting/errors/driver_location\n",
      "\n",
      "Error scraping url https://batdongsan.com.vn/cho-thue-can-ho-chung-cu-duong-vo-van-kiet-phuong-16-1-prj-diamond-riverside/khach-gui-73m2-co-may-lanh-rem-lau-dep-gia-9trieu-thang-pr41514986: 're__icon-front-view'\n"
     ]
    },
    {
     "name": "stderr",
     "output_type": "stream",
     "text": [
      "Processing batches:  14%|█▍        | 167/1161 [20:40<1:11:44,  4.33s/it]"
     ]
    },
    {
     "name": "stdout",
     "output_type": "stream",
     "text": [
      "Using Chrome driver at: /Users/macbook/.wdm/drivers/chromedriver/mac64/135.0.7049.95/chromedriver-mac-arm64/chromedriver\n",
      "Second method failed: you cannot reuse the ChromeOptions object\n",
      "Using Chrome with user agent: Mozilla/5.0 (Windows NT 10.0; Win64; x64) AppleWebKit/537.36 (KHTML, like Gecko) Chrome/100.0.4896.127 Safari/537.36\n",
      "Using Chrome with user agent: Mozilla/5.0 (Windows NT 10.0; Win64; x64) AppleWebKit/537.36 (KHTML, like Gecko) Chrome/99.0.4844.84 Safari/537.36\n"
     ]
    },
    {
     "name": "stderr",
     "output_type": "stream",
     "text": [
      "Processing batches:  14%|█▍        | 168/1161 [21:01<2:30:54,  9.12s/it]"
     ]
    },
    {
     "name": "stdout",
     "output_type": "stream",
     "text": [
      "Error scraping url https://batdongsan.com.vn/cho-thue-can-ho-chung-cu-mini-phuong-an-phu-prj-an-phu-an-khanh/cho-cc-khh-7-3-trieu-30m2-full-noi-that-co-balcony-pr42768673: 're__icon-clock'\n",
      "Using Chrome with user agent: Mozilla/5.0 (Macintosh; Intel Mac OS X 10_15_7) AppleWebKit/537.36 (KHTML, like Gecko) Chrome/100.0.4896.127 Safari/537.36\n"
     ]
    },
    {
     "name": "stderr",
     "output_type": "stream",
     "text": [
      "Processing batches:  15%|█▍        | 169/1161 [21:05<2:07:34,  7.72s/it]"
     ]
    },
    {
     "name": "stdout",
     "output_type": "stream",
     "text": [
      "Error scraping url https://batdongsan.com.vn/cho-thue-can-ho-chung-cu-mini-pho-phan-dang-luu-phuong-3-21/cho-ch-1pn-balcon-55m2-full-nt-moi-100-nga-tu-phu-nhuan-xich-long-pr41862954: 're__icon-document'\n",
      "Using Chrome with user agent: Mozilla/5.0 (Macintosh; Intel Mac OS X 10_15_7) AppleWebKit/537.36 (KHTML, like Gecko) Chrome/99.0.4844.84 Safari/537.36\n",
      "Error scraping url https://batdongsan.com.vn/cho-thue-can-ho-chung-cu-duong-nguyen-duy-trinh-phuong-binh-trung-dong-prj-homyland-riverside/c-myland-2pn2wc-view-song-gia-chi-11-5t-thang-pr41651325: 're__icon-front-view'\n"
     ]
    },
    {
     "name": "stderr",
     "output_type": "stream",
     "text": [
      "Processing batches:  15%|█▍        | 170/1161 [21:11<2:01:04,  7.33s/it]"
     ]
    },
    {
     "name": "stdout",
     "output_type": "stream",
     "text": [
      "All Chrome initialization methods failed: Message: Can not connect to the Service /Users/macbook/.wdm/drivers/chromedriver/mac64/135.0.7049.95/chromedriver-mac-arm64/chromedriver\n",
      "\n",
      "Using Chrome with user agent: Mozilla/5.0 (Windows NT 10.0; Win64; x64) AppleWebKit/537.36 (KHTML, like Gecko) Chrome/100.0.4896.127 Safari/537.36\n",
      "Error scraping url https://batdongsan.com.vn/cho-thue-can-ho-chung-cu-duong-le-dai-hanh-phuong-15-4-prj-the-flemington/-c-quan-11-03-pn-gia-22tr-thang-lh-pr42340186: 're__icon-private-house'\n"
     ]
    },
    {
     "name": "stderr",
     "output_type": "stream",
     "text": [
      "Processing batches:  15%|█▍        | 171/1161 [21:29<2:53:44, 10.53s/it]"
     ]
    },
    {
     "name": "stdout",
     "output_type": "stream",
     "text": [
      "Using Chrome with user agent: Mozilla/5.0 (Macintosh; Intel Mac OS X 10_15_7) AppleWebKit/537.36 (KHTML, like Gecko) Chrome/99.0.4844.84 Safari/537.36\n"
     ]
    },
    {
     "name": "stderr",
     "output_type": "stream",
     "text": [
      "Processing batches:  15%|█▍        | 172/1161 [21:38<2:43:13,  9.90s/it]"
     ]
    },
    {
     "name": "stdout",
     "output_type": "stream",
     "text": [
      "Error scraping url https://batdongsan.com.vn/cho-thue-can-ho-chung-cu-duong-vo-van-kiet-phuong-an-lac-6-prj-akari-city-nam-long/cho-2pn1wc-6-5tr-2pn2wc-7-5tr-80m2-gia-9tr-free-phi-quan-ly-co-ngan-han-slot-oto-pr42652744: 're__icon-front-view'\n",
      "Using Chrome with user agent: Mozilla/5.0 (Macintosh; Intel Mac OS X 10_15_7) AppleWebKit/537.36 (KHTML, like Gecko) Chrome/99.0.4844.84 Safari/537.36\n",
      "Error scraping url https://batdongsan.com.vn/cho-thue-can-ho-chung-cu-duong-nguyen-thi-dinh-phuong-an-phu-prj-can-ho-dlusso/cho-cc-12-trieu-68m2-2pn-2wc-sieu-hot-pr42768879: 're__icon-clock'\n"
     ]
    },
    {
     "name": "stderr",
     "output_type": "stream",
     "text": [
      "Processing batches:  15%|█▍        | 174/1161 [22:11<3:17:09, 11.99s/it]"
     ]
    },
    {
     "name": "stdout",
     "output_type": "stream",
     "text": [
      "Using Chrome with user agent: Mozilla/5.0 (Macintosh; Intel Mac OS X 10_15_7) AppleWebKit/537.36 (KHTML, like Gecko) Chrome/99.0.4844.84 Safari/537.36\n"
     ]
    },
    {
     "name": "stderr",
     "output_type": "stream",
     "text": [
      "Service process refused to terminate gracefully with SIGTERM, escalating to SIGKILL.\n",
      "Traceback (most recent call last):\n",
      "  File \"/Users/macbook/Desktop/BecasaNetwork/crawl/env/lib/python3.13/site-packages/selenium/webdriver/common/driver_finder.py\", line 64, in _binary_paths\n",
      "    raise ValueError(f\"The path is not a valid file: {path}\")\n",
      "ValueError: The path is not a valid file: /Users/macbook/Library/Application Support/undetected_chromedriver/undetected_chromedriver\n",
      "\n",
      "The above exception was the direct cause of the following exception:\n",
      "\n",
      "Traceback (most recent call last):\n",
      "  File \"/Users/macbook/Desktop/BecasaNetwork/crawl/scrapepage.py\", line 132, in init_driver\n",
      "    driver = uc.Chrome(version_main=135, options=options)  # Specify a version that works with your Chrome\n",
      "  File \"/Users/macbook/Desktop/BecasaNetwork/crawl/env/lib/python3.13/site-packages/undetected_chromedriver/__init__.py\", line 466, in __init__\n",
      "    super(Chrome, self).__init__(\n",
      "    ~~~~~~~~~~~~~~~~~~~~~~~~~~~~^\n",
      "        service=service,\n",
      "        ^^^^^^^^^^^^^^^^\n",
      "        options=options,\n",
      "        ^^^^^^^^^^^^^^^^\n",
      "        keep_alive=keep_alive,\n",
      "        ^^^^^^^^^^^^^^^^^^^^^^\n",
      "    )\n",
      "    ^\n",
      "  File \"/Users/macbook/Desktop/BecasaNetwork/crawl/env/lib/python3.13/site-packages/selenium/webdriver/chrome/webdriver.py\", line 45, in __init__\n",
      "    super().__init__(\n",
      "    ~~~~~~~~~~~~~~~~^\n",
      "        browser_name=DesiredCapabilities.CHROME[\"browserName\"],\n",
      "        ^^^^^^^^^^^^^^^^^^^^^^^^^^^^^^^^^^^^^^^^^^^^^^^^^^^^^^^\n",
      "    ...<3 lines>...\n",
      "        keep_alive=keep_alive,\n",
      "        ^^^^^^^^^^^^^^^^^^^^^^\n",
      "    )\n",
      "    ^\n",
      "  File \"/Users/macbook/Desktop/BecasaNetwork/crawl/env/lib/python3.13/site-packages/selenium/webdriver/chromium/webdriver.py\", line 50, in __init__\n",
      "    if finder.get_browser_path():\n",
      "       ~~~~~~~~~~~~~~~~~~~~~~~^^\n",
      "  File \"/Users/macbook/Desktop/BecasaNetwork/crawl/env/lib/python3.13/site-packages/selenium/webdriver/common/driver_finder.py\", line 47, in get_browser_path\n",
      "    return self._binary_paths()[\"browser_path\"]\n",
      "           ~~~~~~~~~~~~~~~~~~^^\n",
      "  File \"/Users/macbook/Desktop/BecasaNetwork/crawl/env/lib/python3.13/site-packages/selenium/webdriver/common/driver_finder.py\", line 78, in _binary_paths\n",
      "    raise NoSuchDriverException(msg) from err\n",
      "selenium.common.exceptions.NoSuchDriverException: Message: Unable to obtain driver for chrome; For documentation on this error, please visit: https://www.selenium.dev/documentation/webdriver/troubleshooting/errors/driver_location\n",
      "\n",
      "\n",
      "During handling of the above exception, another exception occurred:\n",
      "\n",
      "Traceback (most recent call last):\n",
      "  File \"/Users/macbook/Desktop/BecasaNetwork/crawl/scrapepage.py\", line 139, in init_driver\n",
      "    driver = uc.Chrome(driver_executable_path=driver_path, options=options)\n",
      "  File \"/Users/macbook/Desktop/BecasaNetwork/crawl/env/lib/python3.13/site-packages/undetected_chromedriver/__init__.py\", line 269, in __init__\n",
      "    raise RuntimeError(\"you cannot reuse the ChromeOptions object\")\n",
      "RuntimeError: you cannot reuse the ChromeOptions object\n",
      "\n",
      "During handling of the above exception, another exception occurred:\n",
      "\n",
      "Traceback (most recent call last):\n",
      "  File \"/Users/macbook/Desktop/BecasaNetwork/crawl/scrapepage.py\", line 166, in scrape_page\n",
      "    driver = init_driver()\n",
      "  File \"/Users/macbook/Desktop/BecasaNetwork/crawl/scrapepage.py\", line 147, in init_driver\n",
      "    driver = webdriver.Chrome(service=service, options=options)\n",
      "  File \"/Users/macbook/Desktop/BecasaNetwork/crawl/env/lib/python3.13/site-packages/selenium/webdriver/chrome/webdriver.py\", line 45, in __init__\n",
      "    super().__init__(\n",
      "    ~~~~~~~~~~~~~~~~^\n",
      "        browser_name=DesiredCapabilities.CHROME[\"browserName\"],\n",
      "        ^^^^^^^^^^^^^^^^^^^^^^^^^^^^^^^^^^^^^^^^^^^^^^^^^^^^^^^\n",
      "    ...<3 lines>...\n",
      "        keep_alive=keep_alive,\n",
      "        ^^^^^^^^^^^^^^^^^^^^^^\n",
      "    )\n",
      "    ^\n",
      "  File \"/Users/macbook/Desktop/BecasaNetwork/crawl/env/lib/python3.13/site-packages/selenium/webdriver/chromium/webdriver.py\", line 55, in __init__\n",
      "    self.service.start()\n",
      "    ~~~~~~~~~~~~~~~~~~^^\n",
      "  File \"/Users/macbook/Desktop/BecasaNetwork/crawl/env/lib/python3.13/site-packages/selenium/webdriver/common/service.py\", line 120, in start\n",
      "    raise WebDriverException(f\"Can not connect to the Service {self._path}\")\n",
      "selenium.common.exceptions.WebDriverException: Message: Can not connect to the Service /Users/macbook/.wdm/drivers/chromedriver/mac64/135.0.7049.95/chromedriver-mac-arm64/chromedriver\n",
      "\n",
      "\n",
      "During handling of the above exception, another exception occurred:\n",
      "\n",
      "UnboundLocalError: cannot access local variable 'url' where it is not associated with a value\n",
      "\n",
      "During handling of the above exception, another exception occurred:\n",
      "\n",
      "Traceback (most recent call last):\n",
      "  File \"/Users/macbook/Desktop/BecasaNetwork/crawl/env/lib/python3.13/site-packages/selenium/webdriver/common/service.py\", line 184, in _terminate_process\n",
      "    self.process.wait(60)\n",
      "    ~~~~~~~~~~~~~~~~~^^^^\n",
      "  File \"/opt/homebrew/Cellar/python@3.13/3.13.2/Frameworks/Python.framework/Versions/3.13/lib/python3.13/subprocess.py\", line 1276, in wait\n",
      "    return self._wait(timeout=timeout)\n",
      "           ~~~~~~~~~~^^^^^^^^^^^^^^^^^\n",
      "  File \"/opt/homebrew/Cellar/python@3.13/3.13.2/Frameworks/Python.framework/Versions/3.13/lib/python3.13/subprocess.py\", line 2060, in _wait\n",
      "    raise TimeoutExpired(self.args, timeout)\n",
      "subprocess.TimeoutExpired: Command '['/Users/macbook/.wdm/drivers/chromedriver/mac64/135.0.7049.95/chromedriver-mac-arm64/chromedriver', '--port=57838']' timed out after 60 seconds\n",
      "Processing batches:  15%|█▌        | 175/1161 [22:14<2:32:29,  9.28s/it]"
     ]
    },
    {
     "name": "stdout",
     "output_type": "stream",
     "text": [
      "Error processing batch ['https://batdongsan.com.vn/cho-thue-can-ho-chung-cu-duong-quoc-lo-1a-phuong-tan-tao-prj-angia-star/cac-an-gia-binh-cho-gia-tot-pr42347863']: cannot access local variable 'url' where it is not associated with a value\n",
      "Using Chrome with user agent: Mozilla/5.0 (Macintosh; Intel Mac OS X 10_15_7) AppleWebKit/537.36 (KHTML, like Gecko) Chrome/100.0.4896.127 Safari/537.36\n",
      "Using Chrome with user agent: Mozilla/5.0 (Macintosh; Intel Mac OS X 10_15_7) AppleWebKit/537.36 (KHTML, like Gecko) Chrome/99.0.4844.84 Safari/537.36\n",
      "Error scraping url https://batdongsan.com.vn/cho-thue-can-ho-chung-cu-duong-dao-tri-phuong-phu-thuan-3-prj-q7-saigon-riverside/-complex-c-chinh-chu-pr42736999: 're__icon-front-view'\n"
     ]
    },
    {
     "name": "stderr",
     "output_type": "stream",
     "text": [
      "Processing batches:  15%|█▌        | 176/1161 [22:20<2:19:02,  8.47s/it]"
     ]
    },
    {
     "name": "stdout",
     "output_type": "stream",
     "text": [
      "Error scraping url https://batdongsan.com.vn/cho-thue-can-ho-chung-cu-duong-nguyen-duc-canh-phuong-tan-phong-9-prj-grand-view/c-quan-7-120m2-biet-thu-gia-25tr-thang-lien-he-ms-ha-pr42518150: 're__icon-front-view'\n"
     ]
    },
    {
     "name": "stderr",
     "output_type": "stream",
     "text": [
      "Processing batches:  15%|█▌        | 178/1161 [22:24<1:23:24,  5.09s/it]"
     ]
    },
    {
     "name": "stdout",
     "output_type": "stream",
     "text": [
      "Error scraping url https://batdongsan.com.vn/cho-thue-can-ho-chung-cu-mini-duong-tran-dinh-xu-phuong-cau-kho/chinh-chu-cho-1pn-vip-45m2-may-giat-rieng-gan-ben-thanh-giam-kich-san-chi-con-8tr-th-pr42711103: 're__icon-front-view'\n",
      "Using Chrome with user agent: Mozilla/5.0 (Windows NT 10.0; Win64; x64) AppleWebKit/537.36 (KHTML, like Gecko) Chrome/99.0.4844.84 Safari/537.36\n",
      "Error scraping url https://batdongsan.com.vn/cho-thue-can-ho-chung-cu-duong-dao-tri-phuong-phu-thuan-3-prj-q7-saigon-riverside/c-1pn-1-full-nt-dep-gia-11tr-o-ngay-lh-bao-xem-nha-pr42722543: 're__icon-front-view'\n",
      "Using Chrome with user agent: Mozilla/5.0 (Macintosh; Intel Mac OS X 10_15_7) AppleWebKit/537.36 (KHTML, like Gecko) Chrome/99.0.4844.84 Safari/537.36\n"
     ]
    },
    {
     "name": "stderr",
     "output_type": "stream",
     "text": [
      "Processing batches:  15%|█▌        | 179/1161 [22:31<1:31:01,  5.56s/it]"
     ]
    },
    {
     "name": "stdout",
     "output_type": "stream",
     "text": [
      "Using Chrome with user agent: Mozilla/5.0 (Windows NT 10.0; Win64; x64) AppleWebKit/537.36 (KHTML, like Gecko) Chrome/99.0.4844.84 Safari/537.36\n",
      "Using Chrome with user agent: Mozilla/5.0 (Macintosh; Intel Mac OS X 10_15_7) AppleWebKit/537.36 (KHTML, like Gecko) Chrome/100.0.4896.127 Safari/537.36\n",
      "Error scraping url https://batdongsan.com.vn/cho-thue-can-ho-chung-cu-mini-duong-le-quang-dinh-phuong-7-9/sieu-1-png-ngu-tach-bep-2-balcon-voi-dien-tich-60m2-rong-rai-ngay-quan-bt-pr42436994: 're__icon-front-view'\n"
     ]
    },
    {
     "name": "stderr",
     "output_type": "stream",
     "text": [
      "Processing batches:  16%|█▌        | 180/1161 [22:42<1:56:11,  7.11s/it]"
     ]
    },
    {
     "name": "stdout",
     "output_type": "stream",
     "text": [
      "Error scraping url https://batdongsan.com.vn/cho-thue-can-ho-chung-cu-duong-tan-tuc-thi-tran-tan-tuc-prj-westgate/cho-gia-12-trieu-full-noi-that-dep-view-dep-mat-me-nhat-thap-vao-o-lien-pr42563893: 're__icon-electricity'\n"
     ]
    },
    {
     "name": "stderr",
     "output_type": "stream",
     "text": [
      "Processing batches:  16%|█▌        | 181/1161 [22:43<1:26:16,  5.28s/it]"
     ]
    },
    {
     "name": "stdout",
     "output_type": "stream",
     "text": [
      "Using Chrome with user agent: Mozilla/5.0 (Macintosh; Intel Mac OS X 10_15_7) AppleWebKit/537.36 (KHTML, like Gecko) Chrome/99.0.4844.84 Safari/537.36\n",
      "Using Chrome with user agent: Mozilla/5.0 (Windows NT 10.0; Win64; x64) AppleWebKit/537.36 (KHTML, like Gecko) Chrome/99.0.4844.84 Safari/537.36\n"
     ]
    },
    {
     "name": "stderr",
     "output_type": "stream",
     "text": [
      "Processing batches:  16%|█▌        | 182/1161 [22:54<1:55:43,  7.09s/it]"
     ]
    },
    {
     "name": "stdout",
     "output_type": "stream",
     "text": [
      "Error scraping url https://batdongsan.com.vn/cho-thue-can-ho-chung-cu-duong-nguyen-huu-canh-phuong-22-prj-opal-saigon-pearl/hai-yen-nam-minh-land-c-tower-3-pn-160m2-noi-that-dep-pr41933873: 're__icon-clock'\n",
      "Using Chrome with user agent: Mozilla/5.0 (Macintosh; Intel Mac OS X 10_15_7) AppleWebKit/537.36 (KHTML, like Gecko) Chrome/99.0.4844.84 Safari/537.36\n",
      "Error scraping url https://batdongsan.com.vn/cho-thue-can-ho-chung-cu-duong-tan-tuc-thi-tran-tan-tuc-prj-westgate/cho-60m2-gia-8-trieu-full-noi-that-pr42564084: 're__icon-electricity'\n"
     ]
    },
    {
     "name": "stderr",
     "output_type": "stream",
     "text": [
      "Processing batches:  16%|█▌        | 183/1161 [23:03<2:05:12,  7.68s/it]"
     ]
    },
    {
     "name": "stdout",
     "output_type": "stream",
     "text": [
      "Error scraping url https://batdongsan.com.vn/cho-thue-can-ho-chung-cu-duong-nguyen-van-linh-phuong-tan-phong-9-prj-lavida-plus/-c-gap-quan-7-2pn-dien-tich-75m2-tang-cao-full-noi-that-moi-pr42768205: 're__icon-clock'\n"
     ]
    },
    {
     "name": "stderr",
     "output_type": "stream",
     "text": [
      "Processing batches:  16%|█▌        | 184/1161 [23:05<1:38:43,  6.06s/it]"
     ]
    },
    {
     "name": "stdout",
     "output_type": "stream",
     "text": [
      "Using Chrome with user agent: Mozilla/5.0 (Windows NT 10.0; Win64; x64) AppleWebKit/537.36 (KHTML, like Gecko) Chrome/100.0.4896.127 Safari/537.36\n",
      "Using Chrome with user agent: Mozilla/5.0 (Windows NT 10.0; Win64; x64) AppleWebKit/537.36 (KHTML, like Gecko) Chrome/100.0.4896.127 Safari/537.36\n",
      "Error scraping url https://batdongsan.com.vn/cho-thue-can-ho-chung-cu-mini-pho-luong-dinh-cua-phuong-an-phu/hang-hiem-1-phong-ngu-65m2-ban-cong-rong-bon-tam-nam-gan-tran-nao-cau-sai-gon-sala-metro-pr42229243: 're__icon-clock'\n"
     ]
    },
    {
     "name": "stderr",
     "output_type": "stream",
     "text": [
      "Processing batches:  16%|█▌        | 185/1161 [23:21<2:25:24,  8.94s/it]"
     ]
    },
    {
     "name": "stdout",
     "output_type": "stream",
     "text": [
      "Error scraping url https://batdongsan.com.vn/cho-thue-can-ho-chung-cu-duong-ton-dat-tien-phuong-tan-phu-19-prj-scenic-valley-1/c-quan-7-133m2-3pn-goc-lau-cao-gia-30tr-call-ha-pr42758172: 're__icon-front-view'\n"
     ]
    },
    {
     "name": "stderr",
     "output_type": "stream",
     "text": [
      "Processing batches:  16%|█▌        | 186/1161 [23:24<1:55:45,  7.12s/it]"
     ]
    },
    {
     "name": "stdout",
     "output_type": "stream",
     "text": [
      "Using Chrome with user agent: Mozilla/5.0 (Windows NT 10.0; Win64; x64) AppleWebKit/537.36 (KHTML, like Gecko) Chrome/99.0.4844.84 Safari/537.36\n",
      "Using Chrome with user agent: Mozilla/5.0 (Windows NT 10.0; Win64; x64) AppleWebKit/537.36 (KHTML, like Gecko) Chrome/100.0.4896.127 Safari/537.36\n"
     ]
    },
    {
     "name": "stderr",
     "output_type": "stream",
     "text": [
      "Processing batches:  16%|█▌        | 187/1161 [23:32<2:00:30,  7.42s/it]"
     ]
    },
    {
     "name": "stdout",
     "output_type": "stream",
     "text": [
      "Error scraping url https://batdongsan.com.vn/cho-thue-can-ho-chung-cu-duong-phu-thuan-phuong-tan-phu-19-prj-sunshine-sky-city/c-2pn2wc-full-noi-that-gia-tot-nhat-thi-truong-15tr-city-pr42236056: 're__icon-clock'\n",
      "Using Chrome with user agent: Mozilla/5.0 (Macintosh; Intel Mac OS X 10_15_7) AppleWebKit/537.36 (KHTML, like Gecko) Chrome/100.0.4896.127 Safari/537.36\n",
      "Error scraping url https://batdongsan.com.vn/cho-thue-can-ho-chung-cu-duong-le-dai-hanh-phuong-15-4-prj-the-flemington/lh-de-quan-11-loai-97m2-3pn-2wc-full-noi-that-pr41968138: 're__icon-clock'\n"
     ]
    },
    {
     "name": "stderr",
     "output_type": "stream",
     "text": [
      "Processing batches:  16%|█▌        | 188/1161 [23:38<1:56:07,  7.16s/it]"
     ]
    },
    {
     "name": "stdout",
     "output_type": "stream",
     "text": [
      "Using Chrome with user agent: Mozilla/5.0 (Macintosh; Intel Mac OS X 10_15_7) AppleWebKit/537.36 (KHTML, like Gecko) Chrome/99.0.4844.84 Safari/537.36\n"
     ]
    },
    {
     "name": "stderr",
     "output_type": "stream",
     "text": [
      "Processing batches:  16%|█▋        | 189/1161 [23:44<1:47:29,  6.64s/it]"
     ]
    },
    {
     "name": "stdout",
     "output_type": "stream",
     "text": [
      "Error scraping url https://batdongsan.com.vn/cho-thue-can-ho-chung-cu-duong-song-hanh-phuong-an-phu-prj-palm-heights/loc-cac-3pn-tu-ntcb-den-full-noi-that-gia-chi-18-tr-thang-lh-xem-nha-24-7-pr41225966: 're__icon-front-view'\n",
      "Using Chrome with user agent: Mozilla/5.0 (Windows NT 10.0; Win64; x64) AppleWebKit/537.36 (KHTML, like Gecko) Chrome/99.0.4844.84 Safari/537.36\n"
     ]
    },
    {
     "name": "stderr",
     "output_type": "stream",
     "text": [
      "Processing batches:  16%|█▋        | 190/1161 [23:51<1:50:39,  6.84s/it]"
     ]
    },
    {
     "name": "stdout",
     "output_type": "stream",
     "text": [
      "Error scraping url https://batdongsan.com.vn/cho-thue-can-ho-chung-cu-duong-ben-van-don-phuong-12-prj-saigon-royal-residence/tin-that-cho-2pn-gia-18tr-thang-lh-pr42678395: Message: no such element: Unable to locate element: {\"method\":\"css selector\",\"selector\":\"h1[class*='re__pr-title pr-title js__pr-title']\"}\n",
      "  (Session info: chrome=135.0.7049.96); For documentation on this error, please visit: https://www.selenium.dev/documentation/webdriver/troubleshooting/errors#no-such-element-exception\n",
      "Stacktrace:\n",
      "0   undetected_chromedriver             0x0000000104f0c448 undetected_chromedriver + 6149192\n",
      "1   undetected_chromedriver             0x0000000104f03b0a undetected_chromedriver + 6114058\n",
      "2   undetected_chromedriver             0x0000000104994e80 undetected_chromedriver + 417408\n",
      "3   undetected_chromedriver             0x00000001049e6587 undetected_chromedriver + 750983\n",
      "4   undetected_chromedriver             0x00000001049e67a1 undetected_chromedriver + 751521\n",
      "5   undetected_chromedriver             0x0000000104a36784 undetected_chromedriver + 1079172\n",
      "6   undetected_chromedriver             0x0000000104a0c7bd undetected_chromedriver + 907197\n",
      "7   undetected_chromedriver             0x0000000104a33aca undetected_chromedriver + 1067722\n",
      "8   undetected_chromedriver             0x0000000104a0c563 undetected_chromedriver + 906595\n",
      "9   undetected_chromedriver             0x00000001049d8955 undetected_chromedriver + 694613\n",
      "10  undetected_chromedriver             0x00000001049d95b1 undetected_chromedriver + 697777\n",
      "11  undetected_chromedriver             0x0000000104ec9f00 undetected_chromedriver + 5877504\n",
      "12  undetected_chromedriver             0x0000000104ecddf1 undetected_chromedriver + 5893617\n",
      "13  undetected_chromedriver             0x0000000104ea4344 undetected_chromedriver + 5722948\n",
      "14  undetected_chromedriver             0x0000000104ece80b undetected_chromedriver + 5896203\n",
      "15  undetected_chromedriver             0x0000000104e92ac4 undetected_chromedriver + 5651140\n",
      "16  undetected_chromedriver             0x0000000104ef1918 undetected_chromedriver + 6039832\n",
      "17  undetected_chromedriver             0x0000000104ef1ae0 undetected_chromedriver + 6040288\n",
      "18  undetected_chromedriver             0x0000000104f036d1 undetected_chromedriver + 6112977\n",
      "19  libsystem_pthread.dylib             0x00007ff8053ac18b _pthread_start + 99\n",
      "20  libsystem_pthread.dylib             0x00007ff8053a7ae3 thread_start + 15\n",
      "\n",
      "Using Chrome with user agent: Mozilla/5.0 (Macintosh; Intel Mac OS X 10_15_7) AppleWebKit/537.36 (KHTML, like Gecko) Chrome/100.0.4896.127 Safari/537.36\n"
     ]
    },
    {
     "name": "stderr",
     "output_type": "stream",
     "text": [
      "Processing batches:  16%|█▋        | 191/1161 [23:59<1:53:12,  7.00s/it]"
     ]
    },
    {
     "name": "stdout",
     "output_type": "stream",
     "text": [
      "Error scraping url https://batdongsan.com.vn/cho-thue-can-ho-chung-cu-duong-so-6-phuong-hiep-binh-phuoc-prj-urban-green/chu-cho-1pn-50m2-tu-ntcb-full-nt-nhan-nha-ngay-inbox-em-nham-pr41729702: 're__icon-front-view'\n",
      "Error scraping url https://batdongsan.com.vn/cho-thue-can-ho-chung-cu-mini-duong-nguyen-cuu-van-phuong-17-1/c-cc-1pn-1wc-45m2-co-gym-boi-gia-tot-p-17-binh-thanh-hcm-pr42743816: 're__icon-clock'\n",
      "Using Chrome with user agent: Mozilla/5.0 (Windows NT 10.0; Win64; x64) AppleWebKit/537.36 (KHTML, like Gecko) Chrome/99.0.4844.84 Safari/537.36\n"
     ]
    },
    {
     "name": "stderr",
     "output_type": "stream",
     "text": [
      "Processing batches:  17%|█▋        | 192/1161 [24:02<1:36:45,  5.99s/it]"
     ]
    },
    {
     "name": "stdout",
     "output_type": "stream",
     "text": [
      "Using Chrome with user agent: Mozilla/5.0 (Macintosh; Intel Mac OS X 10_15_7) AppleWebKit/537.36 (KHTML, like Gecko) Chrome/100.0.4896.127 Safari/537.36\n"
     ]
    },
    {
     "name": "stderr",
     "output_type": "stream",
     "text": [
      "Processing batches:  17%|█▋        | 193/1161 [24:18<2:24:54,  8.98s/it]"
     ]
    },
    {
     "name": "stdout",
     "output_type": "stream",
     "text": [
      "Error scraping url https://batdongsan.com.vn/cho-thue-can-ho-chung-cu-duong-nguyen-khoai-phuong-1-prj-galaxy-9/cho-9-quan-4-3pn-3wc-103m2-full-noi-that-cho-gia-21-trieu-xem-nha-moi-luc-pr42597774: 're__icon-private-house'\n",
      "Using Chrome with user agent: Mozilla/5.0 (Macintosh; Intel Mac OS X 10_15_7) AppleWebKit/537.36 (KHTML, like Gecko) Chrome/99.0.4844.84 Safari/537.36\n",
      "Error scraping url https://batdongsan.com.vn/cho-thue-can-ho-chung-cu-duong-nguyen-co-thach-phuong-an-khanh-prj-the-river-thu-thiem/hung-c-94m2-2pn-gia-cuc-tot-chi-25-trieu-thang-pr41584751: 're__icon-document'\n"
     ]
    },
    {
     "name": "stderr",
     "output_type": "stream",
     "text": [
      "Processing batches:  17%|█▋        | 194/1161 [24:48<4:06:01, 15.27s/it]"
     ]
    },
    {
     "name": "stdout",
     "output_type": "stream",
     "text": [
      "Using Chrome with user agent: Mozilla/5.0 (Windows NT 10.0; Win64; x64) AppleWebKit/537.36 (KHTML, like Gecko) Chrome/100.0.4896.127 Safari/537.36\n"
     ]
    },
    {
     "name": "stderr",
     "output_type": "stream",
     "text": [
      "Processing batches:  17%|█▋        | 195/1161 [24:58<3:41:29, 13.76s/it]"
     ]
    },
    {
     "name": "stdout",
     "output_type": "stream",
     "text": [
      "Error scraping url https://batdongsan.com.vn/cho-thue-can-ho-chung-cu-duong-nguyen-van-huong-phuong-thao-dien-prj-thao-dien-green/cho-1pn-full-noi-that-cao-cap-gia-25tr-thang-lh-pr42156473: 're__icon-front-view'\n",
      "Using Chrome with user agent: Mozilla/5.0 (Windows NT 10.0; Win64; x64) AppleWebKit/537.36 (KHTML, like Gecko) Chrome/99.0.4844.84 Safari/537.36\n",
      "Error scraping url https://batdongsan.com.vn/cho-thue-can-ho-chung-cu-duong-nguyen-duc-canh-phuong-tan-phong-9-prj-riverpark-residence/c-dep-xuat-sac-c-tai-51-633-trieu-132m2-pr42721266: HTTPConnectionPool(host='localhost', port=55651): Read timed out. (read timeout=120)\n"
     ]
    },
    {
     "name": "stderr",
     "output_type": "stream",
     "text": [
      "Processing batches:  17%|█▋        | 196/1161 [25:24<4:38:26, 17.31s/it]"
     ]
    },
    {
     "name": "stdout",
     "output_type": "stream",
     "text": [
      "Using Chrome with user agent: Mozilla/5.0 (Windows NT 10.0; Win64; x64) AppleWebKit/537.36 (KHTML, like Gecko) Chrome/100.0.4896.127 Safari/537.36\n",
      "Error scraping url https://batdongsan.com.vn/cho-thue-can-ho-chung-cu-duong-song-hanh-phuong-an-phu-prj-estella-heights/-3-pn-c-full-noi-that-gia-cuc-tot-chi-48-trieu-thang-xem-nha-24-7-pr42069337: 're__icon-document'\n"
     ]
    },
    {
     "name": "stderr",
     "output_type": "stream",
     "text": [
      "Processing batches:  17%|█▋        | 197/1161 [25:36<4:13:56, 15.81s/it]"
     ]
    },
    {
     "name": "stdout",
     "output_type": "stream",
     "text": [
      "Using Chrome with user agent: Mozilla/5.0 (Windows NT 10.0; Win64; x64) AppleWebKit/537.36 (KHTML, like Gecko) Chrome/100.0.4896.127 Safari/537.36\n"
     ]
    },
    {
     "name": "stderr",
     "output_type": "stream",
     "text": [
      "Processing batches:  17%|█▋        | 198/1161 [25:43<3:32:20, 13.23s/it]"
     ]
    },
    {
     "name": "stdout",
     "output_type": "stream",
     "text": [
      "Error scraping url https://batdongsan.com.vn/cho-thue-can-ho-chung-cu-mini-duong-phan-chu-trinh-phuong-24/-2pn-binh-thanh-sat-c-ba-chieu-ban-cong-lon-bep-rieng-may-giat-rieng-pr42756014: 're__icon-front-view'\n",
      "Error scraping url https://batdongsan.com.vn/cho-thue-nha-tro-phong-tro-duong-nguyen-thuong-hien-phuong-1-21/room-duplex-cua-so-lon-tang-tret-cach-dh-cn4-1km-moi-xay-new-pr42245543: 're__icon-home'\n"
     ]
    },
    {
     "name": "stderr",
     "output_type": "stream",
     "text": [
      "Processing batches:  17%|█▋        | 199/1161 [25:45<2:34:22,  9.63s/it]"
     ]
    },
    {
     "name": "stdout",
     "output_type": "stream",
     "text": [
      "First method failed: Message: Service /Users/macbook/Library/Application Support/undetected_chromedriver/undetected_chromedriver unexpectedly exited. Status code was: -9\n",
      "\n",
      "Using Chrome driver at: /Users/macbook/.wdm/drivers/chromedriver/mac64/135.0.7049.95/chromedriver-mac-arm64/chromedriver\n",
      "Second method failed: you cannot reuse the ChromeOptions object\n",
      "Using Chrome with user agent: Mozilla/5.0 (Macintosh; Intel Mac OS X 10_15_7) AppleWebKit/537.36 (KHTML, like Gecko) Chrome/99.0.4844.84 Safari/537.36\n"
     ]
    },
    {
     "name": "stderr",
     "output_type": "stream",
     "text": [
      "Processing batches:  17%|█▋        | 200/1161 [25:55<2:37:58,  9.86s/it]"
     ]
    },
    {
     "name": "stdout",
     "output_type": "stream",
     "text": [
      "Error scraping url https://batdongsan.com.vn/cho-thue-can-ho-chung-cu-mini-duong-nguyen-hoang-phuong-an-phu/khai-truong-hien-dai-ngay-khu-biet-thu-g-ga-metro-co-thg-may-pr42079960: 're__icon-clock'\n",
      "Using Chrome with user agent: Mozilla/5.0 (Macintosh; Intel Mac OS X 10_15_7) AppleWebKit/537.36 (KHTML, like Gecko) Chrome/99.0.4844.84 Safari/537.36\n",
      "Error scraping url https://batdongsan.com.vn/cho-thue-can-ho-chung-cu-duong-ben-van-don-phuong-12-prj-the-tresor/ot-nha-dep-gia-chi-12tr5-40m2-cua-so-full-kinh-dep-em-hai-pr42707979: HTTPConnectionPool(host='localhost', port=56738): Read timed out. (read timeout=120)\n"
     ]
    },
    {
     "name": "stderr",
     "output_type": "stream",
     "text": [
      "Processing batches:  17%|█▋        | 201/1161 [26:08<2:53:05, 10.82s/it]"
     ]
    },
    {
     "name": "stdout",
     "output_type": "stream",
     "text": [
      "Using Chrome with user agent: Mozilla/5.0 (Windows NT 10.0; Win64; x64) AppleWebKit/537.36 (KHTML, like Gecko) Chrome/100.0.4896.127 Safari/537.36\n",
      "All Chrome initialization methods failed: Message: Can not connect to the Service /Users/macbook/.wdm/drivers/chromedriver/mac64/135.0.7049.95/chromedriver-mac-arm64/chromedriver\n",
      "\n",
      "Error scraping url https://batdongsan.com.vn/cho-thue-can-ho-chung-cu-duong-ton-dat-tien-phuong-tan-phu-19-prj-scenic-valley-1/-c-nhanh-2pn-full-noi-that-gia-chi-17tr-lh-em-tham-pr41381125: 're__icon-document'\n"
     ]
    },
    {
     "name": "stderr",
     "output_type": "stream",
     "text": [
      "Processing batches:  17%|█▋        | 202/1161 [26:25<3:23:13, 12.71s/it]"
     ]
    },
    {
     "name": "stdout",
     "output_type": "stream",
     "text": [
      "Using Chrome with user agent: Mozilla/5.0 (Macintosh; Intel Mac OS X 10_15_7) AppleWebKit/537.36 (KHTML, like Gecko) Chrome/100.0.4896.127 Safari/537.36\n"
     ]
    },
    {
     "name": "stderr",
     "output_type": "stream",
     "text": [
      "Processing batches:  17%|█▋        | 203/1161 [26:32<2:55:32, 10.99s/it]"
     ]
    },
    {
     "name": "stdout",
     "output_type": "stream",
     "text": [
      "Error scraping url https://batdongsan.com.vn/cho-thue-can-ho-chung-cu-duong-xa-lo-ha-noi-phuong-thao-dien-prj-masteri-an-phu/cho-q2-view-dep-thog-mat-dt-73m2-2pn-full-nt-16tr-thg-lh-0909484469-pr35270191: 're__icon-document'\n",
      "Using Chrome with user agent: Mozilla/5.0 (Windows NT 10.0; Win64; x64) AppleWebKit/537.36 (KHTML, like Gecko) Chrome/100.0.4896.127 Safari/537.36\n"
     ]
    },
    {
     "name": "stderr",
     "output_type": "stream",
     "text": [
      "Processing batches:  18%|█▊        | 204/1161 [26:45<3:04:06, 11.54s/it]"
     ]
    },
    {
     "name": "stdout",
     "output_type": "stream",
     "text": [
      "Error scraping url https://batdongsan.com.vn/cho-thue-can-ho-chung-cu-duong-an-duong-vuong-phuong-an-lac-6-prj-the-privia/cho-ch-2pn-2wc-dt-67m2-khang-dien-binh-tan-pr42767208: 're__icon-electricity'\n",
      "Using Chrome with user agent: Mozilla/5.0 (Windows NT 10.0; Win64; x64) AppleWebKit/537.36 (KHTML, like Gecko) Chrome/100.0.4896.127 Safari/537.36\n",
      "Error scraping url https://batdongsan.com.vn/cho-thue-can-ho-chung-cu-phuong-tan-phu-19-prj-midtown-phu-my-hung/chuyen-cho-ch-1pn-3pn-duplex-penhouse-gia-chi-tu-16tr-thang-lien-he-0901406088-pr36853986: 're__icon-front-view'\n"
     ]
    },
    {
     "name": "stderr",
     "output_type": "stream",
     "text": [
      "Processing batches:  18%|█▊        | 205/1161 [26:50<2:33:27,  9.63s/it]"
     ]
    },
    {
     "name": "stdout",
     "output_type": "stream",
     "text": [
      "Using Chrome with user agent: Mozilla/5.0 (Macintosh; Intel Mac OS X 10_15_7) AppleWebKit/537.36 (KHTML, like Gecko) Chrome/100.0.4896.127 Safari/537.36\n"
     ]
    },
    {
     "name": "stderr",
     "output_type": "stream",
     "text": [
      "Processing batches:  18%|█▊        | 206/1161 [27:03<2:49:55, 10.68s/it]"
     ]
    },
    {
     "name": "stdout",
     "output_type": "stream",
     "text": [
      "Error scraping url https://batdongsan.com.vn/cho-thue-can-ho-chung-cu-duong-an-duong-vuong-phuong-an-lac-6-prj-the-privia/c-3pn-2wc-khang-dien-binh-tan-pr42466806: 're__icon-clock'\n",
      "Using Chrome with user agent: Mozilla/5.0 (Macintosh; Intel Mac OS X 10_15_7) AppleWebKit/537.36 (KHTML, like Gecko) Chrome/99.0.4844.84 Safari/537.36\n"
     ]
    },
    {
     "name": "stderr",
     "output_type": "stream",
     "text": [
      "Service process refused to terminate gracefully with SIGTERM, escalating to SIGKILL.\n",
      "Traceback (most recent call last):\n",
      "  File \"/Users/macbook/Desktop/BecasaNetwork/crawl/scrapepage.py\", line 132, in init_driver\n",
      "    driver = uc.Chrome(version_main=135, options=options)  # Specify a version that works with your Chrome\n",
      "  File \"/Users/macbook/Desktop/BecasaNetwork/crawl/env/lib/python3.13/site-packages/undetected_chromedriver/__init__.py\", line 466, in __init__\n",
      "    super(Chrome, self).__init__(\n",
      "    ~~~~~~~~~~~~~~~~~~~~~~~~~~~~^\n",
      "        service=service,\n",
      "        ^^^^^^^^^^^^^^^^\n",
      "        options=options,\n",
      "        ^^^^^^^^^^^^^^^^\n",
      "        keep_alive=keep_alive,\n",
      "        ^^^^^^^^^^^^^^^^^^^^^^\n",
      "    )\n",
      "    ^\n",
      "  File \"/Users/macbook/Desktop/BecasaNetwork/crawl/env/lib/python3.13/site-packages/selenium/webdriver/chrome/webdriver.py\", line 45, in __init__\n",
      "    super().__init__(\n",
      "    ~~~~~~~~~~~~~~~~^\n",
      "        browser_name=DesiredCapabilities.CHROME[\"browserName\"],\n",
      "        ^^^^^^^^^^^^^^^^^^^^^^^^^^^^^^^^^^^^^^^^^^^^^^^^^^^^^^^\n",
      "    ...<3 lines>...\n",
      "        keep_alive=keep_alive,\n",
      "        ^^^^^^^^^^^^^^^^^^^^^^\n",
      "    )\n",
      "    ^\n",
      "  File \"/Users/macbook/Desktop/BecasaNetwork/crawl/env/lib/python3.13/site-packages/selenium/webdriver/chromium/webdriver.py\", line 55, in __init__\n",
      "    self.service.start()\n",
      "    ~~~~~~~~~~~~~~~~~~^^\n",
      "  File \"/Users/macbook/Desktop/BecasaNetwork/crawl/env/lib/python3.13/site-packages/selenium/webdriver/common/service.py\", line 113, in start\n",
      "    self.assert_process_still_running()\n",
      "    ~~~~~~~~~~~~~~~~~~~~~~~~~~~~~~~~~^^\n",
      "  File \"/Users/macbook/Desktop/BecasaNetwork/crawl/env/lib/python3.13/site-packages/selenium/webdriver/common/service.py\", line 126, in assert_process_still_running\n",
      "    raise WebDriverException(f\"Service {self._path} unexpectedly exited. Status code was: {return_code}\")\n",
      "selenium.common.exceptions.WebDriverException: Message: Service /Users/macbook/Library/Application Support/undetected_chromedriver/undetected_chromedriver unexpectedly exited. Status code was: -9\n",
      "\n",
      "\n",
      "During handling of the above exception, another exception occurred:\n",
      "\n",
      "Traceback (most recent call last):\n",
      "  File \"/Users/macbook/Desktop/BecasaNetwork/crawl/scrapepage.py\", line 139, in init_driver\n",
      "    driver = uc.Chrome(driver_executable_path=driver_path, options=options)\n",
      "  File \"/Users/macbook/Desktop/BecasaNetwork/crawl/env/lib/python3.13/site-packages/undetected_chromedriver/__init__.py\", line 269, in __init__\n",
      "    raise RuntimeError(\"you cannot reuse the ChromeOptions object\")\n",
      "RuntimeError: you cannot reuse the ChromeOptions object\n",
      "\n",
      "During handling of the above exception, another exception occurred:\n",
      "\n",
      "Traceback (most recent call last):\n",
      "  File \"/Users/macbook/Desktop/BecasaNetwork/crawl/scrapepage.py\", line 166, in scrape_page\n",
      "    driver = init_driver()\n",
      "  File \"/Users/macbook/Desktop/BecasaNetwork/crawl/scrapepage.py\", line 147, in init_driver\n",
      "    driver = webdriver.Chrome(service=service, options=options)\n",
      "  File \"/Users/macbook/Desktop/BecasaNetwork/crawl/env/lib/python3.13/site-packages/selenium/webdriver/chrome/webdriver.py\", line 45, in __init__\n",
      "    super().__init__(\n",
      "    ~~~~~~~~~~~~~~~~^\n",
      "        browser_name=DesiredCapabilities.CHROME[\"browserName\"],\n",
      "        ^^^^^^^^^^^^^^^^^^^^^^^^^^^^^^^^^^^^^^^^^^^^^^^^^^^^^^^\n",
      "    ...<3 lines>...\n",
      "        keep_alive=keep_alive,\n",
      "        ^^^^^^^^^^^^^^^^^^^^^^\n",
      "    )\n",
      "    ^\n",
      "  File \"/Users/macbook/Desktop/BecasaNetwork/crawl/env/lib/python3.13/site-packages/selenium/webdriver/chromium/webdriver.py\", line 55, in __init__\n",
      "    self.service.start()\n",
      "    ~~~~~~~~~~~~~~~~~~^^\n",
      "  File \"/Users/macbook/Desktop/BecasaNetwork/crawl/env/lib/python3.13/site-packages/selenium/webdriver/common/service.py\", line 120, in start\n",
      "    raise WebDriverException(f\"Can not connect to the Service {self._path}\")\n",
      "selenium.common.exceptions.WebDriverException: Message: Can not connect to the Service /Users/macbook/.wdm/drivers/chromedriver/mac64/135.0.7049.95/chromedriver-mac-arm64/chromedriver\n",
      "\n",
      "\n",
      "During handling of the above exception, another exception occurred:\n",
      "\n",
      "UnboundLocalError: cannot access local variable 'url' where it is not associated with a value\n",
      "\n",
      "During handling of the above exception, another exception occurred:\n",
      "\n",
      "Traceback (most recent call last):\n",
      "  File \"/Users/macbook/Desktop/BecasaNetwork/crawl/env/lib/python3.13/site-packages/selenium/webdriver/common/service.py\", line 184, in _terminate_process\n",
      "    self.process.wait(60)\n",
      "    ~~~~~~~~~~~~~~~~~^^^^\n",
      "  File \"/opt/homebrew/Cellar/python@3.13/3.13.2/Frameworks/Python.framework/Versions/3.13/lib/python3.13/subprocess.py\", line 1276, in wait\n",
      "    return self._wait(timeout=timeout)\n",
      "           ~~~~~~~~~~^^^^^^^^^^^^^^^^^\n",
      "  File \"/opt/homebrew/Cellar/python@3.13/3.13.2/Frameworks/Python.framework/Versions/3.13/lib/python3.13/subprocess.py\", line 2060, in _wait\n",
      "    raise TimeoutExpired(self.args, timeout)\n",
      "subprocess.TimeoutExpired: Command '['/Users/macbook/.wdm/drivers/chromedriver/mac64/135.0.7049.95/chromedriver-mac-arm64/chromedriver', '--port=63307']' timed out after 60 seconds\n",
      "Processing batches:  18%|█▊        | 207/1161 [27:19<3:11:49, 12.06s/it]"
     ]
    },
    {
     "name": "stdout",
     "output_type": "stream",
     "text": [
      "Error processing batch ['https://batdongsan.com.vn/cho-thue-can-ho-chung-cu-duong-nguyen-thi-dinh-phuong-an-phu-prj-can-ho-precia-quan-2/con-dau-re-hon-cho-ch-q2-full-noi-that-2pn-2wc-gia-10tr-thang-da-pql-lh-0948395003-pr33873228']: cannot access local variable 'url' where it is not associated with a value\n"
     ]
    },
    {
     "name": "stderr",
     "output_type": "stream",
     "text": [
      "Processing batches:  18%|█▊        | 208/1161 [27:21<2:24:08,  9.07s/it]"
     ]
    },
    {
     "name": "stdout",
     "output_type": "stream",
     "text": [
      "Using Chrome with user agent: Mozilla/5.0 (Macintosh; Intel Mac OS X 10_15_7) AppleWebKit/537.36 (KHTML, like Gecko) Chrome/99.0.4844.84 Safari/537.36\n",
      "Using Chrome with user agent: Mozilla/5.0 (Windows NT 10.0; Win64; x64) AppleWebKit/537.36 (KHTML, like Gecko) Chrome/99.0.4844.84 Safari/537.36\n",
      "Error scraping url https://batdongsan.com.vn/cho-thue-can-ho-chung-cu-mini-duong-hoa-hung-phuong-12-5/c-1-png-ngu-balcon-may-giat-rieng-30m2-ngay-a-cv-le-thi-rieng-toa-viettel-pr41973839: 're__icon-clock'\n"
     ]
    },
    {
     "name": "stderr",
     "output_type": "stream",
     "text": [
      "Processing batches:  18%|█▊        | 209/1161 [27:27<2:08:25,  8.09s/it]"
     ]
    },
    {
     "name": "stdout",
     "output_type": "stream",
     "text": [
      "Error scraping url https://batdongsan.com.vn/cho-thue-can-ho-chung-cu-duong-tran-bach-dang-phuong-thu-thiem-prj-the-crest-residence/-moi-100-view-song-landmark-81-2pn-2-wc-full-noi-that-cao-cap-pr42746303: 're__icon-front-view'\n"
     ]
    },
    {
     "name": "stderr",
     "output_type": "stream",
     "text": [
      "Processing batches:  18%|█▊        | 210/1161 [27:31<1:51:28,  7.03s/it]"
     ]
    },
    {
     "name": "stdout",
     "output_type": "stream",
     "text": [
      "Using Chrome with user agent: Mozilla/5.0 (Windows NT 10.0; Win64; x64) AppleWebKit/537.36 (KHTML, like Gecko) Chrome/100.0.4896.127 Safari/537.36\n",
      "Using Chrome with user agent: Mozilla/5.0 (Macintosh; Intel Mac OS X 10_15_7) AppleWebKit/537.36 (KHTML, like Gecko) Chrome/99.0.4844.84 Safari/537.36\n",
      "Error scraping url https://batdongsan.com.vn/cho-thue-nha-tro-phong-tro-duong-nguyen-trai-phuong-2-15/cho-studio-chdv-moi-xay-xong-quan-5-gia-re-full-noi-that-cao-cap-pr41592752: 're__icon-front-view'\n"
     ]
    },
    {
     "name": "stderr",
     "output_type": "stream",
     "text": [
      "Processing batches:  18%|█▊        | 211/1161 [27:46<2:29:57,  9.47s/it]"
     ]
    },
    {
     "name": "stdout",
     "output_type": "stream",
     "text": [
      "Using Chrome with user agent: Mozilla/5.0 (Macintosh; Intel Mac OS X 10_15_7) AppleWebKit/537.36 (KHTML, like Gecko) Chrome/100.0.4896.127 Safari/537.36\n",
      "Error scraping url https://batdongsan.com.vn/cho-thue-can-ho-chung-cu-duong-ben-van-don-phuong-12-prj-icon-56/cho-56-1pn-50m2-full-noi-that-gia-chi-14tr-thang-em-tien-pr42724389: 're__icon-front-view'\n"
     ]
    },
    {
     "name": "stderr",
     "output_type": "stream",
     "text": [
      "Processing batches:  18%|█▊        | 212/1161 [27:54<2:19:49,  8.84s/it]"
     ]
    },
    {
     "name": "stdout",
     "output_type": "stream",
     "text": [
      "Error scraping url https://batdongsan.com.vn/cho-thue-can-ho-chung-cu-mini-duong-huynh-tan-phat-phuong-binh-thuan-3/chdv-duplex-moi-xay-view-dep-gan-khu-che-xuat-kdc-nam-long-quan-4-ly-phuc-man-cresent-mall-pr42685740: 're__icon-front-view'\n"
     ]
    },
    {
     "name": "stderr",
     "output_type": "stream",
     "text": [
      "Processing batches:  18%|█▊        | 213/1161 [27:57<1:54:59,  7.28s/it]"
     ]
    },
    {
     "name": "stdout",
     "output_type": "stream",
     "text": [
      "Using Chrome with user agent: Mozilla/5.0 (Windows NT 10.0; Win64; x64) AppleWebKit/537.36 (KHTML, like Gecko) Chrome/99.0.4844.84 Safari/537.36\n"
     ]
    },
    {
     "name": "stderr",
     "output_type": "stream",
     "text": [
      "Processing batches:  18%|█▊        | 214/1161 [28:01<1:38:16,  6.23s/it]"
     ]
    },
    {
     "name": "stdout",
     "output_type": "stream",
     "text": [
      "Using Chrome with user agent: Mozilla/5.0 (Macintosh; Intel Mac OS X 10_15_7) AppleWebKit/537.36 (KHTML, like Gecko) Chrome/99.0.4844.84 Safari/537.36\n",
      "Using Chrome with user agent: Mozilla/5.0 (Macintosh; Intel Mac OS X 10_15_7) AppleWebKit/537.36 (KHTML, like Gecko) Chrome/99.0.4844.84 Safari/537.36\n"
     ]
    },
    {
     "name": "stderr",
     "output_type": "stream",
     "text": [
      "Processing batches:  19%|█▊        | 215/1161 [28:07<1:39:08,  6.29s/it]"
     ]
    },
    {
     "name": "stdout",
     "output_type": "stream",
     "text": [
      "Error scraping url https://batdongsan.com.vn/cho-thue-can-ho-chung-cu-duong-xa-lo-ha-noi-phuong-an-phu-prj-the-estella/hot-cho-chcc-q2-2pn-gia-20tr-th-3pn-gia-25-tr-th-lau-cao-view-thoang-yen-tinh-pr40256323: 're__icon-front-view'\n"
     ]
    },
    {
     "name": "stderr",
     "output_type": "stream",
     "text": [
      "Processing batches:  19%|█▊        | 216/1161 [28:11<1:25:28,  5.43s/it]"
     ]
    },
    {
     "name": "stdout",
     "output_type": "stream",
     "text": [
      "Error scraping url https://batdongsan.com.vn/cho-thue-can-ho-chung-cu-duong-dai-lo-vong-cung-phuong-thu-thiem-prj-the-opera-residence/-c-2pn-full-noi-that-gia-tot-pr42756353: 're__icon-clock'\n",
      "Using Chrome with user agent: Mozilla/5.0 (Windows NT 10.0; Win64; x64) AppleWebKit/537.36 (KHTML, like Gecko) Chrome/100.0.4896.127 Safari/537.36\n",
      "Using Chrome with user agent: Mozilla/5.0 (Macintosh; Intel Mac OS X 10_15_7) AppleWebKit/537.36 (KHTML, like Gecko) Chrome/99.0.4844.84 Safari/537.36\n"
     ]
    },
    {
     "name": "stderr",
     "output_type": "stream",
     "text": [
      "Processing batches:  19%|█▊        | 217/1161 [28:16<1:23:24,  5.30s/it]"
     ]
    },
    {
     "name": "stdout",
     "output_type": "stream",
     "text": [
      "Error scraping url https://batdongsan.com.vn/cho-thue-can-ho-chung-cu-duong-n4-phuong-son-ky-prj-emerald-celadon-city/13tr-thang-full-nt-c-63m2-khu-dau-t5-vao-o-lh-pr42551233: 're__icon-front-view'\n",
      "Using Chrome with user agent: Mozilla/5.0 (Macintosh; Intel Mac OS X 10_15_7) AppleWebKit/537.36 (KHTML, like Gecko) Chrome/100.0.4896.127 Safari/537.36\n"
     ]
    },
    {
     "name": "stderr",
     "output_type": "stream",
     "text": [
      "Processing batches:  19%|█▉        | 218/1161 [28:25<1:39:28,  6.33s/it]"
     ]
    },
    {
     "name": "stdout",
     "output_type": "stream",
     "text": [
      "Error scraping url https://batdongsan.com.vn/cho-thue-can-ho-chung-cu-duong-so-6-phuong-hiep-binh-phuoc-prj-urban-green/chinh-chu-cho-1pn-toa-aster-bliss-nhan-nha-thang-4-gia-9-10-trieu-san-the-nha-pr42565287: 're__icon-clock'\n",
      "Using Chrome with user agent: Mozilla/5.0 (Macintosh; Intel Mac OS X 10_15_7) AppleWebKit/537.36 (KHTML, like Gecko) Chrome/100.0.4896.127 Safari/537.36\n",
      "Error scraping url https://batdongsan.com.vn/cho-thue-can-ho-chung-cu-duong-vo-van-kiet-phuong-an-lac-6-prj-akari-city-nam-long/cho-ch-2pn-gia-9-trieu-bao-phi-quan-ly-moi-100-pr41476806: 're__icon-private-house'\n"
     ]
    },
    {
     "name": "stderr",
     "output_type": "stream",
     "text": [
      "Processing batches:  19%|█▉        | 219/1161 [29:00<3:54:27, 14.93s/it]"
     ]
    },
    {
     "name": "stdout",
     "output_type": "stream",
     "text": [
      "Using Chrome with user agent: Mozilla/5.0 (Macintosh; Intel Mac OS X 10_15_7) AppleWebKit/537.36 (KHTML, like Gecko) Chrome/99.0.4844.84 Safari/537.36\n",
      "Error scraping url https://batdongsan.com.vn/cho-thue-can-ho-chung-cu-duong-vo-van-kiet-phuong-an-lac-6-prj-akari-city-nam-long/cho-ch-2pn-gia-9-trieu-bao-phi-quan-ly-moi-100-pr41476806: 're__icon-private-house'\n"
     ]
    },
    {
     "name": "stderr",
     "output_type": "stream",
     "text": [
      "Processing batches:  19%|█▉        | 220/1161 [29:20<4:18:33, 16.49s/it]"
     ]
    },
    {
     "name": "stdout",
     "output_type": "stream",
     "text": [
      "Using Chrome with user agent: Mozilla/5.0 (Macintosh; Intel Mac OS X 10_15_7) AppleWebKit/537.36 (KHTML, like Gecko) Chrome/100.0.4896.127 Safari/537.36\n",
      "Error scraping url https://batdongsan.com.vn/cho-thue-can-ho-chung-cu-duong-ben-van-don-phuong-6-prj-river-gate/c-rivergate-residence-quan-4-pr42766554: 're__icon-front-view'\n"
     ]
    },
    {
     "name": "stderr",
     "output_type": "stream",
     "text": [
      "Processing batches:  19%|█▉        | 221/1161 [29:46<5:04:21, 19.43s/it]"
     ]
    },
    {
     "name": "stdout",
     "output_type": "stream",
     "text": [
      "Using Chrome with user agent: Mozilla/5.0 (Macintosh; Intel Mac OS X 10_15_7) AppleWebKit/537.36 (KHTML, like Gecko) Chrome/99.0.4844.84 Safari/537.36\n",
      "Error scraping url https://batdongsan.com.vn/cho-thue-can-ho-chung-cu-duong-so-6-phuong-hiep-binh-phuoc-prj-urban-green/chinh-chu-cho-1pn-toa-aster-bliss-nhan-nha-thang-4-gia-9-10-trieu-san-the-nha-pr42565287: 're__icon-clock'\n"
     ]
    },
    {
     "name": "stderr",
     "output_type": "stream",
     "text": [
      "Processing batches:  19%|█▉        | 222/1161 [30:03<4:51:09, 18.60s/it]"
     ]
    },
    {
     "name": "stdout",
     "output_type": "stream",
     "text": [
      "Using Chrome with user agent: Mozilla/5.0 (Windows NT 10.0; Win64; x64) AppleWebKit/537.36 (KHTML, like Gecko) Chrome/100.0.4896.127 Safari/537.36\n",
      "Error scraping url https://batdongsan.com.vn/cho-thue-can-ho-chung-cu-duong-dao-tri-phuong-phu-thuan-3-prj-sunshine-diamond-river/c-2pn2wc-110m2-gia-p-li-15tr-pr42194645: 're__icon-front-view'\n"
     ]
    },
    {
     "name": "stderr",
     "output_type": "stream",
     "text": [
      "Processing batches:  19%|█▉        | 223/1161 [30:09<3:51:32, 14.81s/it]"
     ]
    },
    {
     "name": "stdout",
     "output_type": "stream",
     "text": [
      "Using Chrome with user agent: Mozilla/5.0 (Macintosh; Intel Mac OS X 10_15_7) AppleWebKit/537.36 (KHTML, like Gecko) Chrome/100.0.4896.127 Safari/537.36\n",
      "Error scraping url https://batdongsan.com.vn/cho-thue-can-ho-chung-cu-duong-ton-dan-phuong-13-prj-khu-can-ho-contrexim-copac-square/c-quan-4-2pn2wc-75m2-full-noi-that-12tr-pr39194485: HTTPConnectionPool(host='localhost', port=60120): Read timed out. (read timeout=120)\n"
     ]
    },
    {
     "name": "stderr",
     "output_type": "stream",
     "text": [
      "Processing batches:  19%|█▉        | 224/1161 [30:13<3:03:02, 11.72s/it]"
     ]
    },
    {
     "name": "stdout",
     "output_type": "stream",
     "text": [
      "Error scraping url https://batdongsan.com.vn/cho-thue-can-ho-chung-cu-duong-ly-chinh-thang-phuong-vo-thi-sau-prj-terra-royal/c-nam-ky-ki-nghia-quan-3-pr42766230: 're__icon-front-view'\n"
     ]
    },
    {
     "name": "stderr",
     "output_type": "stream",
     "text": [
      "Processing batches:  19%|█▉        | 226/1161 [30:17<1:48:34,  6.97s/it]"
     ]
    },
    {
     "name": "stdout",
     "output_type": "stream",
     "text": [
      "Error scraping url https://batdongsan.com.vn/cho-thue-nha-tro-phong-tro-duong-so-6-phuong-linh-xuan/ky-tuc-xa-cao-cap-moi-100-re-dep-day-du-tien-nghi-chi-tu-1tr5-ng-red-home-dorm-elegant-lifestyle-pr38465487: 're__icon-front-view'\n",
      "Using Chrome with user agent: Mozilla/5.0 (Macintosh; Intel Mac OS X 10_15_7) AppleWebKit/537.36 (KHTML, like Gecko) Chrome/99.0.4844.84 Safari/537.36\n",
      "Using Chrome with user agent: Mozilla/5.0 (Macintosh; Intel Mac OS X 10_15_7) AppleWebKit/537.36 (KHTML, like Gecko) Chrome/99.0.4844.84 Safari/537.36\n"
     ]
    },
    {
     "name": "stderr",
     "output_type": "stream",
     "text": [
      "Processing batches:  20%|█▉        | 227/1161 [30:22<1:37:13,  6.25s/it]"
     ]
    },
    {
     "name": "stdout",
     "output_type": "stream",
     "text": [
      "Error scraping url https://batdongsan.com.vn/cho-thue-can-ho-chung-cu-duong-phan-van-dang-phuong-thanh-my-loi-prj-vista-verde/gio-hang-39-c-gap-du-an-cam-ket-gia-tot-nhat-xem-nha-24-7-pr34119981: 're__icon-document'\n",
      "Using Chrome with user agent: Mozilla/5.0 (Macintosh; Intel Mac OS X 10_15_7) AppleWebKit/537.36 (KHTML, like Gecko) Chrome/100.0.4896.127 Safari/537.36\n",
      "Using Chrome with user agent: Mozilla/5.0 (Windows NT 10.0; Win64; x64) AppleWebKit/537.36 (KHTML, like Gecko) Chrome/99.0.4844.84 Safari/537.36\n",
      "Error scraping url https://batdongsan.com.vn/cho-thue-can-ho-chung-cu-duong-lien-phuong-phuong-phu-huu-2-prj-sky-9/-9-50m2-2pn-1wc-ban-cong-5tr5-boi-view-dep-moi-o-ngay-kng-noi-that-pr30074855: 're__icon-document'\n"
     ]
    },
    {
     "name": "stderr",
     "output_type": "stream",
     "text": [
      "Processing batches:  20%|█▉        | 228/1161 [30:33<2:00:56,  7.78s/it]"
     ]
    },
    {
     "name": "stdout",
     "output_type": "stream",
     "text": [
      "Using Chrome with user agent: Mozilla/5.0 (Macintosh; Intel Mac OS X 10_15_7) AppleWebKit/537.36 (KHTML, like Gecko) Chrome/99.0.4844.84 Safari/537.36\n",
      "Error scraping url https://batdongsan.com.vn/cho-thue-can-ho-chung-cu-phuong-long-binh-3-prj-the-beverly-solari-vinhomes-grand-park/c-2pn-full-noi-that-vinmes-gia-tot-nhat-thang-3-pr42355259: 're__icon-front-view'\n"
     ]
    },
    {
     "name": "stderr",
     "output_type": "stream",
     "text": [
      "Processing batches:  20%|█▉        | 229/1161 [30:42<2:04:13,  8.00s/it]"
     ]
    },
    {
     "name": "stdout",
     "output_type": "stream",
     "text": [
      "Error scraping url https://batdongsan.com.vn/cho-thue-can-ho-chung-cu-duong-do-xuan-hop-phuong-phuoc-long-b-prj-fuji-residence/-cao-cap-flora-nam-full-noi-that-moi-day-du-55m2-1pn-1pk-1wc-view-sang-dep-tang-pr31431237: 're__icon-document'\n"
     ]
    },
    {
     "name": "stderr",
     "output_type": "stream",
     "text": [
      "Processing batches:  20%|█▉        | 230/1161 [30:45<1:42:27,  6.60s/it]"
     ]
    },
    {
     "name": "stdout",
     "output_type": "stream",
     "text": [
      "Using Chrome with user agent: Mozilla/5.0 (Macintosh; Intel Mac OS X 10_15_7) AppleWebKit/537.36 (KHTML, like Gecko) Chrome/100.0.4896.127 Safari/537.36\n",
      "Error scraping url https://batdongsan.com.vn/cho-thue-can-ho-chung-cu-mini-duong-au-duong-lan-phuong-rach-ong/-free-xe-thang-may-sat-ben-q5-q1-co-may-giat-rieng-trong-san-co-the-o-ngay-pr42766859: 're__icon-clock'\n"
     ]
    },
    {
     "name": "stderr",
     "output_type": "stream",
     "text": [
      "Processing batches:  20%|█▉        | 231/1161 [30:48<1:23:22,  5.38s/it]"
     ]
    },
    {
     "name": "stdout",
     "output_type": "stream",
     "text": [
      "Error scraping url https://batdongsan.com.vn/cho-thue-can-ho-chung-cu-mini-duong-nguyen-thi-thap-phuong-tan-phong-9/he-tng-dich-vu-da-dang-tam-gia-khu-vuc-quan-7-pr42339614: 're__icon-clock'\n"
     ]
    },
    {
     "name": "stderr",
     "output_type": "stream",
     "text": [
      "Processing batches:  20%|█▉        | 232/1161 [30:49<1:04:09,  4.14s/it]"
     ]
    },
    {
     "name": "stdout",
     "output_type": "stream",
     "text": [
      "Using Chrome with user agent: Mozilla/5.0 (Macintosh; Intel Mac OS X 10_15_7) AppleWebKit/537.36 (KHTML, like Gecko) Chrome/99.0.4844.84 Safari/537.36\n",
      "Using Chrome with user agent: Mozilla/5.0 (Windows NT 10.0; Win64; x64) AppleWebKit/537.36 (KHTML, like Gecko) Chrome/99.0.4844.84 Safari/537.36\n",
      "Using Chrome with user agent: Mozilla/5.0 (Macintosh; Intel Mac OS X 10_15_7) AppleWebKit/537.36 (KHTML, like Gecko) Chrome/99.0.4844.84 Safari/537.36\n",
      "Error scraping url https://batdongsan.com.vn/cho-thue-can-ho-chung-cu-phuong-long-thanh-my-prj-vinhomes-grand-park/c-vinmes-7-trieu-67m2-2pn-2wc-noi-that-cao-cap-gio-hang-da-dnagj-pr42385509: 're__icon-front-view'\n"
     ]
    },
    {
     "name": "stderr",
     "output_type": "stream",
     "text": [
      "Processing batches:  20%|██        | 233/1161 [30:55<1:13:07,  4.73s/it]"
     ]
    },
    {
     "name": "stdout",
     "output_type": "stream",
     "text": [
      "Error scraping url https://batdongsan.com.vn/cho-thue-can-ho-chung-cu-duong-nguyen-huu-canh-phuong-22-prj-sunwah-pearl/cho-1pn-sunwal-gia-tot-nhat-thi-truong-thang-12-pr41862392: 're__icon-front-view'\n"
     ]
    },
    {
     "name": "stderr",
     "output_type": "stream",
     "text": [
      "Processing batches:  20%|██        | 234/1161 [30:59<1:09:28,  4.50s/it]"
     ]
    },
    {
     "name": "stdout",
     "output_type": "stream",
     "text": [
      "Using Chrome with user agent: Mozilla/5.0 (Macintosh; Intel Mac OS X 10_15_7) AppleWebKit/537.36 (KHTML, like Gecko) Chrome/100.0.4896.127 Safari/537.36\n",
      "Error scraping url https://batdongsan.com.vn/cho-thue-can-ho-chung-cu-mini-duong-tam-binh-phuong-tam-binh/-c-dich-vu-full-noi-that-khu-vuc-tri-thuc-cao-chu-trong-kng-gian-song-pr41056305: 're__icon-clock'\n"
     ]
    },
    {
     "name": "stderr",
     "output_type": "stream",
     "text": [
      "Processing batches:  20%|██        | 235/1161 [31:02<1:00:51,  3.94s/it]"
     ]
    },
    {
     "name": "stdout",
     "output_type": "stream",
     "text": [
      "Using Chrome with user agent: Mozilla/5.0 (Macintosh; Intel Mac OS X 10_15_7) AppleWebKit/537.36 (KHTML, like Gecko) Chrome/99.0.4844.84 Safari/537.36\n",
      "Error scraping url https://batdongsan.com.vn/cho-thue-can-ho-chung-cu-mini-duong-bung-ong-thoan-phuong-tang-nhon-phu-b/chinh-chu-cho-chdv-mt-q-9-tm-gia-4-2tr-ful-nt-tudo-kh-chu-pr42766084: 're__icon-front-view'\n"
     ]
    },
    {
     "name": "stderr",
     "output_type": "stream",
     "text": [
      "Processing batches:  20%|██        | 236/1161 [31:07<1:09:11,  4.49s/it]"
     ]
    },
    {
     "name": "stdout",
     "output_type": "stream",
     "text": [
      "Using Chrome with user agent: Mozilla/5.0 (Windows NT 10.0; Win64; x64) AppleWebKit/537.36 (KHTML, like Gecko) Chrome/99.0.4844.84 Safari/537.36\n",
      "Error scraping url https://batdongsan.com.vn/cho-thue-can-ho-chung-cu-mini-duong-tran-huu-trang-phuong-10-9/-dang-1-png-ngu-cua-so-lon-45m2-fullnt-mg-rieng-g-phu-nhuan-pr42766176: 're__icon-clock'\n"
     ]
    },
    {
     "name": "stderr",
     "output_type": "stream",
     "text": [
      "Processing batches:  20%|██        | 237/1161 [31:09<54:21,  3.53s/it]  "
     ]
    },
    {
     "name": "stdout",
     "output_type": "stream",
     "text": [
      "Using Chrome with user agent: Mozilla/5.0 (Windows NT 10.0; Win64; x64) AppleWebKit/537.36 (KHTML, like Gecko) Chrome/100.0.4896.127 Safari/537.36\n",
      "Using Chrome with user agent: Mozilla/5.0 (Windows NT 10.0; Win64; x64) AppleWebKit/537.36 (KHTML, like Gecko) Chrome/100.0.4896.127 Safari/537.36\n",
      "Error scraping url https://batdongsan.com.vn/cho-thue-nha-tro-phong-tro-duong-dien-bien-phu-phuong-25/boc-vo-moi-1-2pn-giam-ngay-2-500k-full-noi-that-bancol-ngay-trung-tam-quan-gan-truong-dh-pr41546393: 're__icon-front-view'\n"
     ]
    },
    {
     "name": "stderr",
     "output_type": "stream",
     "text": [
      "Processing batches:  20%|██        | 238/1161 [31:16<1:10:16,  4.57s/it]"
     ]
    },
    {
     "name": "stdout",
     "output_type": "stream",
     "text": [
      "Using Chrome with user agent: Mozilla/5.0 (Windows NT 10.0; Win64; x64) AppleWebKit/537.36 (KHTML, like Gecko) Chrome/100.0.4896.127 Safari/537.36\n",
      "Error scraping url https://batdongsan.com.vn/cho-thue-can-ho-chung-cu-duong-huynh-tan-phat-phuong-tan-phu-19-prj-the-view-riviera-point/c-tower-5-tang-cao-nha-dep-song-sai-gon-pr42766011: 're__icon-front-view'\n"
     ]
    },
    {
     "name": "stderr",
     "output_type": "stream",
     "text": [
      "Processing batches:  21%|██        | 239/1161 [31:28<1:45:16,  6.85s/it]"
     ]
    },
    {
     "name": "stdout",
     "output_type": "stream",
     "text": [
      "Error scraping url https://batdongsan.com.vn/cho-thue-can-ho-chung-cu-duong-n1-phuong-son-ky-prj-celadon-city/chuyen-c-diamond-alnata-plus-brilliant-centery-tan-phu-pr42207472: 're__icon-clock'\n"
     ]
    },
    {
     "name": "stderr",
     "output_type": "stream",
     "text": [
      "Processing batches:  21%|██        | 240/1161 [31:31<1:28:37,  5.77s/it]"
     ]
    },
    {
     "name": "stdout",
     "output_type": "stream",
     "text": [
      "Using Chrome with user agent: Mozilla/5.0 (Macintosh; Intel Mac OS X 10_15_7) AppleWebKit/537.36 (KHTML, like Gecko) Chrome/99.0.4844.84 Safari/537.36\n",
      "Error scraping url https://batdongsan.com.vn/cho-thue-nha-tro-phong-tro-duong-lanh-binh-thang-phuong-12-6/cho-1-5-trieu-vnd-20-m2-quan-11-tp-hcm-gia-sieu-hoi-dep-pr42731240: 're__icon-clock'\n"
     ]
    },
    {
     "name": "stderr",
     "output_type": "stream",
     "text": [
      "Processing batches:  21%|██        | 241/1161 [31:34<1:15:25,  4.92s/it]"
     ]
    },
    {
     "name": "stdout",
     "output_type": "stream",
     "text": [
      "Using Chrome with user agent: Mozilla/5.0 (Windows NT 10.0; Win64; x64) AppleWebKit/537.36 (KHTML, like Gecko) Chrome/100.0.4896.127 Safari/537.36\n",
      "Using Chrome with user agent: Mozilla/5.0 (Windows NT 10.0; Win64; x64) AppleWebKit/537.36 (KHTML, like Gecko) Chrome/99.0.4844.84 Safari/537.36\n",
      "Error scraping url https://batdongsan.com.vn/cho-thue-can-ho-chung-cu-duong-3-2-2-phuong-12-5-prj-hado-centrosa-garden/c-penuse-4-png-ngu-ha-do-q10-view-q1-pr42342754: 're__icon-clock'\n"
     ]
    },
    {
     "name": "stderr",
     "output_type": "stream",
     "text": [
      "Processing batches:  21%|██        | 242/1161 [31:42<1:31:25,  5.97s/it]"
     ]
    },
    {
     "name": "stdout",
     "output_type": "stream",
     "text": [
      "Error scraping url https://batdongsan.com.vn/cho-thue-can-ho-chung-cu-phuong-son-ky-prj-diamond-alnata/tim-khach-brilliant-centery-khu-tan-phu-pr42143549: 're__icon-front-view'\n"
     ]
    },
    {
     "name": "stderr",
     "output_type": "stream",
     "text": [
      "Processing batches:  21%|██        | 243/1161 [31:44<1:09:47,  4.56s/it]"
     ]
    },
    {
     "name": "stdout",
     "output_type": "stream",
     "text": [
      "Using Chrome with user agent: Mozilla/5.0 (Macintosh; Intel Mac OS X 10_15_7) AppleWebKit/537.36 (KHTML, like Gecko) Chrome/99.0.4844.84 Safari/537.36\n",
      "Using Chrome with user agent: Mozilla/5.0 (Windows NT 10.0; Win64; x64) AppleWebKit/537.36 (KHTML, like Gecko) Chrome/100.0.4896.127 Safari/537.36\n",
      "Error scraping url https://batdongsan.com.vn/cho-thue-can-ho-chung-cu-duong-nguyen-huu-tho-xa-phuoc-kieng-prj-celesta-rise/so-2-phong-ngu-gia-chi-12-trieu-tang-trung-view-noi-khu-pr42763716: 're__icon-front-view'\n"
     ]
    },
    {
     "name": "stderr",
     "output_type": "stream",
     "text": [
      "Processing batches:  21%|██        | 244/1161 [31:53<1:29:45,  5.87s/it]"
     ]
    },
    {
     "name": "stdout",
     "output_type": "stream",
     "text": [
      "Using Chrome with user agent: Mozilla/5.0 (Macintosh; Intel Mac OS X 10_15_7) AppleWebKit/537.36 (KHTML, like Gecko) Chrome/100.0.4896.127 Safari/537.36\n"
     ]
    },
    {
     "name": "stderr",
     "output_type": "stream",
     "text": [
      "Processing batches:  21%|██        | 245/1161 [32:00<1:35:13,  6.24s/it]"
     ]
    },
    {
     "name": "stdout",
     "output_type": "stream",
     "text": [
      "Error scraping url https://batdongsan.com.vn/cho-thue-can-ho-chung-cu-duong-nguyen-van-linh-phuong-tan-phong-9-prj-lavida-plus/cho-vi-tri-ngay-tuyen-nha-moi-100-2pn-lh-pr42764271: 're__icon-front-view'\n",
      "Error scraping url https://batdongsan.com.vn/cho-thue-can-ho-chung-cu-duong-mai-chi-tho-phuong-binh-khanh-prj-new-city-thu-thiem/cho-2-phong-ngu-75-m2-noi-that-day-du-gia-16-trieu-thang-lh-pr42765656: 're__icon-clock'\n"
     ]
    },
    {
     "name": "stderr",
     "output_type": "stream",
     "text": [
      "Processing batches:  21%|██        | 246/1161 [32:00<1:09:17,  4.54s/it]"
     ]
    },
    {
     "name": "stdout",
     "output_type": "stream",
     "text": [
      "Using Chrome with user agent: Mozilla/5.0 (Macintosh; Intel Mac OS X 10_15_7) AppleWebKit/537.36 (KHTML, like Gecko) Chrome/99.0.4844.84 Safari/537.36\n",
      "Using Chrome with user agent: Mozilla/5.0 (Macintosh; Intel Mac OS X 10_15_7) AppleWebKit/537.36 (KHTML, like Gecko) Chrome/100.0.4896.127 Safari/537.36\n",
      "Error scraping url https://batdongsan.com.vn/cho-thue-can-ho-chung-cu-phuong-long-thanh-my-prj-vinhomes-grand-park/-2pn-dep-xuat-sac-c-tai-vinmes-7-trieu-59-2m2-pr42765655: 're__icon-front-view'\n"
     ]
    },
    {
     "name": "stderr",
     "output_type": "stream",
     "text": [
      "Processing batches:  21%|██▏       | 247/1161 [32:08<1:24:25,  5.54s/it]"
     ]
    },
    {
     "name": "stdout",
     "output_type": "stream",
     "text": [
      "Error scraping url https://batdongsan.com.vn/cho-thue-can-ho-chung-cu-duong-bach-dang-phuong-2-22-prj-sai-gon-airport-plaza/-saigon-tb-89m2-noi-that-cao-cap-2pn-17tr-pr42765623: 're__icon-electricity'\n"
     ]
    },
    {
     "name": "stderr",
     "output_type": "stream",
     "text": [
      "Processing batches:  21%|██▏       | 248/1161 [32:10<1:07:22,  4.43s/it]"
     ]
    },
    {
     "name": "stdout",
     "output_type": "stream",
     "text": [
      "Using Chrome with user agent: Mozilla/5.0 (Macintosh; Intel Mac OS X 10_15_7) AppleWebKit/537.36 (KHTML, like Gecko) Chrome/99.0.4844.84 Safari/537.36\n",
      "Using Chrome with user agent: Mozilla/5.0 (Windows NT 10.0; Win64; x64) AppleWebKit/537.36 (KHTML, like Gecko) Chrome/100.0.4896.127 Safari/537.36\n",
      "Error scraping url https://batdongsan.com.vn/cho-thue-can-ho-chung-cu-pho-ton-duc-thang-phuong-ben-nghe-prj-grand-marina-saigon/-goc-3pn-2wc-full-noi-that-vip-nhat-toa-sea-saigon-pr42664774: 're__icon-private-house'\n"
     ]
    },
    {
     "name": "stderr",
     "output_type": "stream",
     "text": [
      "Processing batches:  21%|██▏       | 249/1161 [32:19<1:27:01,  5.73s/it]"
     ]
    },
    {
     "name": "stdout",
     "output_type": "stream",
     "text": [
      "Error scraping url https://batdongsan.com.vn/cho-thue-can-ho-chung-cu-duong-nguyen-duc-canh-phuong-tan-phong-9-prj-grand-view/cho-grandview-c-130m2-3pn-full-noi-that-goi-em-thiet-pr42765282: 're__icon-private-house'\n"
     ]
    },
    {
     "name": "stderr",
     "output_type": "stream",
     "text": [
      "Processing batches:  22%|██▏       | 250/1161 [32:22<1:16:24,  5.03s/it]"
     ]
    },
    {
     "name": "stdout",
     "output_type": "stream",
     "text": [
      "Using Chrome with user agent: Mozilla/5.0 (Macintosh; Intel Mac OS X 10_15_7) AppleWebKit/537.36 (KHTML, like Gecko) Chrome/100.0.4896.127 Safari/537.36\n",
      "Using Chrome with user agent: Mozilla/5.0 (Macintosh; Intel Mac OS X 10_15_7) AppleWebKit/537.36 (KHTML, like Gecko) Chrome/100.0.4896.127 Safari/537.36\n",
      "Error scraping url https://batdongsan.com.vn/cho-thue-nha-tro-phong-tro-duong-nguyen-van-cong-phuong-3-20/cho-gio-giac-tu-do-view-dep-gia-re-chi-3-6-tr-pr39712015: 're__icon-electricity'\n"
     ]
    },
    {
     "name": "stderr",
     "output_type": "stream",
     "text": [
      "Processing batches:  22%|██▏       | 251/1161 [32:29<1:24:07,  5.55s/it]"
     ]
    },
    {
     "name": "stdout",
     "output_type": "stream",
     "text": [
      "Error scraping url https://batdongsan.com.vn/cho-thue-can-ho-chung-cu-mini-duong-nguyen-van-luong-phuong-10-4/cho-phong-trong-villa-cao-cap-1pn-q6-giap-q5-10-11-tien-di-chuyen-pr42731623: 're__icon-clock'\n"
     ]
    },
    {
     "name": "stderr",
     "output_type": "stream",
     "text": [
      "Processing batches:  22%|██▏       | 252/1161 [32:32<1:13:33,  4.86s/it]"
     ]
    },
    {
     "name": "stdout",
     "output_type": "stream",
     "text": [
      "Using Chrome with user agent: Mozilla/5.0 (Windows NT 10.0; Win64; x64) AppleWebKit/537.36 (KHTML, like Gecko) Chrome/100.0.4896.127 Safari/537.36\n",
      "Error scraping url https://batdongsan.com.vn/cho-thue-can-ho-chung-cu-duong-nguyen-van-linh-phuong-tan-thuan-tay-1-prj-eco-green-sai-gon/c-noi-that-co-ban-3pn-gia-tu-16-trieu-den-17-5-trieu-lien-he-pr41984265: 're__icon-front-view'\n"
     ]
    },
    {
     "name": "stderr",
     "output_type": "stream",
     "text": [
      "Processing batches:  22%|██▏       | 253/1161 [32:34<1:01:43,  4.08s/it]"
     ]
    },
    {
     "name": "stdout",
     "output_type": "stream",
     "text": [
      "Using Chrome with user agent: Mozilla/5.0 (Windows NT 10.0; Win64; x64) AppleWebKit/537.36 (KHTML, like Gecko) Chrome/99.0.4844.84 Safari/537.36\n",
      "Using Chrome with user agent: Mozilla/5.0 (Macintosh; Intel Mac OS X 10_15_7) AppleWebKit/537.36 (KHTML, like Gecko) Chrome/100.0.4896.127 Safari/537.36\n",
      "Error scraping url https://batdongsan.com.vn/cho-thue-can-ho-chung-cu-duong-lien-phuong-phuong-phu-huu-2-prj-can-ho-hausneo/c-nha-dep-68m-gia-10tr-full-tang-thap-view-tang-nha-dep-pr42725592: 're__icon-front-view'\n"
     ]
    },
    {
     "name": "stderr",
     "output_type": "stream",
     "text": [
      "Processing batches:  22%|██▏       | 254/1161 [32:57<2:25:48,  9.65s/it]"
     ]
    },
    {
     "name": "stdout",
     "output_type": "stream",
     "text": [
      "Using Chrome with user agent: Mozilla/5.0 (Windows NT 10.0; Win64; x64) AppleWebKit/537.36 (KHTML, like Gecko) Chrome/99.0.4844.84 Safari/537.36\n",
      "Error scraping url https://batdongsan.com.vn/cho-thue-can-ho-chung-cu-duong-an-duong-vuong-phuong-an-lac-6-prj-the-privia/-c-2pn-gia-9tr-th-co-rem-gian-pi-pr42705686: 're__icon-front-view'\n"
     ]
    },
    {
     "name": "stderr",
     "output_type": "stream",
     "text": [
      "Processing batches:  22%|██▏       | 255/1161 [33:17<3:13:13, 12.80s/it]"
     ]
    },
    {
     "name": "stdout",
     "output_type": "stream",
     "text": [
      "Using Chrome with user agent: Mozilla/5.0 (Macintosh; Intel Mac OS X 10_15_7) AppleWebKit/537.36 (KHTML, like Gecko) Chrome/100.0.4896.127 Safari/537.36\n",
      "Error scraping url https://batdongsan.com.vn/cho-thue-can-ho-chung-cu-phuong-long-thanh-my-prj-vinhomes-grand-park/chuyen-c-1-2-3pn-vinmes-gia-tot-nhat-goi-ngay-0935221138-pr35737763: 're__icon-document'\n"
     ]
    },
    {
     "name": "stderr",
     "output_type": "stream",
     "text": [
      "Processing batches:  22%|██▏       | 256/1161 [33:27<2:59:48, 11.92s/it]"
     ]
    },
    {
     "name": "stdout",
     "output_type": "stream",
     "text": [
      "Using Chrome with user agent: Mozilla/5.0 (Windows NT 10.0; Win64; x64) AppleWebKit/537.36 (KHTML, like Gecko) Chrome/99.0.4844.84 Safari/537.36\n",
      "Error scraping url https://batdongsan.com.vn/cho-thue-can-ho-chung-cu-duong-ho-hoc-lam-phuong-an-lac-6-prj-khu-can-ho-ehome-3/-goc-2pn-2wc-64m2-3-san-2may-lanh-nha-dep-bao-mat-pr42660478: HTTPConnectionPool(host='localhost', port=63328): Read timed out. (read timeout=120)\n"
     ]
    },
    {
     "name": "stderr",
     "output_type": "stream",
     "text": [
      "Processing batches:  22%|██▏       | 257/1161 [33:33<2:31:39, 10.07s/it]"
     ]
    },
    {
     "name": "stdout",
     "output_type": "stream",
     "text": [
      "Using Chrome with user agent: Mozilla/5.0 (Windows NT 10.0; Win64; x64) AppleWebKit/537.36 (KHTML, like Gecko) Chrome/100.0.4896.127 Safari/537.36\n"
     ]
    },
    {
     "name": "stderr",
     "output_type": "stream",
     "text": [
      "Processing batches:  22%|██▏       | 258/1161 [33:41<2:24:07,  9.58s/it]"
     ]
    },
    {
     "name": "stdout",
     "output_type": "stream",
     "text": [
      "Error scraping url https://batdongsan.com.vn/cho-thue-nha-tro-phong-tro-duong-pham-the-hien-phuong-3-16/ke-cau-chu-y-cong-vien-da-nam-free-xe-3tr699-sieu-hoi-cho-cac-nguoi-dep-a-pr42716237: 're__icon-clock'\n",
      "Error scraping url https://batdongsan.com.vn/cho-thue-can-ho-chung-cu-duong-ben-van-don-phuong-13-prj-saigon-royal-residence/-re-qua-chu-c-2pn1wc-60m2-view-boi-tuyet-dep-chi-17-9tr-th-lh-pr41161054: 're__icon-front-view'\n"
     ]
    },
    {
     "name": "stderr",
     "output_type": "stream",
     "text": [
      "Processing batches:  22%|██▏       | 259/1161 [33:44<1:52:06,  7.46s/it]"
     ]
    },
    {
     "name": "stdout",
     "output_type": "stream",
     "text": [
      "Using Chrome with user agent: Mozilla/5.0 (Windows NT 10.0; Win64; x64) AppleWebKit/537.36 (KHTML, like Gecko) Chrome/99.0.4844.84 Safari/537.36\n",
      "Using Chrome with user agent: Mozilla/5.0 (Macintosh; Intel Mac OS X 10_15_7) AppleWebKit/537.36 (KHTML, like Gecko) Chrome/100.0.4896.127 Safari/537.36\n",
      "Error scraping url https://batdongsan.com.vn/cho-thue-can-ho-chung-cu-duong-ben-van-don-phuong-13-prj-the-tresor/o-duoc-lien-c-studio-36m2-lau-cao-view-boi-cuc-dep-chi-9-9tr-th-lh-pr41161227: 're__icon-front-view'\n"
     ]
    },
    {
     "name": "stderr",
     "output_type": "stream",
     "text": [
      "Processing batches:  22%|██▏       | 260/1161 [33:53<1:59:41,  7.97s/it]"
     ]
    },
    {
     "name": "stdout",
     "output_type": "stream",
     "text": [
      "Error scraping url https://batdongsan.com.vn/cho-thue-can-ho-chung-cu-duong-nguyen-huu-canh-phuong-22-prj-the-manor-tp-ho-chi-minh/c-2pn-100m2-22-trieu-bao-pql-tai-binh-thanh-hcm-view-dep-chinh-chu-pr42764594: 're__icon-front-view'\n"
     ]
    },
    {
     "name": "stderr",
     "output_type": "stream",
     "text": [
      "Processing batches:  22%|██▏       | 261/1161 [33:55<1:31:34,  6.11s/it]"
     ]
    },
    {
     "name": "stdout",
     "output_type": "stream",
     "text": [
      "First method failed: Message: Service /Users/macbook/Library/Application Support/undetected_chromedriver/undetected_chromedriver unexpectedly exited. Status code was: -9\n",
      "\n",
      "Using Chrome driver at: /Users/macbook/.wdm/drivers/chromedriver/mac64/135.0.7049.95/chromedriver-mac-arm64/chromedriver\n",
      "Second method failed: you cannot reuse the ChromeOptions object\n",
      "Using Chrome with user agent: Mozilla/5.0 (Windows NT 10.0; Win64; x64) AppleWebKit/537.36 (KHTML, like Gecko) Chrome/100.0.4896.127 Safari/537.36\n",
      "Error scraping url https://batdongsan.com.vn/cho-thue-nha-tro-phong-tro-duong-tran-quy-cap-phuong-11-7/-25m2-5-5-trieu-thang-full-tien-nghi-gac-lung-thang-may-ngay-trung-tam-binh-thanh-pr36059385: 're__icon-road'\n"
     ]
    },
    {
     "name": "stderr",
     "output_type": "stream",
     "text": [
      "Processing batches:  23%|██▎       | 262/1161 [34:18<2:47:51, 11.20s/it]"
     ]
    },
    {
     "name": "stdout",
     "output_type": "stream",
     "text": [
      "Using Chrome with user agent: Mozilla/5.0 (Windows NT 10.0; Win64; x64) AppleWebKit/537.36 (KHTML, like Gecko) Chrome/100.0.4896.127 Safari/537.36\n",
      "Error scraping url https://batdongsan.com.vn/cho-thue-can-ho-chung-cu-duong-dai-lo-vong-cung-phuong-thu-thiem-prj-the-opera-residence/cho-ch-2pn-2wc-o-50-trieu-78m2-view-dep-q2-hcm-pr42754406: 're__icon-front-view'\n"
     ]
    },
    {
     "name": "stderr",
     "output_type": "stream",
     "text": [
      "Processing batches:  23%|██▎       | 263/1161 [34:28<2:44:16, 10.98s/it]"
     ]
    },
    {
     "name": "stdout",
     "output_type": "stream",
     "text": [
      "All Chrome initialization methods failed: Message: Can not connect to the Service /Users/macbook/.wdm/drivers/chromedriver/mac64/135.0.7049.95/chromedriver-mac-arm64/chromedriver\n",
      "\n"
     ]
    },
    {
     "name": "stderr",
     "output_type": "stream",
     "text": [
      "Processing batches:  23%|██▎       | 264/1161 [34:30<2:02:52,  8.22s/it]"
     ]
    },
    {
     "name": "stdout",
     "output_type": "stream",
     "text": [
      "Using Chrome with user agent: Mozilla/5.0 (Macintosh; Intel Mac OS X 10_15_7) AppleWebKit/537.36 (KHTML, like Gecko) Chrome/100.0.4896.127 Safari/537.36\n",
      "Using Chrome with user agent: Mozilla/5.0 (Windows NT 10.0; Win64; x64) AppleWebKit/537.36 (KHTML, like Gecko) Chrome/99.0.4844.84 Safari/537.36\n",
      "Error scraping url https://batdongsan.com.vn/cho-thue-can-ho-chung-cu-duong-so-45-phuong-14-8-prj-can-ho-khang-gia-go-vap/c-75m2-2-png-ngu-2wc-6-5tr-th-lh-pr41778217: 're__icon-front-view'\n"
     ]
    },
    {
     "name": "stderr",
     "output_type": "stream",
     "text": [
      "Processing batches:  23%|██▎       | 265/1161 [34:37<1:57:13,  7.85s/it]"
     ]
    },
    {
     "name": "stdout",
     "output_type": "stream",
     "text": [
      "Using Chrome with user agent: Mozilla/5.0 (Macintosh; Intel Mac OS X 10_15_7) AppleWebKit/537.36 (KHTML, like Gecko) Chrome/99.0.4844.84 Safari/537.36\n"
     ]
    },
    {
     "name": "stderr",
     "output_type": "stream",
     "text": [
      "Processing batches:  23%|██▎       | 266/1161 [34:45<1:55:16,  7.73s/it]"
     ]
    },
    {
     "name": "stdout",
     "output_type": "stream",
     "text": [
      "Error scraping url https://batdongsan.com.vn/cho-thue-can-ho-chung-cu-duong-mai-chi-tho-phuong-binh-khanh-prj-new-city-thu-thiem/c-nhanh-gia-tot-3-png-ngu-gia-18-5-trieu-thang-san-sang-don-khach-pr42467916: 're__icon-clock'\n",
      "Using Chrome with user agent: Mozilla/5.0 (Macintosh; Intel Mac OS X 10_15_7) AppleWebKit/537.36 (KHTML, like Gecko) Chrome/100.0.4896.127 Safari/537.36\n"
     ]
    },
    {
     "name": "stderr",
     "output_type": "stream",
     "text": [
      "Processing batches:  23%|██▎       | 267/1161 [35:00<2:31:09, 10.14s/it]"
     ]
    },
    {
     "name": "stdout",
     "output_type": "stream",
     "text": [
      "Error scraping url https://batdongsan.com.vn/cho-thue-can-ho-chung-cu-mini-duong-bui-dinh-tuy-phuong-24/phong-rong-rai-ban-cong-thoang-mat-may-giat-rieng-binh-thanh-pr42764461: 're__icon-clock'\n",
      "Using Chrome with user agent: Mozilla/5.0 (Macintosh; Intel Mac OS X 10_15_7) AppleWebKit/537.36 (KHTML, like Gecko) Chrome/99.0.4844.84 Safari/537.36\n",
      "Error scraping url https://batdongsan.com.vn/cho-thue-can-ho-chung-cu-duong-tinh-lo-25b-phuong-an-phu-prj-petrovietnam-landmark/c-tai-22-trieu-150m2-3pn-2wc-day-du-pr42764893: 're__icon-private-house'\n"
     ]
    },
    {
     "name": "stderr",
     "output_type": "stream",
     "text": [
      "Processing batches:  23%|██▎       | 268/1161 [35:19<3:07:20, 12.59s/it]"
     ]
    },
    {
     "name": "stdout",
     "output_type": "stream",
     "text": [
      "Using Chrome with user agent: Mozilla/5.0 (Macintosh; Intel Mac OS X 10_15_7) AppleWebKit/537.36 (KHTML, like Gecko) Chrome/100.0.4896.127 Safari/537.36\n",
      "Error scraping url https://batdongsan.com.vn/cho-thue-nha-tro-phong-tro-duong-bui-dien-phuong-4-15/-moi-setup-100-full-noi-that-dep-tu-1-2pn-gia-tu-4-5-6-trieu-lh-pr41883993: 're__icon-front-view'\n"
     ]
    },
    {
     "name": "stderr",
     "output_type": "stream",
     "text": [
      "Processing batches:  23%|██▎       | 269/1161 [35:24<2:36:48, 10.55s/it]"
     ]
    },
    {
     "name": "stdout",
     "output_type": "stream",
     "text": [
      "Using Chrome with user agent: Mozilla/5.0 (Macintosh; Intel Mac OS X 10_15_7) AppleWebKit/537.36 (KHTML, like Gecko) Chrome/99.0.4844.84 Safari/537.36\n"
     ]
    },
    {
     "name": "stderr",
     "output_type": "stream",
     "text": [
      "Service process refused to terminate gracefully with SIGTERM, escalating to SIGKILL.\n",
      "Traceback (most recent call last):\n",
      "  File \"/Users/macbook/Desktop/BecasaNetwork/crawl/scrapepage.py\", line 132, in init_driver\n",
      "    driver = uc.Chrome(version_main=135, options=options)  # Specify a version that works with your Chrome\n",
      "  File \"/Users/macbook/Desktop/BecasaNetwork/crawl/env/lib/python3.13/site-packages/undetected_chromedriver/__init__.py\", line 466, in __init__\n",
      "    super(Chrome, self).__init__(\n",
      "    ~~~~~~~~~~~~~~~~~~~~~~~~~~~~^\n",
      "        service=service,\n",
      "        ^^^^^^^^^^^^^^^^\n",
      "        options=options,\n",
      "        ^^^^^^^^^^^^^^^^\n",
      "        keep_alive=keep_alive,\n",
      "        ^^^^^^^^^^^^^^^^^^^^^^\n",
      "    )\n",
      "    ^\n",
      "  File \"/Users/macbook/Desktop/BecasaNetwork/crawl/env/lib/python3.13/site-packages/selenium/webdriver/chrome/webdriver.py\", line 45, in __init__\n",
      "    super().__init__(\n",
      "    ~~~~~~~~~~~~~~~~^\n",
      "        browser_name=DesiredCapabilities.CHROME[\"browserName\"],\n",
      "        ^^^^^^^^^^^^^^^^^^^^^^^^^^^^^^^^^^^^^^^^^^^^^^^^^^^^^^^\n",
      "    ...<3 lines>...\n",
      "        keep_alive=keep_alive,\n",
      "        ^^^^^^^^^^^^^^^^^^^^^^\n",
      "    )\n",
      "    ^\n",
      "  File \"/Users/macbook/Desktop/BecasaNetwork/crawl/env/lib/python3.13/site-packages/selenium/webdriver/chromium/webdriver.py\", line 55, in __init__\n",
      "    self.service.start()\n",
      "    ~~~~~~~~~~~~~~~~~~^^\n",
      "  File \"/Users/macbook/Desktop/BecasaNetwork/crawl/env/lib/python3.13/site-packages/selenium/webdriver/common/service.py\", line 113, in start\n",
      "    self.assert_process_still_running()\n",
      "    ~~~~~~~~~~~~~~~~~~~~~~~~~~~~~~~~~^^\n",
      "  File \"/Users/macbook/Desktop/BecasaNetwork/crawl/env/lib/python3.13/site-packages/selenium/webdriver/common/service.py\", line 126, in assert_process_still_running\n",
      "    raise WebDriverException(f\"Service {self._path} unexpectedly exited. Status code was: {return_code}\")\n",
      "selenium.common.exceptions.WebDriverException: Message: Service /Users/macbook/Library/Application Support/undetected_chromedriver/undetected_chromedriver unexpectedly exited. Status code was: -9\n",
      "\n",
      "\n",
      "During handling of the above exception, another exception occurred:\n",
      "\n",
      "Traceback (most recent call last):\n",
      "  File \"/Users/macbook/Desktop/BecasaNetwork/crawl/scrapepage.py\", line 139, in init_driver\n",
      "    driver = uc.Chrome(driver_executable_path=driver_path, options=options)\n",
      "  File \"/Users/macbook/Desktop/BecasaNetwork/crawl/env/lib/python3.13/site-packages/undetected_chromedriver/__init__.py\", line 269, in __init__\n",
      "    raise RuntimeError(\"you cannot reuse the ChromeOptions object\")\n",
      "RuntimeError: you cannot reuse the ChromeOptions object\n",
      "\n",
      "During handling of the above exception, another exception occurred:\n",
      "\n",
      "Traceback (most recent call last):\n",
      "  File \"/Users/macbook/Desktop/BecasaNetwork/crawl/scrapepage.py\", line 166, in scrape_page\n",
      "    driver = init_driver()\n",
      "  File \"/Users/macbook/Desktop/BecasaNetwork/crawl/scrapepage.py\", line 147, in init_driver\n",
      "    driver = webdriver.Chrome(service=service, options=options)\n",
      "  File \"/Users/macbook/Desktop/BecasaNetwork/crawl/env/lib/python3.13/site-packages/selenium/webdriver/chrome/webdriver.py\", line 45, in __init__\n",
      "    super().__init__(\n",
      "    ~~~~~~~~~~~~~~~~^\n",
      "        browser_name=DesiredCapabilities.CHROME[\"browserName\"],\n",
      "        ^^^^^^^^^^^^^^^^^^^^^^^^^^^^^^^^^^^^^^^^^^^^^^^^^^^^^^^\n",
      "    ...<3 lines>...\n",
      "        keep_alive=keep_alive,\n",
      "        ^^^^^^^^^^^^^^^^^^^^^^\n",
      "    )\n",
      "    ^\n",
      "  File \"/Users/macbook/Desktop/BecasaNetwork/crawl/env/lib/python3.13/site-packages/selenium/webdriver/chromium/webdriver.py\", line 55, in __init__\n",
      "    self.service.start()\n",
      "    ~~~~~~~~~~~~~~~~~~^^\n",
      "  File \"/Users/macbook/Desktop/BecasaNetwork/crawl/env/lib/python3.13/site-packages/selenium/webdriver/common/service.py\", line 120, in start\n",
      "    raise WebDriverException(f\"Can not connect to the Service {self._path}\")\n",
      "selenium.common.exceptions.WebDriverException: Message: Can not connect to the Service /Users/macbook/.wdm/drivers/chromedriver/mac64/135.0.7049.95/chromedriver-mac-arm64/chromedriver\n",
      "\n",
      "\n",
      "During handling of the above exception, another exception occurred:\n",
      "\n",
      "UnboundLocalError: cannot access local variable 'url' where it is not associated with a value\n",
      "\n",
      "During handling of the above exception, another exception occurred:\n",
      "\n",
      "Traceback (most recent call last):\n",
      "  File \"/Users/macbook/Desktop/BecasaNetwork/crawl/env/lib/python3.13/site-packages/selenium/webdriver/common/service.py\", line 184, in _terminate_process\n",
      "    self.process.wait(60)\n",
      "    ~~~~~~~~~~~~~~~~~^^^^\n",
      "  File \"/opt/homebrew/Cellar/python@3.13/3.13.2/Frameworks/Python.framework/Versions/3.13/lib/python3.13/subprocess.py\", line 1276, in wait\n",
      "    return self._wait(timeout=timeout)\n",
      "           ~~~~~~~~~~^^^^^^^^^^^^^^^^^\n",
      "  File \"/opt/homebrew/Cellar/python@3.13/3.13.2/Frameworks/Python.framework/Versions/3.13/lib/python3.13/subprocess.py\", line 2060, in _wait\n",
      "    raise TimeoutExpired(self.args, timeout)\n",
      "subprocess.TimeoutExpired: Command '['/Users/macbook/.wdm/drivers/chromedriver/mac64/135.0.7049.95/chromedriver-mac-arm64/chromedriver', '--port=57868']' timed out after 60 seconds\n",
      "Processing batches:  23%|██▎       | 270/1161 [35:29<2:09:24,  8.71s/it]"
     ]
    },
    {
     "name": "stdout",
     "output_type": "stream",
     "text": [
      "Error processing batch ['https://batdongsan.com.vn/cho-thue-can-ho-chung-cu-duong-nguyen-van-troi-phuong-12-9-prj-the-prince-residence/c-quan-phu-nhuan-72m-2pn-full-nt-gia-19-trieu-thang-lh-a-pr42352229']: cannot access local variable 'url' where it is not associated with a value\n",
      "Error scraping url https://batdongsan.com.vn/cho-thue-can-ho-chung-cu-mini-duong-le-thanh-ton-phuong-ben-nghe/cho-cc-1pn-ban-cong-10-trieu-45m2-tai-q1-hcm-uy-tin-hang-hiem-pr42576034: 're__icon-clock'\n"
     ]
    },
    {
     "name": "stderr",
     "output_type": "stream",
     "text": [
      "Processing batches:  23%|██▎       | 271/1161 [35:29<1:32:50,  6.26s/it]"
     ]
    },
    {
     "name": "stdout",
     "output_type": "stream",
     "text": [
      "Using Chrome with user agent: Mozilla/5.0 (Windows NT 10.0; Win64; x64) AppleWebKit/537.36 (KHTML, like Gecko) Chrome/99.0.4844.84 Safari/537.36\n",
      "Using Chrome with user agent: Mozilla/5.0 (Windows NT 10.0; Win64; x64) AppleWebKit/537.36 (KHTML, like Gecko) Chrome/100.0.4896.127 Safari/537.36\n",
      "Error scraping url https://batdongsan.com.vn/cho-thue-can-ho-chung-cu-mini-duong-bui-dinh-tuy-phuong-24/phong-sieu-rong-42m2-chi-con-1-duy-nhat-vao-o-ngay-pr42764290: 're__icon-clock'\n"
     ]
    },
    {
     "name": "stderr",
     "output_type": "stream",
     "text": [
      "Processing batches:  23%|██▎       | 272/1161 [35:39<1:46:35,  7.19s/it]"
     ]
    },
    {
     "name": "stdout",
     "output_type": "stream",
     "text": [
      "Error scraping url https://batdongsan.com.vn/cho-thue-can-ho-chung-cu-duong-nguyen-huu-tho-phuong-tan-hung-14-prj-sunrise-city/c-2pn-2wc-sieu-dep-gia-chi-19-trieu-thang-pr42740019: 're__icon-front-view'\n"
     ]
    },
    {
     "name": "stderr",
     "output_type": "stream",
     "text": [
      "Processing batches:  24%|██▎       | 273/1161 [35:42<1:27:28,  5.91s/it]"
     ]
    },
    {
     "name": "stdout",
     "output_type": "stream",
     "text": [
      "Using Chrome with user agent: Mozilla/5.0 (Windows NT 10.0; Win64; x64) AppleWebKit/537.36 (KHTML, like Gecko) Chrome/100.0.4896.127 Safari/537.36\n",
      "Using Chrome with user agent: Mozilla/5.0 (Macintosh; Intel Mac OS X 10_15_7) AppleWebKit/537.36 (KHTML, like Gecko) Chrome/99.0.4844.84 Safari/537.36\n",
      "Error scraping url https://batdongsan.com.vn/cho-thue-can-ho-chung-cu-phuong-phu-my-9-prj-the-era-town/97-m2-co-3-phong-ngu-noi-that-dep-gia-12-tr-thang-lh-hoa-pr42486911: 're__icon-front-view'\n"
     ]
    },
    {
     "name": "stderr",
     "output_type": "stream",
     "text": [
      "Processing batches:  24%|██▎       | 274/1161 [35:55<2:02:11,  8.27s/it]"
     ]
    },
    {
     "name": "stdout",
     "output_type": "stream",
     "text": [
      "Error scraping url https://batdongsan.com.vn/cho-thue-can-ho-chung-cu-duong-3-2-2-phuong-12-5-prj-hado-centrosa-garden/re-nhat-thi-truong-chi-22-trieu-chinh-chu-cho-cc-q10-22-trieu-91m2-3pn-ntcb-pr42497841: 're__icon-clock'\n"
     ]
    },
    {
     "name": "stderr",
     "output_type": "stream",
     "text": [
      "Processing batches:  24%|██▎       | 275/1161 [35:56<1:27:11,  5.90s/it]"
     ]
    },
    {
     "name": "stdout",
     "output_type": "stream",
     "text": [
      "Using Chrome with user agent: Mozilla/5.0 (Windows NT 10.0; Win64; x64) AppleWebKit/537.36 (KHTML, like Gecko) Chrome/100.0.4896.127 Safari/537.36\n",
      "Using Chrome with user agent: Mozilla/5.0 (Macintosh; Intel Mac OS X 10_15_7) AppleWebKit/537.36 (KHTML, like Gecko) Chrome/99.0.4844.84 Safari/537.36\n",
      "Error scraping url https://batdongsan.com.vn/cho-thue-can-ho-chung-cu-duong-vo-van-kiet-phuong-an-lac-6-prj-akari-city-nam-long/chot-don-ngay-8-5-trieu-full-nt-2pn-75m-tai-binh-tan-tphcm-pr42537153: 're__icon-front-view'\n"
     ]
    },
    {
     "name": "stderr",
     "output_type": "stream",
     "text": [
      "Processing batches:  24%|██▍       | 276/1161 [36:06<1:44:18,  7.07s/it]"
     ]
    },
    {
     "name": "stdout",
     "output_type": "stream",
     "text": [
      "Using Chrome with user agent: Mozilla/5.0 (Windows NT 10.0; Win64; x64) AppleWebKit/537.36 (KHTML, like Gecko) Chrome/99.0.4844.84 Safari/537.36\n",
      "Error scraping url https://batdongsan.com.vn/cho-thue-can-ho-chung-cu-duong-pho-quang-phuong-2-22-prj-sky-center/vip-cho-tan-binh-74m2-2pn-full-noi-that-gia-16tr-thang-pr42548658: 're__icon-front-view'\n"
     ]
    },
    {
     "name": "stderr",
     "output_type": "stream",
     "text": [
      "Processing batches:  24%|██▍       | 277/1161 [36:12<1:42:01,  6.92s/it]"
     ]
    },
    {
     "name": "stdout",
     "output_type": "stream",
     "text": [
      "Error scraping url https://batdongsan.com.vn/cho-thue-nha-tro-phong-tro-duong-chien-thang-phuong-9-12/-full-noi-that-lau-1-wc-bep-rieng-pr42686654: 're__icon-road'\n"
     ]
    },
    {
     "name": "stderr",
     "output_type": "stream",
     "text": [
      "Processing batches:  24%|██▍       | 278/1161 [36:13<1:13:23,  4.99s/it]"
     ]
    },
    {
     "name": "stdout",
     "output_type": "stream",
     "text": [
      "Error scraping url https://batdongsan.com.vn/cho-thue-can-ho-chung-cu-duong-vo-van-kiet-phuong-an-lac-6-prj-akari-city-nam-long/cho-80m-full-noi-that-tai-binh-tan-pr42482247: 're__icon-front-view'\n"
     ]
    },
    {
     "name": "stderr",
     "output_type": "stream",
     "text": [
      "Processing batches:  24%|██▍       | 279/1161 [36:15<1:00:11,  4.09s/it]"
     ]
    },
    {
     "name": "stdout",
     "output_type": "stream",
     "text": [
      "First method failed: Message: Service /Users/macbook/Library/Application Support/undetected_chromedriver/undetected_chromedriver unexpectedly exited. Status code was: -9\n",
      "\n",
      "Using Chrome driver at: /Users/macbook/.wdm/drivers/chromedriver/mac64/135.0.7049.95/chromedriver-mac-arm64/chromedriver\n",
      "Second method failed: you cannot reuse the ChromeOptions object\n",
      "Using Chrome with user agent: Mozilla/5.0 (Macintosh; Intel Mac OS X 10_15_7) AppleWebKit/537.36 (KHTML, like Gecko) Chrome/100.0.4896.127 Safari/537.36\n",
      "Using Chrome with user agent: Mozilla/5.0 (Windows NT 10.0; Win64; x64) AppleWebKit/537.36 (KHTML, like Gecko) Chrome/100.0.4896.127 Safari/537.36\n",
      "Error scraping url https://batdongsan.com.vn/cho-thue-can-ho-chung-cu-duong-pham-phu-thu-phuong-11-10-prj-bay-hien-tower/c-78m2-2pn-2wc-ntcb-view-dong-tang-cao-nha-dang-trong-gia-11-tr-th-pr42675093: 're__icon-front-view'\n"
     ]
    },
    {
     "name": "stderr",
     "output_type": "stream",
     "text": [
      "Processing batches:  24%|██▍       | 280/1161 [36:26<1:34:17,  6.42s/it]"
     ]
    },
    {
     "name": "stdout",
     "output_type": "stream",
     "text": [
      "Error scraping url https://batdongsan.com.vn/cho-thue-can-ho-chung-cu-mini-duong-dinh-cong-trang-phuong-tan-dinh-2/khai-truong-toa-nha-ngay-hai-ba-trung-gan-nha-tho-hong-quan-1-giap-quan-3-pr42763578: 're__icon-clock'\n"
     ]
    },
    {
     "name": "stderr",
     "output_type": "stream",
     "text": [
      "Processing batches:  24%|██▍       | 281/1161 [36:28<1:12:51,  4.97s/it]"
     ]
    },
    {
     "name": "stdout",
     "output_type": "stream",
     "text": [
      "Using Chrome with user agent: Mozilla/5.0 (Macintosh; Intel Mac OS X 10_15_7) AppleWebKit/537.36 (KHTML, like Gecko) Chrome/100.0.4896.127 Safari/537.36\n",
      "Using Chrome with user agent: Mozilla/5.0 (Windows NT 10.0; Win64; x64) AppleWebKit/537.36 (KHTML, like Gecko) Chrome/99.0.4844.84 Safari/537.36\n",
      "Error scraping url https://batdongsan.com.vn/cho-thue-can-ho-chung-cu-duong-phan-van-hon-phuong-tan-thoi-nhat-1-prj-prosper-plaza/-full-nt-chuan-thiet-ke-chuan-chau-au-2p-n-cc-gia-re-pr42304673: 're__icon-front-view'\n"
     ]
    },
    {
     "name": "stderr",
     "output_type": "stream",
     "text": [
      "Processing batches:  24%|██▍       | 282/1161 [36:35<1:19:26,  5.42s/it]"
     ]
    },
    {
     "name": "stdout",
     "output_type": "stream",
     "text": [
      "Using Chrome with user agent: Mozilla/5.0 (Windows NT 10.0; Win64; x64) AppleWebKit/537.36 (KHTML, like Gecko) Chrome/99.0.4844.84 Safari/537.36\n"
     ]
    },
    {
     "name": "stderr",
     "output_type": "stream",
     "text": [
      "Processing batches:  24%|██▍       | 283/1161 [36:45<1:39:37,  6.81s/it]"
     ]
    },
    {
     "name": "stdout",
     "output_type": "stream",
     "text": [
      "Error scraping url https://batdongsan.com.vn/cho-thue-nha-tro-phong-tro-duong-huynh-tan-phat-phuong-phu-thuan-3/cho-dien-tich-5x6-co-ban-cong-huong-dong-mat-tien-847-quan-7-pr42763827: 're__icon-front-view'\n",
      "Using Chrome with user agent: Mozilla/5.0 (Macintosh; Intel Mac OS X 10_15_7) AppleWebKit/537.36 (KHTML, like Gecko) Chrome/99.0.4844.84 Safari/537.36\n",
      "All Chrome initialization methods failed: Message: Can not connect to the Service /Users/macbook/.wdm/drivers/chromedriver/mac64/135.0.7049.95/chromedriver-mac-arm64/chromedriver\n",
      "\n"
     ]
    },
    {
     "name": "stderr",
     "output_type": "stream",
     "text": [
      "Processing batches:  24%|██▍       | 284/1161 [36:53<1:45:01,  7.19s/it]"
     ]
    },
    {
     "name": "stdout",
     "output_type": "stream",
     "text": [
      "Error scraping url https://batdongsan.com.vn/cho-thue-can-ho-chung-cu-duong-nguyen-duy-trinh-phuong-binh-trung-dong-prj-parcspring/cho-gap-2pn-full-nt-co-ban-cong-view-thoang-mat-gia-10tr-thang-pr41781152: 're__icon-document'\n",
      "Using Chrome with user agent: Mozilla/5.0 (Macintosh; Intel Mac OS X 10_15_7) AppleWebKit/537.36 (KHTML, like Gecko) Chrome/100.0.4896.127 Safari/537.36\n"
     ]
    },
    {
     "name": "stderr",
     "output_type": "stream",
     "text": [
      "Processing batches:  25%|██▍       | 285/1161 [37:34<4:14:29, 17.43s/it]"
     ]
    },
    {
     "name": "stdout",
     "output_type": "stream",
     "text": [
      "Using Chrome with user agent: Mozilla/5.0 (Macintosh; Intel Mac OS X 10_15_7) AppleWebKit/537.36 (KHTML, like Gecko) Chrome/99.0.4844.84 Safari/537.36\n",
      "Error scraping url https://batdongsan.com.vn/cho-thue-can-ho-chung-cu-duong-phan-van-tri-phuong-10-8-prj-cityland-park-hills/c-cc-parkhills-q-go-vap-2pn-78m2-9tr-th-lh-0909-286-392-pr31706551: 're__icon-document'\n"
     ]
    },
    {
     "name": "stderr",
     "output_type": "stream",
     "text": [
      "Processing batches:  25%|██▍       | 286/1161 [37:47<3:52:58, 15.98s/it]Service process refused to terminate gracefully with SIGTERM, escalating to SIGKILL.\n",
      "Traceback (most recent call last):\n",
      "  File \"/Users/macbook/Desktop/BecasaNetwork/crawl/scrapepage.py\", line 132, in init_driver\n",
      "    driver = uc.Chrome(version_main=135, options=options)  # Specify a version that works with your Chrome\n",
      "  File \"/Users/macbook/Desktop/BecasaNetwork/crawl/env/lib/python3.13/site-packages/undetected_chromedriver/__init__.py\", line 466, in __init__\n",
      "    super(Chrome, self).__init__(\n",
      "    ~~~~~~~~~~~~~~~~~~~~~~~~~~~~^\n",
      "        service=service,\n",
      "        ^^^^^^^^^^^^^^^^\n",
      "        options=options,\n",
      "        ^^^^^^^^^^^^^^^^\n",
      "        keep_alive=keep_alive,\n",
      "        ^^^^^^^^^^^^^^^^^^^^^^\n",
      "    )\n",
      "    ^\n",
      "  File \"/Users/macbook/Desktop/BecasaNetwork/crawl/env/lib/python3.13/site-packages/selenium/webdriver/chrome/webdriver.py\", line 45, in __init__\n",
      "    super().__init__(\n",
      "    ~~~~~~~~~~~~~~~~^\n",
      "        browser_name=DesiredCapabilities.CHROME[\"browserName\"],\n",
      "        ^^^^^^^^^^^^^^^^^^^^^^^^^^^^^^^^^^^^^^^^^^^^^^^^^^^^^^^\n",
      "    ...<3 lines>...\n",
      "        keep_alive=keep_alive,\n",
      "        ^^^^^^^^^^^^^^^^^^^^^^\n",
      "    )\n",
      "    ^\n",
      "  File \"/Users/macbook/Desktop/BecasaNetwork/crawl/env/lib/python3.13/site-packages/selenium/webdriver/chromium/webdriver.py\", line 55, in __init__\n",
      "    self.service.start()\n",
      "    ~~~~~~~~~~~~~~~~~~^^\n",
      "  File \"/Users/macbook/Desktop/BecasaNetwork/crawl/env/lib/python3.13/site-packages/selenium/webdriver/common/service.py\", line 113, in start\n",
      "    self.assert_process_still_running()\n",
      "    ~~~~~~~~~~~~~~~~~~~~~~~~~~~~~~~~~^^\n",
      "  File \"/Users/macbook/Desktop/BecasaNetwork/crawl/env/lib/python3.13/site-packages/selenium/webdriver/common/service.py\", line 126, in assert_process_still_running\n",
      "    raise WebDriverException(f\"Service {self._path} unexpectedly exited. Status code was: {return_code}\")\n",
      "selenium.common.exceptions.WebDriverException: Message: Service /Users/macbook/Library/Application Support/undetected_chromedriver/undetected_chromedriver unexpectedly exited. Status code was: -9\n",
      "\n",
      "\n",
      "During handling of the above exception, another exception occurred:\n",
      "\n",
      "Traceback (most recent call last):\n",
      "  File \"/Users/macbook/Desktop/BecasaNetwork/crawl/scrapepage.py\", line 139, in init_driver\n",
      "    driver = uc.Chrome(driver_executable_path=driver_path, options=options)\n",
      "  File \"/Users/macbook/Desktop/BecasaNetwork/crawl/env/lib/python3.13/site-packages/undetected_chromedriver/__init__.py\", line 269, in __init__\n",
      "    raise RuntimeError(\"you cannot reuse the ChromeOptions object\")\n",
      "RuntimeError: you cannot reuse the ChromeOptions object\n",
      "\n",
      "During handling of the above exception, another exception occurred:\n",
      "\n",
      "Traceback (most recent call last):\n",
      "  File \"/Users/macbook/Desktop/BecasaNetwork/crawl/scrapepage.py\", line 166, in scrape_page\n",
      "    driver = init_driver()\n",
      "  File \"/Users/macbook/Desktop/BecasaNetwork/crawl/scrapepage.py\", line 147, in init_driver\n",
      "    driver = webdriver.Chrome(service=service, options=options)\n",
      "  File \"/Users/macbook/Desktop/BecasaNetwork/crawl/env/lib/python3.13/site-packages/selenium/webdriver/chrome/webdriver.py\", line 45, in __init__\n",
      "    super().__init__(\n",
      "    ~~~~~~~~~~~~~~~~^\n",
      "        browser_name=DesiredCapabilities.CHROME[\"browserName\"],\n",
      "        ^^^^^^^^^^^^^^^^^^^^^^^^^^^^^^^^^^^^^^^^^^^^^^^^^^^^^^^\n",
      "    ...<3 lines>...\n",
      "        keep_alive=keep_alive,\n",
      "        ^^^^^^^^^^^^^^^^^^^^^^\n",
      "    )\n",
      "    ^\n",
      "  File \"/Users/macbook/Desktop/BecasaNetwork/crawl/env/lib/python3.13/site-packages/selenium/webdriver/chromium/webdriver.py\", line 55, in __init__\n",
      "    self.service.start()\n",
      "    ~~~~~~~~~~~~~~~~~~^^\n",
      "  File \"/Users/macbook/Desktop/BecasaNetwork/crawl/env/lib/python3.13/site-packages/selenium/webdriver/common/service.py\", line 120, in start\n",
      "    raise WebDriverException(f\"Can not connect to the Service {self._path}\")\n",
      "selenium.common.exceptions.WebDriverException: Message: Can not connect to the Service /Users/macbook/.wdm/drivers/chromedriver/mac64/135.0.7049.95/chromedriver-mac-arm64/chromedriver\n",
      "\n",
      "\n",
      "During handling of the above exception, another exception occurred:\n",
      "\n",
      "UnboundLocalError: cannot access local variable 'url' where it is not associated with a value\n",
      "\n",
      "During handling of the above exception, another exception occurred:\n",
      "\n",
      "Traceback (most recent call last):\n",
      "  File \"/Users/macbook/Desktop/BecasaNetwork/crawl/env/lib/python3.13/site-packages/selenium/webdriver/common/service.py\", line 184, in _terminate_process\n",
      "    self.process.wait(60)\n",
      "    ~~~~~~~~~~~~~~~~~^^^^\n",
      "  File \"/opt/homebrew/Cellar/python@3.13/3.13.2/Frameworks/Python.framework/Versions/3.13/lib/python3.13/subprocess.py\", line 1276, in wait\n",
      "    return self._wait(timeout=timeout)\n",
      "           ~~~~~~~~~~^^^^^^^^^^^^^^^^^\n",
      "  File \"/opt/homebrew/Cellar/python@3.13/3.13.2/Frameworks/Python.framework/Versions/3.13/lib/python3.13/subprocess.py\", line 2060, in _wait\n",
      "    raise TimeoutExpired(self.args, timeout)\n",
      "subprocess.TimeoutExpired: Command '['/Users/macbook/.wdm/drivers/chromedriver/mac64/135.0.7049.95/chromedriver-mac-arm64/chromedriver', '--port=53316']' timed out after 60 seconds\n",
      "Processing batches:  25%|██▍       | 287/1161 [37:49<2:51:29, 11.77s/it]"
     ]
    },
    {
     "name": "stdout",
     "output_type": "stream",
     "text": [
      "Error processing batch ['https://batdongsan.com.vn/cho-thue-can-ho-chung-cu-duong-truong-van-bang-phuong-thanh-my-loi/hifriendz-khai-ch-full-moi-thiet-ke-sang-trong-ban-cong-thoang-mat-dao-kim-cuong-sala-pr39404491']: cannot access local variable 'url' where it is not associated with a value\n",
      "Using Chrome with user agent: Mozilla/5.0 (Macintosh; Intel Mac OS X 10_15_7) AppleWebKit/537.36 (KHTML, like Gecko) Chrome/99.0.4844.84 Safari/537.36\n",
      "Using Chrome with user agent: Mozilla/5.0 (Windows NT 10.0; Win64; x64) AppleWebKit/537.36 (KHTML, like Gecko) Chrome/99.0.4844.84 Safari/537.36\n",
      "Error scraping url https://batdongsan.com.vn/cho-thue-can-ho-chung-cu-duong-phan-van-dang-phuong-thanh-my-loi-prj-feliz-en-vista/c-5pn-4wc-220m2-tai-gia-tot-chi-voi-75-trieu-vnd-lh-pr42525416: 're__icon-front-view'\n"
     ]
    },
    {
     "name": "stderr",
     "output_type": "stream",
     "text": [
      "Processing batches:  25%|██▍       | 288/1161 [37:54<2:23:50,  9.89s/it]"
     ]
    },
    {
     "name": "stdout",
     "output_type": "stream",
     "text": [
      "Using Chrome with user agent: Mozilla/5.0 (Windows NT 10.0; Win64; x64) AppleWebKit/537.36 (KHTML, like Gecko) Chrome/100.0.4896.127 Safari/537.36\n",
      "Error scraping url https://batdongsan.com.vn/cho-thue-can-ho-chung-cu-duong-pham-hung-xa-binh-hung-1-prj-can-ho-terra-mia/ban-quan-ly-c-mi-a-day-du-noi-that-dep-1-duy-nhat-gia-11-trieu-thang-pr42763380: 're__icon-front-view'\n"
     ]
    },
    {
     "name": "stderr",
     "output_type": "stream",
     "text": [
      "Processing batches:  25%|██▍       | 289/1161 [38:00<2:07:53,  8.80s/it]"
     ]
    },
    {
     "name": "stdout",
     "output_type": "stream",
     "text": [
      "Error scraping url https://batdongsan.com.vn/cho-thue-can-ho-chung-cu-duong-mai-chi-tho-phuong-an-phu-prj-lexington-residence/thien-cho-q2-2pn-full-nt-gia-14-tr-th-pr41861207: 're__icon-document'\n"
     ]
    },
    {
     "name": "stderr",
     "output_type": "stream",
     "text": [
      "Processing batches:  25%|██▍       | 290/1161 [38:02<1:37:57,  6.75s/it]"
     ]
    },
    {
     "name": "stdout",
     "output_type": "stream",
     "text": [
      "Using Chrome with user agent: Mozilla/5.0 (Macintosh; Intel Mac OS X 10_15_7) AppleWebKit/537.36 (KHTML, like Gecko) Chrome/99.0.4844.84 Safari/537.36\n",
      "Using Chrome with user agent: Mozilla/5.0 (Macintosh; Intel Mac OS X 10_15_7) AppleWebKit/537.36 (KHTML, like Gecko) Chrome/100.0.4896.127 Safari/537.36\n"
     ]
    },
    {
     "name": "stderr",
     "output_type": "stream",
     "text": [
      "Processing batches:  25%|██▌       | 291/1161 [38:11<1:45:54,  7.30s/it]"
     ]
    },
    {
     "name": "stdout",
     "output_type": "stream",
     "text": [
      "Error scraping url https://batdongsan.com.vn/cho-thue-can-ho-chung-cu-duong-ben-van-don-phuong-12-prj-saigon-royal-residence/cho-view-phao-bong-3pn-gia-chi-33tr-thang-nha-dep-em-tien-pr42761668: 're__icon-front-view'\n",
      "Using Chrome with user agent: Mozilla/5.0 (Windows NT 10.0; Win64; x64) AppleWebKit/537.36 (KHTML, like Gecko) Chrome/99.0.4844.84 Safari/537.36\n",
      "Error scraping url https://batdongsan.com.vn/cho-thue-nha-tro-phong-tro-duong-huu-nghi-phuong-binh-tho/cho-full-noi-that-ngay-nga-tu-thu-duc-tho-pr41240870: 're__icon-front-view'\n"
     ]
    },
    {
     "name": "stderr",
     "output_type": "stream",
     "text": [
      "Processing batches:  25%|██▌       | 292/1161 [38:17<1:42:57,  7.11s/it]"
     ]
    },
    {
     "name": "stdout",
     "output_type": "stream",
     "text": [
      "Using Chrome with user agent: Mozilla/5.0 (Windows NT 10.0; Win64; x64) AppleWebKit/537.36 (KHTML, like Gecko) Chrome/99.0.4844.84 Safari/537.36\n",
      "Error scraping url https://batdongsan.com.vn/cho-thue-can-ho-chung-cu-duong-nguyen-dinh-chieu-phuong-vo-thi-sau-prj-leman-luxury-apartments/c-nhieu-du-dien-tich-gia-tot-nhat-truong-lh-zalo-pr42123378: 're__icon-front-view'\n"
     ]
    },
    {
     "name": "stderr",
     "output_type": "stream",
     "text": [
      "Processing batches:  25%|██▌       | 293/1161 [38:30<2:07:09,  8.79s/it]"
     ]
    },
    {
     "name": "stdout",
     "output_type": "stream",
     "text": [
      "Error scraping url https://batdongsan.com.vn/cho-thue-can-ho-chung-cu-duong-vanh-dai-3-phuong-long-truong-prj-chung-cu-mt-eastmark-city/trum-c-gia-sieu-tot-pr41407421: 're__icon-front-view'\n"
     ]
    },
    {
     "name": "stderr",
     "output_type": "stream",
     "text": [
      "Processing batches:  25%|██▌       | 294/1161 [38:32<1:37:30,  6.75s/it]"
     ]
    },
    {
     "name": "stdout",
     "output_type": "stream",
     "text": [
      "Using Chrome with user agent: Mozilla/5.0 (Macintosh; Intel Mac OS X 10_15_7) AppleWebKit/537.36 (KHTML, like Gecko) Chrome/100.0.4896.127 Safari/537.36\n",
      "Using Chrome with user agent: Mozilla/5.0 (Windows NT 10.0; Win64; x64) AppleWebKit/537.36 (KHTML, like Gecko) Chrome/99.0.4844.84 Safari/537.36\n",
      "Error scraping url https://batdongsan.com.vn/cho-thue-can-ho-chung-cu-duong-dang-van-bi-phuong-binh-tho-prj-moonlight-residences/c-5-thu-duc-66m2-2pn-2wc-view-boi-8tr-th-lh-0938826595-pr26229625: 're__icon-private-house'\n"
     ]
    },
    {
     "name": "stderr",
     "output_type": "stream",
     "text": [
      "Processing batches:  25%|██▌       | 296/1161 [38:41<1:15:03,  5.21s/it]"
     ]
    },
    {
     "name": "stdout",
     "output_type": "stream",
     "text": [
      "Error scraping url https://batdongsan.com.vn/cho-thue-can-ho-chung-cu-duong-hau-giang-phuong-11-3-prj-him-lam-cho-lon/c-quan-6-83m2-2pn-noi-that-cb-gia-11-tr-thang-o-lien-lh-pr42750519: 're__icon-clock'\n",
      "Using Chrome with user agent: Mozilla/5.0 (Windows NT 10.0; Win64; x64) AppleWebKit/537.36 (KHTML, like Gecko) Chrome/100.0.4896.127 Safari/537.36\n",
      "Using Chrome with user agent: Mozilla/5.0 (Windows NT 10.0; Win64; x64) AppleWebKit/537.36 (KHTML, like Gecko) Chrome/100.0.4896.127 Safari/537.36\n",
      "Error scraping url https://batdongsan.com.vn/cho-thue-can-ho-chung-cu-mini-duong-nguyen-binh-khiem-phuong-da-kao/sau-lang-trong-bon-tam-mang-thuong-hieu-dang-cap-sang-trong-tinh-te-pr42646052: 're__icon-electricity'\n"
     ]
    },
    {
     "name": "stderr",
     "output_type": "stream",
     "text": [
      "Processing batches:  26%|██▌       | 297/1161 [38:49<1:29:29,  6.21s/it]"
     ]
    },
    {
     "name": "stdout",
     "output_type": "stream",
     "text": [
      "Error scraping url https://batdongsan.com.vn/cho-thue-can-ho-chung-cu-duong-thanh-thai-phuong-14-5-prj-rivera-park-sai-gon/-q10-dt-74m2-2pn-2wc-gia-tot-12tr-nha-dep-view-mat-lh-0903-833-234-pr32668814: 're__icon-document'\n"
     ]
    },
    {
     "name": "stderr",
     "output_type": "stream",
     "text": [
      "Processing batches:  26%|██▌       | 298/1161 [38:50<1:06:31,  4.62s/it]"
     ]
    },
    {
     "name": "stdout",
     "output_type": "stream",
     "text": [
      "Using Chrome with user agent: Mozilla/5.0 (Macintosh; Intel Mac OS X 10_15_7) AppleWebKit/537.36 (KHTML, like Gecko) Chrome/100.0.4896.127 Safari/537.36\n",
      "Using Chrome with user agent: Mozilla/5.0 (Macintosh; Intel Mac OS X 10_15_7) AppleWebKit/537.36 (KHTML, like Gecko) Chrome/99.0.4844.84 Safari/537.36\n"
     ]
    },
    {
     "name": "stderr",
     "output_type": "stream",
     "text": [
      "Processing batches:  26%|██▌       | 299/1161 [38:59<1:25:18,  5.94s/it]"
     ]
    },
    {
     "name": "stdout",
     "output_type": "stream",
     "text": [
      "Error scraping url https://batdongsan.com.vn/cho-thue-can-ho-chung-cu-duong-nguyen-huu-tho-xa-phuoc-kieng-prj-phu-hoang-anh/c-dep-tai-ang-02pn-full-noi-that-pr34798804: 're__icon-front-view'\n",
      "Error scraping url https://batdongsan.com.vn/cho-thue-nha-tro-phong-tro-duong-vinh-khanh-phuong-2/chinh-chu-cho-studio-cua-so-lon-35m2-day-du-tien-nghi-ngay-pho-am-thuc-giap-q1-pr42763109: 're__icon-front-view'\n"
     ]
    },
    {
     "name": "stderr",
     "output_type": "stream",
     "text": [
      "Processing batches:  26%|██▌       | 300/1161 [39:03<1:16:01,  5.30s/it]"
     ]
    },
    {
     "name": "stdout",
     "output_type": "stream",
     "text": [
      "Error scraping url https://batdongsan.com.vn/cho-thue-can-ho-chung-cu-duong-14-1-xa-binh-hung-1-prj-khu-dan-cu-him-lam-6a/-cho-14-70m-2pn-gia-9tr-ms-viem-pr40902005: HTTPConnectionPool(host='localhost', port=53571): Read timed out. (read timeout=120)\n",
      "Using Chrome with user agent: Mozilla/5.0 (Macintosh; Intel Mac OS X 10_15_7) AppleWebKit/537.36 (KHTML, like Gecko) Chrome/100.0.4896.127 Safari/537.36\n"
     ]
    },
    {
     "name": "stderr",
     "output_type": "stream",
     "text": [
      "Processing batches:  26%|██▌       | 301/1161 [39:04<55:32,  3.88s/it]  "
     ]
    },
    {
     "name": "stdout",
     "output_type": "stream",
     "text": [
      "Using Chrome with user agent: Mozilla/5.0 (Windows NT 10.0; Win64; x64) AppleWebKit/537.36 (KHTML, like Gecko) Chrome/100.0.4896.127 Safari/537.36\n",
      "Error scraping url https://batdongsan.com.vn/cho-thue-can-ho-chung-cu-mini-duong-nguyen-gia-tri-phuong-25/giam-25-toan-he-tng-cao-cap-binh-thanh-1pn-tu-6-5tr-full-noi-that-pr42645151: 're__icon-front-view'\n"
     ]
    },
    {
     "name": "stderr",
     "output_type": "stream",
     "text": [
      "Processing batches:  26%|██▌       | 302/1161 [39:11<1:08:19,  4.77s/it]"
     ]
    },
    {
     "name": "stdout",
     "output_type": "stream",
     "text": [
      "Using Chrome with user agent: Mozilla/5.0 (Windows NT 10.0; Win64; x64) AppleWebKit/537.36 (KHTML, like Gecko) Chrome/99.0.4844.84 Safari/537.36\n",
      "Error scraping url https://batdongsan.com.vn/cho-thue-can-ho-chung-cu-mini-duong-phan-van-tri-phuong-10-8-prj-cityland-park-hills/chdv-go-vap-cho-gia-tu-5trieu-full-noi-that-cao-cap-pr42406202: 're__icon-front-view'\n",
      "Error scraping url https://batdongsan.com.vn/cho-thue-can-ho-chung-cu-mini-duong-khuong-viet-phuong-phu-trung/-cao-cap-moi-xay-day-du-noi-that-sang-trong-ngay-cong-vien-dam-sen-nut-giao-lac-long-quan-pr42763044: 're__icon-clock'\n"
     ]
    },
    {
     "name": "stderr",
     "output_type": "stream",
     "text": [
      "Processing batches:  26%|██▌       | 303/1161 [39:15<1:07:04,  4.69s/it]"
     ]
    },
    {
     "name": "stdout",
     "output_type": "stream",
     "text": [
      "Using Chrome with user agent: Mozilla/5.0 (Windows NT 10.0; Win64; x64) AppleWebKit/537.36 (KHTML, like Gecko) Chrome/99.0.4844.84 Safari/537.36\n",
      "Using Chrome with user agent: Mozilla/5.0 (Windows NT 10.0; Win64; x64) AppleWebKit/537.36 (KHTML, like Gecko) Chrome/99.0.4844.84 Safari/537.36\n",
      "Using Chrome with user agent: Mozilla/5.0 (Windows NT 10.0; Win64; x64) AppleWebKit/537.36 (KHTML, like Gecko) Chrome/99.0.4844.84 Safari/537.36\n",
      "Error scraping url https://batdongsan.com.vn/cho-thue-can-ho-chung-cu-duong-mai-chi-tho-phuong-an-phu-prj-centana-thu-thiem/c-2-png-ngu-noi-that-co-ban-gia-12tr-thang-lh-pr42030323: 're__icon-front-view'\n"
     ]
    },
    {
     "name": "stderr",
     "output_type": "stream",
     "text": [
      "Processing batches:  26%|██▋       | 305/1161 [39:24<1:05:48,  4.61s/it]"
     ]
    },
    {
     "name": "stdout",
     "output_type": "stream",
     "text": [
      "Error scraping url https://batdongsan.com.vn/cho-thue-can-ho-chung-cu-duong-nguyen-luong-bang-1-phuong-phu-my-9-prj-q7-boulevard/75m2-3pn-full-noi-that-15-trieu-thang-q7-pr42763078: 're__icon-front-view'\n"
     ]
    },
    {
     "name": "stderr",
     "output_type": "stream",
     "text": [
      "Processing batches:  26%|██▋       | 306/1161 [39:26<56:17,  3.95s/it]  "
     ]
    },
    {
     "name": "stdout",
     "output_type": "stream",
     "text": [
      "Using Chrome with user agent: Mozilla/5.0 (Windows NT 10.0; Win64; x64) AppleWebKit/537.36 (KHTML, like Gecko) Chrome/100.0.4896.127 Safari/537.36\n",
      "Using Chrome with user agent: Mozilla/5.0 (Macintosh; Intel Mac OS X 10_15_7) AppleWebKit/537.36 (KHTML, like Gecko) Chrome/99.0.4844.84 Safari/537.36\n",
      "Error scraping url https://batdongsan.com.vn/cho-thue-can-ho-chung-cu-duong-3-2-2-phuong-12-5-prj-hado-centrosa-garden/len-them-ha-do-2-png-ngu-noi-that-dep-c-khach-tim-nha-trong-thang-4-pr42704820: 're__icon-front-view'\n"
     ]
    },
    {
     "name": "stderr",
     "output_type": "stream",
     "text": [
      "Processing batches:  26%|██▋       | 307/1161 [39:31<1:01:12,  4.30s/it]"
     ]
    },
    {
     "name": "stdout",
     "output_type": "stream",
     "text": [
      "Using Chrome with user agent: Mozilla/5.0 (Windows NT 10.0; Win64; x64) AppleWebKit/537.36 (KHTML, like Gecko) Chrome/99.0.4844.84 Safari/537.36\n"
     ]
    },
    {
     "name": "stderr",
     "output_type": "stream",
     "text": [
      "Processing batches:  27%|██▋       | 308/1161 [39:40<1:17:06,  5.42s/it]"
     ]
    },
    {
     "name": "stdout",
     "output_type": "stream",
     "text": [
      "Error scraping url https://batdongsan.com.vn/cho-thue-can-ho-chung-cu-mini-duong-so-5-cu-xa-do-thanh-phuong-4-12/c-1pn-ban-cong-full-noi-that-may-giat-rieng-ngay-bv-binh-dan-vong-xoay-dan-chu-pr42622025: 're__icon-clock'\n",
      "Error scraping url https://batdongsan.com.vn/cho-thue-can-ho-chung-cu-duong-no-trang-long-phuong-13-7-prj-chung-cu-cuu-long/cho-cc-10-trieu-82m2-2pn-2wc-tai-binh-thanh-pr42762850: 're__icon-clock'\n"
     ]
    },
    {
     "name": "stderr",
     "output_type": "stream",
     "text": [
      "Processing batches:  27%|██▋       | 309/1161 [39:40<57:13,  4.03s/it]  "
     ]
    },
    {
     "name": "stdout",
     "output_type": "stream",
     "text": [
      "Using Chrome with user agent: Mozilla/5.0 (Macintosh; Intel Mac OS X 10_15_7) AppleWebKit/537.36 (KHTML, like Gecko) Chrome/99.0.4844.84 Safari/537.36\n",
      "Using Chrome with user agent: Mozilla/5.0 (Windows NT 10.0; Win64; x64) AppleWebKit/537.36 (KHTML, like Gecko) Chrome/99.0.4844.84 Safari/537.36\n",
      "Error scraping url https://batdongsan.com.vn/cho-thue-can-ho-chung-cu-duong-ton-dat-tien-phuong-tan-phu-19-prj-green-valley/c-quan-7-128m2-3pn-goc-lau-cao-gia-25tr-call-0909740191-ha-pr37888184: 're__icon-front-view'\n"
     ]
    },
    {
     "name": "stderr",
     "output_type": "stream",
     "text": [
      "Processing batches:  27%|██▋       | 310/1161 [39:48<1:12:36,  5.12s/it]"
     ]
    },
    {
     "name": "stdout",
     "output_type": "stream",
     "text": [
      "Using Chrome with user agent: Mozilla/5.0 (Macintosh; Intel Mac OS X 10_15_7) AppleWebKit/537.36 (KHTML, like Gecko) Chrome/99.0.4844.84 Safari/537.36\n",
      "Error scraping url https://batdongsan.com.vn/cho-thue-nha-tro-phong-tro-duong-nguyen-van-luong-1-phuong-16-3/cho-sieu-dep-full-noi-that-ngay-lotte-giam-300k-khi-ky-hd-truoc-30-4-pr42762702: 're__icon-clock'\n"
     ]
    },
    {
     "name": "stderr",
     "output_type": "stream",
     "text": [
      "Processing batches:  27%|██▋       | 311/1161 [39:59<1:34:32,  6.67s/it]"
     ]
    },
    {
     "name": "stdout",
     "output_type": "stream",
     "text": [
      "Using Chrome with user agent: Mozilla/5.0 (Windows NT 10.0; Win64; x64) AppleWebKit/537.36 (KHTML, like Gecko) Chrome/99.0.4844.84 Safari/537.36\n"
     ]
    },
    {
     "name": "stderr",
     "output_type": "stream",
     "text": [
      "Processing batches:  27%|██▋       | 312/1161 [40:06<1:37:01,  6.86s/it]"
     ]
    },
    {
     "name": "stdout",
     "output_type": "stream",
     "text": [
      "Error scraping url https://batdongsan.com.vn/cho-thue-can-ho-chung-cu-mini-duong-ho-van-hue-phuong-9-12/k-a-t-diary-c-trung-tam-phu-nhuan-gan-san-bay-ke-quan-nhat-o-ngay-m-nay-pr42678645: 're__icon-clock'\n",
      "Using Chrome with user agent: Mozilla/5.0 (Macintosh; Intel Mac OS X 10_15_7) AppleWebKit/537.36 (KHTML, like Gecko) Chrome/99.0.4844.84 Safari/537.36\n",
      "Error scraping url https://batdongsan.com.vn/cho-thue-can-ho-chung-cu-duong-nguyen-sy-sach-phuong-15-8-prj-ruby-garden/-quan-tan-binh-90m2-2pn-2wc-ntcb-gia-10tr-th-lh-pr42742153: HTTPConnectionPool(host='localhost', port=54383): Read timed out. (read timeout=120)\n"
     ]
    },
    {
     "name": "stderr",
     "output_type": "stream",
     "text": [
      "Processing batches:  27%|██▋       | 313/1161 [40:13<1:36:17,  6.81s/it]"
     ]
    },
    {
     "name": "stdout",
     "output_type": "stream",
     "text": [
      "Error scraping url https://batdongsan.com.vn/cho-thue-can-ho-chung-cu-duong-vo-nguyen-giap-phuong-an-phu-prj-lumiere-riverside/-2pn-chi-24-trieu-cho-nhanh-sieu-hiem-view-song-chuyen-vao-o-ngay-pr41430242: 're__icon-private-house'\n"
     ]
    },
    {
     "name": "stderr",
     "output_type": "stream",
     "text": [
      "Processing batches:  27%|██▋       | 314/1161 [40:13<1:08:23,  4.85s/it]"
     ]
    },
    {
     "name": "stdout",
     "output_type": "stream",
     "text": [
      "Using Chrome with user agent: Mozilla/5.0 (Macintosh; Intel Mac OS X 10_15_7) AppleWebKit/537.36 (KHTML, like Gecko) Chrome/99.0.4844.84 Safari/537.36\n",
      "Using Chrome with user agent: Mozilla/5.0 (Windows NT 10.0; Win64; x64) AppleWebKit/537.36 (KHTML, like Gecko) Chrome/99.0.4844.84 Safari/537.36\n",
      "Error scraping url https://batdongsan.com.vn/cho-thue-can-ho-chung-cu-duong-vo-van-kiet-phuong-an-lac-6-prj-akari-city-nam-long/chot-don-ngay-11-trieu-co-nt-2pn-80m-tai-binh-tan-tphcm-pr42543619: 're__icon-front-view'\n"
     ]
    },
    {
     "name": "stderr",
     "output_type": "stream",
     "text": [
      "Processing batches:  27%|██▋       | 315/1161 [40:28<1:49:46,  7.79s/it]"
     ]
    },
    {
     "name": "stdout",
     "output_type": "stream",
     "text": [
      "Using Chrome with user agent: Mozilla/5.0 (Macintosh; Intel Mac OS X 10_15_7) AppleWebKit/537.36 (KHTML, like Gecko) Chrome/99.0.4844.84 Safari/537.36\n"
     ]
    },
    {
     "name": "stderr",
     "output_type": "stream",
     "text": [
      "Processing batches:  27%|██▋       | 316/1161 [40:47<2:39:23, 11.32s/it]"
     ]
    },
    {
     "name": "stdout",
     "output_type": "stream",
     "text": [
      "Using Chrome with user agent: Mozilla/5.0 (Macintosh; Intel Mac OS X 10_15_7) AppleWebKit/537.36 (KHTML, like Gecko) Chrome/99.0.4844.84 Safari/537.36\n",
      "Error scraping url https://batdongsan.com.vn/cho-thue-can-ho-chung-cu-duong-dai-lo-vong-cung-phuong-an-khanh-prj-the-galleria-residence/c-3pn-san-vuon-cuc-hiem-metropole-thu-thiem-pr42762065: 're__icon-clock'\n"
     ]
    },
    {
     "name": "stderr",
     "output_type": "stream",
     "text": [
      "Processing batches:  27%|██▋       | 317/1161 [40:53<2:18:10,  9.82s/it]"
     ]
    },
    {
     "name": "stdout",
     "output_type": "stream",
     "text": [
      "Using Chrome with user agent: Mozilla/5.0 (Macintosh; Intel Mac OS X 10_15_7) AppleWebKit/537.36 (KHTML, like Gecko) Chrome/99.0.4844.84 Safari/537.36\n",
      "Error scraping url https://batdongsan.com.vn/cho-thue-can-ho-chung-cu-mini-duong-tran-nao-phuong-an-khanh/cho-cc-1pn-1wc-35m2-gia-5-5-trieu-tai-khh-q2-hcm-pr42762019: 're__icon-clock'\n"
     ]
    },
    {
     "name": "stderr",
     "output_type": "stream",
     "text": [
      "Processing batches:  27%|██▋       | 318/1161 [40:58<1:54:13,  8.13s/it]"
     ]
    },
    {
     "name": "stdout",
     "output_type": "stream",
     "text": [
      "Using Chrome with user agent: Mozilla/5.0 (Windows NT 10.0; Win64; x64) AppleWebKit/537.36 (KHTML, like Gecko) Chrome/99.0.4844.84 Safari/537.36\n",
      "Error scraping url https://batdongsan.com.vn/cho-thue-can-ho-chung-cu-mini-duong-so-47-phuong-tan-quy/khai-truong-8-phong-moi-100-gia-4tr8-6tr2-47-lam-van-ben-nguyen-thi-thap-q7-pr42762134: 're__icon-front-view'\n"
     ]
    },
    {
     "name": "stderr",
     "output_type": "stream",
     "text": [
      "Processing batches:  27%|██▋       | 319/1161 [41:12<2:21:41, 10.10s/it]"
     ]
    },
    {
     "name": "stdout",
     "output_type": "stream",
     "text": [
      "Using Chrome with user agent: Mozilla/5.0 (Macintosh; Intel Mac OS X 10_15_7) AppleWebKit/537.36 (KHTML, like Gecko) Chrome/100.0.4896.127 Safari/537.36\n",
      "Error scraping url https://batdongsan.com.vn/cho-thue-can-ho-chung-cu-duong-xo-viet-nghe-tinh-phuong-21-prj-chung-cu-my-duc/cho-ch-1pn-gan-q1-10-5tr-th-nha-co-noi-that-lh-vp-tai-pr41496129: HTTPConnectionPool(host='localhost', port=56083): Read timed out. (read timeout=120)\n"
     ]
    },
    {
     "name": "stderr",
     "output_type": "stream",
     "text": [
      "Processing batches:  28%|██▊       | 320/1161 [41:20<2:10:15,  9.29s/it]"
     ]
    },
    {
     "name": "stdout",
     "output_type": "stream",
     "text": [
      "Using Chrome with user agent: Mozilla/5.0 (Macintosh; Intel Mac OS X 10_15_7) AppleWebKit/537.36 (KHTML, like Gecko) Chrome/100.0.4896.127 Safari/537.36\n",
      "Error scraping url https://batdongsan.com.vn/cho-thue-can-ho-chung-cu-mini-duong-khuong-viet-phuong-phu-trung/-full-noi-that-cao-cap-ngay-vong-xoay-le-dai-hanh-pr39712977: 're__icon-clock'\n"
     ]
    },
    {
     "name": "stderr",
     "output_type": "stream",
     "text": [
      "Processing batches:  28%|██▊       | 321/1161 [41:27<2:01:32,  8.68s/it]"
     ]
    },
    {
     "name": "stdout",
     "output_type": "stream",
     "text": [
      "Using Chrome with user agent: Mozilla/5.0 (Windows NT 10.0; Win64; x64) AppleWebKit/537.36 (KHTML, like Gecko) Chrome/100.0.4896.127 Safari/537.36\n",
      "Error scraping url https://batdongsan.com.vn/cho-thue-can-ho-chung-cu-duong-nguyen-van-qua-phuong-dong-hung-thuan-a-prj-thai-an-apartment/c-cc-tai-q12-dt-40m2-co-1pn-6-trieu-full-noi-that-pr42762317: 're__icon-clock'\n"
     ]
    },
    {
     "name": "stderr",
     "output_type": "stream",
     "text": [
      "Processing batches:  28%|██▊       | 322/1161 [41:50<3:00:18, 12.89s/it]"
     ]
    },
    {
     "name": "stdout",
     "output_type": "stream",
     "text": [
      "Using Chrome with user agent: Mozilla/5.0 (Windows NT 10.0; Win64; x64) AppleWebKit/537.36 (KHTML, like Gecko) Chrome/100.0.4896.127 Safari/537.36\n",
      "Error scraping url https://batdongsan.com.vn/cho-thue-can-ho-chung-cu-duong-song-hanh-phuong-phu-huu-2-prj-jamila-khang-dien/c-2pn-gia-sieu-i-10-5-trieu-76m2-tai-q9-hcm-pr41927586: 're__icon-electricity'\n"
     ]
    },
    {
     "name": "stderr",
     "output_type": "stream",
     "text": [
      "Processing batches:  28%|██▊       | 323/1161 [41:57<2:36:06, 11.18s/it]"
     ]
    },
    {
     "name": "stdout",
     "output_type": "stream",
     "text": [
      "Using Chrome with user agent: Mozilla/5.0 (Macintosh; Intel Mac OS X 10_15_7) AppleWebKit/537.36 (KHTML, like Gecko) Chrome/100.0.4896.127 Safari/537.36\n",
      "Error scraping url https://batdongsan.com.vn/cho-thue-can-ho-chung-cu-duong-nguyen-xien-phuong-long-binh-3-prj-glory-heights-vinhomes-grand-park/c-2pn-phan-khu-sat-vincom-du-an-vinmes-gia-chi-7-trieu-pr42176971: 're__icon-front-view'\n"
     ]
    },
    {
     "name": "stderr",
     "output_type": "stream",
     "text": [
      "Processing batches:  28%|██▊       | 324/1161 [42:07<2:32:10, 10.91s/it]"
     ]
    },
    {
     "name": "stdout",
     "output_type": "stream",
     "text": [
      "Using Chrome with user agent: Mozilla/5.0 (Macintosh; Intel Mac OS X 10_15_7) AppleWebKit/537.36 (KHTML, like Gecko) Chrome/99.0.4844.84 Safari/537.36\n",
      "Error scraping url https://batdongsan.com.vn/cho-thue-can-ho-chung-cu-duong-luy-ban-bich-phuong-hoa-thanh-prj-carillon-5/-carillon5-tp-73m2-2pn-2wc-cong-12tr-th-pr42762491: 're__icon-clock'\n"
     ]
    },
    {
     "name": "stderr",
     "output_type": "stream",
     "text": [
      "Processing batches:  28%|██▊       | 325/1161 [42:30<3:21:24, 14.46s/it]"
     ]
    },
    {
     "name": "stdout",
     "output_type": "stream",
     "text": [
      "Using Chrome with user agent: Mozilla/5.0 (Windows NT 10.0; Win64; x64) AppleWebKit/537.36 (KHTML, like Gecko) Chrome/100.0.4896.127 Safari/537.36\n",
      "Error scraping url https://batdongsan.com.vn/cho-thue-can-ho-chung-cu-duong-ben-van-don-phuong-12-prj-icon-56/cho-1pn-56-50m2-gia-chi-15trieu-day-du-noi-that-lh-em-nhu-xem-nha-pr42717600: 're__icon-electricity'\n"
     ]
    },
    {
     "name": "stderr",
     "output_type": "stream",
     "text": [
      "Processing batches:  28%|██▊       | 326/1161 [42:34<2:38:26, 11.39s/it]"
     ]
    },
    {
     "name": "stdout",
     "output_type": "stream",
     "text": [
      "Using Chrome with user agent: Mozilla/5.0 (Windows NT 10.0; Win64; x64) AppleWebKit/537.36 (KHTML, like Gecko) Chrome/99.0.4844.84 Safari/537.36\n",
      "Error scraping url https://batdongsan.com.vn/cho-thue-can-ho-chung-cu-mini-duong-ut-tich_1-phuong-4-20/c-35m2-1pn-gan-san-bay-tan-son-nhat-vong-xoay-lang-cha-ca-quan-tan-binh-pr42758353: 're__icon-clock'\n"
     ]
    },
    {
     "name": "stderr",
     "output_type": "stream",
     "text": [
      "Processing batches:  28%|██▊       | 327/1161 [42:42<2:22:54, 10.28s/it]"
     ]
    },
    {
     "name": "stdout",
     "output_type": "stream",
     "text": [
      "Error scraping url https://batdongsan.com.vn/cho-thue-can-ho-chung-cu-duong-vo-van-kiet-phuong-an-lac-6-prj-akari-city-nam-long/-ngay-re-nhat-du-gia-chi-8trieu-tai-77-binh-t-tphcm-pr42035422: 're__icon-front-view'\n"
     ]
    },
    {
     "name": "stderr",
     "output_type": "stream",
     "text": [
      "Processing batches:  28%|██▊       | 328/1161 [42:43<1:46:49,  7.69s/it]"
     ]
    },
    {
     "name": "stdout",
     "output_type": "stream",
     "text": [
      "Using Chrome with user agent: Mozilla/5.0 (Macintosh; Intel Mac OS X 10_15_7) AppleWebKit/537.36 (KHTML, like Gecko) Chrome/99.0.4844.84 Safari/537.36\n",
      "Using Chrome with user agent: Mozilla/5.0 (Windows NT 10.0; Win64; x64) AppleWebKit/537.36 (KHTML, like Gecko) Chrome/99.0.4844.84 Safari/537.36\n",
      "Error scraping url https://batdongsan.com.vn/cho-thue-can-ho-chung-cu-mini-duong-dinh-tien-hoang-phuong-da-kao/1pn-cho-giua-long-quan-1-chi-9-8-trieu-thang-pr42762172: 're__icon-electricity'\n"
     ]
    },
    {
     "name": "stderr",
     "output_type": "stream",
     "text": [
      "Processing batches:  28%|██▊       | 329/1161 [42:59<2:21:02, 10.17s/it]"
     ]
    },
    {
     "name": "stdout",
     "output_type": "stream",
     "text": [
      "Using Chrome with user agent: Mozilla/5.0 (Macintosh; Intel Mac OS X 10_15_7) AppleWebKit/537.36 (KHTML, like Gecko) Chrome/99.0.4844.84 Safari/537.36\n"
     ]
    },
    {
     "name": "stderr",
     "output_type": "stream",
     "text": [
      "Processing batches:  28%|██▊       | 330/1161 [43:19<3:01:16, 13.09s/it]"
     ]
    },
    {
     "name": "stdout",
     "output_type": "stream",
     "text": [
      "Using Chrome with user agent: Mozilla/5.0 (Windows NT 10.0; Win64; x64) AppleWebKit/537.36 (KHTML, like Gecko) Chrome/100.0.4896.127 Safari/537.36\n",
      "Error scraping url https://batdongsan.com.vn/cho-thue-can-ho-chung-cu-duong-pho-quang-phuong-9-12-prj-golden-mansion/cc-cho-tai-tai-phu-nhuan-68m2-2pn-2wc-15tr-3pn-86m2-17tr-pr42121677: 're__icon-front-view'\n"
     ]
    },
    {
     "name": "stderr",
     "output_type": "stream",
     "text": [
      "Processing batches:  29%|██▊       | 331/1161 [43:24<2:25:34, 10.52s/it]"
     ]
    },
    {
     "name": "stdout",
     "output_type": "stream",
     "text": [
      "Using Chrome with user agent: Mozilla/5.0 (Windows NT 10.0; Win64; x64) AppleWebKit/537.36 (KHTML, like Gecko) Chrome/100.0.4896.127 Safari/537.36\n",
      "Error scraping url https://batdongsan.com.vn/cho-thue-nha-tro-phong-tro-duong-quoc-lo-13-phuong-hiep-binh-phuoc/-moi-day-du-tivi-dieu-hoa-wifi-san-thoang-mat-bep-kho-camera-an-ninh-1-can-ho-doc-lap-pr42759672: 're__icon-front-view'\n"
     ]
    },
    {
     "name": "stderr",
     "output_type": "stream",
     "text": [
      "Processing batches:  29%|██▊       | 332/1161 [43:34<2:21:50, 10.27s/it]"
     ]
    },
    {
     "name": "stdout",
     "output_type": "stream",
     "text": [
      "Using Chrome with user agent: Mozilla/5.0 (Windows NT 10.0; Win64; x64) AppleWebKit/537.36 (KHTML, like Gecko) Chrome/99.0.4844.84 Safari/537.36\n",
      "Error scraping url https://batdongsan.com.vn/cho-thue-can-ho-chung-cu-duong-nguyen-huu-tho-xa-phuoc-kieng-prj-sunrise-riverside/-c-13-5-tr-thang-nha-moi-khu-boi-lon-cach-rmit-1-5-km-lh-pr40903762: 're__icon-document'\n"
     ]
    },
    {
     "name": "stderr",
     "output_type": "stream",
     "text": [
      "Processing batches:  29%|██▊       | 333/1161 [43:39<2:02:09,  8.85s/it]"
     ]
    },
    {
     "name": "stdout",
     "output_type": "stream",
     "text": [
      "Error scraping url https://batdongsan.com.vn/cho-thue-can-ho-chung-cu-duong-nguyen-van-linh-phuong-tan-phong-9-prj-happy-valley/cho-khu-quan-7-tp-hcm-gia-28-trieu-1-thang-pr42730784: 're__icon-front-view'\n"
     ]
    },
    {
     "name": "stderr",
     "output_type": "stream",
     "text": [
      "Processing batches:  29%|██▉       | 334/1161 [43:40<1:28:14,  6.40s/it]"
     ]
    },
    {
     "name": "stdout",
     "output_type": "stream",
     "text": [
      "Using Chrome with user agent: Mozilla/5.0 (Windows NT 10.0; Win64; x64) AppleWebKit/537.36 (KHTML, like Gecko) Chrome/100.0.4896.127 Safari/537.36\n",
      "Using Chrome with user agent: Mozilla/5.0 (Windows NT 10.0; Win64; x64) AppleWebKit/537.36 (KHTML, like Gecko) Chrome/100.0.4896.127 Safari/537.36\n",
      "Error scraping url https://batdongsan.com.vn/cho-thue-can-ho-chung-cu-duong-nguyen-duy-trinh-phuong-binh-trung-dong-prj-kris-vue/-krisvue-1pn-1pn-full-noi-that-co-the-don-vao-o-ngay-lh-pr42660175: 're__icon-private-house'\n",
      "Error scraping url https://batdongsan.com.vn/cho-thue-can-ho-chung-cu-duong-xa-lo-ha-noi-phuong-thao-dien-prj-masteri-thao-dien/minh-c-03-png-ngu-full-that-gia-22-000-000-d-tai-dien-pr41532850: 're__icon-document'\n"
     ]
    },
    {
     "name": "stderr",
     "output_type": "stream",
     "text": [
      "Processing batches:  29%|██▉       | 335/1161 [43:49<1:37:44,  7.10s/it]"
     ]
    },
    {
     "name": "stdout",
     "output_type": "stream",
     "text": [
      "Error scraping url https://batdongsan.com.vn/cho-thue-can-ho-chung-cu-duong-au-co-phuong-tan-son-nhi-prj-melody-residences/cho-gap-2pn-2wc-nhan-nha-o-ngay-11tr-thang-lh-0938990005-pr35085501: 're__icon-document'\n"
     ]
    },
    {
     "name": "stderr",
     "output_type": "stream",
     "text": [
      "Processing batches:  29%|██▉       | 337/1161 [43:50<55:56,  4.07s/it]  "
     ]
    },
    {
     "name": "stdout",
     "output_type": "stream",
     "text": [
      "Using Chrome with user agent: Mozilla/5.0 (Windows NT 10.0; Win64; x64) AppleWebKit/537.36 (KHTML, like Gecko) Chrome/100.0.4896.127 Safari/537.36\n",
      "Using Chrome with user agent: Mozilla/5.0 (Windows NT 10.0; Win64; x64) AppleWebKit/537.36 (KHTML, like Gecko) Chrome/99.0.4844.84 Safari/537.36\n",
      "Using Chrome with user agent: Mozilla/5.0 (Windows NT 10.0; Win64; x64) AppleWebKit/537.36 (KHTML, like Gecko) Chrome/99.0.4844.84 Safari/537.36\n",
      "Error scraping url https://batdongsan.com.vn/cho-thue-can-ho-chung-cu-duong-1-phuong-truong-tho-2-prj-lavita-charm/cho-cc-13-trieu-vnd-68m2-2pn-2wc-o-thu-duc-hcm-pr42761270: 're__icon-front-view'\n"
     ]
    },
    {
     "name": "stderr",
     "output_type": "stream",
     "text": [
      "Processing batches:  29%|██▉       | 338/1161 [43:59<1:14:02,  5.40s/it]"
     ]
    },
    {
     "name": "stdout",
     "output_type": "stream",
     "text": [
      "Using Chrome with user agent: Mozilla/5.0 (Macintosh; Intel Mac OS X 10_15_7) AppleWebKit/537.36 (KHTML, like Gecko) Chrome/99.0.4844.84 Safari/537.36\n",
      "Error scraping url https://batdongsan.com.vn/cho-thue-can-ho-chung-cu-pho-ta-quang-buu-phuong-7-6-prj-conic-riverside/-full-noi-that-6tr3-1pn-1wc-co-bancony-view-thoang-dep-sach-se-tien-di-chuyen-quan-7-pr40864022: 're__icon-clock'\n"
     ]
    },
    {
     "name": "stderr",
     "output_type": "stream",
     "text": [
      "Processing batches:  29%|██▉       | 339/1161 [44:08<1:28:14,  6.44s/it]"
     ]
    },
    {
     "name": "stdout",
     "output_type": "stream",
     "text": [
      "Error scraping url https://batdongsan.com.vn/cho-thue-can-ho-chung-cu-duong-vo-van-kiet-phuong-16-1-prj-diamond-riverside/cho-nha-73m2-2pn-2wc-noi-that-co-ban-gia-7-8tr-tuy-view-lh-0901-400-424-pr35757207: 're__icon-front-view'\n",
      "Error scraping url https://batdongsan.com.vn/cho-thue-nha-tro-phong-tro-duong-dat-thanh_1-phuong-6-15/chinh-chu-cho-gan-trung-tam-pr42761376: 're__icon-clock'\n"
     ]
    },
    {
     "name": "stderr",
     "output_type": "stream",
     "text": [
      "Processing batches:  29%|██▉       | 340/1161 [44:10<1:08:25,  5.00s/it]"
     ]
    },
    {
     "name": "stdout",
     "output_type": "stream",
     "text": [
      "Using Chrome with user agent: Mozilla/5.0 (Macintosh; Intel Mac OS X 10_15_7) AppleWebKit/537.36 (KHTML, like Gecko) Chrome/99.0.4844.84 Safari/537.36\n",
      "Using Chrome with user agent: Mozilla/5.0 (Macintosh; Intel Mac OS X 10_15_7) AppleWebKit/537.36 (KHTML, like Gecko) Chrome/99.0.4844.84 Safari/537.36\n",
      "Using Chrome with user agent: Mozilla/5.0 (Macintosh; Intel Mac OS X 10_15_7) AppleWebKit/537.36 (KHTML, like Gecko) Chrome/99.0.4844.84 Safari/537.36\n",
      "Error scraping url https://batdongsan.com.vn/cho-thue-can-ho-chung-cu-duong-an-duong-vuong-phuong-an-lac-6-prj-the-privia/cho-binh-t-2pn-2wc-gia-7-5tr-xem-nha-pr42705617: 're__icon-front-view'\n"
     ]
    },
    {
     "name": "stderr",
     "output_type": "stream",
     "text": [
      "Processing batches:  29%|██▉       | 342/1161 [44:20<1:09:27,  5.09s/it]"
     ]
    },
    {
     "name": "stdout",
     "output_type": "stream",
     "text": [
      "Using Chrome with user agent: Mozilla/5.0 (Macintosh; Intel Mac OS X 10_15_7) AppleWebKit/537.36 (KHTML, like Gecko) Chrome/100.0.4896.127 Safari/537.36\n"
     ]
    },
    {
     "name": "stderr",
     "output_type": "stream",
     "text": [
      "Processing batches:  30%|██▉       | 343/1161 [44:28<1:19:38,  5.84s/it]"
     ]
    },
    {
     "name": "stdout",
     "output_type": "stream",
     "text": [
      "Error scraping url https://batdongsan.com.vn/cho-thue-can-ho-chung-cu-mini-duong-so-64-phuong-thao-dien/c-dang-1pn-tach-bep-ban-cong-free-phi-quan-li-tai-quan-2-pr42301352: 're__icon-clock'\n",
      "Using Chrome with user agent: Mozilla/5.0 (Macintosh; Intel Mac OS X 10_15_7) AppleWebKit/537.36 (KHTML, like Gecko) Chrome/100.0.4896.127 Safari/537.36\n",
      "Error scraping url https://batdongsan.com.vn/cho-thue-nha-tro-phong-tro-duong-truong-son-phuong-15-3/-dep-mat-tien-q10-full-noi-that-ban-cong-cuc-mat-pr42761011: 're__icon-clock'\n"
     ]
    },
    {
     "name": "stderr",
     "output_type": "stream",
     "text": [
      "Processing batches:  30%|██▉       | 344/1161 [44:46<2:00:43,  8.87s/it]"
     ]
    },
    {
     "name": "stdout",
     "output_type": "stream",
     "text": [
      "Using Chrome with user agent: Mozilla/5.0 (Windows NT 10.0; Win64; x64) AppleWebKit/537.36 (KHTML, like Gecko) Chrome/99.0.4844.84 Safari/537.36\n",
      "Error scraping url https://batdongsan.com.vn/cho-thue-can-ho-chung-cu-duong-so-6-phuong-hiep-binh-phuoc-prj-urban-green/cho-goc-1-phong-ngu-51m2-pr42566552: 're__icon-private-house'\n"
     ]
    },
    {
     "name": "stderr",
     "output_type": "stream",
     "text": [
      "Processing batches:  30%|██▉       | 345/1161 [45:10<2:56:04, 12.95s/it]"
     ]
    },
    {
     "name": "stdout",
     "output_type": "stream",
     "text": [
      "Using Chrome with user agent: Mozilla/5.0 (Macintosh; Intel Mac OS X 10_15_7) AppleWebKit/537.36 (KHTML, like Gecko) Chrome/99.0.4844.84 Safari/537.36\n"
     ]
    },
    {
     "name": "stderr",
     "output_type": "stream",
     "text": [
      "Processing batches:  30%|██▉       | 346/1161 [45:18<2:36:57, 11.56s/it]"
     ]
    },
    {
     "name": "stdout",
     "output_type": "stream",
     "text": [
      "Error scraping url https://batdongsan.com.vn/cho-thue-can-ho-chung-cu-duong-ton-that-thuyet-phuong-1-prj-de-la-sol/cho-nha-dep-tai-delasol-gia-chi-23tr-thang-2pn-74m2-zalo-pr42761042: 're__icon-front-view'\n",
      "Using Chrome with user agent: Mozilla/5.0 (Windows NT 10.0; Win64; x64) AppleWebKit/537.36 (KHTML, like Gecko) Chrome/100.0.4896.127 Safari/537.36\n",
      "Error scraping url https://batdongsan.com.vn/cho-thue-nha-tro-phong-tro-duong-le-van-thinh-phuong-cat-lai/-co-gac-moi-xay-100-ngay-cho-cay-xoai-giong-ong-to-quan-2-co-thang-may-pr42428802: 're__icon-clock'\n"
     ]
    },
    {
     "name": "stderr",
     "output_type": "stream",
     "text": [
      "Processing batches:  30%|██▉       | 347/1161 [45:26<2:21:45, 10.45s/it]"
     ]
    },
    {
     "name": "stdout",
     "output_type": "stream",
     "text": [
      "Using Chrome with user agent: Mozilla/5.0 (Windows NT 10.0; Win64; x64) AppleWebKit/537.36 (KHTML, like Gecko) Chrome/99.0.4844.84 Safari/537.36\n",
      "Error scraping url https://batdongsan.com.vn/cho-thue-can-ho-chung-cu-phuong-long-thanh-my-prj-vinhomes-grand-park/c-cc-vinmes-8-5-trieu-46-5-m2-1pn-1wc-full-noi-that-pr42621705: 're__icon-private-house'\n"
     ]
    },
    {
     "name": "stderr",
     "output_type": "stream",
     "text": [
      "Processing batches:  30%|██▉       | 348/1161 [45:33<2:10:04,  9.60s/it]"
     ]
    },
    {
     "name": "stdout",
     "output_type": "stream",
     "text": [
      "Using Chrome with user agent: Mozilla/5.0 (Macintosh; Intel Mac OS X 10_15_7) AppleWebKit/537.36 (KHTML, like Gecko) Chrome/99.0.4844.84 Safari/537.36\n",
      "Error scraping url https://batdongsan.com.vn/cho-thue-can-ho-chung-cu-phuong-long-binh-3-prj-lumiere-boulevard/hot-cho-2pn-full-noi-that-cao-cap-blouward-gia-10tr-thang-pr42722425: 're__icon-front-view'\n"
     ]
    },
    {
     "name": "stderr",
     "output_type": "stream",
     "text": [
      "Processing batches:  30%|███       | 349/1161 [45:39<1:55:44,  8.55s/it]"
     ]
    },
    {
     "name": "stdout",
     "output_type": "stream",
     "text": [
      "Using Chrome with user agent: Mozilla/5.0 (Windows NT 10.0; Win64; x64) AppleWebKit/537.36 (KHTML, like Gecko) Chrome/99.0.4844.84 Safari/537.36\n",
      "Error scraping url https://batdongsan.com.vn/cho-thue-can-ho-chung-cu-mini-duong-7-phuong-linh-trung/phong-dep-full-noi-that-don-vao-o-ngay-pr42760656: 're__icon-clock'\n"
     ]
    },
    {
     "name": "stderr",
     "output_type": "stream",
     "text": [
      "Processing batches:  30%|███       | 350/1161 [45:44<1:38:52,  7.32s/it]"
     ]
    },
    {
     "name": "stdout",
     "output_type": "stream",
     "text": [
      "Using Chrome with user agent: Mozilla/5.0 (Windows NT 10.0; Win64; x64) AppleWebKit/537.36 (KHTML, like Gecko) Chrome/100.0.4896.127 Safari/537.36\n",
      "Error scraping url https://batdongsan.com.vn/cho-thue-can-ho-chung-cu-mini-duong-7-phuong-linh-trung/phong-trong-cuc-xin-vao-o-ngay-pr42760196: 're__icon-clock'\n"
     ]
    },
    {
     "name": "stderr",
     "output_type": "stream",
     "text": [
      "Processing batches:  30%|███       | 352/1161 [45:53<1:15:39,  5.61s/it]"
     ]
    },
    {
     "name": "stdout",
     "output_type": "stream",
     "text": [
      "Error scraping url https://batdongsan.com.vn/cho-thue-can-ho-chung-cu-duong-vo-van-kiet-phuong-an-lac-6-prj-akari-city-nam-long/c-2pn-2-ban-cong-9-trieu-vnd-80m2-bao-phi-quan-ly2-nha-moi-100-pr41714713: 're__icon-front-view'\n",
      "Using Chrome with user agent: Mozilla/5.0 (Macintosh; Intel Mac OS X 10_15_7) AppleWebKit/537.36 (KHTML, like Gecko) Chrome/99.0.4844.84 Safari/537.36\n",
      "Using Chrome with user agent: Mozilla/5.0 (Windows NT 10.0; Win64; x64) AppleWebKit/537.36 (KHTML, like Gecko) Chrome/100.0.4896.127 Safari/537.36\n",
      "Error scraping url https://batdongsan.com.vn/cho-thue-can-ho-chung-cu-duong-dong-van-cong-phuong-thanh-my-loi-prj-feliz-en-vista/chinh-chu-cho-sky-villa-ti-nghi-y-hinh-35-trieu-thang-pr37383301: 're__icon-front-view'\n"
     ]
    },
    {
     "name": "stderr",
     "output_type": "stream",
     "text": [
      "Processing batches:  30%|███       | 353/1161 [46:00<1:21:51,  6.08s/it]"
     ]
    },
    {
     "name": "stdout",
     "output_type": "stream",
     "text": [
      "Error scraping url https://batdongsan.com.vn/cho-thue-can-ho-chung-cu-mini-duong-dien-bien-phu-phuong-22/cho-1pn-1wc-dep-xuat-sac-tai-binh-thanh-11-trieu-vnd-55m2-pr42329358: 're__icon-clock'\n"
     ]
    },
    {
     "name": "stderr",
     "output_type": "stream",
     "text": [
      "Processing batches:  30%|███       | 354/1161 [46:02<1:05:32,  4.87s/it]"
     ]
    },
    {
     "name": "stdout",
     "output_type": "stream",
     "text": [
      "Using Chrome with user agent: Mozilla/5.0 (Macintosh; Intel Mac OS X 10_15_7) AppleWebKit/537.36 (KHTML, like Gecko) Chrome/100.0.4896.127 Safari/537.36\n",
      "Using Chrome with user agent: Mozilla/5.0 (Windows NT 10.0; Win64; x64) AppleWebKit/537.36 (KHTML, like Gecko) Chrome/99.0.4844.84 Safari/537.36\n",
      "Error scraping url https://batdongsan.com.vn/cho-thue-can-ho-chung-cu-duong-nguyen-thi-dinh-phuong-an-phu-prj-can-ho-precia-quan-2/333-dac-biet-gia-tot-1pn-9tr-co-noi-that-10-5tr-2pn-full-nt-11-12tr-3pn-12tr-co-nt-13-14tr-pr39212054: 're__icon-front-view'\n"
     ]
    },
    {
     "name": "stderr",
     "output_type": "stream",
     "text": [
      "Processing batches:  31%|███       | 355/1161 [46:08<1:09:24,  5.17s/it]"
     ]
    },
    {
     "name": "stdout",
     "output_type": "stream",
     "text": [
      "Error scraping url https://batdongsan.com.vn/cho-thue-can-ho-chung-cu-duong-hoang-quoc-viet-phuong-phu-thuan-3-prj-river-panorama/chinh-chu-cho-quan-7-2pn-1wc-day-du-noi-that-view-song-gia-chi-12-trieu-pr42740293: 're__icon-front-view'\n"
     ]
    },
    {
     "name": "stderr",
     "output_type": "stream",
     "text": [
      "Processing batches:  31%|███       | 356/1161 [46:10<58:13,  4.34s/it]  "
     ]
    },
    {
     "name": "stdout",
     "output_type": "stream",
     "text": [
      "Error scraping url https://batdongsan.com.vn/cho-thue-can-ho-chung-cu-duong-ben-van-don-phuong-12-prj-saigon-royal-residence/re-nhat-cho-officetel-35m2-tang-cao-view-thoang-chi-11-5tr-thang-lh-pr41171372: 're__icon-front-view'\n"
     ]
    },
    {
     "name": "stderr",
     "output_type": "stream",
     "text": [
      "Processing batches:  31%|███       | 357/1161 [46:12<46:06,  3.44s/it]"
     ]
    },
    {
     "name": "stdout",
     "output_type": "stream",
     "text": [
      "Using Chrome with user agent: Mozilla/5.0 (Windows NT 10.0; Win64; x64) AppleWebKit/537.36 (KHTML, like Gecko) Chrome/100.0.4896.127 Safari/537.36\n",
      "Using Chrome with user agent: Mozilla/5.0 (Windows NT 10.0; Win64; x64) AppleWebKit/537.36 (KHTML, like Gecko) Chrome/100.0.4896.127 Safari/537.36\n",
      "Using Chrome with user agent: Mozilla/5.0 (Windows NT 10.0; Win64; x64) AppleWebKit/537.36 (KHTML, like Gecko) Chrome/100.0.4896.127 Safari/537.36\n",
      "Error scraping url https://batdongsan.com.vn/cho-thue-can-ho-chung-cu-mini-duong-pham-van-hai-phuong-1-23/-2pn-ban-cong-tach-bep-ngay-trung-tam-thanh-p-pr42693388: 're__icon-clock'\n"
     ]
    },
    {
     "name": "stderr",
     "output_type": "stream",
     "text": [
      "Processing batches:  31%|███       | 358/1161 [46:19<1:02:13,  4.65s/it]"
     ]
    },
    {
     "name": "stdout",
     "output_type": "stream",
     "text": [
      "Error scraping url https://batdongsan.com.vn/cho-thue-can-ho-chung-cu-duong-ly-chieu-hoang-phuong-10-4-prj-the-western-capital/cho-65m2-2pn-2wc-co-rem-nha-moi-100-block-b1-gia-9tr-ngay-15-04-co-don-vao-duoc-pr42437971: 're__icon-clock'\n"
     ]
    },
    {
     "name": "stderr",
     "output_type": "stream",
     "text": [
      "Processing batches:  31%|███       | 359/1161 [46:20<47:00,  3.52s/it]  "
     ]
    },
    {
     "name": "stdout",
     "output_type": "stream",
     "text": [
      "Error scraping url https://batdongsan.com.vn/cho-thue-can-ho-chung-cu-duong-nguyen-luong-bang-1-phuong-tan-phu-19-prj-the-antonia/c-cao-cap-2pn-moi-100-gia-tot-nhat-lh-pr42738393: 're__icon-clock'\n"
     ]
    },
    {
     "name": "stderr",
     "output_type": "stream",
     "text": [
      "Processing batches:  31%|███       | 360/1161 [46:21<36:52,  2.76s/it]"
     ]
    },
    {
     "name": "stdout",
     "output_type": "stream",
     "text": [
      "Using Chrome with user agent: Mozilla/5.0 (Macintosh; Intel Mac OS X 10_15_7) AppleWebKit/537.36 (KHTML, like Gecko) Chrome/100.0.4896.127 Safari/537.36\n",
      "Using Chrome with user agent: Mozilla/5.0 (Macintosh; Intel Mac OS X 10_15_7) AppleWebKit/537.36 (KHTML, like Gecko) Chrome/100.0.4896.127 Safari/537.36\n",
      "Using Chrome with user agent: Mozilla/5.0 (Macintosh; Intel Mac OS X 10_15_7) AppleWebKit/537.36 (KHTML, like Gecko) Chrome/100.0.4896.127 Safari/537.36\n"
     ]
    },
    {
     "name": "stderr",
     "output_type": "stream",
     "text": [
      "Processing batches:  31%|███       | 361/1161 [46:28<53:40,  4.03s/it]"
     ]
    },
    {
     "name": "stdout",
     "output_type": "stream",
     "text": [
      "Error scraping url https://batdongsan.com.vn/cho-thue-can-ho-chung-cu-duong-an-duong-vuong-phuong-an-lac-6-prj-the-privia/-cho-2-pn-gia-9trieu-thang-lh-xem-nha-pr42397922: 're__icon-front-view'\n",
      "Error scraping url https://batdongsan.com.vn/cho-thue-can-ho-chung-cu-duong-to-hien-thanh-phuong-14-5-prj-kingdom-101/c-cao-cap-101-q-10-78m2-2pn-2wc-full-noi-that-19tr-tl-pr42729318: 're__icon-electricity'\n",
      "Using Chrome with user agent: Mozilla/5.0 (Windows NT 10.0; Win64; x64) AppleWebKit/537.36 (KHTML, like Gecko) Chrome/100.0.4896.127 Safari/537.36\n"
     ]
    },
    {
     "name": "stderr",
     "output_type": "stream",
     "text": [
      "Processing batches:  31%|███       | 362/1161 [46:33<56:12,  4.22s/it]"
     ]
    },
    {
     "name": "stdout",
     "output_type": "stream",
     "text": [
      "Error scraping url https://batdongsan.com.vn/cho-thue-nha-tro-phong-tro-duong-thanh-xuan-43-phuong-thanh-xuan/-may-lanh-wc-rieng-ban-cong-rieng-noi-that-2tr-pr42321682: 're__icon-front-view'\n"
     ]
    },
    {
     "name": "stderr",
     "output_type": "stream",
     "text": [
      "Processing batches:  31%|███▏      | 363/1161 [46:33<40:14,  3.03s/it]"
     ]
    },
    {
     "name": "stdout",
     "output_type": "stream",
     "text": [
      "Using Chrome with user agent: Mozilla/5.0 (Macintosh; Intel Mac OS X 10_15_7) AppleWebKit/537.36 (KHTML, like Gecko) Chrome/99.0.4844.84 Safari/537.36\n",
      "Using Chrome with user agent: Mozilla/5.0 (Windows NT 10.0; Win64; x64) AppleWebKit/537.36 (KHTML, like Gecko) Chrome/100.0.4896.127 Safari/537.36\n",
      "Error scraping url https://batdongsan.com.vn/cho-thue-can-ho-chung-cu-mini-duong-cach-mang-thang-tam-phuong-10-3/cho-cc-dep-xuat-sac-tai-quan-3-5-5-trieu-25m2-pr42744460: 're__icon-clock'\n"
     ]
    },
    {
     "name": "stderr",
     "output_type": "stream",
     "text": [
      "Processing batches:  31%|███▏      | 364/1161 [46:46<1:19:37,  5.99s/it]"
     ]
    },
    {
     "name": "stdout",
     "output_type": "stream",
     "text": [
      "Error scraping url https://batdongsan.com.vn/cho-thue-can-ho-chung-cu-pho-ly-thuong-kiet-phuong-14-5-prj-xi-grand-court/c-gia-c-tot-75-m2-2pn-2wc-gia-tot-16trieu-thang-pr38777110: 're__icon-document'\n"
     ]
    },
    {
     "name": "stderr",
     "output_type": "stream",
     "text": [
      "Processing batches:  31%|███▏      | 365/1161 [46:49<1:07:41,  5.10s/it]"
     ]
    },
    {
     "name": "stdout",
     "output_type": "stream",
     "text": [
      "Using Chrome with user agent: Mozilla/5.0 (Windows NT 10.0; Win64; x64) AppleWebKit/537.36 (KHTML, like Gecko) Chrome/99.0.4844.84 Safari/537.36\n",
      "Using Chrome with user agent: Mozilla/5.0 (Macintosh; Intel Mac OS X 10_15_7) AppleWebKit/537.36 (KHTML, like Gecko) Chrome/99.0.4844.84 Safari/537.36\n",
      "Error scraping url https://batdongsan.com.vn/cho-thue-can-ho-chung-cu-pho-tran-dai-nghia-phuong-tan-tao-a-prj-vision-binh-tan/chi-voi-6-5tr-th-co-ngay-ch-1pn1wc-fullnt-50m2-tai-quan-lh-ms-quyen-pr42220415: 're__icon-clock'\n"
     ]
    },
    {
     "name": "stderr",
     "output_type": "stream",
     "text": [
      "Processing batches:  32%|███▏      | 366/1161 [46:58<1:23:49,  6.33s/it]"
     ]
    },
    {
     "name": "stdout",
     "output_type": "stream",
     "text": [
      "Error scraping url https://batdongsan.com.vn/cho-thue-can-ho-chung-cu-duong-hoang-quoc-viet-phuong-phu-thuan-3-prj-an-gia-skyline/chinh-chu-cho-an-quan-7-72m2-2pn-2wc-full-noi-that-chi-12-trieu-thang-pr42761097: 're__icon-front-view'\n",
      "Using Chrome with user agent: Mozilla/5.0 (Macintosh; Intel Mac OS X 10_15_7) AppleWebKit/537.36 (KHTML, like Gecko) Chrome/100.0.4896.127 Safari/537.36\n"
     ]
    },
    {
     "name": "stderr",
     "output_type": "stream",
     "text": [
      "Processing batches:  32%|███▏      | 367/1161 [47:03<1:18:40,  5.94s/it]"
     ]
    },
    {
     "name": "stdout",
     "output_type": "stream",
     "text": [
      "Using Chrome with user agent: Mozilla/5.0 (Macintosh; Intel Mac OS X 10_15_7) AppleWebKit/537.36 (KHTML, like Gecko) Chrome/100.0.4896.127 Safari/537.36\n",
      "Error scraping url https://batdongsan.com.vn/cho-thue-can-ho-chung-cu-duong-hoang-minh-giam-phuong-9-12-prj-garden-gate/c-34m2-gia-12-trieu-thang-bao-phi-quan-ly-tuan-pr42759710: 're__icon-front-view'\n"
     ]
    },
    {
     "name": "stderr",
     "output_type": "stream",
     "text": [
      "Processing batches:  32%|███▏      | 368/1161 [47:09<1:17:26,  5.86s/it]"
     ]
    },
    {
     "name": "stdout",
     "output_type": "stream",
     "text": [
      "Using Chrome with user agent: Mozilla/5.0 (Windows NT 10.0; Win64; x64) AppleWebKit/537.36 (KHTML, like Gecko) Chrome/100.0.4896.127 Safari/537.36\n",
      "Error scraping url https://batdongsan.com.vn/cho-thue-can-ho-chung-cu-pho-ta-quang-buu-phuong-5-11-prj-samland-giai-viet/-c-80m2-2pn-2wc-gia-11-tr-th-full-nt-pr42759810: 're__icon-electricity'\n"
     ]
    },
    {
     "name": "stderr",
     "output_type": "stream",
     "text": [
      "Processing batches:  32%|███▏      | 370/1161 [47:18<1:06:39,  5.06s/it]"
     ]
    },
    {
     "name": "stdout",
     "output_type": "stream",
     "text": [
      "Error scraping url https://batdongsan.com.vn/cho-thue-can-ho-chung-cu-duong-vanh-dai-3-phuong-long-truong-prj-chung-cu-mt-eastmark-city/c-2pn-2wc-co-tang-cao-bep-may-hut-mui-nuoc-nong-may-lanh-chi-8-5-trieu-pr41595727: 're__icon-front-view'\n",
      "Using Chrome with user agent: Mozilla/5.0 (Macintosh; Intel Mac OS X 10_15_7) AppleWebKit/537.36 (KHTML, like Gecko) Chrome/99.0.4844.84 Safari/537.36\n"
     ]
    },
    {
     "name": "stderr",
     "output_type": "stream",
     "text": [
      "Processing batches:  32%|███▏      | 371/1161 [47:23<1:07:26,  5.12s/it]"
     ]
    },
    {
     "name": "stdout",
     "output_type": "stream",
     "text": [
      "Error scraping url https://batdongsan.com.vn/cho-thue-can-ho-chung-cu-duong-le-thi-cho-phuong-phu-thuan-3-prj-la-casa/c-bao-dep-tai-3-pn-13-5-trieu-105-m2-pr41458900: 're__icon-front-view'\n",
      "Using Chrome with user agent: Mozilla/5.0 (Windows NT 10.0; Win64; x64) AppleWebKit/537.36 (KHTML, like Gecko) Chrome/99.0.4844.84 Safari/537.36\n"
     ]
    },
    {
     "name": "stderr",
     "output_type": "stream",
     "text": [
      "Processing batches:  32%|███▏      | 372/1161 [47:28<1:04:51,  4.93s/it]"
     ]
    },
    {
     "name": "stdout",
     "output_type": "stream",
     "text": [
      "Using Chrome with user agent: Mozilla/5.0 (Macintosh; Intel Mac OS X 10_15_7) AppleWebKit/537.36 (KHTML, like Gecko) Chrome/100.0.4896.127 Safari/537.36\n",
      "Using Chrome with user agent: Mozilla/5.0 (Macintosh; Intel Mac OS X 10_15_7) AppleWebKit/537.36 (KHTML, like Gecko) Chrome/100.0.4896.127 Safari/537.36\n",
      "Error scraping url https://batdongsan.com.vn/cho-thue-can-ho-chung-cu-duong-nguyen-huu-canh-phuong-22-prj-saigon-pearl/hai-yen-c-3-png-ngu-view-song-noi-that-dep-pr41511508: 're__icon-front-view'\n"
     ]
    },
    {
     "name": "stderr",
     "output_type": "stream",
     "text": [
      "Processing batches:  32%|███▏      | 373/1161 [47:34<1:10:41,  5.38s/it]"
     ]
    },
    {
     "name": "stdout",
     "output_type": "stream",
     "text": [
      "Error scraping url https://batdongsan.com.vn/cho-thue-can-ho-chung-cu-duong-nguyen-dinh-chieu-phuong-da-kao-prj-the-marq/c-quan-1-2pn-2wc-72-m2-40-trieu-thang-hang-hiem-uy-tin-pr42759454: 're__icon-private-house'\n"
     ]
    },
    {
     "name": "stderr",
     "output_type": "stream",
     "text": [
      "Processing batches:  32%|███▏      | 374/1161 [47:35<52:01,  3.97s/it]  "
     ]
    },
    {
     "name": "stdout",
     "output_type": "stream",
     "text": [
      "Using Chrome with user agent: Mozilla/5.0 (Macintosh; Intel Mac OS X 10_15_7) AppleWebKit/537.36 (KHTML, like Gecko) Chrome/99.0.4844.84 Safari/537.36\n",
      "Using Chrome with user agent: Mozilla/5.0 (Windows NT 10.0; Win64; x64) AppleWebKit/537.36 (KHTML, like Gecko) Chrome/100.0.4896.127 Safari/537.36\n"
     ]
    },
    {
     "name": "stderr",
     "output_type": "stream",
     "text": [
      "Processing batches:  32%|███▏      | 375/1161 [47:44<1:13:49,  5.64s/it]"
     ]
    },
    {
     "name": "stdout",
     "output_type": "stream",
     "text": [
      "Error scraping url https://batdongsan.com.vn/cho-thue-can-ho-chung-cu-mini-duong-nguyen-ngoc-phuong_1-phuong-19/khai-truong-studio-cua-so-28m2-6-trieu-o-binh-thanh-hcm-pr42759129: 're__icon-clock'\n",
      "Error scraping url https://batdongsan.com.vn/cho-thue-can-ho-chung-cu-phuong-long-thanh-my-prj-vinhomes-grand-park/-chinh-chu-c-2pn-vinmes-s3-02-full-noi-that-view-dep-gia-tot-pr42657799: 're__icon-clock'\n",
      "Using Chrome with user agent: Mozilla/5.0 (Macintosh; Intel Mac OS X 10_15_7) AppleWebKit/537.36 (KHTML, like Gecko) Chrome/99.0.4844.84 Safari/537.36\n",
      "Using Chrome with user agent: Mozilla/5.0 (Windows NT 10.0; Win64; x64) AppleWebKit/537.36 (KHTML, like Gecko) Chrome/99.0.4844.84 Safari/537.36\n"
     ]
    },
    {
     "name": "stderr",
     "output_type": "stream",
     "text": [
      "Processing batches:  32%|███▏      | 377/1161 [48:01<1:31:04,  6.97s/it]"
     ]
    },
    {
     "name": "stdout",
     "output_type": "stream",
     "text": [
      "Using Chrome with user agent: Mozilla/5.0 (Windows NT 10.0; Win64; x64) AppleWebKit/537.36 (KHTML, like Gecko) Chrome/100.0.4896.127 Safari/537.36\n",
      "Error scraping url https://batdongsan.com.vn/cho-thue-can-ho-chung-cu-mini-duong-hoang-hoa-tham-phuong-5-14/khai-truong-cc-1pn-1wc-12-trieu-48m2-tai-binh-thanh-hcm-pr42468727: 're__icon-clock'\n"
     ]
    },
    {
     "name": "stderr",
     "output_type": "stream",
     "text": [
      "Processing batches:  33%|███▎      | 378/1161 [48:12<1:43:14,  7.91s/it]"
     ]
    },
    {
     "name": "stdout",
     "output_type": "stream",
     "text": [
      "Using Chrome with user agent: Mozilla/5.0 (Windows NT 10.0; Win64; x64) AppleWebKit/537.36 (KHTML, like Gecko) Chrome/99.0.4844.84 Safari/537.36\n",
      "Error scraping url https://batdongsan.com.vn/cho-thue-nha-tro-phong-tro-duong-nguyen-ngoc-loc-phuong-14-5/cho-tien-nghi-p14-q10-pr42108906: 're__icon-clock'\n"
     ]
    },
    {
     "name": "stderr",
     "output_type": "stream",
     "text": [
      "Processing batches:  33%|███▎      | 379/1161 [49:12<4:40:46, 21.54s/it]"
     ]
    },
    {
     "name": "stdout",
     "output_type": "stream",
     "text": [
      "Error scraping url https://batdongsan.com.vn/cho-thue-can-ho-chung-cu-mini-duong-phan-huy-thuc-phuong-tan-kieng/-moi-full-noi-that-cua-so-ban-cong-tanh-mat-trung-tam-q7-gan-lotte-mart-tdtu-q1-4-8-pr42758038: 're__icon-clock'\n"
     ]
    },
    {
     "name": "stderr",
     "output_type": "stream",
     "text": [
      "Processing batches:  33%|███▎      | 380/1161 [49:13<3:27:32, 15.94s/it]"
     ]
    },
    {
     "name": "stdout",
     "output_type": "stream",
     "text": [
      "Using Chrome with user agent: Mozilla/5.0 (Macintosh; Intel Mac OS X 10_15_7) AppleWebKit/537.36 (KHTML, like Gecko) Chrome/100.0.4896.127 Safari/537.36\n",
      "Using Chrome with user agent: Mozilla/5.0 (Macintosh; Intel Mac OS X 10_15_7) AppleWebKit/537.36 (KHTML, like Gecko) Chrome/99.0.4844.84 Safari/537.36\n",
      "Error scraping url https://batdongsan.com.vn/cho-thue-can-ho-chung-cu-duong-hau-giang-phuong-11-3-prj-an-phu-apartment/c-q-6-2pn-lo-a-pr42032594: HTTPConnectionPool(host='localhost', port=65153): Read timed out. (read timeout=120)\n"
     ]
    },
    {
     "name": "stderr",
     "output_type": "stream",
     "text": [
      "Processing batches:  33%|███▎      | 382/1161 [49:25<2:17:32, 10.59s/it]"
     ]
    },
    {
     "name": "stdout",
     "output_type": "stream",
     "text": [
      "Error scraping url https://batdongsan.com.vn/cho-thue-can-ho-chung-cu-duong-nguyen-huu-tho-xa-phuoc-kieng-prj-celesta-rise/le-tay-3pn-full-nt-moi-100-chi-17-5-trieu-thang-pr42691651: 're__icon-front-view'\n",
      "First method failed: [Errno 2] No such file or directory: '/Users/macbook/Library/Application Support/undetected_chromedriver/undetected/chromedriver-mac-x64/chromedriver' -> '/Users/macbook/Library/Application Support/undetected_chromedriver/undetected_chromedriver'\n",
      "Using Chrome driver at: /Users/macbook/.wdm/drivers/chromedriver/mac64/135.0.7049.95/chromedriver-mac-arm64/chromedriver\n"
     ]
    },
    {
     "name": "stderr",
     "output_type": "stream",
     "text": [
      "could not detect version_main.therefore, we are assuming it is chrome 108 or higher\n"
     ]
    },
    {
     "name": "stdout",
     "output_type": "stream",
     "text": [
      "Error scraping url https://batdongsan.com.vn/cho-thue-can-ho-chung-cu-pho-luong-dinh-cua-phuong-an-khanh-prj-de-capella/c-3pn-full-noi-that-gia-18-trieu-nha-moi-dep-goc-nhan-nha-o-ngay-pr42397245: 're__icon-clock'\n"
     ]
    },
    {
     "name": "stderr",
     "output_type": "stream",
     "text": [
      "Processing batches:  33%|███▎      | 383/1161 [49:44<2:50:24, 13.14s/it]"
     ]
    },
    {
     "name": "stdout",
     "output_type": "stream",
     "text": [
      "Using Chrome with user agent: Mozilla/5.0 (Macintosh; Intel Mac OS X 10_15_7) AppleWebKit/537.36 (KHTML, like Gecko) Chrome/99.0.4844.84 Safari/537.36\n",
      "Error scraping url https://batdongsan.com.vn/cho-thue-can-ho-chung-cu-pho-ly-thuong-kiet-phuong-14-5-prj-xi-grand-court/c-quan-10-87m2-3pn-nha-dep-tang-dang-view-dep-gia-18-tieu-pr42740984: 're__icon-front-view'\n"
     ]
    },
    {
     "name": "stderr",
     "output_type": "stream",
     "text": [
      "Processing batches:  33%|███▎      | 384/1161 [49:53<2:35:22, 12.00s/it]"
     ]
    },
    {
     "name": "stdout",
     "output_type": "stream",
     "text": [
      "Using Chrome with user agent: Mozilla/5.0 (Macintosh; Intel Mac OS X 10_15_7) AppleWebKit/537.36 (KHTML, like Gecko) Chrome/100.0.4896.127 Safari/537.36\n",
      "First method failed: Message: Can not connect to the Service /Users/macbook/Library/Application Support/undetected_chromedriver/undetected_chromedriver\n",
      "\n",
      "Using Chrome driver at: /Users/macbook/.wdm/drivers/chromedriver/mac64/135.0.7049.95/chromedriver-mac-arm64/chromedriver\n",
      "Second method failed: you cannot reuse the ChromeOptions object\n",
      "Second method failed: Message: Can not connect to the Service /Users/macbook/.wdm/drivers/chromedriver/mac64/135.0.7049.95/chromedriver-mac-arm64/chromedriver\n",
      "\n"
     ]
    },
    {
     "name": "stderr",
     "output_type": "stream",
     "text": [
      "Processing batches:  33%|███▎      | 385/1161 [50:00<2:15:47, 10.50s/it]"
     ]
    },
    {
     "name": "stdout",
     "output_type": "stream",
     "text": [
      "Error scraping url https://batdongsan.com.vn/cho-thue-can-ho-chung-cu-duong-mai-chi-tho-phuong-an-phu-prj-the-sun-avenue/cho-gia-7-16tr-th-cho-dien-tich-36-96m2-full-noi-that-lh-0939833633-pr31211739: 're__icon-private-house'\n",
      "Using Chrome with user agent: Mozilla/5.0 (Windows NT 10.0; Win64; x64) AppleWebKit/537.36 (KHTML, like Gecko) Chrome/99.0.4844.84 Safari/537.36\n"
     ]
    },
    {
     "name": "stderr",
     "output_type": "stream",
     "text": [
      "Processing batches:  33%|███▎      | 386/1161 [50:32<3:39:09, 16.97s/it]"
     ]
    },
    {
     "name": "stdout",
     "output_type": "stream",
     "text": [
      "All Chrome initialization methods failed: Message: Can not connect to the Service /Users/macbook/.wdm/drivers/chromedriver/mac64/135.0.7049.95/chromedriver-mac-arm64/chromedriver\n",
      "\n",
      "Error processing batch ['https://batdongsan.com.vn/cho-thue-nha-tro-phong-tro-duong-le-van-quoi-phuong-binh-tri-dong-a/tim-ban-o-ghep-don-20m2-q-tan-pr42756352']: cannot access local variable 'url' where it is not associated with a value\n",
      "All Chrome initialization methods failed: Message: Can not connect to the Service /Users/macbook/.wdm/drivers/chromedriver/mac64/135.0.7049.95/chromedriver-mac-arm64/chromedriver\n",
      "\n",
      "Using Chrome with user agent: Mozilla/5.0 (Windows NT 10.0; Win64; x64) AppleWebKit/537.36 (KHTML, like Gecko) Chrome/99.0.4844.84 Safari/537.36\n",
      "Error scraping url https://batdongsan.com.vn/cho-thue-can-ho-chung-cu-duong-ton-dan-phuong-13-prj-khu-can-ho-contrexim-copac-square/cho-quan-4-3pn-2wc-120m2-gia-19tr-lau-cao-view-full-noi-that-pr42663582: HTTPConnectionPool(host='localhost', port=49815): Read timed out. (read timeout=120)\n"
     ]
    },
    {
     "name": "stderr",
     "output_type": "stream",
     "text": [
      "Processing batches:  33%|███▎      | 387/1161 [50:45<3:21:06, 15.59s/it]"
     ]
    },
    {
     "name": "stdout",
     "output_type": "stream",
     "text": [
      "Using Chrome with user agent: Mozilla/5.0 (Windows NT 10.0; Win64; x64) AppleWebKit/537.36 (KHTML, like Gecko) Chrome/99.0.4844.84 Safari/537.36\n",
      "Error scraping url https://batdongsan.com.vn/cho-thue-can-ho-chung-cu-duong-nguyen-luong-bang-1-phuong-tan-phu-19-prj-the-antonia/c-u-87m2-full-noi-that-co-o-dau-xe-tang-19-gia-28-trieu-all-in-pr42083649: 're__icon-private-house'\n"
     ]
    },
    {
     "name": "stderr",
     "output_type": "stream",
     "text": [
      "Processing batches:  33%|███▎      | 388/1161 [50:53<2:51:01, 13.28s/it]"
     ]
    },
    {
     "name": "stdout",
     "output_type": "stream",
     "text": [
      "Using Chrome with user agent: Mozilla/5.0 (Macintosh; Intel Mac OS X 10_15_7) AppleWebKit/537.36 (KHTML, like Gecko) Chrome/100.0.4896.127 Safari/537.36\n",
      "Error scraping url https://batdongsan.com.vn/cho-thue-can-ho-chung-cu-duong-15b-phuong-phu-my-9-prj-the-era-town/c-quan-7-pmh-pr42503639: 're__icon-front-view'\n"
     ]
    },
    {
     "name": "stderr",
     "output_type": "stream",
     "text": [
      "Processing batches:  34%|███▎      | 389/1161 [51:03<2:38:59, 12.36s/it]"
     ]
    },
    {
     "name": "stdout",
     "output_type": "stream",
     "text": [
      "Using Chrome with user agent: Mozilla/5.0 (Windows NT 10.0; Win64; x64) AppleWebKit/537.36 (KHTML, like Gecko) Chrome/99.0.4844.84 Safari/537.36\n"
     ]
    },
    {
     "name": "stderr",
     "output_type": "stream",
     "text": [
      "Processing batches:  34%|███▎      | 390/1161 [51:10<2:17:23, 10.69s/it]"
     ]
    },
    {
     "name": "stdout",
     "output_type": "stream",
     "text": [
      "Error scraping url https://batdongsan.com.vn/cho-thue-can-ho-chung-cu-duong-so-5-phuong-8-11/cho-cc-3pn-72m2-8-trieu-tai-binh-thoi-p-8-q11-hcm-pr42571414: 're__icon-front-view'\n",
      "Using Chrome with user agent: Mozilla/5.0 (Macintosh; Intel Mac OS X 10_15_7) AppleWebKit/537.36 (KHTML, like Gecko) Chrome/99.0.4844.84 Safari/537.36\n",
      "Error scraping url https://batdongsan.com.vn/cho-thue-can-ho-chung-cu-mini-duong-nguyen-cuu-van-phuong-21/chuyen-cho-chdv-cc-day-du-tien-ich-tien-nghi-ngay-vi-tri-trung-tam-thuan-tien-di-chuyen-pr41168696: 're__icon-front-view'\n"
     ]
    },
    {
     "name": "stderr",
     "output_type": "stream",
     "text": [
      "Processing batches:  34%|███▎      | 391/1161 [51:18<2:06:53,  9.89s/it]"
     ]
    },
    {
     "name": "stdout",
     "output_type": "stream",
     "text": [
      "Using Chrome with user agent: Mozilla/5.0 (Windows NT 10.0; Win64; x64) AppleWebKit/537.36 (KHTML, like Gecko) Chrome/99.0.4844.84 Safari/537.36\n"
     ]
    },
    {
     "name": "stderr",
     "output_type": "stream",
     "text": [
      "Service process refused to terminate gracefully with SIGTERM, escalating to SIGKILL.\n",
      "Traceback (most recent call last):\n",
      "  File \"/Users/macbook/Desktop/BecasaNetwork/crawl/scrapepage.py\", line 132, in init_driver\n",
      "    driver = uc.Chrome(version_main=135, options=options)  # Specify a version that works with your Chrome\n",
      "  File \"/Users/macbook/Desktop/BecasaNetwork/crawl/env/lib/python3.13/site-packages/undetected_chromedriver/__init__.py\", line 258, in __init__\n",
      "    self.patcher.auto()\n",
      "    ~~~~~~~~~~~~~~~~~^^\n",
      "  File \"/Users/macbook/Desktop/BecasaNetwork/crawl/env/lib/python3.13/site-packages/undetected_chromedriver/patcher.py\", line 178, in auto\n",
      "    self.unzip_package(self.fetch_package())\n",
      "    ~~~~~~~~~~~~~~~~~~^^^^^^^^^^^^^^^^^^^^^^\n",
      "  File \"/Users/macbook/Desktop/BecasaNetwork/crawl/env/lib/python3.13/site-packages/undetected_chromedriver/patcher.py\", line 310, in unzip_package\n",
      "    os.rename(os.path.join(self.zip_path, exe_path), self.executable_path)\n",
      "    ~~~~~~~~~^^^^^^^^^^^^^^^^^^^^^^^^^^^^^^^^^^^^^^^^^^^^^^^^^^^^^^^^^^^^^\n",
      "FileNotFoundError: [Errno 2] No such file or directory: '/Users/macbook/Library/Application Support/undetected_chromedriver/undetected/chromedriver-mac-x64/chromedriver' -> '/Users/macbook/Library/Application Support/undetected_chromedriver/undetected_chromedriver'\n",
      "\n",
      "During handling of the above exception, another exception occurred:\n",
      "\n",
      "Traceback (most recent call last):\n",
      "  File \"/Users/macbook/Desktop/BecasaNetwork/crawl/scrapepage.py\", line 139, in init_driver\n",
      "    driver = uc.Chrome(driver_executable_path=driver_path, options=options)\n",
      "  File \"/Users/macbook/Desktop/BecasaNetwork/crawl/env/lib/python3.13/site-packages/undetected_chromedriver/__init__.py\", line 466, in __init__\n",
      "    super(Chrome, self).__init__(\n",
      "    ~~~~~~~~~~~~~~~~~~~~~~~~~~~~^\n",
      "        service=service,\n",
      "        ^^^^^^^^^^^^^^^^\n",
      "        options=options,\n",
      "        ^^^^^^^^^^^^^^^^\n",
      "        keep_alive=keep_alive,\n",
      "        ^^^^^^^^^^^^^^^^^^^^^^\n",
      "    )\n",
      "    ^\n",
      "  File \"/Users/macbook/Desktop/BecasaNetwork/crawl/env/lib/python3.13/site-packages/selenium/webdriver/chrome/webdriver.py\", line 45, in __init__\n",
      "    super().__init__(\n",
      "    ~~~~~~~~~~~~~~~~^\n",
      "        browser_name=DesiredCapabilities.CHROME[\"browserName\"],\n",
      "        ^^^^^^^^^^^^^^^^^^^^^^^^^^^^^^^^^^^^^^^^^^^^^^^^^^^^^^^\n",
      "    ...<3 lines>...\n",
      "        keep_alive=keep_alive,\n",
      "        ^^^^^^^^^^^^^^^^^^^^^^\n",
      "    )\n",
      "    ^\n",
      "  File \"/Users/macbook/Desktop/BecasaNetwork/crawl/env/lib/python3.13/site-packages/selenium/webdriver/chromium/webdriver.py\", line 55, in __init__\n",
      "    self.service.start()\n",
      "    ~~~~~~~~~~~~~~~~~~^^\n",
      "  File \"/Users/macbook/Desktop/BecasaNetwork/crawl/env/lib/python3.13/site-packages/selenium/webdriver/common/service.py\", line 120, in start\n",
      "    raise WebDriverException(f\"Can not connect to the Service {self._path}\")\n",
      "selenium.common.exceptions.WebDriverException: Message: Can not connect to the Service /Users/macbook/.wdm/drivers/chromedriver/mac64/135.0.7049.95/chromedriver-mac-arm64/chromedriver\n",
      "\n",
      "\n",
      "During handling of the above exception, another exception occurred:\n",
      "\n",
      "Traceback (most recent call last):\n",
      "  File \"/Users/macbook/Desktop/BecasaNetwork/crawl/scrapepage.py\", line 166, in scrape_page\n",
      "    driver = init_driver()\n",
      "  File \"/Users/macbook/Desktop/BecasaNetwork/crawl/scrapepage.py\", line 147, in init_driver\n",
      "    driver = webdriver.Chrome(service=service, options=options)\n",
      "  File \"/Users/macbook/Desktop/BecasaNetwork/crawl/env/lib/python3.13/site-packages/selenium/webdriver/chrome/webdriver.py\", line 45, in __init__\n",
      "    super().__init__(\n",
      "    ~~~~~~~~~~~~~~~~^\n",
      "        browser_name=DesiredCapabilities.CHROME[\"browserName\"],\n",
      "        ^^^^^^^^^^^^^^^^^^^^^^^^^^^^^^^^^^^^^^^^^^^^^^^^^^^^^^^\n",
      "    ...<3 lines>...\n",
      "        keep_alive=keep_alive,\n",
      "        ^^^^^^^^^^^^^^^^^^^^^^\n",
      "    )\n",
      "    ^\n",
      "  File \"/Users/macbook/Desktop/BecasaNetwork/crawl/env/lib/python3.13/site-packages/selenium/webdriver/chromium/webdriver.py\", line 55, in __init__\n",
      "    self.service.start()\n",
      "    ~~~~~~~~~~~~~~~~~~^^\n",
      "  File \"/Users/macbook/Desktop/BecasaNetwork/crawl/env/lib/python3.13/site-packages/selenium/webdriver/common/service.py\", line 120, in start\n",
      "    raise WebDriverException(f\"Can not connect to the Service {self._path}\")\n",
      "selenium.common.exceptions.WebDriverException: Message: Can not connect to the Service /Users/macbook/.wdm/drivers/chromedriver/mac64/135.0.7049.95/chromedriver-mac-arm64/chromedriver\n",
      "\n",
      "\n",
      "During handling of the above exception, another exception occurred:\n",
      "\n",
      "UnboundLocalError: cannot access local variable 'url' where it is not associated with a value\n",
      "\n",
      "During handling of the above exception, another exception occurred:\n",
      "\n",
      "Traceback (most recent call last):\n",
      "  File \"/Users/macbook/Desktop/BecasaNetwork/crawl/env/lib/python3.13/site-packages/selenium/webdriver/common/service.py\", line 184, in _terminate_process\n",
      "    self.process.wait(60)\n",
      "    ~~~~~~~~~~~~~~~~~^^^^\n",
      "  File \"/opt/homebrew/Cellar/python@3.13/3.13.2/Frameworks/Python.framework/Versions/3.13/lib/python3.13/subprocess.py\", line 1276, in wait\n",
      "    return self._wait(timeout=timeout)\n",
      "           ~~~~~~~~~~^^^^^^^^^^^^^^^^^\n",
      "  File \"/opt/homebrew/Cellar/python@3.13/3.13.2/Frameworks/Python.framework/Versions/3.13/lib/python3.13/subprocess.py\", line 2060, in _wait\n",
      "    raise TimeoutExpired(self.args, timeout)\n",
      "subprocess.TimeoutExpired: Command '['/Users/macbook/.wdm/drivers/chromedriver/mac64/135.0.7049.95/chromedriver-mac-arm64/chromedriver', '--port=50182']' timed out after 60 seconds\n",
      "Processing batches:  34%|███▍      | 392/1161 [51:32<2:25:47, 11.38s/it]"
     ]
    },
    {
     "name": "stdout",
     "output_type": "stream",
     "text": [
      "Error processing batch ['https://batdongsan.com.vn/cho-thue-can-ho-chung-cu-duong-an-duong-vuong-phuong-an-lac-6-prj-the-privia/c-du-1pn-1wc-dt-44m2-moi-b-giao-nha-trong-moi-dep-pr42727788']: cannot access local variable 'url' where it is not associated with a value\n",
      "Using Chrome with user agent: Mozilla/5.0 (Macintosh; Intel Mac OS X 10_15_7) AppleWebKit/537.36 (KHTML, like Gecko) Chrome/100.0.4896.127 Safari/537.36\n",
      "Error scraping url https://batdongsan.com.vn/cho-thue-can-ho-chung-cu-mini-duong-tan-ky-tan-quy-phuong-son-ky/khai-truong-cao-cap-day-du-noi-that-co-ban-cong-ngay-gan-etown-cong-a-giap-binh-pr42758246: 're__icon-clock'\n"
     ]
    },
    {
     "name": "stderr",
     "output_type": "stream",
     "text": [
      "Processing batches:  34%|███▍      | 393/1161 [51:36<1:57:03,  9.15s/it]"
     ]
    },
    {
     "name": "stdout",
     "output_type": "stream",
     "text": [
      "Using Chrome with user agent: Mozilla/5.0 (Windows NT 10.0; Win64; x64) AppleWebKit/537.36 (KHTML, like Gecko) Chrome/99.0.4844.84 Safari/537.36\n",
      "Error scraping url https://batdongsan.com.vn/cho-thue-can-ho-chung-cu-duong-go-dua-phuong-hiep-binh-phuoc-prj-sunview-town/c-gap-ro-hang-gia-re-tai-tp-thu-duc-pr36192471: 're__icon-front-view'\n"
     ]
    },
    {
     "name": "stderr",
     "output_type": "stream",
     "text": [
      "Processing batches:  34%|███▍      | 394/1161 [51:43<1:48:50,  8.51s/it]"
     ]
    },
    {
     "name": "stdout",
     "output_type": "stream",
     "text": [
      "Error scraping url https://batdongsan.com.vn/cho-thue-can-ho-chung-cu-duong-vo-nguyen-giap-phuong-an-phu-prj-lumiere-riverside/cho-1pn-nha-dep-q2-lh-pr42354907: 're__icon-clock'\n"
     ]
    },
    {
     "name": "stderr",
     "output_type": "stream",
     "text": [
      "Processing batches:  34%|███▍      | 395/1161 [51:46<1:27:17,  6.84s/it]"
     ]
    },
    {
     "name": "stdout",
     "output_type": "stream",
     "text": [
      "Using Chrome with user agent: Mozilla/5.0 (Macintosh; Intel Mac OS X 10_15_7) AppleWebKit/537.36 (KHTML, like Gecko) Chrome/100.0.4896.127 Safari/537.36\n",
      "Using Chrome with user agent: Mozilla/5.0 (Macintosh; Intel Mac OS X 10_15_7) AppleWebKit/537.36 (KHTML, like Gecko) Chrome/99.0.4844.84 Safari/537.36\n"
     ]
    },
    {
     "name": "stderr",
     "output_type": "stream",
     "text": [
      "Processing batches:  34%|███▍      | 396/1161 [51:53<1:27:33,  6.87s/it]"
     ]
    },
    {
     "name": "stdout",
     "output_type": "stream",
     "text": [
      "Error scraping url https://batdongsan.com.vn/cho-thue-can-ho-chung-cu-duong-nguyen-luong-bang-1-phuong-tan-phu-19-prj-riverside-residence/cho-penthouse-320m2-4pn-view-song-ntcc-gia-60-trieu-call-0909740191-ha-pr37259640: 're__icon-front-view'\n"
     ]
    },
    {
     "name": "stderr",
     "output_type": "stream",
     "text": [
      "Processing batches:  34%|███▍      | 397/1161 [51:55<1:08:49,  5.40s/it]"
     ]
    },
    {
     "name": "stdout",
     "output_type": "stream",
     "text": [
      "Using Chrome with user agent: Mozilla/5.0 (Windows NT 10.0; Win64; x64) AppleWebKit/537.36 (KHTML, like Gecko) Chrome/100.0.4896.127 Safari/537.36\n",
      "Error scraping url https://batdongsan.com.vn/cho-thue-can-ho-chung-cu-duong-nguyen-van-linh-phuong-tan-phong-9-prj-happy-valley/cho-ch-pmh-quan-7-tphcm-116m2-3pn-24tr-thang-pr39468532: 're__icon-clock'\n"
     ]
    },
    {
     "name": "stderr",
     "output_type": "stream",
     "text": [
      "Processing batches:  34%|███▍      | 398/1161 [51:59<1:01:06,  4.81s/it]"
     ]
    },
    {
     "name": "stdout",
     "output_type": "stream",
     "text": [
      "Using Chrome with user agent: Mozilla/5.0 (Macintosh; Intel Mac OS X 10_15_7) AppleWebKit/537.36 (KHTML, like Gecko) Chrome/100.0.4896.127 Safari/537.36\n",
      "Error scraping url https://batdongsan.com.vn/cho-thue-can-ho-chung-cu-duong-thanh-xuan-13-phuong-thanh-xuan-prj-picity-high-park/c-quan-12-1pn-gia-5-5tr-th-2pn-gia-6tr-th-3pn-gia-8tr-th-lh-0974422234-pr33330067: 're__icon-front-view'\n"
     ]
    },
    {
     "name": "stderr",
     "output_type": "stream",
     "text": [
      "Processing batches:  34%|███▍      | 399/1161 [52:01<51:44,  4.07s/it]  "
     ]
    },
    {
     "name": "stdout",
     "output_type": "stream",
     "text": [
      "Using Chrome with user agent: Mozilla/5.0 (Macintosh; Intel Mac OS X 10_15_7) AppleWebKit/537.36 (KHTML, like Gecko) Chrome/100.0.4896.127 Safari/537.36\n",
      "Using Chrome with user agent: Mozilla/5.0 (Macintosh; Intel Mac OS X 10_15_7) AppleWebKit/537.36 (KHTML, like Gecko) Chrome/99.0.4844.84 Safari/537.36\n"
     ]
    },
    {
     "name": "stderr",
     "output_type": "stream",
     "text": [
      "Processing batches:  34%|███▍      | 400/1161 [52:11<1:13:38,  5.81s/it]"
     ]
    },
    {
     "name": "stdout",
     "output_type": "stream",
     "text": [
      "Error scraping url https://batdongsan.com.vn/cho-thue-can-ho-chung-cu-duong-nguyen-xien-phuong-long-binh-3-prj-the-beverly-vinhomes-grand-park/doc-quyen-ro-hang-cho-gia-tot-nhat-tu-studio-1-2-3-pn-tai-t02-2025-pr42199359: 're__icon-front-view'\n",
      "Using Chrome with user agent: Mozilla/5.0 (Windows NT 10.0; Win64; x64) AppleWebKit/537.36 (KHTML, like Gecko) Chrome/100.0.4896.127 Safari/537.36\n",
      "Error scraping url https://batdongsan.com.vn/cho-thue-can-ho-chung-cu-pho-ta-quang-buu-phuong-5-11-prj-khu-can-ho-chanh-hung-giai-viet/c-cao-cap-3pn-150m2-day-du-noi-that-nhan-nha-o-lien-duoc-pr38192431: 're__icon-document'\n",
      "Error scraping url https://batdongsan.com.vn/cho-thue-nha-tro-phong-tro-duong-pham-van-chieu-phuong-9-11/-gac-duplex-thang-may-may-lanh-may-giat-ham-xe-pccc-pr42621388: 're__icon-electricity'\n"
     ]
    },
    {
     "name": "stderr",
     "output_type": "stream",
     "text": [
      "Processing batches:  35%|███▍      | 402/1161 [52:23<1:07:36,  5.35s/it]"
     ]
    },
    {
     "name": "stdout",
     "output_type": "stream",
     "text": [
      "Error scraping url https://batdongsan.com.vn/cho-thue-can-ho-chung-cu-mini-duong-so-4-phuong-hiep-binh-phuoc-prj-khu-do-thi-van-phuc-city/cho-phong-gia-5tr500-day-du-noi-that-wc-rieng-cao-cap-thong-thoang-pr41761839: 're__icon-home'\n"
     ]
    },
    {
     "name": "stderr",
     "output_type": "stream",
     "text": [
      "Processing batches:  35%|███▍      | 403/1161 [52:25<54:20,  4.30s/it]  "
     ]
    },
    {
     "name": "stdout",
     "output_type": "stream",
     "text": [
      "Using Chrome with user agent: Mozilla/5.0 (Windows NT 10.0; Win64; x64) AppleWebKit/537.36 (KHTML, like Gecko) Chrome/100.0.4896.127 Safari/537.36\n",
      "Using Chrome with user agent: Mozilla/5.0 (Macintosh; Intel Mac OS X 10_15_7) AppleWebKit/537.36 (KHTML, like Gecko) Chrome/99.0.4844.84 Safari/537.36\n",
      "Using Chrome with user agent: Mozilla/5.0 (Macintosh; Intel Mac OS X 10_15_7) AppleWebKit/537.36 (KHTML, like Gecko) Chrome/99.0.4844.84 Safari/537.36\n",
      "Error scraping url https://batdongsan.com.vn/cho-thue-can-ho-chung-cu-duong-dao-tri-phuong-phu-thuan-3-prj-sunshine-diamond-river/c-2pn2wc-110m2-gia-15tr-p-li-va-tot-pr42191449: 're__icon-front-view'\n"
     ]
    },
    {
     "name": "stderr",
     "output_type": "stream",
     "text": [
      "Processing batches:  35%|███▍      | 404/1161 [52:36<1:20:48,  6.40s/it]"
     ]
    },
    {
     "name": "stdout",
     "output_type": "stream",
     "text": [
      "Error scraping url https://batdongsan.com.vn/cho-thue-can-ho-chung-cu-mini-duong-nguyen-trong-tuyen-phuong-8-13/cho-cc-1pn-1wc-40m2-gia-sieu-hoi-9-trieu-tai-phu-nhuan-hcm-pr42757504: 're__icon-front-view'\n"
     ]
    },
    {
     "name": "stderr",
     "output_type": "stream",
     "text": [
      "Processing batches:  35%|███▍      | 405/1161 [52:38<1:04:25,  5.11s/it]"
     ]
    },
    {
     "name": "stdout",
     "output_type": "stream",
     "text": [
      "Using Chrome with user agent: Mozilla/5.0 (Macintosh; Intel Mac OS X 10_15_7) AppleWebKit/537.36 (KHTML, like Gecko) Chrome/99.0.4844.84 Safari/537.36\n",
      "Error scraping url https://batdongsan.com.vn/cho-thue-can-ho-chung-cu-mini-pho-nguyen-xi-phuong-13-7/-2-phong-ngu-sieu-rong-60m2-khuc-giao-pham-van-dong-cho-nhan-ngan-dai-han-pr42757668: 're__icon-clock'\n"
     ]
    },
    {
     "name": "stderr",
     "output_type": "stream",
     "text": [
      "Processing batches:  35%|███▍      | 406/1161 [52:41<57:27,  4.57s/it]  "
     ]
    },
    {
     "name": "stdout",
     "output_type": "stream",
     "text": [
      "Using Chrome with user agent: Mozilla/5.0 (Windows NT 10.0; Win64; x64) AppleWebKit/537.36 (KHTML, like Gecko) Chrome/100.0.4896.127 Safari/537.36\n",
      "Using Chrome with user agent: Mozilla/5.0 (Windows NT 10.0; Win64; x64) AppleWebKit/537.36 (KHTML, like Gecko) Chrome/99.0.4844.84 Safari/537.36\n",
      "Error scraping url https://batdongsan.com.vn/cho-thue-can-ho-chung-cu-duong-mai-chi-tho-phuong-binh-khanh-prj-new-city-thu-thiem/3pn-cho-gia-tot-nhieu-chon-lua-pr38017997: 're__icon-document'\n"
     ]
    },
    {
     "name": "stderr",
     "output_type": "stream",
     "text": [
      "Processing batches:  35%|███▌      | 407/1161 [52:51<1:18:10,  6.22s/it]"
     ]
    },
    {
     "name": "stdout",
     "output_type": "stream",
     "text": [
      "Error scraping url https://batdongsan.com.vn/cho-thue-can-ho-chung-cu-duong-vo-nguyen-giap-phuong-an-phu-prj-lumiere-riverside/cho-penhouse-270m2-thao-dien-quan-2-gia-10-000-usd-thang-pr41252071: 're__icon-front-view'\n"
     ]
    },
    {
     "name": "stderr",
     "output_type": "stream",
     "text": [
      "Processing batches:  35%|███▌      | 408/1161 [52:52<55:52,  4.45s/it]  "
     ]
    },
    {
     "name": "stdout",
     "output_type": "stream",
     "text": [
      "Using Chrome with user agent: Mozilla/5.0 (Windows NT 10.0; Win64; x64) AppleWebKit/537.36 (KHTML, like Gecko) Chrome/99.0.4844.84 Safari/537.36\n",
      "Using Chrome with user agent: Mozilla/5.0 (Macintosh; Intel Mac OS X 10_15_7) AppleWebKit/537.36 (KHTML, like Gecko) Chrome/100.0.4896.127 Safari/537.36\n",
      "Error scraping url https://batdongsan.com.vn/cho-thue-can-ho-chung-cu-duong-nguyen-luong-bang-1-phuong-tan-phu-19-prj-hung-phuc-premier/-c-nhanh-pmh-q7-nha-dep-moi-100-lh-0917300798-ms-hang-pr37842247: 're__icon-document'\n"
     ]
    },
    {
     "name": "stderr",
     "output_type": "stream",
     "text": [
      "Processing batches:  35%|███▌      | 409/1161 [53:04<1:25:24,  6.81s/it]"
     ]
    },
    {
     "name": "stdout",
     "output_type": "stream",
     "text": [
      "Using Chrome with user agent: Mozilla/5.0 (Windows NT 10.0; Win64; x64) AppleWebKit/537.36 (KHTML, like Gecko) Chrome/99.0.4844.84 Safari/537.36\n",
      "Error scraping url https://batdongsan.com.vn/cho-thue-can-ho-chung-cu-mini-duong-tran-quang-khai-phuong-tan-dinh-2/-full-noi-that-ban-cong-may-giat-rieng-rong-40m2-trung-tam-quan-1-pr41312855: 're__icon-document'\n"
     ]
    },
    {
     "name": "stderr",
     "output_type": "stream",
     "text": [
      "Processing batches:  35%|███▌      | 410/1161 [53:10<1:21:39,  6.52s/it]"
     ]
    },
    {
     "name": "stdout",
     "output_type": "stream",
     "text": [
      "Error scraping url https://batdongsan.com.vn/cho-thue-nha-tro-phong-tro-duong-dien-bien-phu-phuong-15-5/-cho-cach-truong-dh-uef-5-t-giap-quan-1-pr42746540: 're__icon-front-view'\n"
     ]
    },
    {
     "name": "stderr",
     "output_type": "stream",
     "text": [
      "Processing batches:  35%|███▌      | 411/1161 [53:12<1:05:29,  5.24s/it]"
     ]
    },
    {
     "name": "stdout",
     "output_type": "stream",
     "text": [
      "Using Chrome with user agent: Mozilla/5.0 (Macintosh; Intel Mac OS X 10_15_7) AppleWebKit/537.36 (KHTML, like Gecko) Chrome/100.0.4896.127 Safari/537.36\n",
      "Using Chrome with user agent: Mozilla/5.0 (Windows NT 10.0; Win64; x64) AppleWebKit/537.36 (KHTML, like Gecko) Chrome/99.0.4844.84 Safari/537.36\n",
      "Error scraping url https://batdongsan.com.vn/cho-thue-can-ho-chung-cu-duong-nguyen-huu-canh-phuong-22-prj-opal-saigon-pearl/-c-2-pn-t2-2023-gia-26-trieu-tang-cao-full-noi-that-cao-cap-pr36308354: 're__icon-document'\n"
     ]
    },
    {
     "name": "stderr",
     "output_type": "stream",
     "text": [
      "Processing batches:  35%|███▌      | 412/1161 [53:25<1:32:32,  7.41s/it]"
     ]
    },
    {
     "name": "stdout",
     "output_type": "stream",
     "text": [
      "Using Chrome with user agent: Mozilla/5.0 (Windows NT 10.0; Win64; x64) AppleWebKit/537.36 (KHTML, like Gecko) Chrome/100.0.4896.127 Safari/537.36\n"
     ]
    },
    {
     "name": "stderr",
     "output_type": "stream",
     "text": [
      "Processing batches:  36%|███▌      | 413/1161 [53:31<1:28:47,  7.12s/it]"
     ]
    },
    {
     "name": "stdout",
     "output_type": "stream",
     "text": [
      "Error scraping url https://batdongsan.com.vn/cho-thue-can-ho-chung-cu-mini-duong-ap-moi-1-xa-tan-xuan-5/c-dich-vu-khu-biet-thu-cao-cap-bao-ve-24-7-doi-dien-cong-vien-an-ninh-yen-tinh-pr42756690: 're__icon-clock'\n",
      "Using Chrome with user agent: Mozilla/5.0 (Windows NT 10.0; Win64; x64) AppleWebKit/537.36 (KHTML, like Gecko) Chrome/99.0.4844.84 Safari/537.36\n",
      "Error scraping url https://batdongsan.com.vn/cho-thue-nha-tro-phong-tro-duong-nguyen-huu-tho-xa-phuoc-kieng-prj-new-saigon-hoang-anh-gia-lai-3/cho-thuong-master-studio-cc-3-pr41771314: 're__icon-document'\n"
     ]
    },
    {
     "name": "stderr",
     "output_type": "stream",
     "text": [
      "Processing batches:  36%|███▌      | 414/1161 [54:00<2:49:18, 13.60s/it]"
     ]
    },
    {
     "name": "stdout",
     "output_type": "stream",
     "text": [
      "Using Chrome with user agent: Mozilla/5.0 (Windows NT 10.0; Win64; x64) AppleWebKit/537.36 (KHTML, like Gecko) Chrome/99.0.4844.84 Safari/537.36\n",
      "Error scraping url https://batdongsan.com.vn/cho-thue-can-ho-chung-cu-duong-ben-van-don-phuong-12-prj-the-tresor/gio-2-phong-ngu-1-toilet-65m2-full-noi-that-tu-17-trieu-xem-nha-pr42133338: HTTPConnectionPool(host='localhost', port=53263): Read timed out. (read timeout=120)\n"
     ]
    },
    {
     "name": "stderr",
     "output_type": "stream",
     "text": [
      "Processing batches:  36%|███▌      | 415/1161 [54:08<2:29:52, 12.05s/it]"
     ]
    },
    {
     "name": "stdout",
     "output_type": "stream",
     "text": [
      "Using Chrome with user agent: Mozilla/5.0 (Macintosh; Intel Mac OS X 10_15_7) AppleWebKit/537.36 (KHTML, like Gecko) Chrome/100.0.4896.127 Safari/537.36\n",
      "Error scraping url https://batdongsan.com.vn/cho-thue-can-ho-chung-cu-duong-nguyen-huu-tho-xa-phuoc-kieng-prj-celesta-rise/c-90m2-tai-cellesta-gia-14-trieu-vnd-view-dep-pr41555729: 're__icon-front-view'\n",
      "Error scraping url https://batdongsan.com.vn/cho-thue-can-ho-chung-cu-duong-20-5-phuong-hiep-binh-chanh-prj-opal-garden/cho-cc-13-trieu-2pn-nhan-nha-o-lien-pr42756481: 're__icon-electricity'\n"
     ]
    },
    {
     "name": "stderr",
     "output_type": "stream",
     "text": [
      "Processing batches:  36%|███▌      | 416/1161 [54:20<2:27:04, 11.85s/it]"
     ]
    },
    {
     "name": "stdout",
     "output_type": "stream",
     "text": [
      "Using Chrome with user agent: Mozilla/5.0 (Windows NT 10.0; Win64; x64) AppleWebKit/537.36 (KHTML, like Gecko) Chrome/99.0.4844.84 Safari/537.36\n"
     ]
    },
    {
     "name": "stderr",
     "output_type": "stream",
     "text": [
      "Processing batches:  36%|███▌      | 418/1161 [54:28<1:41:56,  8.23s/it]"
     ]
    },
    {
     "name": "stdout",
     "output_type": "stream",
     "text": [
      "Error scraping url https://batdongsan.com.vn/cho-thue-can-ho-chung-cu-duong-nguyen-van-linh-phuong-tan-phong-9-prj-lavida-plus/-2pn2wc-74m2-full-noi-that-cao-cap-gia-15tr-thang-gan-rmit-ton-duc-thang-pr36766572: 're__icon-front-view'\n",
      "Using Chrome with user agent: Mozilla/5.0 (Macintosh; Intel Mac OS X 10_15_7) AppleWebKit/537.36 (KHTML, like Gecko) Chrome/99.0.4844.84 Safari/537.36\n",
      "Error scraping url https://batdongsan.com.vn/cho-thue-nha-tro-phong-tro-duong-huynh-dinh-hai-phuong-14-7/-50m2-7tr-ban-cong-ke-bep-may-lanh-wc-rieng-tu-do-24-24-ngay-gan-cho-ba-chieu-pr42382386: 're__icon-private-house'\n"
     ]
    },
    {
     "name": "stderr",
     "output_type": "stream",
     "text": [
      "Processing batches:  36%|███▌      | 419/1161 [54:32<1:31:14,  7.38s/it]"
     ]
    },
    {
     "name": "stdout",
     "output_type": "stream",
     "text": [
      "Using Chrome with user agent: Mozilla/5.0 (Macintosh; Intel Mac OS X 10_15_7) AppleWebKit/537.36 (KHTML, like Gecko) Chrome/99.0.4844.84 Safari/537.36\n",
      "Using Chrome with user agent: Mozilla/5.0 (Macintosh; Intel Mac OS X 10_15_7) AppleWebKit/537.36 (KHTML, like Gecko) Chrome/99.0.4844.84 Safari/537.36\n",
      "Error scraping url https://batdongsan.com.vn/cho-thue-nha-tro-phong-tro-duong-ho-thi-ky-phuong-1-18/can-c-quan-10-gia-8-500-000vnd-pr42370874: 're__icon-front-view'\n"
     ]
    },
    {
     "name": "stderr",
     "output_type": "stream",
     "text": [
      "Processing batches:  36%|███▌      | 420/1161 [54:49<1:59:34,  9.68s/it]"
     ]
    },
    {
     "name": "stdout",
     "output_type": "stream",
     "text": [
      "Using Chrome with user agent: Mozilla/5.0 (Windows NT 10.0; Win64; x64) AppleWebKit/537.36 (KHTML, like Gecko) Chrome/100.0.4896.127 Safari/537.36\n",
      "Error scraping url https://batdongsan.com.vn/cho-thue-can-ho-chung-cu-phuong-hiep-binh-chanh-prj-opal-riverside/cho-cc-2pn-2wc-71m2-gia-uu-dai-12-trieu-tai-canh-bo-song-mat-me-pr42756572: 're__icon-clock'\n"
     ]
    },
    {
     "name": "stderr",
     "output_type": "stream",
     "text": [
      "Processing batches:  36%|███▋      | 421/1161 [54:54<1:45:07,  8.52s/it]"
     ]
    },
    {
     "name": "stdout",
     "output_type": "stream",
     "text": [
      "Using Chrome with user agent: Mozilla/5.0 (Windows NT 10.0; Win64; x64) AppleWebKit/537.36 (KHTML, like Gecko) Chrome/100.0.4896.127 Safari/537.36\n",
      "Error scraping url https://batdongsan.com.vn/cho-thue-can-ho-chung-cu-mini-duong-so-7-phuong-1-21/-moi-xay-cua-troi-full-noi-that-tai-pham-van-dong-vlu-cs3-pr42754488: 're__icon-clock'\n"
     ]
    },
    {
     "name": "stderr",
     "output_type": "stream",
     "text": [
      "Processing batches:  36%|███▋      | 422/1161 [55:00<1:36:16,  7.82s/it]"
     ]
    },
    {
     "name": "stdout",
     "output_type": "stream",
     "text": [
      "Error scraping url https://batdongsan.com.vn/cho-thue-can-ho-chung-cu-mini-duong-huynh-van-banh-phuong-15-7/-dang-1-png-ngu-ban-cong-lon-45m2-phu-nhuan-gan-cau-kieu-pr42756345: 're__icon-clock'\n"
     ]
    },
    {
     "name": "stderr",
     "output_type": "stream",
     "text": [
      "Processing batches:  37%|███▋      | 424/1161 [55:04<1:01:17,  4.99s/it]"
     ]
    },
    {
     "name": "stdout",
     "output_type": "stream",
     "text": [
      "Error scraping url https://batdongsan.com.vn/cho-thue-nha-tro-phong-tro-duong-so-7-phuong-linh-trung/-full-noi-that-don-vao-o-ngay-pr42756090: 're__icon-clock'\n",
      "Using Chrome with user agent: Mozilla/5.0 (Windows NT 10.0; Win64; x64) AppleWebKit/537.36 (KHTML, like Gecko) Chrome/99.0.4844.84 Safari/537.36\n",
      "Using Chrome with user agent: Mozilla/5.0 (Macintosh; Intel Mac OS X 10_15_7) AppleWebKit/537.36 (KHTML, like Gecko) Chrome/99.0.4844.84 Safari/537.36\n",
      "Using Chrome with user agent: Mozilla/5.0 (Windows NT 10.0; Win64; x64) AppleWebKit/537.36 (KHTML, like Gecko) Chrome/99.0.4844.84 Safari/537.36\n",
      "Error scraping url https://batdongsan.com.vn/cho-thue-can-ho-chung-cu-duong-nguyen-duc-canh-phuong-tan-phong-9-prj-riverpark-premier/-3pn-2wc-re-nhat-toa-nhan-nha-o-ngay-gia-chi-42-trieu-130m2-view-noi-khu-pr42600879: 're__icon-clock'\n"
     ]
    },
    {
     "name": "stderr",
     "output_type": "stream",
     "text": [
      "Processing batches:  37%|███▋      | 425/1161 [55:25<1:55:19,  9.40s/it]"
     ]
    },
    {
     "name": "stdout",
     "output_type": "stream",
     "text": [
      "Using Chrome with user agent: Mozilla/5.0 (Windows NT 10.0; Win64; x64) AppleWebKit/537.36 (KHTML, like Gecko) Chrome/100.0.4896.127 Safari/537.36\n",
      "Error scraping url https://batdongsan.com.vn/cho-thue-can-ho-chung-cu-duong-nam-ky-khoi-nghia-phuong-vo-thi-sau-prj-terra-royal/-gio-hang-15-c-lavela-saigon-2pn-15tr-giu-chia-ka-xem-lien-ngay-pr41417207: 're__icon-front-view'\n"
     ]
    },
    {
     "name": "stderr",
     "output_type": "stream",
     "text": [
      "Processing batches:  37%|███▋      | 426/1161 [55:36<2:01:20,  9.91s/it]"
     ]
    },
    {
     "name": "stdout",
     "output_type": "stream",
     "text": [
      "Using Chrome with user agent: Mozilla/5.0 (Macintosh; Intel Mac OS X 10_15_7) AppleWebKit/537.36 (KHTML, like Gecko) Chrome/100.0.4896.127 Safari/537.36\n",
      "Error scraping url https://batdongsan.com.vn/cho-thue-can-ho-chung-cu-duong-nguyen-huu-tho-phuong-tan-hung-14-prj-sunrise-city-view/c-quan-7-2pn1wc-16-trieu-pr37219331: 're__icon-front-view'\n"
     ]
    },
    {
     "name": "stderr",
     "output_type": "stream",
     "text": [
      "Processing batches:  37%|███▋      | 427/1161 [55:53<2:29:18, 12.21s/it]"
     ]
    },
    {
     "name": "stdout",
     "output_type": "stream",
     "text": [
      "Using Chrome with user agent: Mozilla/5.0 (Macintosh; Intel Mac OS X 10_15_7) AppleWebKit/537.36 (KHTML, like Gecko) Chrome/99.0.4844.84 Safari/537.36\n"
     ]
    },
    {
     "name": "stderr",
     "output_type": "stream",
     "text": [
      "Processing batches:  37%|███▋      | 428/1161 [56:03<2:19:41, 11.43s/it]"
     ]
    },
    {
     "name": "stdout",
     "output_type": "stream",
     "text": [
      "Error scraping url https://batdongsan.com.vn/cho-thue-can-ho-chung-cu-duong-hoang-quoc-viet-phuong-phu-thuan-3-prj-sky-89/cho-ch-2pn-2wc-full-nt-cao-cap-o-lien-cc-sky89-q7-gia-chi-15-5tr-pr42755760: 're__icon-private-house'\n",
      "Using Chrome with user agent: Mozilla/5.0 (Windows NT 10.0; Win64; x64) AppleWebKit/537.36 (KHTML, like Gecko) Chrome/99.0.4844.84 Safari/537.36\n",
      "Error scraping url https://batdongsan.com.vn/cho-thue-can-ho-chung-cu-duong-vo-van-kiet-phuong-cau-kho/c-cc-60m2-tai-8-trieu-q1-hcm-hang-hiem-gia-tot-pr42709405: 're__icon-clock'\n"
     ]
    },
    {
     "name": "stderr",
     "output_type": "stream",
     "text": [
      "Processing batches:  37%|███▋      | 429/1161 [56:19<2:36:19, 12.81s/it]"
     ]
    },
    {
     "name": "stdout",
     "output_type": "stream",
     "text": [
      "Error scraping url https://batdongsan.com.vn/cho-thue-nha-tro-phong-tro-duong-tan-ky-tan-quy-phuong-tay-thanh/-thoang-mat-co-may-lanh-gia-re-gan-dai-hoc-cong-thuong-pr42755676: 're__icon-electricity'\n"
     ]
    },
    {
     "name": "stderr",
     "output_type": "stream",
     "text": [
      "Processing batches:  37%|███▋      | 430/1161 [56:20<1:54:36,  9.41s/it]"
     ]
    },
    {
     "name": "stdout",
     "output_type": "stream",
     "text": [
      "Using Chrome with user agent: Mozilla/5.0 (Macintosh; Intel Mac OS X 10_15_7) AppleWebKit/537.36 (KHTML, like Gecko) Chrome/100.0.4896.127 Safari/537.36\n",
      "Using Chrome with user agent: Mozilla/5.0 (Windows NT 10.0; Win64; x64) AppleWebKit/537.36 (KHTML, like Gecko) Chrome/99.0.4844.84 Safari/537.36\n",
      "Error scraping url https://batdongsan.com.vn/cho-thue-nha-tro-phong-tro-duong-tran-trong-cung-phuong-tan-thuan-tay-1-prj-khu-do-thi-nam-long/-cho-cao-cap-full-noi-that-gia-tot-q7-doi-dien-vincom-long-pr42755979: HTTPConnectionPool(host='localhost', port=56620): Read timed out. (read timeout=120)\n"
     ]
    },
    {
     "name": "stderr",
     "output_type": "stream",
     "text": [
      "Processing batches:  37%|███▋      | 431/1161 [57:19<4:52:56, 24.08s/it]"
     ]
    },
    {
     "name": "stdout",
     "output_type": "stream",
     "text": [
      "Using Chrome with user agent: Mozilla/5.0 (Macintosh; Intel Mac OS X 10_15_7) AppleWebKit/537.36 (KHTML, like Gecko) Chrome/100.0.4896.127 Safari/537.36\n",
      "Error scraping url https://batdongsan.com.vn/cho-thue-can-ho-chung-cu-duong-xo-viet-nghe-tinh-phuong-21-prj-chung-cu-my-duc/cho-ch-1pn-gan-q1-8-5tr-th-noi-that-ban-lh-vp-tai-pr42699987: 're__icon-front-view'\n"
     ]
    },
    {
     "name": "stderr",
     "output_type": "stream",
     "text": [
      "Processing batches:  37%|███▋      | 432/1161 [57:25<3:46:56, 18.68s/it]"
     ]
    },
    {
     "name": "stdout",
     "output_type": "stream",
     "text": [
      "Using Chrome with user agent: Mozilla/5.0 (Windows NT 10.0; Win64; x64) AppleWebKit/537.36 (KHTML, like Gecko) Chrome/100.0.4896.127 Safari/537.36\n",
      "Error scraping url https://batdongsan.com.vn/cho-thue-can-ho-chung-cu-mini-duong-so-45-phuong-tan-quy/-moi-an-thien-trung-tam-q7-gan-secc-pmh-rmit-quan-1-quan-7-quan-4-pr42088089: 're__icon-front-view'\n"
     ]
    },
    {
     "name": "stderr",
     "output_type": "stream",
     "text": [
      "Processing batches:  37%|███▋      | 433/1161 [57:36<3:19:46, 16.46s/it]"
     ]
    },
    {
     "name": "stdout",
     "output_type": "stream",
     "text": [
      "Using Chrome with user agent: Mozilla/5.0 (Macintosh; Intel Mac OS X 10_15_7) AppleWebKit/537.36 (KHTML, like Gecko) Chrome/100.0.4896.127 Safari/537.36\n",
      "Error scraping url https://batdongsan.com.vn/cho-thue-can-ho-chung-cu-duong-nguyen-luong-bang-1-phuong-tan-phu-19-prj-green-view/c-119m2-40tr-thang-3pn-2-ve-sinh-pr42752873: 're__icon-front-view'\n"
     ]
    },
    {
     "name": "stderr",
     "output_type": "stream",
     "text": [
      "Processing batches:  37%|███▋      | 434/1161 [57:43<2:43:37, 13.50s/it]"
     ]
    },
    {
     "name": "stdout",
     "output_type": "stream",
     "text": [
      "Using Chrome with user agent: Mozilla/5.0 (Macintosh; Intel Mac OS X 10_15_7) AppleWebKit/537.36 (KHTML, like Gecko) Chrome/100.0.4896.127 Safari/537.36\n",
      "Error scraping url https://batdongsan.com.vn/cho-thue-can-ho-chung-cu-duong-nguyen-duc-canh-phuong-tan-phong-9-prj-grand-view/c-cao-cap-c-phu-my-hung-quan-7-158m2-nha-moi-100-gia-60tr-lh-pr42138146: 're__icon-front-view'\n"
     ]
    },
    {
     "name": "stderr",
     "output_type": "stream",
     "text": [
      "Processing batches:  38%|███▊      | 436/1161 [57:50<1:42:36,  8.49s/it]"
     ]
    },
    {
     "name": "stdout",
     "output_type": "stream",
     "text": [
      "Error scraping url https://batdongsan.com.vn/cho-thue-nha-tro-phong-tro-duong-nguyen-huu-canh-phuong-22/-day-du-noi-that-thoang-sang-q-binh-thanh-gan-q1-2-trung-tam-tien-di-lai-pr41370341: 're__icon-front-view'\n",
      "Using Chrome with user agent: Mozilla/5.0 (Windows NT 10.0; Win64; x64) AppleWebKit/537.36 (KHTML, like Gecko) Chrome/100.0.4896.127 Safari/537.36\n"
     ]
    },
    {
     "name": "stderr",
     "output_type": "stream",
     "text": [
      "Processing batches:  38%|███▊      | 437/1161 [57:54<1:26:25,  7.16s/it]"
     ]
    },
    {
     "name": "stdout",
     "output_type": "stream",
     "text": [
      "Error scraping url https://batdongsan.com.vn/cho-thue-can-ho-chung-cu-duong-hoang-minh-giam-phuong-9-12-prj-garden-gate/c-85m2-3-png-ngu-chi-18tr-thang-cao-cap-khu-san-bay-pr42741610: 're__icon-clock'\n",
      "Using Chrome with user agent: Mozilla/5.0 (Windows NT 10.0; Win64; x64) AppleWebKit/537.36 (KHTML, like Gecko) Chrome/100.0.4896.127 Safari/537.36\n",
      "Using Chrome with user agent: Mozilla/5.0 (Macintosh; Intel Mac OS X 10_15_7) AppleWebKit/537.36 (KHTML, like Gecko) Chrome/99.0.4844.84 Safari/537.36\n",
      "Error scraping url https://batdongsan.com.vn/cho-thue-can-ho-chung-cu-duong-nguyen-duc-canh-phuong-tan-phong-9-prj-riverpark-premier/c-cao-cap-phu-my-hung-pr42753702: 're__icon-private-house'\n"
     ]
    },
    {
     "name": "stderr",
     "output_type": "stream",
     "text": [
      "Processing batches:  38%|███▊      | 438/1161 [58:01<1:25:09,  7.07s/it]"
     ]
    },
    {
     "name": "stdout",
     "output_type": "stream",
     "text": [
      "Using Chrome with user agent: Mozilla/5.0 (Macintosh; Intel Mac OS X 10_15_7) AppleWebKit/537.36 (KHTML, like Gecko) Chrome/100.0.4896.127 Safari/537.36\n",
      "Error scraping url https://batdongsan.com.vn/cho-thue-can-ho-chung-cu-duong-nguyen-luong-bang-1-phuong-tan-phu-19-prj-riverside-residence/chinh-chu-cho-cc-view-truc-dien-song-gia-18-trieu-dt-80-m2-2pn-2wc-pr42700129: 're__icon-electricity'\n"
     ]
    },
    {
     "name": "stderr",
     "output_type": "stream",
     "text": [
      "Processing batches:  38%|███▊      | 439/1161 [58:10<1:30:48,  7.55s/it]"
     ]
    },
    {
     "name": "stdout",
     "output_type": "stream",
     "text": [
      "Using Chrome with user agent: Mozilla/5.0 (Macintosh; Intel Mac OS X 10_15_7) AppleWebKit/537.36 (KHTML, like Gecko) Chrome/99.0.4844.84 Safari/537.36\n",
      "Error scraping url https://batdongsan.com.vn/cho-thue-nha-tro-phong-tro-duong-bach-dang-phuong-24/pass-3tr2-gio-giac-tu-do-khong-chung-chu-yen-tinh-rieng-tu-pr42755053: 're__icon-electricity'\n"
     ]
    },
    {
     "name": "stderr",
     "output_type": "stream",
     "text": [
      "Processing batches:  38%|███▊      | 440/1161 [58:32<2:22:03, 11.82s/it]"
     ]
    },
    {
     "name": "stdout",
     "output_type": "stream",
     "text": [
      "Using Chrome with user agent: Mozilla/5.0 (Macintosh; Intel Mac OS X 10_15_7) AppleWebKit/537.36 (KHTML, like Gecko) Chrome/99.0.4844.84 Safari/537.36\n",
      "Error scraping url https://batdongsan.com.vn/cho-thue-nha-tro-phong-tro-duong-pham-hung-phuong-4-15/cho-gia-re-tai-noi-dai-25m2-moi-cua-so-thoang-nt-co-ban-3-5-trieu-th-pr42526789: 're__icon-front-view'\n"
     ]
    },
    {
     "name": "stderr",
     "output_type": "stream",
     "text": [
      "Processing batches:  38%|███▊      | 441/1161 [58:48<2:37:20, 13.11s/it]"
     ]
    },
    {
     "name": "stdout",
     "output_type": "stream",
     "text": [
      "Using Chrome with user agent: Mozilla/5.0 (Macintosh; Intel Mac OS X 10_15_7) AppleWebKit/537.36 (KHTML, like Gecko) Chrome/100.0.4896.127 Safari/537.36\n",
      "Error scraping url https://batdongsan.com.vn/cho-thue-can-ho-chung-cu-duong-so-9a-xa-binh-hung-1-prj-sai-gon-mia/cho-office-tel-saigon-de-o-full-noi-that-35m2-chi-8-5tr-thang-newhousegroup-pr42754720: 're__icon-front-view'\n"
     ]
    },
    {
     "name": "stderr",
     "output_type": "stream",
     "text": [
      "Processing batches:  38%|███▊      | 442/1161 [58:57<2:24:59, 12.10s/it]"
     ]
    },
    {
     "name": "stdout",
     "output_type": "stream",
     "text": [
      "Using Chrome with user agent: Mozilla/5.0 (Windows NT 10.0; Win64; x64) AppleWebKit/537.36 (KHTML, like Gecko) Chrome/100.0.4896.127 Safari/537.36\n",
      "Error scraping url https://batdongsan.com.vn/cho-thue-nha-tro-phong-tro-duong-dang-thuy-tram-phuong-13-7/cho-co-gac-cua-so-thoang-nt-co-ban-gan-dh-van-lang-hutech-pr42755330: 're__icon-clock'\n"
     ]
    },
    {
     "name": "stderr",
     "output_type": "stream",
     "text": [
      "Processing batches:  38%|███▊      | 443/1161 [59:09<2:22:23, 11.90s/it]"
     ]
    },
    {
     "name": "stdout",
     "output_type": "stream",
     "text": [
      "Using Chrome with user agent: Mozilla/5.0 (Macintosh; Intel Mac OS X 10_15_7) AppleWebKit/537.36 (KHTML, like Gecko) Chrome/100.0.4896.127 Safari/537.36\n"
     ]
    },
    {
     "name": "stderr",
     "output_type": "stream",
     "text": [
      "Processing batches:  38%|███▊      | 444/1161 [59:17<2:07:29, 10.67s/it]"
     ]
    },
    {
     "name": "stdout",
     "output_type": "stream",
     "text": [
      "Error scraping url https://batdongsan.com.vn/cho-thue-nha-tro-phong-tro-duong-nguyen-tri-phuong-1-phuong-9-9/cho-q10-tang-tret-fuff-noi-that-tolet-rieng-3tr5-pr42195954: 're__icon-road'\n",
      "Error scraping url https://batdongsan.com.vn/cho-thue-can-ho-chung-cu-duong-nguyen-luong-bang-1-phuong-tan-phu-19-prj-hung-phuc-premier/c-gap-cao-cap-pmh-view-biet-thu-noi-that-cao-cap-lh-pr42754802: 're__icon-front-view'\n"
     ]
    },
    {
     "name": "stderr",
     "output_type": "stream",
     "text": [
      "Processing batches:  38%|███▊      | 445/1161 [59:17<1:30:01,  7.54s/it]"
     ]
    },
    {
     "name": "stdout",
     "output_type": "stream",
     "text": [
      "First method failed: [Errno 2] No such file or directory: '/Users/macbook/Library/Application Support/undetected_chromedriver/undetected/chromedriver-mac-x64/chromedriver' -> '/Users/macbook/Library/Application Support/undetected_chromedriver/undetected_chromedriver'\n",
      "Using Chrome driver at: /Users/macbook/.wdm/drivers/chromedriver/mac64/135.0.7049.95/chromedriver-mac-arm64/chromedriver\n"
     ]
    },
    {
     "name": "stderr",
     "output_type": "stream",
     "text": [
      "could not detect version_main.therefore, we are assuming it is chrome 108 or higher\n"
     ]
    },
    {
     "name": "stdout",
     "output_type": "stream",
     "text": [
      "Using Chrome with user agent: Mozilla/5.0 (Windows NT 10.0; Win64; x64) AppleWebKit/537.36 (KHTML, like Gecko) Chrome/99.0.4844.84 Safari/537.36\n"
     ]
    },
    {
     "name": "stderr",
     "output_type": "stream",
     "text": [
      "Processing batches:  38%|███▊      | 446/1161 [59:24<1:28:35,  7.43s/it]"
     ]
    },
    {
     "name": "stdout",
     "output_type": "stream",
     "text": [
      "Error scraping url https://batdongsan.com.vn/cho-thue-can-ho-chung-cu-mini-duong-hoang-trong-mau-phuong-tan-hung-14/khai-truong-1pn-full-noi-that-ngay-khu-him-lam-gan-lotte-rmit-vong-xoay-trung-son-tai-quan-7-pr42754712: 're__icon-front-view'\n",
      "Using Chrome with user agent: Mozilla/5.0 (Macintosh; Intel Mac OS X 10_15_7) AppleWebKit/537.36 (KHTML, like Gecko) Chrome/100.0.4896.127 Safari/537.36\n",
      "Error scraping url https://batdongsan.com.vn/cho-thue-can-ho-chung-cu-duong-truong-luu-phuong-long-truong-prj-chung-cu-mt-eastmark-city/chinh-chu-c-view-boi-cuc-dep-63m2-6tr-th-pr41706894: 're__icon-front-view'\n"
     ]
    },
    {
     "name": "stderr",
     "output_type": "stream",
     "text": [
      "Processing batches:  39%|███▊      | 447/1161 [59:38<1:52:45,  9.48s/it]"
     ]
    },
    {
     "name": "stdout",
     "output_type": "stream",
     "text": [
      "Using Chrome with user agent: Mozilla/5.0 (Windows NT 10.0; Win64; x64) AppleWebKit/537.36 (KHTML, like Gecko) Chrome/99.0.4844.84 Safari/537.36\n"
     ]
    },
    {
     "name": "stderr",
     "output_type": "stream",
     "text": [
      "Processing batches:  39%|███▊      | 448/1161 [59:46<1:45:47,  8.90s/it]"
     ]
    },
    {
     "name": "stdout",
     "output_type": "stream",
     "text": [
      "Error scraping url https://batdongsan.com.vn/cho-thue-can-ho-chung-cu-mini-duong-dao-duy-anh-phuong-9-12/cho-35m2-9-4-trieu-p-9-phu-nhuan-hcm-gia-sieu-hoi-pr42673470: 're__icon-electricity'\n",
      "Using Chrome with user agent: Mozilla/5.0 (Windows NT 10.0; Win64; x64) AppleWebKit/537.36 (KHTML, like Gecko) Chrome/100.0.4896.127 Safari/537.36\n",
      "Second method failed: Message: Can not connect to the Service /Users/macbook/.wdm/drivers/chromedriver/mac64/135.0.7049.95/chromedriver-mac-arm64/chromedriver\n",
      "\n",
      "Error scraping url https://batdongsan.com.vn/cho-thue-can-ho-chung-cu-pho-ta-quang-buu-phuong-5-11-prj-khu-can-ho-chanh-hung-giai-viet/toi-c-nhanh-150m2-3png-2wc-day-du-noi-that-chi-16trieu-pr41074481: HTTPConnectionPool(host='localhost', port=58728): Read timed out. (read timeout=120)\n"
     ]
    },
    {
     "name": "stderr",
     "output_type": "stream",
     "text": [
      "Processing batches:  39%|███▊      | 449/1161 [59:55<1:47:10,  9.03s/it]"
     ]
    },
    {
     "name": "stdout",
     "output_type": "stream",
     "text": [
      "Error scraping url https://batdongsan.com.vn/cho-thue-can-ho-chung-cu-duong-pham-phu-thu-phuong-11-10-prj-bay-hien-tower/c-cc-tan-binh-dt-100m-3pn-2wc-gia-12tr-bao-dep-lh-0703-445-188-tran-pr42754710: 're__icon-electricity'\n"
     ]
    },
    {
     "name": "stderr",
     "output_type": "stream",
     "text": [
      "Processing batches:  39%|███▉      | 450/1161 [59:57<1:20:56,  6.83s/it]"
     ]
    },
    {
     "name": "stdout",
     "output_type": "stream",
     "text": [
      "Using Chrome with user agent: Mozilla/5.0 (Windows NT 10.0; Win64; x64) AppleWebKit/537.36 (KHTML, like Gecko) Chrome/99.0.4844.84 Safari/537.36\n",
      "Using Chrome with user agent: Mozilla/5.0 (Windows NT 10.0; Win64; x64) AppleWebKit/537.36 (KHTML, like Gecko) Chrome/99.0.4844.84 Safari/537.36\n",
      "Error scraping url https://batdongsan.com.vn/cho-thue-can-ho-chung-cu-duong-3-2-2-phuong-12-5-prj-hado-centrosa-garden/chinh-chu-cho-goc-3phong-full-noi-that-bc-dong-nam-gia-tot-nhat-ha-do-q10-pr41147657: 're__icon-private-house'\n"
     ]
    },
    {
     "name": "stderr",
     "output_type": "stream",
     "text": [
      "Processing batches:  39%|███▉      | 451/1161 [1:00:06<1:28:29,  7.48s/it]"
     ]
    },
    {
     "name": "stdout",
     "output_type": "stream",
     "text": [
      "Using Chrome with user agent: Mozilla/5.0 (Windows NT 10.0; Win64; x64) AppleWebKit/537.36 (KHTML, like Gecko) Chrome/99.0.4844.84 Safari/537.36\n"
     ]
    },
    {
     "name": "stderr",
     "output_type": "stream",
     "text": [
      "Processing batches:  39%|███▉      | 452/1161 [1:00:23<2:01:03, 10.24s/it]"
     ]
    },
    {
     "name": "stdout",
     "output_type": "stream",
     "text": [
      "All Chrome initialization methods failed: Message: Can not connect to the Service /Users/macbook/.wdm/drivers/chromedriver/mac64/135.0.7049.95/chromedriver-mac-arm64/chromedriver\n",
      "\n",
      "Using Chrome with user agent: Mozilla/5.0 (Macintosh; Intel Mac OS X 10_15_7) AppleWebKit/537.36 (KHTML, like Gecko) Chrome/100.0.4896.127 Safari/537.36\n",
      "Error scraping url https://batdongsan.com.vn/cho-thue-can-ho-chung-cu-duong-kinh-duong-vuong-phuong-an-lac-a-prj-moonlight-boulevard/c-san-vuon-dt-126m2-full-noi-that-14tr-thang-lh-pr42722208: 're__icon-front-view'\n"
     ]
    },
    {
     "name": "stderr",
     "output_type": "stream",
     "text": [
      "Processing batches:  39%|███▉      | 453/1161 [1:00:32<1:57:40,  9.97s/it]"
     ]
    },
    {
     "name": "stdout",
     "output_type": "stream",
     "text": [
      "Using Chrome with user agent: Mozilla/5.0 (Macintosh; Intel Mac OS X 10_15_7) AppleWebKit/537.36 (KHTML, like Gecko) Chrome/99.0.4844.84 Safari/537.36\n",
      "Error scraping url https://batdongsan.com.vn/cho-thue-can-ho-chung-cu-duong-trinh-quang-nghi-xa-phong-phu-4-prj-lovera-vista/cap-nhat-gio-hang-cho-gia-tot-ngay-15-06-2023-pr37457525: 're__icon-front-view'\n"
     ]
    },
    {
     "name": "stderr",
     "output_type": "stream",
     "text": [
      "Processing batches:  39%|███▉      | 455/1161 [1:00:39<1:14:19,  6.32s/it]"
     ]
    },
    {
     "name": "stdout",
     "output_type": "stream",
     "text": [
      "Error scraping url https://batdongsan.com.vn/cho-thue-can-ho-chung-cu-mini-duong-binh-loi-phuong-13-7/c-dich-vu-2-png-ngu-noi-that-moi-day-du-co-bancol-rong-pr42753990: 're__icon-clock'\n",
      "Using Chrome with user agent: Mozilla/5.0 (Windows NT 10.0; Win64; x64) AppleWebKit/537.36 (KHTML, like Gecko) Chrome/100.0.4896.127 Safari/537.36\n",
      "Using Chrome with user agent: Mozilla/5.0 (Macintosh; Intel Mac OS X 10_15_7) AppleWebKit/537.36 (KHTML, like Gecko) Chrome/100.0.4896.127 Safari/537.36\n"
     ]
    },
    {
     "name": "stderr",
     "output_type": "stream",
     "text": [
      "Processing batches:  39%|███▉      | 456/1161 [1:00:47<1:20:21,  6.84s/it]"
     ]
    },
    {
     "name": "stdout",
     "output_type": "stream",
     "text": [
      "Error scraping url https://batdongsan.com.vn/cho-thue-nha-tro-phong-tro-duong-thanh-thai-phuong-14-5/-3-61-p14-quan-10-dt-25-m2-co-gac-full-noi-that-gia-5-1-trieu-thang-pr41913077: 're__icon-document'\n",
      "Using Chrome with user agent: Mozilla/5.0 (Macintosh; Intel Mac OS X 10_15_7) AppleWebKit/537.36 (KHTML, like Gecko) Chrome/99.0.4844.84 Safari/537.36\n"
     ]
    },
    {
     "name": "stderr",
     "output_type": "stream",
     "text": [
      "Processing batches:  39%|███▉      | 457/1161 [1:00:54<1:23:41,  7.13s/it]"
     ]
    },
    {
     "name": "stdout",
     "output_type": "stream",
     "text": [
      "Error scraping url https://batdongsan.com.vn/cho-thue-can-ho-chung-cu-duong-nguyen-xien-phuong-long-binh-3-prj-glory-heights-vinhomes-grand-park/cho-nha-moi-100-2pn-70m2-height-view-quang-truong-nt-bep-rem-view-quang-truong-pr42753621: 're__icon-front-view'\n",
      "Using Chrome with user agent: Mozilla/5.0 (Macintosh; Intel Mac OS X 10_15_7) AppleWebKit/537.36 (KHTML, like Gecko) Chrome/99.0.4844.84 Safari/537.36\n",
      "Error scraping url https://batdongsan.com.vn/cho-thue-can-ho-chung-cu-duong-nguyen-tri-phuong-1-phuong-8-7-prj-can-ho-lakai/chinh-chu-thien-chi-c-60m-2pn-tang-cao-tang-mat-chi-9-trieu-thang-pr42753763: 're__icon-front-view'\n"
     ]
    },
    {
     "name": "stderr",
     "output_type": "stream",
     "text": [
      "Processing batches:  39%|███▉      | 458/1161 [1:01:03<1:29:41,  7.65s/it]"
     ]
    },
    {
     "name": "stdout",
     "output_type": "stream",
     "text": [
      "Using Chrome with user agent: Mozilla/5.0 (Macintosh; Intel Mac OS X 10_15_7) AppleWebKit/537.36 (KHTML, like Gecko) Chrome/100.0.4896.127 Safari/537.36\n"
     ]
    },
    {
     "name": "stderr",
     "output_type": "stream",
     "text": [
      "Processing batches:  40%|███▉      | 459/1161 [1:01:11<1:29:22,  7.64s/it]"
     ]
    },
    {
     "name": "stdout",
     "output_type": "stream",
     "text": [
      "Error scraping url https://batdongsan.com.vn/cho-thue-can-ho-chung-cu-duong-nguyen-luong-bang-1-phuong-phu-my-9-prj-q7-boulevard/c-1pn-2pn-3pn-gia-bao-thi-truong-tu-4trieu-thang-lien-he-0968364060-pr31951371: 're__icon-document'\n",
      "Using Chrome with user agent: Mozilla/5.0 (Windows NT 10.0; Win64; x64) AppleWebKit/537.36 (KHTML, like Gecko) Chrome/99.0.4844.84 Safari/537.36\n"
     ]
    },
    {
     "name": "stderr",
     "output_type": "stream",
     "text": [
      "Service process refused to terminate gracefully with SIGTERM, escalating to SIGKILL.\n",
      "Traceback (most recent call last):\n",
      "  File \"/Users/macbook/Desktop/BecasaNetwork/crawl/scrapepage.py\", line 132, in init_driver\n",
      "    driver = uc.Chrome(version_main=135, options=options)  # Specify a version that works with your Chrome\n",
      "  File \"/Users/macbook/Desktop/BecasaNetwork/crawl/env/lib/python3.13/site-packages/undetected_chromedriver/__init__.py\", line 258, in __init__\n",
      "    self.patcher.auto()\n",
      "    ~~~~~~~~~~~~~~~~~^^\n",
      "  File \"/Users/macbook/Desktop/BecasaNetwork/crawl/env/lib/python3.13/site-packages/undetected_chromedriver/patcher.py\", line 178, in auto\n",
      "    self.unzip_package(self.fetch_package())\n",
      "    ~~~~~~~~~~~~~~~~~~^^^^^^^^^^^^^^^^^^^^^^\n",
      "  File \"/Users/macbook/Desktop/BecasaNetwork/crawl/env/lib/python3.13/site-packages/undetected_chromedriver/patcher.py\", line 310, in unzip_package\n",
      "    os.rename(os.path.join(self.zip_path, exe_path), self.executable_path)\n",
      "    ~~~~~~~~~^^^^^^^^^^^^^^^^^^^^^^^^^^^^^^^^^^^^^^^^^^^^^^^^^^^^^^^^^^^^^\n",
      "FileNotFoundError: [Errno 2] No such file or directory: '/Users/macbook/Library/Application Support/undetected_chromedriver/undetected/chromedriver-mac-x64/chromedriver' -> '/Users/macbook/Library/Application Support/undetected_chromedriver/undetected_chromedriver'\n",
      "\n",
      "During handling of the above exception, another exception occurred:\n",
      "\n",
      "Traceback (most recent call last):\n",
      "  File \"/Users/macbook/Desktop/BecasaNetwork/crawl/scrapepage.py\", line 139, in init_driver\n",
      "    driver = uc.Chrome(driver_executable_path=driver_path, options=options)\n",
      "  File \"/Users/macbook/Desktop/BecasaNetwork/crawl/env/lib/python3.13/site-packages/undetected_chromedriver/__init__.py\", line 466, in __init__\n",
      "    super(Chrome, self).__init__(\n",
      "    ~~~~~~~~~~~~~~~~~~~~~~~~~~~~^\n",
      "        service=service,\n",
      "        ^^^^^^^^^^^^^^^^\n",
      "        options=options,\n",
      "        ^^^^^^^^^^^^^^^^\n",
      "        keep_alive=keep_alive,\n",
      "        ^^^^^^^^^^^^^^^^^^^^^^\n",
      "    )\n",
      "    ^\n",
      "  File \"/Users/macbook/Desktop/BecasaNetwork/crawl/env/lib/python3.13/site-packages/selenium/webdriver/chrome/webdriver.py\", line 45, in __init__\n",
      "    super().__init__(\n",
      "    ~~~~~~~~~~~~~~~~^\n",
      "        browser_name=DesiredCapabilities.CHROME[\"browserName\"],\n",
      "        ^^^^^^^^^^^^^^^^^^^^^^^^^^^^^^^^^^^^^^^^^^^^^^^^^^^^^^^\n",
      "    ...<3 lines>...\n",
      "        keep_alive=keep_alive,\n",
      "        ^^^^^^^^^^^^^^^^^^^^^^\n",
      "    )\n",
      "    ^\n",
      "  File \"/Users/macbook/Desktop/BecasaNetwork/crawl/env/lib/python3.13/site-packages/selenium/webdriver/chromium/webdriver.py\", line 55, in __init__\n",
      "    self.service.start()\n",
      "    ~~~~~~~~~~~~~~~~~~^^\n",
      "  File \"/Users/macbook/Desktop/BecasaNetwork/crawl/env/lib/python3.13/site-packages/selenium/webdriver/common/service.py\", line 120, in start\n",
      "    raise WebDriverException(f\"Can not connect to the Service {self._path}\")\n",
      "selenium.common.exceptions.WebDriverException: Message: Can not connect to the Service /Users/macbook/.wdm/drivers/chromedriver/mac64/135.0.7049.95/chromedriver-mac-arm64/chromedriver\n",
      "\n",
      "\n",
      "During handling of the above exception, another exception occurred:\n",
      "\n",
      "Traceback (most recent call last):\n",
      "  File \"/Users/macbook/Desktop/BecasaNetwork/crawl/scrapepage.py\", line 166, in scrape_page\n",
      "    driver = init_driver()\n",
      "  File \"/Users/macbook/Desktop/BecasaNetwork/crawl/scrapepage.py\", line 147, in init_driver\n",
      "    driver = webdriver.Chrome(service=service, options=options)\n",
      "  File \"/Users/macbook/Desktop/BecasaNetwork/crawl/env/lib/python3.13/site-packages/selenium/webdriver/chrome/webdriver.py\", line 45, in __init__\n",
      "    super().__init__(\n",
      "    ~~~~~~~~~~~~~~~~^\n",
      "        browser_name=DesiredCapabilities.CHROME[\"browserName\"],\n",
      "        ^^^^^^^^^^^^^^^^^^^^^^^^^^^^^^^^^^^^^^^^^^^^^^^^^^^^^^^\n",
      "    ...<3 lines>...\n",
      "        keep_alive=keep_alive,\n",
      "        ^^^^^^^^^^^^^^^^^^^^^^\n",
      "    )\n",
      "    ^\n",
      "  File \"/Users/macbook/Desktop/BecasaNetwork/crawl/env/lib/python3.13/site-packages/selenium/webdriver/chromium/webdriver.py\", line 55, in __init__\n",
      "    self.service.start()\n",
      "    ~~~~~~~~~~~~~~~~~~^^\n",
      "  File \"/Users/macbook/Desktop/BecasaNetwork/crawl/env/lib/python3.13/site-packages/selenium/webdriver/common/service.py\", line 120, in start\n",
      "    raise WebDriverException(f\"Can not connect to the Service {self._path}\")\n",
      "selenium.common.exceptions.WebDriverException: Message: Can not connect to the Service /Users/macbook/.wdm/drivers/chromedriver/mac64/135.0.7049.95/chromedriver-mac-arm64/chromedriver\n",
      "\n",
      "\n",
      "During handling of the above exception, another exception occurred:\n",
      "\n",
      "UnboundLocalError: cannot access local variable 'url' where it is not associated with a value\n",
      "\n",
      "During handling of the above exception, another exception occurred:\n",
      "\n",
      "Traceback (most recent call last):\n",
      "  File \"/Users/macbook/Desktop/BecasaNetwork/crawl/env/lib/python3.13/site-packages/selenium/webdriver/common/service.py\", line 184, in _terminate_process\n",
      "    self.process.wait(60)\n",
      "    ~~~~~~~~~~~~~~~~~^^^^\n",
      "  File \"/opt/homebrew/Cellar/python@3.13/3.13.2/Frameworks/Python.framework/Versions/3.13/lib/python3.13/subprocess.py\", line 1276, in wait\n",
      "    return self._wait(timeout=timeout)\n",
      "           ~~~~~~~~~~^^^^^^^^^^^^^^^^^\n",
      "  File \"/opt/homebrew/Cellar/python@3.13/3.13.2/Frameworks/Python.framework/Versions/3.13/lib/python3.13/subprocess.py\", line 2060, in _wait\n",
      "    raise TimeoutExpired(self.args, timeout)\n",
      "subprocess.TimeoutExpired: Command '['/Users/macbook/.wdm/drivers/chromedriver/mac64/135.0.7049.95/chromedriver-mac-arm64/chromedriver', '--port=52950']' timed out after 60 seconds\n",
      "Processing batches:  40%|███▉      | 460/1161 [1:01:25<1:52:29,  9.63s/it]"
     ]
    },
    {
     "name": "stdout",
     "output_type": "stream",
     "text": [
      "Error processing batch ['https://batdongsan.com.vn/cho-thue-can-ho-chung-cu-phuong-tan-phong-9-prj-phu-my-hung/chuyen-c-cao-cap-3pn-2vs-130m2-tai-png-q7-35-trieu-vnd-pr42327768']: cannot access local variable 'url' where it is not associated with a value\n",
      "Error scraping url https://batdongsan.com.vn/cho-thue-can-ho-chung-cu-mini-duong-3-2-2-phuong-10-6/studio-ban-cong-ngay-3-thang-2-doi-dien-nha-hat-hoa-binh-quan-10-gan-ha-do-cao-thang-pr42698681: 're__icon-private-house'\n"
     ]
    },
    {
     "name": "stderr",
     "output_type": "stream",
     "text": [
      "Processing batches:  40%|███▉      | 461/1161 [1:01:27<1:26:15,  7.39s/it]"
     ]
    },
    {
     "name": "stdout",
     "output_type": "stream",
     "text": [
      "Using Chrome with user agent: Mozilla/5.0 (Macintosh; Intel Mac OS X 10_15_7) AppleWebKit/537.36 (KHTML, like Gecko) Chrome/99.0.4844.84 Safari/537.36\n",
      "Using Chrome with user agent: Mozilla/5.0 (Windows NT 10.0; Win64; x64) AppleWebKit/537.36 (KHTML, like Gecko) Chrome/100.0.4896.127 Safari/537.36\n",
      "Error scraping url https://batdongsan.com.vn/cho-thue-can-ho-chung-cu-duong-nguyen-thi-dinh-phuong-an-phu-prj-can-ho-dlusso/-17-trieu-vnd-69-m2-2pn-2wc-full-nt-view-tang-dep-tang-cao-pr42753829: 're__icon-front-view'\n"
     ]
    },
    {
     "name": "stderr",
     "output_type": "stream",
     "text": [
      "Processing batches:  40%|███▉      | 462/1161 [1:01:33<1:20:46,  6.93s/it]"
     ]
    },
    {
     "name": "stdout",
     "output_type": "stream",
     "text": [
      "Using Chrome with user agent: Mozilla/5.0 (Macintosh; Intel Mac OS X 10_15_7) AppleWebKit/537.36 (KHTML, like Gecko) Chrome/99.0.4844.84 Safari/537.36\n",
      "Error scraping url https://batdongsan.com.vn/cho-thue-can-ho-chung-cu-mini-duong-dien-bien-phu-phuong-17-1/-1pn-80m2-balcony-lon-thang-may-gan-sgc-vong-xoay-landmark81-bason-pr42742309: 're__icon-clock'\n"
     ]
    },
    {
     "name": "stderr",
     "output_type": "stream",
     "text": [
      "Processing batches:  40%|███▉      | 463/1161 [1:01:39<1:16:27,  6.57s/it]"
     ]
    },
    {
     "name": "stdout",
     "output_type": "stream",
     "text": [
      "Using Chrome with user agent: Mozilla/5.0 (Macintosh; Intel Mac OS X 10_15_7) AppleWebKit/537.36 (KHTML, like Gecko) Chrome/100.0.4896.127 Safari/537.36\n"
     ]
    },
    {
     "name": "stderr",
     "output_type": "stream",
     "text": [
      "Processing batches:  40%|███▉      | 464/1161 [1:01:47<1:20:38,  6.94s/it]"
     ]
    },
    {
     "name": "stdout",
     "output_type": "stream",
     "text": [
      "Error scraping url https://batdongsan.com.vn/cho-thue-nha-tro-phong-tro-duong-phan-van-tri-phuong-5-15/-dep-ngay-emart-go-vap-gan-lang-iuh-san-noi-that-moi-100-pr42610929: 're__icon-front-view'\n",
      "Using Chrome with user agent: Mozilla/5.0 (Windows NT 10.0; Win64; x64) AppleWebKit/537.36 (KHTML, like Gecko) Chrome/100.0.4896.127 Safari/537.36\n"
     ]
    },
    {
     "name": "stderr",
     "output_type": "stream",
     "text": [
      "Processing batches:  40%|████      | 465/1161 [1:01:53<1:19:44,  6.87s/it]"
     ]
    },
    {
     "name": "stdout",
     "output_type": "stream",
     "text": [
      "Error scraping url https://batdongsan.com.vn/cho-thue-nha-tro-phong-tro-duong-le-duc-tho-phuong-6-14/-bancol-cua-so-thoang-ngay-dh-cl-cs3-iuh-cong-vien-van-hoa-go-vap-emart-full-nt-an-ninh-pr42752219: 're__icon-clock'\n",
      "Using Chrome with user agent: Mozilla/5.0 (Macintosh; Intel Mac OS X 10_15_7) AppleWebKit/537.36 (KHTML, like Gecko) Chrome/99.0.4844.84 Safari/537.36\n",
      "Error scraping url https://batdongsan.com.vn/cho-thue-can-ho-chung-cu-phuong-phu-my-9-prj-the-era-town/-147-m2-co-3-png-ngu-noi-that-c-13-tr-thang-lh-pr42172686: 're__icon-front-view'\n"
     ]
    },
    {
     "name": "stderr",
     "output_type": "stream",
     "text": [
      "Processing batches:  40%|████      | 466/1161 [1:02:03<1:28:20,  7.63s/it]"
     ]
    },
    {
     "name": "stdout",
     "output_type": "stream",
     "text": [
      "Using Chrome with user agent: Mozilla/5.0 (Macintosh; Intel Mac OS X 10_15_7) AppleWebKit/537.36 (KHTML, like Gecko) Chrome/100.0.4896.127 Safari/537.36\n",
      "Error scraping url https://batdongsan.com.vn/cho-thue-nha-tro-phong-tro-duong-ho-van-long-phuong-binh-hung-hoa-b/-co-gac-lung-208-a-tan-2-trieu-chinh-chu-pr42406844: 're__icon-clock'\n"
     ]
    },
    {
     "name": "stderr",
     "output_type": "stream",
     "text": [
      "Processing batches:  40%|████      | 467/1161 [1:02:14<1:38:59,  8.56s/it]"
     ]
    },
    {
     "name": "stdout",
     "output_type": "stream",
     "text": [
      "Using Chrome with user agent: Mozilla/5.0 (Windows NT 10.0; Win64; x64) AppleWebKit/537.36 (KHTML, like Gecko) Chrome/100.0.4896.127 Safari/537.36\n",
      "Error scraping url https://batdongsan.com.vn/cho-thue-can-ho-chung-cu-duong-huynh-tan-phat-phuong-tan-phu-19-prj-riviera-point/c-3-png-ngu-tai-gia-cuc-chat-25-trieu-vnd-dien-tich-148m2-pr41758799: 're__icon-document'\n"
     ]
    },
    {
     "name": "stderr",
     "output_type": "stream",
     "text": [
      "Processing batches:  40%|████      | 468/1161 [1:02:32<2:12:17, 11.45s/it]"
     ]
    },
    {
     "name": "stdout",
     "output_type": "stream",
     "text": [
      "Using Chrome with user agent: Mozilla/5.0 (Windows NT 10.0; Win64; x64) AppleWebKit/537.36 (KHTML, like Gecko) Chrome/99.0.4844.84 Safari/537.36\n"
     ]
    },
    {
     "name": "stderr",
     "output_type": "stream",
     "text": [
      "Processing batches:  40%|████      | 469/1161 [1:02:40<2:01:15, 10.51s/it]"
     ]
    },
    {
     "name": "stdout",
     "output_type": "stream",
     "text": [
      "Error scraping url https://batdongsan.com.vn/cho-thue-can-ho-chung-cu-mini-duong-thanh-thai-phuong-14-5/c-1-png-ngu-tach-bep-gia-re-tai-q10-gan-dai-c-ueh-huflix-van-hanh-mall-pr42753134: 're__icon-clock'\n",
      "Using Chrome with user agent: Mozilla/5.0 (Windows NT 10.0; Win64; x64) AppleWebKit/537.36 (KHTML, like Gecko) Chrome/99.0.4844.84 Safari/537.36\n"
     ]
    },
    {
     "name": "stderr",
     "output_type": "stream",
     "text": [
      "Processing batches:  40%|████      | 470/1161 [1:02:49<1:54:31,  9.94s/it]"
     ]
    },
    {
     "name": "stdout",
     "output_type": "stream",
     "text": [
      "Error scraping url https://batdongsan.com.vn/cho-thue-can-ho-chung-cu-pho-ton-duc-thang-phuong-ben-nghe-prj-vinhomes-golden-river-ba-son/c-vinmes-30-trieu-77-m2-quan-1-hcm-gia-uu-dai-uy-tin-pr42743617: 're__icon-front-view'\n",
      "Error scraping url https://batdongsan.com.vn/cho-thue-nha-tro-phong-tro-duong-duong-quang-ham-phuong-6-14/-moi-xay-bancol-cua-so-troi-3tr5-25m2-go-vap-pr42753276: 're__icon-clock'\n"
     ]
    },
    {
     "name": "stderr",
     "output_type": "stream",
     "text": [
      "Processing batches:  41%|████      | 471/1161 [1:02:50<1:24:30,  7.35s/it]"
     ]
    },
    {
     "name": "stdout",
     "output_type": "stream",
     "text": [
      "Using Chrome with user agent: Mozilla/5.0 (Windows NT 10.0; Win64; x64) AppleWebKit/537.36 (KHTML, like Gecko) Chrome/99.0.4844.84 Safari/537.36\n",
      "Using Chrome with user agent: Mozilla/5.0 (Windows NT 10.0; Win64; x64) AppleWebKit/537.36 (KHTML, like Gecko) Chrome/100.0.4896.127 Safari/537.36\n",
      "Error scraping url https://batdongsan.com.vn/cho-thue-can-ho-chung-cu-duong-xo-viet-nghe-tinh-phuong-21-prj-chung-cu-my-duc/-220-xvnt-p21-bt-2p-ngu-75m2-gia-10tr-th-pr42753549: 're__icon-clock'\n"
     ]
    },
    {
     "name": "stderr",
     "output_type": "stream",
     "text": [
      "Processing batches:  41%|████      | 472/1161 [1:03:01<1:36:45,  8.43s/it]"
     ]
    },
    {
     "name": "stdout",
     "output_type": "stream",
     "text": [
      "Error scraping url https://batdongsan.com.vn/cho-thue-can-ho-chung-cu-duong-nguyen-huu-tho-phuong-tan-hung-14-prj-sunrise-city-view/-2pn-2wc-full-noi-that-cao-cap-san-key-xem-nha-pr42751962: 're__icon-front-view'\n"
     ]
    },
    {
     "name": "stderr",
     "output_type": "stream",
     "text": [
      "Processing batches:  41%|████      | 473/1161 [1:03:03<1:14:40,  6.51s/it]"
     ]
    },
    {
     "name": "stdout",
     "output_type": "stream",
     "text": [
      "Using Chrome with user agent: Mozilla/5.0 (Macintosh; Intel Mac OS X 10_15_7) AppleWebKit/537.36 (KHTML, like Gecko) Chrome/99.0.4844.84 Safari/537.36\n",
      "Using Chrome with user agent: Mozilla/5.0 (Macintosh; Intel Mac OS X 10_15_7) AppleWebKit/537.36 (KHTML, like Gecko) Chrome/99.0.4844.84 Safari/537.36\n"
     ]
    },
    {
     "name": "stderr",
     "output_type": "stream",
     "text": [
      "Processing batches:  41%|████      | 474/1161 [1:03:10<1:17:39,  6.78s/it]"
     ]
    },
    {
     "name": "stdout",
     "output_type": "stream",
     "text": [
      "Error scraping url https://batdongsan.com.vn/cho-thue-can-ho-chung-cu-duong-nguyen-van-linh-phuong-tan-thuan-tay-1-prj-eco-green-sai-gon/gio-hang-cho-1-2-3pn-tu-ntcb-den-full-nt-gia-re-nhat-thi-truong-lh-em-pr42238054: 're__icon-clock'\n",
      "Using Chrome with user agent: Mozilla/5.0 (Windows NT 10.0; Win64; x64) AppleWebKit/537.36 (KHTML, like Gecko) Chrome/99.0.4844.84 Safari/537.36\n",
      "Error scraping url https://batdongsan.com.vn/cho-thue-can-ho-chung-cu-mini-duong-ly-phuc-man-phuong-binh-thuan-3/chdv-co-gac-moi-100-full-nt-gan-crescent-mall-phu-my-hung-pr42752978: 're__icon-electricity'\n"
     ]
    },
    {
     "name": "stderr",
     "output_type": "stream",
     "text": [
      "Processing batches:  41%|████      | 475/1161 [1:03:19<1:25:04,  7.44s/it]"
     ]
    },
    {
     "name": "stdout",
     "output_type": "stream",
     "text": [
      "Using Chrome with user agent: Mozilla/5.0 (Windows NT 10.0; Win64; x64) AppleWebKit/537.36 (KHTML, like Gecko) Chrome/100.0.4896.127 Safari/537.36\n",
      "Error scraping url https://batdongsan.com.vn/cho-thue-can-ho-chung-cu-pho-ta-quang-buu-phuong-7-6-prj-conic-riverside/gio-hang-cho-thang-11-2024-pr41391234: 're__icon-front-view'\n"
     ]
    },
    {
     "name": "stderr",
     "output_type": "stream",
     "text": [
      "Processing batches:  41%|████      | 476/1161 [1:03:24<1:16:52,  6.73s/it]"
     ]
    },
    {
     "name": "stdout",
     "output_type": "stream",
     "text": [
      "Using Chrome with user agent: Mozilla/5.0 (Windows NT 10.0; Win64; x64) AppleWebKit/537.36 (KHTML, like Gecko) Chrome/100.0.4896.127 Safari/537.36\n",
      "Error scraping url https://batdongsan.com.vn/cho-thue-can-ho-chung-cu-duong-hoang-van-thu-phuong-2-22-prj-park-legend/cho-tan-binh-dt-70m2-2pn-gia-15tr-th-lh-dung-pr42599863: 're__icon-clock'\n"
     ]
    },
    {
     "name": "stderr",
     "output_type": "stream",
     "text": [
      "Processing batches:  41%|████      | 477/1161 [1:03:30<1:13:43,  6.47s/it]"
     ]
    },
    {
     "name": "stdout",
     "output_type": "stream",
     "text": [
      "Using Chrome with user agent: Mozilla/5.0 (Windows NT 10.0; Win64; x64) AppleWebKit/537.36 (KHTML, like Gecko) Chrome/99.0.4844.84 Safari/537.36\n",
      "Error scraping url https://batdongsan.com.vn/cho-thue-can-ho-chung-cu-duong-dien-bien-phu-phuong-22-prj-vinhomes-central-park/chuyen-c-vinmes-gia-chi-tu-1pn-16tr-2pn-20tr-3pn-28tr-4pn-50tr-pr42135312?c=d1: 're__icon-front-view'\n"
     ]
    },
    {
     "name": "stderr",
     "output_type": "stream",
     "text": [
      "Processing batches:  41%|████      | 478/1161 [1:03:42<1:30:18,  7.93s/it]"
     ]
    },
    {
     "name": "stdout",
     "output_type": "stream",
     "text": [
      "Using Chrome with user agent: Mozilla/5.0 (Windows NT 10.0; Win64; x64) AppleWebKit/537.36 (KHTML, like Gecko) Chrome/99.0.4844.84 Safari/537.36\n",
      "Error scraping url https://batdongsan.com.vn/cho-thue-can-ho-chung-cu-duong-ben-van-don-phuong-12-prj-the-tresor/gia-sieu-re-3pn-105m2-gia-22-tr-view-bitexco-ngam-phao-bong-pr42753789: 're__icon-clock'\n"
     ]
    },
    {
     "name": "stderr",
     "output_type": "stream",
     "text": [
      "Processing batches:  41%|████▏     | 479/1161 [1:03:47<1:22:28,  7.26s/it]"
     ]
    },
    {
     "name": "stdout",
     "output_type": "stream",
     "text": [
      "Using Chrome with user agent: Mozilla/5.0 (Macintosh; Intel Mac OS X 10_15_7) AppleWebKit/537.36 (KHTML, like Gecko) Chrome/100.0.4896.127 Safari/537.36\n",
      "Error scraping url https://batdongsan.com.vn/cho-thue-can-ho-chung-cu-duong-16-5-phuong-tan-phu-19-prj-midtown-phu-my-hung/-cho-2pn-rong-100m2-view-thoang-full-noi-that-gia-24tr-thang-pr42603680: 're__icon-front-view'\n"
     ]
    },
    {
     "name": "stderr",
     "output_type": "stream",
     "text": [
      "Processing batches:  41%|████▏     | 481/1161 [1:03:57<1:07:26,  5.95s/it]"
     ]
    },
    {
     "name": "stdout",
     "output_type": "stream",
     "text": [
      "Error scraping url https://batdongsan.com.vn/cho-thue-can-ho-chung-cu-duong-nguyen-dinh-chieu-phuong-da-kao-prj-the-marq/2-phong-ngu-2-wc-full-noi-that-cao-cap-dien-tich-71-82m-tang-cao-view-dep-huong-landmark-81-pr42644592: 're__icon-clock'\n",
      "Using Chrome with user agent: Mozilla/5.0 (Macintosh; Intel Mac OS X 10_15_7) AppleWebKit/537.36 (KHTML, like Gecko) Chrome/100.0.4896.127 Safari/537.36\n",
      "Using Chrome with user agent: Mozilla/5.0 (Macintosh; Intel Mac OS X 10_15_7) AppleWebKit/537.36 (KHTML, like Gecko) Chrome/99.0.4844.84 Safari/537.36\n"
     ]
    },
    {
     "name": "stderr",
     "output_type": "stream",
     "text": [
      "Processing batches:  42%|████▏     | 482/1161 [1:04:02<1:03:12,  5.58s/it]"
     ]
    },
    {
     "name": "stdout",
     "output_type": "stream",
     "text": [
      "Error scraping url https://batdongsan.com.vn/cho-thue-can-ho-chung-cu-duong-vo-van-kiet-phuong-an-lac-6-prj-akari-city-nam-long/c-79m2-goc-2-png-ngu-2-toilet-co-ban-cong-va-lo-gia-pr42473760: 're__icon-front-view'\n",
      "Using Chrome with user agent: Mozilla/5.0 (Macintosh; Intel Mac OS X 10_15_7) AppleWebKit/537.36 (KHTML, like Gecko) Chrome/100.0.4896.127 Safari/537.36\n"
     ]
    },
    {
     "name": "stderr",
     "output_type": "stream",
     "text": [
      "Processing batches:  42%|████▏     | 483/1161 [1:04:10<1:13:03,  6.46s/it]"
     ]
    },
    {
     "name": "stdout",
     "output_type": "stream",
     "text": [
      "Error scraping url https://batdongsan.com.vn/cho-thue-can-ho-chung-cu-duong-ton-dat-tien-phuong-tan-phu-19-prj-garden-court-1/c-gap-grand-1-pmh-q7-gia-17-trieu-lh-manh-0909-297-271-0888143322-pr33024007: 're__icon-front-view'\n",
      "Error scraping url https://batdongsan.com.vn/cho-thue-can-ho-chung-cu-duong-nguyen-duc-canh-phuong-tan-phong-9-prj-my-phat/cho-chcc-pmh-q7-dt-137m2-3pn-2wc-gia-29-trieu-lh-manh-pr38069741: 're__icon-front-view'\n"
     ]
    },
    {
     "name": "stderr",
     "output_type": "stream",
     "text": [
      "Processing batches:  42%|████▏     | 484/1161 [1:04:12<57:27,  5.09s/it]  "
     ]
    },
    {
     "name": "stdout",
     "output_type": "stream",
     "text": [
      "Using Chrome with user agent: Mozilla/5.0 (Macintosh; Intel Mac OS X 10_15_7) AppleWebKit/537.36 (KHTML, like Gecko) Chrome/100.0.4896.127 Safari/537.36\n",
      "Using Chrome with user agent: Mozilla/5.0 (Macintosh; Intel Mac OS X 10_15_7) AppleWebKit/537.36 (KHTML, like Gecko) Chrome/99.0.4844.84 Safari/537.36\n",
      "Error scraping url https://batdongsan.com.vn/cho-thue-nha-tro-phong-tro-duong-ban-co-phuong-13-1/cho-ng-quan-3-gan-cho-ng-truong-dan-chu-giap-quan-1-pr42752352: 're__icon-clock'\n"
     ]
    },
    {
     "name": "stderr",
     "output_type": "stream",
     "text": [
      "Processing batches:  42%|████▏     | 485/1161 [1:04:31<1:44:44,  9.30s/it]"
     ]
    },
    {
     "name": "stdout",
     "output_type": "stream",
     "text": [
      "Using Chrome with user agent: Mozilla/5.0 (Macintosh; Intel Mac OS X 10_15_7) AppleWebKit/537.36 (KHTML, like Gecko) Chrome/99.0.4844.84 Safari/537.36\n",
      "Error scraping url https://batdongsan.com.vn/cho-thue-can-ho-chung-cu-mini-duong-thao-dien-phuong-thao-dien/cho-cc-1pn-1wc-tai-4-5-trieu-45m2-pr42751764: 're__icon-clock'\n"
     ]
    },
    {
     "name": "stderr",
     "output_type": "stream",
     "text": [
      "Processing batches:  42%|████▏     | 486/1161 [1:04:40<1:40:47,  8.96s/it]"
     ]
    },
    {
     "name": "stdout",
     "output_type": "stream",
     "text": [
      "Using Chrome with user agent: Mozilla/5.0 (Macintosh; Intel Mac OS X 10_15_7) AppleWebKit/537.36 (KHTML, like Gecko) Chrome/100.0.4896.127 Safari/537.36\n"
     ]
    },
    {
     "name": "stderr",
     "output_type": "stream",
     "text": [
      "Processing batches:  42%|████▏     | 487/1161 [1:04:52<1:53:06, 10.07s/it]"
     ]
    },
    {
     "name": "stdout",
     "output_type": "stream",
     "text": [
      "Error scraping url https://batdongsan.com.vn/cho-thue-can-ho-chung-cu-duong-nguyen-huu-canh-phuong-22-prj-sunwah-pearl/cho-cc-hoa-hau-sieu-dep-gia-68-85-trieu-123-28m2-3pn-2wc-binh-thanh-hcm-pr42409336: 're__icon-front-view'\n"
     ]
    },
    {
     "name": "stderr",
     "output_type": "stream",
     "text": [
      "Processing batches:  42%|████▏     | 488/1161 [1:04:54<1:25:07,  7.59s/it]"
     ]
    },
    {
     "name": "stdout",
     "output_type": "stream",
     "text": [
      "Using Chrome with user agent: Mozilla/5.0 (Windows NT 10.0; Win64; x64) AppleWebKit/537.36 (KHTML, like Gecko) Chrome/99.0.4844.84 Safari/537.36\n",
      "Using Chrome with user agent: Mozilla/5.0 (Windows NT 10.0; Win64; x64) AppleWebKit/537.36 (KHTML, like Gecko) Chrome/100.0.4896.127 Safari/537.36\n",
      "Error scraping url https://batdongsan.com.vn/cho-thue-can-ho-chung-cu-duong-nguyen-van-linh-phuong-tan-phong-9-prj-happy-valley/giam-gia-c-gap-3pn-phu-my-hung-q7-nha-moi-100-gia-tot-nhat-pr42738137: 're__icon-clock'\n"
     ]
    },
    {
     "name": "stderr",
     "output_type": "stream",
     "text": [
      "Processing batches:  42%|████▏     | 489/1161 [1:05:07<1:42:20,  9.14s/it]"
     ]
    },
    {
     "name": "stdout",
     "output_type": "stream",
     "text": [
      "Using Chrome with user agent: Mozilla/5.0 (Macintosh; Intel Mac OS X 10_15_7) AppleWebKit/537.36 (KHTML, like Gecko) Chrome/99.0.4844.84 Safari/537.36\n"
     ]
    },
    {
     "name": "stderr",
     "output_type": "stream",
     "text": [
      "Processing batches:  42%|████▏     | 490/1161 [1:05:15<1:37:25,  8.71s/it]"
     ]
    },
    {
     "name": "stdout",
     "output_type": "stream",
     "text": [
      "Error scraping url https://batdongsan.com.vn/cho-thue-nha-tro-phong-tro-duong-bui-huu-nghia-phuong-2-20/studio-cua-so-bancol-thoang-ngay-dh-hutech-gtvt-cho-ba-chieu-full-nt-an-ninh-full-nt-binh-thanh-pr42751974: 're__icon-clock'\n",
      "Using Chrome with user agent: Mozilla/5.0 (Macintosh; Intel Mac OS X 10_15_7) AppleWebKit/537.36 (KHTML, like Gecko) Chrome/100.0.4896.127 Safari/537.36\n"
     ]
    },
    {
     "name": "stderr",
     "output_type": "stream",
     "text": [
      "Processing batches:  42%|████▏     | 491/1161 [1:05:23<1:35:08,  8.52s/it]"
     ]
    },
    {
     "name": "stdout",
     "output_type": "stream",
     "text": [
      "Error scraping url https://batdongsan.com.vn/cho-thue-can-ho-chung-cu-duong-lien-phuong-phuong-phu-huu-2-prj-sky-9/cho-ch-sky9-gia-re-50m2-2pn-5-5tr-th-62m2-2pn-2wc-6-tr-th-lh-0919-880-840-pr36330723: 're__icon-front-view'\n",
      "Using Chrome with user agent: Mozilla/5.0 (Windows NT 10.0; Win64; x64) AppleWebKit/537.36 (KHTML, like Gecko) Chrome/99.0.4844.84 Safari/537.36\n",
      "Error scraping url https://batdongsan.com.vn/cho-thue-can-ho-chung-cu-phuong-tan-phu-19-prj-star-hill/c-3pn-2wc-133m2-tai-quan-7-40-trieu-vnd-pr42752618: 're__icon-clock'\n"
     ]
    },
    {
     "name": "stderr",
     "output_type": "stream",
     "text": [
      "Processing batches:  42%|████▏     | 492/1161 [1:05:32<1:37:28,  8.74s/it]"
     ]
    },
    {
     "name": "stdout",
     "output_type": "stream",
     "text": [
      "Error scraping url https://batdongsan.com.vn/cho-thue-nha-tro-phong-tro-duong-nguyen-tu-nghiem-phuong-binh-trung-tay/-sang-trong-day-du-tien-nghi-ngay-tam-quan-2-pr42751845: 're__icon-clock'\n"
     ]
    },
    {
     "name": "stderr",
     "output_type": "stream",
     "text": [
      "Processing batches:  42%|████▏     | 493/1161 [1:05:33<1:12:32,  6.52s/it]"
     ]
    },
    {
     "name": "stdout",
     "output_type": "stream",
     "text": [
      "Using Chrome with user agent: Mozilla/5.0 (Windows NT 10.0; Win64; x64) AppleWebKit/537.36 (KHTML, like Gecko) Chrome/99.0.4844.84 Safari/537.36\n",
      "Using Chrome with user agent: Mozilla/5.0 (Windows NT 10.0; Win64; x64) AppleWebKit/537.36 (KHTML, like Gecko) Chrome/99.0.4844.84 Safari/537.36\n"
     ]
    },
    {
     "name": "stderr",
     "output_type": "stream",
     "text": [
      "Processing batches:  43%|████▎     | 494/1161 [1:05:41<1:15:17,  6.77s/it]"
     ]
    },
    {
     "name": "stdout",
     "output_type": "stream",
     "text": [
      "Error scraping url https://batdongsan.com.vn/cho-thue-can-ho-chung-cu-duong-pham-the-hien-phuong-6-10-prj-green-river-quan-8/-3-phong-ngu-2wc-gia-10-5tr-nha-trong-view-song-cach-5-10-khoang-8p-pr42679521: 're__icon-clock'\n",
      "Using Chrome with user agent: Mozilla/5.0 (Windows NT 10.0; Win64; x64) AppleWebKit/537.36 (KHTML, like Gecko) Chrome/99.0.4844.84 Safari/537.36\n",
      "Error scraping url https://batdongsan.com.vn/cho-thue-can-ho-chung-cu-mini-duong-truong-son-phuong-2-22/-view-kinh-cua-so-tang-full-tien-nghi-ngay-cong-san-bay-pr42467641: 're__icon-front-view'\n"
     ]
    },
    {
     "name": "stderr",
     "output_type": "stream",
     "text": [
      "Processing batches:  43%|████▎     | 495/1161 [1:05:47<1:14:56,  6.75s/it]"
     ]
    },
    {
     "name": "stdout",
     "output_type": "stream",
     "text": [
      "Error scraping url https://batdongsan.com.vn/cho-thue-can-ho-chung-cu-duong-ho-hoc-lam-phuong-an-lac-6-prj-hqc-35-ho-hoc-lam/c-2pn-tai-35-c-6-5tr-thang-day-du-noi-that-goc-nha-tang-dep-pr42446500: 're__icon-clock'\n"
     ]
    },
    {
     "name": "stderr",
     "output_type": "stream",
     "text": [
      "Processing batches:  43%|████▎     | 496/1161 [1:05:50<1:00:46,  5.48s/it]"
     ]
    },
    {
     "name": "stdout",
     "output_type": "stream",
     "text": [
      "Using Chrome with user agent: Mozilla/5.0 (Windows NT 10.0; Win64; x64) AppleWebKit/537.36 (KHTML, like Gecko) Chrome/99.0.4844.84 Safari/537.36\n",
      "Using Chrome with user agent: Mozilla/5.0 (Windows NT 10.0; Win64; x64) AppleWebKit/537.36 (KHTML, like Gecko) Chrome/100.0.4896.127 Safari/537.36\n"
     ]
    },
    {
     "name": "stderr",
     "output_type": "stream",
     "text": [
      "Processing batches:  43%|████▎     | 497/1161 [1:05:57<1:06:59,  6.05s/it]"
     ]
    },
    {
     "name": "stdout",
     "output_type": "stream",
     "text": [
      "Error scraping url https://batdongsan.com.vn/cho-thue-nha-tro-phong-tro-duong-nguyen-huu-tho-xa-phuoc-kieng-prj-hoang-anh-gold-house/cho-cc-1pn-1wc-3-7-trieu-120m2-o-be-hcm-pr42512626: 're__icon-clock'\n",
      "Error scraping url https://batdongsan.com.vn/cho-thue-can-ho-chung-cu-mini-xa-binh-hung-1-prj-khu-dan-cu-trung-son/cho-chdv-rong-tach-bep-xat-vong-xoay-canh-duong-ba-trac-q8-thuan-tien-di-q4-q7-q1-pr42751644: 're__icon-front-view'\n"
     ]
    },
    {
     "name": "stderr",
     "output_type": "stream",
     "text": [
      "Processing batches:  43%|████▎     | 498/1161 [1:05:58<49:36,  4.49s/it]  "
     ]
    },
    {
     "name": "stdout",
     "output_type": "stream",
     "text": [
      "Using Chrome with user agent: Mozilla/5.0 (Macintosh; Intel Mac OS X 10_15_7) AppleWebKit/537.36 (KHTML, like Gecko) Chrome/100.0.4896.127 Safari/537.36\n",
      "Using Chrome with user agent: Mozilla/5.0 (Windows NT 10.0; Win64; x64) AppleWebKit/537.36 (KHTML, like Gecko) Chrome/100.0.4896.127 Safari/537.36\n",
      "Error scraping url https://batdongsan.com.vn/cho-thue-can-ho-chung-cu-duong-le-dai-hanh-phuong-15-4-prj-the-flemington/-c-cao-cap-quan-11-dt220m-3pn-3wc-full-nt-gia-50tr-loc-phat-pr42618813: 're__icon-front-view'\n"
     ]
    },
    {
     "name": "stderr",
     "output_type": "stream",
     "text": [
      "Processing batches:  43%|████▎     | 499/1161 [1:06:09<1:10:41,  6.41s/it]"
     ]
    },
    {
     "name": "stdout",
     "output_type": "stream",
     "text": [
      "Using Chrome with user agent: Mozilla/5.0 (Windows NT 10.0; Win64; x64) AppleWebKit/537.36 (KHTML, like Gecko) Chrome/99.0.4844.84 Safari/537.36\n",
      "Error scraping url https://batdongsan.com.vn/cho-thue-can-ho-chung-cu-duong-luy-ban-bich-phuong-hoa-thanh-prj-carillon-5/cho-cc-5-10-trieu-vnd-70-m2-2pn-view-dep-nhieu-tien-ich-tan-phu-hcm-pr42752848: 're__icon-clock'\n"
     ]
    },
    {
     "name": "stderr",
     "output_type": "stream",
     "text": [
      "Processing batches:  43%|████▎     | 500/1161 [1:06:19<1:24:13,  7.64s/it]"
     ]
    },
    {
     "name": "stdout",
     "output_type": "stream",
     "text": [
      "Using Chrome with user agent: Mozilla/5.0 (Windows NT 10.0; Win64; x64) AppleWebKit/537.36 (KHTML, like Gecko) Chrome/100.0.4896.127 Safari/537.36\n",
      "Error scraping url https://batdongsan.com.vn/cho-thue-can-ho-chung-cu-duong-nguyen-huu-tho-xa-phuoc-kieng-prj-dragon-hill-residence-and-suites-2/c-gap-2-51m2-co-nhieu-noi-that-gia-7-trieu-0375713371-pr29242712: 're__icon-front-view'\n"
     ]
    },
    {
     "name": "stderr",
     "output_type": "stream",
     "text": [
      "Processing batches:  43%|████▎     | 502/1161 [1:06:28<1:03:36,  5.79s/it]"
     ]
    },
    {
     "name": "stdout",
     "output_type": "stream",
     "text": [
      "Error scraping url https://batdongsan.com.vn/cho-thue-can-ho-chung-cu-phuong-tan-phu-19-prj-midtown-phu-my-hung/cho-2-pn-nha-deo-81m2-950usd-lh-0938784172-thu-pr33399799: 're__icon-front-view'\n",
      "Using Chrome with user agent: Mozilla/5.0 (Macintosh; Intel Mac OS X 10_15_7) AppleWebKit/537.36 (KHTML, like Gecko) Chrome/100.0.4896.127 Safari/537.36\n",
      "Using Chrome with user agent: Mozilla/5.0 (Macintosh; Intel Mac OS X 10_15_7) AppleWebKit/537.36 (KHTML, like Gecko) Chrome/99.0.4844.84 Safari/537.36\n",
      "Error scraping url https://batdongsan.com.vn/cho-thue-can-ho-chung-cu-duong-nguyen-huu-canh-phuong-22-prj-saigon-pearl/hai-yen-cho-ch-3-pn-gia-28-trieu-bao-phi-noi-that-day-du-pr38412289: 're__icon-document'\n"
     ]
    },
    {
     "name": "stderr",
     "output_type": "stream",
     "text": [
      "Processing batches:  43%|████▎     | 503/1161 [1:06:32<59:07,  5.39s/it]  "
     ]
    },
    {
     "name": "stdout",
     "output_type": "stream",
     "text": [
      "Using Chrome with user agent: Mozilla/5.0 (Macintosh; Intel Mac OS X 10_15_7) AppleWebKit/537.36 (KHTML, like Gecko) Chrome/99.0.4844.84 Safari/537.36\n",
      "Error scraping url https://batdongsan.com.vn/cho-thue-can-ho-chung-cu-duong-ben-van-don-phuong-6-prj-masteri-millennium/cho-2-phong-ngu-nha-dep-noi-that-dep-quan-4-pr42751986: 're__icon-clock'\n"
     ]
    },
    {
     "name": "stderr",
     "output_type": "stream",
     "text": [
      "Processing batches:  43%|████▎     | 504/1161 [1:06:48<1:32:44,  8.47s/it]"
     ]
    },
    {
     "name": "stdout",
     "output_type": "stream",
     "text": [
      "Error scraping url https://batdongsan.com.vn/cho-thue-can-ho-chung-cu-phuong-an-loi-dong-prj-sarimi-sala/-c-gap-2-png-ngu-tai-thu-thiem-quan-2-pr42415472: 're__icon-clock'\n"
     ]
    },
    {
     "name": "stderr",
     "output_type": "stream",
     "text": [
      "Processing batches:  43%|████▎     | 505/1161 [1:06:52<1:17:13,  7.06s/it]"
     ]
    },
    {
     "name": "stdout",
     "output_type": "stream",
     "text": [
      "Using Chrome with user agent: Mozilla/5.0 (Windows NT 10.0; Win64; x64) AppleWebKit/537.36 (KHTML, like Gecko) Chrome/99.0.4844.84 Safari/537.36\n",
      "Error scraping url https://batdongsan.com.vn/cho-thue-can-ho-chung-cu-duong-nguyen-huu-tho-xa-phuoc-kieng-prj-phu-hoang-anh/c-ang-88m2-2pn-2wc-so-9-t-pr40809698: 're__icon-front-view'\n"
     ]
    },
    {
     "name": "stderr",
     "output_type": "stream",
     "text": [
      "Processing batches:  44%|████▎     | 506/1161 [1:06:56<1:07:55,  6.22s/it]"
     ]
    },
    {
     "name": "stdout",
     "output_type": "stream",
     "text": [
      "Using Chrome with user agent: Mozilla/5.0 (Macintosh; Intel Mac OS X 10_15_7) AppleWebKit/537.36 (KHTML, like Gecko) Chrome/100.0.4896.127 Safari/537.36\n",
      "Using Chrome with user agent: Mozilla/5.0 (Macintosh; Intel Mac OS X 10_15_7) AppleWebKit/537.36 (KHTML, like Gecko) Chrome/99.0.4844.84 Safari/537.36\n",
      "Error scraping url https://batdongsan.com.vn/cho-thue-can-ho-chung-cu-duong-nguyen-huu-tho-xa-phuoc-kieng-prj-sunrise-riverside/c-2pn-full-noi-that-chi-14-trieu-thang-pr42751360: 're__icon-clock'\n"
     ]
    },
    {
     "name": "stderr",
     "output_type": "stream",
     "text": [
      "Processing batches:  44%|████▎     | 507/1161 [1:07:03<1:11:59,  6.60s/it]"
     ]
    },
    {
     "name": "stdout",
     "output_type": "stream",
     "text": [
      "Using Chrome with user agent: Mozilla/5.0 (Macintosh; Intel Mac OS X 10_15_7) AppleWebKit/537.36 (KHTML, like Gecko) Chrome/100.0.4896.127 Safari/537.36\n",
      "Error scraping url https://batdongsan.com.vn/cho-thue-can-ho-chung-cu-duong-nguyen-van-linh-phuong-tan-phong-9-prj-urban-hill/-c-nhanh-2pn-3pn-pmh-q7-nha-dep-gia-re-lh-mr-thao-pr42750015: 're__icon-clock'\n",
      "Error scraping url https://batdongsan.com.vn/cho-thue-can-ho-chung-cu-duong-mai-chi-tho-phuong-an-phu-prj-lexington-residence/cho-ch-q-2-49m2-1pn-gia-11tr-th-lau-cao-view-thoang-phi-thap-de-xem-nha-pr42750035: 're__icon-front-view'\n"
     ]
    },
    {
     "name": "stderr",
     "output_type": "stream",
     "text": [
      "Processing batches:  44%|████▍     | 509/1161 [1:07:11<52:01,  4.79s/it]  "
     ]
    },
    {
     "name": "stdout",
     "output_type": "stream",
     "text": [
      "Using Chrome with user agent: Mozilla/5.0 (Windows NT 10.0; Win64; x64) AppleWebKit/537.36 (KHTML, like Gecko) Chrome/100.0.4896.127 Safari/537.36\n",
      "Using Chrome with user agent: Mozilla/5.0 (Macintosh; Intel Mac OS X 10_15_7) AppleWebKit/537.36 (KHTML, like Gecko) Chrome/100.0.4896.127 Safari/537.36\n",
      "Error scraping url https://batdongsan.com.vn/cho-thue-can-ho-chung-cu-mini-duong-pham-van-bach-phuong-15-8/cho-tien-nghi-mat-tien-tan-binh-gan-cho-sieu-thi-hoa-xanh-pr42750395: 're__icon-front-view'\n"
     ]
    },
    {
     "name": "stderr",
     "output_type": "stream",
     "text": [
      "Processing batches:  44%|████▍     | 510/1161 [1:07:19<1:03:42,  5.87s/it]"
     ]
    },
    {
     "name": "stdout",
     "output_type": "stream",
     "text": [
      "Error scraping url https://batdongsan.com.vn/cho-thue-can-ho-chung-cu-duong-vo-van-kiet-phuong-16-1-prj-diamond-riverside/chinh-chu-cho-73m2-2pn-2wc-nha-moi-02-may-lanh-gia-8-5tr-thang-pr37052356: 're__icon-front-view'\n",
      "Using Chrome with user agent: Mozilla/5.0 (Macintosh; Intel Mac OS X 10_15_7) AppleWebKit/537.36 (KHTML, like Gecko) Chrome/99.0.4844.84 Safari/537.36\n"
     ]
    },
    {
     "name": "stderr",
     "output_type": "stream",
     "text": [
      "Processing batches:  44%|████▍     | 511/1161 [1:07:23<56:58,  5.26s/it]  "
     ]
    },
    {
     "name": "stdout",
     "output_type": "stream",
     "text": [
      "Using Chrome with user agent: Mozilla/5.0 (Windows NT 10.0; Win64; x64) AppleWebKit/537.36 (KHTML, like Gecko) Chrome/100.0.4896.127 Safari/537.36\n",
      "Error scraping url https://batdongsan.com.vn/cho-thue-can-ho-chung-cu-pho-luong-dinh-cua-phuong-an-khanh-prj-de-capella/cho-2-phong-ngu-du-15-trieu-th-pr42724426: 're__icon-front-view'\n"
     ]
    },
    {
     "name": "stderr",
     "output_type": "stream",
     "text": [
      "Processing batches:  44%|████▍     | 512/1161 [1:07:32<1:10:18,  6.50s/it]"
     ]
    },
    {
     "name": "stdout",
     "output_type": "stream",
     "text": [
      "Using Chrome with user agent: Mozilla/5.0 (Macintosh; Intel Mac OS X 10_15_7) AppleWebKit/537.36 (KHTML, like Gecko) Chrome/99.0.4844.84 Safari/537.36\n",
      "Error scraping url https://batdongsan.com.vn/cho-thue-can-ho-chung-cu-duong-an-duong-vuong-phuong-an-lac-6-prj-the-privia/-cho-studio-35m2-co-may-lanh-rem-may-nuoc-nong-gia-7-5tr-th-pr42470640: 're__icon-front-view'\n"
     ]
    },
    {
     "name": "stderr",
     "output_type": "stream",
     "text": [
      "Processing batches:  44%|████▍     | 514/1161 [1:07:40<56:34,  5.25s/it]  "
     ]
    },
    {
     "name": "stdout",
     "output_type": "stream",
     "text": [
      "Error scraping url https://batdongsan.com.vn/cho-thue-can-ho-chung-cu-duong-mai-chi-tho-phuong-an-phu-prj-the-sun-avenue/trong-san-1pn1wc-nha-dep-xinh-lung-linh-gia-14-trieu-thang-pr42022636: 're__icon-clock'\n",
      "Using Chrome with user agent: Mozilla/5.0 (Windows NT 10.0; Win64; x64) AppleWebKit/537.36 (KHTML, like Gecko) Chrome/100.0.4896.127 Safari/537.36\n",
      "Error scraping url https://batdongsan.com.vn/cho-thue-can-ho-chung-cu-duong-nguyen-huu-tho-xa-phuoc-kieng-prj-celesta-rise/-cho-kien-nha-be-pr42750454: 're__icon-front-view'\n",
      "Using Chrome with user agent: Mozilla/5.0 (Macintosh; Intel Mac OS X 10_15_7) AppleWebKit/537.36 (KHTML, like Gecko) Chrome/100.0.4896.127 Safari/537.36\n"
     ]
    },
    {
     "name": "stderr",
     "output_type": "stream",
     "text": [
      "Processing batches:  44%|████▍     | 515/1161 [1:07:45<54:43,  5.08s/it]"
     ]
    },
    {
     "name": "stdout",
     "output_type": "stream",
     "text": [
      "Error scraping url https://batdongsan.com.vn/cho-thue-can-ho-chung-cu-duong-hoang-quoc-viet-phuong-phu-my-9-prj-chung-cu-phu-my/c-quan-7-3-png-ngu-15tr500-lh-pr42751334: 're__icon-clock'\n"
     ]
    },
    {
     "name": "stderr",
     "output_type": "stream",
     "text": [
      "Processing batches:  44%|████▍     | 516/1161 [1:07:46<40:10,  3.74s/it]"
     ]
    },
    {
     "name": "stdout",
     "output_type": "stream",
     "text": [
      "Using Chrome with user agent: Mozilla/5.0 (Windows NT 10.0; Win64; x64) AppleWebKit/537.36 (KHTML, like Gecko) Chrome/100.0.4896.127 Safari/537.36\n",
      "Using Chrome with user agent: Mozilla/5.0 (Macintosh; Intel Mac OS X 10_15_7) AppleWebKit/537.36 (KHTML, like Gecko) Chrome/100.0.4896.127 Safari/537.36\n",
      "Error scraping url https://batdongsan.com.vn/cho-thue-can-ho-chung-cu-mini-duong-tran-thien-chanh-phuong-12-5/new-100-1pn-full-noi-that-cua-so-don-nang-cuc-xinh-duoc-nuoi-pet-van-hanh-mall-q10-pr42642577: 're__icon-clock'\n"
     ]
    },
    {
     "name": "stderr",
     "output_type": "stream",
     "text": [
      "Processing batches:  45%|████▍     | 517/1161 [1:07:58<1:06:43,  6.22s/it]"
     ]
    },
    {
     "name": "stdout",
     "output_type": "stream",
     "text": [
      "Error scraping url https://batdongsan.com.vn/cho-thue-can-ho-chung-cu-mini-duong-so-10-phuong-tan-quy/-duplex-day-du-noi-that-ban-cong-mat-tien-ngay-gan-lotte-quan-7-pr42737024: 're__icon-clock'\n"
     ]
    },
    {
     "name": "stderr",
     "output_type": "stream",
     "text": [
      "Processing batches:  45%|████▍     | 518/1161 [1:08:02<58:37,  5.47s/it]  "
     ]
    },
    {
     "name": "stdout",
     "output_type": "stream",
     "text": [
      "Error scraping url https://batdongsan.com.vn/cho-thue-can-ho-chung-cu-mini-pho-ly-thuong-kiet-phuong-14-5/c-bancol-moi-xay-35m2-noi-that-xin-ngay-doi-dien-svd-phu-t-q10-nha-moi-xe-i-tan-c-pr42751483: 're__icon-front-view'\n"
     ]
    },
    {
     "name": "stderr",
     "output_type": "stream",
     "text": [
      "Processing batches:  45%|████▍     | 519/1161 [1:08:02<43:25,  4.06s/it]"
     ]
    },
    {
     "name": "stdout",
     "output_type": "stream",
     "text": [
      "Using Chrome with user agent: Mozilla/5.0 (Windows NT 10.0; Win64; x64) AppleWebKit/537.36 (KHTML, like Gecko) Chrome/99.0.4844.84 Safari/537.36\n",
      "Error scraping url https://batdongsan.com.vn/cho-thue-can-ho-chung-cu-duong-nguyen-luong-bang-1-phuong-phu-my-9-prj-the-era-town/cho-90m2-2pn-2wc-gia-6-5tr-thang-lh-0909910694-pr31225791: 're__icon-private-house'\n"
     ]
    },
    {
     "name": "stderr",
     "output_type": "stream",
     "text": [
      "Processing batches:  45%|████▍     | 520/1161 [1:08:05<40:15,  3.77s/it]"
     ]
    },
    {
     "name": "stdout",
     "output_type": "stream",
     "text": [
      "Using Chrome with user agent: Mozilla/5.0 (Macintosh; Intel Mac OS X 10_15_7) AppleWebKit/537.36 (KHTML, like Gecko) Chrome/100.0.4896.127 Safari/537.36\n",
      "Error scraping url https://batdongsan.com.vn/cho-thue-can-ho-chung-cu-duong-nguyen-van-linh-phuong-tan-phong-9-prj-happy-valley/-c-pmh-q7-135m2-3pn-noi-that-cao-cap-25tr-thang-pr37771225: 're__icon-clock'\n"
     ]
    },
    {
     "name": "stderr",
     "output_type": "stream",
     "text": [
      "Processing batches:  45%|████▍     | 521/1161 [1:08:07<33:50,  3.17s/it]"
     ]
    },
    {
     "name": "stdout",
     "output_type": "stream",
     "text": [
      "Using Chrome with user agent: Mozilla/5.0 (Windows NT 10.0; Win64; x64) AppleWebKit/537.36 (KHTML, like Gecko) Chrome/100.0.4896.127 Safari/537.36\n",
      "Using Chrome with user agent: Mozilla/5.0 (Macintosh; Intel Mac OS X 10_15_7) AppleWebKit/537.36 (KHTML, like Gecko) Chrome/100.0.4896.127 Safari/537.36\n",
      "Error scraping url https://batdongsan.com.vn/cho-thue-can-ho-chung-cu-mini-duong-vo-thi-sau-phuong-tan-dinh-2/chinh-chu-cho-chdv-hem-82-q-1-tu-do-khong-chu-27m-gia-6tr-tm-lh-pr42750332: 're__icon-front-view'\n"
     ]
    },
    {
     "name": "stderr",
     "output_type": "stream",
     "text": [
      "Processing batches:  45%|████▍     | 522/1161 [1:08:13<42:54,  4.03s/it]"
     ]
    },
    {
     "name": "stdout",
     "output_type": "stream",
     "text": [
      "Using Chrome with user agent: Mozilla/5.0 (Windows NT 10.0; Win64; x64) AppleWebKit/537.36 (KHTML, like Gecko) Chrome/99.0.4844.84 Safari/537.36\n",
      "Error scraping url https://batdongsan.com.vn/cho-thue-can-ho-chung-cu-duong-phan-van-dang-phuong-thanh-my-loi-prj-feliz-en-vista/c-cao-cap-2pn-full-noi-that-nha-dep-li-he-xem-nha-pr42749885: 're__icon-private-house'\n"
     ]
    },
    {
     "name": "stderr",
     "output_type": "stream",
     "text": [
      "Processing batches:  45%|████▌     | 523/1161 [1:08:19<47:56,  4.51s/it]"
     ]
    },
    {
     "name": "stdout",
     "output_type": "stream",
     "text": [
      "Using Chrome with user agent: Mozilla/5.0 (Macintosh; Intel Mac OS X 10_15_7) AppleWebKit/537.36 (KHTML, like Gecko) Chrome/99.0.4844.84 Safari/537.36\n",
      "Using Chrome with user agent: Mozilla/5.0 (Macintosh; Intel Mac OS X 10_15_7) AppleWebKit/537.36 (KHTML, like Gecko) Chrome/100.0.4896.127 Safari/537.36\n",
      "Error scraping url https://batdongsan.com.vn/cho-thue-can-ho-chung-cu-duong-nguyen-huu-tho-xa-phuoc-kieng-prj-sunrise-riverside/cho-ch-cao-cap-2pn-13tr-3pn-16tr-full-nt-cao-cap-moi-dep-lh-0968966311-pr34725729: 're__icon-document'\n"
     ]
    },
    {
     "name": "stderr",
     "output_type": "stream",
     "text": [
      "Processing batches:  45%|████▌     | 524/1161 [1:08:38<1:34:53,  8.94s/it]"
     ]
    },
    {
     "name": "stdout",
     "output_type": "stream",
     "text": [
      "Error scraping url https://batdongsan.com.vn/cho-thue-can-ho-chung-cu-phuong-long-binh-3-prj-the-beverly-vinhomes-grand-park/cho-studio-full-noi-that-co-ban-cong-phan-khu-quan-9-pr42749658: 're__icon-front-view'\n"
     ]
    },
    {
     "name": "stderr",
     "output_type": "stream",
     "text": [
      "Processing batches:  45%|████▌     | 525/1161 [1:08:41<1:14:21,  7.01s/it]"
     ]
    },
    {
     "name": "stdout",
     "output_type": "stream",
     "text": [
      "Using Chrome with user agent: Mozilla/5.0 (Windows NT 10.0; Win64; x64) AppleWebKit/537.36 (KHTML, like Gecko) Chrome/100.0.4896.127 Safari/537.36\n",
      "Using Chrome with user agent: Mozilla/5.0 (Macintosh; Intel Mac OS X 10_15_7) AppleWebKit/537.36 (KHTML, like Gecko) Chrome/99.0.4844.84 Safari/537.36\n",
      "Error scraping url https://batdongsan.com.vn/cho-thue-can-ho-chung-cu-duong-nguyen-xien-phuong-long-thanh-my-prj-the-rainbow-vinhomes-grand-park/c-studio-34m2-full-noi-that-luxury-view-boi-vinmes-gia-6-trieu-pr42382326: 're__icon-private-house'\n"
     ]
    },
    {
     "name": "stderr",
     "output_type": "stream",
     "text": [
      "Processing batches:  45%|████▌     | 526/1161 [1:08:46<1:10:07,  6.63s/it]"
     ]
    },
    {
     "name": "stdout",
     "output_type": "stream",
     "text": [
      "Using Chrome with user agent: Mozilla/5.0 (Macintosh; Intel Mac OS X 10_15_7) AppleWebKit/537.36 (KHTML, like Gecko) Chrome/99.0.4844.84 Safari/537.36\n",
      "Error scraping url https://batdongsan.com.vn/cho-thue-can-ho-chung-cu-duong-phan-van-tri-phuong-10-8-prj-cityland-park-hills/-hiem-tai-12-trieu-75m2-2pn-va-3pn-99m2-15tr-thang-pr42340374: 're__icon-front-view'\n"
     ]
    },
    {
     "name": "stderr",
     "output_type": "stream",
     "text": [
      "Processing batches:  45%|████▌     | 528/1161 [1:09:00<1:06:32,  6.31s/it]"
     ]
    },
    {
     "name": "stdout",
     "output_type": "stream",
     "text": [
      "Using Chrome with user agent: Mozilla/5.0 (Macintosh; Intel Mac OS X 10_15_7) AppleWebKit/537.36 (KHTML, like Gecko) Chrome/100.0.4896.127 Safari/537.36\n",
      "Error scraping url https://batdongsan.com.vn/cho-thue-can-ho-chung-cu-duong-an-duong-vuong-phuong-4-13-prj-the-everrich-infinity/cho-homestay-officetel-1pn-cao-cap-nhu-resort-ngay-trung-tam-nowzon-quan-1-1-trieu-ngay-dem-pr14464425: 're__icon-home'\n"
     ]
    },
    {
     "name": "stderr",
     "output_type": "stream",
     "text": [
      "Processing batches:  46%|████▌     | 529/1161 [1:09:04<59:56,  5.69s/it]  "
     ]
    },
    {
     "name": "stdout",
     "output_type": "stream",
     "text": [
      "Using Chrome with user agent: Mozilla/5.0 (Macintosh; Intel Mac OS X 10_15_7) AppleWebKit/537.36 (KHTML, like Gecko) Chrome/100.0.4896.127 Safari/537.36\n",
      "Using Chrome with user agent: Mozilla/5.0 (Windows NT 10.0; Win64; x64) AppleWebKit/537.36 (KHTML, like Gecko) Chrome/99.0.4844.84 Safari/537.36\n",
      "Error scraping url https://batdongsan.com.vn/cho-thue-can-ho-chung-cu-mini-duong-nguyen-dinh-chieu-phuong-5-8/c-ban-cong-don-nang-chi-tinh-dien-nuoc-duoc-nuoi-pet-ngay-q3-pr42747928: 're__icon-clock'\n"
     ]
    },
    {
     "name": "stderr",
     "output_type": "stream",
     "text": [
      "Processing batches:  46%|████▌     | 530/1161 [1:09:11<1:05:20,  6.21s/it]"
     ]
    },
    {
     "name": "stdout",
     "output_type": "stream",
     "text": [
      "Using Chrome with user agent: Mozilla/5.0 (Macintosh; Intel Mac OS X 10_15_7) AppleWebKit/537.36 (KHTML, like Gecko) Chrome/100.0.4896.127 Safari/537.36\n",
      "Error scraping url https://batdongsan.com.vn/cho-thue-can-ho-chung-cu-duong-nguyen-luong-bang-1-phuong-tan-phu-19-prj-the-antonia/3pn-view-biet-thu-cho-gia-tot-nhat-chi-35-trieu-thang-vao-o-ngay-duoc-ngay-mai-pr42582035: 're__icon-front-view'\n"
     ]
    },
    {
     "name": "stderr",
     "output_type": "stream",
     "text": [
      "Processing batches:  46%|████▌     | 531/1161 [1:09:19<1:08:44,  6.55s/it]"
     ]
    },
    {
     "name": "stdout",
     "output_type": "stream",
     "text": [
      "Error scraping url https://batdongsan.com.vn/cho-thue-can-ho-chung-cu-duong-quach-giai-phuong-thanh-my-loi-prj-thu-thiem-dragon/c-cao-cap-quan-2-goc-tang-cao-view-dep-gia-tot-17tr-pr42749269: 're__icon-front-view'\n"
     ]
    },
    {
     "name": "stderr",
     "output_type": "stream",
     "text": [
      "Processing batches:  46%|████▌     | 532/1161 [1:09:20<51:31,  4.92s/it]  "
     ]
    },
    {
     "name": "stdout",
     "output_type": "stream",
     "text": [
      "Error scraping url https://batdongsan.com.vn/cho-thue-can-ho-chung-cu-mini-duong-dat-thanh_1-phuong-6-15/cho-chdv-co-gac-moi-xay-day-du-noi-that-130-thanh-6-quan-tan-binh-pr42455985: 're__icon-electricity'\n"
     ]
    },
    {
     "name": "stderr",
     "output_type": "stream",
     "text": [
      "Processing batches:  46%|████▌     | 533/1161 [1:09:22<44:30,  4.25s/it]"
     ]
    },
    {
     "name": "stdout",
     "output_type": "stream",
     "text": [
      "Using Chrome with user agent: Mozilla/5.0 (Windows NT 10.0; Win64; x64) AppleWebKit/537.36 (KHTML, like Gecko) Chrome/100.0.4896.127 Safari/537.36\n",
      "Using Chrome with user agent: Mozilla/5.0 (Macintosh; Intel Mac OS X 10_15_7) AppleWebKit/537.36 (KHTML, like Gecko) Chrome/99.0.4844.84 Safari/537.36\n"
     ]
    },
    {
     "name": "stderr",
     "output_type": "stream",
     "text": [
      "Processing batches:  46%|████▌     | 534/1161 [1:09:28<49:49,  4.77s/it]"
     ]
    },
    {
     "name": "stdout",
     "output_type": "stream",
     "text": [
      "Error scraping url https://batdongsan.com.vn/cho-thue-can-ho-chung-cu-mini-duong-hoa-binh-1-phuong-3-18/duplex-moi-xay-noi-that-cao-cap-sang-sin-min-nhat-khu-vuc-quan-11-dam-sen-giap-quan-10-pr42747843: 're__icon-clock'\n",
      "Using Chrome with user agent: Mozilla/5.0 (Macintosh; Intel Mac OS X 10_15_7) AppleWebKit/537.36 (KHTML, like Gecko) Chrome/100.0.4896.127 Safari/537.36\n",
      "Using Chrome with user agent: Mozilla/5.0 (Windows NT 10.0; Win64; x64) AppleWebKit/537.36 (KHTML, like Gecko) Chrome/99.0.4844.84 Safari/537.36\n",
      "Error scraping url https://batdongsan.com.vn/cho-thue-can-ho-chung-cu-duong-nguyen-van-huong-phuong-thao-dien-prj-thao-dien-green/doc-quyen-gio-hang-rieng-1pn-nha-trong-gia-tot-nhat-tai-green-pr40874752: 're__icon-clock'\n"
     ]
    },
    {
     "name": "stderr",
     "output_type": "stream",
     "text": [
      "Processing batches:  46%|████▌     | 535/1161 [1:09:39<1:09:11,  6.63s/it]"
     ]
    },
    {
     "name": "stdout",
     "output_type": "stream",
     "text": [
      "Using Chrome with user agent: Mozilla/5.0 (Macintosh; Intel Mac OS X 10_15_7) AppleWebKit/537.36 (KHTML, like Gecko) Chrome/99.0.4844.84 Safari/537.36\n",
      "Error scraping url https://batdongsan.com.vn/cho-thue-can-ho-chung-cu-duong-phan-huy-ich-phuong-15-8-prj-chung-cu-phuc-yen/c-ple-nha-dep-65m2-2pn-2wc-noi-that-co-ban-chi-8tr-pr39478444: 're__icon-document'\n"
     ]
    },
    {
     "name": "stderr",
     "output_type": "stream",
     "text": [
      "Processing batches:  46%|████▌     | 536/1161 [1:10:00<1:52:11, 10.77s/it]"
     ]
    },
    {
     "name": "stdout",
     "output_type": "stream",
     "text": [
      "Using Chrome with user agent: Mozilla/5.0 (Macintosh; Intel Mac OS X 10_15_7) AppleWebKit/537.36 (KHTML, like Gecko) Chrome/100.0.4896.127 Safari/537.36\n",
      "Error scraping url https://batdongsan.com.vn/cho-thue-can-ho-chung-cu-phuong-2-18-prj-chung-cu-ngo-gia-tu/-chu-cho-ko-mg-cho-gap-cc-9-trieu-70m2-2pn-q10-hcm-pr42139449: 're__icon-front-view'\n"
     ]
    },
    {
     "name": "stderr",
     "output_type": "stream",
     "text": [
      "Processing batches:  46%|████▋     | 537/1161 [1:10:10<1:50:40, 10.64s/it]"
     ]
    },
    {
     "name": "stdout",
     "output_type": "stream",
     "text": [
      "Using Chrome with user agent: Mozilla/5.0 (Macintosh; Intel Mac OS X 10_15_7) AppleWebKit/537.36 (KHTML, like Gecko) Chrome/99.0.4844.84 Safari/537.36\n",
      "Error scraping url https://batdongsan.com.vn/cho-thue-can-ho-chung-cu-duong-nguyen-van-linh-phuong-tan-phong-9-prj-urban-hill/-cho-block-b-tang-trung-gia-18-pr42638179: 're__icon-front-view'\n"
     ]
    },
    {
     "name": "stderr",
     "output_type": "stream",
     "text": [
      "Processing batches:  46%|████▋     | 538/1161 [1:10:21<1:51:49, 10.77s/it]"
     ]
    },
    {
     "name": "stdout",
     "output_type": "stream",
     "text": [
      "Error scraping url https://batdongsan.com.vn/cho-thue-can-ho-chung-cu-duong-ton-dan-phuong-13-prj-khu-can-ho-contrexim-copac-square/-c-constrexim-quan-4-pr42717839: HTTPConnectionPool(host='localhost', port=53472): Read timed out. (read timeout=120)\n"
     ]
    },
    {
     "name": "stderr",
     "output_type": "stream",
     "text": [
      "Processing batches:  46%|████▋     | 539/1161 [1:10:22<1:21:46,  7.89s/it]"
     ]
    },
    {
     "name": "stdout",
     "output_type": "stream",
     "text": [
      "Using Chrome with user agent: Mozilla/5.0 (Macintosh; Intel Mac OS X 10_15_7) AppleWebKit/537.36 (KHTML, like Gecko) Chrome/99.0.4844.84 Safari/537.36\n",
      "Using Chrome with user agent: Mozilla/5.0 (Macintosh; Intel Mac OS X 10_15_7) AppleWebKit/537.36 (KHTML, like Gecko) Chrome/100.0.4896.127 Safari/537.36\n"
     ]
    },
    {
     "name": "stderr",
     "output_type": "stream",
     "text": [
      "Processing batches:  47%|████▋     | 540/1161 [1:10:30<1:20:03,  7.73s/it]"
     ]
    },
    {
     "name": "stdout",
     "output_type": "stream",
     "text": [
      "Error scraping url https://batdongsan.com.vn/cho-thue-nha-tro-phong-tro-duong-nguyen-thi-nho-phuong-9-13/-gia-re-12-15-25m2-q-tan-binh-giap-svd-phu-tho-dh-bach-khoa-bv-trung-vuong-pr42747272: 're__icon-front-view'\n",
      "Using Chrome with user agent: Mozilla/5.0 (Windows NT 10.0; Win64; x64) AppleWebKit/537.36 (KHTML, like Gecko) Chrome/100.0.4896.127 Safari/537.36\n",
      "Error scraping url https://batdongsan.com.vn/cho-thue-can-ho-chung-cu-duong-cong-hoa-phuong-4-20-prj-republic-plaza/-republich-giap-quan-phu-nhuan-75m2-2pn-2wc-full-noi-that-gia-14tr-o-lien-pr42330613: 're__icon-front-view'\n"
     ]
    },
    {
     "name": "stderr",
     "output_type": "stream",
     "text": [
      "Processing batches:  47%|████▋     | 541/1161 [1:10:47<1:49:56, 10.64s/it]"
     ]
    },
    {
     "name": "stdout",
     "output_type": "stream",
     "text": [
      "Using Chrome with user agent: Mozilla/5.0 (Macintosh; Intel Mac OS X 10_15_7) AppleWebKit/537.36 (KHTML, like Gecko) Chrome/100.0.4896.127 Safari/537.36\n",
      "Error scraping url https://batdongsan.com.vn/cho-thue-can-ho-chung-cu-duong-dang-van-bi-phuong-binh-tho-prj-moonlight-residences/-thu-duc-15-gia-tot-nhat-thi-truong-chi-7tr-2pn-090472271-pr30978640: 're__icon-document'\n"
     ]
    },
    {
     "name": "stderr",
     "output_type": "stream",
     "text": [
      "Processing batches:  47%|████▋     | 542/1161 [1:11:07<2:17:06, 13.29s/it]"
     ]
    },
    {
     "name": "stdout",
     "output_type": "stream",
     "text": [
      "Using Chrome with user agent: Mozilla/5.0 (Windows NT 10.0; Win64; x64) AppleWebKit/537.36 (KHTML, like Gecko) Chrome/99.0.4844.84 Safari/537.36\n",
      "Error scraping url https://batdongsan.com.vn/cho-thue-nha-tro-phong-tro-phuong-truong-thanh-1/cho-2-8tr-rong-moi-ngay-cho-long-thu-duc-pr41480703: 're__icon-home'\n"
     ]
    },
    {
     "name": "stderr",
     "output_type": "stream",
     "text": [
      "Processing batches:  47%|████▋     | 544/1161 [1:11:15<1:28:34,  8.61s/it]"
     ]
    },
    {
     "name": "stdout",
     "output_type": "stream",
     "text": [
      "Error scraping url https://batdongsan.com.vn/cho-thue-can-ho-chung-cu-duong-phuoc-thien-phuong-long-binh-3-prj-the-origami-vinhomes-grand-park/cho-2-toa-s1030615-pr42747298: 're__icon-front-view'\n",
      "Using Chrome with user agent: Mozilla/5.0 (Windows NT 10.0; Win64; x64) AppleWebKit/537.36 (KHTML, like Gecko) Chrome/99.0.4844.84 Safari/537.36\n",
      "Error scraping url https://batdongsan.com.vn/cho-thue-can-ho-chung-cu-duong-ho-hoc-lam-phuong-an-lac-6-prj-khu-can-ho-ehome-3/chi-7-trieu-thg-so-huu-eme-3-day-du-noi-that-2pn-2wc-nha-dep-tg-mat-ninh-pr42745850: 're__icon-clock'\n"
     ]
    },
    {
     "name": "stderr",
     "output_type": "stream",
     "text": [
      "Processing batches:  47%|████▋     | 545/1161 [1:11:16<1:05:16,  6.36s/it]"
     ]
    },
    {
     "name": "stdout",
     "output_type": "stream",
     "text": [
      "Error scraping url https://batdongsan.com.vn/cho-thue-can-ho-chung-cu-mini-duong-hoang-van-thu-phuong-4-20/phong-duplex-siu-chill-gan-san-bay-tsn-thuan-loi-di-chuyen-q1-3-pr42747826: 're__icon-electricity'\n",
      "Using Chrome with user agent: Mozilla/5.0 (Macintosh; Intel Mac OS X 10_15_7) AppleWebKit/537.36 (KHTML, like Gecko) Chrome/100.0.4896.127 Safari/537.36\n"
     ]
    },
    {
     "name": "stderr",
     "output_type": "stream",
     "text": [
      "Processing batches:  47%|████▋     | 546/1161 [1:11:19<55:30,  5.41s/it]  "
     ]
    },
    {
     "name": "stdout",
     "output_type": "stream",
     "text": [
      "Using Chrome with user agent: Mozilla/5.0 (Windows NT 10.0; Win64; x64) AppleWebKit/537.36 (KHTML, like Gecko) Chrome/100.0.4896.127 Safari/537.36\n",
      "Error scraping url https://batdongsan.com.vn/cho-thue-can-ho-chung-cu-phuong-long-binh-3-prj-the-beverly-vinhomes-grand-park/c-3pn-full-view-song-18-trieu-100m2-pr42745403: 're__icon-front-view'\n"
     ]
    },
    {
     "name": "stderr",
     "output_type": "stream",
     "text": [
      "Processing batches:  47%|████▋     | 547/1161 [1:11:24<52:56,  5.17s/it]"
     ]
    },
    {
     "name": "stdout",
     "output_type": "stream",
     "text": [
      "Using Chrome with user agent: Mozilla/5.0 (Windows NT 10.0; Win64; x64) AppleWebKit/537.36 (KHTML, like Gecko) Chrome/99.0.4844.84 Safari/537.36\n",
      "Using Chrome with user agent: Mozilla/5.0 (Windows NT 10.0; Win64; x64) AppleWebKit/537.36 (KHTML, like Gecko) Chrome/99.0.4844.84 Safari/537.36\n"
     ]
    },
    {
     "name": "stderr",
     "output_type": "stream",
     "text": [
      "Processing batches:  47%|████▋     | 548/1161 [1:11:29<54:00,  5.29s/it]"
     ]
    },
    {
     "name": "stdout",
     "output_type": "stream",
     "text": [
      "Error scraping url https://batdongsan.com.vn/cho-thue-can-ho-chung-cu-mini-pho-thach-lam-phuong-phu-thanh/-cao-cap-day-du-noi-that-cua-so-troi-ngay-giap-tan-binh-thuan-tien-di-chuyen-qua-trung-tam-pr42747851: 're__icon-clock'\n",
      "Using Chrome with user agent: Mozilla/5.0 (Macintosh; Intel Mac OS X 10_15_7) AppleWebKit/537.36 (KHTML, like Gecko) Chrome/99.0.4844.84 Safari/537.36\n",
      "Error scraping url https://batdongsan.com.vn/cho-thue-can-ho-chung-cu-duong-nguyen-van-linh-phuong-tan-thuan-tay-1-prj-eco-green-sai-gon/-c-2pn-2wc-gia-sieu-tot-vao-o-lien-gia-chi-13-den-14-trieu-vnd-pr42173113: 're__icon-front-view'\n"
     ]
    },
    {
     "name": "stderr",
     "output_type": "stream",
     "text": [
      "Processing batches:  47%|████▋     | 549/1161 [1:11:35<55:12,  5.41s/it]"
     ]
    },
    {
     "name": "stdout",
     "output_type": "stream",
     "text": [
      "Using Chrome with user agent: Mozilla/5.0 (Macintosh; Intel Mac OS X 10_15_7) AppleWebKit/537.36 (KHTML, like Gecko) Chrome/100.0.4896.127 Safari/537.36\n",
      "Error scraping url https://batdongsan.com.vn/cho-thue-can-ho-chung-cu-duong-hong-ha-phuong-9-12-prj-can-ho-orchard-park-view/giam-manh-cho-nnh-ch-orcrd-p9-phu-nhuan-36m2-office-9tr-t-pr41705534: 're__icon-document'\n"
     ]
    },
    {
     "name": "stderr",
     "output_type": "stream",
     "text": [
      "Processing batches:  47%|████▋     | 550/1161 [1:11:41<55:18,  5.43s/it]"
     ]
    },
    {
     "name": "stdout",
     "output_type": "stream",
     "text": [
      "Using Chrome with user agent: Mozilla/5.0 (Windows NT 10.0; Win64; x64) AppleWebKit/537.36 (KHTML, like Gecko) Chrome/100.0.4896.127 Safari/537.36\n",
      "Error scraping url https://batdongsan.com.vn/cho-thue-can-ho-chung-cu-mini-duong-phan-xich-long-phuong-7-11/-1-png-ngu-ban-cong-may-giat-rieng-co-bon-tam-nam-binh-thanh-pr42710635: 're__icon-front-view'\n"
     ]
    },
    {
     "name": "stderr",
     "output_type": "stream",
     "text": [
      "Processing batches:  47%|████▋     | 551/1161 [1:11:48<1:01:37,  6.06s/it]"
     ]
    },
    {
     "name": "stdout",
     "output_type": "stream",
     "text": [
      "Error scraping url https://batdongsan.com.vn/cho-thue-can-ho-chung-cu-duong-le-quang-kim-phuong-8-9-prj-diamond-lotus-phuc-khang/cho-ch-2pn-gia-chi-15-trieu-72m2-tai-day-du-noi-that-don-vao-o-ngay-pr42633947: 're__icon-front-view'\n"
     ]
    },
    {
     "name": "stderr",
     "output_type": "stream",
     "text": [
      "Processing batches:  48%|████▊     | 552/1161 [1:11:52<53:33,  5.28s/it]  "
     ]
    },
    {
     "name": "stdout",
     "output_type": "stream",
     "text": [
      "Using Chrome with user agent: Mozilla/5.0 (Macintosh; Intel Mac OS X 10_15_7) AppleWebKit/537.36 (KHTML, like Gecko) Chrome/99.0.4844.84 Safari/537.36\n",
      "Error scraping url https://batdongsan.com.vn/cho-thue-can-ho-chung-cu-duong-huong-lo-80-1-xa-vinh-loc-a-1-prj-vinh-loc-dgold/cho-1-pn-3-5-trieu-thang-o-ngay-pr41951872: 're__icon-clock'\n"
     ]
    },
    {
     "name": "stderr",
     "output_type": "stream",
     "text": [
      "Processing batches:  48%|████▊     | 553/1161 [1:11:52<38:47,  3.83s/it]"
     ]
    },
    {
     "name": "stdout",
     "output_type": "stream",
     "text": [
      "Error scraping url https://batdongsan.com.vn/cho-thue-can-ho-chung-cu-duong-nguyen-luong-bang-1-phuong-tan-phu-19-prj-riverside-residence/cho-pmh-82m2-2pn-chi-11-tr-th-0938784172-e-thu-pr30780559: 're__icon-private-house'\n"
     ]
    },
    {
     "name": "stderr",
     "output_type": "stream",
     "text": [
      "Processing batches:  48%|████▊     | 554/1161 [1:11:56<38:52,  3.84s/it]"
     ]
    },
    {
     "name": "stdout",
     "output_type": "stream",
     "text": [
      "Using Chrome with user agent: Mozilla/5.0 (Windows NT 10.0; Win64; x64) AppleWebKit/537.36 (KHTML, like Gecko) Chrome/99.0.4844.84 Safari/537.36\n",
      "Using Chrome with user agent: Mozilla/5.0 (Windows NT 10.0; Win64; x64) AppleWebKit/537.36 (KHTML, like Gecko) Chrome/99.0.4844.84 Safari/537.36\n",
      "Using Chrome with user agent: Mozilla/5.0 (Macintosh; Intel Mac OS X 10_15_7) AppleWebKit/537.36 (KHTML, like Gecko) Chrome/99.0.4844.84 Safari/537.36\n",
      "Error scraping url https://batdongsan.com.vn/cho-thue-nha-tro-phong-tro-duong-nguyen-thi-thap-phuong-binh-thuan-3/-25m2-full-noi-that-gan-cho-tan-mi-pr41658340: 're__icon-document'\n"
     ]
    },
    {
     "name": "stderr",
     "output_type": "stream",
     "text": [
      "Processing batches:  48%|████▊     | 555/1161 [1:12:02<43:56,  4.35s/it]"
     ]
    },
    {
     "name": "stdout",
     "output_type": "stream",
     "text": [
      "Error scraping url https://batdongsan.com.vn/cho-thue-can-ho-chung-cu-mini-duong-nguyen-huu-canh-phuong-ben-nghe/o-ngay-1-png-ngu-dang-cap-sang-trong-day-du-noi-that-gan-san-golf-himlam-quan-1-pr42747662: 're__icon-clock'\n"
     ]
    },
    {
     "name": "stderr",
     "output_type": "stream",
     "text": [
      "Processing batches:  48%|████▊     | 556/1161 [1:12:06<43:49,  4.35s/it]"
     ]
    },
    {
     "name": "stdout",
     "output_type": "stream",
     "text": [
      "Error scraping url https://batdongsan.com.vn/cho-thue-can-ho-chung-cu-phuong-binh-trung-tay-prj-diamond-island/c-3pn-thap-bora-bora-dao-kim-cuong-quan-2-lh-pr42535035: 're__icon-front-view'\n",
      "Using Chrome with user agent: Mozilla/5.0 (Windows NT 10.0; Win64; x64) AppleWebKit/537.36 (KHTML, like Gecko) Chrome/100.0.4896.127 Safari/537.36\n"
     ]
    },
    {
     "name": "stderr",
     "output_type": "stream",
     "text": [
      "Processing batches:  48%|████▊     | 557/1161 [1:12:07<33:17,  3.31s/it]"
     ]
    },
    {
     "name": "stdout",
     "output_type": "stream",
     "text": [
      "Using Chrome with user agent: Mozilla/5.0 (Windows NT 10.0; Win64; x64) AppleWebKit/537.36 (KHTML, like Gecko) Chrome/99.0.4844.84 Safari/537.36\n",
      "Using Chrome with user agent: Mozilla/5.0 (Windows NT 10.0; Win64; x64) AppleWebKit/537.36 (KHTML, like Gecko) Chrome/100.0.4896.127 Safari/537.36\n",
      "Error scraping url https://batdongsan.com.vn/cho-thue-can-ho-chung-cu-mini-duong-tran-nao-phuong-binh-an/-co-1-pn-30m2-noi-that-moi-g-p-khh-q2-pr42648486: 're__icon-clock'\n"
     ]
    },
    {
     "name": "stderr",
     "output_type": "stream",
     "text": [
      "Processing batches:  48%|████▊     | 558/1161 [1:12:15<47:10,  4.69s/it]"
     ]
    },
    {
     "name": "stdout",
     "output_type": "stream",
     "text": [
      "Error scraping url https://batdongsan.com.vn/cho-thue-nha-tro-phong-tro-duong-lac-long-quan-phuong-9-13/ngay-cong-vien-tan-phuoc-tan-binh-pr42700926: 're__icon-front-view'\n"
     ]
    },
    {
     "name": "stderr",
     "output_type": "stream",
     "text": [
      "Processing batches:  48%|████▊     | 559/1161 [1:12:16<37:49,  3.77s/it]"
     ]
    },
    {
     "name": "stdout",
     "output_type": "stream",
     "text": [
      "Error scraping url https://batdongsan.com.vn/cho-thue-can-ho-chung-cu-mini-duong-1-phuong-thao-dien/c-2pn-2wc-noi-that-cao-cap-chi-tinh-nuoc-tai-quan-2-pr42254267: 're__icon-clock'\n"
     ]
    },
    {
     "name": "stderr",
     "output_type": "stream",
     "text": [
      "Processing batches:  48%|████▊     | 560/1161 [1:12:17<28:54,  2.89s/it]"
     ]
    },
    {
     "name": "stdout",
     "output_type": "stream",
     "text": [
      "Using Chrome with user agent: Mozilla/5.0 (Macintosh; Intel Mac OS X 10_15_7) AppleWebKit/537.36 (KHTML, like Gecko) Chrome/99.0.4844.84 Safari/537.36\n",
      "Using Chrome with user agent: Mozilla/5.0 (Macintosh; Intel Mac OS X 10_15_7) AppleWebKit/537.36 (KHTML, like Gecko) Chrome/100.0.4896.127 Safari/537.36\n",
      "Using Chrome with user agent: Mozilla/5.0 (Macintosh; Intel Mac OS X 10_15_7) AppleWebKit/537.36 (KHTML, like Gecko) Chrome/99.0.4844.84 Safari/537.36\n",
      "Error scraping url https://batdongsan.com.vn/cho-thue-can-ho-chung-cu-mini-duong-xo-viet-nghe-tinh-phuong-25/cho-cc-30m2-8-5-trieu-tai-binh-thanh-hcm-hang-hot-pr42550209: 're__icon-front-view'\n"
     ]
    },
    {
     "name": "stderr",
     "output_type": "stream",
     "text": [
      "Processing batches:  48%|████▊     | 561/1161 [1:12:29<57:05,  5.71s/it]"
     ]
    },
    {
     "name": "stdout",
     "output_type": "stream",
     "text": [
      "Using Chrome with user agent: Mozilla/5.0 (Windows NT 10.0; Win64; x64) AppleWebKit/537.36 (KHTML, like Gecko) Chrome/100.0.4896.127 Safari/537.36\n",
      "Error scraping url https://batdongsan.com.vn/cho-thue-can-ho-chung-cu-duong-nguyen-van-linh-phuong-tan-phong-9-prj-lavida-plus/c-gap-2pn-75m2-tang-cao-full-noi-that-gia-tot-nhat-du-an-14tr5-pr42747301: 're__icon-clock'\n"
     ]
    },
    {
     "name": "stderr",
     "output_type": "stream",
     "text": [
      "Processing batches:  48%|████▊     | 562/1161 [1:12:34<54:29,  5.46s/it]"
     ]
    },
    {
     "name": "stdout",
     "output_type": "stream",
     "text": [
      "Error scraping url https://batdongsan.com.vn/cho-thue-can-ho-chung-cu-mini-duong-phan-xich-long-phuong-7-11/cho-cc-moi-1pn-ban-cong-tai-khong-dep-tra-tien-gap-doi-chi-tu-9tr2-pr42323525: 're__icon-front-view'\n"
     ]
    },
    {
     "name": "stderr",
     "output_type": "stream",
     "text": [
      "Processing batches:  48%|████▊     | 563/1161 [1:12:38<49:02,  4.92s/it]"
     ]
    },
    {
     "name": "stdout",
     "output_type": "stream",
     "text": [
      "Using Chrome with user agent: Mozilla/5.0 (Windows NT 10.0; Win64; x64) AppleWebKit/537.36 (KHTML, like Gecko) Chrome/99.0.4844.84 Safari/537.36\n",
      "Using Chrome with user agent: Mozilla/5.0 (Windows NT 10.0; Win64; x64) AppleWebKit/537.36 (KHTML, like Gecko) Chrome/100.0.4896.127 Safari/537.36\n",
      "Error scraping url https://batdongsan.com.vn/cho-thue-can-ho-chung-cu-phuong-binh-trung-tay-prj-diamond-island/cap-nhat-som-nhat-cac-dao-kim-cuong-cho-tu-1-2-3-4pn-tu-ntcb-den-full-noi-nt-theo-yeu-cau-pr42158055: 're__icon-front-view'\n"
     ]
    },
    {
     "name": "stderr",
     "output_type": "stream",
     "text": [
      "Processing batches:  49%|████▊     | 564/1161 [1:12:45<54:11,  5.45s/it]"
     ]
    },
    {
     "name": "stdout",
     "output_type": "stream",
     "text": [
      "Using Chrome with user agent: Mozilla/5.0 (Macintosh; Intel Mac OS X 10_15_7) AppleWebKit/537.36 (KHTML, like Gecko) Chrome/100.0.4896.127 Safari/537.36\n",
      "Error scraping url https://batdongsan.com.vn/cho-thue-can-ho-chung-cu-duong-phan-van-dang-phuong-thanh-my-loi-prj-feliz-en-vista/c-1pn-noi-that-co-ban-view-tang-mat-gia-chi-16-trieu-thang-pr42701725: 're__icon-front-view'\n"
     ]
    },
    {
     "name": "stderr",
     "output_type": "stream",
     "text": [
      "Processing batches:  49%|████▊     | 565/1161 [1:12:49<52:12,  5.26s/it]"
     ]
    },
    {
     "name": "stdout",
     "output_type": "stream",
     "text": [
      "Error scraping url https://batdongsan.com.vn/cho-thue-nha-tro-phong-tro-duong-pham-van-chieu-phuong-14-8/-gac-lung-mat-tien-tang-tret-rieng-biet-hem-8m-140-p-14-q-go-vap-pr42121437: 're__icon-road'\n"
     ]
    },
    {
     "name": "stderr",
     "output_type": "stream",
     "text": [
      "Processing batches:  49%|████▉     | 566/1161 [1:12:50<38:29,  3.88s/it]"
     ]
    },
    {
     "name": "stdout",
     "output_type": "stream",
     "text": [
      "Using Chrome with user agent: Mozilla/5.0 (Windows NT 10.0; Win64; x64) AppleWebKit/537.36 (KHTML, like Gecko) Chrome/100.0.4896.127 Safari/537.36\n",
      "Using Chrome with user agent: Mozilla/5.0 (Macintosh; Intel Mac OS X 10_15_7) AppleWebKit/537.36 (KHTML, like Gecko) Chrome/100.0.4896.127 Safari/537.36\n",
      "Error scraping url https://batdongsan.com.vn/cho-thue-can-ho-chung-cu-duong-dai-lo-vong-cung-phuong-thu-thiem-prj-the-opera-residence/c-metropole-2-png-ngu-full-noi-that-tang-cao-view-song-sieu-chill-pr42746753: 're__icon-private-house'\n"
     ]
    },
    {
     "name": "stderr",
     "output_type": "stream",
     "text": [
      "Processing batches:  49%|████▉     | 567/1161 [1:12:56<44:57,  4.54s/it]"
     ]
    },
    {
     "name": "stdout",
     "output_type": "stream",
     "text": [
      "Error scraping url https://batdongsan.com.vn/cho-thue-nha-tro-phong-tro-duong-le-quang-dinh-phuong-11-7/-sinh-vien-studio-ban-cong-ngay-dh-van-lang-cs2-pr42746682: 're__icon-clock'\n"
     ]
    },
    {
     "name": "stderr",
     "output_type": "stream",
     "text": [
      "Processing batches:  49%|████▉     | 568/1161 [1:12:59<41:09,  4.16s/it]"
     ]
    },
    {
     "name": "stdout",
     "output_type": "stream",
     "text": [
      "Using Chrome with user agent: Mozilla/5.0 (Windows NT 10.0; Win64; x64) AppleWebKit/537.36 (KHTML, like Gecko) Chrome/99.0.4844.84 Safari/537.36\n",
      "Using Chrome with user agent: Mozilla/5.0 (Windows NT 10.0; Win64; x64) AppleWebKit/537.36 (KHTML, like Gecko) Chrome/99.0.4844.84 Safari/537.36\n",
      "Error scraping url https://batdongsan.com.vn/cho-thue-can-ho-chung-cu-mini-duong-nguyen-du-phuong-ben-nghe/-dich-vu-gia-tot-ngay-trung-tam-di-bo-5-phut-den-ga-tau-dien-thanh-pr42685704: 're__icon-clock'\n"
     ]
    },
    {
     "name": "stderr",
     "output_type": "stream",
     "text": [
      "Processing batches:  49%|████▉     | 569/1161 [1:13:06<49:11,  4.99s/it]"
     ]
    },
    {
     "name": "stdout",
     "output_type": "stream",
     "text": [
      "Error scraping url https://batdongsan.com.vn/cho-thue-can-ho-chung-cu-duong-trung-my-tay-2a-phuong-trung-my-tay-prj-nha-o-can-bo-quan-khu-7/cho-7-ben-vinmart-2pn-2wc-62m2-gia-6tr500-thang-pr42437255: 're__icon-clock'\n"
     ]
    },
    {
     "name": "stderr",
     "output_type": "stream",
     "text": [
      "Processing batches:  49%|████▉     | 570/1161 [1:13:08<40:19,  4.09s/it]"
     ]
    },
    {
     "name": "stdout",
     "output_type": "stream",
     "text": [
      "Using Chrome with user agent: Mozilla/5.0 (Macintosh; Intel Mac OS X 10_15_7) AppleWebKit/537.36 (KHTML, like Gecko) Chrome/100.0.4896.127 Safari/537.36\n",
      "Using Chrome with user agent: Mozilla/5.0 (Windows NT 10.0; Win64; x64) AppleWebKit/537.36 (KHTML, like Gecko) Chrome/100.0.4896.127 Safari/537.36\n",
      "Error scraping url https://batdongsan.com.vn/cho-thue-can-ho-chung-cu-duong-dien-bien-phu-phuong-22-prj-vinhomes-central-park/-cho-thue-pr42741228: 're__icon-front-view'\n"
     ]
    },
    {
     "name": "stderr",
     "output_type": "stream",
     "text": [
      "Processing batches:  49%|████▉     | 571/1161 [1:13:18<57:04,  5.80s/it]"
     ]
    },
    {
     "name": "stdout",
     "output_type": "stream",
     "text": [
      "Error scraping url https://batdongsan.com.vn/cho-thue-can-ho-chung-cu-duong-cay-keo-phuong-tam-phu-prj-dat-gia-residence-thu-duc/cho-cc-8-trieu-71m2-2pn-2wc-hcm-pr42746475: 're__icon-front-view'\n"
     ]
    },
    {
     "name": "stderr",
     "output_type": "stream",
     "text": [
      "Processing batches:  49%|████▉     | 572/1161 [1:13:19<42:32,  4.33s/it]"
     ]
    },
    {
     "name": "stdout",
     "output_type": "stream",
     "text": [
      "Error scraping url https://batdongsan.com.vn/cho-thue-can-ho-chung-cu-mini-duong-le-van-sy-phuong-12-1/khai-truong-sieu-pham-studio-san-go-tach-bep-may-giat-rieng-gan-cau-cho-nguyen-troi-pr42746347: 're__icon-clock'\n"
     ]
    },
    {
     "name": "stderr",
     "output_type": "stream",
     "text": [
      "Processing batches:  49%|████▉     | 573/1161 [1:13:22<38:59,  3.98s/it]"
     ]
    },
    {
     "name": "stdout",
     "output_type": "stream",
     "text": [
      "Using Chrome with user agent: Mozilla/5.0 (Windows NT 10.0; Win64; x64) AppleWebKit/537.36 (KHTML, like Gecko) Chrome/100.0.4896.127 Safari/537.36\n",
      "Using Chrome with user agent: Mozilla/5.0 (Windows NT 10.0; Win64; x64) AppleWebKit/537.36 (KHTML, like Gecko) Chrome/100.0.4896.127 Safari/537.36\n",
      "Using Chrome with user agent: Mozilla/5.0 (Windows NT 10.0; Win64; x64) AppleWebKit/537.36 (KHTML, like Gecko) Chrome/100.0.4896.127 Safari/537.36\n",
      "Error scraping url https://batdongsan.com.vn/cho-thue-can-ho-chung-cu-duong-ben-van-don-phuong-6-prj-river-gate/c-cao-cap-toa-29-trieu-thang-111m2-3pn-2wc-quan-4-view-song-quan-1-pr42557538: 're__icon-front-view'\n"
     ]
    },
    {
     "name": "stderr",
     "output_type": "stream",
     "text": [
      "Processing batches:  49%|████▉     | 574/1161 [1:13:29<47:29,  4.85s/it]"
     ]
    },
    {
     "name": "stdout",
     "output_type": "stream",
     "text": [
      "Using Chrome with user agent: Mozilla/5.0 (Windows NT 10.0; Win64; x64) AppleWebKit/537.36 (KHTML, like Gecko) Chrome/99.0.4844.84 Safari/537.36\n",
      "Error scraping url https://batdongsan.com.vn/cho-thue-can-ho-chung-cu-duong-xa-lo-ha-noi-phuong-an-phu-prj-cantavil-an-phu-cantavil-premier/cho-chcc-q-2-125-m2-3-pn-gia-30-tr-thang-lau-cao-view-thoang-pr42745385: 're__icon-front-view'\n"
     ]
    },
    {
     "name": "stderr",
     "output_type": "stream",
     "text": [
      "Processing batches:  50%|████▉     | 575/1161 [1:13:36<53:15,  5.45s/it]"
     ]
    },
    {
     "name": "stdout",
     "output_type": "stream",
     "text": [
      "Error scraping url https://batdongsan.com.vn/cho-thue-can-ho-chung-cu-duong-vo-nguyen-giap-phuong-an-phu-prj-lumiere-riverside/cho-1-pn-52m2-gia-22-5tr-thang-ntcb-tang-cao-view-c-chill-pr42598658: 're__icon-clock'\n"
     ]
    },
    {
     "name": "stderr",
     "output_type": "stream",
     "text": [
      "Processing batches:  50%|████▉     | 576/1161 [1:13:36<38:37,  3.96s/it]"
     ]
    },
    {
     "name": "stdout",
     "output_type": "stream",
     "text": [
      "Using Chrome with user agent: Mozilla/5.0 (Macintosh; Intel Mac OS X 10_15_7) AppleWebKit/537.36 (KHTML, like Gecko) Chrome/100.0.4896.127 Safari/537.36\n",
      "Using Chrome with user agent: Mozilla/5.0 (Windows NT 10.0; Win64; x64) AppleWebKit/537.36 (KHTML, like Gecko) Chrome/99.0.4844.84 Safari/537.36\n",
      "Error scraping url https://batdongsan.com.vn/cho-thue-can-ho-chung-cu-phuong-binh-trung-tay-prj-diamond-island/tong-p-1-2-3-4pn-villa-view-song-va-boi-dep-gia-tot-nhat-thi-truong-pr36987764: 're__icon-front-view'\n"
     ]
    },
    {
     "name": "stderr",
     "output_type": "stream",
     "text": [
      "Processing batches:  50%|████▉     | 578/1161 [1:13:46<41:10,  4.24s/it]"
     ]
    },
    {
     "name": "stdout",
     "output_type": "stream",
     "text": [
      "Error scraping url https://batdongsan.com.vn/cho-thue-can-ho-chung-cu-mini-duong-nguyen-hoang-phuong-an-phu-prj-an-phu-new-city/-studio-full-noi-that-cua-so-troi-khu-compound-ben-trong-qu-2-pr42745875: 're__icon-clock'\n",
      "Using Chrome with user agent: Mozilla/5.0 (Windows NT 10.0; Win64; x64) AppleWebKit/537.36 (KHTML, like Gecko) Chrome/99.0.4844.84 Safari/537.36\n",
      "Using Chrome with user agent: Mozilla/5.0 (Macintosh; Intel Mac OS X 10_15_7) AppleWebKit/537.36 (KHTML, like Gecko) Chrome/100.0.4896.127 Safari/537.36\n",
      "Error scraping url https://batdongsan.com.vn/cho-thue-can-ho-chung-cu-mini-duong-hong-bang-phuong-1-19/sieu-pham-sang-xin-tai-quan-11-pr42745443: 're__icon-electricity'\n"
     ]
    },
    {
     "name": "stderr",
     "output_type": "stream",
     "text": [
      "Processing batches:  50%|████▉     | 579/1161 [1:13:58<1:03:15,  6.52s/it]"
     ]
    },
    {
     "name": "stdout",
     "output_type": "stream",
     "text": [
      "Using Chrome with user agent: Mozilla/5.0 (Macintosh; Intel Mac OS X 10_15_7) AppleWebKit/537.36 (KHTML, like Gecko) Chrome/99.0.4844.84 Safari/537.36\n",
      "Error scraping url https://batdongsan.com.vn/cho-thue-can-ho-chung-cu-duong-xa-lo-ha-noi-phuong-thao-dien-prj-masteri-thao-dien/cho-1pn-chi-16-trieu-thang-pr42708535: 're__icon-front-view'\n"
     ]
    },
    {
     "name": "stderr",
     "output_type": "stream",
     "text": [
      "Processing batches:  50%|█████     | 581/1161 [1:14:05<49:34,  5.13s/it]  "
     ]
    },
    {
     "name": "stdout",
     "output_type": "stream",
     "text": [
      "Error scraping url https://batdongsan.com.vn/cho-thue-can-ho-chung-cu-mini-duong-cach-mang-thang-tam-phuong-10-3/-ban-cong-rieng-full-noi-that-cv-le-thi-rieng-gan-ueh-dai-hoc-hoa-sen-cmt8-quan-10-pr40748920: 're__icon-clock'\n",
      "Using Chrome with user agent: Mozilla/5.0 (Windows NT 10.0; Win64; x64) AppleWebKit/537.36 (KHTML, like Gecko) Chrome/99.0.4844.84 Safari/537.36\n"
     ]
    },
    {
     "name": "stderr",
     "output_type": "stream",
     "text": [
      "Processing batches:  50%|█████     | 582/1161 [1:14:09<44:55,  4.65s/it]"
     ]
    },
    {
     "name": "stdout",
     "output_type": "stream",
     "text": [
      "Error scraping url https://batdongsan.com.vn/cho-thue-can-ho-chung-cu-duong-3-2-2-phuong-12-5-prj-hado-centrosa-garden/san-sang-giao-nha-m-nay-c-2-png-ngu-dn-co-ban-cong-doi-dai-garden-pr41148042: 're__icon-front-view'\n",
      "Using Chrome with user agent: Mozilla/5.0 (Windows NT 10.0; Win64; x64) AppleWebKit/537.36 (KHTML, like Gecko) Chrome/99.0.4844.84 Safari/537.36\n",
      "Using Chrome with user agent: Mozilla/5.0 (Windows NT 10.0; Win64; x64) AppleWebKit/537.36 (KHTML, like Gecko) Chrome/100.0.4896.127 Safari/537.36\n",
      "Error scraping url https://batdongsan.com.vn/cho-thue-can-ho-chung-cu-mini-duong-nguyen-van-luong-1-phuong-6-14/1pn-tach-bep-ngay-dh-vs-cs3-iuh-cong-vien-hoa-go-vap-emart-phan-tri-full-nt-moi-an-ninh-pr42744148: 're__icon-clock'\n"
     ]
    },
    {
     "name": "stderr",
     "output_type": "stream",
     "text": [
      "Processing batches:  50%|█████     | 583/1161 [1:14:16<52:10,  5.42s/it]"
     ]
    },
    {
     "name": "stdout",
     "output_type": "stream",
     "text": [
      "Using Chrome with user agent: Mozilla/5.0 (Windows NT 10.0; Win64; x64) AppleWebKit/537.36 (KHTML, like Gecko) Chrome/100.0.4896.127 Safari/537.36\n",
      "Error scraping url https://batdongsan.com.vn/cho-thue-can-ho-chung-cu-duong-nguyen-van-linh-xa-binh-hung-1-prj-mizuki-park/cho-parj-78m2-2pn-2wc-view-kenh-dao-o-lien-duoc-gia-9-5tr-thang-lh-pr42027246: 're__icon-front-view'\n"
     ]
    },
    {
     "name": "stderr",
     "output_type": "stream",
     "text": [
      "Processing batches:  50%|█████     | 584/1161 [1:14:33<1:24:54,  8.83s/it]"
     ]
    },
    {
     "name": "stdout",
     "output_type": "stream",
     "text": [
      "Using Chrome with user agent: Mozilla/5.0 (Macintosh; Intel Mac OS X 10_15_7) AppleWebKit/537.36 (KHTML, like Gecko) Chrome/100.0.4896.127 Safari/537.36\n",
      "Error scraping url https://batdongsan.com.vn/cho-thue-can-ho-chung-cu-duong-nguyen-thi-dinh-phuong-an-phu-prj-can-ho-dlusso/-2pn2wc-12-5-trieu-thg-view-song-pr41208443: 're__icon-front-view'\n"
     ]
    },
    {
     "name": "stderr",
     "output_type": "stream",
     "text": [
      "Processing batches:  50%|█████     | 585/1161 [1:14:40<1:19:53,  8.32s/it]"
     ]
    },
    {
     "name": "stdout",
     "output_type": "stream",
     "text": [
      "Using Chrome with user agent: Mozilla/5.0 (Windows NT 10.0; Win64; x64) AppleWebKit/537.36 (KHTML, like Gecko) Chrome/99.0.4844.84 Safari/537.36\n",
      "Error scraping url https://batdongsan.com.vn/cho-thue-can-ho-chung-cu-duong-so-6-phuong-hiep-binh-phuoc-prj-urban-green/cong-ty-co-nhieu-1-2-3-phong-ngu-khach-hang-ky-gui-gia-re-vao-o-ngay-mien-phi-15-ngay-pr42697330: 're__icon-front-view'\n"
     ]
    },
    {
     "name": "stderr",
     "output_type": "stream",
     "text": [
      "Processing batches:  50%|█████     | 586/1161 [1:14:48<1:19:11,  8.26s/it]"
     ]
    },
    {
     "name": "stdout",
     "output_type": "stream",
     "text": [
      "Using Chrome with user agent: Mozilla/5.0 (Macintosh; Intel Mac OS X 10_15_7) AppleWebKit/537.36 (KHTML, like Gecko) Chrome/99.0.4844.84 Safari/537.36\n",
      "Error scraping url https://batdongsan.com.vn/cho-thue-can-ho-chung-cu-mini-duong-doan-cong-hon-phuong-truong-tho-2/c-full-noi-that-ngay-c-thu-duc-t-gan-pham-van-dong-pr42576993: 're__icon-front-view'\n"
     ]
    },
    {
     "name": "stderr",
     "output_type": "stream",
     "text": [
      "Processing batches:  51%|█████     | 588/1161 [1:14:59<1:04:15,  6.73s/it]"
     ]
    },
    {
     "name": "stdout",
     "output_type": "stream",
     "text": [
      "Error scraping url https://batdongsan.com.vn/cho-thue-can-ho-chung-cu-mini-duong-nguyen-thi-minh-khai-phuong-5-8/-dep-yen-tinh-trung-tam-quan-3-lien-ke-quan-1-pr42431572: 're__icon-front-view'\n",
      "Using Chrome with user agent: Mozilla/5.0 (Macintosh; Intel Mac OS X 10_15_7) AppleWebKit/537.36 (KHTML, like Gecko) Chrome/99.0.4844.84 Safari/537.36\n",
      "Using Chrome with user agent: Mozilla/5.0 (Macintosh; Intel Mac OS X 10_15_7) AppleWebKit/537.36 (KHTML, like Gecko) Chrome/99.0.4844.84 Safari/537.36\n",
      "Error scraping url https://batdongsan.com.vn/cho-thue-can-ho-chung-cu-duong-nguyen-huu-tho-xa-phuoc-kieng-prj-hoang-anh-gold-house/c-ang-use-2-png-ngu-goc-view-boi-gia-10-trieu-pr42744747: 're__icon-front-view'\n"
     ]
    },
    {
     "name": "stderr",
     "output_type": "stream",
     "text": [
      "Processing batches:  51%|█████     | 589/1161 [1:15:04<58:50,  6.17s/it]  "
     ]
    },
    {
     "name": "stdout",
     "output_type": "stream",
     "text": [
      "Using Chrome with user agent: Mozilla/5.0 (Macintosh; Intel Mac OS X 10_15_7) AppleWebKit/537.36 (KHTML, like Gecko) Chrome/99.0.4844.84 Safari/537.36\n"
     ]
    },
    {
     "name": "stderr",
     "output_type": "stream",
     "text": [
      "Processing batches:  51%|█████     | 590/1161 [1:15:17<1:16:03,  7.99s/it]"
     ]
    },
    {
     "name": "stdout",
     "output_type": "stream",
     "text": [
      "Error scraping url https://batdongsan.com.vn/cho-thue-can-ho-chung-cu-duong-nguyen-van-huong-phuong-thao-dien-prj-hoang-anh-river-view/c-177m2-tang-thap-dang-trong-san-sang-landmark-81-lh-pr41833338: 're__icon-front-view'\n",
      "Error scraping url https://batdongsan.com.vn/cho-thue-can-ho-chung-cu-duong-thoai-ngoc-hau-phuong-hoa-thanh-prj-res-green-tower/-c-gap-resgreen-75m2-2pn-gia-re-12-trieu-o-lien-khang-view-mat-pr39300049: 're__icon-front-view'\n"
     ]
    },
    {
     "name": "stderr",
     "output_type": "stream",
     "text": [
      "Processing batches:  51%|█████     | 591/1161 [1:15:19<1:00:38,  6.38s/it]"
     ]
    },
    {
     "name": "stdout",
     "output_type": "stream",
     "text": [
      "Using Chrome with user agent: Mozilla/5.0 (Macintosh; Intel Mac OS X 10_15_7) AppleWebKit/537.36 (KHTML, like Gecko) Chrome/100.0.4896.127 Safari/537.36\n",
      "Using Chrome with user agent: Mozilla/5.0 (Macintosh; Intel Mac OS X 10_15_7) AppleWebKit/537.36 (KHTML, like Gecko) Chrome/100.0.4896.127 Safari/537.36\n",
      "Error scraping url https://batdongsan.com.vn/cho-thue-can-ho-chung-cu-duong-3-8-phuong-an-khanh-prj-chung-cu-bo-cong-an/c-2pn-full-nt-12-5tr-3-khh-q2-lh-pr38771967: 're__icon-document'\n"
     ]
    },
    {
     "name": "stderr",
     "output_type": "stream",
     "text": [
      "Processing batches:  51%|█████     | 592/1161 [1:15:24<57:00,  6.01s/it]  "
     ]
    },
    {
     "name": "stdout",
     "output_type": "stream",
     "text": [
      "Using Chrome with user agent: Mozilla/5.0 (Windows NT 10.0; Win64; x64) AppleWebKit/537.36 (KHTML, like Gecko) Chrome/100.0.4896.127 Safari/537.36\n"
     ]
    },
    {
     "name": "stderr",
     "output_type": "stream",
     "text": [
      "Processing batches:  51%|█████     | 593/1161 [1:15:32<1:02:31,  6.61s/it]"
     ]
    },
    {
     "name": "stdout",
     "output_type": "stream",
     "text": [
      "Error scraping url https://batdongsan.com.vn/cho-thue-can-ho-chung-cu-duong-huynh-ba-chanh-xa-tan-kien-prj-conic-boulevard/-moi-100-vua-nhan-ban-giao-tang-trung-view-tang-pr42309748: 're__icon-clock'\n",
      "Using Chrome with user agent: Mozilla/5.0 (Windows NT 10.0; Win64; x64) AppleWebKit/537.36 (KHTML, like Gecko) Chrome/99.0.4844.84 Safari/537.36\n"
     ]
    },
    {
     "name": "stderr",
     "output_type": "stream",
     "text": [
      "Processing batches:  51%|█████     | 594/1161 [1:15:39<1:02:46,  6.64s/it]"
     ]
    },
    {
     "name": "stdout",
     "output_type": "stream",
     "text": [
      "Error scraping url https://batdongsan.com.vn/cho-thue-can-ho-chung-cu-duong-nguyen-huu-tho-xa-phuoc-kieng-prj-hung-phat-silver-star/chinh-chu-c-12-trieu-70-5m2-2pn-2wc-day-du-noi-that-pr42744204: 're__icon-front-view'\n",
      "Error scraping url https://batdongsan.com.vn/cho-thue-can-ho-chung-cu-duong-hong-bang-phuong-12-2-prj-hung-vuong-plaza/cho-chcc-lau-cao-view-dep-130m2-3pn2wc-full-nt-xin-dep-o-lien-gia-18tr-th-pr38512307: HTTPConnectionPool(host='localhost', port=60757): Read timed out. (read timeout=120)\n",
      "Using Chrome with user agent: Mozilla/5.0 (Windows NT 10.0; Win64; x64) AppleWebKit/537.36 (KHTML, like Gecko) Chrome/100.0.4896.127 Safari/537.36\n"
     ]
    },
    {
     "name": "stderr",
     "output_type": "stream",
     "text": [
      "Processing batches:  51%|█████▏    | 596/1161 [1:15:46<46:37,  4.95s/it]  "
     ]
    },
    {
     "name": "stdout",
     "output_type": "stream",
     "text": [
      "Error scraping url https://batdongsan.com.vn/cho-thue-can-ho-chung-cu-duong-an-duong-vuong-phuong-an-lac-6-prj-the-privia/cho-gap-ch-2pn-2wc-dt-67m2-full-nt-cao-cap-khang-dien-binh-tan-pr42744104: 're__icon-front-view'\n",
      "Using Chrome with user agent: Mozilla/5.0 (Windows NT 10.0; Win64; x64) AppleWebKit/537.36 (KHTML, like Gecko) Chrome/100.0.4896.127 Safari/537.36\n",
      "Using Chrome with user agent: Mozilla/5.0 (Windows NT 10.0; Win64; x64) AppleWebKit/537.36 (KHTML, like Gecko) Chrome/99.0.4844.84 Safari/537.36\n",
      "Error scraping url https://batdongsan.com.vn/cho-thue-nha-tro-phong-tro-duong-nguyen-thai-son-phuong-1-21/-18m-gio-giac-tu-do-ngay-cho-gv-truong-dh-cong-nghiep-van-lang-pr42744016: 're__icon-clock'\n"
     ]
    },
    {
     "name": "stderr",
     "output_type": "stream",
     "text": [
      "Processing batches:  52%|█████▏    | 598/1161 [1:15:54<40:44,  4.34s/it]"
     ]
    },
    {
     "name": "stdout",
     "output_type": "stream",
     "text": [
      "Error scraping url https://batdongsan.com.vn/cho-thue-can-ho-chung-cu-duong-nguyen-van-thuong-phuong-25-prj-wilton-tower/cho-1-phong-ngu-50m2-day-du-noi-that-moi-100-gia-14-trieu-cam-ket-tin-that-pr41458292: 're__icon-document'\n",
      "Using Chrome with user agent: Mozilla/5.0 (Windows NT 10.0; Win64; x64) AppleWebKit/537.36 (KHTML, like Gecko) Chrome/99.0.4844.84 Safari/537.36\n",
      "Using Chrome with user agent: Mozilla/5.0 (Windows NT 10.0; Win64; x64) AppleWebKit/537.36 (KHTML, like Gecko) Chrome/99.0.4844.84 Safari/537.36\n",
      "Error scraping url https://batdongsan.com.vn/cho-thue-can-ho-chung-cu-duong-dao-tri-phuong-phu-thuan-3-prj-q7-saigon-riverside/-sang-hd-2pn-2wc-67m2-full-noi-that-14-5tr-pr42743647: 're__icon-electricity'\n"
     ]
    },
    {
     "name": "stderr",
     "output_type": "stream",
     "text": [
      "Processing batches:  52%|█████▏    | 599/1161 [1:16:08<1:06:34,  7.11s/it]"
     ]
    },
    {
     "name": "stdout",
     "output_type": "stream",
     "text": [
      "Using Chrome with user agent: Mozilla/5.0 (Macintosh; Intel Mac OS X 10_15_7) AppleWebKit/537.36 (KHTML, like Gecko) Chrome/99.0.4844.84 Safari/537.36\n",
      "Error scraping url https://batdongsan.com.vn/cho-thue-can-ho-chung-cu-duong-mai-chi-tho-phuong-an-phu-prj-centana-thu-thiem/600-hang-vip-3p-full-noi-that-13tr-nha-trong-12tr-2p-full-nt-11tr-12tr-1p-9tr-full-nt-10-5tr-pr38807023: 're__icon-front-view'\n"
     ]
    },
    {
     "name": "stderr",
     "output_type": "stream",
     "text": [
      "Processing batches:  52%|█████▏    | 600/1161 [1:16:16<1:09:43,  7.46s/it]"
     ]
    },
    {
     "name": "stdout",
     "output_type": "stream",
     "text": [
      "Using Chrome with user agent: Mozilla/5.0 (Windows NT 10.0; Win64; x64) AppleWebKit/537.36 (KHTML, like Gecko) Chrome/100.0.4896.127 Safari/537.36\n",
      "Error scraping url https://batdongsan.com.vn/cho-thue-can-ho-chung-cu-duong-nguyen-van-linh-xa-an-phu-tay-prj-hqc-plaza/cho-2pn-du-noi-that-4tr5-54m2-ngay-cho-binh-dien-q8-di-q7-het-15p-pr36944286: HTTPConnectionPool(host='localhost', port=61493): Read timed out. (read timeout=120)\n"
     ]
    },
    {
     "name": "stderr",
     "output_type": "stream",
     "text": [
      "Processing batches:  52%|█████▏    | 601/1161 [1:16:21<1:02:20,  6.68s/it]"
     ]
    },
    {
     "name": "stdout",
     "output_type": "stream",
     "text": [
      "Using Chrome with user agent: Mozilla/5.0 (Macintosh; Intel Mac OS X 10_15_7) AppleWebKit/537.36 (KHTML, like Gecko) Chrome/99.0.4844.84 Safari/537.36\n",
      "Error scraping url https://batdongsan.com.vn/cho-thue-can-ho-chung-cu-duong-xo-viet-nghe-tinh-phuong-21-prj-chung-cu-my-duc/cho-ch-2pn-nha-dep-thoang-mat-11tr-13tr-th-lh-mrs-phuong-pr41417782: 're__icon-private-house'\n"
     ]
    },
    {
     "name": "stderr",
     "output_type": "stream",
     "text": [
      "Processing batches:  52%|█████▏    | 602/1161 [1:16:48<1:58:03, 12.67s/it]"
     ]
    },
    {
     "name": "stdout",
     "output_type": "stream",
     "text": [
      "Error scraping url https://batdongsan.com.vn/cho-thue-can-ho-chung-cu-mini-duong-ly-thai-to-phuong-9-9/ra-mat-sieu-pham-duplex-sieu-khong-gioi-han-nguoi-full-tien-nghi-gan-nga-6-cong-hoa-q10-pr42743512: 're__icon-front-view'\n"
     ]
    },
    {
     "name": "stderr",
     "output_type": "stream",
     "text": [
      "Processing batches:  52%|█████▏    | 603/1161 [1:16:49<1:25:11,  9.16s/it]"
     ]
    },
    {
     "name": "stdout",
     "output_type": "stream",
     "text": [
      "Error scraping url https://batdongsan.com.vn/cho-thue-can-ho-chung-cu-pho-ton-duc-thang-phuong-ben-nghe-prj-vinhomes-golden-river-ba-son/c-3pn-2wc-110m2-tai-vinmes-58-trieu-vnd-pr42743701: 're__icon-front-view'\n",
      "Using Chrome with user agent: Mozilla/5.0 (Windows NT 10.0; Win64; x64) AppleWebKit/537.36 (KHTML, like Gecko) Chrome/99.0.4844.84 Safari/537.36\n"
     ]
    },
    {
     "name": "stderr",
     "output_type": "stream",
     "text": [
      "Processing batches:  52%|█████▏    | 604/1161 [1:16:51<1:06:20,  7.15s/it]"
     ]
    },
    {
     "name": "stdout",
     "output_type": "stream",
     "text": [
      "Using Chrome with user agent: Mozilla/5.0 (Windows NT 10.0; Win64; x64) AppleWebKit/537.36 (KHTML, like Gecko) Chrome/99.0.4844.84 Safari/537.36\n",
      "Using Chrome with user agent: Mozilla/5.0 (Macintosh; Intel Mac OS X 10_15_7) AppleWebKit/537.36 (KHTML, like Gecko) Chrome/100.0.4896.127 Safari/537.36\n",
      "Error scraping url https://batdongsan.com.vn/cho-thue-can-ho-chung-cu-duong-ton-dat-tien-phuong-tan-phu-19-prj-scenic-valley-1/chuyen-cong-tac-cho-nhanh-3pn-151m2-view-san-golf-lh-pr42367137: 're__icon-front-view'\n"
     ]
    },
    {
     "name": "stderr",
     "output_type": "stream",
     "text": [
      "Processing batches:  52%|█████▏    | 605/1161 [1:17:04<1:23:15,  8.99s/it]"
     ]
    },
    {
     "name": "stdout",
     "output_type": "stream",
     "text": [
      "Error scraping url https://batdongsan.com.vn/cho-thue-can-ho-chung-cu-duong-hoang-quoc-viet-phuong-phu-thuan-3-prj-river-panorama/cho-gap-ch-2pn-2wc-65m2-12-trieu-vnd-full-noi-that-tai-q7-tp-hcm-pr42743526: 're__icon-front-view'\n"
     ]
    },
    {
     "name": "stderr",
     "output_type": "stream",
     "text": [
      "Processing batches:  52%|█████▏    | 606/1161 [1:17:06<1:02:01,  6.70s/it]"
     ]
    },
    {
     "name": "stdout",
     "output_type": "stream",
     "text": [
      "Using Chrome with user agent: Mozilla/5.0 (Macintosh; Intel Mac OS X 10_15_7) AppleWebKit/537.36 (KHTML, like Gecko) Chrome/99.0.4844.84 Safari/537.36\n",
      "Using Chrome with user agent: Mozilla/5.0 (Windows NT 10.0; Win64; x64) AppleWebKit/537.36 (KHTML, like Gecko) Chrome/99.0.4844.84 Safari/537.36\n",
      "Error scraping url https://batdongsan.com.vn/cho-thue-can-ho-chung-cu-duong-ton-dat-tien-phuong-tan-phu-19-prj-green-valley/c-pmh-q7-2pn-96m2-nha-dep-re-nhat-khu-vuc-lh-mr-thao-pr42651307: 're__icon-clock'\n"
     ]
    },
    {
     "name": "stderr",
     "output_type": "stream",
     "text": [
      "Processing batches:  52%|█████▏    | 607/1161 [1:17:16<1:12:07,  7.81s/it]"
     ]
    },
    {
     "name": "stdout",
     "output_type": "stream",
     "text": [
      "Using Chrome with user agent: Mozilla/5.0 (Windows NT 10.0; Win64; x64) AppleWebKit/537.36 (KHTML, like Gecko) Chrome/99.0.4844.84 Safari/537.36\n",
      "Error scraping url https://batdongsan.com.vn/cho-thue-can-ho-chung-cu-mini-duong-tran-quang-dieu-phuong-14-1/-dv-2pn-ban-cong-full-noi-that-may-giat-rieng-ke-cau-le-van-sy-pr42726245: 're__icon-clock'\n"
     ]
    },
    {
     "name": "stderr",
     "output_type": "stream",
     "text": [
      "Processing batches:  52%|█████▏    | 608/1161 [1:17:20<1:00:36,  6.58s/it]"
     ]
    },
    {
     "name": "stdout",
     "output_type": "stream",
     "text": [
      "Using Chrome with user agent: Mozilla/5.0 (Macintosh; Intel Mac OS X 10_15_7) AppleWebKit/537.36 (KHTML, like Gecko) Chrome/100.0.4896.127 Safari/537.36\n",
      "Error scraping url https://batdongsan.com.vn/cho-thue-nha-tro-phong-tro-duong-le-quang-dinh-phuong-7-9/hot-hit-cho-20m2-tai-chi-4-500-000-pr41620605: 're__icon-document'\n"
     ]
    },
    {
     "name": "stderr",
     "output_type": "stream",
     "text": [
      "Processing batches:  52%|█████▏    | 609/1161 [1:17:27<1:02:28,  6.79s/it]"
     ]
    },
    {
     "name": "stdout",
     "output_type": "stream",
     "text": [
      "Error scraping url https://batdongsan.com.vn/cho-thue-nha-tro-phong-tro-duong-so-28-phuong-6-14/-gia-tre-danh-cho-sinh-vien-pr42742707: 're__icon-clock'\n",
      "Using Chrome with user agent: Mozilla/5.0 (Windows NT 10.0; Win64; x64) AppleWebKit/537.36 (KHTML, like Gecko) Chrome/100.0.4896.127 Safari/537.36\n",
      "Using Chrome with user agent: Mozilla/5.0 (Windows NT 10.0; Win64; x64) AppleWebKit/537.36 (KHTML, like Gecko) Chrome/99.0.4844.84 Safari/537.36\n",
      "Error scraping url https://batdongsan.com.vn/cho-thue-can-ho-chung-cu-duong-ho-hoc-lam-phuong-an-lac-6-prj-khu-can-ho-ehome-3/-eme-3-c-day-du-noi-that-2pn-2wc-chi-7-5tr-thang-pr42740043: 're__icon-electricity'\n"
     ]
    },
    {
     "name": "stderr",
     "output_type": "stream",
     "text": [
      "Processing batches:  53%|█████▎    | 611/1161 [1:17:41<1:02:41,  6.84s/it]"
     ]
    },
    {
     "name": "stdout",
     "output_type": "stream",
     "text": [
      "Using Chrome with user agent: Mozilla/5.0 (Windows NT 10.0; Win64; x64) AppleWebKit/537.36 (KHTML, like Gecko) Chrome/99.0.4844.84 Safari/537.36\n",
      "Error scraping url https://batdongsan.com.vn/cho-thue-nha-tro-phong-tro-duong-truong-sa-phuong-12-1/cho-ban-cong-bep-tach-biet-5-8-trieu-35m2-o-p12-q3-hcm-gia-sieu-hoi-pr41915719: 're__icon-front-view'\n"
     ]
    },
    {
     "name": "stderr",
     "output_type": "stream",
     "text": [
      "Processing batches:  53%|█████▎    | 612/1161 [1:17:58<1:26:30,  9.45s/it]"
     ]
    },
    {
     "name": "stdout",
     "output_type": "stream",
     "text": [
      "Using Chrome with user agent: Mozilla/5.0 (Windows NT 10.0; Win64; x64) AppleWebKit/537.36 (KHTML, like Gecko) Chrome/100.0.4896.127 Safari/537.36\n",
      "Error scraping url https://batdongsan.com.vn/cho-thue-nha-tro-phong-tro-duong-le-duc-tho-phuong-16-3/du-an-duplex-ban-cong-5-x00-000-full-noi-that-cach-lotte-go-vap-3phut-pr42742818: 're__icon-clock'\n",
      "Error scraping url https://batdongsan.com.vn/cho-thue-can-ho-chung-cu-duong-nguyen-luong-bang-1-xa-phu-xuan-prj-orchid-park/cho-cc-2pn-2wc-tai-6-5-trieu-77m2-view-dep-uy-tin-o-nha-be-hcm-pr42303757: 're__icon-clock'\n"
     ]
    },
    {
     "name": "stderr",
     "output_type": "stream",
     "text": [
      "Processing batches:  53%|█████▎    | 613/1161 [1:18:07<1:23:12,  9.11s/it]"
     ]
    },
    {
     "name": "stdout",
     "output_type": "stream",
     "text": [
      "Using Chrome with user agent: Mozilla/5.0 (Windows NT 10.0; Win64; x64) AppleWebKit/537.36 (KHTML, like Gecko) Chrome/99.0.4844.84 Safari/537.36\n",
      "Using Chrome with user agent: Mozilla/5.0 (Windows NT 10.0; Win64; x64) AppleWebKit/537.36 (KHTML, like Gecko) Chrome/99.0.4844.84 Safari/537.36\n",
      "Error scraping url https://batdongsan.com.vn/cho-thue-can-ho-chung-cu-duong-so-9a-xa-binh-hung-1-prj-sai-gon-mia/c-cao-cap-saigon-trung-son-chanh-pr42742855: 're__icon-clock'\n"
     ]
    },
    {
     "name": "stderr",
     "output_type": "stream",
     "text": [
      "Processing batches:  53%|█████▎    | 615/1161 [1:18:15<1:04:04,  7.04s/it]"
     ]
    },
    {
     "name": "stdout",
     "output_type": "stream",
     "text": [
      "Using Chrome with user agent: Mozilla/5.0 (Macintosh; Intel Mac OS X 10_15_7) AppleWebKit/537.36 (KHTML, like Gecko) Chrome/100.0.4896.127 Safari/537.36\n"
     ]
    },
    {
     "name": "stderr",
     "output_type": "stream",
     "text": [
      "Processing batches:  53%|█████▎    | 616/1161 [1:18:22<1:04:31,  7.10s/it]"
     ]
    },
    {
     "name": "stdout",
     "output_type": "stream",
     "text": [
      "Error scraping url https://batdongsan.com.vn/cho-thue-nha-tro-phong-tro-duong-nguyen-huu-tho-xa-phuoc-kieng-prj-phu-hoang-anh/quan-ly-cho-can-ho-va-20-m2-30-m2-88m2-129m2-kien-be-pr40896551: 're__icon-front-view'\n",
      "Using Chrome with user agent: Mozilla/5.0 (Macintosh; Intel Mac OS X 10_15_7) AppleWebKit/537.36 (KHTML, like Gecko) Chrome/99.0.4844.84 Safari/537.36\n",
      "Error scraping url https://batdongsan.com.vn/cho-thue-can-ho-chung-cu-duong-vo-nguyen-giap-phuong-thao-dien-prj-gateway-thao-dien/-3-pn-tich-rong-den-132m2-view-landmark-gia-2800-bao-phi-quan-ly-pr42432755: 're__icon-clock'\n"
     ]
    },
    {
     "name": "stderr",
     "output_type": "stream",
     "text": [
      "Processing batches:  53%|█████▎    | 617/1161 [1:18:32<1:09:51,  7.71s/it]"
     ]
    },
    {
     "name": "stdout",
     "output_type": "stream",
     "text": [
      "Using Chrome with user agent: Mozilla/5.0 (Windows NT 10.0; Win64; x64) AppleWebKit/537.36 (KHTML, like Gecko) Chrome/99.0.4844.84 Safari/537.36\n",
      "Error scraping url https://batdongsan.com.vn/cho-thue-can-ho-chung-cu-duong-le-tan-be-phuong-an-lac-6-prj-nha-o-xa-hoi-le-thanh-an-lac/day-du-tien-nghi-c-cc-thh-sau-lung-cc-akari-binh-pr42741440: 're__icon-front-view'\n"
     ]
    },
    {
     "name": "stderr",
     "output_type": "stream",
     "text": [
      "Processing batches:  53%|█████▎    | 618/1161 [1:18:43<1:18:02,  8.62s/it]"
     ]
    },
    {
     "name": "stdout",
     "output_type": "stream",
     "text": [
      "Using Chrome with user agent: Mozilla/5.0 (Windows NT 10.0; Win64; x64) AppleWebKit/537.36 (KHTML, like Gecko) Chrome/99.0.4844.84 Safari/537.36\n",
      "Error scraping url https://batdongsan.com.vn/cho-thue-can-ho-chung-cu-duong-pho-quang-phuong-9-12-prj-golden-mansion/loc-phat-c-phu-nhuan-cao-cap-2pn-2wc-full-gia-16trieu-pr42743125: 're__icon-front-view'\n"
     ]
    },
    {
     "name": "stderr",
     "output_type": "stream",
     "text": [
      "Processing batches:  53%|█████▎    | 619/1161 [1:19:00<1:37:36, 10.81s/it]"
     ]
    },
    {
     "name": "stdout",
     "output_type": "stream",
     "text": [
      "Using Chrome with user agent: Mozilla/5.0 (Macintosh; Intel Mac OS X 10_15_7) AppleWebKit/537.36 (KHTML, like Gecko) Chrome/99.0.4844.84 Safari/537.36\n",
      "Error scraping url https://batdongsan.com.vn/cho-thue-can-ho-chung-cu-duong-so-6-phuong-hiep-binh-phuoc-prj-urban-green/cong-ty-co-nhieu-1-2-3-phong-ngu-khach-hang-ky-gui-gia-re-vao-o-ngay-mien-phi-15-ngay-pr42697403: 're__icon-front-view'\n"
     ]
    },
    {
     "name": "stderr",
     "output_type": "stream",
     "text": [
      "Processing batches:  53%|█████▎    | 620/1161 [1:19:08<1:32:18, 10.24s/it]"
     ]
    },
    {
     "name": "stdout",
     "output_type": "stream",
     "text": [
      "Using Chrome with user agent: Mozilla/5.0 (Windows NT 10.0; Win64; x64) AppleWebKit/537.36 (KHTML, like Gecko) Chrome/100.0.4896.127 Safari/537.36\n",
      "Error scraping url https://batdongsan.com.vn/cho-thue-can-ho-chung-cu-duong-nguyen-huu-tho-xa-phuoc-kieng-prj-new-saigon-hoang-anh-gia-lai-3/gio-hang-cho-tai-sai-gon-2pn-tu-9tr-3pn-tu-11tr-moi-nhat-call-pr39517151: HTTPConnectionPool(host='localhost', port=64576): Read timed out. (read timeout=120)\n"
     ]
    },
    {
     "name": "stderr",
     "output_type": "stream",
     "text": [
      "Processing batches:  53%|█████▎    | 621/1161 [1:19:15<1:22:43,  9.19s/it]"
     ]
    },
    {
     "name": "stdout",
     "output_type": "stream",
     "text": [
      "Using Chrome with user agent: Mozilla/5.0 (Macintosh; Intel Mac OS X 10_15_7) AppleWebKit/537.36 (KHTML, like Gecko) Chrome/100.0.4896.127 Safari/537.36\n",
      "Error scraping url https://batdongsan.com.vn/cho-thue-nha-tro-phong-tro-duong-duong-quang-ham-phuong-6-14/can-chung-cu-mini-moi-hoan-thanh-pr42742479: 're__icon-clock'\n"
     ]
    },
    {
     "name": "stderr",
     "output_type": "stream",
     "text": [
      "Processing batches:  54%|█████▎    | 622/1161 [1:19:22<1:17:35,  8.64s/it]"
     ]
    },
    {
     "name": "stdout",
     "output_type": "stream",
     "text": [
      "Using Chrome with user agent: Mozilla/5.0 (Windows NT 10.0; Win64; x64) AppleWebKit/537.36 (KHTML, like Gecko) Chrome/100.0.4896.127 Safari/537.36\n",
      "Error scraping url https://batdongsan.com.vn/cho-thue-can-ho-chung-cu-mini-duong-nguyen-thi-thap-phuong-tan-quy/sieu-pham-1-phong-ngu-full-noi-that-ke-ben-lotte-mart-quan-7-ke-dai-hoc-rmit-tdt-pr42742443: 're__icon-clock'\n"
     ]
    },
    {
     "name": "stderr",
     "output_type": "stream",
     "text": [
      "Processing batches:  54%|█████▎    | 623/1161 [1:19:30<1:14:31,  8.31s/it]"
     ]
    },
    {
     "name": "stdout",
     "output_type": "stream",
     "text": [
      "Error scraping url https://batdongsan.com.vn/cho-thue-nha-tro-phong-tro-duong-le-duc-tho-phuong-6-14/-ban-cong-gia-re-cho-sinh-vien-ngay-cho-an-nhon-go-vap-pr42742349: 're__icon-clock'\n"
     ]
    },
    {
     "name": "stderr",
     "output_type": "stream",
     "text": [
      "Processing batches:  54%|█████▎    | 624/1161 [1:19:32<58:54,  6.58s/it]  "
     ]
    },
    {
     "name": "stdout",
     "output_type": "stream",
     "text": [
      "Using Chrome with user agent: Mozilla/5.0 (Windows NT 10.0; Win64; x64) AppleWebKit/537.36 (KHTML, like Gecko) Chrome/100.0.4896.127 Safari/537.36\n",
      "Error scraping url https://batdongsan.com.vn/cho-thue-can-ho-chung-cu-mini-duong-ho-ba-kien-phuong-15-3/boc-seal-moi-duplex-n-cong-35m2-tai-q10-gan-cong-vien-t-trang-go-mien-dong-pr42479172: 're__icon-clock'\n"
     ]
    },
    {
     "name": "stderr",
     "output_type": "stream",
     "text": [
      "Processing batches:  54%|█████▍    | 625/1161 [1:19:36<50:07,  5.61s/it]"
     ]
    },
    {
     "name": "stdout",
     "output_type": "stream",
     "text": [
      "Using Chrome with user agent: Mozilla/5.0 (Windows NT 10.0; Win64; x64) AppleWebKit/537.36 (KHTML, like Gecko) Chrome/100.0.4896.127 Safari/537.36\n",
      "Using Chrome with user agent: Mozilla/5.0 (Macintosh; Intel Mac OS X 10_15_7) AppleWebKit/537.36 (KHTML, like Gecko) Chrome/99.0.4844.84 Safari/537.36\n",
      "Error scraping url https://batdongsan.com.vn/cho-thue-nha-tro-phong-tro-duong-nguyen-duy-trinh-phuong-phu-huu-2/cho-studio-cua-so-troi-thoang-mat-ngay-trinh-pr42415355: 're__icon-clock'\n"
     ]
    },
    {
     "name": "stderr",
     "output_type": "stream",
     "text": [
      "Processing batches:  54%|█████▍    | 626/1161 [1:19:41<48:26,  5.43s/it]"
     ]
    },
    {
     "name": "stdout",
     "output_type": "stream",
     "text": [
      "Error scraping url https://batdongsan.com.vn/cho-thue-nha-tro-phong-tro-duong-ben-van-don-phuong-3/cho-o-6-trieu-28m2-sieu-hot-pr42736675: 're__icon-electricity'\n"
     ]
    },
    {
     "name": "stderr",
     "output_type": "stream",
     "text": [
      "Processing batches:  54%|█████▍    | 627/1161 [1:19:45<44:51,  5.04s/it]"
     ]
    },
    {
     "name": "stdout",
     "output_type": "stream",
     "text": [
      "Using Chrome with user agent: Mozilla/5.0 (Windows NT 10.0; Win64; x64) AppleWebKit/537.36 (KHTML, like Gecko) Chrome/100.0.4896.127 Safari/537.36\n",
      "Using Chrome with user agent: Mozilla/5.0 (Macintosh; Intel Mac OS X 10_15_7) AppleWebKit/537.36 (KHTML, like Gecko) Chrome/99.0.4844.84 Safari/537.36\n",
      "Error scraping url https://batdongsan.com.vn/cho-thue-can-ho-chung-cu-mini-duong-nguyen-cuu-van-phuong-17-1/-noi-that-cao-cap-1pn-ban-cong-45m2-thang-may-sgc-apartment-nha-t-mong-trieu-pr42721243: 're__icon-clock'\n"
     ]
    },
    {
     "name": "stderr",
     "output_type": "stream",
     "text": [
      "Processing batches:  54%|█████▍    | 628/1161 [1:19:49<43:43,  4.92s/it]"
     ]
    },
    {
     "name": "stdout",
     "output_type": "stream",
     "text": [
      "Using Chrome with user agent: Mozilla/5.0 (Windows NT 10.0; Win64; x64) AppleWebKit/537.36 (KHTML, like Gecko) Chrome/100.0.4896.127 Safari/537.36\n"
     ]
    },
    {
     "name": "stderr",
     "output_type": "stream",
     "text": [
      "Processing batches:  54%|█████▍    | 629/1161 [1:19:56<46:51,  5.28s/it]"
     ]
    },
    {
     "name": "stdout",
     "output_type": "stream",
     "text": [
      "Using Chrome with user agent: Mozilla/5.0 (Macintosh; Intel Mac OS X 10_15_7) AppleWebKit/537.36 (KHTML, like Gecko) Chrome/100.0.4896.127 Safari/537.36\n",
      "Error scraping url https://batdongsan.com.vn/cho-thue-can-ho-chung-cu-pho-ton-duc-thang-phuong-ben-nghe-prj-grand-marina-saigon/-cho-2pn-88m2-full-noi-that-view-song-80tr-th-toa-sea-jw-mariott-mien-pql-pr42664762: 're__icon-clock'\n"
     ]
    },
    {
     "name": "stderr",
     "output_type": "stream",
     "text": [
      "Processing batches:  54%|█████▍    | 630/1161 [1:20:08<1:05:11,  7.37s/it]"
     ]
    },
    {
     "name": "stdout",
     "output_type": "stream",
     "text": [
      "Using Chrome with user agent: Mozilla/5.0 (Macintosh; Intel Mac OS X 10_15_7) AppleWebKit/537.36 (KHTML, like Gecko) Chrome/99.0.4844.84 Safari/537.36\n",
      "Error scraping url https://batdongsan.com.vn/cho-thue-can-ho-chung-cu-mini-duong-tran-quang-dieu-phuong-14-1/cho-o-lien1-phong-ngu-45m2-ban-cong-may-giat-rieng-ngay-khu-cau-canh-le-van-sy-pr42741845: 're__icon-front-view'\n"
     ]
    },
    {
     "name": "stderr",
     "output_type": "stream",
     "text": [
      "Processing batches:  54%|█████▍    | 631/1161 [1:20:15<1:05:20,  7.40s/it]"
     ]
    },
    {
     "name": "stdout",
     "output_type": "stream",
     "text": [
      "Using Chrome with user agent: Mozilla/5.0 (Macintosh; Intel Mac OS X 10_15_7) AppleWebKit/537.36 (KHTML, like Gecko) Chrome/99.0.4844.84 Safari/537.36\n",
      "Error scraping url https://batdongsan.com.vn/cho-thue-can-ho-chung-cu-duong-nguyen-huu-tho-xa-phuoc-kieng-prj-celesta-rise/-1pn-tai-12-trieu-50m2-day-du-noiu-that-don-vao-o-ngay-lh-pr42238562: 're__icon-front-view'\n"
     ]
    },
    {
     "name": "stderr",
     "output_type": "stream",
     "text": [
      "Processing batches:  54%|█████▍    | 632/1161 [1:20:57<2:36:55, 17.80s/it]"
     ]
    },
    {
     "name": "stdout",
     "output_type": "stream",
     "text": [
      "Using Chrome with user agent: Mozilla/5.0 (Windows NT 10.0; Win64; x64) AppleWebKit/537.36 (KHTML, like Gecko) Chrome/99.0.4844.84 Safari/537.36\n"
     ]
    },
    {
     "name": "stderr",
     "output_type": "stream",
     "text": [
      "Processing batches:  55%|█████▍    | 633/1161 [1:21:05<2:10:26, 14.82s/it]"
     ]
    },
    {
     "name": "stdout",
     "output_type": "stream",
     "text": [
      "Error scraping url https://batdongsan.com.vn/cho-thue-can-ho-chung-cu-duong-ben-van-don-phuong-12-prj-saigon-royal-residence/-cho-office-tel-goc-quan-4-view-song-sai-gon-lh-pr42276746: 're__icon-front-view'\n",
      "Using Chrome with user agent: Mozilla/5.0 (Macintosh; Intel Mac OS X 10_15_7) AppleWebKit/537.36 (KHTML, like Gecko) Chrome/99.0.4844.84 Safari/537.36\n"
     ]
    },
    {
     "name": "stderr",
     "output_type": "stream",
     "text": [
      "Processing batches:  55%|█████▍    | 634/1161 [1:21:12<1:50:18, 12.56s/it]"
     ]
    },
    {
     "name": "stdout",
     "output_type": "stream",
     "text": [
      "Error scraping url https://batdongsan.com.vn/cho-thue-can-ho-chung-cu-duong-mai-chi-tho-phuong-an-phu-prj-the-sun-avenue/cho-studio-35m2-1pn-tai-sav2a-q2-11-trieu-thang-pr42587784: 're__icon-front-view'\n",
      "Using Chrome with user agent: Mozilla/5.0 (Macintosh; Intel Mac OS X 10_15_7) AppleWebKit/537.36 (KHTML, like Gecko) Chrome/100.0.4896.127 Safari/537.36\n",
      "Error scraping url https://batdongsan.com.vn/cho-thue-can-ho-chung-cu-mini-duong-hung-vuong-2-phuong-9-6/chdv-cao-cap-q5-bancol-full-noi-that-co-thang-may-pr42731997: 're__icon-clock'\n"
     ]
    },
    {
     "name": "stderr",
     "output_type": "stream",
     "text": [
      "Processing batches:  55%|█████▍    | 635/1161 [1:21:27<1:54:53, 13.10s/it]"
     ]
    },
    {
     "name": "stdout",
     "output_type": "stream",
     "text": [
      "Using Chrome with user agent: Mozilla/5.0 (Windows NT 10.0; Win64; x64) AppleWebKit/537.36 (KHTML, like Gecko) Chrome/99.0.4844.84 Safari/537.36\n",
      "Error scraping url https://batdongsan.com.vn/cho-thue-nha-tro-phong-tro-duong-nguyen-duy-trinh-phuong-binh-trung-tay/-q2-cho-studio-sieu-xinh-bancol-thoang-day-du-tien-nghi-pr40709536: 're__icon-private-house'\n"
     ]
    },
    {
     "name": "stderr",
     "output_type": "stream",
     "text": [
      "Processing batches:  55%|█████▍    | 636/1161 [1:21:34<1:38:27, 11.25s/it]"
     ]
    },
    {
     "name": "stdout",
     "output_type": "stream",
     "text": [
      "Error scraping url https://batdongsan.com.vn/cho-thue-can-ho-chung-cu-duong-binh-long-phuong-binh-hung-hoa-a-prj-can-ho-8x-rainbow/c-gap-64m2-2pn-2wc-noi-that-day-du-gia-re-8tr-lh-pr42398627: 're__icon-clock'\n"
     ]
    },
    {
     "name": "stderr",
     "output_type": "stream",
     "text": [
      "Processing batches:  55%|█████▍    | 637/1161 [1:21:38<1:19:47,  9.14s/it]"
     ]
    },
    {
     "name": "stdout",
     "output_type": "stream",
     "text": [
      "Using Chrome with user agent: Mozilla/5.0 (Windows NT 10.0; Win64; x64) AppleWebKit/537.36 (KHTML, like Gecko) Chrome/99.0.4844.84 Safari/537.36\n"
     ]
    },
    {
     "name": "stderr",
     "output_type": "stream",
     "text": [
      "Processing batches:  55%|█████▍    | 638/1161 [1:21:42<1:06:48,  7.66s/it]"
     ]
    },
    {
     "name": "stdout",
     "output_type": "stream",
     "text": [
      "Error scraping url https://batdongsan.com.vn/cho-thue-can-ho-chung-cu-duong-3-2-2-phuong-12-5-prj-hado-centrosa-garden/chu-nha-tien-dong-ngan-hang-nen-cho-nhanh-gia-sieu-re-1-4pn-gia-tu-16-23tr-quan-10-pr41771298: 're__icon-front-view'\n",
      "Using Chrome with user agent: Mozilla/5.0 (Windows NT 10.0; Win64; x64) AppleWebKit/537.36 (KHTML, like Gecko) Chrome/99.0.4844.84 Safari/537.36\n",
      "Using Chrome with user agent: Mozilla/5.0 (Windows NT 10.0; Win64; x64) AppleWebKit/537.36 (KHTML, like Gecko) Chrome/99.0.4844.84 Safari/537.36\n",
      "Error scraping url https://batdongsan.com.vn/cho-thue-nha-tro-phong-tro-duong-vo-van-kiet-phuong-cau-kho/cho-chdv-toa-thang-may-full-noi-that-ban-cong-cua-so-troi-may-giat-rieng-tu-6-7-5tr-pr42328966: 're__icon-front-view'\n"
     ]
    },
    {
     "name": "stderr",
     "output_type": "stream",
     "text": [
      "Processing batches:  55%|█████▌    | 640/1161 [1:21:51<52:12,  6.01s/it]  "
     ]
    },
    {
     "name": "stdout",
     "output_type": "stream",
     "text": [
      "Error scraping url https://batdongsan.com.vn/cho-thue-can-ho-chung-cu-mini-duong-nguyen-cuu-van-phuong-17-1/ch-gan-q1-q2-ban-cong-full-nt-it-ket-xe-pr42741135: 're__icon-front-view'\n",
      "Using Chrome with user agent: Mozilla/5.0 (Macintosh; Intel Mac OS X 10_15_7) AppleWebKit/537.36 (KHTML, like Gecko) Chrome/100.0.4896.127 Safari/537.36\n",
      "Using Chrome with user agent: Mozilla/5.0 (Windows NT 10.0; Win64; x64) AppleWebKit/537.36 (KHTML, like Gecko) Chrome/99.0.4844.84 Safari/537.36\n",
      "Error scraping url https://batdongsan.com.vn/cho-thue-nha-tro-phong-tro-duong-vuon-chuoi-phuong-4-12/-20m2-bancol-wc-rieng-q3-pr42652698: 're__icon-private-house'\n"
     ]
    },
    {
     "name": "stderr",
     "output_type": "stream",
     "text": [
      "Processing batches:  55%|█████▌    | 641/1161 [1:22:05<1:12:34,  8.37s/it]"
     ]
    },
    {
     "name": "stdout",
     "output_type": "stream",
     "text": [
      "Error scraping url https://batdongsan.com.vn/cho-thue-can-ho-chung-cu-duong-hoang-quoc-viet-phuong-phu-thuan-3-prj-river-panorama/c-q7-3pn-114m2-full-noi-that-25tr-thang-vao-ngay-pr42147113: 're__icon-clock'\n"
     ]
    },
    {
     "name": "stderr",
     "output_type": "stream",
     "text": [
      "Processing batches:  55%|█████▌    | 642/1161 [1:22:06<51:57,  6.01s/it]  "
     ]
    },
    {
     "name": "stdout",
     "output_type": "stream",
     "text": [
      "First method failed: [Errno 2] No such file or directory: '/Users/macbook/Library/Application Support/undetected_chromedriver/undetected/chromedriver-mac-x64/chromedriver' -> '/Users/macbook/Library/Application Support/undetected_chromedriver/undetected_chromedriver'\n",
      "Using Chrome driver at: /Users/macbook/.wdm/drivers/chromedriver/mac64/135.0.7049.95/chromedriver-mac-arm64/chromedriver\n"
     ]
    },
    {
     "name": "stderr",
     "output_type": "stream",
     "text": [
      "could not detect version_main.therefore, we are assuming it is chrome 108 or higher\n"
     ]
    },
    {
     "name": "stdout",
     "output_type": "stream",
     "text": [
      "Using Chrome with user agent: Mozilla/5.0 (Macintosh; Intel Mac OS X 10_15_7) AppleWebKit/537.36 (KHTML, like Gecko) Chrome/100.0.4896.127 Safari/537.36\n",
      "Error scraping url https://batdongsan.com.vn/cho-thue-nha-tro-phong-tro-duong-thanh-thai-phuong-14-5/cho-khong-tinh-dien-nuoc-ngay-25m2-chi-4-trieu-pr42740748: 're__icon-electricity'\n"
     ]
    },
    {
     "name": "stderr",
     "output_type": "stream",
     "text": [
      "Processing batches:  55%|█████▌    | 643/1161 [1:22:18<1:08:34,  7.94s/it]"
     ]
    },
    {
     "name": "stdout",
     "output_type": "stream",
     "text": [
      "Using Chrome with user agent: Mozilla/5.0 (Macintosh; Intel Mac OS X 10_15_7) AppleWebKit/537.36 (KHTML, like Gecko) Chrome/100.0.4896.127 Safari/537.36\n"
     ]
    },
    {
     "name": "stderr",
     "output_type": "stream",
     "text": [
      "Processing batches:  55%|█████▌    | 644/1161 [1:22:25<1:06:52,  7.76s/it]"
     ]
    },
    {
     "name": "stdout",
     "output_type": "stream",
     "text": [
      "Error scraping url https://batdongsan.com.vn/cho-thue-can-ho-chung-cu-duong-nguyen-van-troi-phuong-12-9-prj-the-prince-residence/loc-phat-c-cao-cap-3pn-phu-nhuan-gia-24tr-lien-he-pr42740837: 're__icon-front-view'\n",
      "Using Chrome with user agent: Mozilla/5.0 (Macintosh; Intel Mac OS X 10_15_7) AppleWebKit/537.36 (KHTML, like Gecko) Chrome/99.0.4844.84 Safari/537.36\n",
      "Error scraping url https://batdongsan.com.vn/cho-thue-can-ho-chung-cu-mini-duong-nguyen-thai-binh-phuong-12-10/cho-cc-1pn-1wc-40m2-tai-tan-6-5-trieu-pr42325407: 're__icon-clock'\n"
     ]
    },
    {
     "name": "stderr",
     "output_type": "stream",
     "text": [
      "Processing batches:  56%|█████▌    | 645/1161 [1:22:35<1:11:07,  8.27s/it]"
     ]
    },
    {
     "name": "stdout",
     "output_type": "stream",
     "text": [
      "Using Chrome with user agent: Mozilla/5.0 (Macintosh; Intel Mac OS X 10_15_7) AppleWebKit/537.36 (KHTML, like Gecko) Chrome/99.0.4844.84 Safari/537.36\n",
      "Second method failed: Message: Can not connect to the Service /Users/macbook/.wdm/drivers/chromedriver/mac64/135.0.7049.95/chromedriver-mac-arm64/chromedriver\n",
      "\n"
     ]
    },
    {
     "name": "stderr",
     "output_type": "stream",
     "text": [
      "Processing batches:  56%|█████▌    | 646/1161 [1:22:42<1:07:23,  7.85s/it]"
     ]
    },
    {
     "name": "stdout",
     "output_type": "stream",
     "text": [
      "Error scraping url https://batdongsan.com.vn/cho-thue-can-ho-chung-cu-duong-thoai-ngoc-hau-phuong-hoa-thanh-prj-res-green-tower/c-resgreen-2pn-2wc-60m2-noi-that-co-ban-gia-13-trieu-thang-pr42740371: 're__icon-private-house'\n",
      "Using Chrome with user agent: Mozilla/5.0 (Macintosh; Intel Mac OS X 10_15_7) AppleWebKit/537.36 (KHTML, like Gecko) Chrome/100.0.4896.127 Safari/537.36\n"
     ]
    },
    {
     "name": "stderr",
     "output_type": "stream",
     "text": [
      "Processing batches:  56%|█████▌    | 647/1161 [1:22:49<1:04:30,  7.53s/it]"
     ]
    },
    {
     "name": "stdout",
     "output_type": "stream",
     "text": [
      "Error scraping url https://batdongsan.com.vn/cho-thue-can-ho-chung-cu-duong-nguyen-khoai-phuong-1-prj-galaxy-9/chinh-chu-c-gap-9-quan-4-50m2-1pn-gia-11-trieu-o-lien-gap-cuong-pr41070634: 're__icon-front-view'\n",
      "Using Chrome with user agent: Mozilla/5.0 (Windows NT 10.0; Win64; x64) AppleWebKit/537.36 (KHTML, like Gecko) Chrome/99.0.4844.84 Safari/537.36\n"
     ]
    },
    {
     "name": "stderr",
     "output_type": "stream",
     "text": [
      "Processing batches:  56%|█████▌    | 648/1161 [1:22:56<1:05:28,  7.66s/it]"
     ]
    },
    {
     "name": "stdout",
     "output_type": "stream",
     "text": [
      "Error scraping url https://batdongsan.com.vn/cho-thue-nha-tro-phong-tro-duong-hoang-hoa-tham-phuong-13-10/-20m2-ngay-p13-tan-binh-pr42739168: 're__icon-clock'\n",
      "Using Chrome with user agent: Mozilla/5.0 (Macintosh; Intel Mac OS X 10_15_7) AppleWebKit/537.36 (KHTML, like Gecko) Chrome/100.0.4896.127 Safari/537.36\n"
     ]
    },
    {
     "name": "stderr",
     "output_type": "stream",
     "text": [
      "Processing batches:  56%|█████▌    | 649/1161 [1:23:07<1:11:49,  8.42s/it]"
     ]
    },
    {
     "name": "stdout",
     "output_type": "stream",
     "text": [
      "Error scraping url https://batdongsan.com.vn/cho-thue-can-ho-chung-cu-duong-cao-lo-phuong-4-15-prj-topaz-elite/-c-full-noi-that-vao-o-ngay-pr42097522: 're__icon-clock'\n",
      "Using Chrome with user agent: Mozilla/5.0 (Windows NT 10.0; Win64; x64) AppleWebKit/537.36 (KHTML, like Gecko) Chrome/100.0.4896.127 Safari/537.36\n",
      "All Chrome initialization methods failed: Message: Can not connect to the Service /Users/macbook/.wdm/drivers/chromedriver/mac64/135.0.7049.95/chromedriver-mac-arm64/chromedriver\n",
      "\n",
      "Error scraping url https://batdongsan.com.vn/cho-thue-can-ho-chung-cu-duong-hoang-quoc-viet-phuong-phu-thuan-3-prj-river-panorama/-cho-quan-7-tang-cao-view-song-khong-bi-nang-2pn-1wc-full-noi-that-pr42536607: 're__icon-front-view'\n"
     ]
    },
    {
     "name": "stderr",
     "output_type": "stream",
     "text": [
      "Processing batches:  56%|█████▌    | 650/1161 [1:23:16<1:12:53,  8.56s/it]"
     ]
    },
    {
     "name": "stdout",
     "output_type": "stream",
     "text": [
      "Using Chrome with user agent: Mozilla/5.0 (Macintosh; Intel Mac OS X 10_15_7) AppleWebKit/537.36 (KHTML, like Gecko) Chrome/99.0.4844.84 Safari/537.36\n",
      "Error scraping url https://batdongsan.com.vn/cho-thue-can-ho-chung-cu-duong-nguyen-hoang-phuong-an-phu-prj-an-loc-an-phuc/cho-ch-lau-trung-2pn-1wc-62m2-gia-sieu-yeu-9-trieu-mot-buoc-ra-metro-so-1-q2-hcm-pr42535466: HTTPConnectionPool(host='localhost', port=50963): Read timed out. (read timeout=120)\n"
     ]
    },
    {
     "name": "stderr",
     "output_type": "stream",
     "text": [
      "Processing batches:  56%|█████▌    | 651/1161 [1:23:26<1:18:06,  9.19s/it]"
     ]
    },
    {
     "name": "stdout",
     "output_type": "stream",
     "text": [
      "Using Chrome with user agent: Mozilla/5.0 (Macintosh; Intel Mac OS X 10_15_7) AppleWebKit/537.36 (KHTML, like Gecko) Chrome/100.0.4896.127 Safari/537.36\n",
      "Error scraping url https://batdongsan.com.vn/cho-thue-can-ho-chung-cu-duong-ben-van-don-phuong-12-prj-the-tresor/cho-nhanh-studio-36m2-quan-4-nha-dep-gia-tot-lh-pr41852533: HTTPConnectionPool(host='localhost', port=51553): Read timed out. (read timeout=120)\n"
     ]
    },
    {
     "name": "stderr",
     "output_type": "stream",
     "text": [
      "Processing batches:  56%|█████▌    | 652/1161 [1:23:40<1:28:57, 10.49s/it]"
     ]
    },
    {
     "name": "stdout",
     "output_type": "stream",
     "text": [
      "Using Chrome with user agent: Mozilla/5.0 (Macintosh; Intel Mac OS X 10_15_7) AppleWebKit/537.36 (KHTML, like Gecko) Chrome/99.0.4844.84 Safari/537.36\n",
      "Error scraping url https://batdongsan.com.vn/cho-thue-can-ho-chung-cu-duong-dai-lo-vong-cung-phuong-an-khanh-prj-the-crest-residence/cho-cc-dep-xuat-sac-tai-45-trieu-90m2-2pn-2wc-pr42643165: 're__icon-clock'\n"
     ]
    },
    {
     "name": "stderr",
     "output_type": "stream",
     "text": [
      "Processing batches:  56%|█████▌    | 653/1161 [1:23:54<1:37:36, 11.53s/it]"
     ]
    },
    {
     "name": "stdout",
     "output_type": "stream",
     "text": [
      "Using Chrome with user agent: Mozilla/5.0 (Windows NT 10.0; Win64; x64) AppleWebKit/537.36 (KHTML, like Gecko) Chrome/99.0.4844.84 Safari/537.36\n"
     ]
    },
    {
     "name": "stderr",
     "output_type": "stream",
     "text": [
      "Processing batches:  56%|█████▋    | 654/1161 [1:24:02<1:28:51, 10.52s/it]"
     ]
    },
    {
     "name": "stdout",
     "output_type": "stream",
     "text": [
      "Error scraping url https://batdongsan.com.vn/cho-thue-can-ho-chung-cu-duong-nguyen-huu-tho-xa-phuoc-kieng-prj-saigon-south-residences/c-nhanh-cao-cap-3pn-full-noi-that-gia-re-15tr-th-lh-0932011688-pr31452952: 're__icon-front-view'\n",
      "Using Chrome with user agent: Mozilla/5.0 (Windows NT 10.0; Win64; x64) AppleWebKit/537.36 (KHTML, like Gecko) Chrome/99.0.4844.84 Safari/537.36\n"
     ]
    },
    {
     "name": "stderr",
     "output_type": "stream",
     "text": [
      "Service process refused to terminate gracefully with SIGTERM, escalating to SIGKILL.\n",
      "Traceback (most recent call last):\n",
      "  File \"/Users/macbook/Desktop/BecasaNetwork/crawl/scrapepage.py\", line 132, in init_driver\n",
      "    driver = uc.Chrome(version_main=135, options=options)  # Specify a version that works with your Chrome\n",
      "  File \"/Users/macbook/Desktop/BecasaNetwork/crawl/env/lib/python3.13/site-packages/undetected_chromedriver/__init__.py\", line 258, in __init__\n",
      "    self.patcher.auto()\n",
      "    ~~~~~~~~~~~~~~~~~^^\n",
      "  File \"/Users/macbook/Desktop/BecasaNetwork/crawl/env/lib/python3.13/site-packages/undetected_chromedriver/patcher.py\", line 178, in auto\n",
      "    self.unzip_package(self.fetch_package())\n",
      "    ~~~~~~~~~~~~~~~~~~^^^^^^^^^^^^^^^^^^^^^^\n",
      "  File \"/Users/macbook/Desktop/BecasaNetwork/crawl/env/lib/python3.13/site-packages/undetected_chromedriver/patcher.py\", line 310, in unzip_package\n",
      "    os.rename(os.path.join(self.zip_path, exe_path), self.executable_path)\n",
      "    ~~~~~~~~~^^^^^^^^^^^^^^^^^^^^^^^^^^^^^^^^^^^^^^^^^^^^^^^^^^^^^^^^^^^^^\n",
      "FileNotFoundError: [Errno 2] No such file or directory: '/Users/macbook/Library/Application Support/undetected_chromedriver/undetected/chromedriver-mac-x64/chromedriver' -> '/Users/macbook/Library/Application Support/undetected_chromedriver/undetected_chromedriver'\n",
      "\n",
      "During handling of the above exception, another exception occurred:\n",
      "\n",
      "Traceback (most recent call last):\n",
      "  File \"/Users/macbook/Desktop/BecasaNetwork/crawl/scrapepage.py\", line 139, in init_driver\n",
      "    driver = uc.Chrome(driver_executable_path=driver_path, options=options)\n",
      "  File \"/Users/macbook/Desktop/BecasaNetwork/crawl/env/lib/python3.13/site-packages/undetected_chromedriver/__init__.py\", line 466, in __init__\n",
      "    super(Chrome, self).__init__(\n",
      "    ~~~~~~~~~~~~~~~~~~~~~~~~~~~~^\n",
      "        service=service,\n",
      "        ^^^^^^^^^^^^^^^^\n",
      "        options=options,\n",
      "        ^^^^^^^^^^^^^^^^\n",
      "        keep_alive=keep_alive,\n",
      "        ^^^^^^^^^^^^^^^^^^^^^^\n",
      "    )\n",
      "    ^\n",
      "Processing batches:  56%|█████▋    | 655/1161 [1:24:14<1:31:50, 10.89s/it]Network/crawl/env/lib/python3.13/site-packages/selenium/webdriver/chrome/webdriver.py\", line 45, in __init__\n",
      "    super().__init__(\n",
      "    ~~~~~~~~~~~~~~~~^\n",
      "        browser_name=DesiredCapabilities.CHROME[\"browserName\"],\n",
      "        ^^^^^^^^^^^^^^^^^^^^^^^^^^^^^^^^^^^^^^^^^^^^^^^^^^^^^^^\n",
      "    ...<3 lines>...\n",
      "        keep_alive=keep_alive,\n",
      "        ^^^^^^^^^^^^^^^^^^^^^^\n",
      "    )\n",
      "    ^\n",
      "  File \"/Users/macbook/Desktop/BecasaNetwork/crawl/env/lib/python3.13/site-packages/selenium/webdriver/chromium/webdriver.py\", line 55, in __init__\n",
      "    self.service.start()\n",
      "    ~~~~~~~~~~~~~~~~~~^^\n",
      "  File \"/Users/macbook/Desktop/BecasaNetwork/crawl/env/lib/python3.13/site-packages/selenium/webdriver/common/service.py\", line 120, in start\n",
      "    raise WebDriverException(f\"Can not connect to the Service {self._path}\")\n",
      "selenium.common.exceptions.WebDriverException: Message: Can not connect to the Service /Users/macbook/.wdm/drivers/chromedriver/mac64/135.0.7049.95/chromedriver-mac-arm64/chromedriver\n",
      "\n",
      "\n",
      "During handling of the above exception, another exception occurred:\n",
      "\n",
      "Traceback (most recent call last):\n",
      "  File \"/Users/macbook/Desktop/BecasaNetwork/crawl/scrapepage.py\", line 166, in scrape_page\n",
      "    driver = init_driver()\n",
      "  File \"/Users/macbook/Desktop/BecasaNetwork/crawl/scrapepage.py\", line 147, in init_driver\n",
      "    driver = webdriver.Chrome(service=service, options=options)\n",
      "  File \"/Users/macbook/Desktop/BecasaNetwork/crawl/env/lib/python3.13/site-packages/selenium/webdriver/chrome/webdriver.py\", line 45, in __init__\n",
      "    super().__init__(\n",
      "    ~~~~~~~~~~~~~~~~^\n",
      "        browser_name=DesiredCapabilities.CHROME[\"browserName\"],\n",
      "        ^^^^^^^^^^^^^^^^^^^^^^^^^^^^^^^^^^^^^^^^^^^^^^^^^^^^^^^\n",
      "    ...<3 lines>...\n",
      "        keep_alive=keep_alive,\n",
      "        ^^^^^^^^^^^^^^^^^^^^^^\n",
      "    )\n",
      "    ^\n",
      "  File \"/Users/macbook/Desktop/BecasaNetwork/crawl/env/lib/python3.13/site-packages/selenium/webdriver/chromium/webdriver.py\", line 55, in __init__\n",
      "    self.service.start()\n",
      "    ~~~~~~~~~~~~~~~~~~^^\n",
      "  File \"/Users/macbook/Desktop/BecasaNetwork/crawl/env/lib/python3.13/site-packages/selenium/webdriver/common/service.py\", line 120, in start\n",
      "    raise WebDriverException(f\"Can not connect to the Service {self._path}\")\n",
      "selenium.common.exceptions.WebDriverException: Message: Can not connect to the Service /Users/macbook/.wdm/drivers/chromedriver/mac64/135.0.7049.95/chromedriver-mac-arm64/chromedriver\n",
      "\n",
      "\n",
      "During handling of the above exception, another exception occurred:\n",
      "\n",
      "UnboundLocalError: cannot access local variable 'url' where it is not associated with a value\n",
      "\n",
      "During handling of the above exception, another exception occurred:\n",
      "\n",
      "Traceback (most recent call last):\n",
      "  File \"/Users/macbook/Desktop/BecasaNetwork/crawl/env/lib/python3.13/site-packages/selenium/webdriver/common/service.py\", line 184, in _terminate_process\n",
      "    self.process.wait(60)\n",
      "    ~~~~~~~~~~~~~~~~~^^^^\n",
      "  File \"/opt/homebrew/Cellar/python@3.13/3.13.2/Frameworks/Python.framework/Versions/3.13/lib/python3.13/subprocess.py\", line 1276, in wait\n",
      "    return self._wait(timeout=timeout)\n",
      "           ~~~~~~~~~~^^^^^^^^^^^^^^^^^\n",
      "  File \"/opt/homebrew/Cellar/python@3.13/3.13.2/Frameworks/Python.framework/Versions/3.13/lib/python3.13/subprocess.py\", line 2060, in _wait\n",
      "    raise TimeoutExpired(self.args, timeout)\n",
      "subprocess.TimeoutExpired: Command '['/Users/macbook/.wdm/drivers/chromedriver/mac64/135.0.7049.95/chromedriver-mac-arm64/chromedriver', '--port=52725']' timed out after 60 seconds\n"
     ]
    },
    {
     "name": "stdout",
     "output_type": "stream",
     "text": [
      "Error processing batch ['https://batdongsan.com.vn/cho-thue-can-ho-chung-cu-mini-duong-nguyen-hoang-phuong-an-phu/-1pn-full-noi-that-ban-cong-lon-ngay-mega-market-cau-sai-gon-sala-thu-thiem-pr42323442']: cannot access local variable 'url' where it is not associated with a value\n",
      "Using Chrome with user agent: Mozilla/5.0 (Windows NT 10.0; Win64; x64) AppleWebKit/537.36 (KHTML, like Gecko) Chrome/99.0.4844.84 Safari/537.36\n"
     ]
    },
    {
     "name": "stderr",
     "output_type": "stream",
     "text": [
      "Processing batches:  57%|█████▋    | 656/1161 [1:24:21<1:22:51,  9.85s/it]"
     ]
    },
    {
     "name": "stdout",
     "output_type": "stream",
     "text": [
      "Error scraping url https://batdongsan.com.vn/cho-thue-can-ho-chung-cu-duong-so-9a-xa-binh-hung-1-prj-sai-gon-mia/-2pn-2wc-ful-noi-that-cho-gia-14tr-th-pr38053513: 're__icon-document'\n",
      "Error scraping url https://batdongsan.com.vn/cho-thue-can-ho-chung-cu-duong-xa-lo-ha-noi-phuong-thao-dien-prj-masteri-an-phu/cho-ch-17-trieu-thg-2pn-72m2-day-du-that-q2-hcm-pr42739021: 're__icon-document'\n"
     ]
    },
    {
     "name": "stderr",
     "output_type": "stream",
     "text": [
      "Processing batches:  57%|█████▋    | 657/1161 [1:24:24<1:04:09,  7.64s/it]"
     ]
    },
    {
     "name": "stdout",
     "output_type": "stream",
     "text": [
      "Using Chrome with user agent: Mozilla/5.0 (Macintosh; Intel Mac OS X 10_15_7) AppleWebKit/537.36 (KHTML, like Gecko) Chrome/99.0.4844.84 Safari/537.36\n",
      "Using Chrome with user agent: Mozilla/5.0 (Windows NT 10.0; Win64; x64) AppleWebKit/537.36 (KHTML, like Gecko) Chrome/99.0.4844.84 Safari/537.36\n",
      "Error scraping url https://batdongsan.com.vn/cho-thue-can-ho-chung-cu-duong-huynh-tan-phat-phuong-tan-phu-19-prj-riviera-point/chi-voi-19-5tr-co-ngay-ch-91m2-2pn2wc-full-nt-tai-quan-7-lh-ms-quyen-pr42683678: 're__icon-clock'\n"
     ]
    },
    {
     "name": "stderr",
     "output_type": "stream",
     "text": [
      "Processing batches:  57%|█████▋    | 658/1161 [1:24:41<1:28:41, 10.58s/it]"
     ]
    },
    {
     "name": "stdout",
     "output_type": "stream",
     "text": [
      "Using Chrome with user agent: Mozilla/5.0 (Macintosh; Intel Mac OS X 10_15_7) AppleWebKit/537.36 (KHTML, like Gecko) Chrome/99.0.4844.84 Safari/537.36\n",
      "Error scraping url https://batdongsan.com.vn/cho-thue-can-ho-chung-cu-duong-kinh-duong-vuong-phuong-an-lac-6-prj-imperial-place/cho-cc-pe-7-2-trieu-50m2-2pn-1wc-binh-t-hcm-co-b-cong-mat-me-pr42637082: 're__icon-front-view'\n"
     ]
    },
    {
     "name": "stderr",
     "output_type": "stream",
     "text": [
      "Processing batches:  57%|█████▋    | 659/1161 [1:24:57<1:42:32, 12.26s/it]"
     ]
    },
    {
     "name": "stdout",
     "output_type": "stream",
     "text": [
      "Using Chrome with user agent: Mozilla/5.0 (Macintosh; Intel Mac OS X 10_15_7) AppleWebKit/537.36 (KHTML, like Gecko) Chrome/99.0.4844.84 Safari/537.36\n"
     ]
    },
    {
     "name": "stderr",
     "output_type": "stream",
     "text": [
      "Processing batches:  57%|█████▋    | 660/1161 [1:25:04<1:29:29, 10.72s/it]"
     ]
    },
    {
     "name": "stdout",
     "output_type": "stream",
     "text": [
      "Error scraping url https://batdongsan.com.vn/cho-thue-can-ho-chung-cu-duong-kinh-duong-vuong-phuong-an-lac-a-prj-moonlight-boulevard/c-binh-tan-1pn-1wc-gia-7-trieu-thang-nha-moi-toanh-co-rem-pr40022878: 're__icon-front-view'\n",
      "Using Chrome with user agent: Mozilla/5.0 (Macintosh; Intel Mac OS X 10_15_7) AppleWebKit/537.36 (KHTML, like Gecko) Chrome/99.0.4844.84 Safari/537.36\n"
     ]
    },
    {
     "name": "stderr",
     "output_type": "stream",
     "text": [
      "Processing batches:  57%|█████▋    | 661/1161 [1:25:26<1:56:38, 14.00s/it]"
     ]
    },
    {
     "name": "stdout",
     "output_type": "stream",
     "text": [
      "Using Chrome with user agent: Mozilla/5.0 (Windows NT 10.0; Win64; x64) AppleWebKit/537.36 (KHTML, like Gecko) Chrome/99.0.4844.84 Safari/537.36\n"
     ]
    },
    {
     "name": "stderr",
     "output_type": "stream",
     "text": [
      "Processing batches:  57%|█████▋    | 662/1161 [1:25:33<1:39:53, 12.01s/it]"
     ]
    },
    {
     "name": "stdout",
     "output_type": "stream",
     "text": [
      "Error scraping url https://batdongsan.com.vn/cho-thue-can-ho-chung-cu-duong-le-thi-rieng-phuong-thoi-an-1-prj-phu-an-center/cho-goc-100m2-3pn-cc-3-bcol-pr42087398: 're__icon-clock'\n",
      "Using Chrome with user agent: Mozilla/5.0 (Windows NT 10.0; Win64; x64) AppleWebKit/537.36 (KHTML, like Gecko) Chrome/99.0.4844.84 Safari/537.36\n",
      "Error scraping url https://batdongsan.com.vn/cho-thue-can-ho-chung-cu-pho-ta-quang-buu-phuong-6-10-prj-the-pegasuite/ro-hang-cho-2-3-pn-o-lien-68m-gia-8-5tr-nha-trong-0937934496-pr35967776: 're__icon-document'\n"
     ]
    },
    {
     "name": "stderr",
     "output_type": "stream",
     "text": [
      "Processing batches:  57%|█████▋    | 663/1161 [1:25:49<1:49:43, 13.22s/it]"
     ]
    },
    {
     "name": "stdout",
     "output_type": "stream",
     "text": [
      "Using Chrome with user agent: Mozilla/5.0 (Windows NT 10.0; Win64; x64) AppleWebKit/537.36 (KHTML, like Gecko) Chrome/99.0.4844.84 Safari/537.36\n",
      "Error scraping url https://batdongsan.com.vn/cho-thue-can-ho-chung-cu-duong-nguyen-dinh-chieu-phuong-da-kao-prj-the-marq/cho-quan-1-lh-1pn-1wc-48m2-gia-33tr-net-trong-san-move-in-ngay-pr42724791: 're__icon-clock'\n"
     ]
    },
    {
     "name": "stderr",
     "output_type": "stream",
     "text": [
      "Processing batches:  57%|█████▋    | 664/1161 [1:26:23<2:39:43, 19.28s/it]"
     ]
    },
    {
     "name": "stdout",
     "output_type": "stream",
     "text": [
      "Using Chrome with user agent: Mozilla/5.0 (Macintosh; Intel Mac OS X 10_15_7) AppleWebKit/537.36 (KHTML, like Gecko) Chrome/99.0.4844.84 Safari/537.36\n",
      "Using Chrome with user agent: Mozilla/5.0 (Windows NT 10.0; Win64; x64) AppleWebKit/537.36 (KHTML, like Gecko) Chrome/99.0.4844.84 Safari/537.36\n",
      "Error scraping url https://batdongsan.com.vn/cho-thue-can-ho-chung-cu-duong-nguyen-huu-canh-phuong-22-prj-opal-saigon-pearl/yen-nhi-1pn-ddnt-gia-chi-18tr-thang-pr42536830: 're__icon-clock'\n"
     ]
    },
    {
     "name": "stderr",
     "output_type": "stream",
     "text": [
      "Processing batches:  57%|█████▋    | 666/1161 [1:26:31<1:41:03, 12.25s/it]"
     ]
    },
    {
     "name": "stdout",
     "output_type": "stream",
     "text": [
      "Using Chrome with user agent: Mozilla/5.0 (Macintosh; Intel Mac OS X 10_15_7) AppleWebKit/537.36 (KHTML, like Gecko) Chrome/100.0.4896.127 Safari/537.36\n",
      "Error scraping url https://batdongsan.com.vn/cho-thue-can-ho-chung-cu-phuong-tan-phu-19-prj-midtown-phu-my-hung/c-gap-dep-24-trieu-85-m2-view-dep-tang-mat-pr42738357: 're__icon-front-view'\n"
     ]
    },
    {
     "name": "stderr",
     "output_type": "stream",
     "text": [
      "Processing batches:  57%|█████▋    | 667/1161 [1:26:46<1:46:36, 12.95s/it]"
     ]
    },
    {
     "name": "stdout",
     "output_type": "stream",
     "text": [
      "Error scraping url https://batdongsan.com.vn/cho-thue-nha-tro-phong-tro-pho-ly-thuong-kiet-phuong-14-5/du-an-moi-khai-truong-gan-dai-hoc-bach-khoa-ban-cong-full-noi-that-quan-10-pr42736011: 're__icon-clock'\n"
     ]
    },
    {
     "name": "stderr",
     "output_type": "stream",
     "text": [
      "Processing batches:  58%|█████▊    | 668/1161 [1:26:47<1:20:43,  9.83s/it]"
     ]
    },
    {
     "name": "stdout",
     "output_type": "stream",
     "text": [
      "Using Chrome with user agent: Mozilla/5.0 (Macintosh; Intel Mac OS X 10_15_7) AppleWebKit/537.36 (KHTML, like Gecko) Chrome/100.0.4896.127 Safari/537.36\n",
      "Using Chrome with user agent: Mozilla/5.0 (Windows NT 10.0; Win64; x64) AppleWebKit/537.36 (KHTML, like Gecko) Chrome/100.0.4896.127 Safari/537.36\n"
     ]
    },
    {
     "name": "stderr",
     "output_type": "stream",
     "text": [
      "Processing batches:  58%|█████▊    | 669/1161 [1:26:56<1:18:12,  9.54s/it]"
     ]
    },
    {
     "name": "stdout",
     "output_type": "stream",
     "text": [
      "Error scraping url https://batdongsan.com.vn/cho-thue-can-ho-chung-cu-phuong-tan-hung-14-prj-can-ho-florita/-quan-7-cho-2-phong-ngu-2wc-14tr-thang-goc-full-noi-that-pr42737931: 're__icon-front-view'\n",
      "Using Chrome with user agent: Mozilla/5.0 (Windows NT 10.0; Win64; x64) AppleWebKit/537.36 (KHTML, like Gecko) Chrome/100.0.4896.127 Safari/537.36\n",
      "Error scraping url https://batdongsan.com.vn/cho-thue-can-ho-chung-cu-duong-cao-dat-phuong-1-15-prj-chung-cu-phuc-thinh/gia-dinh-cho-ch-q5-l16-dt-70m2-2pn-1wc-full-nt-co-bancon-gia-10-tr-th-pr42717233: 're__icon-front-view'\n"
     ]
    },
    {
     "name": "stderr",
     "output_type": "stream",
     "text": [
      "Processing batches:  58%|█████▊    | 670/1161 [1:27:00<1:05:26,  8.00s/it]"
     ]
    },
    {
     "name": "stdout",
     "output_type": "stream",
     "text": [
      "Error scraping url https://batdongsan.com.vn/cho-thue-can-ho-chung-cu-duong-nguyen-huu-tho-xa-phuoc-kieng-prj-saigon-south-residences/t-deal-c-nhanh-2pn-75m2-14tr-thang-pr42682667: 're__icon-clock'\n"
     ]
    },
    {
     "name": "stderr",
     "output_type": "stream",
     "text": [
      "Processing batches:  58%|█████▊    | 671/1161 [1:27:02<51:49,  6.35s/it]  "
     ]
    },
    {
     "name": "stdout",
     "output_type": "stream",
     "text": [
      "Error scraping url https://batdongsan.com.vn/cho-thue-can-ho-chung-cu-mini-duong-tran-dinh-xu-phuong-cau-kho/cho-2pn-1wc-full-nt-voi-50m2-ngay-trung-tam-q1-gan-pho-tay-bui-vien-cam-ket-nhu-anh-pr42619684: 're__icon-front-view'\n"
     ]
    },
    {
     "name": "stderr",
     "output_type": "stream",
     "text": [
      "Processing batches:  58%|█████▊    | 672/1161 [1:27:03<40:07,  4.92s/it]"
     ]
    },
    {
     "name": "stdout",
     "output_type": "stream",
     "text": [
      "Using Chrome with user agent: Mozilla/5.0 (Windows NT 10.0; Win64; x64) AppleWebKit/537.36 (KHTML, like Gecko) Chrome/99.0.4844.84 Safari/537.36\n",
      "Using Chrome with user agent: Mozilla/5.0 (Macintosh; Intel Mac OS X 10_15_7) AppleWebKit/537.36 (KHTML, like Gecko) Chrome/99.0.4844.84 Safari/537.36\n",
      "Using Chrome with user agent: Mozilla/5.0 (Macintosh; Intel Mac OS X 10_15_7) AppleWebKit/537.36 (KHTML, like Gecko) Chrome/100.0.4896.127 Safari/537.36\n",
      "Error scraping url https://batdongsan.com.vn/cho-thue-nha-tro-phong-tro-xa-phong-phu-4-prj-kdc-lang-viet-kieu-phong-phu-13e/cho-20m2-tai-gia-cuc-chat-3-5-trieu-pr41867581: 're__icon-front-view'\n"
     ]
    },
    {
     "name": "stderr",
     "output_type": "stream",
     "text": [
      "Processing batches:  58%|█████▊    | 673/1161 [1:27:14<53:30,  6.58s/it]"
     ]
    },
    {
     "name": "stdout",
     "output_type": "stream",
     "text": [
      "Using Chrome with user agent: Mozilla/5.0 (Macintosh; Intel Mac OS X 10_15_7) AppleWebKit/537.36 (KHTML, like Gecko) Chrome/99.0.4844.84 Safari/537.36\n",
      "Error scraping url https://batdongsan.com.vn/cho-thue-can-ho-chung-cu-duong-truong-dinh-prj-chung-cu-107-truong-dinh/c-107-2pn-80m2-gia-16-trieu-nha-trong-o-lien-pr42707460: 're__icon-front-view'\n"
     ]
    },
    {
     "name": "stderr",
     "output_type": "stream",
     "text": [
      "Processing batches:  58%|█████▊    | 674/1161 [1:27:24<1:02:51,  7.74s/it]"
     ]
    },
    {
     "name": "stdout",
     "output_type": "stream",
     "text": [
      "Using Chrome with user agent: Mozilla/5.0 (Macintosh; Intel Mac OS X 10_15_7) AppleWebKit/537.36 (KHTML, like Gecko) Chrome/100.0.4896.127 Safari/537.36\n",
      "Error scraping url https://batdongsan.com.vn/cho-thue-can-ho-chung-cu-duong-mai-chi-tho-phuong-an-phu-prj-lexington-residence/c-71m2-gia-sieu-i-tai-q2-tp-hcm-pr42735719: 're__icon-front-view'\n"
     ]
    },
    {
     "name": "stderr",
     "output_type": "stream",
     "text": [
      "Processing batches:  58%|█████▊    | 675/1161 [1:27:57<2:01:14, 14.97s/it]"
     ]
    },
    {
     "name": "stdout",
     "output_type": "stream",
     "text": [
      "Using Chrome with user agent: Mozilla/5.0 (Macintosh; Intel Mac OS X 10_15_7) AppleWebKit/537.36 (KHTML, like Gecko) Chrome/100.0.4896.127 Safari/537.36\n",
      "Error scraping url https://batdongsan.com.vn/cho-thue-can-ho-chung-cu-duong-nguyen-dinh-chieu-phuong-da-kao-prj-the-marq/chuyen-c-cao-cap-q1-vi-tri-thuan-tien-sieu-dang-cap-c-chuyen-gia-nuoc-ngoai-pr42658292: 're__icon-front-view'\n"
     ]
    },
    {
     "name": "stderr",
     "output_type": "stream",
     "text": [
      "Processing batches:  58%|█████▊    | 676/1161 [1:28:08<1:52:47, 13.95s/it]"
     ]
    },
    {
     "name": "stdout",
     "output_type": "stream",
     "text": [
      "Using Chrome with user agent: Mozilla/5.0 (Windows NT 10.0; Win64; x64) AppleWebKit/537.36 (KHTML, like Gecko) Chrome/100.0.4896.127 Safari/537.36\n",
      "Error scraping url https://batdongsan.com.vn/cho-thue-can-ho-chung-cu-duong-vo-chi-cong-phuong-phu-huu-2-prj-safira-khang-dien/t-t-c-2pn-2wc-full-noi-that-dep-mat-quanh-nam-pr42737240: 're__icon-front-view'\n"
     ]
    },
    {
     "name": "stderr",
     "output_type": "stream",
     "text": [
      "Processing batches:  58%|█████▊    | 677/1161 [1:28:16<1:38:30, 12.21s/it]"
     ]
    },
    {
     "name": "stdout",
     "output_type": "stream",
     "text": [
      "Using Chrome with user agent: Mozilla/5.0 (Windows NT 10.0; Win64; x64) AppleWebKit/537.36 (KHTML, like Gecko) Chrome/100.0.4896.127 Safari/537.36\n",
      "Error scraping url https://batdongsan.com.vn/cho-thue-can-ho-chung-cu-mini-duong-cach-mang-thang-tam-phuong-13-5/c-1-png-ngu-n-50m2-nha-biet-thu-quan-10-pr42582439: 're__icon-front-view'\n"
     ]
    },
    {
     "name": "stderr",
     "output_type": "stream",
     "text": [
      "Processing batches:  58%|█████▊    | 678/1161 [1:28:44<2:14:33, 16.72s/it]"
     ]
    },
    {
     "name": "stdout",
     "output_type": "stream",
     "text": [
      "Using Chrome with user agent: Mozilla/5.0 (Windows NT 10.0; Win64; x64) AppleWebKit/537.36 (KHTML, like Gecko) Chrome/99.0.4844.84 Safari/537.36\n",
      "Error scraping url https://batdongsan.com.vn/cho-thue-can-ho-chung-cu-duong-nguyen-van-linh-xa-phong-phu-4-prj-chung-cu-a-view/c-13c-dien-tich-108-m-3pn-v-2wc-nh-sch-se-bn-cong-tng-mt-pr42737729: HTTPConnectionPool(host='localhost', port=56614): Read timed out. (read timeout=120)\n"
     ]
    },
    {
     "name": "stderr",
     "output_type": "stream",
     "text": [
      "Processing batches:  58%|█████▊    | 679/1161 [1:28:50<1:50:19, 13.73s/it]"
     ]
    },
    {
     "name": "stdout",
     "output_type": "stream",
     "text": [
      "Using Chrome with user agent: Mozilla/5.0 (Macintosh; Intel Mac OS X 10_15_7) AppleWebKit/537.36 (KHTML, like Gecko) Chrome/99.0.4844.84 Safari/537.36\n"
     ]
    },
    {
     "name": "stderr",
     "output_type": "stream",
     "text": [
      "Processing batches:  59%|█████▊    | 680/1161 [1:28:58<1:36:05, 11.99s/it]"
     ]
    },
    {
     "name": "stdout",
     "output_type": "stream",
     "text": [
      "Error scraping url https://batdongsan.com.vn/cho-thue-can-ho-chung-cu-duong-song-hanh-phuong-phu-huu-2-prj-jamila-khang-dien/cho-cc-2pn-2wc-tai-11-trieu-76m2-view-xem-phao-hoa-tai-nha-nhin-lm81-pr42009280: 're__icon-clock'\n",
      "Using Chrome with user agent: Mozilla/5.0 (Macintosh; Intel Mac OS X 10_15_7) AppleWebKit/537.36 (KHTML, like Gecko) Chrome/99.0.4844.84 Safari/537.36\n",
      "Error scraping url https://batdongsan.com.vn/cho-thue-can-ho-chung-cu-duong-ben-van-don-phuong-12-prj-the-tresor/c-1pn-1wc-46m2-14-5-trieu-tai-quan-4-lh-pr42727754: HTTPConnectionPool(host='localhost', port=57327): Read timed out. (read timeout=120)\n"
     ]
    },
    {
     "name": "stderr",
     "output_type": "stream",
     "text": [
      "Processing batches:  59%|█████▊    | 681/1161 [1:29:13<1:42:52, 12.86s/it]"
     ]
    },
    {
     "name": "stdout",
     "output_type": "stream",
     "text": [
      "Using Chrome with user agent: Mozilla/5.0 (Macintosh; Intel Mac OS X 10_15_7) AppleWebKit/537.36 (KHTML, like Gecko) Chrome/100.0.4896.127 Safari/537.36\n"
     ]
    },
    {
     "name": "stderr",
     "output_type": "stream",
     "text": [
      "Processing batches:  59%|█████▊    | 682/1161 [1:29:20<1:29:07, 11.16s/it]"
     ]
    },
    {
     "name": "stdout",
     "output_type": "stream",
     "text": [
      "Error scraping url https://batdongsan.com.vn/cho-thue-can-ho-chung-cu-duong-dien-bien-phu-phuong-22-prj-the-landmark-81-vinhomes-central-park/c-81-3pn-133m2-pr29167643: 're__icon-document'\n"
     ]
    },
    {
     "name": "stderr",
     "output_type": "stream",
     "text": [
      "Processing batches:  59%|█████▉    | 683/1161 [1:29:21<1:04:05,  8.05s/it]"
     ]
    },
    {
     "name": "stdout",
     "output_type": "stream",
     "text": [
      "Using Chrome with user agent: Mozilla/5.0 (Macintosh; Intel Mac OS X 10_15_7) AppleWebKit/537.36 (KHTML, like Gecko) Chrome/100.0.4896.127 Safari/537.36\n",
      "Using Chrome with user agent: Mozilla/5.0 (Macintosh; Intel Mac OS X 10_15_7) AppleWebKit/537.36 (KHTML, like Gecko) Chrome/100.0.4896.127 Safari/537.36\n",
      "Error scraping url https://batdongsan.com.vn/cho-thue-can-ho-chung-cu-pho-ba-huyen-thanh-quan-phuong-vo-thi-sau-prj-saigon-pavillon/cho-nhieu-pavillons-du-dien-tich-gia-tot-nhat-khu-vuc-lh-zalo-24-7-pr41539558: 're__icon-front-view'\n"
     ]
    },
    {
     "name": "stderr",
     "output_type": "stream",
     "text": [
      "Processing batches:  59%|█████▉    | 684/1161 [1:29:31<1:08:41,  8.64s/it]"
     ]
    },
    {
     "name": "stdout",
     "output_type": "stream",
     "text": [
      "Using Chrome with user agent: Mozilla/5.0 (Macintosh; Intel Mac OS X 10_15_7) AppleWebKit/537.36 (KHTML, like Gecko) Chrome/100.0.4896.127 Safari/537.36\n",
      "Error scraping url https://batdongsan.com.vn/cho-thue-can-ho-chung-cu-mini-duong-phan-dinh-phung-phuong-15-7/lua-cn-tot-cua-k-a-t-diary-1pn-tai-thuan-tien-di-chuyen-q-1-san-bay-pr42678703: 're__icon-clock'\n"
     ]
    },
    {
     "name": "stderr",
     "output_type": "stream",
     "text": [
      "Processing batches:  59%|█████▉    | 685/1161 [1:29:39<1:06:19,  8.36s/it]"
     ]
    },
    {
     "name": "stdout",
     "output_type": "stream",
     "text": [
      "Error scraping url https://batdongsan.com.vn/cho-thue-can-ho-chung-cu-duong-phan-van-dang-phuong-thanh-my-loi-prj-vista-verde/-ngay-duplex-5-phong-ngu-tang-trung-view-noi-khu-full-nt-co-san-phong-xong-hoi-gia-chi-70tr-pr42634759: 're__icon-private-house'\n"
     ]
    },
    {
     "name": "stderr",
     "output_type": "stream",
     "text": [
      "Processing batches:  59%|█████▉    | 686/1161 [1:29:41<52:00,  6.57s/it]  "
     ]
    },
    {
     "name": "stdout",
     "output_type": "stream",
     "text": [
      "Using Chrome with user agent: Mozilla/5.0 (Windows NT 10.0; Win64; x64) AppleWebKit/537.36 (KHTML, like Gecko) Chrome/100.0.4896.127 Safari/537.36\n",
      "Using Chrome with user agent: Mozilla/5.0 (Windows NT 10.0; Win64; x64) AppleWebKit/537.36 (KHTML, like Gecko) Chrome/99.0.4844.84 Safari/537.36\n",
      "Error scraping url https://batdongsan.com.vn/cho-thue-nha-tro-phong-tro-duong-nguyen-huu-tho-xa-phuoc-kieng-prj-phu-hoang-anh/cho-tai-can-ho-gia-tu-3-5tr-4-5tr-so-9-tho-pr40887994: 're__icon-front-view'\n"
     ]
    },
    {
     "name": "stderr",
     "output_type": "stream",
     "text": [
      "Processing batches:  59%|█████▉    | 687/1161 [1:29:51<59:06,  7.48s/it]"
     ]
    },
    {
     "name": "stdout",
     "output_type": "stream",
     "text": [
      "Using Chrome with user agent: Mozilla/5.0 (Windows NT 10.0; Win64; x64) AppleWebKit/537.36 (KHTML, like Gecko) Chrome/99.0.4844.84 Safari/537.36\n"
     ]
    },
    {
     "name": "stderr",
     "output_type": "stream",
     "text": [
      "Processing batches:  59%|█████▉    | 688/1161 [1:30:01<1:05:28,  8.30s/it]"
     ]
    },
    {
     "name": "stdout",
     "output_type": "stream",
     "text": [
      "Using Chrome with user agent: Mozilla/5.0 (Macintosh; Intel Mac OS X 10_15_7) AppleWebKit/537.36 (KHTML, like Gecko) Chrome/100.0.4896.127 Safari/537.36\n",
      "Error scraping url https://batdongsan.com.vn/cho-thue-can-ho-chung-cu-duong-dao-tri-phuong-phu-thuan-3-prj-sunshine-diamond-river/-view-song-cach-pmh-chi-3p-di-chuyen-2pn-123m2-gia-tu-14tr-thang-lh-0938-542-pr40799370: 're__icon-front-view'\n"
     ]
    },
    {
     "name": "stderr",
     "output_type": "stream",
     "text": [
      "Processing batches:  59%|█████▉    | 689/1161 [1:30:13<1:13:22,  9.33s/it]"
     ]
    },
    {
     "name": "stdout",
     "output_type": "stream",
     "text": [
      "Error scraping url https://batdongsan.com.vn/cho-thue-can-ho-chung-cu-duong-n1-phuong-son-ky-prj-celadon-city/cho-85m2-diamond-alnata-plus-20tr-thang-bao-phi-quan-ly-nt-dep-nhu-hinh-lh-pr42578044: 're__icon-front-view'\n"
     ]
    },
    {
     "name": "stderr",
     "output_type": "stream",
     "text": [
      "Processing batches:  59%|█████▉    | 690/1161 [1:30:13<52:56,  6.74s/it]  "
     ]
    },
    {
     "name": "stdout",
     "output_type": "stream",
     "text": [
      "Using Chrome with user agent: Mozilla/5.0 (Macintosh; Intel Mac OS X 10_15_7) AppleWebKit/537.36 (KHTML, like Gecko) Chrome/100.0.4896.127 Safari/537.36\n",
      "Using Chrome with user agent: Mozilla/5.0 (Windows NT 10.0; Win64; x64) AppleWebKit/537.36 (KHTML, like Gecko) Chrome/100.0.4896.127 Safari/537.36\n",
      "Error scraping url https://batdongsan.com.vn/cho-thue-can-ho-chung-cu-duong-nguyen-trai-phuong-11-2/c-2-png-ngu-rong-70m2-q5-pr42353765: 're__icon-clock'\n"
     ]
    },
    {
     "name": "stderr",
     "output_type": "stream",
     "text": [
      "Processing batches:  60%|█████▉    | 691/1161 [1:30:20<52:07,  6.66s/it]"
     ]
    },
    {
     "name": "stdout",
     "output_type": "stream",
     "text": [
      "Error scraping url https://batdongsan.com.vn/cho-thue-can-ho-chung-cu-duong-nguyen-huu-tho-xa-phuoc-kieng-prj-phu-hoang-anh/sale-chuyen-cho-penthouse-lofhouse-hotline-0977777145-pr37718557: 're__icon-document'\n"
     ]
    },
    {
     "name": "stderr",
     "output_type": "stream",
     "text": [
      "Processing batches:  60%|█████▉    | 692/1161 [1:30:21<40:07,  5.13s/it]"
     ]
    },
    {
     "name": "stdout",
     "output_type": "stream",
     "text": [
      "Using Chrome with user agent: Mozilla/5.0 (Windows NT 10.0; Win64; x64) AppleWebKit/537.36 (KHTML, like Gecko) Chrome/99.0.4844.84 Safari/537.36\n",
      "Using Chrome with user agent: Mozilla/5.0 (Macintosh; Intel Mac OS X 10_15_7) AppleWebKit/537.36 (KHTML, like Gecko) Chrome/100.0.4896.127 Safari/537.36\n"
     ]
    },
    {
     "name": "stderr",
     "output_type": "stream",
     "text": [
      "Processing batches:  60%|█████▉    | 693/1161 [1:30:30<47:56,  6.15s/it]"
     ]
    },
    {
     "name": "stdout",
     "output_type": "stream",
     "text": [
      "Error scraping url https://batdongsan.com.vn/cho-thue-can-ho-chung-cu-mini-duong-dien-bien-phu-phuong-2-20/he-tng-chdv-sang-trong-moi-100-tien-ich-boi-gym-bao-ve-24-7-gia-chi-tu-10-trieu-pr42713194: 're__icon-clock'\n",
      "Error scraping url https://batdongsan.com.vn/cho-thue-can-ho-chung-cu-mini-duong-nguyen-thi-minh-khai-phuong-vo-thi-sau/-tach-bep-ban-cong-thang-may-60m2-khu-vuc-trung-tam-tp-hcm-pr41617917: 're__icon-document'\n"
     ]
    },
    {
     "name": "stderr",
     "output_type": "stream",
     "text": [
      "Processing batches:  60%|█████▉    | 694/1161 [1:30:31<35:50,  4.61s/it]"
     ]
    },
    {
     "name": "stdout",
     "output_type": "stream",
     "text": [
      "Using Chrome with user agent: Mozilla/5.0 (Windows NT 10.0; Win64; x64) AppleWebKit/537.36 (KHTML, like Gecko) Chrome/100.0.4896.127 Safari/537.36\n",
      "Using Chrome with user agent: Mozilla/5.0 (Windows NT 10.0; Win64; x64) AppleWebKit/537.36 (KHTML, like Gecko) Chrome/99.0.4844.84 Safari/537.36\n",
      "Error scraping url https://batdongsan.com.vn/cho-thue-can-ho-chung-cu-duong-huong-lo-80-1-xa-vinh-loc-a-1-prj-vinh-loc-dgold/-dgol-dt-39m2-gi-3-5tr-chi-coc-1-thng-tng-12-nh-sch-se-o-lien-pr42695133: 're__icon-clock'\n"
     ]
    },
    {
     "name": "stderr",
     "output_type": "stream",
     "text": [
      "Processing batches:  60%|█████▉    | 696/1161 [1:30:39<31:02,  4.01s/it]"
     ]
    },
    {
     "name": "stdout",
     "output_type": "stream",
     "text": [
      "Error scraping url https://batdongsan.com.vn/cho-thue-can-ho-chung-cu-mini-duong-huynh-tan-phat-phuong-binh-thuan-3/-moi-xay-dien-tich-lon-duoc-o-dong-nguoi-va-nuoi-pet-gan-khu-che-xuat-huong-ve-quan-4-pr42229333: 're__icon-clock'\n",
      "First method failed: [Errno 2] No such file or directory: '/Users/macbook/Library/Application Support/undetected_chromedriver/undetected/chromedriver-mac-x64/chromedriver' -> '/Users/macbook/Library/Application Support/undetected_chromedriver/undetected_chromedriver'\n",
      "Using Chrome driver at: /Users/macbook/.wdm/drivers/chromedriver/mac64/135.0.7049.95/chromedriver-mac-arm64/chromedriver\n"
     ]
    },
    {
     "name": "stderr",
     "output_type": "stream",
     "text": [
      "could not detect version_main.therefore, we are assuming it is chrome 108 or higher\n"
     ]
    },
    {
     "name": "stdout",
     "output_type": "stream",
     "text": [
      "Using Chrome with user agent: Mozilla/5.0 (Macintosh; Intel Mac OS X 10_15_7) AppleWebKit/537.36 (KHTML, like Gecko) Chrome/99.0.4844.84 Safari/537.36\n",
      "Error scraping url https://batdongsan.com.vn/cho-thue-can-ho-chung-cu-duong-nguyen-huu-tho-xa-phuoc-kieng-prj-dragon-city/em-chuyen-quan-li-c-tai-hill-1-gia-doc-quyen-chi-9-10-trieu-pr41380760: 're__icon-front-view'\n"
     ]
    },
    {
     "name": "stderr",
     "output_type": "stream",
     "text": [
      "Processing batches:  60%|██████    | 697/1161 [1:30:43<30:41,  3.97s/it]"
     ]
    },
    {
     "name": "stdout",
     "output_type": "stream",
     "text": [
      "Using Chrome with user agent: Mozilla/5.0 (Windows NT 10.0; Win64; x64) AppleWebKit/537.36 (KHTML, like Gecko) Chrome/99.0.4844.84 Safari/537.36\n"
     ]
    },
    {
     "name": "stderr",
     "output_type": "stream",
     "text": [
      "Processing batches:  60%|██████    | 698/1161 [1:30:51<40:15,  5.22s/it]"
     ]
    },
    {
     "name": "stdout",
     "output_type": "stream",
     "text": [
      "Error scraping url https://batdongsan.com.vn/cho-thue-nha-tro-phong-tro-duong-bau-bang-phuong-13-10/cho-20m2-3-4-trieu-p-13-tan-binh-hcm-pr42698677: 're__icon-clock'\n",
      "Using Chrome with user agent: Mozilla/5.0 (Macintosh; Intel Mac OS X 10_15_7) AppleWebKit/537.36 (KHTML, like Gecko) Chrome/99.0.4844.84 Safari/537.36\n",
      "Error scraping url https://batdongsan.com.vn/cho-thue-can-ho-chung-cu-mini-phuong-9-6/cho-cc-30m2-1pn-1wc-8-5-trieu-tai-9-quan-5-hcm-bao-dep-pr42734887: 're__icon-clock'\n"
     ]
    },
    {
     "name": "stderr",
     "output_type": "stream",
     "text": [
      "Processing batches:  60%|██████    | 699/1161 [1:31:01<49:56,  6.49s/it]"
     ]
    },
    {
     "name": "stdout",
     "output_type": "stream",
     "text": [
      "Using Chrome with user agent: Mozilla/5.0 (Macintosh; Intel Mac OS X 10_15_7) AppleWebKit/537.36 (KHTML, like Gecko) Chrome/100.0.4896.127 Safari/537.36\n",
      "Second method failed: Message: Can not connect to the Service /Users/macbook/.wdm/drivers/chromedriver/mac64/135.0.7049.95/chromedriver-mac-arm64/chromedriver\n",
      "\n",
      "Error scraping url https://batdongsan.com.vn/cho-thue-can-ho-chung-cu-duong-dai-lo-vong-cung-phuong-thu-thiem-prj-the-opera-residence/-cho-3-phong-ngu-noi-that-co-ban-gia-tot-pr42645537: 're__icon-clock'\n"
     ]
    },
    {
     "name": "stderr",
     "output_type": "stream",
     "text": [
      "Processing batches:  60%|██████    | 700/1161 [1:31:26<1:34:17, 12.27s/it]"
     ]
    },
    {
     "name": "stdout",
     "output_type": "stream",
     "text": [
      "Using Chrome with user agent: Mozilla/5.0 (Macintosh; Intel Mac OS X 10_15_7) AppleWebKit/537.36 (KHTML, like Gecko) Chrome/99.0.4844.84 Safari/537.36\n"
     ]
    },
    {
     "name": "stderr",
     "output_type": "stream",
     "text": [
      "Processing batches:  60%|██████    | 701/1161 [1:31:33<1:21:36, 10.64s/it]"
     ]
    },
    {
     "name": "stdout",
     "output_type": "stream",
     "text": [
      "Error scraping url https://batdongsan.com.vn/cho-thue-can-ho-chung-cu-duong-dai-lo-vong-cung-phuong-thu-thiem-prj-the-opera-residence/-cho-2-phong-ngu-full-noi-that-dep-pr42646132: 're__icon-clock'\n",
      "Using Chrome with user agent: Mozilla/5.0 (Macintosh; Intel Mac OS X 10_15_7) AppleWebKit/537.36 (KHTML, like Gecko) Chrome/100.0.4896.127 Safari/537.36\n",
      "Error scraping url https://batdongsan.com.vn/cho-thue-can-ho-chung-cu-duong-an-duong-vuong-phuong-an-lac-6-prj-chung-cu-le-thanh/cho-cc-5-5-trieu-60m2-2pn-1wc-binh-tan-hcm-hot-pr42136918: 're__icon-front-view'\n"
     ]
    },
    {
     "name": "stderr",
     "output_type": "stream",
     "text": [
      "Processing batches:  60%|██████    | 702/1161 [1:31:47<1:28:39, 11.59s/it]"
     ]
    },
    {
     "name": "stdout",
     "output_type": "stream",
     "text": [
      "All Chrome initialization methods failed: Message: Can not connect to the Service /Users/macbook/.wdm/drivers/chromedriver/mac64/135.0.7049.95/chromedriver-mac-arm64/chromedriver\n",
      "\n",
      "Using Chrome with user agent: Mozilla/5.0 (Windows NT 10.0; Win64; x64) AppleWebKit/537.36 (KHTML, like Gecko) Chrome/99.0.4844.84 Safari/537.36\n"
     ]
    },
    {
     "name": "stderr",
     "output_type": "stream",
     "text": [
      "Processing batches:  61%|██████    | 703/1161 [1:31:54<1:18:29, 10.28s/it]"
     ]
    },
    {
     "name": "stdout",
     "output_type": "stream",
     "text": [
      "Error scraping url https://batdongsan.com.vn/cho-thue-nha-tro-phong-tro-pho-75-phuong-tan-phong-9/cho-studio-day-du-tien-nghi-cua-so-thoang-duong-75-q7-cach-lotter-him-lam-5p-pr42734090: 're__icon-front-view'\n",
      "Using Chrome with user agent: Mozilla/5.0 (Macintosh; Intel Mac OS X 10_15_7) AppleWebKit/537.36 (KHTML, like Gecko) Chrome/99.0.4844.84 Safari/537.36\n",
      "Error scraping url https://batdongsan.com.vn/cho-thue-nha-tro-phong-tro-duong-dien-bien-phu-phuong-17-1/-gia-re-ong-17-binh-thanh-pr42730211: Message: no such element: Unable to locate element: {\"method\":\"css selector\",\"selector\":\"h1[class*='re__pr-title pr-title js__pr-title']\"}\n",
      "  (Session info: chrome=135.0.7049.96); For documentation on this error, please visit: https://www.selenium.dev/documentation/webdriver/troubleshooting/errors#no-such-element-exception\n",
      "Stacktrace:\n",
      "0   undetected_chromedriver             0x0000000102da6448 undetected_chromedriver + 6149192\n",
      "1   undetected_chromedriver             0x0000000102d9db0a undetected_chromedriver + 6114058\n",
      "2   undetected_chromedriver             0x000000010282ee80 undetected_chromedriver + 417408\n",
      "3   undetected_chromedriver             0x0000000102880587 undetected_chromedriver + 750983\n",
      "4   undetected_chromedriver             0x00000001028807a1 undetected_chromedriver + 751521\n",
      "5   undetected_chromedriver             0x00000001028d0784 undetected_chromedriver + 1079172\n",
      "6   undetected_chromedriver             0x00000001028a67bd undetected_chromedriver + 907197\n",
      "7   undetected_chromedriver             0x00000001028cdaca undetected_chromedriver + 1067722\n",
      "8   undetected_chromedriver             0x00000001028a6563 undetected_chromedriver + 906595\n",
      "9   undetected_chromedriver             0x0000000102872955 undetected_chromedriver + 694613\n",
      "10  undetected_chromedriver             0x00000001028735b1 undetected_chromedriver + 697777\n",
      "11  undetected_chromedriver             0x0000000102d63f00 undetected_chromedriver + 5877504\n",
      "12  undetected_chromedriver             0x0000000102d67df1 undetected_chromedriver + 5893617\n",
      "13  undetected_chromedriver             0x0000000102d3e344 undetected_chromedriver + 5722948\n",
      "14  undetected_chromedriver             0x0000000102d6880b undetected_chromedriver + 5896203\n",
      "15  undetected_chromedriver             0x0000000102d2cac4 undetected_chromedriver + 5651140\n",
      "16  undetected_chromedriver             0x0000000102d8b918 undetected_chromedriver + 6039832\n",
      "17  undetected_chromedriver             0x0000000102d8bae0 undetected_chromedriver + 6040288\n",
      "18  undetected_chromedriver             0x0000000102d9d6d1 undetected_chromedriver + 6112977\n",
      "19  libsystem_pthread.dylib             0x00007ff8053ac18b _pthread_start + 99\n",
      "20  libsystem_pthread.dylib             0x00007ff8053a7ae3 thread_start + 15\n",
      "\n"
     ]
    },
    {
     "name": "stderr",
     "output_type": "stream",
     "text": [
      "Processing batches:  61%|██████    | 704/1161 [1:32:03<1:14:16,  9.75s/it]"
     ]
    },
    {
     "name": "stdout",
     "output_type": "stream",
     "text": [
      "Using Chrome with user agent: Mozilla/5.0 (Macintosh; Intel Mac OS X 10_15_7) AppleWebKit/537.36 (KHTML, like Gecko) Chrome/99.0.4844.84 Safari/537.36\n"
     ]
    },
    {
     "name": "stderr",
     "output_type": "stream",
     "text": [
      "Processing batches:  61%|██████    | 705/1161 [1:32:12<1:12:20,  9.52s/it]"
     ]
    },
    {
     "name": "stdout",
     "output_type": "stream",
     "text": [
      "Using Chrome with user agent: Mozilla/5.0 (Windows NT 10.0; Win64; x64) AppleWebKit/537.36 (KHTML, like Gecko) Chrome/99.0.4844.84 Safari/537.36\n",
      "Error scraping url https://batdongsan.com.vn/cho-thue-nha-tro-phong-tro-duong-ly-phuc-man-phuong-binh-thuan-3/cho-studio-q7-full-noi-that-may-giat-rieng-ngay-tai-man-pr42734259: 're__icon-clock'\n"
     ]
    },
    {
     "name": "stderr",
     "output_type": "stream",
     "text": [
      "Processing batches:  61%|██████    | 706/1161 [1:32:31<1:35:06, 12.54s/it]"
     ]
    },
    {
     "name": "stdout",
     "output_type": "stream",
     "text": [
      "Using Chrome with user agent: Mozilla/5.0 (Windows NT 10.0; Win64; x64) AppleWebKit/537.36 (KHTML, like Gecko) Chrome/100.0.4896.127 Safari/537.36\n",
      "Error scraping url https://batdongsan.com.vn/cho-thue-can-ho-chung-cu-duong-ly-nam-de-phuong-7-8-prj-tan-phuoc-plaza/cho-chcc-q11-dt-76m2-2pn-2wc-chinh-chu-gia-12tr-lh-0703-445-188-tran-pr42734443: 're__icon-electricity'\n"
     ]
    },
    {
     "name": "stderr",
     "output_type": "stream",
     "text": [
      "Processing batches:  61%|██████    | 707/1161 [1:32:41<1:28:27, 11.69s/it]"
     ]
    },
    {
     "name": "stdout",
     "output_type": "stream",
     "text": [
      "Using Chrome with user agent: Mozilla/5.0 (Macintosh; Intel Mac OS X 10_15_7) AppleWebKit/537.36 (KHTML, like Gecko) Chrome/99.0.4844.84 Safari/537.36\n"
     ]
    },
    {
     "name": "stderr",
     "output_type": "stream",
     "text": [
      "Service process refused to terminate gracefully with SIGTERM, escalating to SIGKILL.\n",
      "Traceback (most recent call last):\n",
      "  File \"/Users/macbook/Desktop/BecasaNetwork/crawl/scrapepage.py\", line 132, in init_driver\n",
      "    driver = uc.Chrome(version_main=135, options=options)  # Specify a version that works with your Chrome\n",
      "  File \"/Users/macbook/Desktop/BecasaNetwork/crawl/env/lib/python3.13/site-packages/undetected_chromedriver/__init__.py\", line 258, in __init__\n",
      "    self.patcher.auto()\n",
      "    ~~~~~~~~~~~~~~~~~^^\n",
      "  File \"/Users/macbook/Desktop/BecasaNetwork/crawl/env/lib/python3.13/site-packages/undetected_chromedriver/patcher.py\", line 178, in auto\n",
      "    self.unzip_package(self.fetch_package())\n",
      "    ~~~~~~~~~~~~~~~~~~^^^^^^^^^^^^^^^^^^^^^^\n",
      "  File \"/Users/macbook/Desktop/BecasaNetwork/crawl/env/lib/python3.13/site-packages/undetected_chromedriver/patcher.py\", line 310, in unzip_package\n",
      "    os.rename(os.path.join(self.zip_path, exe_path), self.executable_path)\n",
      "    ~~~~~~~~~^^^^^^^^^^^^^^^^^^^^^^^^^^^^^^^^^^^^^^^^^^^^^^^^^^^^^^^^^^^^^\n",
      "FileNotFoundError: [Errno 2] No such file or directory: '/Users/macbook/Library/Application Support/undetected_chromedriver/undetected/chromedriver-mac-x64/chromedriver' -> '/Users/macbook/Library/Application Support/undetected_chromedriver/undetected_chromedriver'\n",
      "\n",
      "During handling of the above exception, another exception occurred:\n",
      "\n",
      "Traceback (most recent call last):\n",
      "  File \"/Users/macbook/Desktop/BecasaNetwork/crawl/scrapepage.py\", line 139, in init_driver\n",
      "    driver = uc.Chrome(driver_executable_path=driver_path, options=options)\n",
      "  File \"/Users/macbook/Desktop/BecasaNetwork/crawl/env/lib/python3.13/site-packages/undetected_chromedriver/__init__.py\", line 466, in __init__\n",
      "    super(Chrome, self).__init__(\n",
      "    ~~~~~~~~~~~~~~~~~~~~~~~~~~~~^\n",
      "        service=service,\n",
      "        ^^^^^^^^^^^^^^^^\n",
      "        options=options,\n",
      "        ^^^^^^^^^^^^^^^^\n",
      "        keep_alive=keep_alive,\n",
      "        ^^^^^^^^^^^^^^^^^^^^^^\n",
      "    )\n",
      "    ^\n",
      "  File \"/Users/macbook/Desktop/BecasaNetwork/crawl/env/lib/python3.13/site-packages/selenium/webdriver/chrome/webdriver.py\", line 45, in __init__\n",
      "    super().__init__(\n",
      "    ~~~~~~~~~~~~~~~~^\n",
      "        browser_name=DesiredCapabilities.CHROME[\"browserName\"],\n",
      "        ^^^^^^^^^^^^^^^^^^^^^^^^^^^^^^^^^^^^^^^^^^^^^^^^^^^^^^^\n",
      "    ...<3 lines>...\n",
      "        keep_alive=keep_alive,\n",
      "        ^^^^^^^^^^^^^^^^^^^^^^\n",
      "    )\n",
      "    ^\n",
      "  File \"/Users/macbook/Desktop/BecasaNetwork/crawl/env/lib/python3.13/site-packages/selenium/webdriver/chromium/webdriver.py\", line 55, in __init__\n",
      "    self.service.start()\n",
      "    ~~~~~~~~~~~~~~~~~~^^\n",
      "  File \"/Users/macbook/Desktop/BecasaNetwork/crawl/env/lib/python3.13/site-packages/selenium/webdriver/common/service.py\", line 120, in start\n",
      "    raise WebDriverException(f\"Can not connect to the Service {self._path}\")\n",
      "selenium.common.exceptions.WebDriverException: Message: Can not connect to the Service /Users/macbook/.wdm/drivers/chromedriver/mac64/135.0.7049.95/chromedriver-mac-arm64/chromedriver\n",
      "\n",
      "\n",
      "During handling of the above exception, another exception occurred:\n",
      "\n",
      "Traceback (most recent call last):\n",
      "  File \"/Users/macbook/Desktop/BecasaNetwork/crawl/scrapepage.py\", line 166, in scrape_page\n",
      "    driver = init_driver()\n",
      "  File \"/Users/macbook/Desktop/BecasaNetwork/crawl/scrapepage.py\", line 147, in init_driver\n",
      "    driver = webdriver.Chrome(service=service, options=options)\n",
      "  File \"/Users/macbook/Desktop/BecasaNetwork/crawl/env/lib/python3.13/site-packages/selenium/webdriver/chrome/webdriver.py\", line 45, in __init__\n",
      "    super().__init__(\n",
      "    ~~~~~~~~~~~~~~~~^\n",
      "        browser_name=DesiredCapabilities.CHROME[\"browserName\"],\n",
      "        ^^^^^^^^^^^^^^^^^^^^^^^^^^^^^^^^^^^^^^^^^^^^^^^^^^^^^^^\n",
      "    ...<3 lines>...\n",
      "        keep_alive=keep_alive,\n",
      "        ^^^^^^^^^^^^^^^^^^^^^^\n",
      "    )\n",
      "    ^\n",
      "  File \"/Users/macbook/Desktop/BecasaNetwork/crawl/env/lib/python3.13/site-packages/selenium/webdriver/chromium/webdriver.py\", line 55, in __init__\n",
      "    self.service.start()\n",
      "    ~~~~~~~~~~~~~~~~~~^^\n",
      "  File \"/Users/macbook/Desktop/BecasaNetwork/crawl/env/lib/python3.13/site-packages/selenium/webdriver/common/service.py\", line 120, in start\n",
      "    raise WebDriverException(f\"Can not connect to the Service {self._path}\")\n",
      "selenium.common.exceptions.WebDriverException: Message: Can not connect to the Service /Users/macbook/.wdm/drivers/chromedriver/mac64/135.0.7049.95/chromedriver-mac-arm64/chromedriver\n",
      "\n",
      "\n",
      "During handling of the above exception, another exception occurred:\n",
      "\n",
      "UnboundLocalError: cannot access local variable 'url' where it is not associated with a value\n",
      "\n",
      "During handling of the above exception, another exception occurred:\n",
      "\n",
      "Traceback (most recent call last):\n",
      "  File \"/Users/macbook/Desktop/BecasaNetwork/crawl/env/lib/python3.13/site-packages/selenium/webdriver/common/service.py\", line 184, in _terminate_process\n",
      "    self.process.wait(60)\n",
      "    ~~~~~~~~~~~~~~~~~^^^^\n",
      "  File \"/opt/homebrew/Cellar/python@3.13/3.13.2/Frameworks/Python.framework/Versions/3.13/lib/python3.13/subprocess.py\", line 1276, in wait\n",
      "    return self._wait(timeout=timeout)\n",
      "           ~~~~~~~~~~^^^^^^^^^^^^^^^^^\n",
      "  File \"/opt/homebrew/Cellar/python@3.13/3.13.2/Frameworks/Python.framework/Versions/3.13/lib/python3.13/subprocess.py\", line 2060, in _wait\n",
      "    raise TimeoutExpired(self.args, timeout)\n",
      "subprocess.TimeoutExpired: Command '['/Users/macbook/.wdm/drivers/chromedriver/mac64/135.0.7049.95/chromedriver-mac-arm64/chromedriver', '--port=51209']' timed out after 60 seconds\n",
      "Processing batches:  61%|██████    | 708/1161 [1:32:47<1:15:43, 10.03s/it]"
     ]
    },
    {
     "name": "stdout",
     "output_type": "stream",
     "text": [
      "Error processing batch ['https://batdongsan.com.vn/cho-thue-can-ho-chung-cu-duong-nguyen-huu-tho-phuong-tan-hung-14-prj-sunrise-city-view/c-dai-han-ngan-han-gia-tot-pr34677042']: cannot access local variable 'url' where it is not associated with a value\n",
      "Using Chrome with user agent: Mozilla/5.0 (Windows NT 10.0; Win64; x64) AppleWebKit/537.36 (KHTML, like Gecko) Chrome/100.0.4896.127 Safari/537.36\n",
      "Error scraping url https://batdongsan.com.vn/cho-thue-can-ho-chung-cu-duong-nguyen-thi-tan-phuong-rach-ong/9tr-thang-cc-p-q8-84m2-2pn-3-ban-c-co-san-nt-canh-cho-pr42734045: 're__icon-clock'\n"
     ]
    },
    {
     "name": "stderr",
     "output_type": "stream",
     "text": [
      "Processing batches:  61%|██████    | 709/1161 [1:33:18<2:02:29, 16.26s/it]"
     ]
    },
    {
     "name": "stdout",
     "output_type": "stream",
     "text": [
      "Using Chrome with user agent: Mozilla/5.0 (Macintosh; Intel Mac OS X 10_15_7) AppleWebKit/537.36 (KHTML, like Gecko) Chrome/100.0.4896.127 Safari/537.36\n",
      "Error scraping url https://batdongsan.com.vn/cho-thue-can-ho-chung-cu-duong-thoai-ngoc-hau-phuong-hoa-thanh-prj-sai-gon-apartment/-saigon-tower-tp-75m2-2pn-2wc-ban-cong-8tr5-pr42734369: 're__icon-clock'\n"
     ]
    },
    {
     "name": "stderr",
     "output_type": "stream",
     "text": [
      "Processing batches:  61%|██████    | 710/1161 [1:33:39<2:12:43, 17.66s/it]"
     ]
    },
    {
     "name": "stdout",
     "output_type": "stream",
     "text": [
      "Using Chrome with user agent: Mozilla/5.0 (Macintosh; Intel Mac OS X 10_15_7) AppleWebKit/537.36 (KHTML, like Gecko) Chrome/99.0.4844.84 Safari/537.36\n",
      "Error scraping url https://batdongsan.com.vn/cho-thue-can-ho-chung-cu-mini-duong-huynh-tan-phat-phuong-phu-thuan-3/c-bancon-full-nt-gan-secc-my-hung-vivo-ufm-tien-q4-q8-pr41344220: 're__icon-document'\n"
     ]
    },
    {
     "name": "stderr",
     "output_type": "stream",
     "text": [
      "Processing batches:  61%|██████    | 711/1161 [1:34:06<2:32:50, 20.38s/it]"
     ]
    },
    {
     "name": "stdout",
     "output_type": "stream",
     "text": [
      "Using Chrome with user agent: Mozilla/5.0 (Macintosh; Intel Mac OS X 10_15_7) AppleWebKit/537.36 (KHTML, like Gecko) Chrome/99.0.4844.84 Safari/537.36\n",
      "Error scraping url https://batdongsan.com.vn/cho-thue-nha-tro-phong-tro-duong-ich-thien-phuong-tan-thanh/-khong-chung-chu-thoang-mat-pr42733969: 're__icon-electricity'\n"
     ]
    },
    {
     "name": "stderr",
     "output_type": "stream",
     "text": [
      "Processing batches:  61%|██████▏   | 712/1161 [1:34:15<2:08:16, 17.14s/it]"
     ]
    },
    {
     "name": "stdout",
     "output_type": "stream",
     "text": [
      "Using Chrome with user agent: Mozilla/5.0 (Windows NT 10.0; Win64; x64) AppleWebKit/537.36 (KHTML, like Gecko) Chrome/100.0.4896.127 Safari/537.36\n",
      "Error scraping url https://batdongsan.com.vn/cho-thue-can-ho-chung-cu-duong-nguyen-duy-trinh-phuong-binh-trung-dong-prj-kris-vue/cho-cc-10-5-trieu-52m2-q2-hcm-pr42698125: 're__icon-clock'\n"
     ]
    },
    {
     "name": "stderr",
     "output_type": "stream",
     "text": [
      "Processing batches:  61%|██████▏   | 713/1161 [1:34:24<1:50:01, 14.74s/it]"
     ]
    },
    {
     "name": "stdout",
     "output_type": "stream",
     "text": [
      "Error scraping url https://batdongsan.com.vn/cho-thue-can-ho-chung-cu-duong-mai-chi-tho-phuong-an-phu-prj-lexington-residence/c-chcc-q-2-1-pn-2-pn-3-pn-gia-tu-10-5-tr-thang-pr42565927: 're__icon-front-view'\n"
     ]
    },
    {
     "name": "stderr",
     "output_type": "stream",
     "text": [
      "Processing batches:  61%|██████▏   | 714/1161 [1:34:26<1:20:46, 10.84s/it]"
     ]
    },
    {
     "name": "stdout",
     "output_type": "stream",
     "text": [
      "Using Chrome with user agent: Mozilla/5.0 (Macintosh; Intel Mac OS X 10_15_7) AppleWebKit/537.36 (KHTML, like Gecko) Chrome/99.0.4844.84 Safari/537.36\n",
      "Using Chrome with user agent: Mozilla/5.0 (Macintosh; Intel Mac OS X 10_15_7) AppleWebKit/537.36 (KHTML, like Gecko) Chrome/99.0.4844.84 Safari/537.36\n"
     ]
    },
    {
     "name": "stderr",
     "output_type": "stream",
     "text": [
      "Processing batches:  62%|██████▏   | 715/1161 [1:34:32<1:09:04,  9.29s/it]"
     ]
    },
    {
     "name": "stdout",
     "output_type": "stream",
     "text": [
      "Error scraping url https://batdongsan.com.vn/cho-thue-can-ho-chung-cu-duong-nguyen-huu-tho-xa-phuoc-kieng-prj-sunrise-riverside/c-c-c-q7-nha-be-2pn-1wc-55m2-full-noi-that-o-ngay-duoc-11tr-thang-pr42733976: 're__icon-clock'\n",
      "Using Chrome with user agent: Mozilla/5.0 (Windows NT 10.0; Win64; x64) AppleWebKit/537.36 (KHTML, like Gecko) Chrome/99.0.4844.84 Safari/537.36\n",
      "Error scraping url https://batdongsan.com.vn/cho-thue-can-ho-chung-cu-duong-vo-nguyen-giap-phuong-an-phu-prj-lumiere-riverside/-cho-2pn-ntcb-view-song-tang-cao-gia-tot-25-trieu-lh-pr42706223: 're__icon-front-view'\n"
     ]
    },
    {
     "name": "stderr",
     "output_type": "stream",
     "text": [
      "Processing batches:  62%|██████▏   | 716/1161 [1:34:39<1:04:52,  8.75s/it]"
     ]
    },
    {
     "name": "stdout",
     "output_type": "stream",
     "text": [
      "Error scraping url https://batdongsan.com.vn/cho-thue-can-ho-chung-cu-mini-duong-dong-van-cong-phuong-cat-lai-prj-khu-do-thi-cat-lai/c-dich-vu-full-noi-that-tai-q2-pr42733526: 're__icon-clock'\n"
     ]
    },
    {
     "name": "stderr",
     "output_type": "stream",
     "text": [
      "Processing batches:  62%|██████▏   | 717/1161 [1:34:41<50:05,  6.77s/it]  "
     ]
    },
    {
     "name": "stdout",
     "output_type": "stream",
     "text": [
      "Using Chrome with user agent: Mozilla/5.0 (Macintosh; Intel Mac OS X 10_15_7) AppleWebKit/537.36 (KHTML, like Gecko) Chrome/100.0.4896.127 Safari/537.36\n",
      "Using Chrome with user agent: Mozilla/5.0 (Macintosh; Intel Mac OS X 10_15_7) AppleWebKit/537.36 (KHTML, like Gecko) Chrome/100.0.4896.127 Safari/537.36\n"
     ]
    },
    {
     "name": "stderr",
     "output_type": "stream",
     "text": [
      "Processing batches:  62%|██████▏   | 718/1161 [1:34:47<47:17,  6.41s/it]"
     ]
    },
    {
     "name": "stdout",
     "output_type": "stream",
     "text": [
      "Error scraping url https://batdongsan.com.vn/cho-thue-nha-tro-phong-tro-duong-huynh-tan-phat-thi-tran-nha-be/cho-rong-de-duoc-2-giuong-doi-1-ban-1-tu-wc-p-tam-gia-3-5-tr-thang-pr41962954: 're__icon-home'\n",
      "Using Chrome with user agent: Mozilla/5.0 (Macintosh; Intel Mac OS X 10_15_7) AppleWebKit/537.36 (KHTML, like Gecko) Chrome/100.0.4896.127 Safari/537.36\n",
      "Error scraping url https://batdongsan.com.vn/cho-thue-nha-tro-phong-tro-duong-bach-dang-phuong-2-22/gia-4-2tr-thang-chdv-full-noi-that-mt-ngay-san-bay-tsn-pr27234317: 're__icon-electricity'\n"
     ]
    },
    {
     "name": "stderr",
     "output_type": "stream",
     "text": [
      "Processing batches:  62%|██████▏   | 719/1161 [1:34:57<55:10,  7.49s/it]"
     ]
    },
    {
     "name": "stdout",
     "output_type": "stream",
     "text": [
      "Error scraping url https://batdongsan.com.vn/cho-thue-can-ho-chung-cu-duong-nguyen-huu-tho-phuong-tan-hung-14-prj-sunrise-city/cho-officetel-north-33-6-co-logia-10-trieu-thang-co-the-don-vao-ngay-pr42540949: 're__icon-private-house'\n"
     ]
    },
    {
     "name": "stderr",
     "output_type": "stream",
     "text": [
      "Processing batches:  62%|██████▏   | 720/1161 [1:34:57<39:25,  5.36s/it]"
     ]
    },
    {
     "name": "stdout",
     "output_type": "stream",
     "text": [
      "Using Chrome with user agent: Mozilla/5.0 (Windows NT 10.0; Win64; x64) AppleWebKit/537.36 (KHTML, like Gecko) Chrome/99.0.4844.84 Safari/537.36\n",
      "Using Chrome with user agent: Mozilla/5.0 (Windows NT 10.0; Win64; x64) AppleWebKit/537.36 (KHTML, like Gecko) Chrome/100.0.4896.127 Safari/537.36\n",
      "Error scraping url https://batdongsan.com.vn/cho-thue-nha-tro-phong-tro-duong-thoai-ngoc-hau-phuong-phu-thanh/-cao-cap-moi-100-gan-dh-van-hien-sieu-thi-go-thang-may-pr42733113: 're__icon-clock'\n"
     ]
    },
    {
     "name": "stderr",
     "output_type": "stream",
     "text": [
      "Processing batches:  62%|██████▏   | 721/1161 [1:35:08<52:01,  7.10s/it]"
     ]
    },
    {
     "name": "stdout",
     "output_type": "stream",
     "text": [
      "Error scraping url https://batdongsan.com.vn/cho-thue-can-ho-chung-cu-duong-an-duong-vuong-phuong-an-lac-6-prj-the-privia/cho-khang-dien-vao-o-ngay-pr41655975: 're__icon-front-view'\n"
     ]
    },
    {
     "name": "stderr",
     "output_type": "stream",
     "text": [
      "Processing batches:  62%|██████▏   | 722/1161 [1:35:09<37:45,  5.16s/it]"
     ]
    },
    {
     "name": "stdout",
     "output_type": "stream",
     "text": [
      "Error scraping url https://batdongsan.com.vn/cho-thue-can-ho-chung-cu-duong-pham-van-nghi-phuong-tan-phong-9-prj-sky-garden-3/c-3pn-noi-that-ngon-gia-mem-o-suong-nhu-em-thu-pr42732085: 're__icon-front-view'\n"
     ]
    },
    {
     "name": "stderr",
     "output_type": "stream",
     "text": [
      "Processing batches:  62%|██████▏   | 723/1161 [1:35:09<27:01,  3.70s/it]"
     ]
    },
    {
     "name": "stdout",
     "output_type": "stream",
     "text": [
      "Using Chrome with user agent: Mozilla/5.0 (Macintosh; Intel Mac OS X 10_15_7) AppleWebKit/537.36 (KHTML, like Gecko) Chrome/100.0.4896.127 Safari/537.36\n",
      "Using Chrome with user agent: Mozilla/5.0 (Windows NT 10.0; Win64; x64) AppleWebKit/537.36 (KHTML, like Gecko) Chrome/100.0.4896.127 Safari/537.36\n",
      "Error scraping url https://batdongsan.com.vn/cho-thue-can-ho-chung-cu-mini-duong-tinh-lo-10-phuong-tan-tao/moi-100-dich-vu-cao-cap-ai-1-2png-ngu-noi-that-tuy-cn-ngay-10-chi-5p-aeon-bt-pr42638877: 're__icon-private-house'\n"
     ]
    },
    {
     "name": "stderr",
     "output_type": "stream",
     "text": [
      "Processing batches:  62%|██████▏   | 724/1161 [1:35:17<35:23,  4.86s/it]"
     ]
    },
    {
     "name": "stdout",
     "output_type": "stream",
     "text": [
      "Using Chrome with user agent: Mozilla/5.0 (Macintosh; Intel Mac OS X 10_15_7) AppleWebKit/537.36 (KHTML, like Gecko) Chrome/99.0.4844.84 Safari/537.36\n",
      "Using Chrome with user agent: Mozilla/5.0 (Macintosh; Intel Mac OS X 10_15_7) AppleWebKit/537.36 (KHTML, like Gecko) Chrome/99.0.4844.84 Safari/537.36\n",
      "Error scraping url https://batdongsan.com.vn/cho-thue-can-ho-chung-cu-pho-luong-dinh-cua-phuong-an-khanh-prj-de-capella/c-khh-qu-2-18-trieu-104m2-3pn-cach-q1-2-phut-pr42732988: 're__icon-clock'\n"
     ]
    },
    {
     "name": "stderr",
     "output_type": "stream",
     "text": [
      "Processing batches:  62%|██████▏   | 725/1161 [1:35:29<49:51,  6.86s/it]"
     ]
    },
    {
     "name": "stdout",
     "output_type": "stream",
     "text": [
      "Using Chrome with user agent: Mozilla/5.0 (Macintosh; Intel Mac OS X 10_15_7) AppleWebKit/537.36 (KHTML, like Gecko) Chrome/99.0.4844.84 Safari/537.36\n",
      "Error scraping url https://batdongsan.com.vn/cho-thue-nha-tro-phong-tro-duong-lam-van-ben-phuong-tan-kieng/cho-q7-co-gac-rong-rai-thoang-mat-tai-mat-tien-ben-pr42734072: 're__icon-clock'\n"
     ]
    },
    {
     "name": "stderr",
     "output_type": "stream",
     "text": [
      "Processing batches:  63%|██████▎   | 726/1161 [1:35:38<55:39,  7.68s/it]"
     ]
    },
    {
     "name": "stdout",
     "output_type": "stream",
     "text": [
      "Using Chrome with user agent: Mozilla/5.0 (Windows NT 10.0; Win64; x64) AppleWebKit/537.36 (KHTML, like Gecko) Chrome/99.0.4844.84 Safari/537.36\n"
     ]
    },
    {
     "name": "stderr",
     "output_type": "stream",
     "text": [
      "Processing batches:  63%|██████▎   | 727/1161 [1:35:45<54:03,  7.47s/it]"
     ]
    },
    {
     "name": "stdout",
     "output_type": "stream",
     "text": [
      "Error scraping url https://batdongsan.com.vn/cho-thue-can-ho-chung-cu-duong-nguyen-ngoc-phuong_1-phuong-19-prj-chung-cu-nguyen-ngoc-phuong/-p19-binh-thanh-77m2-2p-10tr-th-pr42732593: 're__icon-private-house'\n",
      "Using Chrome with user agent: Mozilla/5.0 (Windows NT 10.0; Win64; x64) AppleWebKit/537.36 (KHTML, like Gecko) Chrome/100.0.4896.127 Safari/537.36\n"
     ]
    },
    {
     "name": "stderr",
     "output_type": "stream",
     "text": [
      "Processing batches:  63%|██████▎   | 728/1161 [1:35:53<53:54,  7.47s/it]"
     ]
    },
    {
     "name": "stdout",
     "output_type": "stream",
     "text": [
      "Error scraping url https://batdongsan.com.vn/cho-thue-can-ho-chung-cu-duong-bui-van-ba-phuong-tan-thuan-dong-1-prj-jamona-heights/c-quan-7-gia-re-day-du-tien-nghi-1pn-noi-that-co-ban-tai-ba-pr30769094: 're__icon-front-view'\n",
      "Using Chrome with user agent: Mozilla/5.0 (Macintosh; Intel Mac OS X 10_15_7) AppleWebKit/537.36 (KHTML, like Gecko) Chrome/99.0.4844.84 Safari/537.36\n",
      "Error scraping url https://batdongsan.com.vn/cho-thue-can-ho-chung-cu-phuong-tan-phu-19-prj-chung-cu-hung-phuc/chua-o-nen-c-2pn-1-happy-residences-gia-18tr-lh-pr39666303: 're__icon-private-house'\n"
     ]
    },
    {
     "name": "stderr",
     "output_type": "stream",
     "text": [
      "Processing batches:  63%|██████▎   | 729/1161 [1:36:04<1:01:46,  8.58s/it]"
     ]
    },
    {
     "name": "stdout",
     "output_type": "stream",
     "text": [
      "Using Chrome with user agent: Mozilla/5.0 (Macintosh; Intel Mac OS X 10_15_7) AppleWebKit/537.36 (KHTML, like Gecko) Chrome/100.0.4896.127 Safari/537.36\n",
      "Error scraping url https://batdongsan.com.vn/cho-thue-can-ho-chung-cu-duong-phan-van-dang-phuong-thanh-my-loi-prj-feliz-en-vista/cho-5pn-sky-mansion-gia-re-va-duy-nhat-tai-thi-truong-pr40281429: 're__icon-front-view'\n"
     ]
    },
    {
     "name": "stderr",
     "output_type": "stream",
     "text": [
      "Processing batches:  63%|██████▎   | 730/1161 [1:36:57<2:37:39, 21.95s/it]"
     ]
    },
    {
     "name": "stdout",
     "output_type": "stream",
     "text": [
      "Using Chrome with user agent: Mozilla/5.0 (Macintosh; Intel Mac OS X 10_15_7) AppleWebKit/537.36 (KHTML, like Gecko) Chrome/99.0.4844.84 Safari/537.36\n",
      "Error scraping url https://batdongsan.com.vn/cho-thue-can-ho-chung-cu-duong-17-4-phuong-hiep-binh-chanh-prj-4s-riverside-garden-binh-trieu/chuyen-cong-tac-chinh-chu-cho-ch-thu-duc-2pn-dt-78m2-gia-8-5-full-nt-pr27470010: HTTPConnectionPool(host='localhost', port=65120): Read timed out. (read timeout=120)\n"
     ]
    },
    {
     "name": "stderr",
     "output_type": "stream",
     "text": [
      "Processing batches:  63%|██████▎   | 731/1161 [1:37:27<2:55:01, 24.42s/it]"
     ]
    },
    {
     "name": "stdout",
     "output_type": "stream",
     "text": [
      "Error scraping url https://batdongsan.com.vn/cho-thue-can-ho-chung-cu-duong-hong-bang-phuong-12-2-prj-hung-vuong-plaza/chinh-chu-cho-gap-130m2-3pn-gia-18tr-o-lien-dt-ong-pr42703936: HTTPConnectionPool(host='localhost', port=64980): Read timed out. (read timeout=120)\n"
     ]
    },
    {
     "name": "stderr",
     "output_type": "stream",
     "text": [
      "Processing batches:  63%|██████▎   | 732/1161 [1:37:28<2:04:48, 17.46s/it]"
     ]
    },
    {
     "name": "stdout",
     "output_type": "stream",
     "text": [
      "Error scraping url https://batdongsan.com.vn/cho-thue-can-ho-chung-cu-mini-duong-nguyen-thi-dinh-phuong-cat-lai/-full-noi-that-ban-cong-cua-so-tang-mat-ngay-tai-quan-2-pr42732132: 're__icon-clock'\n"
     ]
    },
    {
     "name": "stderr",
     "output_type": "stream",
     "text": [
      "Processing batches:  63%|██████▎   | 733/1161 [1:37:30<1:29:57, 12.61s/it]"
     ]
    },
    {
     "name": "stdout",
     "output_type": "stream",
     "text": [
      "First method failed: Message: Service /Users/macbook/Library/Application Support/undetected_chromedriver/undetected_chromedriver unexpectedly exited. Status code was: -9\n",
      "\n",
      "Using Chrome driver at: /Users/macbook/.wdm/drivers/chromedriver/mac64/135.0.7049.95/chromedriver-mac-arm64/chromedriver\n",
      "Second method failed: you cannot reuse the ChromeOptions object\n",
      "Using Chrome with user agent: Mozilla/5.0 (Windows NT 10.0; Win64; x64) AppleWebKit/537.36 (KHTML, like Gecko) Chrome/99.0.4844.84 Safari/537.36\n",
      "Using Chrome with user agent: Mozilla/5.0 (Macintosh; Intel Mac OS X 10_15_7) AppleWebKit/537.36 (KHTML, like Gecko) Chrome/99.0.4844.84 Safari/537.36\n",
      "Error scraping url https://batdongsan.com.vn/cho-thue-can-ho-chung-cu-mini-duong-nguyen-thi-minh-khai-phuong-da-kao/-1-png-ngu-tach-bep-full-noi-that-doi-dien-thao-cam-vien-sai-gon-pr42732025: 're__icon-clock'\n"
     ]
    },
    {
     "name": "stderr",
     "output_type": "stream",
     "text": [
      "Processing batches:  63%|██████▎   | 734/1161 [1:37:39<1:21:54, 11.51s/it]"
     ]
    },
    {
     "name": "stdout",
     "output_type": "stream",
     "text": [
      "Using Chrome with user agent: Mozilla/5.0 (Macintosh; Intel Mac OS X 10_15_7) AppleWebKit/537.36 (KHTML, like Gecko) Chrome/100.0.4896.127 Safari/537.36\n",
      "Error scraping url https://batdongsan.com.vn/cho-thue-can-ho-chung-cu-duong-mai-chi-tho-phuong-an-phu-prj-the-sun-avenue/cho-cc-tai-14-trieu-vnd-51m2-1pn-1wc-pr42597412: 're__icon-clock'\n"
     ]
    },
    {
     "name": "stderr",
     "output_type": "stream",
     "text": [
      "Processing batches:  63%|██████▎   | 735/1161 [1:37:49<1:18:46, 11.09s/it]"
     ]
    },
    {
     "name": "stdout",
     "output_type": "stream",
     "text": [
      "Using Chrome with user agent: Mozilla/5.0 (Macintosh; Intel Mac OS X 10_15_7) AppleWebKit/537.36 (KHTML, like Gecko) Chrome/99.0.4844.84 Safari/537.36\n"
     ]
    },
    {
     "name": "stderr",
     "output_type": "stream",
     "text": [
      "Processing batches:  63%|██████▎   | 736/1161 [1:37:54<1:06:04,  9.33s/it]"
     ]
    },
    {
     "name": "stdout",
     "output_type": "stream",
     "text": [
      "Error scraping url https://batdongsan.com.vn/cho-thue-can-ho-chung-cu-duong-11-1-phuong-thao-dien-prj-the-nassim-thao-dien/cho-doc-quyen-quan-2-view-song-full-noi-that-3pn-2wc-119m2-pr42637303: Message: no such element: Unable to locate element: {\"method\":\"css selector\",\"selector\":\"h1[class*='re__pr-title pr-title js__pr-title']\"}\n",
      "  (Session info: chrome=135.0.7049.96); For documentation on this error, please visit: https://www.selenium.dev/documentation/webdriver/troubleshooting/errors#no-such-element-exception\n",
      "Stacktrace:\n",
      "0   undetected_chromedriver             0x000000010506c448 undetected_chromedriver + 6149192\n",
      "1   undetected_chromedriver             0x0000000105063b0a undetected_chromedriver + 6114058\n",
      "2   undetected_chromedriver             0x0000000104af4e80 undetected_chromedriver + 417408\n",
      "3   undetected_chromedriver             0x0000000104b46587 undetected_chromedriver + 750983\n",
      "4   undetected_chromedriver             0x0000000104b467a1 undetected_chromedriver + 751521\n",
      "5   undetected_chromedriver             0x0000000104b96784 undetected_chromedriver + 1079172\n",
      "6   undetected_chromedriver             0x0000000104b6c7bd undetected_chromedriver + 907197\n",
      "7   undetected_chromedriver             0x0000000104b93aca undetected_chromedriver + 1067722\n",
      "8   undetected_chromedriver             0x0000000104b6c563 undetected_chromedriver + 906595\n",
      "9   undetected_chromedriver             0x0000000104b38955 undetected_chromedriver + 694613\n",
      "10  undetected_chromedriver             0x0000000104b395b1 undetected_chromedriver + 697777\n",
      "11  undetected_chromedriver             0x0000000105029f00 undetected_chromedriver + 5877504\n",
      "12  undetected_chromedriver             0x000000010502ddf1 undetected_chromedriver + 5893617\n",
      "13  undetected_chromedriver             0x0000000105004344 undetected_chromedriver + 5722948\n",
      "14  undetected_chromedriver             0x000000010502e80b undetected_chromedriver + 5896203\n",
      "15  undetected_chromedriver             0x0000000104ff2ac4 undetected_chromedriver + 5651140\n",
      "16  undetected_chromedriver             0x0000000105051918 undetected_chromedriver + 6039832\n",
      "17  undetected_chromedriver             0x0000000105051ae0 undetected_chromedriver + 6040288\n",
      "18  undetected_chromedriver             0x00000001050636d1 undetected_chromedriver + 6112977\n",
      "19  libsystem_pthread.dylib             0x00007ff8053ac18b _pthread_start + 99\n",
      "20  libsystem_pthread.dylib             0x00007ff8053a7ae3 thread_start + 15\n",
      "\n",
      "Error scraping url https://batdongsan.com.vn/cho-thue-can-ho-chung-cu-duong-thanh-xuan-13-phuong-thanh-xuan-prj-picity-high-park/-c-pi-city-full-bep-rem-nha-moi-tang-cao-mat-me-chi-7-trieu-pr39242935: 're__icon-private-house'\n"
     ]
    },
    {
     "name": "stderr",
     "output_type": "stream",
     "text": [
      "Processing batches:  63%|██████▎   | 737/1161 [1:37:56<50:39,  7.17s/it]  "
     ]
    },
    {
     "name": "stdout",
     "output_type": "stream",
     "text": [
      "Using Chrome with user agent: Mozilla/5.0 (Windows NT 10.0; Win64; x64) AppleWebKit/537.36 (KHTML, like Gecko) Chrome/100.0.4896.127 Safari/537.36\n",
      "Using Chrome with user agent: Mozilla/5.0 (Macintosh; Intel Mac OS X 10_15_7) AppleWebKit/537.36 (KHTML, like Gecko) Chrome/99.0.4844.84 Safari/537.36\n",
      "All Chrome initialization methods failed: Message: Can not connect to the Service /Users/macbook/.wdm/drivers/chromedriver/mac64/135.0.7049.95/chromedriver-mac-arm64/chromedriver\n",
      "\n",
      "Error scraping url https://batdongsan.com.vn/cho-thue-can-ho-chung-cu-mini-duong-pham-van-bach-phuong-15-8/studio-ban-cong-gan-thisomall-phan-huy-ich-full-noi-that-pr42731645: 're__icon-electricity'\n",
      "Error scraping url https://batdongsan.com.vn/cho-thue-can-ho-chung-cu-mini-duong-nguyen-thi-minh-khai-phuong-da-kao/-75m2-1-png-ngu-balcony-lon-oto-vao-tan-nha-friendship-tower-bason-nha-t-duc-ba-pr42361702: 're__icon-clock'\n"
     ]
    },
    {
     "name": "stderr",
     "output_type": "stream",
     "text": [
      "Processing batches:  64%|██████▎   | 739/1161 [1:38:10<45:55,  6.53s/it]  "
     ]
    },
    {
     "name": "stdout",
     "output_type": "stream",
     "text": [
      "Using Chrome with user agent: Mozilla/5.0 (Windows NT 10.0; Win64; x64) AppleWebKit/537.36 (KHTML, like Gecko) Chrome/99.0.4844.84 Safari/537.36\n",
      "Using Chrome with user agent: Mozilla/5.0 (Macintosh; Intel Mac OS X 10_15_7) AppleWebKit/537.36 (KHTML, like Gecko) Chrome/99.0.4844.84 Safari/537.36\n",
      "Error scraping url https://batdongsan.com.vn/cho-thue-can-ho-chung-cu-duong-truong-luu-phuong-long-truong-prj-chung-cu-mt-eastmark-city/c-quan-9-dt-tu-65m2-1-1pn-gia-chi-tu-5tr-thang-pr42731512: 're__icon-front-view'\n"
     ]
    },
    {
     "name": "stderr",
     "output_type": "stream",
     "text": [
      "Processing batches:  64%|██████▎   | 740/1161 [1:38:22<56:07,  8.00s/it]"
     ]
    },
    {
     "name": "stdout",
     "output_type": "stream",
     "text": [
      "Error scraping url https://batdongsan.com.vn/cho-thue-can-ho-chung-cu-pho-nguyen-xi-phuong-26/cho-ch-2pn-1wc-61m2-o-lo-a-9-cc-bac-dinh-bo-linh-6-8-trieu-vnd-gia-sieu-hoi-pr42729897: 're__icon-front-view'\n"
     ]
    },
    {
     "name": "stderr",
     "output_type": "stream",
     "text": [
      "Processing batches:  64%|██████▍   | 741/1161 [1:38:24<44:17,  6.33s/it]"
     ]
    },
    {
     "name": "stdout",
     "output_type": "stream",
     "text": [
      "Using Chrome with user agent: Mozilla/5.0 (Windows NT 10.0; Win64; x64) AppleWebKit/537.36 (KHTML, like Gecko) Chrome/100.0.4896.127 Safari/537.36\n",
      "Using Chrome with user agent: Mozilla/5.0 (Windows NT 10.0; Win64; x64) AppleWebKit/537.36 (KHTML, like Gecko) Chrome/100.0.4896.127 Safari/537.36\n"
     ]
    },
    {
     "name": "stderr",
     "output_type": "stream",
     "text": [
      "Processing batches:  64%|██████▍   | 742/1161 [1:38:29<42:11,  6.04s/it]"
     ]
    },
    {
     "name": "stdout",
     "output_type": "stream",
     "text": [
      "Error scraping url https://batdongsan.com.vn/cho-thue-can-ho-chung-cu-duong-3-2-2-phuong-12-5-prj-hado-centrosa-garden/cho-nhieu-2pn-87m2-107m2-3pn-122m2-138m2-nha-co-ban-trong-san-tu-20tr-thang-tai-ha-do-q10-pr42677519: 're__icon-private-house'\n",
      "Error scraping url https://batdongsan.com.vn/cho-thue-can-ho-chung-cu-mini-pho-le-van-thiem-phuong-tan-phong-9/-full-noi-that-phu-my-hung-q7-ke-ben-rmit-tdtu-bancon-cua-so-may-giat-rieng-uu-dai-lon-500k-pr42621863: 're__icon-clock'\n"
     ]
    },
    {
     "name": "stderr",
     "output_type": "stream",
     "text": [
      "Processing batches:  64%|██████▍   | 743/1161 [1:38:34<38:03,  5.46s/it]"
     ]
    },
    {
     "name": "stdout",
     "output_type": "stream",
     "text": [
      "Using Chrome with user agent: Mozilla/5.0 (Windows NT 10.0; Win64; x64) AppleWebKit/537.36 (KHTML, like Gecko) Chrome/100.0.4896.127 Safari/537.36\n",
      "Using Chrome with user agent: Mozilla/5.0 (Macintosh; Intel Mac OS X 10_15_7) AppleWebKit/537.36 (KHTML, like Gecko) Chrome/99.0.4844.84 Safari/537.36\n",
      "Error scraping url https://batdongsan.com.vn/cho-thue-can-ho-chung-cu-duong-phu-thuan-phuong-tan-phu-19-prj-sunshine-sky-city/c-2pn2wc-full-nt-gia-15tr-lh-pr42362567: 're__icon-clock'\n"
     ]
    },
    {
     "name": "stderr",
     "output_type": "stream",
     "text": [
      "Processing batches:  64%|██████▍   | 744/1161 [1:39:01<1:23:36, 12.03s/it]Service process refused to terminate gracefully with SIGTERM, escalating to SIGKILL.\n",
      "Traceback (most recent call last):\n",
      "  File \"/Users/macbook/Desktop/BecasaNetwork/crawl/scrapepage.py\", line 132, in init_driver\n",
      "    driver = uc.Chrome(version_main=135, options=options)  # Specify a version that works with your Chrome\n",
      "  File \"/Users/macbook/Desktop/BecasaNetwork/crawl/env/lib/python3.13/site-packages/undetected_chromedriver/__init__.py\", line 466, in __init__\n",
      "    super(Chrome, self).__init__(\n",
      "    ~~~~~~~~~~~~~~~~~~~~~~~~~~~~^\n",
      "        service=service,\n",
      "        ^^^^^^^^^^^^^^^^\n",
      "        options=options,\n",
      "        ^^^^^^^^^^^^^^^^\n",
      "        keep_alive=keep_alive,\n",
      "        ^^^^^^^^^^^^^^^^^^^^^^\n",
      "    )\n",
      "    ^\n",
      "  File \"/Users/macbook/Desktop/BecasaNetwork/crawl/env/lib/python3.13/site-packages/selenium/webdriver/chrome/webdriver.py\", line 45, in __init__\n",
      "    super().__init__(\n",
      "    ~~~~~~~~~~~~~~~~^\n",
      "        browser_name=DesiredCapabilities.CHROME[\"browserName\"],\n",
      "        ^^^^^^^^^^^^^^^^^^^^^^^^^^^^^^^^^^^^^^^^^^^^^^^^^^^^^^^\n",
      "    ...<3 lines>...\n",
      "        keep_alive=keep_alive,\n",
      "        ^^^^^^^^^^^^^^^^^^^^^^\n",
      "    )\n",
      "    ^\n",
      "  File \"/Users/macbook/Desktop/BecasaNetwork/crawl/env/lib/python3.13/site-packages/selenium/webdriver/chromium/webdriver.py\", line 55, in __init__\n",
      "    self.service.start()\n",
      "    ~~~~~~~~~~~~~~~~~~^^\n",
      "  File \"/Users/macbook/Desktop/BecasaNetwork/crawl/env/lib/python3.13/site-packages/selenium/webdriver/common/service.py\", line 113, in start\n",
      "    self.assert_process_still_running()\n",
      "    ~~~~~~~~~~~~~~~~~~~~~~~~~~~~~~~~~^^\n",
      "  File \"/Users/macbook/Desktop/BecasaNetwork/crawl/env/lib/python3.13/site-packages/selenium/webdriver/common/service.py\", line 126, in assert_process_still_running\n",
      "    raise WebDriverException(f\"Service {self._path} unexpectedly exited. Status code was: {return_code}\")\n",
      "selenium.common.exceptions.WebDriverException: Message: Service /Users/macbook/Library/Application Support/undetected_chromedriver/undetected_chromedriver unexpectedly exited. Status code was: -9\n",
      "\n",
      "\n",
      "During handling of the above exception, another exception occurred:\n",
      "\n",
      "Traceback (most recent call last):\n",
      "  File \"/Users/macbook/Desktop/BecasaNetwork/crawl/scrapepage.py\", line 139, in init_driver\n",
      "    driver = uc.Chrome(driver_executable_path=driver_path, options=options)\n",
      "  File \"/Users/macbook/Desktop/BecasaNetwork/crawl/env/lib/python3.13/site-packages/undetected_chromedriver/__init__.py\", line 269, in __init__\n",
      "    raise RuntimeError(\"you cannot reuse the ChromeOptions object\")\n",
      "RuntimeError: you cannot reuse the ChromeOptions object\n",
      "\n",
      "During handling of the above exception, another exception occurred:\n",
      "\n",
      "Traceback (most recent call last):\n",
      "  File \"/Users/macbook/Desktop/BecasaNetwork/crawl/scrapepage.py\", line 166, in scrape_page\n",
      "    driver = init_driver()\n",
      "  File \"/Users/macbook/Desktop/BecasaNetwork/crawl/scrapepage.py\", line 147, in init_driver\n",
      "    driver = webdriver.Chrome(service=service, options=options)\n",
      "  File \"/Users/macbook/Desktop/BecasaNetwork/crawl/env/lib/python3.13/site-packages/selenium/webdriver/chrome/webdriver.py\", line 45, in __init__\n",
      "    super().__init__(\n",
      "    ~~~~~~~~~~~~~~~~^\n",
      "        browser_name=DesiredCapabilities.CHROME[\"browserName\"],\n",
      "        ^^^^^^^^^^^^^^^^^^^^^^^^^^^^^^^^^^^^^^^^^^^^^^^^^^^^^^^\n",
      "    ...<3 lines>...\n",
      "        keep_alive=keep_alive,\n",
      "        ^^^^^^^^^^^^^^^^^^^^^^\n",
      "    )\n",
      "    ^\n",
      "  File \"/Users/macbook/Desktop/BecasaNetwork/crawl/env/lib/python3.13/site-packages/selenium/webdriver/chromium/webdriver.py\", line 55, in __init__\n",
      "    self.service.start()\n",
      "    ~~~~~~~~~~~~~~~~~~^^\n",
      "  File \"/Users/macbook/Desktop/BecasaNetwork/crawl/env/lib/python3.13/site-packages/selenium/webdriver/common/service.py\", line 120, in start\n",
      "    raise WebDriverException(f\"Can not connect to the Service {self._path}\")\n",
      "selenium.common.exceptions.WebDriverException: Message: Can not connect to the Service /Users/macbook/.wdm/drivers/chromedriver/mac64/135.0.7049.95/chromedriver-mac-arm64/chromedriver\n",
      "\n",
      "\n",
      "During handling of the above exception, another exception occurred:\n",
      "\n",
      "UnboundLocalError: cannot access local variable 'url' where it is not associated with a value\n",
      "\n",
      "During handling of the above exception, another exception occurred:\n",
      "\n",
      "Traceback (most recent call last):\n",
      "  File \"/Users/macbook/Desktop/BecasaNetwork/crawl/env/lib/python3.13/site-packages/selenium/webdriver/common/service.py\", line 184, in _terminate_process\n",
      "    self.process.wait(60)\n",
      "    ~~~~~~~~~~~~~~~~~^^^^\n",
      "  File \"/opt/homebrew/Cellar/python@3.13/3.13.2/Frameworks/Python.framework/Versions/3.13/lib/python3.13/subprocess.py\", line 1276, in wait\n",
      "    return self._wait(timeout=timeout)\n",
      "           ~~~~~~~~~~^^^^^^^^^^^^^^^^^\n",
      "  File \"/opt/homebrew/Cellar/python@3.13/3.13.2/Frameworks/Python.framework/Versions/3.13/lib/python3.13/subprocess.py\", line 2060, in _wait\n",
      "    raise TimeoutExpired(self.args, timeout)\n",
      "subprocess.TimeoutExpired: Command '['/Users/macbook/.wdm/drivers/chromedriver/mac64/135.0.7049.95/chromedriver-mac-arm64/chromedriver', '--port=53717']' timed out after 60 seconds\n",
      "Processing batches:  64%|██████▍   | 745/1161 [1:39:04<1:04:41,  9.33s/it]"
     ]
    },
    {
     "name": "stdout",
     "output_type": "stream",
     "text": [
      "Error scraping url https://batdongsan.com.vn/cho-thue-can-ho-chung-cu-duong-dao-tri-phuong-phu-thuan-3-prj-q7-saigon-riverside/chinh-chu-cho-ch-2pn-9-5-eu-67m2-tai-hcm-bao-dep-gia-uu-dai-pr42730978: 're__icon-front-view'\n",
      "Using Chrome with user agent: Mozilla/5.0 (Windows NT 10.0; Win64; x64) AppleWebKit/537.36 (KHTML, like Gecko) Chrome/99.0.4844.84 Safari/537.36\n",
      "Error processing batch ['https://batdongsan.com.vn/cho-thue-nha-tro-phong-tro-duong-ba-vi-phuong-4-20/can-ho-duplex-co-gac-thang-may-ngay-cong-vien-hoang-van-thu-khu-san-bay-pr42512177']: cannot access local variable 'url' where it is not associated with a value\n",
      "Using Chrome with user agent: Mozilla/5.0 (Macintosh; Intel Mac OS X 10_15_7) AppleWebKit/537.36 (KHTML, like Gecko) Chrome/100.0.4896.127 Safari/537.36\n",
      "Using Chrome with user agent: Mozilla/5.0 (Macintosh; Intel Mac OS X 10_15_7) AppleWebKit/537.36 (KHTML, like Gecko) Chrome/99.0.4844.84 Safari/537.36\n",
      "Error scraping url https://batdongsan.com.vn/cho-thue-can-ho-chung-cu-duong-xa-lo-ha-noi-phuong-thao-dien-prj-masteri-thao-dien/cho-cc-20-trieu-vnd-68-m2-gia-tot-hot-pr42730783: 're__icon-clock'\n"
     ]
    },
    {
     "name": "stderr",
     "output_type": "stream",
     "text": [
      "Processing batches:  64%|██████▍   | 747/1161 [1:39:17<55:04,  7.98s/it]  "
     ]
    },
    {
     "name": "stdout",
     "output_type": "stream",
     "text": [
      "Error scraping url https://batdongsan.com.vn/cho-thue-nha-tro-phong-tro-duong-nguyen-van-dau-phuong-6-13/cho-hxh-45-p-6-q-binh-thanh-pr42674035: 're__icon-front-view'\n"
     ]
    },
    {
     "name": "stderr",
     "output_type": "stream",
     "text": [
      "Processing batches:  64%|██████▍   | 748/1161 [1:39:18<43:58,  6.39s/it]"
     ]
    },
    {
     "name": "stdout",
     "output_type": "stream",
     "text": [
      "Using Chrome with user agent: Mozilla/5.0 (Macintosh; Intel Mac OS X 10_15_7) AppleWebKit/537.36 (KHTML, like Gecko) Chrome/99.0.4844.84 Safari/537.36\n",
      "Using Chrome with user agent: Mozilla/5.0 (Windows NT 10.0; Win64; x64) AppleWebKit/537.36 (KHTML, like Gecko) Chrome/99.0.4844.84 Safari/537.36\n"
     ]
    },
    {
     "name": "stderr",
     "output_type": "stream",
     "text": [
      "Processing batches:  65%|██████▍   | 749/1161 [1:39:30<52:24,  7.63s/it]"
     ]
    },
    {
     "name": "stdout",
     "output_type": "stream",
     "text": [
      "Error scraping url https://batdongsan.com.vn/cho-thue-nha-tro-phong-tro-duong-nguyen-duy-trinh-phuong-binh-trung-tay/cho-1pn-1wc-tai-q2-hcm-gia-4-2-trieu-pr42730689: 're__icon-clock'\n"
     ]
    },
    {
     "name": "stderr",
     "output_type": "stream",
     "text": [
      "Processing batches:  65%|██████▍   | 750/1161 [1:39:30<39:19,  5.74s/it]"
     ]
    },
    {
     "name": "stdout",
     "output_type": "stream",
     "text": [
      "Error scraping url https://batdongsan.com.vn/cho-thue-can-ho-chung-cu-duong-hoang-quoc-viet-phuong-phu-thuan-3-prj-sky-89/qua-re-cho-89-quan-7-114m2-3pn-2wc-view-song-bao-dep-full-noi-that-cao-cap-o-ngay-pr42686946: 're__icon-front-view'\n",
      "Using Chrome with user agent: Mozilla/5.0 (Windows NT 10.0; Win64; x64) AppleWebKit/537.36 (KHTML, like Gecko) Chrome/100.0.4896.127 Safari/537.36\n",
      "Using Chrome with user agent: Mozilla/5.0 (Macintosh; Intel Mac OS X 10_15_7) AppleWebKit/537.36 (KHTML, like Gecko) Chrome/100.0.4896.127 Safari/537.36\n",
      "Error scraping url https://batdongsan.com.vn/cho-thue-can-ho-chung-cu-duong-nguyen-cuu-phu-phuong-tan-tao-a-prj-tecco-town-binh-tan/cho-71m2-2pn-2wc-6-8tr-thang-o-lien-pr42251123: 're__icon-private-house'\n"
     ]
    },
    {
     "name": "stderr",
     "output_type": "stream",
     "text": [
      "Processing batches:  65%|██████▍   | 751/1161 [1:39:34<35:21,  5.17s/it]"
     ]
    },
    {
     "name": "stdout",
     "output_type": "stream",
     "text": [
      "Error scraping url https://batdongsan.com.vn/cho-thue-can-ho-chung-cu-duong-dao-tri-phuong-phu-thuan-3-prj-q7-saigon-riverside/c-2pn-river-side-67m2-full-nt-gia-11tr-lh-pr41313511: 're__icon-front-view'\n"
     ]
    },
    {
     "name": "stderr",
     "output_type": "stream",
     "text": [
      "Processing batches:  65%|██████▍   | 752/1161 [1:39:38<32:31,  4.77s/it]"
     ]
    },
    {
     "name": "stdout",
     "output_type": "stream",
     "text": [
      "Using Chrome with user agent: Mozilla/5.0 (Macintosh; Intel Mac OS X 10_15_7) AppleWebKit/537.36 (KHTML, like Gecko) Chrome/99.0.4844.84 Safari/537.36\n",
      "Error scraping url https://batdongsan.com.vn/cho-thue-can-ho-chung-cu-duong-hau-giang-phuong-11-3-prj-him-lam-cho-lon/-quan-6-12-trieu-3-pn-2-wc-full-noi-that-pr42623515: 're__icon-document'\n",
      "Using Chrome with user agent: Mozilla/5.0 (Windows NT 10.0; Win64; x64) AppleWebKit/537.36 (KHTML, like Gecko) Chrome/100.0.4896.127 Safari/537.36\n"
     ]
    },
    {
     "name": "stderr",
     "output_type": "stream",
     "text": [
      "Processing batches:  65%|██████▍   | 754/1161 [1:39:47<31:30,  4.64s/it]"
     ]
    },
    {
     "name": "stdout",
     "output_type": "stream",
     "text": [
      "Error scraping url https://batdongsan.com.vn/cho-thue-can-ho-chung-cu-duong-mai-chi-tho-phuong-an-phu-prj-the-sun-avenue/cho-2pn-2wc-full-noi-that-15tr-tai-avenue-pr42728798: 're__icon-document'\n",
      "Using Chrome with user agent: Mozilla/5.0 (Macintosh; Intel Mac OS X 10_15_7) AppleWebKit/537.36 (KHTML, like Gecko) Chrome/100.0.4896.127 Safari/537.36\n",
      "Using Chrome with user agent: Mozilla/5.0 (Macintosh; Intel Mac OS X 10_15_7) AppleWebKit/537.36 (KHTML, like Gecko) Chrome/100.0.4896.127 Safari/537.36\n",
      "Error scraping url https://batdongsan.com.vn/cho-thue-can-ho-chung-cu-pho-luong-dinh-cua-phuong-binh-khanh-prj-paris-hoang-kim/cho-3pn-full-noi-that-gia-chi-17-trieu-lh-xem-nha-pr42730308: 're__icon-clock'\n"
     ]
    },
    {
     "name": "stderr",
     "output_type": "stream",
     "text": [
      "Processing batches:  65%|██████▌   | 755/1161 [1:40:06<1:00:26,  8.93s/it]"
     ]
    },
    {
     "name": "stdout",
     "output_type": "stream",
     "text": [
      "Using Chrome with user agent: Mozilla/5.0 (Windows NT 10.0; Win64; x64) AppleWebKit/537.36 (KHTML, like Gecko) Chrome/99.0.4844.84 Safari/537.36\n",
      "Error scraping url https://batdongsan.com.vn/cho-thue-can-ho-chung-cu-mini-duong-nguyen-van-thuong-phuong-25/cho-cc-full-nt-dang-studio-bancol-nha-thang-may-tan-phong-gan-pearl-plaza-pr42730035: 're__icon-clock'\n"
     ]
    },
    {
     "name": "stderr",
     "output_type": "stream",
     "text": [
      "Processing batches:  65%|██████▌   | 756/1161 [1:40:16<1:01:26,  9.10s/it]"
     ]
    },
    {
     "name": "stdout",
     "output_type": "stream",
     "text": [
      "Using Chrome with user agent: Mozilla/5.0 (Windows NT 10.0; Win64; x64) AppleWebKit/537.36 (KHTML, like Gecko) Chrome/100.0.4896.127 Safari/537.36\n",
      "Error scraping url https://batdongsan.com.vn/cho-thue-can-ho-chung-cu-duong-quoc-huong-phuong-thao-dien-prj-thao-dien-pearl/doc-quyen-cho-3pn-full-nt-moi-dong-cuc-mat-me-hotline-pkd-pr42728822: 're__icon-front-view'\n"
     ]
    },
    {
     "name": "stderr",
     "output_type": "stream",
     "text": [
      "Processing batches:  65%|██████▌   | 757/1161 [1:40:20<51:03,  7.58s/it]  "
     ]
    },
    {
     "name": "stdout",
     "output_type": "stream",
     "text": [
      "Using Chrome with user agent: Mozilla/5.0 (Windows NT 10.0; Win64; x64) AppleWebKit/537.36 (KHTML, like Gecko) Chrome/100.0.4896.127 Safari/537.36\n",
      "Error scraping url https://batdongsan.com.vn/cho-thue-can-ho-chung-cu-duong-nguyen-duy-trinh-phuong-binh-trung-dong-prj-the-krista/c-gap-2pn-full-noi-that-12tr-thang-lh-0902-306-407-pr35721334: 're__icon-private-house'\n"
     ]
    },
    {
     "name": "stderr",
     "output_type": "stream",
     "text": [
      "Processing batches:  65%|██████▌   | 758/1161 [1:40:40<1:15:27, 11.23s/it]"
     ]
    },
    {
     "name": "stdout",
     "output_type": "stream",
     "text": [
      "Using Chrome with user agent: Mozilla/5.0 (Macintosh; Intel Mac OS X 10_15_7) AppleWebKit/537.36 (KHTML, like Gecko) Chrome/100.0.4896.127 Safari/537.36\n"
     ]
    },
    {
     "name": "stderr",
     "output_type": "stream",
     "text": [
      "Processing batches:  65%|██████▌   | 759/1161 [1:40:46<1:06:11,  9.88s/it]"
     ]
    },
    {
     "name": "stdout",
     "output_type": "stream",
     "text": [
      "Error scraping url https://batdongsan.com.vn/cho-thue-can-ho-chung-cu-duong-mai-chi-tho-phuong-an-phu-prj-lexington-residence/cho-chcc-q2-dt-73m-2pn-gia-13tr-thang-nha-dep-phi-thap-nhieu-tien-ich-pr42728866: 're__icon-front-view'\n",
      "Using Chrome with user agent: Mozilla/5.0 (Macintosh; Intel Mac OS X 10_15_7) AppleWebKit/537.36 (KHTML, like Gecko) Chrome/99.0.4844.84 Safari/537.36\n",
      "Error scraping url https://batdongsan.com.vn/cho-thue-nha-tro-phong-tro-duong-lam-van-ben-phuong-tan-kieng/cho-hem-xe-hoi-60-rong-gac-cao-dung-duoc-3-cua-so-thoang-pr42103956: 're__icon-front-view'\n"
     ]
    },
    {
     "name": "stderr",
     "output_type": "stream",
     "text": [
      "Processing batches:  65%|██████▌   | 760/1161 [1:40:56<1:05:36,  9.82s/it]"
     ]
    },
    {
     "name": "stdout",
     "output_type": "stream",
     "text": [
      "Using Chrome with user agent: Mozilla/5.0 (Windows NT 10.0; Win64; x64) AppleWebKit/537.36 (KHTML, like Gecko) Chrome/99.0.4844.84 Safari/537.36\n",
      "Error scraping url https://batdongsan.com.vn/cho-thue-can-ho-chung-cu-phuong-tan-phu-19-prj-star-hill/chuyen-cho-1-2-3pn-office-ngan-han-dai-han-full-noi-that-bao-gia-tot-pr39382859: 're__icon-document'\n"
     ]
    },
    {
     "name": "stderr",
     "output_type": "stream",
     "text": [
      "Processing batches:  66%|██████▌   | 761/1161 [1:41:10<1:14:07, 11.12s/it]"
     ]
    },
    {
     "name": "stdout",
     "output_type": "stream",
     "text": [
      "Using Chrome with user agent: Mozilla/5.0 (Macintosh; Intel Mac OS X 10_15_7) AppleWebKit/537.36 (KHTML, like Gecko) Chrome/99.0.4844.84 Safari/537.36\n",
      "Error scraping url https://batdongsan.com.vn/cho-thue-nha-tro-phong-tro-duong-cach-mang-thang-tam-phuong-15-3/-tach-bep-sinh-vien-23m2-moi-100-full-tien-nghi-gan-ngay-cong-vien-le-thi-rieng-q10-pr42729225: 're__icon-front-view'\n"
     ]
    },
    {
     "name": "stderr",
     "output_type": "stream",
     "text": [
      "Processing batches:  66%|██████▌   | 762/1161 [1:41:35<1:40:42, 15.14s/it]"
     ]
    },
    {
     "name": "stdout",
     "output_type": "stream",
     "text": [
      "Using Chrome with user agent: Mozilla/5.0 (Windows NT 10.0; Win64; x64) AppleWebKit/537.36 (KHTML, like Gecko) Chrome/100.0.4896.127 Safari/537.36\n",
      "Error scraping url https://batdongsan.com.vn/cho-thue-can-ho-chung-cu-duong-ben-van-don-phuong-12-prj-the-tresor/c-ot-11-5tr-2pn-18tr-3pn-24tr-full-noi-that-or-nha-trong-lh-pr42326994: HTTPConnectionPool(host='localhost', port=52532): Read timed out. (read timeout=120)\n"
     ]
    },
    {
     "name": "stderr",
     "output_type": "stream",
     "text": [
      "Processing batches:  66%|██████▌   | 763/1161 [1:41:43<1:27:54, 13.25s/it]"
     ]
    },
    {
     "name": "stdout",
     "output_type": "stream",
     "text": [
      "Error scraping url https://batdongsan.com.vn/cho-thue-nha-tro-phong-tro-duong-pham-huu-lau-phuong-phu-my-9-prj-belleza-apartment/cho-can-ho-mini-quan-7-pr38542529: 're__icon-private-house'\n",
      "Using Chrome with user agent: Mozilla/5.0 (Macintosh; Intel Mac OS X 10_15_7) AppleWebKit/537.36 (KHTML, like Gecko) Chrome/99.0.4844.84 Safari/537.36\n",
      "Error scraping url https://batdongsan.com.vn/cho-thue-can-ho-chung-cu-duong-nguyen-thi-dinh-phuong-an-phu-prj-can-ho-precia-quan-2/cho-ch-gia-chan-thanh-2pn-chi-10tr-lh-0968364060-pr33395213: 're__icon-document'\n",
      "Using Chrome with user agent: Mozilla/5.0 (Macintosh; Intel Mac OS X 10_15_7) AppleWebKit/537.36 (KHTML, like Gecko) Chrome/99.0.4844.84 Safari/537.36\n"
     ]
    },
    {
     "name": "stderr",
     "output_type": "stream",
     "text": [
      "Processing batches:  66%|██████▌   | 765/1161 [1:41:53<1:01:15,  9.28s/it]"
     ]
    },
    {
     "name": "stdout",
     "output_type": "stream",
     "text": [
      "Error scraping url https://batdongsan.com.vn/cho-thue-can-ho-chung-cu-duong-ben-van-don-phuong-1-prj-the-gold-view/chuyen-cho-du-an-c-c-quan-4-noi-that-dep-gia-re-pr39126715: 're__icon-private-house'\n"
     ]
    },
    {
     "name": "stderr",
     "output_type": "stream",
     "text": [
      "Processing batches:  66%|██████▌   | 766/1161 [1:41:55<48:52,  7.42s/it]  "
     ]
    },
    {
     "name": "stdout",
     "output_type": "stream",
     "text": [
      "First method failed: Message: Service /Users/macbook/Library/Application Support/undetected_chromedriver/undetected_chromedriver unexpectedly exited. Status code was: -9\n",
      "\n",
      "Using Chrome driver at: /Users/macbook/.wdm/drivers/chromedriver/mac64/135.0.7049.95/chromedriver-mac-arm64/chromedriver\n",
      "Second method failed: you cannot reuse the ChromeOptions object\n",
      "Using Chrome with user agent: Mozilla/5.0 (Windows NT 10.0; Win64; x64) AppleWebKit/537.36 (KHTML, like Gecko) Chrome/99.0.4844.84 Safari/537.36\n",
      "Error scraping url https://batdongsan.com.vn/cho-thue-can-ho-chung-cu-duong-3-2-2-phuong-12-5-prj-hado-centrosa-garden/cho-chcc-ha-do-quan-10-dt-130m2-3pn-gia-tot-24-trieu-lh-pr38257316: 're__icon-front-view'\n"
     ]
    },
    {
     "name": "stderr",
     "output_type": "stream",
     "text": [
      "Processing batches:  66%|██████▌   | 767/1161 [1:42:17<1:15:21, 11.48s/it]"
     ]
    },
    {
     "name": "stdout",
     "output_type": "stream",
     "text": [
      "Error scraping url https://batdongsan.com.vn/cho-thue-can-ho-chung-cu-duong-nguyen-huu-tho-xa-phuoc-kieng-prj-dragon-hill-residence-and-suites-2/c-2pn-2wc-tai-12-trieu-71m2-pr42728658: 're__icon-private-house'\n",
      "Using Chrome with user agent: Mozilla/5.0 (Windows NT 10.0; Win64; x64) AppleWebKit/537.36 (KHTML, like Gecko) Chrome/100.0.4896.127 Safari/537.36\n"
     ]
    },
    {
     "name": "stderr",
     "output_type": "stream",
     "text": [
      "Processing batches:  66%|██████▌   | 768/1161 [1:42:21<1:01:11,  9.34s/it]"
     ]
    },
    {
     "name": "stdout",
     "output_type": "stream",
     "text": [
      "Using Chrome with user agent: Mozilla/5.0 (Windows NT 10.0; Win64; x64) AppleWebKit/537.36 (KHTML, like Gecko) Chrome/99.0.4844.84 Safari/537.36\n",
      "Error scraping url https://batdongsan.com.vn/cho-thue-can-ho-chung-cu-duong-nguyen-huu-tho-xa-phuoc-kieng-prj-celesta-rise/c-3pn-2wc-nha-moi-100-noi-that-co-ban-keppel-land-t-pr42683250: 're__icon-front-view'\n"
     ]
    },
    {
     "name": "stderr",
     "output_type": "stream",
     "text": [
      "Processing batches:  66%|██████▌   | 769/1161 [1:42:28<56:36,  8.66s/it]  "
     ]
    },
    {
     "name": "stdout",
     "output_type": "stream",
     "text": [
      "All Chrome initialization methods failed: Message: Can not connect to the Service /Users/macbook/.wdm/drivers/chromedriver/mac64/135.0.7049.95/chromedriver-mac-arm64/chromedriver\n",
      "\n",
      "Using Chrome with user agent: Mozilla/5.0 (Windows NT 10.0; Win64; x64) AppleWebKit/537.36 (KHTML, like Gecko) Chrome/100.0.4896.127 Safari/537.36\n",
      "Error scraping url https://batdongsan.com.vn/cho-thue-can-ho-chung-cu-duong-trinh-quang-nghi-phuong-7-6-prj-dream-home-palace/cho-quan-8-2-phong-ngu-2wc-gia-8-trieu-day-du-noi-that-nha-trong-gia-6-5tr-pr42679360: 're__icon-clock'\n"
     ]
    },
    {
     "name": "stderr",
     "output_type": "stream",
     "text": [
      "Processing batches:  66%|██████▋   | 771/1161 [1:42:37<41:50,  6.44s/it]"
     ]
    },
    {
     "name": "stdout",
     "output_type": "stream",
     "text": [
      "Error scraping url https://batdongsan.com.vn/cho-thue-nha-tro-phong-tro-duong-dien-bien-phu-phuong-15-5/cho-57-6-26-5-6-trieu-binh-thanh-hcm-pr42728639?c=d1: 're__icon-clock'\n",
      "Using Chrome with user agent: Mozilla/5.0 (Windows NT 10.0; Win64; x64) AppleWebKit/537.36 (KHTML, like Gecko) Chrome/99.0.4844.84 Safari/537.36\n",
      "Using Chrome with user agent: Mozilla/5.0 (Macintosh; Intel Mac OS X 10_15_7) AppleWebKit/537.36 (KHTML, like Gecko) Chrome/100.0.4896.127 Safari/537.36\n",
      "Error scraping url https://batdongsan.com.vn/cho-thue-nha-tro-phong-tro-duong-ha-ba-tuong-phuong-12-10/-gan-nga-tu-7-hien-dh-van-hien-dhbk-s-bay-gia-2-8-3tr-m-lanh-gac-bep-wc-rieng-phong-pr38126574: 're__icon-front-view'\n"
     ]
    },
    {
     "name": "stderr",
     "output_type": "stream",
     "text": [
      "Processing batches:  66%|██████▋   | 772/1161 [1:42:49<52:50,  8.15s/it]"
     ]
    },
    {
     "name": "stdout",
     "output_type": "stream",
     "text": [
      "Error scraping url https://batdongsan.com.vn/cho-thue-nha-tro-phong-tro-duong-phan-van-tri-phuong-10-8-prj-cityland-park-hills/cho-can-1pn-full-noi-that-khu-p10-go-vap-pr42561004: 're__icon-home'\n"
     ]
    },
    {
     "name": "stderr",
     "output_type": "stream",
     "text": [
      "Processing batches:  67%|██████▋   | 773/1161 [1:42:49<37:38,  5.82s/it]"
     ]
    },
    {
     "name": "stdout",
     "output_type": "stream",
     "text": [
      "Using Chrome with user agent: Mozilla/5.0 (Macintosh; Intel Mac OS X 10_15_7) AppleWebKit/537.36 (KHTML, like Gecko) Chrome/99.0.4844.84 Safari/537.36\n",
      "Error scraping url https://batdongsan.com.vn/cho-thue-can-ho-chung-cu-duong-go-dua-phuong-hiep-binh-phuoc-prj-sunview-town/c-gap-gia-re-tai-thu-duc-gia-6tr-co-noi-that-pr36189994: 're__icon-front-view'\n",
      "Using Chrome with user agent: Mozilla/5.0 (Windows NT 10.0; Win64; x64) AppleWebKit/537.36 (KHTML, like Gecko) Chrome/100.0.4896.127 Safari/537.36\n"
     ]
    },
    {
     "name": "stderr",
     "output_type": "stream",
     "text": [
      "Processing batches:  67%|██████▋   | 774/1161 [1:42:54<34:27,  5.34s/it]"
     ]
    },
    {
     "name": "stdout",
     "output_type": "stream",
     "text": [
      "Error scraping url https://batdongsan.com.vn/cho-thue-can-ho-chung-cu-duong-mai-chi-tho-phuong-an-phu-prj-centana-thu-thiem/c-2pn-2wc-ntcb-full-may-lanh-va-rem-gia-12tr-thang-pr42177767: 're__icon-front-view'\n"
     ]
    },
    {
     "name": "stderr",
     "output_type": "stream",
     "text": [
      "Processing batches:  67%|██████▋   | 775/1161 [1:42:58<33:09,  5.15s/it]"
     ]
    },
    {
     "name": "stdout",
     "output_type": "stream",
     "text": [
      "Error scraping url https://batdongsan.com.vn/cho-thue-can-ho-chung-cu-phuong-long-binh-3-prj-masteri-centre-point/-ngay-2pn-tien-ich-5-sao-gia-chi-9-trieu-lien-ke-vincom-mega-mall-pr42527432: 're__icon-front-view'\n",
      "Using Chrome with user agent: Mozilla/5.0 (Windows NT 10.0; Win64; x64) AppleWebKit/537.36 (KHTML, like Gecko) Chrome/100.0.4896.127 Safari/537.36\n"
     ]
    },
    {
     "name": "stderr",
     "output_type": "stream",
     "text": [
      "Processing batches:  67%|██████▋   | 776/1161 [1:42:59<24:40,  3.84s/it]"
     ]
    },
    {
     "name": "stdout",
     "output_type": "stream",
     "text": [
      "Using Chrome with user agent: Mozilla/5.0 (Windows NT 10.0; Win64; x64) AppleWebKit/537.36 (KHTML, like Gecko) Chrome/100.0.4896.127 Safari/537.36\n",
      "Using Chrome with user agent: Mozilla/5.0 (Macintosh; Intel Mac OS X 10_15_7) AppleWebKit/537.36 (KHTML, like Gecko) Chrome/100.0.4896.127 Safari/537.36\n",
      "Error scraping url https://batdongsan.com.vn/cho-thue-can-ho-chung-cu-duong-an-duong-vuong-phuong-an-lac-6-prj-the-privia/gio-hang-c-moi-100-321-kinh-ngay-quan-6-mien-phi-quan-ly-2n-pr41734188: 're__icon-document'\n"
     ]
    },
    {
     "name": "stderr",
     "output_type": "stream",
     "text": [
      "Processing batches:  67%|██████▋   | 777/1161 [1:43:08<34:09,  5.34s/it]"
     ]
    },
    {
     "name": "stdout",
     "output_type": "stream",
     "text": [
      "Using Chrome with user agent: Mozilla/5.0 (Macintosh; Intel Mac OS X 10_15_7) AppleWebKit/537.36 (KHTML, like Gecko) Chrome/99.0.4844.84 Safari/537.36\n",
      "Error scraping url https://batdongsan.com.vn/cho-thue-can-ho-chung-cu-duong-so-4-cu-xa-do-thanh-phuong-4-12/c-1pn-1wc-45m2-12-5-trieu-tai-4-quan-3-tp-hcm-pr42726293: 're__icon-electricity'\n"
     ]
    },
    {
     "name": "stderr",
     "output_type": "stream",
     "text": [
      "Processing batches:  67%|██████▋   | 778/1161 [1:43:18<43:32,  6.82s/it]"
     ]
    },
    {
     "name": "stdout",
     "output_type": "stream",
     "text": [
      "Using Chrome with user agent: Mozilla/5.0 (Macintosh; Intel Mac OS X 10_15_7) AppleWebKit/537.36 (KHTML, like Gecko) Chrome/99.0.4844.84 Safari/537.36\n",
      "Error scraping url https://batdongsan.com.vn/cho-thue-nha-tro-phong-tro-duong-duong-ba-trac-phuong-2-17/cho-nho-18m2-gia-2-5-trieu-trac-pr42726225: 're__icon-home'\n"
     ]
    },
    {
     "name": "stderr",
     "output_type": "stream",
     "text": [
      "Processing batches:  67%|██████▋   | 779/1161 [1:43:22<36:38,  5.76s/it]"
     ]
    },
    {
     "name": "stdout",
     "output_type": "stream",
     "text": [
      "Using Chrome with user agent: Mozilla/5.0 (Macintosh; Intel Mac OS X 10_15_7) AppleWebKit/537.36 (KHTML, like Gecko) Chrome/100.0.4896.127 Safari/537.36\n"
     ]
    },
    {
     "name": "stderr",
     "output_type": "stream",
     "text": [
      "Service process refused to terminate gracefully with SIGTERM, escalating to SIGKILL.\n",
      "Traceback (most recent call last):\n",
      "  File \"/Users/macbook/Desktop/BecasaNetwork/crawl/scrapepage.py\", line 132, in init_driver\n",
      "    driver = uc.Chrome(version_main=135, options=options)  # Specify a version that works with your Chrome\n",
      "  File \"/Users/macbook/Desktop/BecasaNetwork/crawl/env/lib/python3.13/site-packages/undetected_chromedriver/__init__.py\", line 466, in __init__\n",
      "    super(Chrome, self).__init__(\n",
      "    ~~~~~~~~~~~~~~~~~~~~~~~~~~~~^\n",
      "        service=service,\n",
      "        ^^^^^^^^^^^^^^^^\n",
      "        options=options,\n",
      "        ^^^^^^^^^^^^^^^^\n",
      "        keep_alive=keep_alive,\n",
      "        ^^^^^^^^^^^^^^^^^^^^^^\n",
      "    )\n",
      "    ^\n",
      "  File \"/Users/macbook/Desktop/BecasaNetwork/crawl/env/lib/python3.13/site-packages/selenium/webdriver/chrome/webdriver.py\", line 45, in __init__\n",
      "    super().__init__(\n",
      "    ~~~~~~~~~~~~~~~~^\n",
      "        browser_name=DesiredCapabilities.CHROME[\"browserName\"],\n",
      "Processing batches:  67%|██████▋   | 780/1161 [1:43:29<39:59,  6.30s/it]^^^^^^^^^^^^^^^^^^^^^^\n",
      "    ...<3 lines>...\n",
      "        keep_alive=keep_alive,\n",
      "        ^^^^^^^^^^^^^^^^^^^^^^\n",
      "    )\n",
      "    ^\n",
      "  File \"/Users/macbook/Desktop/BecasaNetwork/crawl/env/lib/python3.13/site-packages/selenium/webdriver/chromium/webdriver.py\", line 55, in __init__\n",
      "    self.service.start()\n",
      "    ~~~~~~~~~~~~~~~~~~^^\n",
      "  File \"/Users/macbook/Desktop/BecasaNetwork/crawl/env/lib/python3.13/site-packages/selenium/webdriver/common/service.py\", line 113, in start\n",
      "    self.assert_process_still_running()\n",
      "    ~~~~~~~~~~~~~~~~~~~~~~~~~~~~~~~~~^^\n",
      "  File \"/Users/macbook/Desktop/BecasaNetwork/crawl/env/lib/python3.13/site-packages/selenium/webdriver/common/service.py\", line 126, in assert_process_still_running\n",
      "    raise WebDriverException(f\"Service {self._path} unexpectedly exited. Status code was: {return_code}\")\n",
      "selenium.common.exceptions.WebDriverException: Message: Service /Users/macbook/Library/Application Support/undetected_chromedriver/undetected_chromedriver unexpectedly exited. Status code was: -9\n",
      "\n",
      "\n",
      "During handling of the above exception, another exception occurred:\n",
      "\n",
      "Traceback (most recent call last):\n",
      "  File \"/Users/macbook/Desktop/BecasaNetwork/crawl/scrapepage.py\", line 139, in init_driver\n",
      "    driver = uc.Chrome(driver_executable_path=driver_path, options=options)\n",
      "  File \"/Users/macbook/Desktop/BecasaNetwork/crawl/env/lib/python3.13/site-packages/undetected_chromedriver/__init__.py\", line 269, in __init__\n",
      "    raise RuntimeError(\"you cannot reuse the ChromeOptions object\")\n",
      "RuntimeError: you cannot reuse the ChromeOptions object\n",
      "\n",
      "During handling of the above exception, another exception occurred:\n",
      "\n",
      "Traceback (most recent call last):\n",
      "  File \"/Users/macbook/Desktop/BecasaNetwork/crawl/scrapepage.py\", line 166, in scrape_page\n",
      "    driver = init_driver()\n",
      "  File \"/Users/macbook/Desktop/BecasaNetwork/crawl/scrapepage.py\", line 147, in init_driver\n",
      "    driver = webdriver.Chrome(service=service, options=options)\n",
      "  File \"/Users/macbook/Desktop/BecasaNetwork/crawl/env/lib/python3.13/site-packages/selenium/webdriver/chrome/webdriver.py\", line 45, in __init__\n",
      "    super().__init__(\n",
      "    ~~~~~~~~~~~~~~~~^\n",
      "        browser_name=DesiredCapabilities.CHROME[\"browserName\"],\n",
      "        ^^^^^^^^^^^^^^^^^^^^^^^^^^^^^^^^^^^^^^^^^^^^^^^^^^^^^^^\n",
      "    ...<3 lines>...\n",
      "        keep_alive=keep_alive,\n",
      "        ^^^^^^^^^^^^^^^^^^^^^^\n",
      "    )\n",
      "    ^\n",
      "  File \"/Users/macbook/Desktop/BecasaNetwork/crawl/env/lib/python3.13/site-packages/selenium/webdriver/chromium/webdriver.py\", line 55, in __init__\n",
      "    self.service.start()\n",
      "    ~~~~~~~~~~~~~~~~~~^^\n",
      "  File \"/Users/macbook/Desktop/BecasaNetwork/crawl/env/lib/python3.13/site-packages/selenium/webdriver/common/service.py\", line 120, in start\n",
      "    raise WebDriverException(f\"Can not connect to the Service {self._path}\")\n",
      "selenium.common.exceptions.WebDriverException: Message: Can not connect to the Service /Users/macbook/.wdm/drivers/chromedriver/mac64/135.0.7049.95/chromedriver-mac-arm64/chromedriver\n",
      "\n",
      "\n",
      "During handling of the above exception, another exception occurred:\n",
      "\n",
      "UnboundLocalError: cannot access local variable 'url' where it is not associated with a value\n",
      "\n",
      "During handling of the above exception, another exception occurred:\n",
      "\n",
      "Traceback (most recent call last):\n",
      "  File \"/Users/macbook/Desktop/BecasaNetwork/crawl/env/lib/python3.13/site-packages/selenium/webdriver/common/service.py\", line 184, in _terminate_process\n",
      "    self.process.wait(60)\n",
      "    ~~~~~~~~~~~~~~~~~^^^^\n",
      "  File \"/opt/homebrew/Cellar/python@3.13/3.13.2/Frameworks/Python.framework/Versions/3.13/lib/python3.13/subprocess.py\", line 1276, in wait\n",
      "    return self._wait(timeout=timeout)\n",
      "           ~~~~~~~~~~^^^^^^^^^^^^^^^^^\n",
      "  File \"/opt/homebrew/Cellar/python@3.13/3.13.2/Frameworks/Python.framework/Versions/3.13/lib/python3.13/subprocess.py\", line 2060, in _wait\n",
      "    raise TimeoutExpired(self.args, timeout)\n",
      "subprocess.TimeoutExpired: Command '['/Users/macbook/.wdm/drivers/chromedriver/mac64/135.0.7049.95/chromedriver-mac-arm64/chromedriver', '--port=61494']' timed out after 60 seconds\n"
     ]
    },
    {
     "name": "stdout",
     "output_type": "stream",
     "text": [
      "Error processing batch ['https://batdongsan.com.vn/cho-thue-can-ho-chung-cu-duong-nguyen-khoai-phuong-2-prj-galaxy-9/-c-gap-9-1pn-du-noi-that-10-tr-thang-lh-0909-943-694-pr28708928']: cannot access local variable 'url' where it is not associated with a value\n"
     ]
    },
    {
     "name": "stderr",
     "output_type": "stream",
     "text": [
      "Processing batches:  67%|██████▋   | 781/1161 [1:43:33<34:40,  5.47s/it]"
     ]
    },
    {
     "name": "stdout",
     "output_type": "stream",
     "text": [
      "Error scraping url https://batdongsan.com.vn/cho-thue-can-ho-chung-cu-duong-phan-van-tri-phuong-10-8-prj-cityland-park-hills/cho-ch-parkhills-18-go-vap-2pn-3pn-11tr-lh-kha-vy-pr38430147: 're__icon-front-view'\n",
      "Using Chrome with user agent: Mozilla/5.0 (Windows NT 10.0; Win64; x64) AppleWebKit/537.36 (KHTML, like Gecko) Chrome/100.0.4896.127 Safari/537.36\n",
      "Using Chrome with user agent: Mozilla/5.0 (Macintosh; Intel Mac OS X 10_15_7) AppleWebKit/537.36 (KHTML, like Gecko) Chrome/100.0.4896.127 Safari/537.36\n",
      "Error scraping url https://batdongsan.com.vn/cho-thue-can-ho-chung-cu-duong-so-19-xa-phong-phu-4-prj-lovera-vista/-3pn-nhan-nha-o-ngay-xem-nha-24-7-view-xin-so-pr38831392: 're__icon-front-view'\n"
     ]
    },
    {
     "name": "stderr",
     "output_type": "stream",
     "text": [
      "Processing batches:  67%|██████▋   | 782/1161 [1:43:37<32:41,  5.18s/it]"
     ]
    },
    {
     "name": "stdout",
     "output_type": "stream",
     "text": [
      "Using Chrome with user agent: Mozilla/5.0 (Macintosh; Intel Mac OS X 10_15_7) AppleWebKit/537.36 (KHTML, like Gecko) Chrome/100.0.4896.127 Safari/537.36\n",
      "Error scraping url https://batdongsan.com.vn/cho-thue-can-ho-chung-cu-duong-truong-luu-phuong-long-truong-prj-chung-cu-mt-eastmark-city/-c-3pn-east-mark-full-noi-that-13-tr-thang-pr42723486: 're__icon-clock'\n"
     ]
    },
    {
     "name": "stderr",
     "output_type": "stream",
     "text": [
      "Processing batches:  67%|██████▋   | 783/1161 [1:43:54<55:07,  8.75s/it]"
     ]
    },
    {
     "name": "stdout",
     "output_type": "stream",
     "text": [
      "Using Chrome with user agent: Mozilla/5.0 (Windows NT 10.0; Win64; x64) AppleWebKit/537.36 (KHTML, like Gecko) Chrome/99.0.4844.84 Safari/537.36\n"
     ]
    },
    {
     "name": "stderr",
     "output_type": "stream",
     "text": [
      "Processing batches:  68%|██████▊   | 784/1161 [1:44:01<50:57,  8.11s/it]"
     ]
    },
    {
     "name": "stdout",
     "output_type": "stream",
     "text": [
      "Error scraping url https://batdongsan.com.vn/cho-thue-can-ho-chung-cu-phuong-long-binh-3-prj-the-beverly-solari-vinhomes-grand-park/-1pn-khu-tropical-gan-vincomes-quan-9-gio-hang-doc-quyen-hon-100-can-pr42706685: 're__icon-clock'\n",
      "Using Chrome with user agent: Mozilla/5.0 (Macintosh; Intel Mac OS X 10_15_7) AppleWebKit/537.36 (KHTML, like Gecko) Chrome/99.0.4844.84 Safari/537.36\n",
      "Error scraping url https://batdongsan.com.vn/cho-thue-can-ho-chung-cu-duong-so-6-phuong-hiep-binh-phuoc-prj-urban-green/chu-cho-2pn-2wc-66m2-full-ntcb-alo-em-nham-xem-nha-ngay-nhan-ngay-nha-thang-12-pr41729735: 're__icon-front-view'\n"
     ]
    },
    {
     "name": "stderr",
     "output_type": "stream",
     "text": [
      "Processing batches:  68%|██████▊   | 785/1161 [1:44:11<54:13,  8.65s/it]"
     ]
    },
    {
     "name": "stdout",
     "output_type": "stream",
     "text": [
      "Using Chrome with user agent: Mozilla/5.0 (Macintosh; Intel Mac OS X 10_15_7) AppleWebKit/537.36 (KHTML, like Gecko) Chrome/100.0.4896.127 Safari/537.36\n",
      "Error scraping url https://batdongsan.com.vn/cho-thue-can-ho-chung-cu-duong-vo-van-kiet-phuong-an-lac-6-prj-akari-city-nam-long/cho-61m-tai-binh-tan-pr42433577: 're__icon-front-view'\n"
     ]
    },
    {
     "name": "stderr",
     "output_type": "stream",
     "text": [
      "Processing batches:  68%|██████▊   | 786/1161 [1:44:23<1:00:49,  9.73s/it]"
     ]
    },
    {
     "name": "stdout",
     "output_type": "stream",
     "text": [
      "Using Chrome with user agent: Mozilla/5.0 (Windows NT 10.0; Win64; x64) AppleWebKit/537.36 (KHTML, like Gecko) Chrome/100.0.4896.127 Safari/537.36\n"
     ]
    },
    {
     "name": "stderr",
     "output_type": "stream",
     "text": [
      "Processing batches:  68%|██████▊   | 787/1161 [1:44:30<55:42,  8.94s/it]  "
     ]
    },
    {
     "name": "stdout",
     "output_type": "stream",
     "text": [
      "Error scraping url https://batdongsan.com.vn/cho-thue-can-ho-chung-cu-mini-duong-dien-bien-phu-phuong-10-6/duplex-bancol-noi-that-co-them-bep-va-lo-vi-song-ngay-nga-bay-ly-thai-to-pr42035520: 're__icon-wifi'\n",
      "Using Chrome with user agent: Mozilla/5.0 (Macintosh; Intel Mac OS X 10_15_7) AppleWebKit/537.36 (KHTML, like Gecko) Chrome/100.0.4896.127 Safari/537.36\n"
     ]
    },
    {
     "name": "stderr",
     "output_type": "stream",
     "text": [
      "Processing batches:  68%|██████▊   | 788/1161 [1:44:37<52:17,  8.41s/it]"
     ]
    },
    {
     "name": "stdout",
     "output_type": "stream",
     "text": [
      "Error scraping url https://batdongsan.com.vn/cho-thue-can-ho-chung-cu-pho-ta-quang-buu-phuong-6-10-prj-the-pegasuite/c-cao-cap-quan-8-2pn-2wc-day-du-noi-that-don-vao-o-lien-duoc-a-pr35989963: 're__icon-document'\n",
      "Using Chrome with user agent: Mozilla/5.0 (Macintosh; Intel Mac OS X 10_15_7) AppleWebKit/537.36 (KHTML, like Gecko) Chrome/99.0.4844.84 Safari/537.36\n",
      "Error scraping url https://batdongsan.com.vn/cho-thue-can-ho-chung-cu-duong-vo-chi-cong-phuong-phu-huu-2-prj-safira-khang-dien/c-tu-10-trieu-thang-full-noi-that-vi-tri-dep-tien-ich-5-sao-pr42650920: 're__icon-front-view'\n"
     ]
    },
    {
     "name": "stderr",
     "output_type": "stream",
     "text": [
      "Processing batches:  68%|██████▊   | 789/1161 [1:45:03<1:24:13, 13.58s/it]"
     ]
    },
    {
     "name": "stdout",
     "output_type": "stream",
     "text": [
      "Using Chrome with user agent: Mozilla/5.0 (Macintosh; Intel Mac OS X 10_15_7) AppleWebKit/537.36 (KHTML, like Gecko) Chrome/100.0.4896.127 Safari/537.36\n",
      "Error scraping url https://batdongsan.com.vn/cho-thue-can-ho-chung-cu-duong-vo-van-kiet-phuong-cau-kho-prj-d1mension/-english-below-3pn-noi-that-cao-cap-tu-decor-gia-tu-45tr-thang-tai-quan-1-pr38216697: 're__icon-private-house'\n"
     ]
    },
    {
     "name": "stderr",
     "output_type": "stream",
     "text": [
      "Processing batches:  68%|██████▊   | 790/1161 [1:45:09<1:09:50, 11.30s/it]"
     ]
    },
    {
     "name": "stdout",
     "output_type": "stream",
     "text": [
      "Error scraping url https://batdongsan.com.vn/cho-thue-can-ho-chung-cu-pho-ba-huyen-thanh-quan-phuong-vo-thi-sau-prj-saigon-pavillon/cho-cc-20-trieu-78-m2-2pn-2wc-noi-that-co-ban-pr42608880: HTTPConnectionPool(host='localhost', port=56097): Read timed out. (read timeout=120)\n"
     ]
    },
    {
     "name": "stderr",
     "output_type": "stream",
     "text": [
      "Processing batches:  68%|██████▊   | 791/1161 [1:45:13<55:36,  9.02s/it]  "
     ]
    },
    {
     "name": "stdout",
     "output_type": "stream",
     "text": [
      "Using Chrome with user agent: Mozilla/5.0 (Windows NT 10.0; Win64; x64) AppleWebKit/537.36 (KHTML, like Gecko) Chrome/99.0.4844.84 Safari/537.36\n",
      "Error scraping url https://batdongsan.com.vn/cho-thue-can-ho-chung-cu-duong-truong-luu-phuong-long-truong-prj-chung-cu-mt-eastmark-city/c-5-trieu-tai-quan-9-pr42702305: 're__icon-water'\n"
     ]
    },
    {
     "name": "stderr",
     "output_type": "stream",
     "text": [
      "Processing batches:  68%|██████▊   | 792/1161 [1:45:17<47:02,  7.65s/it]"
     ]
    },
    {
     "name": "stdout",
     "output_type": "stream",
     "text": [
      "Using Chrome with user agent: Mozilla/5.0 (Macintosh; Intel Mac OS X 10_15_7) AppleWebKit/537.36 (KHTML, like Gecko) Chrome/99.0.4844.84 Safari/537.36\n",
      "Error scraping url https://batdongsan.com.vn/cho-thue-can-ho-chung-cu-duong-9a-xa-binh-hung-1-prj-can-ho-cao-cap-hoang-thap-plaza/-3pn-10tr-lh-thao-pr38093425: 're__icon-document'\n"
     ]
    },
    {
     "name": "stderr",
     "output_type": "stream",
     "text": [
      "Processing batches:  68%|██████▊   | 793/1161 [1:45:21<39:48,  6.49s/it]"
     ]
    },
    {
     "name": "stdout",
     "output_type": "stream",
     "text": [
      "Error scraping url https://batdongsan.com.vn/cho-thue-can-ho-chung-cu-mini-duong-10-xa-binh-chanh-3/cho-studio-ban-cong-full-noi-that-5-trieu-5-40m2-tai-10-hcm-sieu-hot-pr42570464: 're__icon-clock'\n"
     ]
    },
    {
     "name": "stderr",
     "output_type": "stream",
     "text": [
      "Processing batches:  68%|██████▊   | 794/1161 [1:45:22<29:08,  4.76s/it]"
     ]
    },
    {
     "name": "stdout",
     "output_type": "stream",
     "text": [
      "Using Chrome with user agent: Mozilla/5.0 (Windows NT 10.0; Win64; x64) AppleWebKit/537.36 (KHTML, like Gecko) Chrome/100.0.4896.127 Safari/537.36\n",
      "First method failed: [Errno 2] No such file or directory: '/Users/macbook/Library/Application Support/undetected_chromedriver/undetected/chromedriver-mac-x64/chromedriver' -> '/Users/macbook/Library/Application Support/undetected_chromedriver/undetected_chromedriver'\n",
      "Using Chrome driver at: /Users/macbook/.wdm/drivers/chromedriver/mac64/135.0.7049.95/chromedriver-mac-arm64/chromedriver\n"
     ]
    },
    {
     "name": "stderr",
     "output_type": "stream",
     "text": [
      "could not detect version_main.therefore, we are assuming it is chrome 108 or higher\n"
     ]
    },
    {
     "name": "stdout",
     "output_type": "stream",
     "text": [
      "Using Chrome with user agent: Mozilla/5.0 (Macintosh; Intel Mac OS X 10_15_7) AppleWebKit/537.36 (KHTML, like Gecko) Chrome/99.0.4844.84 Safari/537.36\n"
     ]
    },
    {
     "name": "stderr",
     "output_type": "stream",
     "text": [
      "Processing batches:  68%|██████▊   | 795/1161 [1:45:30<36:09,  5.93s/it]"
     ]
    },
    {
     "name": "stdout",
     "output_type": "stream",
     "text": [
      "Error scraping url https://batdongsan.com.vn/cho-thue-can-ho-chung-cu-mini-duong-au-duong-lan-phuong-2-17/chdv-cua-so-troi-day-du-tien-nghi-o-p2-q8-pr42688706: 're__icon-clock'\n",
      "Error scraping url https://batdongsan.com.vn/cho-thue-can-ho-chung-cu-mini-duong-pham-ngu-lao-phuong-pham-ngu-lao-1/-international-plaza-1pn-studio-tach-bep-75m2-bao-phi-quan-ly-bao-ve-24-24-ham-xe-pr42418051: 're__icon-clock'\n"
     ]
    },
    {
     "name": "stderr",
     "output_type": "stream",
     "text": [
      "Processing batches:  69%|██████▊   | 796/1161 [1:45:32<28:56,  4.76s/it]"
     ]
    },
    {
     "name": "stdout",
     "output_type": "stream",
     "text": [
      "Using Chrome with user agent: Mozilla/5.0 (Windows NT 10.0; Win64; x64) AppleWebKit/537.36 (KHTML, like Gecko) Chrome/100.0.4896.127 Safari/537.36\n",
      "Using Chrome with user agent: Mozilla/5.0 (Macintosh; Intel Mac OS X 10_15_7) AppleWebKit/537.36 (KHTML, like Gecko) Chrome/99.0.4844.84 Safari/537.36\n"
     ]
    },
    {
     "name": "stderr",
     "output_type": "stream",
     "text": [
      "Processing batches:  69%|██████▊   | 797/1161 [1:45:41<35:57,  5.93s/it]"
     ]
    },
    {
     "name": "stdout",
     "output_type": "stream",
     "text": [
      "Error scraping url https://batdongsan.com.vn/cho-thue-can-ho-chung-cu-duong-n1-phuong-son-ky-prj-diamond-centery/c-3pn-120m2-121m2-du-an-celadon-city-tan-phu-pr42724961: 're__icon-front-view'\n",
      "Error scraping url https://batdongsan.com.vn/cho-thue-can-ho-chung-cu-phuong-long-binh-3-prj-masteri-centre-point/-cao-cap-2pn-74m2-full-noi-that-chau-au-gia-chi-12tr-free-phi-ql-va-don-ve-sinh-dinh-ky-pr42361752: 're__icon-private-house'\n"
     ]
    },
    {
     "name": "stderr",
     "output_type": "stream",
     "text": [
      "Processing batches:  69%|██████▊   | 798/1161 [1:45:41<25:32,  4.22s/it]"
     ]
    },
    {
     "name": "stdout",
     "output_type": "stream",
     "text": [
      "Using Chrome with user agent: Mozilla/5.0 (Macintosh; Intel Mac OS X 10_15_7) AppleWebKit/537.36 (KHTML, like Gecko) Chrome/99.0.4844.84 Safari/537.36\n",
      "Using Chrome with user agent: Mozilla/5.0 (Windows NT 10.0; Win64; x64) AppleWebKit/537.36 (KHTML, like Gecko) Chrome/99.0.4844.84 Safari/537.36\n",
      "Error scraping url https://batdongsan.com.vn/cho-thue-can-ho-chung-cu-duong-nguyen-thi-dinh-phuong-cat-lai-prj-citi-home/-di-c-chi-citime-2-pn-gia-chi-co-5-5-trieu-thang-pr21079670: 're__icon-front-view'\n",
      "Error scraping url https://batdongsan.com.vn/cho-thue-can-ho-chung-cu-duong-nguyen-sy-sach-phuong-15-8-prj-ruby-garden/-p15-tb-2pn-12tr-thang-lh-pr42727157: HTTPConnectionPool(host='localhost', port=56807): Read timed out. (read timeout=120)\n"
     ]
    },
    {
     "name": "stderr",
     "output_type": "stream",
     "text": [
      "Processing batches:  69%|██████▉   | 800/1161 [1:45:49<22:13,  3.69s/it]"
     ]
    },
    {
     "name": "stdout",
     "output_type": "stream",
     "text": [
      "Using Chrome with user agent: Mozilla/5.0 (Windows NT 10.0; Win64; x64) AppleWebKit/537.36 (KHTML, like Gecko) Chrome/99.0.4844.84 Safari/537.36\n",
      "Using Chrome with user agent: Mozilla/5.0 (Macintosh; Intel Mac OS X 10_15_7) AppleWebKit/537.36 (KHTML, like Gecko) Chrome/100.0.4896.127 Safari/537.36\n",
      "Second method failed: Message: Can not connect to the Service /Users/macbook/.wdm/drivers/chromedriver/mac64/135.0.7049.95/chromedriver-mac-arm64/chromedriver\n",
      "\n",
      "Error scraping url https://batdongsan.com.vn/cho-thue-can-ho-chung-cu-duong-xa-lo-ha-noi-phuong-an-phu-prj-cantavil-an-phu-cantavil-premier/c-tavil-150m2-3-png-ngu-3-b-cong-gia-21tr-th-nha-dg-trong-pr40478935: 're__icon-front-view'\n"
     ]
    },
    {
     "name": "stderr",
     "output_type": "stream",
     "text": [
      "Processing batches:  69%|██████▉   | 801/1161 [1:45:58<32:53,  5.48s/it]"
     ]
    },
    {
     "name": "stdout",
     "output_type": "stream",
     "text": [
      "Error scraping url https://batdongsan.com.vn/cho-thue-nha-tro-phong-tro-duong-15-phuong-tan-kieng/cho-40m2-8-5-trieu-tai-15-quan-7-hcm-hot-pr42724816: 're__icon-clock'\n"
     ]
    },
    {
     "name": "stderr",
     "output_type": "stream",
     "text": [
      "Processing batches:  69%|██████▉   | 802/1161 [1:46:00<25:32,  4.27s/it]"
     ]
    },
    {
     "name": "stdout",
     "output_type": "stream",
     "text": [
      "Error scraping url https://batdongsan.com.vn/cho-thue-can-ho-chung-cu-duong-ton-that-thuyet-phuong-1-prj-de-la-sol/delasol-1pn-full-nt-gia-12-tr-th-pr42364586: 're__icon-clock'\n"
     ]
    },
    {
     "name": "stderr",
     "output_type": "stream",
     "text": [
      "Processing batches:  69%|██████▉   | 803/1161 [1:46:01<19:55,  3.34s/it]"
     ]
    },
    {
     "name": "stdout",
     "output_type": "stream",
     "text": [
      "Using Chrome with user agent: Mozilla/5.0 (Macintosh; Intel Mac OS X 10_15_7) AppleWebKit/537.36 (KHTML, like Gecko) Chrome/99.0.4844.84 Safari/537.36\n",
      "Using Chrome with user agent: Mozilla/5.0 (Macintosh; Intel Mac OS X 10_15_7) AppleWebKit/537.36 (KHTML, like Gecko) Chrome/100.0.4896.127 Safari/537.36\n",
      "Using Chrome with user agent: Mozilla/5.0 (Windows NT 10.0; Win64; x64) AppleWebKit/537.36 (KHTML, like Gecko) Chrome/100.0.4896.127 Safari/537.36\n"
     ]
    },
    {
     "name": "stderr",
     "output_type": "stream",
     "text": [
      "Processing batches:  69%|██████▉   | 804/1161 [1:46:07<25:24,  4.27s/it]"
     ]
    },
    {
     "name": "stdout",
     "output_type": "stream",
     "text": [
      "Error scraping url https://batdongsan.com.vn/cho-thue-nha-tro-phong-tro-duong-tran-huu-trang-phuong-10-9/chinh-chu-cho-can-ho-duplex-35m2-cua-so-toa-thang-may-ham-xe-rong-day-du-pccc-pr42528868: 're__icon-electricity'\n",
      "Error scraping url https://batdongsan.com.vn/cho-thue-can-ho-chung-cu-duong-quach-giai-phuong-thanh-my-loi-prj-thu-thiem-dragon/c-2pn-va-3pn-view-song-sai-gon-pr36678482: 're__icon-front-view'\n"
     ]
    },
    {
     "name": "stderr",
     "output_type": "stream",
     "text": [
      "Processing batches:  69%|██████▉   | 805/1161 [1:46:09<19:42,  3.32s/it]"
     ]
    },
    {
     "name": "stdout",
     "output_type": "stream",
     "text": [
      "Using Chrome with user agent: Mozilla/5.0 (Windows NT 10.0; Win64; x64) AppleWebKit/537.36 (KHTML, like Gecko) Chrome/99.0.4844.84 Safari/537.36\n",
      "Using Chrome with user agent: Mozilla/5.0 (Macintosh; Intel Mac OS X 10_15_7) AppleWebKit/537.36 (KHTML, like Gecko) Chrome/99.0.4844.84 Safari/537.36\n",
      "Error scraping url https://batdongsan.com.vn/cho-thue-can-ho-chung-cu-duong-20-5-phuong-hiep-binh-chanh-prj-opal-garden/cho-3-phong-ngu-full-noi-that-gia-18-trieu-0932-011-212-pr34598967: 're__icon-front-view'\n"
     ]
    },
    {
     "name": "stderr",
     "output_type": "stream",
     "text": [
      "Processing batches:  69%|██████▉   | 806/1161 [1:46:13<21:51,  3.69s/it]"
     ]
    },
    {
     "name": "stdout",
     "output_type": "stream",
     "text": [
      "Error scraping url https://batdongsan.com.vn/cho-thue-can-ho-chung-cu-duong-xa-lo-ha-noi-phuong-an-phu-prj-cantavil-an-phu-cantavil-premier/-hiem-o-ctavil-q-2-150m2-3pn-3-b-cong-gia-chi-20-trieu-g-02-tttm-g-ga-metro-pr42724160: 're__icon-clock'\n"
     ]
    },
    {
     "name": "stderr",
     "output_type": "stream",
     "text": [
      "Processing batches:  70%|██████▉   | 808/1161 [1:46:16<14:56,  2.54s/it]"
     ]
    },
    {
     "name": "stdout",
     "output_type": "stream",
     "text": [
      "Error scraping url https://batdongsan.com.vn/cho-thue-nha-tro-phong-tro-duong-15-xa-phong-phu-4/thang-may-ban-cong-free-xe-lun-sang-sach-thoang-mat-gio-long-long-tim-dau-ra-a-pr42627498: 're__icon-clock'\n",
      "Using Chrome with user agent: Mozilla/5.0 (Windows NT 10.0; Win64; x64) AppleWebKit/537.36 (KHTML, like Gecko) Chrome/99.0.4844.84 Safari/537.36\n",
      "Using Chrome with user agent: Mozilla/5.0 (Macintosh; Intel Mac OS X 10_15_7) AppleWebKit/537.36 (KHTML, like Gecko) Chrome/100.0.4896.127 Safari/537.36\n",
      "Using Chrome with user agent: Mozilla/5.0 (Macintosh; Intel Mac OS X 10_15_7) AppleWebKit/537.36 (KHTML, like Gecko) Chrome/99.0.4844.84 Safari/537.36\n",
      "All Chrome initialization methods failed: Message: Can not connect to the Service /Users/macbook/.wdm/drivers/chromedriver/mac64/135.0.7049.95/chromedriver-mac-arm64/chromedriver\n",
      "\n",
      "Error scraping url https://batdongsan.com.vn/cho-thue-can-ho-chung-cu-duong-dai-lo-vong-cung-phuong-thu-thiem-prj-the-opera-residence/-cho-2pn-noi-that-day-du-gia-tot-cap-nhat-gio-hang-cho-moi-nhat-thang-4-pr42638058: 're__icon-clock'\n"
     ]
    },
    {
     "name": "stderr",
     "output_type": "stream",
     "text": [
      "Processing batches:  70%|██████▉   | 809/1161 [1:46:31<36:50,  6.28s/it]"
     ]
    },
    {
     "name": "stdout",
     "output_type": "stream",
     "text": [
      "Using Chrome with user agent: Mozilla/5.0 (Windows NT 10.0; Win64; x64) AppleWebKit/537.36 (KHTML, like Gecko) Chrome/99.0.4844.84 Safari/537.36\n"
     ]
    },
    {
     "name": "stderr",
     "output_type": "stream",
     "text": [
      "Processing batches:  70%|██████▉   | 810/1161 [1:46:39<39:17,  6.72s/it]"
     ]
    },
    {
     "name": "stdout",
     "output_type": "stream",
     "text": [
      "Error scraping url https://batdongsan.com.vn/cho-thue-can-ho-chung-cu-mini-duong-dinh-cong-trang-phuong-tan-dinh-2/ch-1pn-moi-100-mat-tien-ngay-vien-le-van-tam-cho-vong-xoay-dakao-pr42446853: 're__icon-clock'\n",
      "Using Chrome with user agent: Mozilla/5.0 (Macintosh; Intel Mac OS X 10_15_7) AppleWebKit/537.36 (KHTML, like Gecko) Chrome/99.0.4844.84 Safari/537.36\n",
      "Error scraping url https://batdongsan.com.vn/cho-thue-can-ho-chung-cu-duong-ben-van-don-phuong-12-prj-icon-56/chu-nha-c-nhanh-50m2-1pn-1wc-56-quan-4-gia-re-lh-pr42723285: 're__icon-front-view'\n"
     ]
    },
    {
     "name": "stderr",
     "output_type": "stream",
     "text": [
      "Processing batches:  70%|██████▉   | 811/1161 [1:46:49<43:52,  7.52s/it]"
     ]
    },
    {
     "name": "stdout",
     "output_type": "stream",
     "text": [
      "Error scraping url https://batdongsan.com.vn/cho-thue-can-ho-chung-cu-pho-ly-thuong-kiet-phuong-14-5-prj-xi-grand-court/c-quan-10-87m2-3pn-tang-cao-tang-dang-gia-18tr-ll-pr42723492: 're__icon-front-view'\n"
     ]
    },
    {
     "name": "stderr",
     "output_type": "stream",
     "text": [
      "Processing batches:  70%|██████▉   | 812/1161 [1:46:51<35:22,  6.08s/it]"
     ]
    },
    {
     "name": "stdout",
     "output_type": "stream",
     "text": [
      "Using Chrome with user agent: Mozilla/5.0 (Macintosh; Intel Mac OS X 10_15_7) AppleWebKit/537.36 (KHTML, like Gecko) Chrome/100.0.4896.127 Safari/537.36\n",
      "Using Chrome with user agent: Mozilla/5.0 (Macintosh; Intel Mac OS X 10_15_7) AppleWebKit/537.36 (KHTML, like Gecko) Chrome/100.0.4896.127 Safari/537.36\n",
      "Error scraping url https://batdongsan.com.vn/cho-thue-can-ho-chung-cu-phuong-long-binh-3-prj-the-beverly-solari-vinhomes-grand-park/cho-1pn-toa-bs8-full-dep-pr42622133: 're__icon-front-view'\n"
     ]
    },
    {
     "name": "stderr",
     "output_type": "stream",
     "text": [
      "Processing batches:  70%|███████   | 813/1161 [1:47:05<47:57,  8.27s/it]"
     ]
    },
    {
     "name": "stdout",
     "output_type": "stream",
     "text": [
      "Error scraping url https://batdongsan.com.vn/cho-thue-can-ho-chung-cu-mini-duong-binh-tri-dong-phuong-binh-tri-dong-a/cho-chdv-full-not-that-moi-100-gan-nga-tu-4-xa-benh-vien-da-khoa-quan-tan-pr42372900: 're__icon-clock'\n"
     ]
    },
    {
     "name": "stderr",
     "output_type": "stream",
     "text": [
      "Processing batches:  70%|███████   | 814/1161 [1:47:05<34:03,  5.89s/it]"
     ]
    },
    {
     "name": "stdout",
     "output_type": "stream",
     "text": [
      "Using Chrome with user agent: Mozilla/5.0 (Windows NT 10.0; Win64; x64) AppleWebKit/537.36 (KHTML, like Gecko) Chrome/99.0.4844.84 Safari/537.36\n",
      "Using Chrome with user agent: Mozilla/5.0 (Windows NT 10.0; Win64; x64) AppleWebKit/537.36 (KHTML, like Gecko) Chrome/100.0.4896.127 Safari/537.36\n",
      "Error scraping url https://batdongsan.com.vn/cho-thue-can-ho-chung-cu-duong-n4-phuong-son-ky-prj-emerald-celadon-city/cho-cc-16-trieu-71m2-2pn-2wc-chinh-chu-hang-hot-pr42470331: 're__icon-electricity'\n"
     ]
    },
    {
     "name": "stderr",
     "output_type": "stream",
     "text": [
      "Processing batches:  70%|███████   | 815/1161 [1:47:13<37:59,  6.59s/it]"
     ]
    },
    {
     "name": "stdout",
     "output_type": "stream",
     "text": [
      "Using Chrome with user agent: Mozilla/5.0 (Macintosh; Intel Mac OS X 10_15_7) AppleWebKit/537.36 (KHTML, like Gecko) Chrome/99.0.4844.84 Safari/537.36\n",
      "Error scraping url https://batdongsan.com.vn/cho-thue-nha-tro-phong-tro-duong-nguyen-kiem-phuong-4-19/cho-can-studio-ban-cong-full-noi-that-ngay-nga-tu-phu-nhuan-tai-so-740-kiem-pr42697205: 're__icon-clock'\n"
     ]
    },
    {
     "name": "stderr",
     "output_type": "stream",
     "text": [
      "Processing batches:  70%|███████   | 816/1161 [1:47:20<37:46,  6.57s/it]"
     ]
    },
    {
     "name": "stdout",
     "output_type": "stream",
     "text": [
      "Using Chrome with user agent: Mozilla/5.0 (Macintosh; Intel Mac OS X 10_15_7) AppleWebKit/537.36 (KHTML, like Gecko) Chrome/99.0.4844.84 Safari/537.36\n",
      "Error scraping url https://batdongsan.com.vn/cho-thue-can-ho-chung-cu-mini-duong-dien-bien-phu-phuong-25/30m2-cua-so-lon-full-noi-that-ngay-p25-binh-thanh-ngay-hang-xanh-pr42722898: 're__icon-electricity'\n"
     ]
    },
    {
     "name": "stderr",
     "output_type": "stream",
     "text": [
      "Processing batches:  70%|███████   | 817/1161 [1:47:26<36:37,  6.39s/it]"
     ]
    },
    {
     "name": "stdout",
     "output_type": "stream",
     "text": [
      "Using Chrome with user agent: Mozilla/5.0 (Windows NT 10.0; Win64; x64) AppleWebKit/537.36 (KHTML, like Gecko) Chrome/99.0.4844.84 Safari/537.36\n"
     ]
    },
    {
     "name": "stderr",
     "output_type": "stream",
     "text": [
      "Service process refused to terminate gracefully with SIGTERM, escalating to SIGKILL.\n",
      "Traceback (most recent call last):\n",
      "  File \"/Users/macbook/Desktop/BecasaNetwork/crawl/scrapepage.py\", line 132, in init_driver\n",
      "    driver = uc.Chrome(version_main=135, options=options)  # Specify a version that works with your Chrome\n",
      "  File \"/Users/macbook/Desktop/BecasaNetwork/crawl/env/lib/python3.13/site-packages/undetected_chromedriver/__init__.py\", line 258, in __init__\n",
      "    self.patcher.auto()\n",
      "    ~~~~~~~~~~~~~~~~~^^\n",
      "  File \"/Users/macbook/Desktop/BecasaNetwork/crawl/env/lib/python3.13/site-packages/undetected_chromedriver/patcher.py\", line 178, in auto\n",
      "    self.unzip_package(self.fetch_package())\n",
      "    ~~~~~~~~~~~~~~~~~~^^^^^^^^^^^^^^^^^^^^^^\n",
      "  File \"/Users/macbook/Desktop/BecasaNetwork/crawl/env/lib/python3.13/site-packages/undetected_chromedriver/patcher.py\", line 310, in unzip_package\n",
      "    os.rename(os.path.join(self.zip_path, exe_path), self.executable_path)\n",
      "    ~~~~~~~~~^^^^^^^^^^^^^^^^^^^^^^^^^^^^^^^^^^^^^^^^^^^^^^^^^^^^^^^^^^^^^\n",
      "FileNotFoundError: [Errno 2] No such file or directory: '/Users/macbook/Library/Application Support/undetected_chromedriver/undetected/chromedriver-mac-x64/chromedriver' -> '/Users/macbook/Library/Application Support/undetected_chromedriver/undetected_chromedriver'\n",
      "\n",
      "During handling of the above exception, another exception occurred:\n",
      "\n",
      "Traceback (most recent call last):\n",
      "  File \"/Users/macbook/Desktop/BecasaNetwork/crawl/scrapepage.py\", line 139, in init_driver\n",
      "    driver = uc.Chrome(driver_executable_path=driver_path, options=options)\n",
      "  File \"/Users/macbook/Desktop/BecasaNetwork/crawl/env/lib/python3.13/site-packages/undetected_chromedriver/__init__.py\", line 466, in __init__\n",
      "    super(Chrome, self).__init__(\n",
      "    ~~~~~~~~~~~~~~~~~~~~~~~~~~~~^\n",
      "        service=service,\n",
      "        ^^^^^^^^^^^^^^^^\n",
      "        options=options,\n",
      "        ^^^^^^^^^^^^^^^^\n",
      "        keep_alive=keep_alive,\n",
      "        ^^^^^^^^^^^^^^^^^^^^^^\n",
      "    )\n",
      "    ^\n",
      "  File \"/Users/macbook/Desktop/BecasaNetwork/crawl/env/lib/python3.13/site-packages/selenium/webdriver/chrome/webdriver.py\", line 45, in __init__\n",
      "    super().__init__(\n",
      "    ~~~~~~~~~~~~~~~~^\n",
      "        browser_name=DesiredCapabilities.CHROME[\"browserName\"],\n",
      "        ^^^^^^^^^^^^^^^^^^^^^^^^^^^^^^^^^^^^^^^^^^^^^^^^^^^^^^^\n",
      "    ...<3 lines>...\n",
      "        keep_alive=keep_alive,\n",
      "        ^^^^^^^^^^^^^^^^^^^^^^\n",
      "    )\n",
      "    ^\n",
      "  File \"/Users/macbook/Desktop/BecasaNetwork/crawl/env/lib/python3.13/site-packages/selenium/webdriver/chromium/webdriver.py\", line 55, in __init__\n",
      "    self.service.start()\n",
      "    ~~~~~~~~~~~~~~~~~~^^\n",
      "  File \"/Users/macbook/Desktop/BecasaNetwork/crawl/env/lib/python3.13/site-packages/selenium/webdriver/common/service.py\", line 120, in start\n",
      "    raise WebDriverException(f\"Can not connect to the Service {self._path}\")\n",
      "selenium.common.exceptions.WebDriverException: Message: Can not connect to the Service /Users/macbook/.wdm/drivers/chromedriver/mac64/135.0.7049.95/chromedriver-mac-arm64/chromedriver\n",
      "\n",
      "\n",
      "During handling of the above exception, another exception occurred:\n",
      "\n",
      "Traceback (most recent call last):\n",
      "  File \"/Users/macbook/Desktop/BecasaNetwork/crawl/scrapepage.py\", line 166, in scrape_page\n",
      "    driver = init_driver()\n",
      "  File \"/Users/macbook/Desktop/BecasaNetwork/crawl/scrapepage.py\", line 147, in init_driver\n",
      "    driver = webdriver.Chrome(service=service, options=options)\n",
      "  File \"/Users/macbook/Desktop/BecasaNetwork/crawl/env/lib/python3.13/site-packages/selenium/webdriver/chrome/webdriver.py\", line 45, in __init__\n",
      "    super().__init__(\n",
      "    ~~~~~~~~~~~~~~~~^\n",
      "        browser_name=DesiredCapabilities.CHROME[\"browserName\"],\n",
      "        ^^^^^^^^^^^^^^^^^^^^^^^^^^^^^^^^^^^^^^^^^^^^^^^^^^^^^^^\n",
      "    ...<3 lines>...\n",
      "        keep_alive=keep_alive,\n",
      "        ^^^^^^^^^^^^^^^^^^^^^^\n",
      "    )\n",
      "    ^\n",
      "  File \"/Users/macbook/Desktop/BecasaNetwork/crawl/env/lib/python3.13/site-packages/selenium/webdriver/chromium/webdriver.py\", line 55, in __init__\n",
      "    self.service.start()\n",
      "    ~~~~~~~~~~~~~~~~~~^^\n",
      "  File \"/Users/macbook/Desktop/BecasaNetwork/crawl/env/lib/python3.13/site-packages/selenium/webdriver/common/service.py\", line 120, in start\n",
      "    raise WebDriverException(f\"Can not connect to the Service {self._path}\")\n",
      "selenium.common.exceptions.WebDriverException: Message: Can not connect to the Service /Users/macbook/.wdm/drivers/chromedriver/mac64/135.0.7049.95/chromedriver-mac-arm64/chromedriver\n",
      "\n",
      "\n",
      "During handling of the above exception, another exception occurred:\n",
      "\n",
      "UnboundLocalError: cannot access local variable 'url' where it is not associated with a value\n",
      "\n",
      "During handling of the above exception, another exception occurred:\n",
      "\n",
      "Traceback (most recent call last):\n",
      "  File \"/Users/macbook/Desktop/BecasaNetwork/crawl/env/lib/python3.13/site-packages/selenium/webdriver/common/service.py\", line 184, in _terminate_process\n",
      "    self.process.wait(60)\n",
      "    ~~~~~~~~~~~~~~~~~^^^^\n",
      "  File \"/opt/homebrew/Cellar/python@3.13/3.13.2/Frameworks/Python.framework/Versions/3.13/lib/python3.13/subprocess.py\", line 1276, in wait\n",
      "Processing batches:  70%|███████   | 818/1161 [1:47:30<33:49,  5.92s/it]lf._wait(timeout=timeout)\n",
      "           ~~~~~~~~~~^^^^^^^^^^^^^^^^^\n",
      "  File \"/opt/homebrew/Cellar/python@3.13/3.13.2/Frameworks/Python.framework/Versions/3.13/lib/python3.13/subprocess.py\", line 2060, in _wait\n",
      "    raise TimeoutExpired(self.args, timeout)\n",
      "subprocess.TimeoutExpired: Command '['/Users/macbook/.wdm/drivers/chromedriver/mac64/135.0.7049.95/chromedriver-mac-arm64/chromedriver', '--port=50210']' timed out after 60 seconds\n"
     ]
    },
    {
     "name": "stdout",
     "output_type": "stream",
     "text": [
      "Error processing batch ['https://batdongsan.com.vn/cho-thue-can-ho-chung-cu-mini-pho-tran-xuan-soan-phuong-tan-kieng/c-1pn-ban-cong-full-noi-that-gan-cau-kenh-te-quan-7-pr42725177']: cannot access local variable 'url' where it is not associated with a value\n",
      "Using Chrome with user agent: Mozilla/5.0 (Macintosh; Intel Mac OS X 10_15_7) AppleWebKit/537.36 (KHTML, like Gecko) Chrome/99.0.4844.84 Safari/537.36\n",
      "Error scraping url https://batdongsan.com.vn/cho-thue-can-ho-chung-cu-duong-d1-phuong-tan-hung-14-prj-him-lam-riverside/8-5tr-2pn2wc-noi-that-co-ban-re-nhat-thi-truong-pr42124224: 're__icon-electricity'\n"
     ]
    },
    {
     "name": "stderr",
     "output_type": "stream",
     "text": [
      "Processing batches:  71%|███████   | 820/1161 [1:47:43<31:42,  5.58s/it]"
     ]
    },
    {
     "name": "stdout",
     "output_type": "stream",
     "text": [
      "Error scraping url https://batdongsan.com.vn/cho-thue-can-ho-chung-cu-duong-nguyen-luong-bang-1-phuong-tan-phu-19-prj-the-antonia/cho-cc-35-trieu-76m2-q7-hcm-hot-pr42487777: 're__icon-clock'\n",
      "Using Chrome with user agent: Mozilla/5.0 (Macintosh; Intel Mac OS X 10_15_7) AppleWebKit/537.36 (KHTML, like Gecko) Chrome/100.0.4896.127 Safari/537.36\n",
      "Error scraping url https://batdongsan.com.vn/cho-thue-nha-tro-phong-tro-duong-phan-van-suu-phuong-13-10/cho-gac-cao-khong-dung-dau-gia-sv-co-thang-may-gan-etown-tan-binh-pr42573943: 're__icon-clock'\n"
     ]
    },
    {
     "name": "stderr",
     "output_type": "stream",
     "text": [
      "Processing batches:  71%|███████   | 821/1161 [1:47:47<28:55,  5.10s/it]"
     ]
    },
    {
     "name": "stdout",
     "output_type": "stream",
     "text": [
      "Using Chrome with user agent: Mozilla/5.0 (Macintosh; Intel Mac OS X 10_15_7) AppleWebKit/537.36 (KHTML, like Gecko) Chrome/100.0.4896.127 Safari/537.36\n",
      "Error scraping url https://batdongsan.com.vn/cho-thue-nha-tro-phong-tro-duong-trinh-khac-lap-phuong-thanh-my-loi/cho-20m2-tai-4-9-trieu-day-du-noi-that-qua-tuyet-voi-luon-moi-100-pr42201228: Message: no such element: Unable to locate element: {\"method\":\"css selector\",\"selector\":\"h1[class*='re__pr-title pr-title js__pr-title']\"}\n",
      "  (Session info: chrome=135.0.7049.96); For documentation on this error, please visit: https://www.selenium.dev/documentation/webdriver/troubleshooting/errors#no-such-element-exception\n",
      "Stacktrace:\n",
      "0   undetected_chromedriver             0x000000010486c448 undetected_chromedriver + 6149192\n",
      "1   undetected_chromedriver             0x0000000104863b0a undetected_chromedriver + 6114058\n",
      "2   undetected_chromedriver             0x00000001042f4e80 undetected_chromedriver + 417408\n",
      "3   undetected_chromedriver             0x0000000104346587 undetected_chromedriver + 750983\n",
      "4   undetected_chromedriver             0x00000001043467a1 undetected_chromedriver + 751521\n",
      "5   undetected_chromedriver             0x0000000104396784 undetected_chromedriver + 1079172\n",
      "6   undetected_chromedriver             0x000000010436c7bd undetected_chromedriver + 907197\n",
      "7   undetected_chromedriver             0x0000000104393aca undetected_chromedriver + 1067722\n",
      "8   undetected_chromedriver             0x000000010436c563 undetected_chromedriver + 906595\n",
      "9   undetected_chromedriver             0x0000000104338955 undetected_chromedriver + 694613\n",
      "10  undetected_chromedriver             0x00000001043395b1 undetected_chromedriver + 697777\n",
      "11  undetected_chromedriver             0x0000000104829f00 undetected_chromedriver + 5877504\n",
      "12  undetected_chromedriver             0x000000010482ddf1 undetected_chromedriver + 5893617\n",
      "13  undetected_chromedriver             0x0000000104804344 undetected_chromedriver + 5722948\n",
      "14  undetected_chromedriver             0x000000010482e80b undetected_chromedriver + 5896203\n",
      "15  undetected_chromedriver             0x00000001047f2ac4 undetected_chromedriver + 5651140\n",
      "16  undetected_chromedriver             0x0000000104851918 undetected_chromedriver + 6039832\n",
      "17  undetected_chromedriver             0x0000000104851ae0 undetected_chromedriver + 6040288\n",
      "18  undetected_chromedriver             0x00000001048636d1 undetected_chromedriver + 6112977\n",
      "19  libsystem_pthread.dylib             0x00007ff8053ac18b _pthread_start + 99\n",
      "20  libsystem_pthread.dylib             0x00007ff8053a7ae3 thread_start + 15\n",
      "\n",
      "Error scraping url https://batdongsan.com.vn/cho-thue-can-ho-chung-cu-mini-duong-nguyen-van-luong-phuong-10-4/dang-gac-cao-cap-chi-tinh-dien-nuoc-chuan-chinh-dich-vu-thang-may-ham-xe-bao-ve-24-24-pr42721950: 're__icon-electricity'\n"
     ]
    },
    {
     "name": "stderr",
     "output_type": "stream",
     "text": [
      "Processing batches:  71%|███████   | 823/1161 [1:47:49<16:58,  3.01s/it]"
     ]
    },
    {
     "name": "stdout",
     "output_type": "stream",
     "text": [
      "First method failed: Message: Service /Users/macbook/Library/Application Support/undetected_chromedriver/undetected_chromedriver unexpectedly exited. Status code was: -9\n",
      "\n",
      "Using Chrome driver at: /Users/macbook/.wdm/drivers/chromedriver/mac64/135.0.7049.95/chromedriver-mac-arm64/chromedriver\n",
      "Second method failed: you cannot reuse the ChromeOptions object\n",
      "Using Chrome with user agent: Mozilla/5.0 (Macintosh; Intel Mac OS X 10_15_7) AppleWebKit/537.36 (KHTML, like Gecko) Chrome/99.0.4844.84 Safari/537.36\n",
      "Using Chrome with user agent: Mozilla/5.0 (Macintosh; Intel Mac OS X 10_15_7) AppleWebKit/537.36 (KHTML, like Gecko) Chrome/100.0.4896.127 Safari/537.36\n"
     ]
    },
    {
     "name": "stderr",
     "output_type": "stream",
     "text": [
      "Processing batches:  71%|███████   | 824/1161 [1:47:57<25:18,  4.51s/it]"
     ]
    },
    {
     "name": "stdout",
     "output_type": "stream",
     "text": [
      "Error scraping url https://batdongsan.com.vn/cho-thue-can-ho-chung-cu-duong-nguyen-van-troi-phuong-12-9-prj-the-prince-residence/c-80m2-2pn-gia-18-trieu-thang-tuan-pr42721888: 're__icon-front-view'\n",
      "Using Chrome with user agent: Mozilla/5.0 (Macintosh; Intel Mac OS X 10_15_7) AppleWebKit/537.36 (KHTML, like Gecko) Chrome/100.0.4896.127 Safari/537.36\n",
      "Error scraping url https://batdongsan.com.vn/cho-thue-can-ho-chung-cu-mini-duong-nguyen-trai-phuong-nguyen-cu-trinh/c-ban-cong-40m2-ngay-nga-5-cong-quynh-ngay-metro-ben-thanh-gan-bui-vien-oto-pr42721601: 're__icon-clock'\n"
     ]
    },
    {
     "name": "stderr",
     "output_type": "stream",
     "text": [
      "Processing batches:  71%|███████   | 825/1161 [1:48:02<26:38,  4.76s/it]"
     ]
    },
    {
     "name": "stdout",
     "output_type": "stream",
     "text": [
      "Error scraping url https://batdongsan.com.vn/cho-thue-nha-tro-phong-tro-duong-dinh-an-tai-phuong-7-6/cho-2-2tr-dt-5mx7m-p7-q8-pr40417903: 're__icon-home'\n"
     ]
    },
    {
     "name": "stderr",
     "output_type": "stream",
     "text": [
      "Processing batches:  71%|███████   | 826/1161 [1:48:05<22:34,  4.04s/it]"
     ]
    },
    {
     "name": "stdout",
     "output_type": "stream",
     "text": [
      "Using Chrome with user agent: Mozilla/5.0 (Macintosh; Intel Mac OS X 10_15_7) AppleWebKit/537.36 (KHTML, like Gecko) Chrome/100.0.4896.127 Safari/537.36\n",
      "Using Chrome with user agent: Mozilla/5.0 (Windows NT 10.0; Win64; x64) AppleWebKit/537.36 (KHTML, like Gecko) Chrome/99.0.4844.84 Safari/537.36\n",
      "Error scraping url https://batdongsan.com.vn/cho-thue-can-ho-chung-cu-duong-9a-xa-binh-hung-1-prj-hong-linh-plaza/-view-dong-nam-mat-me-74m2-2pn-gia-10tr-ms-viem-pr42721914: 're__icon-front-view'\n"
     ]
    },
    {
     "name": "stderr",
     "output_type": "stream",
     "text": [
      "Processing batches:  71%|███████   | 827/1161 [1:48:11<25:37,  4.60s/it]"
     ]
    },
    {
     "name": "stdout",
     "output_type": "stream",
     "text": [
      "Using Chrome with user agent: Mozilla/5.0 (Windows NT 10.0; Win64; x64) AppleWebKit/537.36 (KHTML, like Gecko) Chrome/100.0.4896.127 Safari/537.36\n"
     ]
    },
    {
     "name": "stderr",
     "output_type": "stream",
     "text": [
      "Processing batches:  71%|███████▏  | 828/1161 [1:48:19<32:37,  5.88s/it]"
     ]
    },
    {
     "name": "stdout",
     "output_type": "stream",
     "text": [
      "Error scraping url https://batdongsan.com.vn/cho-thue-can-ho-chung-cu-duong-ben-van-don-phuong-12-prj-saigon-royal-residence/-c-quan-4-88m2-view-dep-lh-pr42191145: 're__icon-front-view'\n",
      "Using Chrome with user agent: Mozilla/5.0 (Macintosh; Intel Mac OS X 10_15_7) AppleWebKit/537.36 (KHTML, like Gecko) Chrome/100.0.4896.127 Safari/537.36\n",
      "All Chrome initialization methods failed: Message: Can not connect to the Service /Users/macbook/.wdm/drivers/chromedriver/mac64/135.0.7049.95/chromedriver-mac-arm64/chromedriver\n",
      "\n",
      "Error scraping url https://batdongsan.com.vn/cho-thue-can-ho-chung-cu-duong-cao-lo-phuong-4-15-prj-topaz-city/gia-re-cho-70m2-2phong-2wc-day-du-noi-that-12trieu-pr42100610: HTTPConnectionPool(host='localhost', port=60120): Read timed out. (read timeout=120)\n"
     ]
    },
    {
     "name": "stderr",
     "output_type": "stream",
     "text": [
      "Processing batches:  71%|███████▏  | 829/1161 [1:48:27<35:03,  6.34s/it]"
     ]
    },
    {
     "name": "stdout",
     "output_type": "stream",
     "text": [
      "Error scraping url https://batdongsan.com.vn/cho-thue-can-ho-chung-cu-mini-duong-tran-phu-phuong-4-13/-ban-cong-may-giat-rieng-ngay-nga-6-cong-a-dh-su-pham-pr42721654: 're__icon-clock'\n"
     ]
    },
    {
     "name": "stderr",
     "output_type": "stream",
     "text": [
      "Processing batches:  71%|███████▏  | 830/1161 [1:48:30<29:27,  5.34s/it]"
     ]
    },
    {
     "name": "stdout",
     "output_type": "stream",
     "text": [
      "Using Chrome with user agent: Mozilla/5.0 (Macintosh; Intel Mac OS X 10_15_7) AppleWebKit/537.36 (KHTML, like Gecko) Chrome/99.0.4844.84 Safari/537.36\n",
      "Error scraping url https://batdongsan.com.vn/cho-thue-can-ho-chung-cu-phuong-cat-lai-prj-citi-home/c-2pn-64m2-gia-chi-6-trieu-tai-me-quan-2-tp-hcm-pr42721550: 're__icon-clock'\n"
     ]
    },
    {
     "name": "stderr",
     "output_type": "stream",
     "text": [
      "Processing batches:  72%|███████▏  | 831/1161 [1:48:32<23:27,  4.26s/it]"
     ]
    },
    {
     "name": "stdout",
     "output_type": "stream",
     "text": [
      "Using Chrome with user agent: Mozilla/5.0 (Windows NT 10.0; Win64; x64) AppleWebKit/537.36 (KHTML, like Gecko) Chrome/99.0.4844.84 Safari/537.36\n"
     ]
    },
    {
     "name": "stderr",
     "output_type": "stream",
     "text": [
      "Processing batches:  72%|███████▏  | 832/1161 [1:48:35<22:35,  4.12s/it]"
     ]
    },
    {
     "name": "stdout",
     "output_type": "stream",
     "text": [
      "Error scraping url https://batdongsan.com.vn/cho-thue-can-ho-chung-cu-duong-kinh-duong-vuong-phuong-an-lac-a-prj-moonlight-boulevard/em-c-mot-so-o-1pn-2pn-3pn-pr41609993: 're__icon-front-view'\n",
      "Using Chrome with user agent: Mozilla/5.0 (Windows NT 10.0; Win64; x64) AppleWebKit/537.36 (KHTML, like Gecko) Chrome/100.0.4896.127 Safari/537.36\n",
      "Using Chrome with user agent: Mozilla/5.0 (Macintosh; Intel Mac OS X 10_15_7) AppleWebKit/537.36 (KHTML, like Gecko) Chrome/100.0.4896.127 Safari/537.36\n",
      "Error scraping url https://batdongsan.com.vn/cho-thue-can-ho-chung-cu-phuong-an-khanh-prj-the-metropole-thu-thiem/-galleria-cho-2pn-nha-trong-gio-hang-cap-nhat-moi-nhat-pr42634855: 're__icon-clock'\n"
     ]
    },
    {
     "name": "stderr",
     "output_type": "stream",
     "text": [
      "Processing batches:  72%|███████▏  | 833/1161 [1:48:43<28:28,  5.21s/it]"
     ]
    },
    {
     "name": "stdout",
     "output_type": "stream",
     "text": [
      "Error scraping url https://batdongsan.com.vn/cho-thue-can-ho-chung-cu-duong-nguyen-huu-tho-xa-phuoc-kieng-prj-celesta-rise/c-2pn-nha-an-thien-co-ban-gia-12-trieu-pr42362002: 're__icon-private-house'\n"
     ]
    },
    {
     "name": "stderr",
     "output_type": "stream",
     "text": [
      "Processing batches:  72%|███████▏  | 834/1161 [1:48:47<26:44,  4.91s/it]"
     ]
    },
    {
     "name": "stdout",
     "output_type": "stream",
     "text": [
      "Using Chrome with user agent: Mozilla/5.0 (Macintosh; Intel Mac OS X 10_15_7) AppleWebKit/537.36 (KHTML, like Gecko) Chrome/100.0.4896.127 Safari/537.36\n",
      "Error scraping url https://batdongsan.com.vn/cho-thue-can-ho-chung-cu-duong-nguyen-thi-dinh-phuong-an-phu-prj-can-ho-dlusso/400-hang-dac-biet-3pn-13tr-2pn-11tr-co-noi-that-14-15tr-1pn-co-noi-that-9tr-pr38699267: 're__icon-front-view'\n"
     ]
    },
    {
     "name": "stderr",
     "output_type": "stream",
     "text": [
      "Processing batches:  72%|███████▏  | 835/1161 [1:48:48<19:42,  3.63s/it]"
     ]
    },
    {
     "name": "stdout",
     "output_type": "stream",
     "text": [
      "Using Chrome with user agent: Mozilla/5.0 (Macintosh; Intel Mac OS X 10_15_7) AppleWebKit/537.36 (KHTML, like Gecko) Chrome/99.0.4844.84 Safari/537.36\n",
      "Using Chrome with user agent: Mozilla/5.0 (Windows NT 10.0; Win64; x64) AppleWebKit/537.36 (KHTML, like Gecko) Chrome/100.0.4896.127 Safari/537.36\n",
      "Error scraping url https://batdongsan.com.vn/cho-thue-nha-tro-phong-tro-duong-16-5-xa-phong-phu-4-prj-khu-dan-cu-greenlife-13c/-trong-cho-tai-gia-uu-dai-chi-voi-2-2-5tr-thang-pr42160331: 're__icon-front-view'\n"
     ]
    },
    {
     "name": "stderr",
     "output_type": "stream",
     "text": [
      "Processing batches:  72%|███████▏  | 836/1161 [1:48:58<29:30,  5.45s/it]"
     ]
    },
    {
     "name": "stdout",
     "output_type": "stream",
     "text": [
      "Error scraping url https://batdongsan.com.vn/cho-thue-can-ho-chung-cu-mini-duong-so-79-phuong-tan-quy/-mot-png-ngu-co-may-giat-rieng-gan-kdc-him-lam-nguyen-thi-thap-quan-4-quan-8-pr42710805: 're__icon-front-view'\n"
     ]
    },
    {
     "name": "stderr",
     "output_type": "stream",
     "text": [
      "Processing batches:  72%|███████▏  | 837/1161 [1:48:58<20:56,  3.88s/it]"
     ]
    },
    {
     "name": "stdout",
     "output_type": "stream",
     "text": [
      "Using Chrome with user agent: Mozilla/5.0 (Windows NT 10.0; Win64; x64) AppleWebKit/537.36 (KHTML, like Gecko) Chrome/99.0.4844.84 Safari/537.36\n",
      "Using Chrome with user agent: Mozilla/5.0 (Windows NT 10.0; Win64; x64) AppleWebKit/537.36 (KHTML, like Gecko) Chrome/100.0.4896.127 Safari/537.36\n",
      "Error scraping url https://batdongsan.com.vn/cho-thue-can-ho-chung-cu-mini-duong-dien-bien-phu-phuong-15-5/-ngay-ban-cong-rong-35m2-full-noi-that-ngay-ong-15-quan-binh-thanh-pr42684663: 're__icon-electricity'\n"
     ]
    },
    {
     "name": "stderr",
     "output_type": "stream",
     "text": [
      "Processing batches:  72%|███████▏  | 838/1161 [1:49:08<31:00,  5.76s/it]"
     ]
    },
    {
     "name": "stdout",
     "output_type": "stream",
     "text": [
      "Using Chrome with user agent: Mozilla/5.0 (Windows NT 10.0; Win64; x64) AppleWebKit/537.36 (KHTML, like Gecko) Chrome/100.0.4896.127 Safari/537.36\n"
     ]
    },
    {
     "name": "stderr",
     "output_type": "stream",
     "text": [
      "Processing batches:  72%|███████▏  | 839/1161 [1:49:15<33:25,  6.23s/it]"
     ]
    },
    {
     "name": "stdout",
     "output_type": "stream",
     "text": [
      "Error scraping url https://batdongsan.com.vn/cho-thue-can-ho-chung-cu-duong-dong-van-cong-phuong-thanh-my-loi-prj-feliz-en-vista/cho-2-phong-ngu-quan-2-full-noi-that-gia-22-trieu-thang-lh-pr42522564: 're__icon-front-view'\n",
      "Using Chrome with user agent: Mozilla/5.0 (Macintosh; Intel Mac OS X 10_15_7) AppleWebKit/537.36 (KHTML, like Gecko) Chrome/100.0.4896.127 Safari/537.36\n",
      "Error scraping url https://batdongsan.com.vn/cho-thue-can-ho-chung-cu-mini-duong-so-81-phuong-tan-quy/khai-truong-he-thong-chdv-dep-cuc-ki-ngay-quan-7-gan-lotte-rmit-dh-tdt-sunrise-city-cau-kenh-te-pr42720966: 're__icon-front-view'\n"
     ]
    },
    {
     "name": "stderr",
     "output_type": "stream",
     "text": [
      "Processing batches:  72%|███████▏  | 840/1161 [1:49:19<29:37,  5.54s/it]Service process refused to terminate gracefully with SIGTERM, escalating to SIGKILL.\n",
      "Traceback (most recent call last):\n",
      "  File \"/Users/macbook/Desktop/BecasaNetwork/crawl/scrapepage.py\", line 132, in init_driver\n",
      "    driver = uc.Chrome(version_main=135, options=options)  # Specify a version that works with your Chrome\n",
      "  File \"/Users/macbook/Desktop/BecasaNetwork/crawl/env/lib/python3.13/site-packages/undetected_chromedriver/__init__.py\", line 466, in __init__\n",
      "    super(Chrome, self).__init__(\n",
      "    ~~~~~~~~~~~~~~~~~~~~~~~~~~~~^\n",
      "        service=service,\n",
      "        ^^^^^^^^^^^^^^^^\n",
      "        options=options,\n",
      "        ^^^^^^^^^^^^^^^^\n",
      "        keep_alive=keep_alive,\n",
      "        ^^^^^^^^^^^^^^^^^^^^^^\n",
      "    )\n",
      "    ^\n",
      "  File \"/Users/macbook/Desktop/BecasaNetwork/crawl/env/lib/python3.13/site-packages/selenium/webdriver/chrome/webdriver.py\", line 45, in __init__\n",
      "    super().__init__(\n",
      "    ~~~~~~~~~~~~~~~~^\n",
      "        browser_name=DesiredCapabilities.CHROME[\"browserName\"],\n",
      "        ^^^^^^^^^^^^^^^^^^^^^^^^^^^^^^^^^^^^^^^^^^^^^^^^^^^^^^^\n",
      "    ...<3 lines>...\n",
      "        keep_alive=keep_alive,\n",
      "        ^^^^^^^^^^^^^^^^^^^^^^\n",
      "    )\n",
      "    ^\n",
      "  File \"/Users/macbook/Desktop/BecasaNetwork/crawl/env/lib/python3.13/site-packages/selenium/webdriver/chromium/webdriver.py\", line 55, in __init__\n",
      "    self.service.start()\n",
      "    ~~~~~~~~~~~~~~~~~~^^\n",
      "  File \"/Users/macbook/Desktop/BecasaNetwork/crawl/env/lib/python3.13/site-packages/selenium/webdriver/common/service.py\", line 113, in start\n",
      "    self.assert_process_still_running()\n",
      "    ~~~~~~~~~~~~~~~~~~~~~~~~~~~~~~~~~^^\n",
      "  File \"/Users/macbook/Desktop/BecasaNetwork/crawl/env/lib/python3.13/site-packages/selenium/webdriver/common/service.py\", line 126, in assert_process_still_running\n",
      "    raise WebDriverException(f\"Service {self._path} unexpectedly exited. Status code was: {return_code}\")\n",
      "selenium.common.exceptions.WebDriverException: Message: Service /Users/macbook/Library/Application Support/undetected_chromedriver/undetected_chromedriver unexpectedly exited. Status code was: -9\n",
      "\n",
      "\n",
      "During handling of the above exception, another exception occurred:\n",
      "\n",
      "Traceback (most recent call last):\n",
      "  File \"/Users/macbook/Desktop/BecasaNetwork/crawl/scrapepage.py\", line 139, in init_driver\n",
      "    driver = uc.Chrome(driver_executable_path=driver_path, options=options)\n",
      "  File \"/Users/macbook/Desktop/BecasaNetwork/crawl/env/lib/python3.13/site-packages/undetected_chromedriver/__init__.py\", line 269, in __init__\n",
      "    raise RuntimeError(\"you cannot reuse the ChromeOptions object\")\n",
      "RuntimeError: you cannot reuse the ChromeOptions object\n",
      "\n",
      "During handling of the above exception, another exception occurred:\n",
      "\n",
      "Traceback (most recent call last):\n",
      "  File \"/Users/macbook/Desktop/BecasaNetwork/crawl/scrapepage.py\", line 166, in scrape_page\n",
      "    driver = init_driver()\n",
      "  File \"/Users/macbook/Desktop/BecasaNetwork/crawl/scrapepage.py\", line 147, in init_driver\n",
      "    driver = webdriver.Chrome(service=service, options=options)\n",
      "  File \"/Users/macbook/Desktop/BecasaNetwork/crawl/env/lib/python3.13/site-packages/selenium/webdriver/chrome/webdriver.py\", line 45, in __init__\n",
      "    super().__init__(\n",
      "    ~~~~~~~~~~~~~~~~^\n",
      "        browser_name=DesiredCapabilities.CHROME[\"browserName\"],\n",
      "        ^^^^^^^^^^^^^^^^^^^^^^^^^^^^^^^^^^^^^^^^^^^^^^^^^^^^^^^\n",
      "    ...<3 lines>...\n",
      "        keep_alive=keep_alive,\n",
      "        ^^^^^^^^^^^^^^^^^^^^^^\n",
      "    )\n",
      "    ^\n",
      "  File \"/Users/macbook/Desktop/BecasaNetwork/crawl/env/lib/python3.13/site-packages/selenium/webdriver/chromium/webdriver.py\", line 55, in __init__\n",
      "    self.service.start()\n",
      "    ~~~~~~~~~~~~~~~~~~^^\n",
      "  File \"/Users/macbook/Desktop/BecasaNetwork/crawl/env/lib/python3.13/site-packages/selenium/webdriver/common/service.py\", line 120, in start\n",
      "    raise WebDriverException(f\"Can not connect to the Service {self._path}\")\n",
      "selenium.common.exceptions.WebDriverException: Message: Can not connect to the Service /Users/macbook/.wdm/drivers/chromedriver/mac64/135.0.7049.95/chromedriver-mac-arm64/chromedriver\n",
      "\n",
      "\n",
      "During handling of the above exception, another exception occurred:\n",
      "\n",
      "UnboundLocalError: cannot access local variable 'url' where it is not associated with a value\n",
      "\n",
      "During handling of the above exception, another exception occurred:\n",
      "\n",
      "Traceback (most recent call last):\n",
      "  File \"/Users/macbook/Desktop/BecasaNetwork/crawl/env/lib/python3.13/site-packages/selenium/webdriver/common/service.py\", line 184, in _terminate_process\n",
      "    self.process.wait(60)\n",
      "    ~~~~~~~~~~~~~~~~~^^^^\n",
      "  File \"/opt/homebrew/Cellar/python@3.13/3.13.2/Frameworks/Python.framework/Versions/3.13/lib/python3.13/subprocess.py\", line 1276, in wait\n",
      "    return self._wait(timeout=timeout)\n",
      "           ~~~~~~~~~~^^^^^^^^^^^^^^^^^\n",
      "  File \"/opt/homebrew/Cellar/python@3.13/3.13.2/Frameworks/Python.framework/Versions/3.13/lib/python3.13/subprocess.py\", line 2060, in _wait\n",
      "    raise TimeoutExpired(self.args, timeout)\n",
      "subprocess.TimeoutExpired: Command '['/Users/macbook/.wdm/drivers/chromedriver/mac64/135.0.7049.95/chromedriver-mac-arm64/chromedriver', '--port=60625']' timed out after 60 seconds\n",
      "Processing batches:  72%|███████▏  | 841/1161 [1:49:23<26:16,  4.93s/it]"
     ]
    },
    {
     "name": "stdout",
     "output_type": "stream",
     "text": [
      "Error processing batch ['https://batdongsan.com.vn/cho-thue-can-ho-chung-cu-duong-dai-lo-vong-cung-phuong-an-khanh-prj-the-crest-residence/c-metropole-quan-2-2-png-ngu-view-song-landmark-cuc-dep-pr42722103']: cannot access local variable 'url' where it is not associated with a value\n",
      "Using Chrome with user agent: Mozilla/5.0 (Macintosh; Intel Mac OS X 10_15_7) AppleWebKit/537.36 (KHTML, like Gecko) Chrome/100.0.4896.127 Safari/537.36\n"
     ]
    },
    {
     "name": "stderr",
     "output_type": "stream",
     "text": [
      "Processing batches:  73%|███████▎  | 842/1161 [1:49:26<22:58,  4.32s/it]"
     ]
    },
    {
     "name": "stdout",
     "output_type": "stream",
     "text": [
      "Error scraping url https://batdongsan.com.vn/cho-thue-can-ho-chung-cu-duong-thanh-xuan-13-phuong-thanh-xuan-prj-picity-high-park/c-80m2-3pn2wc-full-noi-that-gia-11tr-th-tang-view-dep-lh-pr42504141: 're__icon-front-view'\n",
      "First method failed: [Errno 2] No such file or directory: '/Users/macbook/Library/Application Support/undetected_chromedriver/undetected/chromedriver-mac-x64/chromedriver' -> '/Users/macbook/Library/Application Support/undetected_chromedriver/undetected_chromedriver'\n",
      "Error scraping url https://batdongsan.com.vn/cho-thue-can-ho-chung-cu-duong-kinh-duong-vuong-phuong-an-lac-a-prj-moonlight-boulevard/cho-1pn-56m-oulevard-gia-9-5-trieu-thang-doi-dien-ben-xe-mien-tay-pr42720752: 're__icon-front-view'\n"
     ]
    },
    {
     "name": "stderr",
     "output_type": "stream",
     "text": [
      "Processing batches:  73%|███████▎  | 843/1161 [1:49:28<19:32,  3.69s/it]could not detect version_main.therefore, we are assuming it is chrome 108 or higher\n"
     ]
    },
    {
     "name": "stdout",
     "output_type": "stream",
     "text": [
      "Using Chrome driver at: /Users/macbook/.wdm/drivers/chromedriver/mac64/135.0.7049.95/chromedriver-mac-arm64/chromedriver\n",
      "Using Chrome with user agent: Mozilla/5.0 (Windows NT 10.0; Win64; x64) AppleWebKit/537.36 (KHTML, like Gecko) Chrome/100.0.4896.127 Safari/537.36\n",
      "Error scraping url https://batdongsan.com.vn/cho-thue-can-ho-chung-cu-duong-nguyen-huu-tho-xa-phuoc-kieng-prj-saigon-south-residences/cho-ch-dep-xuat-sac-tai-72m2-13-trieu-vnd-pr42720559: 're__icon-private-house'\n"
     ]
    },
    {
     "name": "stderr",
     "output_type": "stream",
     "text": [
      "Processing batches:  73%|███████▎  | 844/1161 [1:49:51<49:38,  9.40s/it]"
     ]
    },
    {
     "name": "stdout",
     "output_type": "stream",
     "text": [
      "Using Chrome with user agent: Mozilla/5.0 (Windows NT 10.0; Win64; x64) AppleWebKit/537.36 (KHTML, like Gecko) Chrome/100.0.4896.127 Safari/537.36\n",
      "First method failed: Message: Can not connect to the Service /Users/macbook/Library/Application Support/undetected_chromedriver/undetected_chromedriver\n",
      "\n",
      "Using Chrome driver at: /Users/macbook/.wdm/drivers/chromedriver/mac64/135.0.7049.95/chromedriver-mac-arm64/chromedriver\n",
      "Second method failed: you cannot reuse the ChromeOptions object\n",
      "Second method failed: Message: Can not connect to the Service /Users/macbook/.wdm/drivers/chromedriver/mac64/135.0.7049.95/chromedriver-mac-arm64/chromedriver\n",
      "\n",
      "Error scraping url https://batdongsan.com.vn/cho-thue-can-ho-chung-cu-mini-duong-lam-van-ben-phuong-tan-kieng/cho-chdv-duplex-gac-cao-full-noi-that-sieu-dep-tai-q7-de-di-sang-cac-quan-trung-tam-pr42710730: 're__icon-clock'\n"
     ]
    },
    {
     "name": "stderr",
     "output_type": "stream",
     "text": [
      "Processing batches:  73%|███████▎  | 845/1161 [1:50:01<51:43,  9.82s/it]"
     ]
    },
    {
     "name": "stdout",
     "output_type": "stream",
     "text": [
      "Using Chrome with user agent: Mozilla/5.0 (Macintosh; Intel Mac OS X 10_15_7) AppleWebKit/537.36 (KHTML, like Gecko) Chrome/99.0.4844.84 Safari/537.36\n",
      "Error scraping url https://batdongsan.com.vn/cho-thue-can-ho-chung-cu-mini-duong-le-van-sy-phuong-11-9/cho-nhieu-ch-full-noi-that-moi-100-gia-chi-7tr-8tr-thang-pr42721205: 're__icon-front-view'\n"
     ]
    },
    {
     "name": "stderr",
     "output_type": "stream",
     "text": [
      "Processing batches:  73%|███████▎  | 846/1161 [1:50:09<48:17,  9.20s/it]"
     ]
    },
    {
     "name": "stdout",
     "output_type": "stream",
     "text": [
      "Error scraping url https://batdongsan.com.vn/cho-thue-can-ho-chung-cu-duong-d1-phuong-tan-hung-14-prj-can-ho-florita/-quan-7-cho-dien-tich-80m2-2-phong-ngu-2-nha-ve-sinh-gia-15tr-thang-pr41950508: 're__icon-front-view'\n"
     ]
    },
    {
     "name": "stderr",
     "output_type": "stream",
     "text": [
      "Processing batches:  73%|███████▎  | 847/1161 [1:50:09<34:10,  6.53s/it]"
     ]
    },
    {
     "name": "stdout",
     "output_type": "stream",
     "text": [
      "Using Chrome with user agent: Mozilla/5.0 (Macintosh; Intel Mac OS X 10_15_7) AppleWebKit/537.36 (KHTML, like Gecko) Chrome/100.0.4896.127 Safari/537.36\n",
      "Using Chrome with user agent: Mozilla/5.0 (Macintosh; Intel Mac OS X 10_15_7) AppleWebKit/537.36 (KHTML, like Gecko) Chrome/99.0.4844.84 Safari/537.36\n"
     ]
    },
    {
     "name": "stderr",
     "output_type": "stream",
     "text": [
      "Processing batches:  73%|███████▎  | 848/1161 [1:50:18<36:57,  7.08s/it]"
     ]
    },
    {
     "name": "stdout",
     "output_type": "stream",
     "text": [
      "Error scraping url https://batdongsan.com.vn/cho-thue-can-ho-chung-cu-mini-duong-hoang-hoa-tham-phuong-12-10/c-co-gac-ban-cong-ang-a-tan-binh-full-noi-that-gan-san-bay-gia-pr42720434: 're__icon-clock'\n",
      "Using Chrome with user agent: Mozilla/5.0 (Macintosh; Intel Mac OS X 10_15_7) AppleWebKit/537.36 (KHTML, like Gecko) Chrome/100.0.4896.127 Safari/537.36\n",
      "Error scraping url https://batdongsan.com.vn/cho-thue-can-ho-chung-cu-mini-duong-hoang-sa-phuong-da-kao/c-quan-1-noi-that-cao-cap-balcony-cua-so-troi-thang-may-gan-vong-xoay-dien-bien-phu-pr42685980: 're__icon-clock'\n"
     ]
    },
    {
     "name": "stderr",
     "output_type": "stream",
     "text": [
      "Processing batches:  73%|███████▎  | 849/1161 [1:50:25<36:29,  7.02s/it]"
     ]
    },
    {
     "name": "stdout",
     "output_type": "stream",
     "text": [
      "Using Chrome with user agent: Mozilla/5.0 (Macintosh; Intel Mac OS X 10_15_7) AppleWebKit/537.36 (KHTML, like Gecko) Chrome/99.0.4844.84 Safari/537.36\n",
      "All Chrome initialization methods failed: Message: Can not connect to the Service /Users/macbook/.wdm/drivers/chromedriver/mac64/135.0.7049.95/chromedriver-mac-arm64/chromedriver\n",
      "\n",
      "All Chrome initialization methods failed: Message: Can not connect to the Service /Users/macbook/.wdm/drivers/chromedriver/mac64/135.0.7049.95/chromedriver-mac-arm64/chromedriver\n",
      "\n"
     ]
    },
    {
     "name": "stderr",
     "output_type": "stream",
     "text": [
      "Service process refused to terminate gracefully with SIGTERM, escalating to SIGKILL.\n",
      "Traceback (most recent call last):\n",
      "  File \"/Users/macbook/Desktop/BecasaNetwork/crawl/scrapepage.py\", line 132, in init_driver\n",
      "    driver = uc.Chrome(version_main=135, options=options)  # Specify a version that works with your Chrome\n",
      "  File \"/Users/macbook/Desktop/BecasaNetwork/crawl/env/lib/python3.13/site-packages/undetected_chromedriver/__init__.py\", line 466, in __init__\n",
      "    super(Chrome, self).__init__(\n",
      "    ~~~~~~~~~~~~~~~~~~~~~~~~~~~~^\n",
      "        service=service,\n",
      "        ^^^^^^^^^^^^^^^^\n",
      "        options=options,\n",
      "        ^^^^^^^^^^^^^^^^\n",
      "        keep_alive=keep_alive,\n",
      "        ^^^^^^^^^^^^^^^^^^^^^^\n",
      "    )\n",
      "    ^\n",
      "  File \"/Users/macbook/Desktop/BecasaNetwork/crawl/env/lib/python3.13/site-packages/selenium/webdriver/chrome/webdriver.py\", line 45, in __init__\n",
      "    super().__init__(\n",
      "    ~~~~~~~~~~~~~~~~^\n",
      "        browser_name=DesiredCapabilities.CHROME[\"browserName\"],\n",
      "        ^^^^^^^^^^^^^^^^^^^^^^^^^^^^^^^^^^^^^^^^^^^^^^^^^^^^^^^\n",
      "    ...<3 lines>...\n",
      "        keep_alive=keep_alive,\n",
      "        ^^^^^^^^^^^^^^^^^^^^^^\n",
      "    )\n",
      "    ^\n",
      "  File \"/Users/macbook/Desktop/BecasaNetwork/crawl/env/lib/python3.13/site-packages/selenium/webdriver/chromium/webdriver.py\", line 55, in __init__\n",
      "    self.service.start()\n",
      "    ~~~~~~~~~~~~~~~~~~^^\n",
      "  File \"/Users/macbook/Desktop/BecasaNetwork/crawl/env/lib/python3.13/site-packages/selenium/webdriver/common/service.py\", line 120, in start\n",
      "    raise WebDriverException(f\"Can not connect to the Service {self._path}\")\n",
      "selenium.common.exceptions.WebDriverException: Message: Can not connect to the Service /Users/macbook/Library/Application Support/undetected_chromedriver/undetected_chromedriver\n",
      "\n",
      "\n",
      "During handling of the above exception, another exception occurred:\n",
      "\n",
      "Traceback (most recent call last):\n",
      "  File \"/Users/macbook/Desktop/BecasaNetwork/crawl/scrapepage.py\", line 139, in init_driver\n",
      "    driver = uc.Chrome(driver_executable_path=driver_path, options=options)\n",
      "  File \"/Users/macbook/Desktop/BecasaNetwork/crawl/env/lib/python3.13/site-packages/undetected_chromedriver/__init__.py\", line 269, in __init__\n",
      "    raise RuntimeError(\"you cannot reuse the ChromeOptions object\")\n",
      "RuntimeError: you cannot reuse the ChromeOptions object\n",
      "\n",
      "During handling of the above exception, another exception occurred:\n",
      "\n",
      "Traceback (most recent call last):\n",
      "  File \"/Users/macbook/Desktop/BecasaNetwork/crawl/scrapepage.py\", line 166, in scrape_page\n",
      "    driver = init_driver()\n",
      "  File \"/Users/macbook/Desktop/BecasaNetwork/crawl/scrapepage.py\", line 147, in init_driver\n",
      "    driver = webdriver.Chrome(service=service, options=options)\n",
      "  File \"/Users/macbook/Desktop/BecasaNetwork/crawl/env/lib/python3.13/site-packages/selenium/webdriver/chrome/webdriver.py\", line 45, in __init__\n",
      "    super().__init__(\n",
      "    ~~~~~~~~~~~~~~~~^\n",
      "        browser_name=DesiredCapabilities.CHROME[\"browserName\"],\n",
      "        ^^^^^^^^^^^^^^^^^^^^^^^^^^^^^^^^^^^^^^^^^^^^^^^^^^^^^^^\n",
      "    ...<3 lines>...\n",
      "        keep_alive=keep_alive,\n",
      "        ^^^^^^^^^^^^^^^^^^^^^^\n",
      "    )\n",
      "    ^\n",
      "  File \"/Users/macbook/Desktop/BecasaNetwork/crawl/env/lib/python3.13/site-packages/selenium/webdriver/chromium/webdriver.py\", line 55, in __init__\n",
      "    self.service.start()\n",
      "    ~~~~~~~~~~~~~~~~~~^^\n",
      "  File \"/Users/macbook/Desktop/BecasaNetwork/crawl/env/lib/python3.13/site-packages/selenium/webdriver/common/service.py\", line 120, in start\n",
      "    raise WebDriverException(f\"Can not connect to the Service {self._path}\")\n",
      "selenium.common.exceptions.WebDriverException: Message: Can not connect to the Service /Users/macbook/.wdm/drivers/chromedriver/mac64/135.0.7049.95/chromedriver-mac-arm64/chromedriver\n",
      "\n",
      "\n",
      "During handling of the above exception, another exception occurred:\n",
      "\n",
      "UnboundLocalError: cannot access local variable 'url' where it is not associated with a value\n",
      "\n",
      "During handling of the above exception, another exception occurred:\n",
      "\n",
      "Traceback (most recent call last):\n",
      "  File \"/Users/macbook/Desktop/BecasaNetwork/crawl/env/lib/python3.13/site-packages/selenium/webdriver/common/service.py\", line 184, in _terminate_process\n",
      "    self.process.wait(60)\n",
      "    ~~~~~~~~~~~~~~~~~^^^^\n",
      "  File \"/opt/homebrew/Cellar/python@3.13/3.13.2/Frameworks/Python.framework/Versions/3.13/lib/python3.13/subprocess.py\", line 1276, in wait\n",
      "    return self._wait(timeout=timeout)\n",
      "           ~~~~~~~~~~^^^^^^^^^^^^^^^^^\n",
      "  File \"/opt/homebrew/Cellar/python@3.13/3.13.2/Frameworks/Python.framework/Versions/3.13/lib/python3.13/subprocess.py\", line 2060, in _wait\n",
      "    raise TimeoutExpired(self.args, timeout)\n",
      "subprocess.TimeoutExpired: Command '['/Users/macbook/.wdm/drivers/chromedriver/mac64/135.0.7049.95/chromedriver-mac-arm64/chromedriver', '--port=54760']' timed out after 60 seconds\n",
      "Processing batches:  73%|███████▎  | 850/1161 [1:51:34<2:12:53, 25.64s/it]"
     ]
    },
    {
     "name": "stdout",
     "output_type": "stream",
     "text": [
      "Error processing batch ['https://batdongsan.com.vn/cho-thue-can-ho-chung-cu-duong-nguyen-huu-canh-phuong-22-prj-the-manor-tp-ho-chi-minh/c-gap-3-png-ngu-dien-tich-164m2-gia-30-trieu-full-noi-that-lh-0913212198-pr13638057']: cannot access local variable 'url' where it is not associated with a value\n"
     ]
    },
    {
     "name": "stderr",
     "output_type": "stream",
     "text": [
      "Service process refused to terminate gracefully with SIGTERM, escalating to SIGKILL.\n",
      "Traceback (most recent call last):\n",
      "  File \"/Users/macbook/Desktop/BecasaNetwork/crawl/scrapepage.py\", line 132, in init_driver\n",
      "    driver = uc.Chrome(version_main=135, options=options)  # Specify a version that works with your Chrome\n",
      "  File \"/Users/macbook/Desktop/BecasaNetwork/crawl/env/lib/python3.13/site-packages/undetected_chromedriver/__init__.py\", line 258, in __init__\n",
      "    self.patcher.auto()\n",
      "    ~~~~~~~~~~~~~~~~~^^\n",
      "  File \"/Users/macbook/Desktop/BecasaNetwork/crawl/env/lib/python3.13/site-packages/undetected_chromedriver/patcher.py\", line 178, in auto\n",
      "    self.unzip_package(self.fetch_package())\n",
      "    ~~~~~~~~~~~~~~~~~~^^^^^^^^^^^^^^^^^^^^^^\n",
      "  File \"/Users/macbook/Desktop/BecasaNetwork/crawl/env/lib/python3.13/site-packages/undetected_chromedriver/patcher.py\", line 310, in unzip_package\n",
      "    os.rename(os.path.join(self.zip_path, exe_path), self.executable_path)\n",
      "    ~~~~~~~~~^^^^^^^^^^^^^^^^^^^^^^^^^^^^^^^^^^^^^^^^^^^^^^^^^^^^^^^^^^^^^\n",
      "FileNotFoundError: [Errno 2] No such file or directory: '/Users/macbook/Library/Application Support/undetected_chromedriver/undetected/chromedriver-mac-x64/chromedriver' -> '/Users/macbook/Library/Application Support/undetected_chromedriver/undetected_chromedriver'\n",
      "\n",
      "During handling of the above exception, another exception occurred:\n",
      "\n",
      "Traceback (most recent call last):\n",
      "  File \"/Users/macbook/Desktop/BecasaNetwork/crawl/scrapepage.py\", line 139, in init_driver\n",
      "    driver = uc.Chrome(driver_executable_path=driver_path, options=options)\n",
      "  File \"/Users/macbook/Desktop/BecasaNetwork/crawl/env/lib/python3.13/site-packages/undetected_chromedriver/__init__.py\", line 466, in __init__\n",
      "    super(Chrome, self).__init__(\n",
      "    ~~~~~~~~~~~~~~~~~~~~~~~~~~~~^\n",
      "        service=service,\n",
      "        ^^^^^^^^^^^^^^^^\n",
      "        options=options,\n",
      "        ^^^^^^^^^^^^^^^^\n",
      "        keep_alive=keep_alive,\n",
      "        ^^^^^^^^^^^^^^^^^^^^^^\n",
      "    )\n",
      "    ^\n",
      "  File \"/Users/macbook/Desktop/BecasaNetwork/crawl/env/lib/python3.13/site-packages/selenium/webdriver/chrome/webdriver.py\", line 45, in __init__\n",
      "    super().__init__(\n",
      "    ~~~~~~~~~~~~~~~~^\n",
      "        browser_name=DesiredCapabilities.CHROME[\"browserName\"],\n",
      "        ^^^^^^^^^^^^^^^^^^^^^^^^^^^^^^^^^^^^^^^^^^^^^^^^^^^^^^^\n",
      "    ...<3 lines>...\n",
      "        keep_alive=keep_alive,\n",
      "        ^^^^^^^^^^^^^^^^^^^^^^\n",
      "    )\n",
      "    ^\n",
      "  File \"/Users/macbook/Desktop/BecasaNetwork/crawl/env/lib/python3.13/site-packages/selenium/webdriver/chromium/webdriver.py\", line 55, in __init__\n",
      "    self.service.start()\n",
      "    ~~~~~~~~~~~~~~~~~~^^\n",
      "  File \"/Users/macbook/Desktop/BecasaNetwork/crawl/env/lib/python3.13/site-packages/selenium/webdriver/common/service.py\", line 120, in start\n",
      "    raise WebDriverException(f\"Can not connect to the Service {self._path}\")\n",
      "selenium.common.exceptions.WebDriverException: Message: Can not connect to the Service /Users/macbook/.wdm/drivers/chromedriver/mac64/135.0.7049.95/chromedriver-mac-arm64/chromedriver\n",
      "\n",
      "\n",
      "During handling of the above exception, another exception occurred:\n",
      "\n",
      "Traceback (most recent call last):\n",
      "  File \"/Users/macbook/Desktop/BecasaNetwork/crawl/scrapepage.py\", line 166, in scrape_page\n",
      "    driver = init_driver()\n",
      "  File \"/Users/macbook/Desktop/BecasaNetwork/crawl/scrapepage.py\", line 147, in init_driver\n",
      "    driver = webdriver.Chrome(service=service, options=options)\n",
      "  File \"/Users/macbook/Desktop/BecasaNetwork/crawl/env/lib/python3.13/site-packages/selenium/webdriver/chrome/webdriver.py\", line 45, in __init__\n",
      "    super().__init__(\n",
      "    ~~~~~~~~~~~~~~~~^\n",
      "        browser_name=DesiredCapabilities.CHROME[\"browserName\"],\n",
      "        ^^^^^^^^^^^^^^^^^^^^^^^^^^^^^^^^^^^^^^^^^^^^^^^^^^^^^^^\n",
      "    ...<3 lines>...\n",
      "        keep_alive=keep_alive,\n",
      "        ^^^^^^^^^^^^^^^^^^^^^^\n",
      "    )\n",
      "    ^\n",
      "  File \"/Users/macbook/Desktop/BecasaNetwork/crawl/env/lib/python3.13/site-packages/selenium/webdriver/chromium/webdriver.py\", line 55, in __init__\n",
      "    self.service.start()\n",
      "    ~~~~~~~~~~~~~~~~~~^^\n",
      "  File \"/Users/macbook/Desktop/BecasaNetwork/crawl/env/lib/python3.13/site-packages/selenium/webdriver/common/service.py\", line 120, in start\n",
      "    raise WebDriverException(f\"Can not connect to the Service {self._path}\")\n",
      "selenium.common.exceptions.WebDriverException: Message: Can not connect to the Service /Users/macbook/.wdm/drivers/chromedriver/mac64/135.0.7049.95/chromedriver-mac-arm64/chromedriver\n",
      "\n",
      "\n",
      "During handling of the above exception, another exception occurred:\n",
      "\n",
      "UnboundLocalError: cannot access local variable 'url' where it is not associated with a value\n",
      "\n",
      "During handling of the above exception, another exception occurred:\n",
      "\n",
      "Traceback (most recent call last):\n",
      "  File \"/Users/macbook/Desktop/BecasaNetwork/crawl/env/lib/python3.13/site-packages/selenium/webdriver/common/service.py\", line 184, in _terminate_process\n",
      "    self.process.wait(60)\n",
      "    ~~~~~~~~~~~~~~~~~^^^^\n",
      "  File \"/opt/homebrew/Cellar/python@3.13/3.13.2/Frameworks/Python.framework/Versions/3.13/lib/python3.13/subprocess.py\", line 1276, in wait\n",
      "    return self._wait(timeout=timeout)\n",
      "           ~~~~~~~~~~^^^^^^^^^^^^^^^^^\n",
      "  File \"/opt/homebrew/Cellar/python@3.13/3.13.2/Frameworks/Python.framework/Versions/3.13/lib/python3.13/subprocess.py\", line 2060, in _wait\n",
      "    raise TimeoutExpired(self.args, timeout)\n",
      "subprocess.TimeoutExpired: Command '['/Users/macbook/.wdm/drivers/chromedriver/mac64/135.0.7049.95/chromedriver-mac-arm64/chromedriver', '--port=62064']' timed out after 60 seconds\n",
      "Processing batches:  73%|███████▎  | 851/1161 [1:51:34<1:33:18, 18.06s/it]"
     ]
    },
    {
     "name": "stdout",
     "output_type": "stream",
     "text": [
      "Error processing batch ['https://batdongsan.com.vn/cho-thue-can-ho-chung-cu-mini-duong-huynh-tan-phat-phuong-phu-thuan-3/c-png-trong-dich-vu-tai-cc-long-son-3-8-tr-thang-day-du-tien-ich-pr42274939']: cannot access local variable 'url' where it is not associated with a value\n",
      "Using Chrome with user agent: Mozilla/5.0 (Macintosh; Intel Mac OS X 10_15_7) AppleWebKit/537.36 (KHTML, like Gecko) Chrome/100.0.4896.127 Safari/537.36\n",
      "Using Chrome with user agent: Mozilla/5.0 (Windows NT 10.0; Win64; x64) AppleWebKit/537.36 (KHTML, like Gecko) Chrome/99.0.4844.84 Safari/537.36\n"
     ]
    },
    {
     "name": "stderr",
     "output_type": "stream",
     "text": [
      "Processing batches:  73%|███████▎  | 852/1161 [1:51:42<1:17:53, 15.12s/it]"
     ]
    },
    {
     "name": "stdout",
     "output_type": "stream",
     "text": [
      "Error scraping url https://batdongsan.com.vn/cho-thue-can-ho-chung-cu-duong-dai-lo-vong-cung-phuong-an-khanh-prj-the-galleria-residence/c-2-png-ngu-full-noi-that-quan-2-view-song-ngam-ang-n-gia-36-trieu-pr42720044: 're__icon-clock'\n",
      "Error scraping url https://batdongsan.com.vn/cho-thue-can-ho-chung-cu-mini-duong-dong-du-phuong-da-kao/cho-cc-29m2-tai-q1-hcm-chi-voi-gia-sieu-hoi-7-trieu-vnd-pr42720022: 're__icon-clock'\n"
     ]
    },
    {
     "name": "stderr",
     "output_type": "stream",
     "text": [
      "Processing batches:  73%|███████▎  | 853/1161 [1:51:45<58:40, 11.43s/it]  "
     ]
    },
    {
     "name": "stdout",
     "output_type": "stream",
     "text": [
      "Using Chrome with user agent: Mozilla/5.0 (Windows NT 10.0; Win64; x64) AppleWebKit/537.36 (KHTML, like Gecko) Chrome/100.0.4896.127 Safari/537.36\n",
      "Using Chrome with user agent: Mozilla/5.0 (Macintosh; Intel Mac OS X 10_15_7) AppleWebKit/537.36 (KHTML, like Gecko) Chrome/100.0.4896.127 Safari/537.36\n",
      "Error scraping url https://batdongsan.com.vn/cho-thue-can-ho-chung-cu-duong-ben-van-don-phuong-12-prj-the-tresor/cho-gap-cc-1pn-28m2-tai-13-trieu-q4-hcm-pr42720267: 're__icon-clock'\n"
     ]
    },
    {
     "name": "stderr",
     "output_type": "stream",
     "text": [
      "Processing batches:  74%|███████▎  | 854/1161 [1:51:50<48:09,  9.41s/it]"
     ]
    },
    {
     "name": "stdout",
     "output_type": "stream",
     "text": [
      "Using Chrome with user agent: Mozilla/5.0 (Macintosh; Intel Mac OS X 10_15_7) AppleWebKit/537.36 (KHTML, like Gecko) Chrome/100.0.4896.127 Safari/537.36\n",
      "Error scraping url https://batdongsan.com.vn/cho-thue-can-ho-chung-cu-xa-phu-xuan-prj-phu-gia-cotec/cho-thu-ch-full-nt-dep-moi-dt-75m2-2pn-2wc-cc-ochip-gan-truong-hoc-gan-ubnd-h-nha-be-pr42719679: 're__icon-clock'\n"
     ]
    },
    {
     "name": "stderr",
     "output_type": "stream",
     "text": [
      "Processing batches:  74%|███████▎  | 855/1161 [1:51:56<43:09,  8.46s/it]"
     ]
    },
    {
     "name": "stdout",
     "output_type": "stream",
     "text": [
      "Error scraping url https://batdongsan.com.vn/cho-thue-can-ho-chung-cu-mini-duong-phan-van-tri-phuong-10-8-prj-cityland-park-hills/cho-cc-1pn-1wc-40m2-gia-tot-tai-go-vap-tp-hcm-pr42720352: 're__icon-clock'\n"
     ]
    },
    {
     "name": "stderr",
     "output_type": "stream",
     "text": [
      "Processing batches:  74%|███████▎  | 856/1161 [1:51:57<31:49,  6.26s/it]"
     ]
    },
    {
     "name": "stdout",
     "output_type": "stream",
     "text": [
      "Using Chrome with user agent: Mozilla/5.0 (Windows NT 10.0; Win64; x64) AppleWebKit/537.36 (KHTML, like Gecko) Chrome/99.0.4844.84 Safari/537.36\n",
      "Using Chrome with user agent: Mozilla/5.0 (Macintosh; Intel Mac OS X 10_15_7) AppleWebKit/537.36 (KHTML, like Gecko) Chrome/99.0.4844.84 Safari/537.36\n"
     ]
    },
    {
     "name": "stderr",
     "output_type": "stream",
     "text": [
      "Processing batches:  74%|███████▍  | 857/1161 [1:52:07<37:07,  7.33s/it]"
     ]
    },
    {
     "name": "stdout",
     "output_type": "stream",
     "text": [
      "Error scraping url https://batdongsan.com.vn/cho-thue-can-ho-chung-cu-mini-duong-nguyen-bieu-phuong-1-15/cho-chdv-hem-giap-quan-1-3-4-7-pr42478159: 're__icon-private-house'\n",
      "Error scraping url https://batdongsan.com.vn/cho-thue-can-ho-chung-cu-phuong-long-binh-3-prj-the-beverly-solari-vinhomes-grand-park/cho-2pn-2wc-60m2-tai-gia-7-trieu-co-vao-o-ngay-pr42719759: 're__icon-clock'\n"
     ]
    },
    {
     "name": "stderr",
     "output_type": "stream",
     "text": [
      "Processing batches:  74%|███████▍  | 858/1161 [1:52:11<31:19,  6.20s/it]"
     ]
    },
    {
     "name": "stdout",
     "output_type": "stream",
     "text": [
      "Error scraping url https://batdongsan.com.vn/cho-thue-can-ho-chung-cu-duong-vo-nguyen-giap-phuong-an-phu-prj-lumiere-riverside/cho-3pn-ntcb-lau-cao-view-song-chi-35-trieu-thang-bao-phi-quan-ly-pr42719511: 're__icon-clock'\n"
     ]
    },
    {
     "name": "stderr",
     "output_type": "stream",
     "text": [
      "Processing batches:  74%|███████▍  | 859/1161 [1:52:12<23:30,  4.67s/it]"
     ]
    },
    {
     "name": "stdout",
     "output_type": "stream",
     "text": [
      "Using Chrome with user agent: Mozilla/5.0 (Macintosh; Intel Mac OS X 10_15_7) AppleWebKit/537.36 (KHTML, like Gecko) Chrome/99.0.4844.84 Safari/537.36\n",
      "Error scraping url https://batdongsan.com.vn/cho-thue-nha-tro-phong-tro-duong-quang-trung-phuong-11-8/-cho-moi-100-day-du-tien-nghi-doi-dien-cho-hanh-thong-tay-trung-pr42719916: 're__icon-front-view'\n"
     ]
    },
    {
     "name": "stderr",
     "output_type": "stream",
     "text": [
      "Processing batches:  74%|███████▍  | 860/1161 [1:52:15<21:38,  4.31s/it]"
     ]
    },
    {
     "name": "stdout",
     "output_type": "stream",
     "text": [
      "Using Chrome with user agent: Mozilla/5.0 (Macintosh; Intel Mac OS X 10_15_7) AppleWebKit/537.36 (KHTML, like Gecko) Chrome/99.0.4844.84 Safari/537.36\n",
      "Using Chrome with user agent: Mozilla/5.0 (Macintosh; Intel Mac OS X 10_15_7) AppleWebKit/537.36 (KHTML, like Gecko) Chrome/100.0.4896.127 Safari/537.36\n",
      "Error scraping url https://batdongsan.com.vn/cho-thue-can-ho-chung-cu-mini-duong-truong-sa-phuong-14-1/1-phong-ngu-cao-cap-65m2-bancol-ngay-bo-ke-noi-that-ngoai-nhap-decor-sieu-co-gu-pr42719604: 're__icon-clock'\n"
     ]
    },
    {
     "name": "stderr",
     "output_type": "stream",
     "text": [
      "Processing batches:  74%|███████▍  | 861/1161 [1:52:21<23:47,  4.76s/it]"
     ]
    },
    {
     "name": "stdout",
     "output_type": "stream",
     "text": [
      "Using Chrome with user agent: Mozilla/5.0 (Macintosh; Intel Mac OS X 10_15_7) AppleWebKit/537.36 (KHTML, like Gecko) Chrome/100.0.4896.127 Safari/537.36\n",
      "Using Chrome with user agent: Mozilla/5.0 (Windows NT 10.0; Win64; x64) AppleWebKit/537.36 (KHTML, like Gecko) Chrome/99.0.4844.84 Safari/537.36\n",
      "Error scraping url https://batdongsan.com.vn/cho-thue-can-ho-chung-cu-duong-le-quang-kim-phuong-8-9-prj-diamond-lotus-phuc-khang/cho-7-5-tr-th-1pn-50m2-moi-nha-dep-cao-cap-trung-tam-q1-3-4-5-7-8-lh-0903303626-pr26324447: 're__icon-front-view'\n"
     ]
    },
    {
     "name": "stderr",
     "output_type": "stream",
     "text": [
      "Processing batches:  74%|███████▍  | 862/1161 [1:52:33<34:21,  6.90s/it]"
     ]
    },
    {
     "name": "stdout",
     "output_type": "stream",
     "text": [
      "Error scraping url https://batdongsan.com.vn/cho-thue-can-ho-chung-cu-duong-truong-luu-phuong-long-truong-prj-chung-cu-mt-eastmark-city/cho-studio-co-san-vuon-day-du-noi-that-gia-5-5-trieu-thang-tai-q9-pr42719218: 're__icon-clock'\n"
     ]
    },
    {
     "name": "stderr",
     "output_type": "stream",
     "text": [
      "Processing batches:  74%|███████▍  | 863/1161 [1:52:34<25:01,  5.04s/it]"
     ]
    },
    {
     "name": "stdout",
     "output_type": "stream",
     "text": [
      "Error scraping url https://batdongsan.com.vn/cho-thue-can-ho-chung-cu-duong-pham-huu-lau-phuong-phu-my-9-prj-belleza-apartment/cho-cc-15-trieu-124m2-3pn-2wc-q7-hcm-chi-voi-nhieu-tien-ich-pr42284928: 're__icon-front-view'\n"
     ]
    },
    {
     "name": "stderr",
     "output_type": "stream",
     "text": [
      "Processing batches:  74%|███████▍  | 864/1161 [1:52:37<22:35,  4.56s/it]"
     ]
    },
    {
     "name": "stdout",
     "output_type": "stream",
     "text": [
      "Using Chrome with user agent: Mozilla/5.0 (Macintosh; Intel Mac OS X 10_15_7) AppleWebKit/537.36 (KHTML, like Gecko) Chrome/100.0.4896.127 Safari/537.36\n",
      "Using Chrome with user agent: Mozilla/5.0 (Macintosh; Intel Mac OS X 10_15_7) AppleWebKit/537.36 (KHTML, like Gecko) Chrome/100.0.4896.127 Safari/537.36\n",
      "Error scraping url https://batdongsan.com.vn/cho-thue-can-ho-chung-cu-mini-duong-ton-that-thuyet-phuong-15/iris-home-studio-q4-moi-2025-thich-hop-cap-doi-gia-dinh-mt-thuyet-pr42023143: 're__icon-front-view'\n"
     ]
    },
    {
     "name": "stderr",
     "output_type": "stream",
     "text": [
      "Processing batches:  75%|███████▍  | 865/1161 [1:52:41<21:35,  4.38s/it]"
     ]
    },
    {
     "name": "stdout",
     "output_type": "stream",
     "text": [
      "Using Chrome with user agent: Mozilla/5.0 (Macintosh; Intel Mac OS X 10_15_7) AppleWebKit/537.36 (KHTML, like Gecko) Chrome/100.0.4896.127 Safari/537.36\n",
      "Error scraping url https://batdongsan.com.vn/cho-thue-can-ho-chung-cu-duong-3-2-2-phuong-12-5-prj-hado-centrosa-garden/c-4pn-gia-ta-thuan-139m2-tai-q10-hcm-pr42139827: 're__icon-front-view'\n"
     ]
    },
    {
     "name": "stderr",
     "output_type": "stream",
     "text": [
      "Processing batches:  75%|███████▍  | 866/1161 [1:52:43<18:03,  3.67s/it]"
     ]
    },
    {
     "name": "stdout",
     "output_type": "stream",
     "text": [
      "Error scraping url https://batdongsan.com.vn/cho-thue-can-ho-chung-cu-mini-duong-bach-dang-phuong-2-22/-1-png-ngu-ban-cong-70m2-ngay-san-bay-tan-son-nhat-quan-tan-binh-sat-quan-3-pr42718883: 're__icon-front-view'\n",
      "Using Chrome with user agent: Mozilla/5.0 (Windows NT 10.0; Win64; x64) AppleWebKit/537.36 (KHTML, like Gecko) Chrome/99.0.4844.84 Safari/537.36\n"
     ]
    },
    {
     "name": "stderr",
     "output_type": "stream",
     "text": [
      "Processing batches:  75%|███████▍  | 867/1161 [1:52:47<17:59,  3.67s/it]"
     ]
    },
    {
     "name": "stdout",
     "output_type": "stream",
     "text": [
      "Using Chrome with user agent: Mozilla/5.0 (Windows NT 10.0; Win64; x64) AppleWebKit/537.36 (KHTML, like Gecko) Chrome/99.0.4844.84 Safari/537.36\n",
      "Using Chrome with user agent: Mozilla/5.0 (Windows NT 10.0; Win64; x64) AppleWebKit/537.36 (KHTML, like Gecko) Chrome/100.0.4896.127 Safari/537.36\n",
      "Error scraping url https://batdongsan.com.vn/cho-thue-can-ho-chung-cu-mini-duong-nguyen-thi-dinh-phuong-cat-lai/phong-cao-cap-full-noi-that-chi-tu-3-trieu-khu-vuc-quan-2-pr42133241: 're__icon-clock'\n"
     ]
    },
    {
     "name": "stderr",
     "output_type": "stream",
     "text": [
      "Processing batches:  75%|███████▍  | 868/1161 [1:52:57<28:16,  5.79s/it]"
     ]
    },
    {
     "name": "stdout",
     "output_type": "stream",
     "text": [
      "Using Chrome with user agent: Mozilla/5.0 (Macintosh; Intel Mac OS X 10_15_7) AppleWebKit/537.36 (KHTML, like Gecko) Chrome/100.0.4896.127 Safari/537.36\n",
      "Error scraping url https://batdongsan.com.vn/cho-thue-can-ho-chung-cu-phuong-tan-phu-19-prj-chung-cu-hung-phuc/cho-ch-happy-residence-nha-moi-100-pmh-nha-dep-canh-truong-canada-lh-pr42613600: 're__icon-front-view'\n"
     ]
    },
    {
     "name": "stderr",
     "output_type": "stream",
     "text": [
      "Processing batches:  75%|███████▍  | 869/1161 [1:53:06<32:25,  6.66s/it]"
     ]
    },
    {
     "name": "stdout",
     "output_type": "stream",
     "text": [
      "Error scraping url https://batdongsan.com.vn/cho-thue-nha-tro-phong-tro-xa-binh-hung-1-prj-khu-dan-cu-6b-intresco/cho-kdc-ngay-pham-noi-dai-30m2-full-noi-that-gia-4-5tr-thang-pr42587174: 're__icon-clock'\n"
     ]
    },
    {
     "name": "stderr",
     "output_type": "stream",
     "text": [
      "Processing batches:  75%|███████▍  | 870/1161 [1:53:09<26:33,  5.48s/it]"
     ]
    },
    {
     "name": "stdout",
     "output_type": "stream",
     "text": [
      "Using Chrome with user agent: Mozilla/5.0 (Windows NT 10.0; Win64; x64) AppleWebKit/537.36 (KHTML, like Gecko) Chrome/99.0.4844.84 Safari/537.36\n",
      "Using Chrome with user agent: Mozilla/5.0 (Macintosh; Intel Mac OS X 10_15_7) AppleWebKit/537.36 (KHTML, like Gecko) Chrome/100.0.4896.127 Safari/537.36\n",
      "Error scraping url https://batdongsan.com.vn/cho-thue-can-ho-chung-cu-phuong-tan-phu-19-prj-midtown-phu-my-hung/c-q7-2pn-view-biet-thu-full-noi-that-gia-23tr-th-lh-pr41054124: 're__icon-front-view'\n"
     ]
    },
    {
     "name": "stderr",
     "output_type": "stream",
     "text": [
      "Processing batches:  75%|███████▌  | 871/1161 [1:53:17<30:40,  6.35s/it]"
     ]
    },
    {
     "name": "stdout",
     "output_type": "stream",
     "text": [
      "Error scraping url https://batdongsan.com.vn/cho-thue-can-ho-chung-cu-duong-nguyen-van-troi-phuong-8-13-prj-kingston-residence/bql-cap-nhat-gio-hang-c-top-10-dep-gia-tot-nhat-english-below-pr40908916: 're__icon-front-view'\n"
     ]
    },
    {
     "name": "stderr",
     "output_type": "stream",
     "text": [
      "Processing batches:  75%|███████▌  | 872/1161 [1:53:18<22:24,  4.65s/it]"
     ]
    },
    {
     "name": "stdout",
     "output_type": "stream",
     "text": [
      "Using Chrome with user agent: Mozilla/5.0 (Macintosh; Intel Mac OS X 10_15_7) AppleWebKit/537.36 (KHTML, like Gecko) Chrome/99.0.4844.84 Safari/537.36\n",
      "Using Chrome with user agent: Mozilla/5.0 (Macintosh; Intel Mac OS X 10_15_7) AppleWebKit/537.36 (KHTML, like Gecko) Chrome/100.0.4896.127 Safari/537.36\n",
      "Error scraping url https://batdongsan.com.vn/cho-thue-can-ho-chung-cu-mini-duong-nguyen-cuu-van-phuong-17-1/-video-cho-ch-studio-moi-p17-binh-thanh-full-noi-that-nhu-hinh-gio-tu-do-pr42718490: 're__icon-clock'\n"
     ]
    },
    {
     "name": "stderr",
     "output_type": "stream",
     "text": [
      "Processing batches:  75%|███████▌  | 873/1161 [1:53:33<36:45,  7.66s/it]"
     ]
    },
    {
     "name": "stdout",
     "output_type": "stream",
     "text": [
      "Using Chrome with user agent: Mozilla/5.0 (Windows NT 10.0; Win64; x64) AppleWebKit/537.36 (KHTML, like Gecko) Chrome/100.0.4896.127 Safari/537.36\n",
      "Error scraping url https://batdongsan.com.vn/cho-thue-can-ho-chung-cu-mini-duong-34-2-phuong-hiep-binh-phuoc-prj-khu-do-thi-van-phuc-city/-2pn-3wc-full-noi-that-cao-cap-city-pr41507675: 're__icon-document'\n"
     ]
    },
    {
     "name": "stderr",
     "output_type": "stream",
     "text": [
      "Processing batches:  75%|███████▌  | 874/1161 [1:53:49<48:29, 10.14s/it]"
     ]
    },
    {
     "name": "stdout",
     "output_type": "stream",
     "text": [
      "Using Chrome with user agent: Mozilla/5.0 (Windows NT 10.0; Win64; x64) AppleWebKit/537.36 (KHTML, like Gecko) Chrome/100.0.4896.127 Safari/537.36\n",
      "Error scraping url https://batdongsan.com.vn/cho-thue-can-ho-chung-cu-phuong-tan-phu-19-prj-the-peak/c-mau-2pn-dien-tich-lon-moi-100-dep-nhat-midtown-m8-pr42415927: 're__icon-front-view'\n"
     ]
    },
    {
     "name": "stderr",
     "output_type": "stream",
     "text": [
      "Processing batches:  75%|███████▌  | 875/1161 [1:54:03<53:44, 11.28s/it]"
     ]
    },
    {
     "name": "stdout",
     "output_type": "stream",
     "text": [
      "Error scraping url https://batdongsan.com.vn/cho-thue-nha-tro-phong-tro-pho-tran-xuan-soan-phuong-tan-hung-14/-dep-full-noi-that-trung-tam-q7-di-chuyen-q4-18-gan-lotte-mart-cau-kenh-te-pr42714563: 're__icon-clock'\n"
     ]
    },
    {
     "name": "stderr",
     "output_type": "stream",
     "text": [
      "Processing batches:  75%|███████▌  | 876/1161 [1:54:05<40:21,  8.50s/it]"
     ]
    },
    {
     "name": "stdout",
     "output_type": "stream",
     "text": [
      "Using Chrome with user agent: Mozilla/5.0 (Macintosh; Intel Mac OS X 10_15_7) AppleWebKit/537.36 (KHTML, like Gecko) Chrome/99.0.4844.84 Safari/537.36\n",
      "Using Chrome with user agent: Mozilla/5.0 (Macintosh; Intel Mac OS X 10_15_7) AppleWebKit/537.36 (KHTML, like Gecko) Chrome/99.0.4844.84 Safari/537.36\n",
      "Error scraping url https://batdongsan.com.vn/cho-thue-can-ho-chung-cu-phuong-long-binh-3-prj-the-beverly-solari-vinhomes-grand-park/chu-nha-cho-2-phong-ngu-dt-80m2-full-noi-that-hien-dai-view-noi-khu-thoang-mat-pr42717745: 're__icon-front-view'\n"
     ]
    },
    {
     "name": "stderr",
     "output_type": "stream",
     "text": [
      "Processing batches:  76%|███████▌  | 878/1161 [1:54:13<28:57,  6.14s/it]"
     ]
    },
    {
     "name": "stdout",
     "output_type": "stream",
     "text": [
      "Error scraping url https://batdongsan.com.vn/cho-thue-can-ho-chung-cu-mini-duong-quoc-lo-13-phuong-hiep-binh-phuoc-prj-khu-do-thi-van-phuc-city/c-2pn-80m2-an-thien-full-noi-that-cao-cap-gia-14-trieu-tl-pr41286601: 're__icon-front-view'\n",
      "Using Chrome with user agent: Mozilla/5.0 (Macintosh; Intel Mac OS X 10_15_7) AppleWebKit/537.36 (KHTML, like Gecko) Chrome/100.0.4896.127 Safari/537.36\n",
      "Using Chrome with user agent: Mozilla/5.0 (Windows NT 10.0; Win64; x64) AppleWebKit/537.36 (KHTML, like Gecko) Chrome/99.0.4844.84 Safari/537.36\n",
      "Error scraping url https://batdongsan.com.vn/cho-thue-can-ho-chung-cu-duong-nguyen-huu-tho-xa-phuoc-kieng-prj-sunrise-riverside/cho-ot-reversde-lien-ke-phu-my-hung-gia-6-5t-lh-pr41385894: 're__icon-front-view'\n"
     ]
    },
    {
     "name": "stderr",
     "output_type": "stream",
     "text": [
      "Processing batches:  76%|███████▌  | 879/1161 [1:54:24<35:48,  7.62s/it]"
     ]
    },
    {
     "name": "stdout",
     "output_type": "stream",
     "text": [
      "Using Chrome with user agent: Mozilla/5.0 (Macintosh; Intel Mac OS X 10_15_7) AppleWebKit/537.36 (KHTML, like Gecko) Chrome/100.0.4896.127 Safari/537.36\n"
     ]
    },
    {
     "name": "stderr",
     "output_type": "stream",
     "text": [
      "Processing batches:  76%|███████▌  | 880/1161 [1:54:32<36:41,  7.83s/it]"
     ]
    },
    {
     "name": "stdout",
     "output_type": "stream",
     "text": [
      "Error scraping url https://batdongsan.com.vn/cho-thue-can-ho-chung-cu-duong-15b-phuong-phu-my-9-prj-the-era-town/gd-chuyen-noi-o-c-2pn-duc-khai-q7-gia-8tr5-th-full-nt-lh-pr42041048: 're__icon-front-view'\n",
      "Using Chrome with user agent: Mozilla/5.0 (Macintosh; Intel Mac OS X 10_15_7) AppleWebKit/537.36 (KHTML, like Gecko) Chrome/100.0.4896.127 Safari/537.36\n",
      "Error scraping url https://batdongsan.com.vn/cho-thue-can-ho-chung-cu-duong-au-co-phuong-tan-son-nhi-prj-melody-residences/chuyen-cho-chcc-97m2-3pn-2wc-nha-dep-gia-re-ni-na-pr41117148: 're__icon-clock'\n"
     ]
    },
    {
     "name": "stderr",
     "output_type": "stream",
     "text": [
      "Processing batches:  76%|███████▌  | 881/1161 [1:54:44<42:18,  9.07s/it]"
     ]
    },
    {
     "name": "stdout",
     "output_type": "stream",
     "text": [
      "Using Chrome with user agent: Mozilla/5.0 (Macintosh; Intel Mac OS X 10_15_7) AppleWebKit/537.36 (KHTML, like Gecko) Chrome/99.0.4844.84 Safari/537.36\n",
      "Error scraping url https://batdongsan.com.vn/cho-thue-can-ho-chung-cu-pho-ba-huyen-thanh-quan-phuong-vo-thi-sau-prj-saigon-pavillon/cho-ch-2pn-2wc-78m2-tai-20-trieu-vnd-lh-pr42602299: HTTPConnectionPool(host='localhost', port=52498): Read timed out. (read timeout=120)\n"
     ]
    },
    {
     "name": "stderr",
     "output_type": "stream",
     "text": [
      "Processing batches:  76%|███████▌  | 882/1161 [1:55:31<1:35:34, 20.55s/it]"
     ]
    },
    {
     "name": "stdout",
     "output_type": "stream",
     "text": [
      "Using Chrome with user agent: Mozilla/5.0 (Macintosh; Intel Mac OS X 10_15_7) AppleWebKit/537.36 (KHTML, like Gecko) Chrome/100.0.4896.127 Safari/537.36\n",
      "Error scraping url https://batdongsan.com.vn/cho-thue-can-ho-chung-cu-phuong-an-phu-prj-imperia-an-phu/hot-cho-chcc-q2-3-phong-ngu-gia-tot-28tr-th-mien-phi-1-xe-hoi-2-xe-may-nha-dep-pr42600540: HTTPConnectionPool(host='localhost', port=52542): Read timed out. (read timeout=120)\n"
     ]
    },
    {
     "name": "stderr",
     "output_type": "stream",
     "text": [
      "Processing batches:  76%|███████▌  | 883/1161 [1:55:40<1:18:41, 16.99s/it]"
     ]
    },
    {
     "name": "stdout",
     "output_type": "stream",
     "text": [
      "Error scraping url https://batdongsan.com.vn/cho-thue-nha-tro-phong-tro-duong-le-duc-tho-phuong-13-8/sieu-hiem-moi-xay-100-gia-3-trieu-go-vap-pr41512210: 're__icon-clock'\n"
     ]
    },
    {
     "name": "stderr",
     "output_type": "stream",
     "text": [
      "Processing batches:  76%|███████▌  | 884/1161 [1:55:42<57:53, 12.54s/it]  "
     ]
    },
    {
     "name": "stdout",
     "output_type": "stream",
     "text": [
      "Using Chrome with user agent: Mozilla/5.0 (Macintosh; Intel Mac OS X 10_15_7) AppleWebKit/537.36 (KHTML, like Gecko) Chrome/100.0.4896.127 Safari/537.36\n",
      "Using Chrome with user agent: Mozilla/5.0 (Windows NT 10.0; Win64; x64) AppleWebKit/537.36 (KHTML, like Gecko) Chrome/100.0.4896.127 Safari/537.36\n"
     ]
    },
    {
     "name": "stderr",
     "output_type": "stream",
     "text": [
      "Processing batches:  76%|███████▌  | 885/1161 [1:55:48<48:47, 10.61s/it]"
     ]
    },
    {
     "name": "stdout",
     "output_type": "stream",
     "text": [
      "Error scraping url https://batdongsan.com.vn/cho-thue-can-ho-chung-cu-mini-phuong-12-3/-cao-cap-ngay-kinh-duong-vuong-pr42712437: 're__icon-clock'\n",
      "Using Chrome with user agent: Mozilla/5.0 (Macintosh; Intel Mac OS X 10_15_7) AppleWebKit/537.36 (KHTML, like Gecko) Chrome/99.0.4844.84 Safari/537.36\n",
      "Error scraping url https://batdongsan.com.vn/cho-thue-can-ho-chung-cu-mini-duong-truong-son-phuong-2-22/c-co-ban-cong-tan-binh-full-noi-that-gan-san-bay-chi-5-trieu-t-pr42715402: 're__icon-clock'\n"
     ]
    },
    {
     "name": "stderr",
     "output_type": "stream",
     "text": [
      "Processing batches:  76%|███████▋  | 886/1161 [1:55:54<42:07,  9.19s/it]"
     ]
    },
    {
     "name": "stdout",
     "output_type": "stream",
     "text": [
      "Using Chrome with user agent: Mozilla/5.0 (Windows NT 10.0; Win64; x64) AppleWebKit/537.36 (KHTML, like Gecko) Chrome/99.0.4844.84 Safari/537.36\n"
     ]
    },
    {
     "name": "stderr",
     "output_type": "stream",
     "text": [
      "Processing batches:  76%|███████▋  | 887/1161 [1:56:02<39:41,  8.69s/it]"
     ]
    },
    {
     "name": "stdout",
     "output_type": "stream",
     "text": [
      "Error scraping url https://batdongsan.com.vn/cho-thue-can-ho-chung-cu-duong-nguyen-huu-canh-phuong-22-prj-vinhomes-central-park/cho-cc-2pn-2wc-80m2-tai-22-trieu-vnd-pr42184707: 're__icon-clock'\n",
      "Error scraping url https://batdongsan.com.vn/cho-thue-can-ho-chung-cu-mini-duong-cong-hoa-phuong-13-10/studio-ban-moi-ken-ngay-cau-vuot-ng-tham-gia-chi-tu-5-700-000-pr42714831: 're__icon-clock'\n"
     ]
    },
    {
     "name": "stderr",
     "output_type": "stream",
     "text": [
      "Processing batches:  76%|███████▋  | 888/1161 [1:56:06<33:10,  7.29s/it]"
     ]
    },
    {
     "name": "stdout",
     "output_type": "stream",
     "text": [
      "Using Chrome with user agent: Mozilla/5.0 (Windows NT 10.0; Win64; x64) AppleWebKit/537.36 (KHTML, like Gecko) Chrome/99.0.4844.84 Safari/537.36\n",
      "Error scraping url https://batdongsan.com.vn/cho-thue-nha-tro-phong-tro-duong-10-phuong-tan-phu-19/studio-moi-khai-truong-noi-that-cuc-xin-o-duoc-1-2-nguoi-thoai-mai-ngay-sat-my-hung-pr42710923: 're__icon-front-view'\n"
     ]
    },
    {
     "name": "stderr",
     "output_type": "stream",
     "text": [
      "Processing batches:  77%|███████▋  | 889/1161 [1:56:10<28:51,  6.36s/it]"
     ]
    },
    {
     "name": "stdout",
     "output_type": "stream",
     "text": [
      "First method failed: Message: Service /Users/macbook/Library/Application Support/undetected_chromedriver/undetected_chromedriver unexpectedly exited. Status code was: -9\n",
      "\n",
      "Using Chrome driver at: /Users/macbook/.wdm/drivers/chromedriver/mac64/135.0.7049.95/chromedriver-mac-arm64/chromedriver\n",
      "Second method failed: you cannot reuse the ChromeOptions object\n",
      "Error scraping url https://batdongsan.com.vn/cho-thue-can-ho-chung-cu-pho-ton-duc-thang-phuong-ben-nghe-prj-vinhomes-golden-river-ba-son/c-vinmes-19-trieu-50m2-q1-hcm-gia-sieu-i-pr42716940: 're__icon-clock'\n"
     ]
    },
    {
     "name": "stderr",
     "output_type": "stream",
     "text": [
      "Processing batches:  77%|███████▋  | 890/1161 [1:56:11<21:23,  4.73s/it]"
     ]
    },
    {
     "name": "stdout",
     "output_type": "stream",
     "text": [
      "Using Chrome with user agent: Mozilla/5.0 (Windows NT 10.0; Win64; x64) AppleWebKit/537.36 (KHTML, like Gecko) Chrome/100.0.4896.127 Safari/537.36\n",
      "Using Chrome with user agent: Mozilla/5.0 (Macintosh; Intel Mac OS X 10_15_7) AppleWebKit/537.36 (KHTML, like Gecko) Chrome/99.0.4844.84 Safari/537.36\n",
      "Error scraping url https://batdongsan.com.vn/cho-thue-can-ho-chung-cu-duong-dai-lo-dong-tay-phuong-16-1-prj-carina-plaza/-c-q8-dt-99m2-2-png-ngu-2wc-gia-8tr-th-lh-pr42717057: HTTPConnectionPool(host='localhost', port=53449): Read timed out. (read timeout=120)\n"
     ]
    },
    {
     "name": "stderr",
     "output_type": "stream",
     "text": [
      "Processing batches:  77%|███████▋  | 891/1161 [1:56:18<24:28,  5.44s/it]"
     ]
    },
    {
     "name": "stdout",
     "output_type": "stream",
     "text": [
      "Error scraping url https://batdongsan.com.vn/cho-thue-can-ho-chung-cu-pho-ta-quang-buu-phuong-6-10-prj-tara-residence/-c-gap-q8-dt-85m2-2-png-ngu-nha-day-du-noi-that-gia-12tr-th-pr42598286: 're__icon-private-house'\n"
     ]
    },
    {
     "name": "stderr",
     "output_type": "stream",
     "text": [
      "Processing batches:  77%|███████▋  | 892/1161 [1:56:18<17:41,  3.95s/it]"
     ]
    },
    {
     "name": "stdout",
     "output_type": "stream",
     "text": [
      "Using Chrome with user agent: Mozilla/5.0 (Windows NT 10.0; Win64; x64) AppleWebKit/537.36 (KHTML, like Gecko) Chrome/100.0.4896.127 Safari/537.36\n",
      "Using Chrome with user agent: Mozilla/5.0 (Windows NT 10.0; Win64; x64) AppleWebKit/537.36 (KHTML, like Gecko) Chrome/99.0.4844.84 Safari/537.36\n",
      "Error scraping url https://batdongsan.com.vn/cho-thue-can-ho-chung-cu-mini-duong-truong-son-phuong-4-20/studio-full-nt-ma-con-xin-xo-nam-sat-san-bay-quan-tan-binh-pr42711185: 're__icon-clock'\n"
     ]
    },
    {
     "name": "stderr",
     "output_type": "stream",
     "text": [
      "Processing batches:  77%|███████▋  | 893/1161 [1:56:27<24:03,  5.39s/it]"
     ]
    },
    {
     "name": "stdout",
     "output_type": "stream",
     "text": [
      "Error scraping url https://batdongsan.com.vn/cho-thue-can-ho-chung-cu-duong-go-dua-phuong-hiep-binh-phuoc-prj-sunview-town/-full-noi-that-chi-7-5tr-thang-o-ngay-lh-a-quoc-pr42716914: 're__icon-clock'\n"
     ]
    },
    {
     "name": "stderr",
     "output_type": "stream",
     "text": [
      "Processing batches:  77%|███████▋  | 894/1161 [1:56:28<18:18,  4.11s/it]"
     ]
    },
    {
     "name": "stdout",
     "output_type": "stream",
     "text": [
      "Using Chrome with user agent: Mozilla/5.0 (Windows NT 10.0; Win64; x64) AppleWebKit/537.36 (KHTML, like Gecko) Chrome/100.0.4896.127 Safari/537.36\n",
      "Using Chrome with user agent: Mozilla/5.0 (Macintosh; Intel Mac OS X 10_15_7) AppleWebKit/537.36 (KHTML, like Gecko) Chrome/99.0.4844.84 Safari/537.36\n",
      "Error scraping url https://batdongsan.com.vn/cho-thue-can-ho-chung-cu-phuong-phu-my-9-prj-the-era-town/c-duc-khai-quan-7-pr41749692: 're__icon-document'\n"
     ]
    },
    {
     "name": "stderr",
     "output_type": "stream",
     "text": [
      "Processing batches:  77%|███████▋  | 895/1161 [1:56:36<22:57,  5.18s/it]"
     ]
    },
    {
     "name": "stdout",
     "output_type": "stream",
     "text": [
      "Using Chrome with user agent: Mozilla/5.0 (Macintosh; Intel Mac OS X 10_15_7) AppleWebKit/537.36 (KHTML, like Gecko) Chrome/100.0.4896.127 Safari/537.36\n",
      "Error scraping url https://batdongsan.com.vn/cho-thue-can-ho-chung-cu-phuong-tan-phu-19-prj-canh-vien-1/cho-nhanh-1-view-cong-thoang-mat-gia-25tr-thang-lh-pr42184084: 're__icon-clock'\n"
     ]
    },
    {
     "name": "stderr",
     "output_type": "stream",
     "text": [
      "Processing batches:  77%|███████▋  | 896/1161 [1:56:44<26:48,  6.07s/it]"
     ]
    },
    {
     "name": "stdout",
     "output_type": "stream",
     "text": [
      "All Chrome initialization methods failed: Message: Can not connect to the Service /Users/macbook/.wdm/drivers/chromedriver/mac64/135.0.7049.95/chromedriver-mac-arm64/chromedriver\n",
      "\n",
      "Error scraping url https://batdongsan.com.vn/cho-thue-can-ho-chung-cu-phuong-long-binh-3-prj-lumiere-boulevard/c-70m-tai-noi-that-day-du-o-ngay-gia-7-2-trieu-pr42652911: 're__icon-front-view'\n"
     ]
    },
    {
     "name": "stderr",
     "output_type": "stream",
     "text": [
      "Processing batches:  77%|███████▋  | 897/1161 [1:56:46<20:28,  4.65s/it]"
     ]
    },
    {
     "name": "stdout",
     "output_type": "stream",
     "text": [
      "Error scraping url https://batdongsan.com.vn/cho-thue-can-ho-chung-cu-mini-duong-lam-son-phuong-2-22/studio-1pn-2pn-ban-cong-lon-full-noi-that-cao-cap-co-may-giat-rieng-ngay-san-bay-tan-nhat-pr42713476: 're__icon-clock'\n"
     ]
    },
    {
     "name": "stderr",
     "output_type": "stream",
     "text": [
      "Processing batches:  77%|███████▋  | 898/1161 [1:56:48<17:49,  4.07s/it]"
     ]
    },
    {
     "name": "stdout",
     "output_type": "stream",
     "text": [
      "Using Chrome with user agent: Mozilla/5.0 (Windows NT 10.0; Win64; x64) AppleWebKit/537.36 (KHTML, like Gecko) Chrome/100.0.4896.127 Safari/537.36\n",
      "Using Chrome with user agent: Mozilla/5.0 (Macintosh; Intel Mac OS X 10_15_7) AppleWebKit/537.36 (KHTML, like Gecko) Chrome/100.0.4896.127 Safari/537.36\n",
      "Error scraping url https://batdongsan.com.vn/cho-thue-can-ho-chung-cu-duong-phu-thuan-phuong-tan-phu-19-prj-sunshine-sky-city/chi-11-5-trieu-thang-c-2pn-gia-tot-nhat-quan-7-pr42647318: 're__icon-front-view'\n"
     ]
    },
    {
     "name": "stderr",
     "output_type": "stream",
     "text": [
      "Processing batches:  77%|███████▋  | 899/1161 [1:56:53<18:51,  4.32s/it]"
     ]
    },
    {
     "name": "stdout",
     "output_type": "stream",
     "text": [
      "Using Chrome with user agent: Mozilla/5.0 (Macintosh; Intel Mac OS X 10_15_7) AppleWebKit/537.36 (KHTML, like Gecko) Chrome/100.0.4896.127 Safari/537.36\n",
      "Using Chrome with user agent: Mozilla/5.0 (Windows NT 10.0; Win64; x64) AppleWebKit/537.36 (KHTML, like Gecko) Chrome/100.0.4896.127 Safari/537.36\n",
      "Error scraping url https://batdongsan.com.vn/cho-thue-can-ho-chung-cu-mini-duong-tran-hung-dao-phuong-cau-kho/chinh-chu-c-studio-cua-so-lon-full-noi-that-ngay-trung-tam-quan-5-pr42713356: 're__icon-clock'\n"
     ]
    },
    {
     "name": "stderr",
     "output_type": "stream",
     "text": [
      "Processing batches:  78%|███████▊  | 900/1161 [1:57:00<21:54,  5.04s/it]"
     ]
    },
    {
     "name": "stdout",
     "output_type": "stream",
     "text": [
      "Error scraping url https://batdongsan.com.vn/cho-thue-can-ho-chung-cu-mini-phuong-tan-quy/c-co-gac-full-noi-that-gan-lotte-nguyen-thi-thap-gia-tot-pr42714494: 're__icon-electricity'\n"
     ]
    },
    {
     "name": "stderr",
     "output_type": "stream",
     "text": [
      "Processing batches:  78%|███████▊  | 901/1161 [1:57:03<19:51,  4.58s/it]"
     ]
    },
    {
     "name": "stdout",
     "output_type": "stream",
     "text": [
      "Using Chrome with user agent: Mozilla/5.0 (Windows NT 10.0; Win64; x64) AppleWebKit/537.36 (KHTML, like Gecko) Chrome/100.0.4896.127 Safari/537.36\n",
      "Error scraping url https://batdongsan.com.vn/cho-thue-nha-tro-phong-tro-phuong-7-11/cho-50m2-9-trieu-7-phu-nhuan-view-dep-gia-uu-dai-pr42714986: 're__icon-front-view'\n"
     ]
    },
    {
     "name": "stderr",
     "output_type": "stream",
     "text": [
      "Processing batches:  78%|███████▊  | 902/1161 [1:57:07<18:25,  4.27s/it]"
     ]
    },
    {
     "name": "stdout",
     "output_type": "stream",
     "text": [
      "Using Chrome with user agent: Mozilla/5.0 (Macintosh; Intel Mac OS X 10_15_7) AppleWebKit/537.36 (KHTML, like Gecko) Chrome/100.0.4896.127 Safari/537.36\n",
      "Using Chrome with user agent: Mozilla/5.0 (Windows NT 10.0; Win64; x64) AppleWebKit/537.36 (KHTML, like Gecko) Chrome/99.0.4844.84 Safari/537.36\n"
     ]
    },
    {
     "name": "stderr",
     "output_type": "stream",
     "text": [
      "Processing batches:  78%|███████▊  | 903/1161 [1:57:12<19:43,  4.59s/it]"
     ]
    },
    {
     "name": "stdout",
     "output_type": "stream",
     "text": [
      "Error scraping url https://batdongsan.com.vn/cho-thue-can-ho-chung-cu-duong-nguyen-huu-tho-xa-phuoc-kieng-prj-hung-phat-silver-star/chinh-chu-gui-c-2-gia-10-tr-th-lh-pr41441592: 're__icon-document'\n",
      "Using Chrome with user agent: Mozilla/5.0 (Macintosh; Intel Mac OS X 10_15_7) AppleWebKit/537.36 (KHTML, like Gecko) Chrome/99.0.4844.84 Safari/537.36\n",
      "Error scraping url https://batdongsan.com.vn/cho-thue-can-ho-chung-cu-duong-hong-ha-phuong-2-22-prj-botanica-premier/c-50m2-1pn-du-noi-that-o-lien-gia-13-tr-thang-lh-pr42705078: 're__icon-clock'\n"
     ]
    },
    {
     "name": "stderr",
     "output_type": "stream",
     "text": [
      "Processing batches:  78%|███████▊  | 905/1161 [1:57:23<19:00,  4.46s/it]"
     ]
    },
    {
     "name": "stdout",
     "output_type": "stream",
     "text": [
      "Error scraping url https://batdongsan.com.vn/cho-thue-can-ho-chung-cu-duong-vo-van-kiet-phuong-an-lac-6-prj-akari-city-nam-long/cho-3pn-full-noi-that-tai-binh-tan-sach-valy-vao-o-pr42411306: 're__icon-front-view'\n",
      "Using Chrome with user agent: Mozilla/5.0 (Macintosh; Intel Mac OS X 10_15_7) AppleWebKit/537.36 (KHTML, like Gecko) Chrome/99.0.4844.84 Safari/537.36\n",
      "Using Chrome with user agent: Mozilla/5.0 (Macintosh; Intel Mac OS X 10_15_7) AppleWebKit/537.36 (KHTML, like Gecko) Chrome/99.0.4844.84 Safari/537.36\n",
      "Error scraping url https://batdongsan.com.vn/cho-thue-can-ho-chung-cu-duong-nguyen-van-linh-phuong-tan-thuan-tay-1-prj-ascent-lakeside/cho-nha-rieng-15-trieu-vnd-70m2-view-dep-gia-cuc-chat-pr42709571: 're__icon-front-view'\n"
     ]
    },
    {
     "name": "stderr",
     "output_type": "stream",
     "text": [
      "Processing batches:  78%|███████▊  | 906/1161 [1:57:31<23:51,  5.61s/it]"
     ]
    },
    {
     "name": "stdout",
     "output_type": "stream",
     "text": [
      "Error scraping url https://batdongsan.com.vn/cho-thue-nha-tro-phong-tro-phuong-7-11/cho-50m2-9-trieu-7-phu-nhuan-view-dep-gia-uu-dai-pr42716343: 're__icon-front-view'\n"
     ]
    },
    {
     "name": "stderr",
     "output_type": "stream",
     "text": [
      "Processing batches:  78%|███████▊  | 907/1161 [1:57:32<18:18,  4.32s/it]"
     ]
    },
    {
     "name": "stdout",
     "output_type": "stream",
     "text": [
      "Using Chrome with user agent: Mozilla/5.0 (Windows NT 10.0; Win64; x64) AppleWebKit/537.36 (KHTML, like Gecko) Chrome/100.0.4896.127 Safari/537.36\n",
      "Using Chrome with user agent: Mozilla/5.0 (Macintosh; Intel Mac OS X 10_15_7) AppleWebKit/537.36 (KHTML, like Gecko) Chrome/99.0.4844.84 Safari/537.36\n",
      "Error scraping url https://batdongsan.com.vn/cho-thue-can-ho-chung-cu-duong-nguyen-thi-thap-phuong-tan-phu-19-prj-can-ho-cosmo-city/chuyen-c-tai-q7-gia-25tr-thang-3pn-nt-moi-dep-pr39521215: 're__icon-front-view'\n"
     ]
    },
    {
     "name": "stderr",
     "output_type": "stream",
     "text": [
      "Processing batches:  78%|███████▊  | 909/1161 [1:57:40<15:48,  3.77s/it]"
     ]
    },
    {
     "name": "stdout",
     "output_type": "stream",
     "text": [
      "Error scraping url https://batdongsan.com.vn/cho-thue-nha-tro-phong-tro-duong-nguyen-kiem-phuong-9-12/duplex-cua-so-ban-cong-full-noi-that-cao-cap-moi-100-gan-cong-vien-gia-dinh-khu-vuc-phu-nhuan-pr40707641: 're__icon-clock'\n",
      "Using Chrome with user agent: Mozilla/5.0 (Windows NT 10.0; Win64; x64) AppleWebKit/537.36 (KHTML, like Gecko) Chrome/99.0.4844.84 Safari/537.36\n",
      "Using Chrome with user agent: Mozilla/5.0 (Windows NT 10.0; Win64; x64) AppleWebKit/537.36 (KHTML, like Gecko) Chrome/100.0.4896.127 Safari/537.36\n"
     ]
    },
    {
     "name": "stderr",
     "output_type": "stream",
     "text": [
      "Service process refused to terminate gracefully with SIGTERM, escalating to SIGKILL.\n",
      "Traceback (most recent call last):\n",
      "  File \"/Users/macbook/Desktop/BecasaNetwork/crawl/scrapepage.py\", line 132, in init_driver\n",
      "    driver = uc.Chrome(version_main=135, options=options)  # Specify a version that works with your Chrome\n",
      "  File \"/Users/macbook/Desktop/BecasaNetwork/crawl/env/lib/python3.13/site-packages/undetected_chromedriver/__init__.py\", line 466, in __init__\n",
      "    super(Chrome, self).__init__(\n",
      "    ~~~~~~~~~~~~~~~~~~~~~~~~~~~~^\n",
      "        service=service,\n",
      "        ^^^^^^^^^^^^^^^^\n",
      "        options=options,\n",
      "        ^^^^^^^^^^^^^^^^\n",
      "        keep_alive=keep_alive,\n",
      "        ^^^^^^^^^^^^^^^^^^^^^^\n",
      "    )\n",
      "    ^\n",
      "  File \"/Users/macbook/Desktop/BecasaNetwork/crawl/env/lib/python3.13/site-packages/selenium/webdriver/chrome/webdriver.py\", line 45, in __init__\n",
      "    super().__init__(\n",
      "    ~~~~~~~~~~~~~~~~^\n",
      "        browser_name=DesiredCapabilities.CHROME[\"browserName\"],\n",
      "        ^^^^^^^^^^^^^^^^^^^^^^^^^^^^^^^^^^^^^^^^^^^^^^^^^^^^^^^\n",
      "    ...<3 lines>...\n",
      "        keep_alive=keep_alive,\n",
      "        ^^^^^^^^^^^^^^^^^^^^^^\n",
      "    )\n",
      "    ^\n",
      "  File \"/Users/macbook/Desktop/BecasaNetwork/crawl/env/lib/python3.13/site-packages/selenium/webdriver/chromium/webdriver.py\", line 55, in __init__\n",
      "    self.service.start()\n",
      "    ~~~~~~~~~~~~~~~~~~^^\n",
      "  File \"/Users/macbook/Desktop/BecasaNetwork/crawl/env/lib/python3.13/site-packages/selenium/webdriver/common/service.py\", line 113, in start\n",
      "    self.assert_process_still_running()\n",
      "    ~~~~~~~~~~~~~~~~~~~~~~~~~~~~~~~~~^^\n",
      "  File \"/Users/macbook/Desktop/BecasaNetwork/crawl/env/lib/python3.13/site-packages/selenium/webdriver/common/service.py\", line 126, in assert_process_still_running\n",
      "    raise WebDriverException(f\"Service {self._path} unexpectedly exited. Status code was: {return_code}\")\n",
      "selenium.common.exceptions.WebDriverException: Message: Service /Users/macbook/Library/Application Support/undetected_chromedriver/undetected_chromedriver unexpectedly exited. Status code was: -9\n",
      "\n",
      "\n",
      "During handling of the above exception, another exception occurred:\n",
      "\n",
      "Traceback (most recent call last):\n",
      "  File \"/Users/macbook/Desktop/BecasaNetwork/crawl/scrapepage.py\", line 139, in init_driver\n",
      "    driver = uc.Chrome(driver_executable_path=driver_path, options=options)\n",
      "  File \"/Users/macbook/Desktop/BecasaNetwork/crawl/env/lib/python3.13/site-packages/undetected_chromedriver/__init__.py\", line 269, in __init__\n",
      "    raise RuntimeError(\"you cannot reuse the ChromeOptions object\")\n",
      "RuntimeError: you cannot reuse the ChromeOptions object\n",
      "\n",
      "During handling of the above exception, another exception occurred:\n",
      "\n",
      "Traceback (most recent call last):\n",
      "  File \"/Users/macbook/Desktop/BecasaNetwork/crawl/scrapepage.py\", line 166, in scrape_page\n",
      "    driver = init_driver()\n",
      "  File \"/Users/macbook/Desktop/BecasaNetwork/crawl/scrapepage.py\", line 147, in init_driver\n",
      "    driver = webdriver.Chrome(service=service, options=options)\n",
      "  File \"/Users/macbook/Desktop/BecasaNetwork/crawl/env/lib/python3.13/site-packages/selenium/webdriver/chrome/webdriver.py\", line 45, in __init__\n",
      "    super().__init__(\n",
      "    ~~~~~~~~~~~~~~~~^\n",
      "        browser_name=DesiredCapabilities.CHROME[\"browserName\"],\n",
      "        ^^^^^^^^^^^^^^^^^^^^^^^^^^^^^^^^^^^^^^^^^^^^^^^^^^^^^^^\n",
      "    ...<3 lines>...\n",
      "        keep_alive=keep_alive,\n",
      "        ^^^^^^^^^^^^^^^^^^^^^^\n",
      "    )\n",
      "    ^\n",
      "  File \"/Users/macbook/Desktop/BecasaNetwork/crawl/env/lib/python3.13/site-packages/selenium/webdriver/chromium/webdriver.py\", line 55, in __init__\n",
      "    self.service.start()\n",
      "    ~~~~~~~~~~~~~~~~~~^^\n",
      "  File \"/Users/macbook/Desktop/BecasaNetwork/crawl/env/lib/python3.13/site-packages/selenium/webdriver/common/service.py\", line 120, in start\n",
      "    raise WebDriverException(f\"Can not connect to the Service {self._path}\")\n",
      "selenium.common.exceptions.WebDriverException: Message: Can not connect to the Service /Users/macbook/.wdm/drivers/chromedriver/mac64/135.0.7049.95/chromedriver-mac-arm64/chromedriver\n",
      "\n",
      "\n",
      "During handling of the above exception, another exception occurred:\n",
      "\n",
      "UnboundLocalError: cannot access local variable 'url' where it is not associated with a value\n",
      "\n",
      "During handling of the above exception, another exception occurred:\n",
      "\n",
      "Traceback (most recent call last):\n",
      "  File \"/Users/macbook/Desktop/BecasaNetwork/crawl/env/lib/python3.13/site-packages/selenium/webdriver/common/service.py\", line 184, in _terminate_process\n",
      "    self.process.wait(60)\n",
      "    ~~~~~~~~~~~~~~~~~^^^^\n",
      "  File \"/opt/homebrew/Cellar/python@3.13/3.13.2/Frameworks/Python.framework/Versions/3.13/lib/python3.13/subprocess.py\", line 1276, in wait\n",
      "    return self._wait(timeout=timeout)\n",
      "           ~~~~~~~~~~^^^^^^^^^^^^^^^^^\n",
      "  File \"/opt/homebrew/Cellar/python@3.13/3.13.2/Frameworks/Python.framework/Versions/3.13/lib/python3.13/subprocess.py\", line 2060, in _wait\n",
      "    raise TimeoutExpired(self.args, timeout)\n",
      "subprocess.TimeoutExpired: Command '['/Users/macbook/.wdm/drivers/chromedriver/mac64/135.0.7049.95/chromedriver-mac-arm64/chromedriver', '--port=51204']' timed out after 60 seconds\n",
      "Processing batches:  78%|███████▊  | 910/1161 [1:57:44<16:46,  4.01s/it]"
     ]
    },
    {
     "name": "stdout",
     "output_type": "stream",
     "text": [
      "Error processing batch ['https://batdongsan.com.vn/cho-thue-can-ho-chung-cu-duong-nguyen-dinh-chieu-phuong-da-kao-prj-the-marq/cho-ch-q-1-gia-70-trieu-thang-pr42305277']: cannot access local variable 'url' where it is not associated with a value\n",
      "Error scraping url https://batdongsan.com.vn/cho-thue-can-ho-chung-cu-duong-truong-luu-phuong-long-truong-prj-chung-cu-mt-eastmark-city/-gia-soc-chi-4tr5-pr42266731: 're__icon-front-view'\n"
     ]
    },
    {
     "name": "stderr",
     "output_type": "stream",
     "text": [
      "Processing batches:  78%|███████▊  | 911/1161 [1:57:46<13:40,  3.28s/it]"
     ]
    },
    {
     "name": "stdout",
     "output_type": "stream",
     "text": [
      "Error scraping url https://batdongsan.com.vn/cho-thue-can-ho-chung-cu-duong-song-hanh-phuong-an-phu-prj-palm-heights/cho-2pn-2wc-85m2-goc-thoang-mat-tang-cao-gia-18-trieu-thang-pr42619165: 're__icon-clock'\n"
     ]
    },
    {
     "name": "stderr",
     "output_type": "stream",
     "text": [
      "Processing batches:  79%|███████▊  | 912/1161 [1:57:48<11:49,  2.85s/it]"
     ]
    },
    {
     "name": "stdout",
     "output_type": "stream",
     "text": [
      "First method failed: Message: Service /Users/macbook/Library/Application Support/undetected_chromedriver/undetected_chromedriver unexpectedly exited. Status code was: -9\n",
      "\n",
      "Using Chrome driver at: /Users/macbook/.wdm/drivers/chromedriver/mac64/135.0.7049.95/chromedriver-mac-arm64/chromedriver\n",
      "Second method failed: you cannot reuse the ChromeOptions object\n",
      "Using Chrome with user agent: Mozilla/5.0 (Windows NT 10.0; Win64; x64) AppleWebKit/537.36 (KHTML, like Gecko) Chrome/100.0.4896.127 Safari/537.36\n",
      "Using Chrome with user agent: Mozilla/5.0 (Windows NT 10.0; Win64; x64) AppleWebKit/537.36 (KHTML, like Gecko) Chrome/99.0.4844.84 Safari/537.36\n",
      "Error scraping url https://batdongsan.com.vn/cho-thue-can-ho-chung-cu-mini-duong-nguyen-khoai-phuong-8/cho-cc-2pn-1wc-50m2-11-5-trieu-tai-q4-hcm-pr42715551: 're__icon-electricity'\n"
     ]
    },
    {
     "name": "stderr",
     "output_type": "stream",
     "text": [
      "Processing batches:  79%|███████▊  | 913/1161 [1:58:03<26:52,  6.50s/it]"
     ]
    },
    {
     "name": "stdout",
     "output_type": "stream",
     "text": [
      "Error scraping url https://batdongsan.com.vn/cho-thue-can-ho-chung-cu-duong-pham-van-nghi-phuong-tan-phong-9-prj-sky-garden-3/sieu-t-c-gia-cuc-tot-lh-em-anh-pr41252925: 're__icon-document'\n"
     ]
    },
    {
     "name": "stderr",
     "output_type": "stream",
     "text": [
      "Processing batches:  79%|███████▊  | 914/1161 [1:58:04<20:01,  4.86s/it]"
     ]
    },
    {
     "name": "stdout",
     "output_type": "stream",
     "text": [
      "Using Chrome with user agent: Mozilla/5.0 (Windows NT 10.0; Win64; x64) AppleWebKit/537.36 (KHTML, like Gecko) Chrome/99.0.4844.84 Safari/537.36\n",
      "Using Chrome with user agent: Mozilla/5.0 (Macintosh; Intel Mac OS X 10_15_7) AppleWebKit/537.36 (KHTML, like Gecko) Chrome/100.0.4896.127 Safari/537.36\n",
      "Error scraping url https://batdongsan.com.vn/cho-thue-can-ho-chung-cu-mini-duong-bach-dang-phuong-2-20/khai-truong-dich-vu-ngay-trung-tam-binh-thanh-pr42484545: 're__icon-clock'\n"
     ]
    },
    {
     "name": "stderr",
     "output_type": "stream",
     "text": [
      "Processing batches:  79%|███████▉  | 915/1161 [1:58:12<24:46,  6.04s/it]"
     ]
    },
    {
     "name": "stdout",
     "output_type": "stream",
     "text": [
      "Error scraping url https://batdongsan.com.vn/cho-thue-can-ho-chung-cu-mini-duong-cong-hoa-phuong-12-10/-moi-xay-day-du-noi-that-ban-ang-a-tham-etown-k300-pr41493342: 're__icon-document'\n",
      "Using Chrome with user agent: Mozilla/5.0 (Windows NT 10.0; Win64; x64) AppleWebKit/537.36 (KHTML, like Gecko) Chrome/100.0.4896.127 Safari/537.36\n"
     ]
    },
    {
     "name": "stderr",
     "output_type": "stream",
     "text": [
      "Processing batches:  79%|███████▉  | 916/1161 [1:58:17<22:27,  5.50s/it]"
     ]
    },
    {
     "name": "stdout",
     "output_type": "stream",
     "text": [
      "Using Chrome with user agent: Mozilla/5.0 (Macintosh; Intel Mac OS X 10_15_7) AppleWebKit/537.36 (KHTML, like Gecko) Chrome/99.0.4844.84 Safari/537.36\n",
      "All Chrome initialization methods failed: Message: Can not connect to the Service /Users/macbook/.wdm/drivers/chromedriver/mac64/135.0.7049.95/chromedriver-mac-arm64/chromedriver\n",
      "\n",
      "Error scraping url https://batdongsan.com.vn/cho-thue-can-ho-chung-cu-duong-hoang-quoc-viet-phuong-phu-thuan-3-prj-river-panorama/c-2-png-ngu-1-ang-quan-7-pr42555721: 're__icon-private-house'\n"
     ]
    },
    {
     "name": "stderr",
     "output_type": "stream",
     "text": [
      "Processing batches:  79%|███████▉  | 917/1161 [1:58:23<23:41,  5.82s/it]"
     ]
    },
    {
     "name": "stdout",
     "output_type": "stream",
     "text": [
      "Using Chrome with user agent: Mozilla/5.0 (Windows NT 10.0; Win64; x64) AppleWebKit/537.36 (KHTML, like Gecko) Chrome/100.0.4896.127 Safari/537.36\n",
      "Error scraping url https://batdongsan.com.vn/cho-thue-nha-tro-phong-tro-duong-chu-van-an-phuong-12-7/cho-can-ho-dich-vu-duplex-day-du-noi-that-pr42714600: 're__icon-clock'\n"
     ]
    },
    {
     "name": "stderr",
     "output_type": "stream",
     "text": [
      "Processing batches:  79%|███████▉  | 918/1161 [1:58:33<28:35,  7.06s/it]"
     ]
    },
    {
     "name": "stdout",
     "output_type": "stream",
     "text": [
      "Using Chrome with user agent: Mozilla/5.0 (Windows NT 10.0; Win64; x64) AppleWebKit/537.36 (KHTML, like Gecko) Chrome/100.0.4896.127 Safari/537.36\n",
      "Error scraping url https://batdongsan.com.vn/cho-thue-can-ho-chung-cu-duong-truong-luu-phuong-long-truong-prj-chung-cu-mt-eastmark-city/cho-nhieu-65m2-co-may-lanh-rem-bep-may-hut-mui-gia-6-6-5-trieu-thang-lh-hanh-xem-nha-pr41693033: 're__icon-front-view'\n"
     ]
    },
    {
     "name": "stderr",
     "output_type": "stream",
     "text": [
      "Processing batches:  79%|███████▉  | 919/1161 [1:58:47<36:17,  9.00s/it]"
     ]
    },
    {
     "name": "stdout",
     "output_type": "stream",
     "text": [
      "Using Chrome with user agent: Mozilla/5.0 (Macintosh; Intel Mac OS X 10_15_7) AppleWebKit/537.36 (KHTML, like Gecko) Chrome/100.0.4896.127 Safari/537.36\n",
      "Error scraping url https://batdongsan.com.vn/cho-thue-can-ho-chung-cu-duong-dao-tri-phuong-phu-thuan-3-prj-q7-saigon-riverside/2-phong-ngu-view-song-chinh-chu-cho-m2-03-15-trieu-full-day-du-moi-100-sang-pr42400650: 're__icon-private-house'\n"
     ]
    },
    {
     "name": "stderr",
     "output_type": "stream",
     "text": [
      "Processing batches:  79%|███████▉  | 920/1161 [1:58:58<38:57,  9.70s/it]"
     ]
    },
    {
     "name": "stdout",
     "output_type": "stream",
     "text": [
      "Using Chrome with user agent: Mozilla/5.0 (Macintosh; Intel Mac OS X 10_15_7) AppleWebKit/537.36 (KHTML, like Gecko) Chrome/99.0.4844.84 Safari/537.36\n"
     ]
    },
    {
     "name": "stderr",
     "output_type": "stream",
     "text": [
      "Processing batches:  79%|███████▉  | 921/1161 [1:59:09<40:37, 10.16s/it]"
     ]
    },
    {
     "name": "stdout",
     "output_type": "stream",
     "text": [
      "Error scraping url https://batdongsan.com.vn/cho-thue-can-ho-chung-cu-duong-xa-lo-ha-noi-phuong-thao-dien-prj-masteri-an-phu/cho-ch-18-trieu-th-2pn-72m2-day-du-that-q2-hcm-pr42714198: 're__icon-document'\n",
      "Using Chrome with user agent: Mozilla/5.0 (Windows NT 10.0; Win64; x64) AppleWebKit/537.36 (KHTML, like Gecko) Chrome/99.0.4844.84 Safari/537.36\n"
     ]
    },
    {
     "name": "stderr",
     "output_type": "stream",
     "text": [
      "Service process refused to terminate gracefully with SIGTERM, escalating to SIGKILL.\n",
      "Traceback (most recent call last):\n",
      "  File \"/Users/macbook/Desktop/BecasaNetwork/crawl/scrapepage.py\", line 132, in init_driver\n",
      "    driver = uc.Chrome(version_main=135, options=options)  # Specify a version that works with your Chrome\n",
      "  File \"/Users/macbook/Desktop/BecasaNetwork/crawl/env/lib/python3.13/site-packages/undetected_chromedriver/__init__.py\", line 466, in __init__\n",
      "    super(Chrome, self).__init__(\n",
      "    ~~~~~~~~~~~~~~~~~~~~~~~~~~~~^\n",
      "        service=service,\n",
      "        ^^^^^^^^^^^^^^^^\n",
      "        options=options,\n",
      "        ^^^^^^^^^^^^^^^^\n",
      "        keep_alive=keep_alive,\n",
      "        ^^^^^^^^^^^^^^^^^^^^^^\n",
      "    )\n",
      "    ^\n",
      "  File \"/Users/macbook/Desktop/BecasaNetwork/crawl/env/lib/python3.13/site-packages/selenium/webdriver/chrome/webdriver.py\", line 45, in __init__\n",
      "    super().__init__(\n",
      "    ~~~~~~~~~~~~~~~~^\n",
      "        browser_name=DesiredCapabilities.CHROME[\"browserName\"],\n",
      "        ^^^^^^^^^^^^^^^^^^^^^^^^^^^^^^^^^^^^^^^^^^^^^^^^^^^^^^^\n",
      "    ...<3 lines>...\n",
      "        keep_alive=keep_alive,\n",
      "        ^^^^^^^^^^^^^^^^^^^^^^\n",
      "    )\n",
      "    ^\n",
      "  File \"/Users/macbook/Desktop/BecasaNetwork/crawl/env/lib/python3.13/site-packages/selenium/webdriver/chromium/webdriver.py\", line 55, in __init__\n",
      "    self.service.start()\n",
      "    ~~~~~~~~~~~~~~~~~~^^\n",
      "  File \"/Users/macbook/Desktop/BecasaNetwork/crawl/env/lib/python3.13/site-packages/selenium/webdriver/common/service.py\", line 113, in start\n",
      "    self.assert_process_still_running()\n",
      "    ~~~~~~~~~~~~~~~~~~~~~~~~~~~~~~~~~^^\n",
      "  File \"/Users/macbook/Desktop/BecasaNetwork/crawl/env/lib/python3.13/site-packages/selenium/webdriver/common/service.py\", line 126, in assert_process_still_running\n",
      "    raise WebDriverException(f\"Service {self._path} unexpectedly exited. Status code was: {return_code}\")\n",
      "selenium.common.exceptions.WebDriverException: Message: Service /Users/macbook/Library/Application Support/undetected_chromedriver/undetected_chromedriver unexpectedly exited. Status code was: -9\n",
      "\n",
      "\n",
      "During handling of the above exception, another exception occurred:\n",
      "\n",
      "Traceback (most recent call last):\n",
      "  File \"/Users/macbook/Desktop/BecasaNetwork/crawl/scrapepage.py\", line 139, in init_driver\n",
      "    driver = uc.Chrome(driver_executable_path=driver_path, options=options)\n",
      "  File \"/Users/macbook/Desktop/BecasaNetwork/crawl/env/lib/python3.13/site-packages/undetected_chromedriver/__init__.py\", line 269, in __init__\n",
      "    raise RuntimeError(\"you cannot reuse the ChromeOptions object\")\n",
      "RuntimeError: you cannot reuse the ChromeOptions object\n",
      "\n",
      "During handling of the above exception, another exception occurred:\n",
      "\n",
      "Traceback (most recent call last):\n",
      "  File \"/Users/macbook/Desktop/BecasaNetwork/crawl/scrapepage.py\", line 166, in scrape_page\n",
      "    driver = init_driver()\n",
      "  File \"/Users/macbook/Desktop/BecasaNetwork/crawl/scrapepage.py\", line 147, in init_driver\n",
      "    driver = webdriver.Chrome(service=service, options=options)\n",
      "  File \"/Users/macbook/Desktop/BecasaNetwork/crawl/env/lib/python3.13/site-packages/selenium/webdriver/chrome/webdriver.py\", line 45, in __init__\n",
      "    super().__init__(\n",
      "    ~~~~~~~~~~~~~~~~^\n",
      "        browser_name=DesiredCapabilities.CHROME[\"browserName\"],\n",
      "        ^^^^^^^^^^^^^^^^^^^^^^^^^^^^^^^^^^^^^^^^^^^^^^^^^^^^^^^\n",
      "    ...<3 lines>...\n",
      "        keep_alive=keep_alive,\n",
      "        ^^^^^^^^^^^^^^^^^^^^^^\n",
      "    )\n",
      "    ^\n",
      "  File \"/Users/macbook/Desktop/BecasaNetwork/crawl/env/lib/python3.13/site-packages/selenium/webdriver/chromium/webdriver.py\", line 55, in __init__\n",
      "    self.service.start()\n",
      "    ~~~~~~~~~~~~~~~~~~^^\n",
      "  File \"/Users/macbook/Desktop/BecasaNetwork/crawl/env/lib/python3.13/site-packages/selenium/webdriver/common/service.py\", line 120, in start\n",
      "    raise WebDriverException(f\"Can not connect to the Service {self._path}\")\n",
      "selenium.common.exceptions.WebDriverException: Message: Can not connect to the Service /Users/macbook/.wdm/drivers/chromedriver/mac64/135.0.7049.95/chromedriver-mac-arm64/chromedriver\n",
      "\n",
      "\n",
      "During handling of the above exception, another exception occurred:\n",
      "\n",
      "UnboundLocalError: cannot access local variable 'url' where it is not associated with a value\n",
      "\n",
      "During handling of the above exception, another exception occurred:\n",
      "\n",
      "Traceback (most recent call last):\n",
      "  File \"/Users/macbook/Desktop/BecasaNetwork/crawl/env/lib/python3.13/site-packages/selenium/webdriver/common/service.py\", line 184, in _terminate_process\n",
      "    self.process.wait(60)\n",
      "    ~~~~~~~~~~~~~~~~~^^^^\n",
      "  File \"/opt/homebrew/Cellar/python@3.13/3.13.2/Frameworks/Python.framework/Versions/3.13/lib/python3.13/subprocess.py\", line 1276, in wait\n",
      "    return self._wait(timeout=timeout)\n",
      "           ~~~~~~~~~~^^^^^^^^^^^^^^^^^\n",
      "  File \"/opt/homebrew/Cellar/python@3.13/3.13.2/Frameworks/Python.framework/Versions/3.13/lib/python3.13/subprocess.py\", line 2060, in _wait\n",
      "    raise TimeoutExpired(self.args, timeout)\n",
      "subprocess.TimeoutExpired: Command '['/Users/macbook/.wdm/drivers/chromedriver/mac64/135.0.7049.95/chromedriver-mac-arm64/chromedriver', '--port=65185']' timed out after 60 seconds\n",
      "Processing batches:  79%|███████▉  | 922/1161 [1:59:22<43:34, 10.94s/it]"
     ]
    },
    {
     "name": "stdout",
     "output_type": "stream",
     "text": [
      "Error processing batch ['https://batdongsan.com.vn/cho-thue-can-ho-chung-cu-mini-duong-tran-nao-phuong-an-khanh/-q2-cuc-chill-balcon-cua-so-tang-mat-gan-cau-sai-gon-pr40709743']: cannot access local variable 'url' where it is not associated with a value\n",
      "Using Chrome with user agent: Mozilla/5.0 (Macintosh; Intel Mac OS X 10_15_7) AppleWebKit/537.36 (KHTML, like Gecko) Chrome/100.0.4896.127 Safari/537.36\n",
      "Error scraping url https://batdongsan.com.vn/cho-thue-can-ho-chung-cu-duong-xo-viet-nghe-tinh-phuong-25-prj-green-field/that-hiem-i-gia-duy-nhat-11-trieu-vnd-65-m2-2pn-2wc-binh-thanh-hcm-pr42526743: 're__icon-front-view'\n"
     ]
    },
    {
     "name": "stderr",
     "output_type": "stream",
     "text": [
      "Processing batches:  80%|███████▉  | 923/1161 [1:59:28<37:14,  9.39s/it]"
     ]
    },
    {
     "name": "stdout",
     "output_type": "stream",
     "text": [
      "Using Chrome with user agent: Mozilla/5.0 (Macintosh; Intel Mac OS X 10_15_7) AppleWebKit/537.36 (KHTML, like Gecko) Chrome/99.0.4844.84 Safari/537.36\n",
      "Error scraping url https://batdongsan.com.vn/cho-thue-can-ho-chung-cu-mini-duong-nguyen-thi-dinh-phuong-binh-trung-tay/-duplex-co-ban-cong-quan-2-full-noi-that-moi-100-pr42686230: 're__icon-private-house'\n",
      "Error scraping url https://batdongsan.com.vn/cho-thue-can-ho-chung-cu-duong-thai-thuan-phuong-an-phu-prj-chung-cu-an-cu/c-14-trieu-90m2-2pn-2wc-tai-q2-hcm-pr42408677: 're__icon-front-view'\n"
     ]
    },
    {
     "name": "stderr",
     "output_type": "stream",
     "text": [
      "Processing batches:  80%|███████▉  | 924/1161 [1:59:35<34:48,  8.81s/it]"
     ]
    },
    {
     "name": "stdout",
     "output_type": "stream",
     "text": [
      "Using Chrome with user agent: Mozilla/5.0 (Macintosh; Intel Mac OS X 10_15_7) AppleWebKit/537.36 (KHTML, like Gecko) Chrome/99.0.4844.84 Safari/537.36\n",
      "Using Chrome with user agent: Mozilla/5.0 (Macintosh; Intel Mac OS X 10_15_7) AppleWebKit/537.36 (KHTML, like Gecko) Chrome/100.0.4896.127 Safari/537.36\n",
      "Error scraping url https://batdongsan.com.vn/cho-thue-can-ho-chung-cu-phuong-trung-my-tay-prj-to-ky-tower/cho-full-nt-o-lien-wer-2pn-2wc-lh-pr42422612: 're__icon-clock'\n"
     ]
    },
    {
     "name": "stderr",
     "output_type": "stream",
     "text": [
      "Processing batches:  80%|███████▉  | 926/1161 [1:59:47<28:56,  7.39s/it]"
     ]
    },
    {
     "name": "stdout",
     "output_type": "stream",
     "text": [
      "Error scraping url https://batdongsan.com.vn/cho-thue-can-ho-chung-cu-mini-duong-ung-van-khiem-phuong-25/c-pentuse-1pn-ban-cong-rieng-cuc-tang-gan-dai-c-hutech-don-vao-o-lien-duoc-pr42663611: 're__icon-clock'\n"
     ]
    },
    {
     "name": "stderr",
     "output_type": "stream",
     "text": [
      "Processing batches:  80%|███████▉  | 927/1161 [1:59:49<23:31,  6.03s/it]"
     ]
    },
    {
     "name": "stdout",
     "output_type": "stream",
     "text": [
      "Using Chrome with user agent: Mozilla/5.0 (Macintosh; Intel Mac OS X 10_15_7) AppleWebKit/537.36 (KHTML, like Gecko) Chrome/100.0.4896.127 Safari/537.36\n",
      "Using Chrome with user agent: Mozilla/5.0 (Windows NT 10.0; Win64; x64) AppleWebKit/537.36 (KHTML, like Gecko) Chrome/99.0.4844.84 Safari/537.36\n",
      "Error scraping url https://batdongsan.com.vn/cho-thue-can-ho-chung-cu-mini-duong-xo-viet-nghe-tinh-phuong-26/cho-2pn-1wc-full-noi-that-ngay-duoi-chan-cau-thanh-da-nguyen-gia-tri-noi-dai-o-duoc-4-5ng-pr42713761: 're__icon-clock'\n"
     ]
    },
    {
     "name": "stderr",
     "output_type": "stream",
     "text": [
      "Processing batches:  80%|███████▉  | 928/1161 [2:00:01<30:11,  7.77s/it]"
     ]
    },
    {
     "name": "stdout",
     "output_type": "stream",
     "text": [
      "Using Chrome with user agent: Mozilla/5.0 (Windows NT 10.0; Win64; x64) AppleWebKit/537.36 (KHTML, like Gecko) Chrome/99.0.4844.84 Safari/537.36\n",
      "Error scraping url https://batdongsan.com.vn/cho-thue-can-ho-chung-cu-phuong-tan-phu-19-prj-midtown-phu-my-hung/c-80m2-gia-chi-25-trieu-2pn-2wc-lh-pr42555441: 're__icon-front-view'\n"
     ]
    },
    {
     "name": "stderr",
     "output_type": "stream",
     "text": [
      "Processing batches:  80%|████████  | 929/1161 [2:00:14<35:05,  9.07s/it]"
     ]
    },
    {
     "name": "stdout",
     "output_type": "stream",
     "text": [
      "Using Chrome with user agent: Mozilla/5.0 (Macintosh; Intel Mac OS X 10_15_7) AppleWebKit/537.36 (KHTML, like Gecko) Chrome/99.0.4844.84 Safari/537.36\n",
      "Error scraping url https://batdongsan.com.vn/cho-thue-can-ho-chung-cu-pho-ta-quang-buu-phuong-5-11-prj-him-lam-nam-khanh/cho-khank-p5h-q8-3pn-10tr-pr41755025: HTTPConnectionPool(host='localhost', port=58543): Read timed out. (read timeout=120)\n"
     ]
    },
    {
     "name": "stderr",
     "output_type": "stream",
     "text": [
      "Processing batches:  80%|████████  | 930/1161 [2:00:36<49:08, 12.76s/it]"
     ]
    },
    {
     "name": "stdout",
     "output_type": "stream",
     "text": [
      "Error scraping url https://batdongsan.com.vn/cho-thue-can-ho-chung-cu-mini-duong-le-van-khuong-phuong-tan-thoi-hiep/-gia-re-moi-100-day-du-tien-nghi-ngay-nga-tu-hiep-pr42436581: 're__icon-front-view'\n"
     ]
    },
    {
     "name": "stderr",
     "output_type": "stream",
     "text": [
      "Processing batches:  80%|████████  | 931/1161 [2:00:37<36:05,  9.41s/it]"
     ]
    },
    {
     "name": "stdout",
     "output_type": "stream",
     "text": [
      "Using Chrome with user agent: Mozilla/5.0 (Macintosh; Intel Mac OS X 10_15_7) AppleWebKit/537.36 (KHTML, like Gecko) Chrome/100.0.4896.127 Safari/537.36\n",
      "Using Chrome with user agent: Mozilla/5.0 (Macintosh; Intel Mac OS X 10_15_7) AppleWebKit/537.36 (KHTML, like Gecko) Chrome/100.0.4896.127 Safari/537.36\n"
     ]
    },
    {
     "name": "stderr",
     "output_type": "stream",
     "text": [
      "Processing batches:  80%|████████  | 932/1161 [2:00:46<35:01,  9.18s/it]"
     ]
    },
    {
     "name": "stdout",
     "output_type": "stream",
     "text": [
      "Error scraping url https://batdongsan.com.vn/cho-thue-nha-tro-phong-tro-duong-quoc-lo-22-phuong-trung-my-tay/-cho-co-gac-lung-thang-may-ngay-nga-tu-an-suong-cong-vien-phan-mem-quang-trung-pr42262211: 're__icon-clock'\n",
      "Using Chrome with user agent: Mozilla/5.0 (Macintosh; Intel Mac OS X 10_15_7) AppleWebKit/537.36 (KHTML, like Gecko) Chrome/99.0.4844.84 Safari/537.36\n"
     ]
    },
    {
     "name": "stderr",
     "output_type": "stream",
     "text": [
      "Processing batches:  80%|████████  | 933/1161 [2:00:54<33:13,  8.74s/it]"
     ]
    },
    {
     "name": "stdout",
     "output_type": "stream",
     "text": [
      "Error scraping url https://batdongsan.com.vn/cho-thue-can-ho-chung-cu-duong-dang-van-bi-phuong-binh-tho-prj-moonlight-residences/ro-hang-20-lavita-charm-gai-tot-nhat-thi-truong-2pn-gia-2-5ty-bao-phi-lien-he-0986092767-pr28889009: 're__icon-private-house'\n",
      "Using Chrome with user agent: Mozilla/5.0 (Macintosh; Intel Mac OS X 10_15_7) AppleWebKit/537.36 (KHTML, like Gecko) Chrome/100.0.4896.127 Safari/537.36\n",
      "Error scraping url https://batdongsan.com.vn/cho-thue-nha-tro-phong-tro-duong-dinh-bo-linh-phuong-26/cho-biet-lap-loi-di-rieng-du-noi-that-co-may-lanh-pr42652074: 're__icon-front-view'\n"
     ]
    },
    {
     "name": "stderr",
     "output_type": "stream",
     "text": [
      "Processing batches:  80%|████████  | 934/1161 [2:01:00<30:29,  8.06s/it]"
     ]
    },
    {
     "name": "stdout",
     "output_type": "stream",
     "text": [
      "Error scraping url https://batdongsan.com.vn/cho-thue-can-ho-chung-cu-pho-ton-duc-thang-phuong-ben-nghe-prj-vinhomes-golden-river-ba-son/c-22-trieu-vnd-51-m2-noi-that-chuan-5-sao-pr41361490: 're__icon-front-view'\n"
     ]
    },
    {
     "name": "stderr",
     "output_type": "stream",
     "text": [
      "Processing batches:  81%|████████  | 935/1161 [2:01:02<23:39,  6.28s/it]"
     ]
    },
    {
     "name": "stdout",
     "output_type": "stream",
     "text": [
      "Using Chrome with user agent: Mozilla/5.0 (Macintosh; Intel Mac OS X 10_15_7) AppleWebKit/537.36 (KHTML, like Gecko) Chrome/99.0.4844.84 Safari/537.36\n",
      "Using Chrome with user agent: Mozilla/5.0 (Macintosh; Intel Mac OS X 10_15_7) AppleWebKit/537.36 (KHTML, like Gecko) Chrome/100.0.4896.127 Safari/537.36\n",
      "Error scraping url https://batdongsan.com.vn/cho-thue-can-ho-chung-cu-duong-ben-van-don-phuong-1-prj-the-gold-view/cho-cc-16-trieu-92m2-2pn-2wc-tai-q4-hcm-pr42636272: 're__icon-private-house'\n"
     ]
    },
    {
     "name": "stderr",
     "output_type": "stream",
     "text": [
      "Processing batches:  81%|████████  | 936/1161 [2:01:12<27:59,  7.46s/it]"
     ]
    },
    {
     "name": "stdout",
     "output_type": "stream",
     "text": [
      "Using Chrome with user agent: Mozilla/5.0 (Macintosh; Intel Mac OS X 10_15_7) AppleWebKit/537.36 (KHTML, like Gecko) Chrome/100.0.4896.127 Safari/537.36\n",
      "Error scraping url https://batdongsan.com.vn/cho-thue-can-ho-chung-cu-duong-ben-van-don-phuong-6-prj-river-gate/c-3pn-rivergate-full-noi-that-gia-27tr-thang-o-ngay-duoc-lh-pr42685249: 're__icon-front-view'\n"
     ]
    },
    {
     "name": "stderr",
     "output_type": "stream",
     "text": [
      "Processing batches:  81%|████████  | 937/1161 [2:01:18<26:09,  7.01s/it]"
     ]
    },
    {
     "name": "stdout",
     "output_type": "stream",
     "text": [
      "Using Chrome with user agent: Mozilla/5.0 (Macintosh; Intel Mac OS X 10_15_7) AppleWebKit/537.36 (KHTML, like Gecko) Chrome/100.0.4896.127 Safari/537.36\n",
      "Error scraping url https://batdongsan.com.vn/cho-thue-can-ho-chung-cu-mini-duong-binh-loi-phuong-13-7/vua-trong-lai-dich-vu-1-png-ngu-ngay-gan-dai-c-van-lang-co-so-3-pr42713568: 're__icon-clock'\n"
     ]
    },
    {
     "name": "stderr",
     "output_type": "stream",
     "text": [
      "Processing batches:  81%|████████  | 938/1161 [2:01:30<31:07,  8.38s/it]"
     ]
    },
    {
     "name": "stdout",
     "output_type": "stream",
     "text": [
      "Error scraping url https://batdongsan.com.vn/cho-thue-can-ho-chung-cu-mini-duong-hoa-hao-phuong-5-12/cho-cc-1pn-1wc-35m2-tai-5-quan-10-pr42712912: 're__icon-front-view'\n"
     ]
    },
    {
     "name": "stderr",
     "output_type": "stream",
     "text": [
      "Processing batches:  81%|████████  | 939/1161 [2:01:30<21:58,  5.94s/it]"
     ]
    },
    {
     "name": "stdout",
     "output_type": "stream",
     "text": [
      "Using Chrome with user agent: Mozilla/5.0 (Windows NT 10.0; Win64; x64) AppleWebKit/537.36 (KHTML, like Gecko) Chrome/100.0.4896.127 Safari/537.36\n",
      "Using Chrome with user agent: Mozilla/5.0 (Macintosh; Intel Mac OS X 10_15_7) AppleWebKit/537.36 (KHTML, like Gecko) Chrome/100.0.4896.127 Safari/537.36\n",
      "Error scraping url https://batdongsan.com.vn/cho-thue-can-ho-chung-cu-duong-xo-viet-nghe-tinh-phuong-21-prj-chung-cu-my-duc/-c-1-pn-full-noi-that-gia-9-tr-th-lh-mai-lan-vp-tai-pr38768994: HTTPConnectionPool(host='localhost', port=59559): Read timed out. (read timeout=120)\n"
     ]
    },
    {
     "name": "stderr",
     "output_type": "stream",
     "text": [
      "Processing batches:  81%|████████  | 940/1161 [2:01:45<31:43,  8.61s/it]"
     ]
    },
    {
     "name": "stdout",
     "output_type": "stream",
     "text": [
      "Error scraping url https://batdongsan.com.vn/cho-thue-can-ho-chung-cu-mini-duong-pho-quang-phuong-2-22/cho-12-trieu-45m2-tai-p-2-tan-binh-hcm-pr42712808: 're__icon-clock'\n"
     ]
    },
    {
     "name": "stderr",
     "output_type": "stream",
     "text": [
      "Processing batches:  81%|████████  | 941/1161 [2:01:46<23:08,  6.31s/it]"
     ]
    },
    {
     "name": "stdout",
     "output_type": "stream",
     "text": [
      "Error scraping url https://batdongsan.com.vn/cho-thue-can-ho-chung-cu-duong-be-van-cam-phuong-tan-kieng-prj-m-one-nam-sai-gon/cho-cc-1pn-1wc-452-tai-na-gia-ti-khach-10-trieu-vnd-full-noi-that-dep-pr42712674: 're__icon-front-view'\n"
     ]
    },
    {
     "name": "stderr",
     "output_type": "stream",
     "text": [
      "Processing batches:  81%|████████  | 942/1161 [2:01:47<17:36,  4.82s/it]"
     ]
    },
    {
     "name": "stdout",
     "output_type": "stream",
     "text": [
      "Using Chrome with user agent: Mozilla/5.0 (Macintosh; Intel Mac OS X 10_15_7) AppleWebKit/537.36 (KHTML, like Gecko) Chrome/100.0.4896.127 Safari/537.36\n",
      "Using Chrome with user agent: Mozilla/5.0 (Macintosh; Intel Mac OS X 10_15_7) AppleWebKit/537.36 (KHTML, like Gecko) Chrome/99.0.4844.84 Safari/537.36\n",
      "Using Chrome with user agent: Mozilla/5.0 (Macintosh; Intel Mac OS X 10_15_7) AppleWebKit/537.36 (KHTML, like Gecko) Chrome/100.0.4896.127 Safari/537.36\n",
      "Error scraping url https://batdongsan.com.vn/cho-thue-can-ho-chung-cu-duong-so-6-phuong-binh-chieu-prj-fresca-riverside/c-goc-thu-duc-55m2-gia-7-5tr-thang-full-noi-that-pr42611513: 're__icon-front-view'\n"
     ]
    },
    {
     "name": "stderr",
     "output_type": "stream",
     "text": [
      "Processing batches:  81%|████████▏ | 944/1161 [2:01:58<18:21,  5.08s/it]"
     ]
    },
    {
     "name": "stdout",
     "output_type": "stream",
     "text": [
      "Error scraping url https://batdongsan.com.vn/cho-thue-can-ho-chung-cu-mini-duong-nguyen-van-linh-phuong-tan-thuan-tay-1/cho-duplex-40m2-day-du-noi-that-ngay-trung-tam-quan-7-pr42572059: 're__icon-clock'\n",
      "Using Chrome with user agent: Mozilla/5.0 (Windows NT 10.0; Win64; x64) AppleWebKit/537.36 (KHTML, like Gecko) Chrome/99.0.4844.84 Safari/537.36\n",
      "Error scraping url https://batdongsan.com.vn/cho-thue-can-ho-chung-cu-duong-ton-that-thuyet-phuong-1-prj-de-la-sol/76-cho-delasol-1-2-3pn-gia-re-nhat-thi-truong-pr38524648: 're__icon-document'\n"
     ]
    },
    {
     "name": "stderr",
     "output_type": "stream",
     "text": [
      "Processing batches:  81%|████████▏ | 945/1161 [2:02:02<16:43,  4.64s/it]"
     ]
    },
    {
     "name": "stdout",
     "output_type": "stream",
     "text": [
      "Using Chrome with user agent: Mozilla/5.0 (Windows NT 10.0; Win64; x64) AppleWebKit/537.36 (KHTML, like Gecko) Chrome/100.0.4896.127 Safari/537.36\n",
      "Error scraping url https://batdongsan.com.vn/cho-thue-nha-tro-phong-tro-duong-so-2-phuong-tan-quy/-cao-cap-toilet-rieng-day-du-noi-that-phia-sau-lotte-ngay-truong-dh-ton-duc-thang-q7-pr34466797: 're__icon-document'\n"
     ]
    },
    {
     "name": "stderr",
     "output_type": "stream",
     "text": [
      "Processing batches:  81%|████████▏ | 946/1161 [2:02:06<16:02,  4.48s/it]"
     ]
    },
    {
     "name": "stdout",
     "output_type": "stream",
     "text": [
      "Using Chrome with user agent: Mozilla/5.0 (Macintosh; Intel Mac OS X 10_15_7) AppleWebKit/537.36 (KHTML, like Gecko) Chrome/99.0.4844.84 Safari/537.36\n",
      "Error scraping url https://batdongsan.com.vn/cho-thue-can-ho-chung-cu-mini-duong-xo-viet-nghe-tinh-phuong-25/co-the-la-ngon-nhat-binh-thanh-studio-sieu-day-du-tien-nghi-toa-nha-lon-bve-24-7-pr42712187: 're__icon-clock'\n"
     ]
    },
    {
     "name": "stderr",
     "output_type": "stream",
     "text": [
      "Processing batches:  82%|████████▏ | 947/1161 [2:02:08<13:28,  3.78s/it]"
     ]
    },
    {
     "name": "stdout",
     "output_type": "stream",
     "text": [
      "Using Chrome with user agent: Mozilla/5.0 (Macintosh; Intel Mac OS X 10_15_7) AppleWebKit/537.36 (KHTML, like Gecko) Chrome/100.0.4896.127 Safari/537.36\n",
      "Using Chrome with user agent: Mozilla/5.0 (Windows NT 10.0; Win64; x64) AppleWebKit/537.36 (KHTML, like Gecko) Chrome/100.0.4896.127 Safari/537.36\n",
      "Error scraping url https://batdongsan.com.vn/cho-thue-can-ho-chung-cu-duong-pham-van-nghi-phuong-tan-phong-9-prj-sky-garden-3/cho-3-q7-phu-my-hung-nha-dep-gia-tot-nhat-thi-truong-pr42466905: 're__icon-electricity'\n"
     ]
    },
    {
     "name": "stderr",
     "output_type": "stream",
     "text": [
      "Processing batches:  82%|████████▏ | 949/1161 [2:02:17<13:26,  3.81s/it]"
     ]
    },
    {
     "name": "stdout",
     "output_type": "stream",
     "text": [
      "Error scraping url https://batdongsan.com.vn/cho-thue-can-ho-chung-cu-duong-kinh-duong-vuong-phuong-an-lac-6-prj-imperial-place/cho-2-pn-6tr-3pn-8tr-cc-binh-tan-full-rem-may-lanh-tien-ich-cao-cap-pr36340401: 're__icon-front-view'\n",
      "Error scraping url https://batdongsan.com.vn/cho-thue-can-ho-chung-cu-duong-nguyen-van-huong-phuong-thao-dien-prj-thao-dien-green/-doc-quyen-cho-2pn-90m2-thu-thiem-zeit-river-ntcb-view-song-lau-trung-gia-tot-33tr-bpql-pr41953155: 're__icon-private-house'\n"
     ]
    },
    {
     "name": "stderr",
     "output_type": "stream",
     "text": [
      "Processing batches:  82%|████████▏ | 950/1161 [2:02:18<09:59,  2.84s/it]"
     ]
    },
    {
     "name": "stdout",
     "output_type": "stream",
     "text": [
      "Using Chrome with user agent: Mozilla/5.0 (Macintosh; Intel Mac OS X 10_15_7) AppleWebKit/537.36 (KHTML, like Gecko) Chrome/99.0.4844.84 Safari/537.36\n",
      "Using Chrome with user agent: Mozilla/5.0 (Macintosh; Intel Mac OS X 10_15_7) AppleWebKit/537.36 (KHTML, like Gecko) Chrome/99.0.4844.84 Safari/537.36\n",
      "Using Chrome with user agent: Mozilla/5.0 (Windows NT 10.0; Win64; x64) AppleWebKit/537.36 (KHTML, like Gecko) Chrome/100.0.4896.127 Safari/537.36\n",
      "Error scraping url https://batdongsan.com.vn/cho-thue-can-ho-chung-cu-duong-nguyen-huu-tho-xa-phuoc-kieng-prj-saigon-south-residences/c-2-png-ngu-full-noi-that-du-tien-nghi-cach-dai-c-rmit-tdt-900m-pr42218295: 're__icon-clock'\n"
     ]
    },
    {
     "name": "stderr",
     "output_type": "stream",
     "text": [
      "Processing batches:  82%|████████▏ | 951/1161 [2:02:29<19:07,  5.46s/it]"
     ]
    },
    {
     "name": "stdout",
     "output_type": "stream",
     "text": [
      "Using Chrome with user agent: Mozilla/5.0 (Windows NT 10.0; Win64; x64) AppleWebKit/537.36 (KHTML, like Gecko) Chrome/99.0.4844.84 Safari/537.36\n",
      "Error scraping url https://batdongsan.com.vn/cho-thue-can-ho-chung-cu-mini-duong-truong-sa-phuong-15-7/-moi-xay-co-thang-may-ham-xe-15-phu-nhuan-gan-cau-cong-ly-pr42710906: 're__icon-electricity'\n"
     ]
    },
    {
     "name": "stderr",
     "output_type": "stream",
     "text": [
      "Processing batches:  82%|████████▏ | 952/1161 [2:02:41<25:28,  7.32s/it]"
     ]
    },
    {
     "name": "stdout",
     "output_type": "stream",
     "text": [
      "Using Chrome with user agent: Mozilla/5.0 (Windows NT 10.0; Win64; x64) AppleWebKit/537.36 (KHTML, like Gecko) Chrome/99.0.4844.84 Safari/537.36\n",
      "Error scraping url https://batdongsan.com.vn/cho-thue-can-ho-chung-cu-duong-so-6-phuong-hiep-binh-phuoc-prj-urban-green/-cho-chi-tu-9-trieu-nhan-ngay-voucher-giam-10-trong-thang-nay-pr42616440?c=d1: 're__icon-clock'\n"
     ]
    },
    {
     "name": "stderr",
     "output_type": "stream",
     "text": [
      "Processing batches:  82%|████████▏ | 954/1161 [2:03:01<27:22,  7.94s/it]"
     ]
    },
    {
     "name": "stdout",
     "output_type": "stream",
     "text": [
      "Using Chrome with user agent: Mozilla/5.0 (Macintosh; Intel Mac OS X 10_15_7) AppleWebKit/537.36 (KHTML, like Gecko) Chrome/100.0.4896.127 Safari/537.36\n",
      "Using Chrome with user agent: Mozilla/5.0 (Macintosh; Intel Mac OS X 10_15_7) AppleWebKit/537.36 (KHTML, like Gecko) Chrome/100.0.4896.127 Safari/537.36\n",
      "Error scraping url https://batdongsan.com.vn/cho-thue-nha-tro-phong-tro-duong-ly-tu-trong-phuong-ben-thanh/can-ho-studio-ban-cong-26m2-full-noi-that-trung-tam-q1-thoi-gian-linh-dong-pr42609524: 're__icon-front-view'\n"
     ]
    },
    {
     "name": "stderr",
     "output_type": "stream",
     "text": [
      "Processing batches:  82%|████████▏ | 955/1161 [2:03:15<32:40,  9.52s/it]"
     ]
    },
    {
     "name": "stdout",
     "output_type": "stream",
     "text": [
      "Error scraping url https://batdongsan.com.vn/cho-thue-nha-tro-phong-tro-duong-le-duc-tho-phuong-15-6/-cho-gia-re-co-banconl-full-noi-that-ngay-mat-tien-tho-pr42518493: 're__icon-front-view'\n"
     ]
    },
    {
     "name": "stderr",
     "output_type": "stream",
     "text": [
      "Processing batches:  82%|████████▏ | 956/1161 [2:03:16<24:29,  7.17s/it]"
     ]
    },
    {
     "name": "stdout",
     "output_type": "stream",
     "text": [
      "Using Chrome with user agent: Mozilla/5.0 (Windows NT 10.0; Win64; x64) AppleWebKit/537.36 (KHTML, like Gecko) Chrome/100.0.4896.127 Safari/537.36\n",
      "Using Chrome with user agent: Mozilla/5.0 (Windows NT 10.0; Win64; x64) AppleWebKit/537.36 (KHTML, like Gecko) Chrome/99.0.4844.84 Safari/537.36\n",
      "Error scraping url https://batdongsan.com.vn/cho-thue-can-ho-chung-cu-mini-pho-ly-thuong-kiet-phuong-15-3/c-2-png-ngu-khu-vuc-trung-tam-sat-quan-10-day-du-noi-that-gia-chi-tu-8tr-8tr5-pr42710272: 're__icon-clock'\n"
     ]
    },
    {
     "name": "stderr",
     "output_type": "stream",
     "text": [
      "Processing batches:  82%|████████▏ | 957/1161 [2:03:38<39:34, 11.64s/it]"
     ]
    },
    {
     "name": "stdout",
     "output_type": "stream",
     "text": [
      "Error scraping url https://batdongsan.com.vn/cho-thue-can-ho-chung-cu-duong-nguyen-xien-phuong-long-thanh-my-prj-masteri-centre-point/cho-2-phong-full-noi-that-chi-11tr5-co-1-phong-ngu-trong-tuy-khach-thiet-ke-a-pr41849463: 're__icon-private-house'\n"
     ]
    },
    {
     "name": "stderr",
     "output_type": "stream",
     "text": [
      "Processing batches:  83%|████████▎ | 958/1161 [2:03:39<28:06,  8.31s/it]"
     ]
    },
    {
     "name": "stdout",
     "output_type": "stream",
     "text": [
      "Using Chrome with user agent: Mozilla/5.0 (Macintosh; Intel Mac OS X 10_15_7) AppleWebKit/537.36 (KHTML, like Gecko) Chrome/100.0.4896.127 Safari/537.36\n",
      "Using Chrome with user agent: Mozilla/5.0 (Macintosh; Intel Mac OS X 10_15_7) AppleWebKit/537.36 (KHTML, like Gecko) Chrome/100.0.4896.127 Safari/537.36\n",
      "Error scraping url https://batdongsan.com.vn/cho-thue-can-ho-chung-cu-mini-duong-nguyen-huu-canh-phuong-22/-moi-vua-khai-truong-ban-cong-view-landmark-khu-vuc-dan-tri-cao-pr41369968: 're__icon-document'\n",
      "Error scraping url https://batdongsan.com.vn/cho-thue-can-ho-chung-cu-duong-so-9a-xa-binh-hung-1-prj-sai-gon-mia/c-saigon-2pn-2wc-full-noi-that-14tr-thang-nhan-nha-o-ngay-lh-0937569691-pr36651140: 're__icon-front-view'\n"
     ]
    },
    {
     "name": "stderr",
     "output_type": "stream",
     "text": [
      "Processing batches:  83%|████████▎ | 960/1161 [2:03:49<20:50,  6.22s/it]"
     ]
    },
    {
     "name": "stdout",
     "output_type": "stream",
     "text": [
      "Using Chrome with user agent: Mozilla/5.0 (Windows NT 10.0; Win64; x64) AppleWebKit/537.36 (KHTML, like Gecko) Chrome/100.0.4896.127 Safari/537.36\n",
      "Using Chrome with user agent: Mozilla/5.0 (Macintosh; Intel Mac OS X 10_15_7) AppleWebKit/537.36 (KHTML, like Gecko) Chrome/99.0.4844.84 Safari/537.36\n",
      "Error scraping url https://batdongsan.com.vn/cho-thue-can-ho-chung-cu-mini-duong-dat-thanh_1-phuong-6-15/-1-png-ngu-ban-cong-tang-thanh-6-tan-binh-pr42709858: 're__icon-electricity'\n"
     ]
    },
    {
     "name": "stderr",
     "output_type": "stream",
     "text": [
      "Processing batches:  83%|████████▎ | 961/1161 [2:04:00<25:17,  7.59s/it]"
     ]
    },
    {
     "name": "stdout",
     "output_type": "stream",
     "text": [
      "Using Chrome with user agent: Mozilla/5.0 (Macintosh; Intel Mac OS X 10_15_7) AppleWebKit/537.36 (KHTML, like Gecko) Chrome/99.0.4844.84 Safari/537.36\n",
      "Error scraping url https://batdongsan.com.vn/cho-thue-can-ho-chung-cu-mini-duong-ton-that-thuyet-phuong-1-prj-chung-cu-ton-that-thuyet/cho-chdv-6-5-trieu-60m2-1pn-1wc-ban-cong-sieu-dep-pr42412220: 're__icon-clock'\n"
     ]
    },
    {
     "name": "stderr",
     "output_type": "stream",
     "text": [
      "Processing batches:  83%|████████▎ | 962/1161 [2:04:07<24:34,  7.41s/it]"
     ]
    },
    {
     "name": "stdout",
     "output_type": "stream",
     "text": [
      "Error scraping url https://batdongsan.com.vn/cho-thue-can-ho-chung-cu-duong-thai-thuan-phuong-an-phu-prj-chung-cu-an-cu/cho-cc-gia-sieu-hoi-14-trieu-90m2-o-q2-hcm-nha-trong-o-duoc-lien-pr42529246: HTTPConnectionPool(host='localhost', port=62259): Read timed out. (read timeout=120)\n"
     ]
    },
    {
     "name": "stderr",
     "output_type": "stream",
     "text": [
      "Processing batches:  83%|████████▎ | 963/1161 [2:04:09<18:54,  5.73s/it]"
     ]
    },
    {
     "name": "stdout",
     "output_type": "stream",
     "text": [
      "Using Chrome with user agent: Mozilla/5.0 (Macintosh; Intel Mac OS X 10_15_7) AppleWebKit/537.36 (KHTML, like Gecko) Chrome/99.0.4844.84 Safari/537.36\n",
      "Using Chrome with user agent: Mozilla/5.0 (Macintosh; Intel Mac OS X 10_15_7) AppleWebKit/537.36 (KHTML, like Gecko) Chrome/99.0.4844.84 Safari/537.36\n",
      "Error scraping url https://batdongsan.com.vn/cho-thue-nha-tro-phong-tro-duong-duong-quang-ham-phuong-6-14/cho-dang-can-ho-mini-40m2-1pn-1pk-bep-ngay-le-duc-tho-q-go-vap-pr36472176: 're__icon-front-view'\n"
     ]
    },
    {
     "name": "stderr",
     "output_type": "stream",
     "text": [
      "Processing batches:  83%|████████▎ | 964/1161 [2:04:18<22:21,  6.81s/it]"
     ]
    },
    {
     "name": "stdout",
     "output_type": "stream",
     "text": [
      "Using Chrome with user agent: Mozilla/5.0 (Windows NT 10.0; Win64; x64) AppleWebKit/537.36 (KHTML, like Gecko) Chrome/99.0.4844.84 Safari/537.36\n",
      "Error scraping url https://batdongsan.com.vn/cho-thue-can-ho-chung-cu-duong-mai-chi-tho-phuong-an-phu-prj-the-sun-avenue/c-2pn-2wc-76m2-14-trieu-tai-qu-2-hcm-t-uy-tin-pr42709501?c=d1: Message: no such element: Unable to locate element: {\"method\":\"css selector\",\"selector\":\"h1[class*='re__pr-title pr-title js__pr-title']\"}\n",
      "  (Session info: chrome=135.0.7049.96); For documentation on this error, please visit: https://www.selenium.dev/documentation/webdriver/troubleshooting/errors#no-such-element-exception\n",
      "Stacktrace:\n",
      "0   undetected_chromedriver             0x00000001027fd448 undetected_chromedriver + 6149192\n",
      "1   undetected_chromedriver             0x00000001027f4b0a undetected_chromedriver + 6114058\n",
      "2   undetected_chromedriver             0x0000000102285e80 undetected_chromedriver + 417408\n",
      "3   undetected_chromedriver             0x00000001022d7587 undetected_chromedriver + 750983\n",
      "4   undetected_chromedriver             0x00000001022d77a1 undetected_chromedriver + 751521\n",
      "5   undetected_chromedriver             0x0000000102327784 undetected_chromedriver + 1079172\n",
      "6   undetected_chromedriver             0x00000001022fd7bd undetected_chromedriver + 907197\n",
      "7   undetected_chromedriver             0x0000000102324aca undetected_chromedriver + 1067722\n",
      "8   undetected_chromedriver             0x00000001022fd563 undetected_chromedriver + 906595\n",
      "9   undetected_chromedriver             0x00000001022c9955 undetected_chromedriver + 694613\n",
      "10  undetected_chromedriver             0x00000001022ca5b1 undetected_chromedriver + 697777\n",
      "11  undetected_chromedriver             0x00000001027baf00 undetected_chromedriver + 5877504\n",
      "12  undetected_chromedriver             0x00000001027bedf1 undetected_chromedriver + 5893617\n",
      "13  undetected_chromedriver             0x0000000102795344 undetected_chromedriver + 5722948\n",
      "14  undetected_chromedriver             0x00000001027bf80b undetected_chromedriver + 5896203\n",
      "15  undetected_chromedriver             0x0000000102783ac4 undetected_chromedriver + 5651140\n",
      "16  undetected_chromedriver             0x00000001027e2918 undetected_chromedriver + 6039832\n",
      "17  undetected_chromedriver             0x00000001027e2ae0 undetected_chromedriver + 6040288\n",
      "18  undetected_chromedriver             0x00000001027f46d1 undetected_chromedriver + 6112977\n",
      "19  libsystem_pthread.dylib             0x00007ff8053ac18b _pthread_start + 99\n",
      "20  libsystem_pthread.dylib             0x00007ff8053a7ae3 thread_start + 15\n",
      "\n"
     ]
    },
    {
     "name": "stderr",
     "output_type": "stream",
     "text": [
      "Processing batches:  83%|████████▎ | 965/1161 [2:04:28<25:39,  7.85s/it]"
     ]
    },
    {
     "name": "stdout",
     "output_type": "stream",
     "text": [
      "Error scraping url https://batdongsan.com.vn/cho-thue-can-ho-chung-cu-duong-ben-van-don-phuong-6-prj-masteri-millennium/c-studio-quan-4-voi-noi-that-duoc-thiet-xinh-iu-pr42709567: 're__icon-clock'\n",
      "Using Chrome with user agent: Mozilla/5.0 (Macintosh; Intel Mac OS X 10_15_7) AppleWebKit/537.36 (KHTML, like Gecko) Chrome/100.0.4896.127 Safari/537.36\n"
     ]
    },
    {
     "name": "stderr",
     "output_type": "stream",
     "text": [
      "Processing batches:  83%|████████▎ | 966/1161 [2:04:33<22:04,  6.79s/it]"
     ]
    },
    {
     "name": "stdout",
     "output_type": "stream",
     "text": [
      "Using Chrome with user agent: Mozilla/5.0 (Macintosh; Intel Mac OS X 10_15_7) AppleWebKit/537.36 (KHTML, like Gecko) Chrome/100.0.4896.127 Safari/537.36\n",
      "Error scraping url https://batdongsan.com.vn/cho-thue-can-ho-chung-cu-mini-duong-hoang-van-thu-phuong-4-20/cho-studio-35m2-ban-cong-full-noi-that-gan-cong-vien-san-bay-tan-son-nhat-pr42708746: 're__icon-electricity'\n"
     ]
    },
    {
     "name": "stderr",
     "output_type": "stream",
     "text": [
      "Processing batches:  83%|████████▎ | 967/1161 [2:04:39<21:43,  6.72s/it]"
     ]
    },
    {
     "name": "stdout",
     "output_type": "stream",
     "text": [
      "Error scraping url https://batdongsan.com.vn/cho-thue-can-ho-chung-cu-duong-pho-quang-phuong-2-22-prj-the-botanica/-100m2-2p-ngu-rong-full-noi-that-17-trieu-pr42708939: 're__icon-clock'\n",
      "Error scraping url https://batdongsan.com.vn/cho-thue-nha-tro-phong-tro-duong-do-thuc-tinh-phuong-12-8/cho-cc-mini-view-dep-tai-6-trieu-25m2-go-vap-hcm-pr42707540: 're__icon-electricity'\n"
     ]
    },
    {
     "name": "stderr",
     "output_type": "stream",
     "text": [
      "Processing batches:  83%|████████▎ | 968/1161 [2:04:41<17:10,  5.34s/it]"
     ]
    },
    {
     "name": "stdout",
     "output_type": "stream",
     "text": [
      "Using Chrome with user agent: Mozilla/5.0 (Macintosh; Intel Mac OS X 10_15_7) AppleWebKit/537.36 (KHTML, like Gecko) Chrome/99.0.4844.84 Safari/537.36\n",
      "Using Chrome with user agent: Mozilla/5.0 (Macintosh; Intel Mac OS X 10_15_7) AppleWebKit/537.36 (KHTML, like Gecko) Chrome/100.0.4896.127 Safari/537.36\n",
      "Using Chrome with user agent: Mozilla/5.0 (Windows NT 10.0; Win64; x64) AppleWebKit/537.36 (KHTML, like Gecko) Chrome/100.0.4896.127 Safari/537.36\n"
     ]
    },
    {
     "name": "stderr",
     "output_type": "stream",
     "text": [
      "Processing batches:  84%|████████▎ | 970/1161 [2:04:51<16:22,  5.14s/it]"
     ]
    },
    {
     "name": "stdout",
     "output_type": "stream",
     "text": [
      "Error scraping url https://batdongsan.com.vn/cho-thue-can-ho-chung-cu-duong-bo-bao-tan-thang-phuong-son-ky-prj-emerald-celadon-city/-emmaral-tp-86m2-3pn-noi-that-moi-15tr-th-pr42708653: 're__icon-clock'\n",
      "Using Chrome with user agent: Mozilla/5.0 (Windows NT 10.0; Win64; x64) AppleWebKit/537.36 (KHTML, like Gecko) Chrome/100.0.4896.127 Safari/537.36\n",
      "Error scraping url https://batdongsan.com.vn/cho-thue-can-ho-chung-cu-phuong-tan-phu-19-prj-the-peak/hot-m8-midtown-nha-dep-view-biet-thu-gia-chi-33-tr-thang-goi-pr42708723: 're__icon-private-house'\n"
     ]
    },
    {
     "name": "stderr",
     "output_type": "stream",
     "text": [
      "Processing batches:  84%|████████▎ | 971/1161 [2:05:14<30:21,  9.59s/it]"
     ]
    },
    {
     "name": "stdout",
     "output_type": "stream",
     "text": [
      "Error scraping url https://batdongsan.com.vn/cho-thue-can-ho-chung-cu-duong-nguyen-van-huong-phuong-thao-dien-prj-thu-thiem-sky/c-1pn-2pn-tu-7-5tr-12tr-full-noi-that-q2-0906727334-pr27463247: 're__icon-front-view'\n"
     ]
    },
    {
     "name": "stderr",
     "output_type": "stream",
     "text": [
      "Processing batches:  84%|████████▎ | 972/1161 [2:05:15<22:37,  7.18s/it]"
     ]
    },
    {
     "name": "stdout",
     "output_type": "stream",
     "text": [
      "Using Chrome with user agent: Mozilla/5.0 (Macintosh; Intel Mac OS X 10_15_7) AppleWebKit/537.36 (KHTML, like Gecko) Chrome/100.0.4896.127 Safari/537.36\n",
      "Using Chrome with user agent: Mozilla/5.0 (Macintosh; Intel Mac OS X 10_15_7) AppleWebKit/537.36 (KHTML, like Gecko) Chrome/99.0.4844.84 Safari/537.36\n",
      "Error scraping url https://batdongsan.com.vn/cho-thue-can-ho-chung-cu-mini-duong-so-34-phuong-hiep-binh-phuoc-prj-khu-do-thi-van-phuc-city/-cao-cap-2pn-90m2-full-noi-that-cao-cap-dep-nhu-hinh-100-nhan-nha-o-ngay-pr42610681: 're__icon-electricity'\n"
     ]
    },
    {
     "name": "stderr",
     "output_type": "stream",
     "text": [
      "Processing batches:  84%|████████▍ | 974/1161 [2:05:23<16:57,  5.44s/it]"
     ]
    },
    {
     "name": "stdout",
     "output_type": "stream",
     "text": [
      "Error scraping url https://batdongsan.com.vn/cho-thue-can-ho-chung-cu-duong-xa-lo-ha-noi-phuong-thao-dien-prj-masteri-an-phu/-cho-1pn-co-day-du-that-xin-gia-chi-14-trieu-lh-trang-0909-950-204-pr37317422: 're__icon-front-view'\n",
      "Using Chrome with user agent: Mozilla/5.0 (Windows NT 10.0; Win64; x64) AppleWebKit/537.36 (KHTML, like Gecko) Chrome/99.0.4844.84 Safari/537.36\n",
      "Using Chrome with user agent: Mozilla/5.0 (Macintosh; Intel Mac OS X 10_15_7) AppleWebKit/537.36 (KHTML, like Gecko) Chrome/99.0.4844.84 Safari/537.36\n",
      "Error scraping url https://batdongsan.com.vn/cho-thue-nha-tro-phong-tro-duong-17-4-phuong-tan-hung-14-prj-hoang-anh-thanh-binh/chdv-full-noi-that-trong-chung-cu-gan-dh-mo-rmit-ton-duc-thang-tdtt-pr42470620: 're__icon-electricity'\n"
     ]
    },
    {
     "name": "stderr",
     "output_type": "stream",
     "text": [
      "Processing batches:  84%|████████▍ | 975/1161 [2:05:34<22:04,  7.12s/it]"
     ]
    },
    {
     "name": "stdout",
     "output_type": "stream",
     "text": [
      "Using Chrome with user agent: Mozilla/5.0 (Macintosh; Intel Mac OS X 10_15_7) AppleWebKit/537.36 (KHTML, like Gecko) Chrome/99.0.4844.84 Safari/537.36\n",
      "Error scraping url https://batdongsan.com.vn/cho-thue-can-ho-chung-cu-mini-duong-dinh-phong-phu-phuong-tang-nhon-phu-b/c-full-noi-that-ngay-nga-4-thu-duc-le-van-viet-cd-cong-thuong-dh-spkt-hutech-ufm-pr41329581: 're__icon-document'\n"
     ]
    },
    {
     "name": "stderr",
     "output_type": "stream",
     "text": [
      "Processing batches:  84%|████████▍ | 976/1161 [2:05:38<18:52,  6.12s/it]"
     ]
    },
    {
     "name": "stdout",
     "output_type": "stream",
     "text": [
      "Using Chrome with user agent: Mozilla/5.0 (Windows NT 10.0; Win64; x64) AppleWebKit/537.36 (KHTML, like Gecko) Chrome/100.0.4896.127 Safari/537.36\n"
     ]
    },
    {
     "name": "stderr",
     "output_type": "stream",
     "text": [
      "Processing batches:  84%|████████▍ | 977/1161 [2:05:45<20:09,  6.57s/it]"
     ]
    },
    {
     "name": "stdout",
     "output_type": "stream",
     "text": [
      "Error scraping url https://batdongsan.com.vn/cho-thue-can-ho-chung-cu-duong-vo-van-kiet-phuong-an-lac-6-prj-akari-city-nam-long/c-75m2-o-q-binh-tan-pr42707635: 're__icon-clock'\n",
      "Using Chrome with user agent: Mozilla/5.0 (Windows NT 10.0; Win64; x64) AppleWebKit/537.36 (KHTML, like Gecko) Chrome/99.0.4844.84 Safari/537.36\n"
     ]
    },
    {
     "name": "stderr",
     "output_type": "stream",
     "text": [
      "Processing batches:  84%|████████▍ | 978/1161 [2:05:54<21:37,  7.09s/it]"
     ]
    },
    {
     "name": "stdout",
     "output_type": "stream",
     "text": [
      "Error scraping url https://batdongsan.com.vn/cho-thue-can-ho-chung-cu-pho-ly-thuong-kiet-phuong-14-5-prj-xi-grand-court/cho-90m2-2-1pn-full-noi-that-gia-18tr-lh-nha-dep-moi-pr38021678: 're__icon-front-view'\n",
      "Using Chrome with user agent: Mozilla/5.0 (Windows NT 10.0; Win64; x64) AppleWebKit/537.36 (KHTML, like Gecko) Chrome/99.0.4844.84 Safari/537.36\n",
      "Error scraping url https://batdongsan.com.vn/cho-thue-can-ho-chung-cu-mini-duong-ung-van-khiem-phuong-25/-1pn-luxury-full-nt-thang-may-gym-spa-hang-xanh-thi-nghe-ba-chieu-binh-loi-pr42707953: 're__icon-front-view'\n"
     ]
    },
    {
     "name": "stderr",
     "output_type": "stream",
     "text": [
      "Processing batches:  84%|████████▍ | 979/1161 [2:06:02<22:14,  7.33s/it]"
     ]
    },
    {
     "name": "stdout",
     "output_type": "stream",
     "text": [
      "Using Chrome with user agent: Mozilla/5.0 (Macintosh; Intel Mac OS X 10_15_7) AppleWebKit/537.36 (KHTML, like Gecko) Chrome/100.0.4896.127 Safari/537.36\n",
      "Error scraping url https://batdongsan.com.vn/cho-thue-can-ho-chung-cu-duong-vo-van-kiet-phuong-3-15-prj-viva-riverside/c-cc-quan-6-dt-80m-2pn-2wc-gia-12tr-lh-0703-445-188-tran-pr42708973: 're__icon-electricity'\n"
     ]
    },
    {
     "name": "stderr",
     "output_type": "stream",
     "text": [
      "Processing batches:  84%|████████▍ | 980/1161 [2:06:16<28:19,  9.39s/it]"
     ]
    },
    {
     "name": "stdout",
     "output_type": "stream",
     "text": [
      "Using Chrome with user agent: Mozilla/5.0 (Macintosh; Intel Mac OS X 10_15_7) AppleWebKit/537.36 (KHTML, like Gecko) Chrome/99.0.4844.84 Safari/537.36\n"
     ]
    },
    {
     "name": "stderr",
     "output_type": "stream",
     "text": [
      "Processing batches:  84%|████████▍ | 981/1161 [2:06:39<40:33, 13.52s/it]"
     ]
    },
    {
     "name": "stdout",
     "output_type": "stream",
     "text": [
      "Using Chrome with user agent: Mozilla/5.0 (Macintosh; Intel Mac OS X 10_15_7) AppleWebKit/537.36 (KHTML, like Gecko) Chrome/100.0.4896.127 Safari/537.36\n"
     ]
    },
    {
     "name": "stderr",
     "output_type": "stream",
     "text": [
      "Processing batches:  85%|████████▍ | 982/1161 [2:06:47<34:58, 11.72s/it]"
     ]
    },
    {
     "name": "stdout",
     "output_type": "stream",
     "text": [
      "Using Chrome with user agent: Mozilla/5.0 (Windows NT 10.0; Win64; x64) AppleWebKit/537.36 (KHTML, like Gecko) Chrome/99.0.4844.84 Safari/537.36\n",
      "Error scraping url https://batdongsan.com.vn/ban-dat-duong-y-lan-xa-dang-xa/ban-gia-lam-lo-goc-via-he-phan-lo-o-to-tranh-dt-70m-gia-5-7-t-lh-xem-pr42758654?source=ad&adid=2953894: 're__icon-front-view'\n"
     ]
    },
    {
     "name": "stderr",
     "output_type": "stream",
     "text": [
      "Processing batches:  85%|████████▍ | 984/1161 [2:07:02<26:23,  8.95s/it]"
     ]
    },
    {
     "name": "stdout",
     "output_type": "stream",
     "text": [
      "Error scraping url https://batdongsan.com.vn/cho-thue-can-ho-chung-cu-duong-xa-lo-ha-noi-phuong-an-phu-prj-cantavil-an-phu-cantavil-premier/cho-chcc-q-2-dt-75m2-2-pn-gia-15tr-thang-chi-phi-thap-ngay-tttm-pr42707362: 're__icon-front-view'\n",
      "Using Chrome with user agent: Mozilla/5.0 (Windows NT 10.0; Win64; x64) AppleWebKit/537.36 (KHTML, like Gecko) Chrome/99.0.4844.84 Safari/537.36\n",
      "Using Chrome with user agent: Mozilla/5.0 (Windows NT 10.0; Win64; x64) AppleWebKit/537.36 (KHTML, like Gecko) Chrome/100.0.4896.127 Safari/537.36\n"
     ]
    },
    {
     "name": "stderr",
     "output_type": "stream",
     "text": [
      "Processing batches:  85%|████████▍ | 985/1161 [2:07:09<24:57,  8.51s/it]"
     ]
    },
    {
     "name": "stdout",
     "output_type": "stream",
     "text": [
      "Error scraping url https://batdongsan.com.vn/cho-thue-can-ho-chung-cu-duong-n1-phuong-son-ky-prj-diamond-centery/cap-nhat-gia-c-2pn-86m2-96m2-du-an-celadon-city-tan-phu-pr42595148: 're__icon-front-view'\n",
      "Using Chrome with user agent: Mozilla/5.0 (Windows NT 10.0; Win64; x64) AppleWebKit/537.36 (KHTML, like Gecko) Chrome/100.0.4896.127 Safari/537.36\n",
      "Error scraping url https://batdongsan.com.vn/cho-thue-can-ho-chung-cu-duong-nguyen-van-linh-xa-binh-hung-1-prj-mizuki-park/c-panorama-85m2-2pn-2wc-view-song-tang-mat-pr38142771: 're__icon-front-view'\n"
     ]
    },
    {
     "name": "stderr",
     "output_type": "stream",
     "text": [
      "Processing batches:  85%|████████▍ | 986/1161 [2:07:21<27:23,  9.39s/it]"
     ]
    },
    {
     "name": "stdout",
     "output_type": "stream",
     "text": [
      "Error scraping url https://batdongsan.com.vn/cho-thue-nha-tro-phong-tro-duong-huynh-van-banh-phuong-12-1/chinh-chu-15m2-rieng-biet-vua-lam-moi-dang-ng-yen-tinh-khu-le-sy-quan-3-pr42706774: 're__icon-clock'\n"
     ]
    },
    {
     "name": "stderr",
     "output_type": "stream",
     "text": [
      "Processing batches:  85%|████████▌ | 987/1161 [2:07:21<19:49,  6.83s/it]"
     ]
    },
    {
     "name": "stdout",
     "output_type": "stream",
     "text": [
      "Using Chrome with user agent: Mozilla/5.0 (Windows NT 10.0; Win64; x64) AppleWebKit/537.36 (KHTML, like Gecko) Chrome/99.0.4844.84 Safari/537.36\n",
      "Using Chrome with user agent: Mozilla/5.0 (Macintosh; Intel Mac OS X 10_15_7) AppleWebKit/537.36 (KHTML, like Gecko) Chrome/99.0.4844.84 Safari/537.36\n",
      "Error scraping url https://batdongsan.com.vn/cho-thue-can-ho-chung-cu-duong-le-van-luong-xa-phuoc-kieng-prj-can-ho-hung-phat/c-02pn-full-noi-that-nha-dep-gia-re-0938-070-686-pr30858085: 're__icon-front-view'\n"
     ]
    },
    {
     "name": "stderr",
     "output_type": "stream",
     "text": [
      "Processing batches:  85%|████████▌ | 988/1161 [2:07:26<17:47,  6.17s/it]"
     ]
    },
    {
     "name": "stdout",
     "output_type": "stream",
     "text": [
      "Using Chrome with user agent: Mozilla/5.0 (Windows NT 10.0; Win64; x64) AppleWebKit/537.36 (KHTML, like Gecko) Chrome/99.0.4844.84 Safari/537.36\n",
      "Error scraping url https://batdongsan.com.vn/cho-thue-can-ho-chung-cu-mini-duong-dien-bien-phu-phuong-11-5/-1pn-ban-cong-full-noi-that-may-giat-rieng-thang-may-ra-vao-face-id-vong-xoay-dan-chu-pr42707073: 're__icon-clock'\n"
     ]
    },
    {
     "name": "stderr",
     "output_type": "stream",
     "text": [
      "Processing batches:  85%|████████▌ | 989/1161 [2:07:33<18:28,  6.45s/it]"
     ]
    },
    {
     "name": "stdout",
     "output_type": "stream",
     "text": [
      "Error scraping url https://batdongsan.com.vn/cho-thue-can-ho-chung-cu-duong-nguyen-huu-tho-phuong-tan-hung-14-prj-sunrise-city/chuyen-c-ngan-ngay-quan-7-gia-tot-0932744090-pr34398346: 're__icon-front-view'\n"
     ]
    },
    {
     "name": "stderr",
     "output_type": "stream",
     "text": [
      "Processing batches:  85%|████████▌ | 990/1161 [2:07:34<13:43,  4.82s/it]"
     ]
    },
    {
     "name": "stdout",
     "output_type": "stream",
     "text": [
      "Using Chrome with user agent: Mozilla/5.0 (Macintosh; Intel Mac OS X 10_15_7) AppleWebKit/537.36 (KHTML, like Gecko) Chrome/100.0.4896.127 Safari/537.36\n",
      "Using Chrome with user agent: Mozilla/5.0 (Macintosh; Intel Mac OS X 10_15_7) AppleWebKit/537.36 (KHTML, like Gecko) Chrome/100.0.4896.127 Safari/537.36\n",
      "Error scraping url https://batdongsan.com.vn/cho-thue-can-ho-chung-cu-mini-duong-hong-ha-phuong-2-22/studio-full-nt-co-ban-cong-sieu-thoang-nam-sat-san-bay-pr42702247: 're__icon-clock'\n"
     ]
    },
    {
     "name": "stderr",
     "output_type": "stream",
     "text": [
      "Processing batches:  85%|████████▌ | 991/1161 [2:07:41<15:41,  5.54s/it]"
     ]
    },
    {
     "name": "stdout",
     "output_type": "stream",
     "text": [
      "Using Chrome with user agent: Mozilla/5.0 (Macintosh; Intel Mac OS X 10_15_7) AppleWebKit/537.36 (KHTML, like Gecko) Chrome/100.0.4896.127 Safari/537.36\n",
      "Error scraping url https://batdongsan.com.vn/cho-thue-nha-tro-phong-tro-duong-nguyen-cuu-dam-phuong-tan-son-nhi/-duplex-sieu-xin-moi-tai-phu-pr42706607: 're__icon-clock'\n"
     ]
    },
    {
     "name": "stderr",
     "output_type": "stream",
     "text": [
      "Processing batches:  85%|████████▌ | 992/1161 [2:07:49<17:30,  6.22s/it]"
     ]
    },
    {
     "name": "stdout",
     "output_type": "stream",
     "text": [
      "Error scraping url https://batdongsan.com.vn/cho-thue-can-ho-chung-cu-duong-nguyen-xien-phuong-long-thanh-my-prj-the-rainbow-vinhomes-grand-park/cho-7tr-2pn1wc-full-noi-that-dep-pr42706622: 're__icon-front-view'\n"
     ]
    },
    {
     "name": "stderr",
     "output_type": "stream",
     "text": [
      "Processing batches:  86%|████████▌ | 993/1161 [2:07:51<13:41,  4.89s/it]"
     ]
    },
    {
     "name": "stdout",
     "output_type": "stream",
     "text": [
      "Using Chrome with user agent: Mozilla/5.0 (Windows NT 10.0; Win64; x64) AppleWebKit/537.36 (KHTML, like Gecko) Chrome/99.0.4844.84 Safari/537.36\n",
      "Using Chrome with user agent: Mozilla/5.0 (Macintosh; Intel Mac OS X 10_15_7) AppleWebKit/537.36 (KHTML, like Gecko) Chrome/99.0.4844.84 Safari/537.36\n",
      "Error scraping url https://batdongsan.com.vn/cho-thue-can-ho-chung-cu-mini-duong-vuon-lai-phuong-tan-thanh/c-dich-vu-new-100-1pn-1wc-40m2-pr42707219: 're__icon-clock'\n"
     ]
    },
    {
     "name": "stderr",
     "output_type": "stream",
     "text": [
      "Processing batches:  86%|████████▌ | 994/1161 [2:07:57<14:46,  5.31s/it]"
     ]
    },
    {
     "name": "stdout",
     "output_type": "stream",
     "text": [
      "Using Chrome with user agent: Mozilla/5.0 (Macintosh; Intel Mac OS X 10_15_7) AppleWebKit/537.36 (KHTML, like Gecko) Chrome/99.0.4844.84 Safari/537.36\n",
      "Error scraping url https://batdongsan.com.vn/cho-thue-can-ho-chung-cu-mini-duong-tran-huu-trang-phuong-10-9/c-co-thang-may-day-du-noi-that-tai-g-thuan-tien-di-chuyen-quan-1-pr42706341: 're__icon-clock'\n"
     ]
    },
    {
     "name": "stderr",
     "output_type": "stream",
     "text": [
      "Processing batches:  86%|████████▌ | 995/1161 [2:08:05<16:57,  6.13s/it]"
     ]
    },
    {
     "name": "stdout",
     "output_type": "stream",
     "text": [
      "Using Chrome with user agent: Mozilla/5.0 (Macintosh; Intel Mac OS X 10_15_7) AppleWebKit/537.36 (KHTML, like Gecko) Chrome/100.0.4896.127 Safari/537.36\n",
      "Error scraping url https://batdongsan.com.vn/cho-thue-can-ho-chung-cu-duong-tran-bach-dang-phuong-an-khanh-prj-the-river-thu-thiem/-cho-2pn-full-noi-that-thiet-ke-view-truc-dien-song-va-q1-pr41793861: 're__icon-document'\n"
     ]
    },
    {
     "name": "stderr",
     "output_type": "stream",
     "text": [
      "Processing batches:  86%|████████▌ | 996/1161 [2:08:13<18:17,  6.65s/it]"
     ]
    },
    {
     "name": "stdout",
     "output_type": "stream",
     "text": [
      "Using Chrome with user agent: Mozilla/5.0 (Windows NT 10.0; Win64; x64) AppleWebKit/537.36 (KHTML, like Gecko) Chrome/99.0.4844.84 Safari/537.36\n",
      "Error scraping url https://batdongsan.com.vn/cho-thue-can-ho-chung-cu-duong-mai-chi-tho-phuong-an-phu-prj-centana-thu-thiem/600-hang-vip-3p-full-noi-that-14tr-nha-trong-12tr-2p-13tr-1p-9tr5-co-noi-that-10tr-pr42507941: 're__icon-front-view'\n"
     ]
    },
    {
     "name": "stderr",
     "output_type": "stream",
     "text": [
      "Processing batches:  86%|████████▌ | 997/1161 [2:08:18<16:24,  6.01s/it]"
     ]
    },
    {
     "name": "stdout",
     "output_type": "stream",
     "text": [
      "Using Chrome with user agent: Mozilla/5.0 (Macintosh; Intel Mac OS X 10_15_7) AppleWebKit/537.36 (KHTML, like Gecko) Chrome/100.0.4896.127 Safari/537.36\n",
      "Error scraping url https://batdongsan.com.vn/cho-thue-nha-tro-phong-tro-duong-lo-lu-phuong-truong-thanh-prj-new-city-lo-lu/cho-tk-pn-p-bep-rieng-wc-tai-gia-3-3-trieu-33m2-xe-rieng-pr42183492: 're__icon-front-view'\n"
     ]
    },
    {
     "name": "stderr",
     "output_type": "stream",
     "text": [
      "Processing batches:  86%|████████▌ | 998/1161 [2:08:22<15:14,  5.61s/it]"
     ]
    },
    {
     "name": "stdout",
     "output_type": "stream",
     "text": [
      "Error scraping url https://batdongsan.com.vn/cho-thue-can-ho-chung-cu-duong-vo-chi-cong-phuong-thanh-my-loi-prj-thu-thiem-green-house/-goc-sieu-hiem-2pn-2wc-68m2-tai-100-thach-q2-pr42578242: 're__icon-front-view'\n"
     ]
    },
    {
     "name": "stderr",
     "output_type": "stream",
     "text": [
      "Processing batches:  86%|████████▌ | 999/1161 [2:08:24<11:43,  4.35s/it]"
     ]
    },
    {
     "name": "stdout",
     "output_type": "stream",
     "text": [
      "Using Chrome with user agent: Mozilla/5.0 (Macintosh; Intel Mac OS X 10_15_7) AppleWebKit/537.36 (KHTML, like Gecko) Chrome/99.0.4844.84 Safari/537.36\n",
      "Using Chrome with user agent: Mozilla/5.0 (Windows NT 10.0; Win64; x64) AppleWebKit/537.36 (KHTML, like Gecko) Chrome/99.0.4844.84 Safari/537.36\n"
     ]
    },
    {
     "name": "stderr",
     "output_type": "stream",
     "text": [
      "Processing batches:  86%|████████▌ | 1000/1161 [2:08:32<14:58,  5.58s/it]"
     ]
    },
    {
     "name": "stdout",
     "output_type": "stream",
     "text": [
      "Error scraping url https://batdongsan.com.vn/cho-thue-can-ho-chung-cu-duong-hoang-quoc-viet-phuong-phu-thuan-3-prj-sky-89/sky89-1pn-view-song-q7-noi-that-moi-full-gia-13-den-15tr-thang-pr40849237: 're__icon-front-view'\n",
      "Error scraping url https://batdongsan.com.vn/cho-thue-nha-tro-phong-tro-duong-nguyen-dinh-chieu-phuong-4-12/khai-truong-duplex-ban-cong-full-noi-that-moi-may-giat-rieng-quan-3-pr42705892: 're__icon-road'\n"
     ]
    },
    {
     "name": "stderr",
     "output_type": "stream",
     "text": [
      "Processing batches:  86%|████████▌ | 1001/1161 [2:08:35<12:12,  4.58s/it]"
     ]
    },
    {
     "name": "stdout",
     "output_type": "stream",
     "text": [
      "Using Chrome with user agent: Mozilla/5.0 (Macintosh; Intel Mac OS X 10_15_7) AppleWebKit/537.36 (KHTML, like Gecko) Chrome/100.0.4896.127 Safari/537.36\n",
      "Using Chrome with user agent: Mozilla/5.0 (Windows NT 10.0; Win64; x64) AppleWebKit/537.36 (KHTML, like Gecko) Chrome/100.0.4896.127 Safari/537.36\n",
      "Error scraping url https://batdongsan.com.vn/cho-thue-can-ho-chung-cu-duong-vo-van-kiet-phuong-16-1-prj-city-gate-towers/c-2-png-ngu-full-noi-that-9-trieu-thang-pr42705119: 're__icon-front-view'\n"
     ]
    },
    {
     "name": "stderr",
     "output_type": "stream",
     "text": [
      "Processing batches:  86%|████████▋ | 1002/1161 [2:08:46<17:19,  6.54s/it]"
     ]
    },
    {
     "name": "stdout",
     "output_type": "stream",
     "text": [
      "Using Chrome with user agent: Mozilla/5.0 (Windows NT 10.0; Win64; x64) AppleWebKit/537.36 (KHTML, like Gecko) Chrome/100.0.4896.127 Safari/537.36\n",
      "Error scraping url https://batdongsan.com.vn/cho-thue-can-ho-chung-cu-duong-vo-chi-cong-phuong-phu-huu-2-prj-safira-khang-dien/c-67m2-2pn-2wc-full-noi-that-gia-10tr-thang-nhan-nha-o-ngay-pr42212954: 're__icon-clock'\n"
     ]
    },
    {
     "name": "stderr",
     "output_type": "stream",
     "text": [
      "Processing batches:  86%|████████▋ | 1003/1161 [2:08:58<21:38,  8.22s/it]"
     ]
    },
    {
     "name": "stdout",
     "output_type": "stream",
     "text": [
      "Using Chrome with user agent: Mozilla/5.0 (Windows NT 10.0; Win64; x64) AppleWebKit/537.36 (KHTML, like Gecko) Chrome/100.0.4896.127 Safari/537.36\n",
      "Error scraping url https://batdongsan.com.vn/cho-thue-can-ho-chung-cu-pho-24-xa-binh-hung-1-prj-khu-dan-cu-him-lam-6a/cho-cc-2pn-1wc-70m2-9-trieu-tai-chanh-hcm-sieu-hot-pr42588703: HTTPConnectionPool(host='localhost', port=51986): Read timed out. (read timeout=120)\n"
     ]
    },
    {
     "name": "stderr",
     "output_type": "stream",
     "text": [
      "Processing batches:  86%|████████▋ | 1004/1161 [2:09:50<56:17, 21.51s/it]"
     ]
    },
    {
     "name": "stdout",
     "output_type": "stream",
     "text": [
      "Using Chrome with user agent: Mozilla/5.0 (Windows NT 10.0; Win64; x64) AppleWebKit/537.36 (KHTML, like Gecko) Chrome/100.0.4896.127 Safari/537.36\n",
      "Error scraping url https://batdongsan.com.vn/cho-thue-can-ho-chung-cu-pho-ton-duc-thang-phuong-ben-nghe-prj-grand-marina-saigon/-saigin-cho-nhanh-1-phong-ngu-full-noi-that-63m2-gia-43-trieu-pr42254487: 're__icon-clock'\n"
     ]
    },
    {
     "name": "stderr",
     "output_type": "stream",
     "text": [
      "Processing batches:  87%|████████▋ | 1005/1161 [2:09:58<45:26, 17.48s/it]"
     ]
    },
    {
     "name": "stdout",
     "output_type": "stream",
     "text": [
      "Using Chrome with user agent: Mozilla/5.0 (Windows NT 10.0; Win64; x64) AppleWebKit/537.36 (KHTML, like Gecko) Chrome/100.0.4896.127 Safari/537.36\n",
      "Error scraping url https://batdongsan.com.vn/cho-thue-can-ho-chung-cu-duong-n1-phuong-son-ky-prj-celadon-city/chinh-chu-cho-1pn-full-noi-that-dep-emerald-khu-tan-phu-gia-11tr-th-pr36352037: 're__icon-document'\n"
     ]
    },
    {
     "name": "stderr",
     "output_type": "stream",
     "text": [
      "Processing batches:  87%|████████▋ | 1006/1161 [2:10:06<37:34, 14.55s/it]"
     ]
    },
    {
     "name": "stdout",
     "output_type": "stream",
     "text": [
      "Using Chrome with user agent: Mozilla/5.0 (Windows NT 10.0; Win64; x64) AppleWebKit/537.36 (KHTML, like Gecko) Chrome/99.0.4844.84 Safari/537.36\n",
      "Error scraping url https://batdongsan.com.vn/cho-thue-can-ho-chung-cu-phuong-son-ky-prj-diamond-alnata/c-3pn-day-du-noi-that-phan-khu-celadon-city-pr42672355: 're__icon-front-view'\n"
     ]
    },
    {
     "name": "stderr",
     "output_type": "stream",
     "text": [
      "Processing batches:  87%|████████▋ | 1007/1161 [2:10:17<34:12, 13.33s/it]"
     ]
    },
    {
     "name": "stdout",
     "output_type": "stream",
     "text": [
      "Using Chrome with user agent: Mozilla/5.0 (Macintosh; Intel Mac OS X 10_15_7) AppleWebKit/537.36 (KHTML, like Gecko) Chrome/100.0.4896.127 Safari/537.36\n",
      "Error scraping url https://batdongsan.com.vn/cho-thue-can-ho-chung-cu-duong-quoc-lo-1a-phuong-tan-tao-a-prj-long-phung-apartment/cho-2-phong-ngu-2-wc-gia-6-trieu-dien-tich-75m2-nha-trong-pr42705180: 're__icon-front-view'\n",
      "Error scraping url https://batdongsan.com.vn/cho-thue-can-ho-chung-cu-duong-trinh-dinh-thao-phuong-hoa-thanh-prj-lotus-garden/-tp-2p-ngu-co-nt-gia-11tr-th-pr42705821: HTTPConnectionPool(host='localhost', port=52951): Read timed out. (read timeout=120)\n",
      "Error scraping url https://batdongsan.com.vn/cho-thue-can-ho-chung-cu-mini-duong-dien-bien-phu-phuong-11-5/-cua-so-tang-cuc-xinh-full-noi-that-may-giat-rieng-thang-may-gan-vong-xoay-dan-chu-pr42691841: 're__icon-clock'\n"
     ]
    },
    {
     "name": "stderr",
     "output_type": "stream",
     "text": [
      "Processing batches:  87%|████████▋ | 1009/1161 [2:10:23<20:04,  7.93s/it]"
     ]
    },
    {
     "name": "stdout",
     "output_type": "stream",
     "text": [
      "Using Chrome with user agent: Mozilla/5.0 (Windows NT 10.0; Win64; x64) AppleWebKit/537.36 (KHTML, like Gecko) Chrome/100.0.4896.127 Safari/537.36\n",
      "Using Chrome with user agent: Mozilla/5.0 (Macintosh; Intel Mac OS X 10_15_7) AppleWebKit/537.36 (KHTML, like Gecko) Chrome/99.0.4844.84 Safari/537.36\n",
      "Error scraping url https://batdongsan.com.vn/cho-thue-nha-tro-phong-tro-pho-phan-dang-luu-phuong-7-9/-cua-so-i-co-gac-noi-that-can-ban-cu-xa-7-binh-thanh-pr42702709: 're__icon-electricity'\n",
      "Error scraping url https://batdongsan.com.vn/cho-thue-can-ho-chung-cu-duong-3-2-2-phuong-12-5-prj-hado-centrosa-garden/c-ha-do-1-png-ngu-1-png-da-nang-60m2-nha-moi-nhu-hinh-pr42089800: 're__icon-clock'\n"
     ]
    },
    {
     "name": "stderr",
     "output_type": "stream",
     "text": [
      "Processing batches:  87%|████████▋ | 1011/1161 [2:10:32<15:59,  6.39s/it]"
     ]
    },
    {
     "name": "stdout",
     "output_type": "stream",
     "text": [
      "Using Chrome with user agent: Mozilla/5.0 (Windows NT 10.0; Win64; x64) AppleWebKit/537.36 (KHTML, like Gecko) Chrome/100.0.4896.127 Safari/537.36\n",
      "Using Chrome with user agent: Mozilla/5.0 (Macintosh; Intel Mac OS X 10_15_7) AppleWebKit/537.36 (KHTML, like Gecko) Chrome/99.0.4844.84 Safari/537.36\n",
      "Using Chrome with user agent: Mozilla/5.0 (Macintosh; Intel Mac OS X 10_15_7) AppleWebKit/537.36 (KHTML, like Gecko) Chrome/100.0.4896.127 Safari/537.36\n",
      "Error scraping url https://batdongsan.com.vn/cho-thue-can-ho-chung-cu-duong-nguyen-duy-trinh-phuong-binh-trung-tay-prj-la-astoria/cho-cc-7-5-trieu-43m2-1pn-1wc-o-q2-hcm-pr42290886: 're__icon-clock'\n",
      "Error scraping url https://batdongsan.com.vn/cho-thue-can-ho-chung-cu-duong-nguyen-xien-phuong-long-thanh-my-prj-vinhomes-grand-park/cho-2pn2wc-full-noi-that-xin-moi-100-pr42703716: 're__icon-private-house'\n"
     ]
    },
    {
     "name": "stderr",
     "output_type": "stream",
     "text": [
      "Processing batches:  87%|████████▋ | 1013/1161 [2:10:48<17:18,  7.02s/it]"
     ]
    },
    {
     "name": "stdout",
     "output_type": "stream",
     "text": [
      "Using Chrome with user agent: Mozilla/5.0 (Windows NT 10.0; Win64; x64) AppleWebKit/537.36 (KHTML, like Gecko) Chrome/99.0.4844.84 Safari/537.36\n",
      "Using Chrome with user agent: Mozilla/5.0 (Macintosh; Intel Mac OS X 10_15_7) AppleWebKit/537.36 (KHTML, like Gecko) Chrome/100.0.4896.127 Safari/537.36\n",
      "Error scraping url https://batdongsan.com.vn/cho-thue-nha-tro-phong-tro-duong-tinh-lo-10-phuong-binh-tri-dong-b/-moi-100-ten-lua-24m2-an-ninh-van-minh-pr42607238: 're__icon-front-view'\n"
     ]
    },
    {
     "name": "stderr",
     "output_type": "stream",
     "text": [
      "Processing batches:  87%|████████▋ | 1015/1161 [2:10:58<15:18,  6.29s/it]"
     ]
    },
    {
     "name": "stdout",
     "output_type": "stream",
     "text": [
      "Using Chrome with user agent: Mozilla/5.0 (Macintosh; Intel Mac OS X 10_15_7) AppleWebKit/537.36 (KHTML, like Gecko) Chrome/100.0.4896.127 Safari/537.36\n"
     ]
    },
    {
     "name": "stderr",
     "output_type": "stream",
     "text": [
      "Processing batches:  88%|████████▊ | 1016/1161 [2:11:09<17:23,  7.19s/it]"
     ]
    },
    {
     "name": "stdout",
     "output_type": "stream",
     "text": [
      "Error scraping url https://batdongsan.com.vn/cho-thue-can-ho-chung-cu-duong-truong-luu-phuong-long-truong-prj-chung-cu-mt-eastmark-city/cho-nhieu-o-ngay-pr42267177: 're__icon-clock'\n",
      "Using Chrome with user agent: Mozilla/5.0 (Macintosh; Intel Mac OS X 10_15_7) AppleWebKit/537.36 (KHTML, like Gecko) Chrome/100.0.4896.127 Safari/537.36\n",
      "Error scraping url https://batdongsan.com.vn/cho-thue-can-ho-chung-cu-mini-duong-85-phuong-tan-quy/c-ngay-trung-tam-quan-7-sat-ben-lotte-mart-pr42693678: 're__icon-clock'\n"
     ]
    },
    {
     "name": "stderr",
     "output_type": "stream",
     "text": [
      "Processing batches:  88%|████████▊ | 1017/1161 [2:11:27<23:13,  9.68s/it]"
     ]
    },
    {
     "name": "stdout",
     "output_type": "stream",
     "text": [
      "Using Chrome with user agent: Mozilla/5.0 (Windows NT 10.0; Win64; x64) AppleWebKit/537.36 (KHTML, like Gecko) Chrome/100.0.4896.127 Safari/537.36\n",
      "Error scraping url https://batdongsan.com.vn/cho-thue-can-ho-chung-cu-duong-cong-hoa-phuong-12-10-prj-cong-hoa-garden/cho-gap-chcc-tan-binh-dt-75m2-2pn-2wc-gia-12tr-thang-lh-pr42703996: 're__icon-clock'\n"
     ]
    },
    {
     "name": "stderr",
     "output_type": "stream",
     "text": [
      "Processing batches:  88%|████████▊ | 1018/1161 [2:11:40<25:06, 10.53s/it]"
     ]
    },
    {
     "name": "stdout",
     "output_type": "stream",
     "text": [
      "Using Chrome with user agent: Mozilla/5.0 (Windows NT 10.0; Win64; x64) AppleWebKit/537.36 (KHTML, like Gecko) Chrome/99.0.4844.84 Safari/537.36\n",
      "Error scraping url https://batdongsan.com.vn/cho-thue-can-ho-chung-cu-duong-phan-van-dang-phuong-thanh-my-loi-prj-feliz-en-vista/-sieu-sang-altaz-4-png-ngu-gia-87-trieu-thang-thuong-luong-pr42469824: 're__icon-front-view'\n"
     ]
    },
    {
     "name": "stderr",
     "output_type": "stream",
     "text": [
      "Processing batches:  88%|████████▊ | 1019/1161 [2:11:54<26:51, 11.35s/it]"
     ]
    },
    {
     "name": "stdout",
     "output_type": "stream",
     "text": [
      "Using Chrome with user agent: Mozilla/5.0 (Windows NT 10.0; Win64; x64) AppleWebKit/537.36 (KHTML, like Gecko) Chrome/100.0.4896.127 Safari/537.36\n",
      "Error scraping url https://batdongsan.com.vn/cho-thue-can-ho-chung-cu-mini-duong-cach-mang-thang-tam-phuong-13-5/-studio-mien-phi-dich-vu-ngay-trong-biet-thu-voi-day-du-tien-nghi-tai-quan-10-pr42702381: 're__icon-clock'\n"
     ]
    },
    {
     "name": "stderr",
     "output_type": "stream",
     "text": [
      "Processing batches:  88%|████████▊ | 1020/1161 [2:12:02<24:51, 10.57s/it]"
     ]
    },
    {
     "name": "stdout",
     "output_type": "stream",
     "text": [
      "Error scraping url https://batdongsan.com.vn/cho-thue-can-ho-chung-cu-duong-pho-quang-phuong-9-12-prj-golden-mansion/-cao-cap-2-png-ngu-dep-gan-san-bay-du-an-novaland-pr41095830: 're__icon-document'\n"
     ]
    },
    {
     "name": "stderr",
     "output_type": "stream",
     "text": [
      "Processing batches:  88%|████████▊ | 1021/1161 [2:12:06<20:11,  8.65s/it]"
     ]
    },
    {
     "name": "stdout",
     "output_type": "stream",
     "text": [
      "Using Chrome with user agent: Mozilla/5.0 (Windows NT 10.0; Win64; x64) AppleWebKit/537.36 (KHTML, like Gecko) Chrome/100.0.4896.127 Safari/537.36\n",
      "Using Chrome with user agent: Mozilla/5.0 (Macintosh; Intel Mac OS X 10_15_7) AppleWebKit/537.36 (KHTML, like Gecko) Chrome/99.0.4844.84 Safari/537.36\n",
      "Error scraping url https://batdongsan.com.vn/cho-thue-can-ho-chung-cu-duong-nguyen-van-linh-phuong-tan-phong-9-prj-urban-hill/c-2pn-2wc-23-trieu-78m2-tai-png-quan-7-hcm-pr42701396: 're__icon-clock'\n"
     ]
    },
    {
     "name": "stderr",
     "output_type": "stream",
     "text": [
      "Processing batches:  88%|████████▊ | 1022/1161 [2:12:13<19:02,  8.22s/it]"
     ]
    },
    {
     "name": "stdout",
     "output_type": "stream",
     "text": [
      "Using Chrome with user agent: Mozilla/5.0 (Windows NT 10.0; Win64; x64) AppleWebKit/537.36 (KHTML, like Gecko) Chrome/100.0.4896.127 Safari/537.36\n",
      "Error scraping url https://batdongsan.com.vn/cho-thue-can-ho-chung-cu-duong-tinh-lo-25b-phuong-an-phu-prj-petrovietnam-landmark/cho-gap-petrovn-2pn-2wc-105m2-ntcb-13tr-full-noi-that-15tr-thang-pr40851718: 're__icon-document'\n"
     ]
    },
    {
     "name": "stderr",
     "output_type": "stream",
     "text": [
      "Processing batches:  88%|████████▊ | 1024/1161 [2:12:21<13:12,  5.78s/it]"
     ]
    },
    {
     "name": "stdout",
     "output_type": "stream",
     "text": [
      "Error scraping url https://batdongsan.com.vn/cho-thue-can-ho-chung-cu-phuong-phuoc-long-b-prj-khu-dan-cu-gia-hoa/c-a-gio-hang-cap-nhap-lien-tuc-pr42700993: 're__icon-front-view'\n",
      "Error scraping url https://batdongsan.com.vn/cho-thue-can-ho-chung-cu-duong-nguyen-van-linh-phuong-tan-thuan-tay-1-prj-eco-green-sai-gon/-quan-7-view-landmark-boi-sang-trong-vao-o-ngay-pr42647912: 're__icon-front-view'\n",
      "Using Chrome with user agent: Mozilla/5.0 (Macintosh; Intel Mac OS X 10_15_7) AppleWebKit/537.36 (KHTML, like Gecko) Chrome/100.0.4896.127 Safari/537.36\n"
     ]
    },
    {
     "name": "stderr",
     "output_type": "stream",
     "text": [
      "Processing batches:  88%|████████▊ | 1025/1161 [2:12:25<11:44,  5.18s/it]"
     ]
    },
    {
     "name": "stdout",
     "output_type": "stream",
     "text": [
      "Using Chrome with user agent: Mozilla/5.0 (Macintosh; Intel Mac OS X 10_15_7) AppleWebKit/537.36 (KHTML, like Gecko) Chrome/99.0.4844.84 Safari/537.36\n",
      "Using Chrome with user agent: Mozilla/5.0 (Macintosh; Intel Mac OS X 10_15_7) AppleWebKit/537.36 (KHTML, like Gecko) Chrome/99.0.4844.84 Safari/537.36\n",
      "Error scraping url https://batdongsan.com.vn/cho-thue-can-ho-chung-cu-duong-cao-dat-phuong-1-15-prj-chung-cu-phuc-thinh/-quan-5-70m2-2pn-nt-gia-12-5tr-th-lh-pr42704506: HTTPConnectionPool(host='localhost', port=54991): Read timed out. (read timeout=120)\n"
     ]
    },
    {
     "name": "stderr",
     "output_type": "stream",
     "text": [
      "Processing batches:  88%|████████▊ | 1026/1161 [2:12:42<19:53,  8.84s/it]"
     ]
    },
    {
     "name": "stdout",
     "output_type": "stream",
     "text": [
      "Error scraping url https://batdongsan.com.vn/cho-thue-can-ho-chung-cu-duong-nguyen-thi-dinh-phuong-cat-lai-prj-can-ho-citi-alto/c-o-q2-tp-hcm-gia-sieu-i-6-5-trieu-50m2-moi-100-pr42702246: 're__icon-clock'\n"
     ]
    },
    {
     "name": "stderr",
     "output_type": "stream",
     "text": [
      "Processing batches:  88%|████████▊ | 1027/1161 [2:12:43<14:07,  6.32s/it]"
     ]
    },
    {
     "name": "stdout",
     "output_type": "stream",
     "text": [
      "Using Chrome with user agent: Mozilla/5.0 (Macintosh; Intel Mac OS X 10_15_7) AppleWebKit/537.36 (KHTML, like Gecko) Chrome/99.0.4844.84 Safari/537.36\n",
      "Using Chrome with user agent: Mozilla/5.0 (Macintosh; Intel Mac OS X 10_15_7) AppleWebKit/537.36 (KHTML, like Gecko) Chrome/100.0.4896.127 Safari/537.36\n",
      "Error scraping url https://batdongsan.com.vn/cho-thue-can-ho-chung-cu-duong-nguyen-luong-bang-1-phuong-phu-my-9-prj-q7-boulevard/van-png-69m2-sat-dai-lo-12-trieu-thang-q7-pr42702724: 're__icon-front-view'\n"
     ]
    },
    {
     "name": "stderr",
     "output_type": "stream",
     "text": [
      "Processing batches:  89%|████████▊ | 1028/1161 [2:12:51<15:21,  6.93s/it]"
     ]
    },
    {
     "name": "stdout",
     "output_type": "stream",
     "text": [
      "Error scraping url https://batdongsan.com.vn/cho-thue-can-ho-chung-cu-mini-pho-luong-dinh-cua-phuong-an-phu-1/-ap-mai-ban-cong-tang-mat-view-sen-cuc-xin-gan-cau-sai-gon-sat-quan-1-quan-2-pr42702603: 're__icon-clock'\n"
     ]
    },
    {
     "name": "stderr",
     "output_type": "stream",
     "text": [
      "Processing batches:  89%|████████▊ | 1029/1161 [2:12:53<12:07,  5.51s/it]"
     ]
    },
    {
     "name": "stdout",
     "output_type": "stream",
     "text": [
      "Using Chrome with user agent: Mozilla/5.0 (Macintosh; Intel Mac OS X 10_15_7) AppleWebKit/537.36 (KHTML, like Gecko) Chrome/99.0.4844.84 Safari/537.36\n",
      "Using Chrome with user agent: Mozilla/5.0 (Macintosh; Intel Mac OS X 10_15_7) AppleWebKit/537.36 (KHTML, like Gecko) Chrome/100.0.4896.127 Safari/537.36\n"
     ]
    },
    {
     "name": "stderr",
     "output_type": "stream",
     "text": [
      "Processing batches:  89%|████████▊ | 1030/1161 [2:12:59<12:07,  5.55s/it]"
     ]
    },
    {
     "name": "stdout",
     "output_type": "stream",
     "text": [
      "Error scraping url https://batdongsan.com.vn/cho-thue-can-ho-chung-cu-mini-duong-nguyen-thi-thap-phuong-tan-phong-9/studio-bancol-full-noi-that-gia-sieu-hoi-tai-q7-gan-lotte-g-voucher-2tr-khi-chot-pr42702033: 're__icon-clock'\n",
      "Error scraping url https://batdongsan.com.vn/cho-thue-can-ho-chung-cu-duong-vo-van-kiet-phuong-an-lac-6-prj-akari-city-nam-long/c-2pn-2wc-80m2-gia-10-5-trieu-tai-cach-tt-thanh-p-20-phut-pr42158538: 're__icon-front-view'\n"
     ]
    },
    {
     "name": "stderr",
     "output_type": "stream",
     "text": [
      "Processing batches:  89%|████████▉ | 1032/1161 [2:13:03<07:50,  3.64s/it]"
     ]
    },
    {
     "name": "stdout",
     "output_type": "stream",
     "text": [
      "Using Chrome with user agent: Mozilla/5.0 (Macintosh; Intel Mac OS X 10_15_7) AppleWebKit/537.36 (KHTML, like Gecko) Chrome/100.0.4896.127 Safari/537.36\n",
      "Using Chrome with user agent: Mozilla/5.0 (Macintosh; Intel Mac OS X 10_15_7) AppleWebKit/537.36 (KHTML, like Gecko) Chrome/100.0.4896.127 Safari/537.36\n",
      "Using Chrome with user agent: Mozilla/5.0 (Windows NT 10.0; Win64; x64) AppleWebKit/537.36 (KHTML, like Gecko) Chrome/99.0.4844.84 Safari/537.36\n",
      "Error scraping url https://batdongsan.com.vn/cho-thue-can-ho-chung-cu-duong-pham-hung-xa-binh-hung-1-prj-can-ho-terra-mia/c-68m-2pn-ngay-nga-tu-nguyen-van-linh-pr35371747: 're__icon-front-view'\n"
     ]
    },
    {
     "name": "stderr",
     "output_type": "stream",
     "text": [
      "Processing batches:  89%|████████▉ | 1033/1161 [2:13:18<15:05,  7.08s/it]"
     ]
    },
    {
     "name": "stdout",
     "output_type": "stream",
     "text": [
      "Error scraping url https://batdongsan.com.vn/cho-thue-can-ho-chung-cu-phuong-long-thanh-my-prj-vinhomes-grand-park/cho-2-2pn-1-69m2-5-5-trieu-th-va-3pn-81m2-6-5-trieu-th-noi-that-pr34267173: 're__icon-document'\n"
     ]
    },
    {
     "name": "stderr",
     "output_type": "stream",
     "text": [
      "Processing batches:  89%|████████▉ | 1034/1161 [2:13:19<10:47,  5.10s/it]"
     ]
    },
    {
     "name": "stdout",
     "output_type": "stream",
     "text": [
      "Error scraping url https://batdongsan.com.vn/cho-thue-can-ho-chung-cu-mini-duong-ngo-be-phuong-13-10/cho-cc-40m2-1pn-1wc-6-trieu-vnd-tai-p-13-tan-binh-hcm-pr42701391: 're__icon-electricity'\n"
     ]
    },
    {
     "name": "stderr",
     "output_type": "stream",
     "text": [
      "Processing batches:  89%|████████▉ | 1035/1161 [2:13:19<07:54,  3.77s/it]"
     ]
    },
    {
     "name": "stdout",
     "output_type": "stream",
     "text": [
      "Using Chrome with user agent: Mozilla/5.0 (Macintosh; Intel Mac OS X 10_15_7) AppleWebKit/537.36 (KHTML, like Gecko) Chrome/99.0.4844.84 Safari/537.36\n",
      "Using Chrome with user agent: Mozilla/5.0 (Windows NT 10.0; Win64; x64) AppleWebKit/537.36 (KHTML, like Gecko) Chrome/100.0.4896.127 Safari/537.36\n",
      "Using Chrome with user agent: Mozilla/5.0 (Macintosh; Intel Mac OS X 10_15_7) AppleWebKit/537.36 (KHTML, like Gecko) Chrome/99.0.4844.84 Safari/537.36\n",
      "Error scraping url https://batdongsan.com.vn/cho-thue-can-ho-chung-cu-phuong-long-binh-3-prj-masteri-centre-point/cho-2pn-gia-that-100-pr42702103: 're__icon-front-view'\n"
     ]
    },
    {
     "name": "stderr",
     "output_type": "stream",
     "text": [
      "Processing batches:  89%|████████▉ | 1036/1161 [2:13:27<10:30,  5.04s/it]"
     ]
    },
    {
     "name": "stdout",
     "output_type": "stream",
     "text": [
      "Error scraping url https://batdongsan.com.vn/cho-thue-can-ho-chung-cu-duong-go-cat-phuong-phu-huu-2-prj-can-ho-ricca-quan-9/c-9-1pn-1wc-full-noi-that-dep-mat-h-nam-noi-that-xin-pr42583258: 're__icon-private-house'\n"
     ]
    },
    {
     "name": "stderr",
     "output_type": "stream",
     "text": [
      "Processing batches:  89%|████████▉ | 1037/1161 [2:13:29<08:00,  3.88s/it]"
     ]
    },
    {
     "name": "stdout",
     "output_type": "stream",
     "text": [
      "Error scraping url https://batdongsan.com.vn/cho-thue-can-ho-chung-cu-mini-duong-truong-chinh-phuong-tan-thoi-nhat-1/phong-ban-cong-thoang-mat-tai-q12-gia-sieu-hoi-pr41991624: 're__icon-clock'\n"
     ]
    },
    {
     "name": "stderr",
     "output_type": "stream",
     "text": [
      "Processing batches:  89%|████████▉ | 1038/1161 [2:13:29<05:52,  2.87s/it]"
     ]
    },
    {
     "name": "stdout",
     "output_type": "stream",
     "text": [
      "Using Chrome with user agent: Mozilla/5.0 (Windows NT 10.0; Win64; x64) AppleWebKit/537.36 (KHTML, like Gecko) Chrome/100.0.4896.127 Safari/537.36\n",
      "Using Chrome with user agent: Mozilla/5.0 (Windows NT 10.0; Win64; x64) AppleWebKit/537.36 (KHTML, like Gecko) Chrome/99.0.4844.84 Safari/537.36\n",
      "Using Chrome with user agent: Mozilla/5.0 (Windows NT 10.0; Win64; x64) AppleWebKit/537.36 (KHTML, like Gecko) Chrome/99.0.4844.84 Safari/537.36\n",
      "Error scraping url https://batdongsan.com.vn/cho-thue-can-ho-chung-cu-mini-duong-nguyen-huu-canh-phuong-22/chinh-chu-c-studio-ban-cong-h-metro-van-thanh-view-landmark-81-pr42468498: 're__icon-electricity'\n"
     ]
    },
    {
     "name": "stderr",
     "output_type": "stream",
     "text": [
      "Processing batches:  89%|████████▉ | 1039/1161 [2:13:35<07:39,  3.77s/it]"
     ]
    },
    {
     "name": "stdout",
     "output_type": "stream",
     "text": [
      "Error scraping url https://batdongsan.com.vn/cho-thue-can-ho-chung-cu-duong-nguyen-huu-tho-phuong-tan-hung-14-prj-sunrise-city-view/quan-ly-nhieu-gia-dai-han-ngan-han-cap-nhat-thuong-xuyen-pr34920638: 're__icon-front-view'\n"
     ]
    },
    {
     "name": "stderr",
     "output_type": "stream",
     "text": [
      "Processing batches:  90%|████████▉ | 1041/1161 [2:13:39<05:32,  2.77s/it]"
     ]
    },
    {
     "name": "stdout",
     "output_type": "stream",
     "text": [
      "Error scraping url https://batdongsan.com.vn/cho-thue-can-ho-chung-cu-duong-so-9a-xa-binh-hung-1-prj-sai-gon-mia/saigon-c-2pn-noi-that-co-ban-12-trieu-th-lh-xem-nha-pr39548644: 're__icon-document'\n"
     ]
    },
    {
     "name": "stderr",
     "output_type": "stream",
     "text": [
      "Processing batches:  90%|████████▉ | 1042/1161 [2:13:39<04:09,  2.10s/it]"
     ]
    },
    {
     "name": "stdout",
     "output_type": "stream",
     "text": [
      "Error scraping url https://batdongsan.com.vn/cho-thue-can-ho-chung-cu-duong-dien-bien-phu-phuong-22-prj-the-landmark-81-vinhomes-central-park/c-2pn-vinmes-toa-81-view-song-full-noi-that-sang-trong-pr42700039: 're__icon-clock'\n",
      "Using Chrome with user agent: Mozilla/5.0 (Macintosh; Intel Mac OS X 10_15_7) AppleWebKit/537.36 (KHTML, like Gecko) Chrome/99.0.4844.84 Safari/537.36\n",
      "Using Chrome with user agent: Mozilla/5.0 (Windows NT 10.0; Win64; x64) AppleWebKit/537.36 (KHTML, like Gecko) Chrome/100.0.4896.127 Safari/537.36\n",
      "Using Chrome with user agent: Mozilla/5.0 (Macintosh; Intel Mac OS X 10_15_7) AppleWebKit/537.36 (KHTML, like Gecko) Chrome/100.0.4896.127 Safari/537.36\n",
      "Using Chrome with user agent: Mozilla/5.0 (Macintosh; Intel Mac OS X 10_15_7) AppleWebKit/537.36 (KHTML, like Gecko) Chrome/99.0.4844.84 Safari/537.36\n",
      "Error scraping url https://batdongsan.com.vn/cho-thue-can-ho-chung-cu-duong-nguyen-gia-tri-phuong-25-prj-saigonland-apartment/c-20m2-tai-6-5-trieu-binh-thanh-tp-hcm-pr42700276: 're__icon-front-view'\n"
     ]
    },
    {
     "name": "stderr",
     "output_type": "stream",
     "text": [
      "Processing batches:  90%|████████▉ | 1043/1161 [2:13:52<10:07,  5.15s/it]"
     ]
    },
    {
     "name": "stdout",
     "output_type": "stream",
     "text": [
      "Using Chrome with user agent: Mozilla/5.0 (Windows NT 10.0; Win64; x64) AppleWebKit/537.36 (KHTML, like Gecko) Chrome/99.0.4844.84 Safari/537.36\n",
      "Error scraping url https://batdongsan.com.vn/cho-thue-can-ho-chung-cu-duong-dai-lo-vong-cung-phuong-an-khanh-prj-the-crest-residence/c-metropole-thu-thiem-2-png-ngu-pr42410014: 're__icon-clock'\n"
     ]
    },
    {
     "name": "stderr",
     "output_type": "stream",
     "text": [
      "Processing batches:  90%|████████▉ | 1044/1161 [2:13:59<11:09,  5.72s/it]"
     ]
    },
    {
     "name": "stdout",
     "output_type": "stream",
     "text": [
      "Error scraping url https://batdongsan.com.vn/cho-thue-can-ho-chung-cu-duong-vo-truong-toan-phuong-thao-dien-prj-masteri-an-phu/-cho-2-phong-ngu-74-m2-day-du-noi-that-18-tr-thg-pr42309731: 're__icon-front-view'\n"
     ]
    },
    {
     "name": "stderr",
     "output_type": "stream",
     "text": [
      "Processing batches:  90%|█████████ | 1045/1161 [2:14:01<08:50,  4.58s/it]"
     ]
    },
    {
     "name": "stdout",
     "output_type": "stream",
     "text": [
      "Using Chrome with user agent: Mozilla/5.0 (Macintosh; Intel Mac OS X 10_15_7) AppleWebKit/537.36 (KHTML, like Gecko) Chrome/100.0.4896.127 Safari/537.36\n",
      "Using Chrome with user agent: Mozilla/5.0 (Windows NT 10.0; Win64; x64) AppleWebKit/537.36 (KHTML, like Gecko) Chrome/100.0.4896.127 Safari/537.36\n",
      "Error scraping url https://batdongsan.com.vn/cho-thue-can-ho-chung-cu-phuong-long-thanh-my-prj-vinhomes-grand-park/c-studio-vinme-tien-nghi-full-noi-that-pr42698143: 're__icon-private-house'\n"
     ]
    },
    {
     "name": "stderr",
     "output_type": "stream",
     "text": [
      "Processing batches:  90%|█████████ | 1046/1161 [2:14:07<09:31,  4.97s/it]"
     ]
    },
    {
     "name": "stdout",
     "output_type": "stream",
     "text": [
      "Using Chrome with user agent: Mozilla/5.0 (Macintosh; Intel Mac OS X 10_15_7) AppleWebKit/537.36 (KHTML, like Gecko) Chrome/100.0.4896.127 Safari/537.36\n"
     ]
    },
    {
     "name": "stderr",
     "output_type": "stream",
     "text": [
      "Processing batches:  90%|█████████ | 1047/1161 [2:14:11<08:58,  4.73s/it]"
     ]
    },
    {
     "name": "stdout",
     "output_type": "stream",
     "text": [
      "Error scraping url https://batdongsan.com.vn/cho-thue-nha-tro-phong-tro-duong-huynh-tan-phat-phuong-phu-thuan-3/-co-gac-moi-xay-gan-cau-my-pr42700040: 're__icon-clock'\n",
      "Using Chrome with user agent: Mozilla/5.0 (Macintosh; Intel Mac OS X 10_15_7) AppleWebKit/537.36 (KHTML, like Gecko) Chrome/99.0.4844.84 Safari/537.36\n",
      "Error scraping url https://batdongsan.com.vn/cho-thue-can-ho-chung-cu-duong-hong-ha-phuong-9-12-prj-can-ho-orchard-park-view/t-c-golden-mansion-55m2-2png-ngu-gia-c-tot-chi-13tr-thang-khu-san-bay-pr42687778: 're__icon-clock'\n"
     ]
    },
    {
     "name": "stderr",
     "output_type": "stream",
     "text": [
      "Processing batches:  90%|█████████ | 1048/1161 [2:14:19<11:05,  5.89s/it]"
     ]
    },
    {
     "name": "stdout",
     "output_type": "stream",
     "text": [
      "Using Chrome with user agent: Mozilla/5.0 (Macintosh; Intel Mac OS X 10_15_7) AppleWebKit/537.36 (KHTML, like Gecko) Chrome/99.0.4844.84 Safari/537.36\n"
     ]
    },
    {
     "name": "stderr",
     "output_type": "stream",
     "text": [
      "Processing batches:  90%|█████████ | 1049/1161 [2:14:27<12:12,  6.54s/it]"
     ]
    },
    {
     "name": "stdout",
     "output_type": "stream",
     "text": [
      "Error scraping url https://batdongsan.com.vn/cho-thue-can-ho-chung-cu-mini-duong-nguyen-thi-thap-phuong-tan-quy/chuoi-phong-dep-da-dang-nhieu-muc-gia-huynh-phat-canh-lotte-mart-quan-7-pr42699221: 're__icon-front-view'\n",
      "Error scraping url https://batdongsan.com.vn/cho-thue-can-ho-chung-cu-duong-nguyen-luong-bang-1-phuong-tan-phu-19-prj-the-antonia/c-nhieu-2pn-3pn-gia-tot-lien-he-thao-nsg-pr38389899: 're__icon-clock'\n"
     ]
    },
    {
     "name": "stderr",
     "output_type": "stream",
     "text": [
      "Processing batches:  90%|█████████ | 1050/1161 [2:14:31<10:20,  5.59s/it]"
     ]
    },
    {
     "name": "stdout",
     "output_type": "stream",
     "text": [
      "Using Chrome with user agent: Mozilla/5.0 (Windows NT 10.0; Win64; x64) AppleWebKit/537.36 (KHTML, like Gecko) Chrome/100.0.4896.127 Safari/537.36\n",
      "Using Chrome with user agent: Mozilla/5.0 (Macintosh; Intel Mac OS X 10_15_7) AppleWebKit/537.36 (KHTML, like Gecko) Chrome/100.0.4896.127 Safari/537.36\n",
      "Error scraping url https://batdongsan.com.vn/cho-thue-can-ho-chung-cu-mini-duong-d2-phuong-tan-hung-14/c-40m2-gia-tu-7-5-trieu-tai-q7-sat-lotte-mart-pr42699128: 're__icon-private-house'\n"
     ]
    },
    {
     "name": "stderr",
     "output_type": "stream",
     "text": [
      "Processing batches:  91%|█████████ | 1051/1161 [2:14:46<15:45,  8.59s/it]"
     ]
    },
    {
     "name": "stdout",
     "output_type": "stream",
     "text": [
      "Using Chrome with user agent: Mozilla/5.0 (Macintosh; Intel Mac OS X 10_15_7) AppleWebKit/537.36 (KHTML, like Gecko) Chrome/100.0.4896.127 Safari/537.36\n",
      "Error scraping url https://batdongsan.com.vn/cho-thue-can-ho-chung-cu-duong-xa-lo-ha-noi-phuong-thao-dien-prj-masteri-an-phu/cho-ch-2pn-70m2-view-thh-pho-gia-sieu-tot-chi-tu-17-trieu-phu-pr42699231: 're__icon-front-view'\n"
     ]
    },
    {
     "name": "stderr",
     "output_type": "stream",
     "text": [
      "Processing batches:  91%|█████████ | 1052/1161 [2:14:50<13:06,  7.22s/it]"
     ]
    },
    {
     "name": "stdout",
     "output_type": "stream",
     "text": [
      "Using Chrome with user agent: Mozilla/5.0 (Macintosh; Intel Mac OS X 10_15_7) AppleWebKit/537.36 (KHTML, like Gecko) Chrome/99.0.4844.84 Safari/537.36\n"
     ]
    },
    {
     "name": "stderr",
     "output_type": "stream",
     "text": [
      "Processing batches:  91%|█████████ | 1053/1161 [2:14:59<13:47,  7.66s/it]"
     ]
    },
    {
     "name": "stdout",
     "output_type": "stream",
     "text": [
      "Error scraping url https://batdongsan.com.vn/cho-thue-can-ho-chung-cu-duong-bach-dang-phuong-2-22-prj-sai-gon-airport-plaza/-saigon-tb-98m2-noi-that-cao-cap-2pn-16tr-pr42698871: 're__icon-clock'\n",
      "Using Chrome with user agent: Mozilla/5.0 (Windows NT 10.0; Win64; x64) AppleWebKit/537.36 (KHTML, like Gecko) Chrome/99.0.4844.84 Safari/537.36\n",
      "Error scraping url https://batdongsan.com.vn/cho-thue-nha-tro-phong-tro-duong-dang-van-ngu-phuong-10-9/-cua-so-i-noi-that-can-ban-phu-nhuan-pr42698934: 're__icon-clock'\n"
     ]
    },
    {
     "name": "stderr",
     "output_type": "stream",
     "text": [
      "Processing batches:  91%|█████████ | 1054/1161 [2:15:06<13:20,  7.48s/it]"
     ]
    },
    {
     "name": "stdout",
     "output_type": "stream",
     "text": [
      "Error scraping url https://batdongsan.com.vn/cho-thue-can-ho-chung-cu-duong-xa-lo-ha-noi-phuong-thao-dien-prj-masteri-thao-dien/cho-1pn-thap-t5-day-du-that-16-trieu-th-vao-o-ngay-pr41434687: 're__icon-front-view'\n"
     ]
    },
    {
     "name": "stderr",
     "output_type": "stream",
     "text": [
      "Processing batches:  91%|█████████ | 1055/1161 [2:15:08<10:26,  5.91s/it]"
     ]
    },
    {
     "name": "stdout",
     "output_type": "stream",
     "text": [
      "Using Chrome with user agent: Mozilla/5.0 (Macintosh; Intel Mac OS X 10_15_7) AppleWebKit/537.36 (KHTML, like Gecko) Chrome/99.0.4844.84 Safari/537.36\n",
      "Using Chrome with user agent: Mozilla/5.0 (Windows NT 10.0; Win64; x64) AppleWebKit/537.36 (KHTML, like Gecko) Chrome/99.0.4844.84 Safari/537.36\n",
      "Error scraping url https://batdongsan.com.vn/cho-thue-can-ho-chung-cu-duong-le-van-luong-phuong-tan-hung-14-prj-hoang-anh-gia-lai-1/c-3pn-3wc-110m2-12-trieu-tai-ang-1-quan-7-tp-hcm-pr42698673: 're__icon-front-view'\n"
     ]
    },
    {
     "name": "stderr",
     "output_type": "stream",
     "text": [
      "Processing batches:  91%|█████████ | 1056/1161 [2:15:19<12:43,  7.27s/it]"
     ]
    },
    {
     "name": "stdout",
     "output_type": "stream",
     "text": [
      "Using Chrome with user agent: Mozilla/5.0 (Windows NT 10.0; Win64; x64) AppleWebKit/537.36 (KHTML, like Gecko) Chrome/100.0.4896.127 Safari/537.36\n"
     ]
    },
    {
     "name": "stderr",
     "output_type": "stream",
     "text": [
      "Processing batches:  91%|█████████ | 1057/1161 [2:15:23<11:11,  6.46s/it]"
     ]
    },
    {
     "name": "stdout",
     "output_type": "stream",
     "text": [
      "Error scraping url https://batdongsan.com.vn/cho-thue-can-ho-chung-cu-duong-xa-lo-ha-noi-phuong-an-phu-prj-cantavil-an-phu-cantavil-premier/c-gap-tavil-q-2-2pn-gia-tot-15tr-ngay-tttm-lau-cao-view-tang-de-xem-nha-pr42441987: 're__icon-front-view'\n"
     ]
    },
    {
     "name": "stderr",
     "output_type": "stream",
     "text": [
      "Processing batches:  91%|█████████ | 1058/1161 [2:15:26<09:21,  5.45s/it]"
     ]
    },
    {
     "name": "stdout",
     "output_type": "stream",
     "text": [
      "Error scraping url https://batdongsan.com.vn/cho-thue-can-ho-chung-cu-duong-nguyen-huu-tho-phuong-tan-hung-14-prj-sunrise-city-view/cho-studio-full-noi-that-gia-11tr-0968317858-pr33106856: 're__icon-front-view'\n",
      "Using Chrome with user agent: Mozilla/5.0 (Windows NT 10.0; Win64; x64) AppleWebKit/537.36 (KHTML, like Gecko) Chrome/100.0.4896.127 Safari/537.36\n",
      "Using Chrome with user agent: Mozilla/5.0 (Windows NT 10.0; Win64; x64) AppleWebKit/537.36 (KHTML, like Gecko) Chrome/99.0.4844.84 Safari/537.36\n"
     ]
    },
    {
     "name": "stderr",
     "output_type": "stream",
     "text": [
      "Processing batches:  91%|█████████ | 1059/1161 [2:15:31<09:00,  5.30s/it]"
     ]
    },
    {
     "name": "stdout",
     "output_type": "stream",
     "text": [
      "Error scraping url https://batdongsan.com.vn/cho-thue-can-ho-chung-cu-duong-pham-van-dong-phuong-3-20-prj-sunny-plaza/cho-gan-san-bay-98m2-3-phong-ngu-day-du-tien-nghi-tel-pr42329472: 're__icon-clock'\n",
      "Using Chrome with user agent: Mozilla/5.0 (Windows NT 10.0; Win64; x64) AppleWebKit/537.36 (KHTML, like Gecko) Chrome/100.0.4896.127 Safari/537.36\n",
      "Error scraping url https://batdongsan.com.vn/cho-thue-can-ho-chung-cu-duong-nguyen-hong-phuong-1-21-prj-samland-airport/cho-goc-2pn2wc-full-noi-that-p1-go-vap-pr42697723: 're__icon-clock'\n"
     ]
    },
    {
     "name": "stderr",
     "output_type": "stream",
     "text": [
      "Processing batches:  91%|█████████▏| 1060/1161 [2:15:40<10:48,  6.42s/it]"
     ]
    },
    {
     "name": "stdout",
     "output_type": "stream",
     "text": [
      "Error scraping url https://batdongsan.com.vn/cho-thue-can-ho-chung-cu-duong-d1-phuong-tan-hung-14-prj-him-lam-riverside/cho-2pn-60m2-co-noi-that-gia-19-5tr-th-du-an-quan-7-pr42697814: 're__icon-private-house'\n"
     ]
    },
    {
     "name": "stderr",
     "output_type": "stream",
     "text": [
      "Processing batches:  91%|█████████▏| 1061/1161 [2:15:42<08:26,  5.07s/it]"
     ]
    },
    {
     "name": "stdout",
     "output_type": "stream",
     "text": [
      "Using Chrome with user agent: Mozilla/5.0 (Windows NT 10.0; Win64; x64) AppleWebKit/537.36 (KHTML, like Gecko) Chrome/100.0.4896.127 Safari/537.36\n",
      "Using Chrome with user agent: Mozilla/5.0 (Macintosh; Intel Mac OS X 10_15_7) AppleWebKit/537.36 (KHTML, like Gecko) Chrome/99.0.4844.84 Safari/537.36\n",
      "Error scraping url https://batdongsan.com.vn/cho-thue-can-ho-chung-cu-duong-thanh-xuan-13-phuong-thanh-xuan-prj-picity-high-park/cho-57m2-2pn-1wc-day-du-noi-that-moi-sach-don-do-o-lien-thap-c2-gia-11-trieu-thang-quan-12-pr42158620: 're__icon-front-view'\n"
     ]
    },
    {
     "name": "stderr",
     "output_type": "stream",
     "text": [
      "Processing batches:  92%|█████████▏| 1063/1161 [2:15:49<06:25,  3.93s/it]"
     ]
    },
    {
     "name": "stdout",
     "output_type": "stream",
     "text": [
      "Error scraping url https://batdongsan.com.vn/cho-thue-can-ho-chung-cu-mini-duong-phan-van-tri-phuong-10-8-prj-cityland-park-hills/c-2-png-ngu-tai-8-trieu-vnd-40-m2-gia-uu-dai-uy-tin-pr41559000: 're__icon-document'\n",
      "Error scraping url https://batdongsan.com.vn/cho-thue-can-ho-chung-cu-duong-hong-bang-phuong-12-2-prj-hung-vuong-plaza/cho-cc-19-trieu-vnd-130-m2-3pn-3wc-quan-5-hcm-pr42700037: HTTPConnectionPool(host='localhost', port=58632): Read timed out. (read timeout=120)\n"
     ]
    },
    {
     "name": "stderr",
     "output_type": "stream",
     "text": [
      "Processing batches:  92%|█████████▏| 1064/1161 [2:15:51<05:37,  3.48s/it]"
     ]
    },
    {
     "name": "stdout",
     "output_type": "stream",
     "text": [
      "Using Chrome with user agent: Mozilla/5.0 (Macintosh; Intel Mac OS X 10_15_7) AppleWebKit/537.36 (KHTML, like Gecko) Chrome/99.0.4844.84 Safari/537.36\n",
      "Using Chrome with user agent: Mozilla/5.0 (Windows NT 10.0; Win64; x64) AppleWebKit/537.36 (KHTML, like Gecko) Chrome/100.0.4896.127 Safari/537.36\n",
      "Error scraping url https://batdongsan.com.vn/cho-thue-can-ho-chung-cu-pho-ta-quang-buu-phuong-5-11-prj-khu-can-ho-chanh-hung-giai-viet/-rong-150m2-3-phong-ngu-noi-that-co-ban-lh-ngay-pr42700603: HTTPConnectionPool(host='localhost', port=58710): Read timed out. (read timeout=120)\n"
     ]
    },
    {
     "name": "stderr",
     "output_type": "stream",
     "text": [
      "Processing batches:  92%|█████████▏| 1065/1161 [2:15:56<06:07,  3.82s/it]"
     ]
    },
    {
     "name": "stdout",
     "output_type": "stream",
     "text": [
      "Using Chrome with user agent: Mozilla/5.0 (Windows NT 10.0; Win64; x64) AppleWebKit/537.36 (KHTML, like Gecko) Chrome/99.0.4844.84 Safari/537.36\n",
      "Error scraping url https://batdongsan.com.vn/cho-thue-can-ho-chung-cu-mini-pho-tran-xuan-soan-phuong-tan-hung-14/-dich-vu-1pn-2pn-q7-nb-pr42694699: 're__icon-clock'\n"
     ]
    },
    {
     "name": "stderr",
     "output_type": "stream",
     "text": [
      "Processing batches:  92%|█████████▏| 1066/1161 [2:15:59<05:31,  3.48s/it]"
     ]
    },
    {
     "name": "stdout",
     "output_type": "stream",
     "text": [
      "Error scraping url https://batdongsan.com.vn/cho-thue-nha-tro-phong-tro-pho-24-phuong-11-3/cho-tien-nghi-va-kinh-te-tu-1-7-trieu-pr24880089: 're__icon-front-view'\n"
     ]
    },
    {
     "name": "stderr",
     "output_type": "stream",
     "text": [
      "Processing batches:  92%|█████████▏| 1067/1161 [2:16:02<05:14,  3.34s/it]"
     ]
    },
    {
     "name": "stdout",
     "output_type": "stream",
     "text": [
      "Using Chrome with user agent: Mozilla/5.0 (Macintosh; Intel Mac OS X 10_15_7) AppleWebKit/537.36 (KHTML, like Gecko) Chrome/99.0.4844.84 Safari/537.36\n",
      "Using Chrome with user agent: Mozilla/5.0 (Macintosh; Intel Mac OS X 10_15_7) AppleWebKit/537.36 (KHTML, like Gecko) Chrome/99.0.4844.84 Safari/537.36\n",
      "Error scraping url https://batdongsan.com.vn/cho-thue-can-ho-chung-cu-mini-duong-xo-viet-nghe-tinh-phuong-17-1/c-1-png-ngu-ban-cong-mat-tien-moi-100-may-giat-rieng-gan-nga-tu-hang-xanh-pr42696687: 're__icon-clock'\n"
     ]
    },
    {
     "name": "stderr",
     "output_type": "stream",
     "text": [
      "Processing batches:  92%|█████████▏| 1068/1161 [2:16:06<05:34,  3.60s/it]"
     ]
    },
    {
     "name": "stdout",
     "output_type": "stream",
     "text": [
      "Using Chrome with user agent: Mozilla/5.0 (Macintosh; Intel Mac OS X 10_15_7) AppleWebKit/537.36 (KHTML, like Gecko) Chrome/99.0.4844.84 Safari/537.36\n",
      "Using Chrome with user agent: Mozilla/5.0 (Windows NT 10.0; Win64; x64) AppleWebKit/537.36 (KHTML, like Gecko) Chrome/100.0.4896.127 Safari/537.36\n",
      "Error scraping url https://batdongsan.com.vn/cho-thue-can-ho-chung-cu-duong-huynh-tan-phat-phuong-phu-thuan-3-prj-d-vela/cho-2pn-2wc-70m-ay-u-noi-that-tai-quan-7-chi-10-trieu-thang-pr35632834: 're__icon-front-view'\n"
     ]
    },
    {
     "name": "stderr",
     "output_type": "stream",
     "text": [
      "Processing batches:  92%|█████████▏| 1069/1161 [2:16:23<11:55,  7.78s/it]"
     ]
    },
    {
     "name": "stdout",
     "output_type": "stream",
     "text": [
      "Error scraping url https://batdongsan.com.vn/cho-thue-nha-tro-phong-tro-duong-lac-long-quan-phuong-5-13/cho-dep-tai-4-trieu-20m2-pr42696523: 're__icon-clock'\n",
      "Error scraping url https://batdongsan.com.vn/cho-thue-nha-tro-phong-tro-duong-xo-viet-nghe-tinh-phuong-25/len-tiep-1-sieu-pham-duplex-co-bancol-view-sieu-me-pr42696933: 're__icon-clock'\n"
     ]
    },
    {
     "name": "stderr",
     "output_type": "stream",
     "text": [
      "Processing batches:  92%|█████████▏| 1071/1161 [2:16:25<06:03,  4.04s/it]"
     ]
    },
    {
     "name": "stdout",
     "output_type": "stream",
     "text": [
      "Using Chrome with user agent: Mozilla/5.0 (Macintosh; Intel Mac OS X 10_15_7) AppleWebKit/537.36 (KHTML, like Gecko) Chrome/100.0.4896.127 Safari/537.36\n",
      "Error scraping url https://batdongsan.com.vn/cho-thue-can-ho-chung-cu-mini-duong-tran-thi-ngoi-phuong-4-15/ngay-parc-mall-aeon-q8-ban-cong-full-noi-that-gia-ca-con-thuong-luong-cho-khach-chot-o-ngay-pr42697012: 're__icon-clock'\n"
     ]
    },
    {
     "name": "stderr",
     "output_type": "stream",
     "text": [
      "Processing batches:  92%|█████████▏| 1072/1161 [2:16:28<05:50,  3.94s/it]"
     ]
    },
    {
     "name": "stdout",
     "output_type": "stream",
     "text": [
      "Using Chrome with user agent: Mozilla/5.0 (Windows NT 10.0; Win64; x64) AppleWebKit/537.36 (KHTML, like Gecko) Chrome/100.0.4896.127 Safari/537.36\n",
      "Using Chrome with user agent: Mozilla/5.0 (Windows NT 10.0; Win64; x64) AppleWebKit/537.36 (KHTML, like Gecko) Chrome/99.0.4844.84 Safari/537.36\n",
      "Error scraping url https://batdongsan.com.vn/cho-thue-can-ho-chung-cu-mini-pho-phan-dang-luu-phuong-5-16/chinh-chu-cho-2pn-2wc-ngay-45m2-full-nt-thoang-mat-o-lien-gan-xich-long-pr42696527: 're__icon-clock'\n"
     ]
    },
    {
     "name": "stderr",
     "output_type": "stream",
     "text": [
      "Processing batches:  92%|█████████▏| 1073/1161 [2:16:33<06:21,  4.33s/it]"
     ]
    },
    {
     "name": "stdout",
     "output_type": "stream",
     "text": [
      "Error scraping url https://batdongsan.com.vn/cho-thue-can-ho-chung-cu-duong-hoang-quoc-viet-phuong-phu-thuan-3-prj-river-panorama/gia-tot-nhat-thang-2pn-1wc-gia-12tr-2pn-2wc-13tr-3pn-16tr-pr42493783: 're__icon-front-view'\n"
     ]
    },
    {
     "name": "stderr",
     "output_type": "stream",
     "text": [
      "Processing batches:  93%|█████████▎| 1074/1161 [2:16:34<04:40,  3.23s/it]"
     ]
    },
    {
     "name": "stdout",
     "output_type": "stream",
     "text": [
      "Using Chrome with user agent: Mozilla/5.0 (Windows NT 10.0; Win64; x64) AppleWebKit/537.36 (KHTML, like Gecko) Chrome/99.0.4844.84 Safari/537.36\n",
      "Using Chrome with user agent: Mozilla/5.0 (Macintosh; Intel Mac OS X 10_15_7) AppleWebKit/537.36 (KHTML, like Gecko) Chrome/100.0.4896.127 Safari/537.36\n",
      "Error scraping url https://batdongsan.com.vn/cho-thue-can-ho-chung-cu-duong-xa-lo-ha-noi-phuong-an-phu-prj-cantavil-an-phu-cantavil-premier/trong-s-ctavil-120m2-3pn-chi-19-trieu-02-b-cong-g-tttm-sam-uat-g-tuyen-metro-pr42696094: 're__icon-clock'\n"
     ]
    },
    {
     "name": "stderr",
     "output_type": "stream",
     "text": [
      "Processing batches:  93%|█████████▎| 1075/1161 [2:16:40<05:46,  4.03s/it]"
     ]
    },
    {
     "name": "stdout",
     "output_type": "stream",
     "text": [
      "Using Chrome with user agent: Mozilla/5.0 (Macintosh; Intel Mac OS X 10_15_7) AppleWebKit/537.36 (KHTML, like Gecko) Chrome/99.0.4844.84 Safari/537.36\n",
      "Using Chrome with user agent: Mozilla/5.0 (Macintosh; Intel Mac OS X 10_15_7) AppleWebKit/537.36 (KHTML, like Gecko) Chrome/100.0.4896.127 Safari/537.36\n",
      "Error scraping url https://batdongsan.com.vn/cho-thue-can-ho-chung-cu-duong-mai-chi-tho-phuong-an-phu-prj-lexington-residence/c-q-2-2pn-lau-cao-view-tang-gia-tot-nhat-13tr-phi-thap-pr41796402: 're__icon-front-view'\n"
     ]
    },
    {
     "name": "stderr",
     "output_type": "stream",
     "text": [
      "Processing batches:  93%|█████████▎| 1076/1161 [2:16:52<08:54,  6.29s/it]"
     ]
    },
    {
     "name": "stdout",
     "output_type": "stream",
     "text": [
      "Using Chrome with user agent: Mozilla/5.0 (Macintosh; Intel Mac OS X 10_15_7) AppleWebKit/537.36 (KHTML, like Gecko) Chrome/99.0.4844.84 Safari/537.36\n",
      "Error scraping url https://batdongsan.com.vn/cho-thue-can-ho-chung-cu-phuong-long-thanh-my-prj-vinhomes-grand-park/cho-2-2pn-69m2-6trieu-th-va-3pn-81m2-7-5-trieu-th-noi-that-dep-pr39126997: 're__icon-document'\n"
     ]
    },
    {
     "name": "stderr",
     "output_type": "stream",
     "text": [
      "Processing batches:  93%|█████████▎| 1077/1161 [2:17:02<10:44,  7.68s/it]"
     ]
    },
    {
     "name": "stdout",
     "output_type": "stream",
     "text": [
      "Error scraping url https://batdongsan.com.vn/cho-thue-can-ho-chung-cu-mini-duong-nguyen-huu-canh-phuong-22/-full-noi-that-ban-ban-cong-may-giat-rieng-ngay-giap-q1-pr42695428: 're__icon-clock'\n"
     ]
    },
    {
     "name": "stderr",
     "output_type": "stream",
     "text": [
      "Processing batches:  93%|█████████▎| 1078/1161 [2:17:03<07:33,  5.46s/it]"
     ]
    },
    {
     "name": "stdout",
     "output_type": "stream",
     "text": [
      "Using Chrome with user agent: Mozilla/5.0 (Macintosh; Intel Mac OS X 10_15_7) AppleWebKit/537.36 (KHTML, like Gecko) Chrome/99.0.4844.84 Safari/537.36\n",
      "Using Chrome with user agent: Mozilla/5.0 (Windows NT 10.0; Win64; x64) AppleWebKit/537.36 (KHTML, like Gecko) Chrome/100.0.4896.127 Safari/537.36\n",
      "Error scraping url https://batdongsan.com.vn/cho-thue-can-ho-chung-cu-duong-truong-luu-phuong-long-truong-prj-chung-cu-mt-eastmark-city/chinh-chu-cho-2pn-63m2-mien-pql-gia-6-trieu-thang-nha-moi-co-nt-vao-o-ngay-pr41877316: 're__icon-electricity'\n"
     ]
    },
    {
     "name": "stderr",
     "output_type": "stream",
     "text": [
      "Processing batches:  93%|█████████▎| 1080/1161 [2:17:11<05:57,  4.41s/it]"
     ]
    },
    {
     "name": "stdout",
     "output_type": "stream",
     "text": [
      "Error scraping url https://batdongsan.com.vn/cho-thue-can-ho-chung-cu-duong-nguyen-duc-canh-phuong-tan-phong-9-prj-riverpark-premier/c-view-song-truc-dien-full-noi-that-cao-cap-pr42693999: 're__icon-private-house'\n"
     ]
    },
    {
     "name": "stderr",
     "output_type": "stream",
     "text": [
      "Processing batches:  93%|█████████▎| 1081/1161 [2:17:12<04:32,  3.41s/it]"
     ]
    },
    {
     "name": "stdout",
     "output_type": "stream",
     "text": [
      "Error scraping url https://batdongsan.com.vn/cho-thue-can-ho-chung-cu-duong-bui-vien-phuong-pham-ngu-lao-1/cho-2-phong-tai-pho-gia-tot-pr42590187: 're__icon-electricity'\n",
      "First method failed: Message: Service /Users/macbook/Library/Application Support/undetected_chromedriver/undetected_chromedriver unexpectedly exited. Status code was: -9\n",
      "\n",
      "Using Chrome driver at: /Users/macbook/.wdm/drivers/chromedriver/mac64/135.0.7049.95/chromedriver-mac-arm64/chromedriver\n",
      "Second method failed: you cannot reuse the ChromeOptions object\n",
      "Using Chrome with user agent: Mozilla/5.0 (Windows NT 10.0; Win64; x64) AppleWebKit/537.36 (KHTML, like Gecko) Chrome/99.0.4844.84 Safari/537.36\n",
      "Using Chrome with user agent: Mozilla/5.0 (Macintosh; Intel Mac OS X 10_15_7) AppleWebKit/537.36 (KHTML, like Gecko) Chrome/99.0.4844.84 Safari/537.36\n",
      "Error scraping url https://batdongsan.com.vn/cho-thue-can-ho-chung-cu-duong-tran-van-tra-phuong-tan-phu-19-prj-the-horizon-phu-my-hung/cho-3pn-q-7-chinh-chu-khong-moi-gioi-full-noi-that-75-trieu-thang-pr42399226: 're__icon-front-view'\n"
     ]
    },
    {
     "name": "stderr",
     "output_type": "stream",
     "text": [
      "Processing batches:  93%|█████████▎| 1082/1161 [2:17:22<07:20,  5.57s/it]"
     ]
    },
    {
     "name": "stdout",
     "output_type": "stream",
     "text": [
      "Using Chrome with user agent: Mozilla/5.0 (Windows NT 10.0; Win64; x64) AppleWebKit/537.36 (KHTML, like Gecko) Chrome/100.0.4896.127 Safari/537.36\n",
      "Error scraping url https://batdongsan.com.vn/cho-thue-can-ho-chung-cu-pho-ta-quang-buu-phuong-5-11-prj-central-premium/c-14-trieu-150m2-quan-8-hcm-gia-cuc-chat-t-pr42694932: 're__icon-clock'\n"
     ]
    },
    {
     "name": "stderr",
     "output_type": "stream",
     "text": [
      "Processing batches:  93%|█████████▎| 1083/1161 [2:17:29<07:33,  5.82s/it]"
     ]
    },
    {
     "name": "stdout",
     "output_type": "stream",
     "text": [
      "Using Chrome with user agent: Mozilla/5.0 (Macintosh; Intel Mac OS X 10_15_7) AppleWebKit/537.36 (KHTML, like Gecko) Chrome/100.0.4896.127 Safari/537.36\n",
      "Error scraping url https://batdongsan.com.vn/cho-thue-nha-tro-phong-tro-duong-so-11-phuong-truong-tho-2/cho-11-p-tp-thu-duc-gio-giac-tu-do-pr42694765: 're__icon-road'\n"
     ]
    },
    {
     "name": "stderr",
     "output_type": "stream",
     "text": [
      "Processing batches:  93%|█████████▎| 1084/1161 [2:17:40<09:23,  7.32s/it]"
     ]
    },
    {
     "name": "stdout",
     "output_type": "stream",
     "text": [
      "Using Chrome with user agent: Mozilla/5.0 (Macintosh; Intel Mac OS X 10_15_7) AppleWebKit/537.36 (KHTML, like Gecko) Chrome/99.0.4844.84 Safari/537.36\n",
      "All Chrome initialization methods failed: Message: Can not connect to the Service /Users/macbook/.wdm/drivers/chromedriver/mac64/135.0.7049.95/chromedriver-mac-arm64/chromedriver\n",
      "\n",
      "Error scraping url https://batdongsan.com.vn/cho-thue-can-ho-chung-cu-duong-nguyen-duc-canh-phuong-tan-phong-9-prj-riverpark-residence/-cho-penhouse-phu-my-hung-nha-dep-xem-nha-de-lh-phuonganh-pr38568098: HTTPConnectionPool(host='localhost', port=62486): Read timed out. (read timeout=120)\n"
     ]
    },
    {
     "name": "stderr",
     "output_type": "stream",
     "text": [
      "Processing batches:  93%|█████████▎| 1085/1161 [2:18:39<28:58, 22.87s/it]"
     ]
    },
    {
     "name": "stdout",
     "output_type": "stream",
     "text": [
      "Using Chrome with user agent: Mozilla/5.0 (Macintosh; Intel Mac OS X 10_15_7) AppleWebKit/537.36 (KHTML, like Gecko) Chrome/100.0.4896.127 Safari/537.36\n"
     ]
    },
    {
     "name": "stderr",
     "output_type": "stream",
     "text": [
      "Service process refused to terminate gracefully with SIGTERM, escalating to SIGKILL.\n",
      "Traceback (most recent call last):\n",
      "  File \"/Users/macbook/Desktop/BecasaNetwork/crawl/scrapepage.py\", line 132, in init_driver\n",
      "    driver = uc.Chrome(version_main=135, options=options)  # Specify a version that works with your Chrome\n",
      "  File \"/Users/macbook/Desktop/BecasaNetwork/crawl/env/lib/python3.13/site-packages/undetected_chromedriver/__init__.py\", line 466, in __init__\n",
      "    super(Chrome, self).__init__(\n",
      "    ~~~~~~~~~~~~~~~~~~~~~~~~~~~~^\n",
      "        service=service,\n",
      "        ^^^^^^^^^^^^^^^^\n",
      "        options=options,\n",
      "        ^^^^^^^^^^^^^^^^\n",
      "        keep_alive=keep_alive,\n",
      "        ^^^^^^^^^^^^^^^^^^^^^^\n",
      "    )\n",
      "    ^\n",
      "  File \"/Users/macbook/Desktop/BecasaNetwork/crawl/env/lib/python3.13/site-packages/selenium/webdriver/chrome/webdriver.py\", line 45, in __init__\n",
      "    super().__init__(\n",
      "    ~~~~~~~~~~~~~~~~^\n",
      "        browser_name=DesiredCapabilities.CHROME[\"browserName\"],\n",
      "        ^^^^^^^^^^^^^^^^^^^^^^^^^^^^^^^^^^^^^^^^^^^^^^^^^^^^^^^\n",
      "    ...<3 lines>...\n",
      "        keep_alive=keep_alive,\n",
      "        ^^^^^^^^^^^^^^^^^^^^^^\n",
      "    )\n",
      "    ^\n",
      "  File \"/Users/macbook/Desktop/BecasaNetwork/crawl/env/lib/python3.13/site-packages/selenium/webdriver/chromium/webdriver.py\", line 55, in __init__\n",
      "    self.service.start()\n",
      "    ~~~~~~~~~~~~~~~~~~^^\n",
      "  File \"/Users/macbook/Desktop/BecasaNetwork/crawl/env/lib/python3.13/site-packages/selenium/webdriver/common/service.py\", line 113, in start\n",
      "    self.assert_process_still_running()\n",
      "    ~~~~~~~~~~~~~~~~~~~~~~~~~~~~~~~~~^^\n",
      "  File \"/Users/macbook/Desktop/BecasaNetwork/crawl/env/lib/python3.13/site-packages/selenium/webdriver/common/service.py\", line 126, in assert_process_still_running\n",
      "    raise WebDriverException(f\"Service {self._path} unexpectedly exited. Status code was: {return_code}\")\n",
      "selenium.common.exceptions.WebDriverException: Message: Service /Users/macbook/Library/Application Support/undetected_chromedriver/undetected_chromedriver unexpectedly exited. Status code was: -9\n",
      "\n",
      "\n",
      "During handling of the above exception, another exception occurred:\n",
      "\n",
      "Traceback (most recent call last):\n",
      "  File \"/Users/macbook/Desktop/BecasaNetwork/crawl/scrapepage.py\", line 139, in init_driver\n",
      "    driver = uc.Chrome(driver_executable_path=driver_path, options=options)\n",
      "  File \"/Users/macbook/Desktop/BecasaNetwork/crawl/env/lib/python3.13/site-packages/undetected_chromedriver/__init__.py\", line 269, in __init__\n",
      "    raise RuntimeError(\"you cannot reuse the ChromeOptions object\")\n",
      "RuntimeError: you cannot reuse the ChromeOptions object\n",
      "\n",
      "During handling of the above exception, another exception occurred:\n",
      "\n",
      "Traceback (most recent call last):\n",
      "  File \"/Users/macbook/Desktop/BecasaNetwork/crawl/scrapepage.py\", line 166, in scrape_page\n",
      "    driver = init_driver()\n",
      "  File \"/Users/macbook/Desktop/BecasaNetwork/crawl/scrapepage.py\", line 147, in init_driver\n",
      "    driver = webdriver.Chrome(service=service, options=options)\n",
      "  File \"/Users/macbook/Desktop/BecasaNetwork/crawl/env/lib/python3.13/site-packages/selenium/webdriver/chrome/webdriver.py\", line 45, in __init__\n",
      "    super().__init__(\n",
      "    ~~~~~~~~~~~~~~~~^\n",
      "        browser_name=DesiredCapabilities.CHROME[\"browserName\"],\n",
      "        ^^^^^^^^^^^^^^^^^^^^^^^^^^^^^^^^^^^^^^^^^^^^^^^^^^^^^^^\n",
      "    ...<3 lines>...\n",
      "        keep_alive=keep_alive,\n",
      "        ^^^^^^^^^^^^^^^^^^^^^^\n",
      "    )\n",
      "    ^\n",
      "  File \"/Users/macbook/Desktop/BecasaNetwork/crawl/env/lib/python3.13/site-packages/selenium/webdriver/chromium/webdriver.py\", line 55, in __init__\n",
      "    self.service.start()\n",
      "    ~~~~~~~~~~~~~~~~~~^^\n",
      "  File \"/Users/macbook/Desktop/BecasaNetwork/crawl/env/lib/python3.13/site-packages/selenium/webdriver/common/service.py\", line 120, in start\n",
      "    raise WebDriverException(f\"Can not connect to the Service {self._path}\")\n",
      "selenium.common.exceptions.WebDriverException: Message: Can not connect to the Service /Users/macbook/.wdm/drivers/chromedriver/mac64/135.0.7049.95/chromedriver-mac-arm64/chromedriver\n",
      "\n",
      "\n",
      "During handling of the above exception, another exception occurred:\n",
      "\n",
      "UnboundLocalError: cannot access local variable 'url' where it is not associated with a value\n",
      "\n",
      "During handling of the above exception, another exception occurred:\n",
      "\n",
      "Traceback (most recent call last):\n",
      "  File \"/Users/macbook/Desktop/BecasaNetwork/crawl/env/lib/python3.13/site-packages/selenium/webdriver/common/service.py\", line 184, in _terminate_process\n",
      "    self.process.wait(60)\n",
      "    ~~~~~~~~~~~~~~~~~^^^^\n",
      "  File \"/opt/homebrew/Cellar/python@3.13/3.13.2/Frameworks/Python.framework/Versions/3.13/lib/python3.13/subprocess.py\", line 1276, in wait\n",
      "    return self._wait(timeout=timeout)\n",
      "           ~~~~~~~~~~^^^^^^^^^^^^^^^^^\n",
      "  File \"/opt/homebrew/Cellar/python@3.13/3.13.2/Frameworks/Python.framework/Versions/3.13/lib/python3.13/subprocess.py\", line 2060, in _wait\n",
      "    raise TimeoutExpired(self.args, timeout)\n",
      "subprocess.TimeoutExpired: Command '['/Users/macbook/.wdm/drivers/chromedriver/mac64/135.0.7049.95/chromedriver-mac-arm64/chromedriver', '--port=59492']' timed out after 60 seconds\n",
      "Processing batches:  94%|█████████▎| 1086/1161 [2:18:46<22:39, 18.13s/it]"
     ]
    },
    {
     "name": "stdout",
     "output_type": "stream",
     "text": [
      "Error processing batch ['https://batdongsan.com.vn/cho-thue-can-ho-chung-cu-duong-pho-quang-phuong-2-22-prj-the-botanica/c-54m-13tr-75m2-14tr-100m2-20tr-premier-ng-ha-gan-san-bay-pr42220266']: cannot access local variable 'url' where it is not associated with a value\n",
      "Using Chrome with user agent: Mozilla/5.0 (Macintosh; Intel Mac OS X 10_15_7) AppleWebKit/537.36 (KHTML, like Gecko) Chrome/100.0.4896.127 Safari/537.36\n",
      "Error scraping url https://batdongsan.com.vn/cho-thue-can-ho-chung-cu-duong-phan-van-dang-phuong-thanh-my-loi-prj-vista-verde/-cho-duplex-sang-trong-co-san-vuon-va-phong-xong-hoi-pr42687765: 're__icon-front-view'\n"
     ]
    },
    {
     "name": "stderr",
     "output_type": "stream",
     "text": [
      "Processing batches:  94%|█████████▎| 1087/1161 [2:18:51<17:37, 14.29s/it]"
     ]
    },
    {
     "name": "stdout",
     "output_type": "stream",
     "text": [
      "Using Chrome with user agent: Mozilla/5.0 (Macintosh; Intel Mac OS X 10_15_7) AppleWebKit/537.36 (KHTML, like Gecko) Chrome/99.0.4844.84 Safari/537.36\n"
     ]
    },
    {
     "name": "stderr",
     "output_type": "stream",
     "text": [
      "Processing batches:  94%|█████████▎| 1088/1161 [2:18:59<14:52, 12.23s/it]"
     ]
    },
    {
     "name": "stdout",
     "output_type": "stream",
     "text": [
      "Error scraping url https://batdongsan.com.vn/cho-thue-can-ho-chung-cu-duong-dai-lo-vong-cung-phuong-thu-thiem-prj-the-opera-residence/c-2pn-2wc-full-noi-that-cao-cap-pr42596647: 're__icon-clock'\n",
      "Using Chrome with user agent: Mozilla/5.0 (Macintosh; Intel Mac OS X 10_15_7) AppleWebKit/537.36 (KHTML, like Gecko) Chrome/100.0.4896.127 Safari/537.36\n",
      "Error scraping url https://batdongsan.com.vn/cho-thue-can-ho-chung-cu-duong-cao-lo-phuong-4-15-prj-topaz-elite/cho-ch-3pn-3wc-150m2-14-trieu-tai-q8-hcm-hot-uy-tin-pr42694760: 're__icon-front-view'\n"
     ]
    },
    {
     "name": "stderr",
     "output_type": "stream",
     "text": [
      "Processing batches:  94%|█████████▍| 1089/1161 [2:19:14<15:49, 13.19s/it]"
     ]
    },
    {
     "name": "stdout",
     "output_type": "stream",
     "text": [
      "Using Chrome with user agent: Mozilla/5.0 (Macintosh; Intel Mac OS X 10_15_7) AppleWebKit/537.36 (KHTML, like Gecko) Chrome/99.0.4844.84 Safari/537.36\n"
     ]
    },
    {
     "name": "stderr",
     "output_type": "stream",
     "text": [
      "Processing batches:  94%|█████████▍| 1090/1161 [2:19:21<13:21, 11.29s/it]"
     ]
    },
    {
     "name": "stdout",
     "output_type": "stream",
     "text": [
      "Error scraping url https://batdongsan.com.vn/cho-thue-nha-tro-phong-tro-duong-nguyen-van-thuong-phuong-25/khai-truong-15-co-gac-ngay-di-bo-hutech-gtvt-ftu2-ga-me-pr42693967: 're__icon-clock'\n"
     ]
    },
    {
     "name": "stderr",
     "output_type": "stream",
     "text": [
      "Processing batches:  94%|█████████▍| 1091/1161 [2:19:23<09:48,  8.41s/it]"
     ]
    },
    {
     "name": "stdout",
     "output_type": "stream",
     "text": [
      "Using Chrome with user agent: Mozilla/5.0 (Windows NT 10.0; Win64; x64) AppleWebKit/537.36 (KHTML, like Gecko) Chrome/100.0.4896.127 Safari/537.36\n",
      "Using Chrome with user agent: Mozilla/5.0 (Windows NT 10.0; Win64; x64) AppleWebKit/537.36 (KHTML, like Gecko) Chrome/100.0.4896.127 Safari/537.36\n",
      "Error scraping url https://batdongsan.com.vn/cho-thue-can-ho-chung-cu-duong-nguyen-luong-bang-1-phuong-tan-phu-19-prj-green-view/c-3pn-full-noi-that-nha-dep-nhu-hinh-pr42694135: 're__icon-clock'\n"
     ]
    },
    {
     "name": "stderr",
     "output_type": "stream",
     "text": [
      "Processing batches:  94%|█████████▍| 1092/1161 [2:20:27<29:05, 25.30s/it]"
     ]
    },
    {
     "name": "stdout",
     "output_type": "stream",
     "text": [
      "Using Chrome with user agent: Mozilla/5.0 (Macintosh; Intel Mac OS X 10_15_7) AppleWebKit/537.36 (KHTML, like Gecko) Chrome/99.0.4844.84 Safari/537.36\n",
      "Error scraping url https://batdongsan.com.vn/cho-thue-can-ho-chung-cu-duong-ton-that-thuyet-phuong-1-prj-de-la-sol/-2pn-c-t-pr42694695: 're__icon-clock'\n"
     ]
    },
    {
     "name": "stderr",
     "output_type": "stream",
     "text": [
      "Processing batches:  94%|█████████▍| 1093/1161 [2:20:46<26:23, 23.28s/it]"
     ]
    },
    {
     "name": "stdout",
     "output_type": "stream",
     "text": [
      "Error scraping url https://batdongsan.com.vn/cho-thue-can-ho-chung-cu-duong-binh-thoi-phuong-8-11/cho-8-quan-11-day-du-noi-that-75m2-pr41641230: 're__icon-document'\n"
     ]
    },
    {
     "name": "stderr",
     "output_type": "stream",
     "text": [
      "Processing batches:  94%|█████████▍| 1094/1161 [2:20:49<19:07, 17.13s/it]"
     ]
    },
    {
     "name": "stdout",
     "output_type": "stream",
     "text": [
      "Using Chrome with user agent: Mozilla/5.0 (Macintosh; Intel Mac OS X 10_15_7) AppleWebKit/537.36 (KHTML, like Gecko) Chrome/99.0.4844.84 Safari/537.36\n",
      "Using Chrome with user agent: Mozilla/5.0 (Macintosh; Intel Mac OS X 10_15_7) AppleWebKit/537.36 (KHTML, like Gecko) Chrome/100.0.4896.127 Safari/537.36\n"
     ]
    },
    {
     "name": "stderr",
     "output_type": "stream",
     "text": [
      "Processing batches:  94%|█████████▍| 1095/1161 [2:20:57<15:59, 14.54s/it]"
     ]
    },
    {
     "name": "stdout",
     "output_type": "stream",
     "text": [
      "Error scraping url https://batdongsan.com.vn/cho-thue-can-ho-chung-cu-duong-vo-nguyen-giap-phuong-an-phu-prj-lumiere-riverside/cho-view-song-3-phong-ngu-pr42692812: 're__icon-clock'\n",
      "Error scraping url https://batdongsan.com.vn/cho-thue-can-ho-chung-cu-duong-to-hien-thanh-phuong-14-5-prj-kingdom-101/chuyen-c-nhieu-2pn-tai-kingdom101-21-22tr-full-noi-that-quan-10-pr35804628: 're__icon-front-view'\n"
     ]
    },
    {
     "name": "stderr",
     "output_type": "stream",
     "text": [
      "Processing batches:  94%|█████████▍| 1096/1161 [2:21:01<12:15, 11.31s/it]"
     ]
    },
    {
     "name": "stdout",
     "output_type": "stream",
     "text": [
      "Error scraping url https://batdongsan.com.vn/cho-thue-can-ho-chung-cu-duong-thanh-xuan-13-phuong-thanh-xuan-prj-picity-high-park/full-gio-hang-cho-cuoi-nam-1pn-2pn-3pn-trong-cho-den-full-noi-that-pr41981546: 're__icon-front-view'\n"
     ]
    },
    {
     "name": "stderr",
     "output_type": "stream",
     "text": [
      "Processing batches:  94%|█████████▍| 1097/1161 [2:21:01<08:30,  7.98s/it]"
     ]
    },
    {
     "name": "stdout",
     "output_type": "stream",
     "text": [
      "Using Chrome with user agent: Mozilla/5.0 (Windows NT 10.0; Win64; x64) AppleWebKit/537.36 (KHTML, like Gecko) Chrome/99.0.4844.84 Safari/537.36\n",
      "Using Chrome with user agent: Mozilla/5.0 (Macintosh; Intel Mac OS X 10_15_7) AppleWebKit/537.36 (KHTML, like Gecko) Chrome/100.0.4896.127 Safari/537.36\n",
      "Error scraping url https://batdongsan.com.vn/cho-thue-can-ho-chung-cu-duong-ton-dat-tien-phuong-tan-phong-9-prj-scenic-valley-1/c-gap-2pn-gia-re-15tr-phu-my-hung-quan-7-pr38281058: 're__icon-document'\n"
     ]
    },
    {
     "name": "stderr",
     "output_type": "stream",
     "text": [
      "Processing batches:  95%|█████████▍| 1098/1161 [2:21:09<08:21,  7.96s/it]"
     ]
    },
    {
     "name": "stdout",
     "output_type": "stream",
     "text": [
      "Using Chrome with user agent: Mozilla/5.0 (Windows NT 10.0; Win64; x64) AppleWebKit/537.36 (KHTML, like Gecko) Chrome/100.0.4896.127 Safari/537.36\n",
      "Using Chrome with user agent: Mozilla/5.0 (Windows NT 10.0; Win64; x64) AppleWebKit/537.36 (KHTML, like Gecko) Chrome/100.0.4896.127 Safari/537.36\n",
      "Error scraping url https://batdongsan.com.vn/cho-thue-can-ho-chung-cu-duong-song-hanh-phuong-phu-huu-2-prj-jamila-khang-dien/-c-quan-9-3pn-2wc-co-noi-that-100m2-gia-14-tr-thang-pr40963457: 're__icon-document'\n"
     ]
    },
    {
     "name": "stderr",
     "output_type": "stream",
     "text": [
      "Processing batches:  95%|█████████▍| 1099/1161 [2:21:17<08:06,  7.84s/it]"
     ]
    },
    {
     "name": "stdout",
     "output_type": "stream",
     "text": [
      "Error scraping url https://batdongsan.com.vn/cho-thue-can-ho-chung-cu-phuong-tan-phu-19-prj-the-grande/cho-3pn-midtown-m5-my-hung-lau-cao-view-thoang-lh-van-dat-pr42464666: 're__icon-front-view'\n"
     ]
    },
    {
     "name": "stderr",
     "output_type": "stream",
     "text": [
      "Processing batches:  95%|█████████▍| 1100/1161 [2:21:21<06:48,  6.70s/it]"
     ]
    },
    {
     "name": "stdout",
     "output_type": "stream",
     "text": [
      "Using Chrome with user agent: Mozilla/5.0 (Windows NT 10.0; Win64; x64) AppleWebKit/537.36 (KHTML, like Gecko) Chrome/99.0.4844.84 Safari/537.36\n",
      "Using Chrome with user agent: Mozilla/5.0 (Macintosh; Intel Mac OS X 10_15_7) AppleWebKit/537.36 (KHTML, like Gecko) Chrome/99.0.4844.84 Safari/537.36\n",
      "Error scraping url https://batdongsan.com.vn/cho-thue-can-ho-chung-cu-mini-duong-bach-dang-phuong-15-5/c-dich-vu-3-png-ngu-noi-that-day-du-pr42692291: 're__icon-electricity'\n",
      "Error scraping url https://batdongsan.com.vn/cho-thue-can-ho-chung-cu-mini-duong-thanh-thai-phuong-14-5/c-35m2-ngay-dh-bach-ka-q10-full-noi-that-tien-nghi-gia-re-pr42689759: 're__icon-electricity'\n"
     ]
    },
    {
     "name": "stderr",
     "output_type": "stream",
     "text": [
      "Processing batches:  95%|█████████▍| 1102/1161 [2:21:34<06:03,  6.15s/it]"
     ]
    },
    {
     "name": "stdout",
     "output_type": "stream",
     "text": [
      "Using Chrome with user agent: Mozilla/5.0 (Macintosh; Intel Mac OS X 10_15_7) AppleWebKit/537.36 (KHTML, like Gecko) Chrome/100.0.4896.127 Safari/537.36\n",
      "Using Chrome with user agent: Mozilla/5.0 (Macintosh; Intel Mac OS X 10_15_7) AppleWebKit/537.36 (KHTML, like Gecko) Chrome/100.0.4896.127 Safari/537.36\n",
      "Error scraping url https://batdongsan.com.vn/cho-thue-can-ho-chung-cu-mini-duong-phan-ba-vanh-phuong-thanh-my-loi/1-phong-ngu-ban-cong-cua-so-troi-thoang-rong-35m2-ngay-dao-kim-cuong-quan-2-pr42691533: 're__icon-clock'\n"
     ]
    },
    {
     "name": "stderr",
     "output_type": "stream",
     "text": [
      "Processing batches:  95%|█████████▌| 1103/1161 [2:21:45<07:14,  7.50s/it]"
     ]
    },
    {
     "name": "stdout",
     "output_type": "stream",
     "text": [
      "Using Chrome with user agent: Mozilla/5.0 (Windows NT 10.0; Win64; x64) AppleWebKit/537.36 (KHTML, like Gecko) Chrome/100.0.4896.127 Safari/537.36\n",
      "Error scraping url https://batdongsan.com.vn/cho-thue-nha-tro-phong-tro-duong-le-van-chi_1-phuong-linh-trung/can-ho-mini-hien-dai-day-du-noi-that-ban-cong-rieng-gan-nga-tu-thu-duc-pr42692043: 're__icon-front-view'\n"
     ]
    },
    {
     "name": "stderr",
     "output_type": "stream",
     "text": [
      "Processing batches:  95%|█████████▌| 1104/1161 [2:21:53<07:17,  7.68s/it]"
     ]
    },
    {
     "name": "stdout",
     "output_type": "stream",
     "text": [
      "Error scraping url https://batdongsan.com.vn/cho-thue-nha-tro-phong-tro-duong-nguyen-tuan-phuong-3-20/cho-gan-truong-dai-hoc-cong-nghiep-4-va-gan-bv-175-pr41175024: 're__icon-front-view'\n"
     ]
    },
    {
     "name": "stderr",
     "output_type": "stream",
     "text": [
      "Processing batches:  95%|█████████▌| 1105/1161 [2:21:56<05:45,  6.16s/it]"
     ]
    },
    {
     "name": "stdout",
     "output_type": "stream",
     "text": [
      "Using Chrome with user agent: Mozilla/5.0 (Macintosh; Intel Mac OS X 10_15_7) AppleWebKit/537.36 (KHTML, like Gecko) Chrome/100.0.4896.127 Safari/537.36\n",
      "Using Chrome with user agent: Mozilla/5.0 (Windows NT 10.0; Win64; x64) AppleWebKit/537.36 (KHTML, like Gecko) Chrome/99.0.4844.84 Safari/537.36\n"
     ]
    },
    {
     "name": "stderr",
     "output_type": "stream",
     "text": [
      "Processing batches:  95%|█████████▌| 1106/1161 [2:22:03<06:06,  6.66s/it]"
     ]
    },
    {
     "name": "stdout",
     "output_type": "stream",
     "text": [
      "Error scraping url https://batdongsan.com.vn/cho-thue-can-ho-chung-cu-duong-thoai-ngoc-hau-phuong-hoa-thanh-prj-res-green-tower/cho-cc-2pn-1wc-52m2-tai-10-trieu-tan-phu-hcm-pr42691692: 're__icon-front-view'\n",
      "Using Chrome with user agent: Mozilla/5.0 (Macintosh; Intel Mac OS X 10_15_7) AppleWebKit/537.36 (KHTML, like Gecko) Chrome/100.0.4896.127 Safari/537.36\n",
      "Error scraping url https://batdongsan.com.vn/cho-thue-nha-tro-phong-tro-duong-17-4-phuong-tan-thoi-nhat-1/cho-25m2-gia-uu-dai-3-trieu-d-17-p-q12-hcm-pr42691748: 're__icon-front-view'\n"
     ]
    },
    {
     "name": "stderr",
     "output_type": "stream",
     "text": [
      "Processing batches:  95%|█████████▌| 1107/1161 [2:22:09<05:40,  6.31s/it]"
     ]
    },
    {
     "name": "stdout",
     "output_type": "stream",
     "text": [
      "Error scraping url https://batdongsan.com.vn/cho-thue-can-ho-chung-cu-duong-vo-van-kiet-phuong-16-1-prj-carina-plaza/c-goc-rong-99-m2-nha-moi-gia-7-trieu-thang-lh-chau-pr42693014: 're__icon-front-view'\n"
     ]
    },
    {
     "name": "stderr",
     "output_type": "stream",
     "text": [
      "Processing batches:  95%|█████████▌| 1108/1161 [2:22:13<04:55,  5.57s/it]"
     ]
    },
    {
     "name": "stdout",
     "output_type": "stream",
     "text": [
      "Using Chrome with user agent: Mozilla/5.0 (Macintosh; Intel Mac OS X 10_15_7) AppleWebKit/537.36 (KHTML, like Gecko) Chrome/100.0.4896.127 Safari/537.36\n",
      "Error scraping url https://batdongsan.com.vn/cho-thue-can-ho-chung-cu-duong-ben-van-don-phuong-12-prj-saigon-royal-residence/gia-cuc-re-2pn-q4-full-noi-that-view-song-bitexco-chi-20-tr-th-pr42680219: 're__icon-private-house'\n"
     ]
    },
    {
     "name": "stderr",
     "output_type": "stream",
     "text": [
      "Processing batches:  96%|█████████▌| 1109/1161 [2:22:14<03:43,  4.31s/it]"
     ]
    },
    {
     "name": "stdout",
     "output_type": "stream",
     "text": [
      "Using Chrome with user agent: Mozilla/5.0 (Macintosh; Intel Mac OS X 10_15_7) AppleWebKit/537.36 (KHTML, like Gecko) Chrome/99.0.4844.84 Safari/537.36\n",
      "Using Chrome with user agent: Mozilla/5.0 (Windows NT 10.0; Win64; x64) AppleWebKit/537.36 (KHTML, like Gecko) Chrome/99.0.4844.84 Safari/537.36\n",
      "Error scraping url https://batdongsan.com.vn/cho-thue-can-ho-chung-cu-duong-pham-the-hien-phuong-6-10-prj-green-river-quan-8/minh-muon-c-q8-moi-100-2-png-ngu-2wc-gia-6tr-pr28581708: 're__icon-front-view'\n"
     ]
    },
    {
     "name": "stderr",
     "output_type": "stream",
     "text": [
      "Processing batches:  96%|█████████▌| 1110/1161 [2:22:23<04:46,  5.61s/it]"
     ]
    },
    {
     "name": "stdout",
     "output_type": "stream",
     "text": [
      "Error scraping url https://batdongsan.com.vn/cho-thue-can-ho-chung-cu-duong-phan-van-dang-phuong-thanh-my-loi-prj-vista-verde/cap-nhat-cac-1-phong-ngu-gia-tot-trong-san-full-nt-gia-chi-14tr-tai-verde-pr42261982: 're__icon-front-view'\n"
     ]
    },
    {
     "name": "stderr",
     "output_type": "stream",
     "text": [
      "Processing batches:  96%|█████████▌| 1111/1161 [2:22:24<03:37,  4.35s/it]"
     ]
    },
    {
     "name": "stdout",
     "output_type": "stream",
     "text": [
      "Using Chrome with user agent: Mozilla/5.0 (Macintosh; Intel Mac OS X 10_15_7) AppleWebKit/537.36 (KHTML, like Gecko) Chrome/99.0.4844.84 Safari/537.36\n",
      "Using Chrome with user agent: Mozilla/5.0 (Windows NT 10.0; Win64; x64) AppleWebKit/537.36 (KHTML, like Gecko) Chrome/99.0.4844.84 Safari/537.36\n",
      "Error scraping url https://batdongsan.com.vn/cho-thue-can-ho-chung-cu-duong-phan-van-dang-phuong-thanh-my-loi-prj-vista-verde/gio-hang-39-c-gap-du-an-cam-ket-gia-tot-nhat-xem-nha-24-7-pr33797656: 're__icon-document'\n"
     ]
    },
    {
     "name": "stderr",
     "output_type": "stream",
     "text": [
      "Processing batches:  96%|█████████▌| 1112/1161 [2:22:30<03:50,  4.70s/it]"
     ]
    },
    {
     "name": "stdout",
     "output_type": "stream",
     "text": [
      "Using Chrome with user agent: Mozilla/5.0 (Macintosh; Intel Mac OS X 10_15_7) AppleWebKit/537.36 (KHTML, like Gecko) Chrome/99.0.4844.84 Safari/537.36\n",
      "Error scraping url https://batdongsan.com.vn/cho-thue-nha-tro-phong-tro-pho-ky-dong-phuong-9-5/can-cho-ngay-mat-tret-loi-di-rieng-rong-rai-sach-se-o-ngay-pr42640634: 're__icon-front-view'\n"
     ]
    },
    {
     "name": "stderr",
     "output_type": "stream",
     "text": [
      "Processing batches:  96%|█████████▌| 1113/1161 [2:22:40<05:10,  6.47s/it]"
     ]
    },
    {
     "name": "stdout",
     "output_type": "stream",
     "text": [
      "Using Chrome with user agent: Mozilla/5.0 (Macintosh; Intel Mac OS X 10_15_7) AppleWebKit/537.36 (KHTML, like Gecko) Chrome/99.0.4844.84 Safari/537.36\n",
      "Error scraping url https://batdongsan.com.vn/cho-thue-can-ho-chung-cu-mini-duong-3-8-phuong-tan-kieng/chuoi-chdv-q7-gia-tu-5tr-8tr-full-nt-gan-nguyen-thi-thap-kenh-te-le-van-luong-quan-7-sat-q4-q8-pr42690158: 're__icon-front-view'\n"
     ]
    },
    {
     "name": "stderr",
     "output_type": "stream",
     "text": [
      "Processing batches:  96%|█████████▌| 1114/1161 [2:22:51<06:01,  7.69s/it]"
     ]
    },
    {
     "name": "stdout",
     "output_type": "stream",
     "text": [
      "Error scraping url https://batdongsan.com.vn/cho-thue-can-ho-chung-cu-duong-ton-that-thuyet-phuong-1-prj-de-la-sol/mien-phi-quan-ly-quan-4-c-2pn-noi-co-ban-view-song-mat-me-pr39150484: 're__icon-electricity'\n"
     ]
    },
    {
     "name": "stderr",
     "output_type": "stream",
     "text": [
      "Processing batches:  96%|█████████▌| 1115/1161 [2:22:54<04:49,  6.30s/it]"
     ]
    },
    {
     "name": "stdout",
     "output_type": "stream",
     "text": [
      "Using Chrome with user agent: Mozilla/5.0 (Macintosh; Intel Mac OS X 10_15_7) AppleWebKit/537.36 (KHTML, like Gecko) Chrome/100.0.4896.127 Safari/537.36\n",
      "Using Chrome with user agent: Mozilla/5.0 (Macintosh; Intel Mac OS X 10_15_7) AppleWebKit/537.36 (KHTML, like Gecko) Chrome/100.0.4896.127 Safari/537.36\n",
      "Error scraping url https://batdongsan.com.vn/cho-thue-can-ho-chung-cu-duong-cay-keo-phuong-tam-phu-prj-dat-gia-residence-thu-duc/c-1-pn-5-5tr-2pn-full-noi-that-7tr-3pn-nha-trong-7-5tr-o-lien-pr41856717: 're__icon-front-view'\n"
     ]
    },
    {
     "name": "stderr",
     "output_type": "stream",
     "text": [
      "Processing batches:  96%|█████████▌| 1116/1161 [2:23:12<07:16,  9.71s/it]"
     ]
    },
    {
     "name": "stdout",
     "output_type": "stream",
     "text": [
      "Error scraping url https://batdongsan.com.vn/cho-thue-can-ho-chung-cu-duong-dong-van-cong-phuong-thanh-my-loi-prj-feliz-en-vista/song-sang-chanh-ngay-tai-trung-tam-chi-65tr-th-ngay-sky-villa-4pn-full-nt-vista-pr42175785: 're__icon-front-view'\n"
     ]
    },
    {
     "name": "stderr",
     "output_type": "stream",
     "text": [
      "Processing batches:  96%|█████████▌| 1117/1161 [2:23:13<05:15,  7.16s/it]"
     ]
    },
    {
     "name": "stdout",
     "output_type": "stream",
     "text": [
      "Error scraping url https://batdongsan.com.vn/cho-thue-can-ho-chung-cu-phuong-tan-phong-9-prj-hung-vuong-2/c-2-chinh-chu-full-noi-that-nhan-nha-o-ngay-lh-mai-huong-pr42496244: HTTPConnectionPool(host='localhost', port=50245): Read timed out. (read timeout=120)\n"
     ]
    },
    {
     "name": "stderr",
     "output_type": "stream",
     "text": [
      "Processing batches:  96%|█████████▋| 1118/1161 [2:23:15<04:03,  5.66s/it]"
     ]
    },
    {
     "name": "stdout",
     "output_type": "stream",
     "text": [
      "Using Chrome with user agent: Mozilla/5.0 (Windows NT 10.0; Win64; x64) AppleWebKit/537.36 (KHTML, like Gecko) Chrome/99.0.4844.84 Safari/537.36\n",
      "Using Chrome with user agent: Mozilla/5.0 (Windows NT 10.0; Win64; x64) AppleWebKit/537.36 (KHTML, like Gecko) Chrome/100.0.4896.127 Safari/537.36\n",
      "Using Chrome with user agent: Mozilla/5.0 (Macintosh; Intel Mac OS X 10_15_7) AppleWebKit/537.36 (KHTML, like Gecko) Chrome/100.0.4896.127 Safari/537.36\n",
      "Error scraping url https://batdongsan.com.vn/cho-thue-can-ho-chung-cu-duong-ngo-thi-thu-minh-phuong-2-22/1-pn-full-noi-that-ban-cong-cua-so-may-giat-rieng-le-tan-24-24-ngay-hoang-van-thu-pr42689105: 're__icon-private-house'\n"
     ]
    },
    {
     "name": "stderr",
     "output_type": "stream",
     "text": [
      "Processing batches:  96%|█████████▋| 1119/1161 [2:23:23<04:24,  6.30s/it]"
     ]
    },
    {
     "name": "stdout",
     "output_type": "stream",
     "text": [
      "Error scraping url https://batdongsan.com.vn/cho-thue-can-ho-chung-cu-mini-duong-nguyen-thuong-hien-phuong-5-14/-2phong-ngu-ngay-cho-cay-queo-sieu-hiem-trong-giap-phu-nhuan-pr42689400: 're__icon-clock'\n"
     ]
    },
    {
     "name": "stderr",
     "output_type": "stream",
     "text": [
      "Processing batches:  96%|█████████▋| 1120/1161 [2:23:26<03:39,  5.34s/it]"
     ]
    },
    {
     "name": "stdout",
     "output_type": "stream",
     "text": [
      "Using Chrome with user agent: Mozilla/5.0 (Windows NT 10.0; Win64; x64) AppleWebKit/537.36 (KHTML, like Gecko) Chrome/99.0.4844.84 Safari/537.36\n",
      "Using Chrome with user agent: Mozilla/5.0 (Macintosh; Intel Mac OS X 10_15_7) AppleWebKit/537.36 (KHTML, like Gecko) Chrome/100.0.4896.127 Safari/537.36\n",
      "Error scraping url https://batdongsan.com.vn/cho-thue-can-ho-chung-cu-duong-nguyen-van-huong-phuong-thao-dien-prj-hoang-anh-river-view/c-ang-rw-25-trieu-4-pn-157m2-full-noi-that-vao-o-ngay-pr42689069: 're__icon-clock'\n"
     ]
    },
    {
     "name": "stderr",
     "output_type": "stream",
     "text": [
      "Processing batches:  97%|█████████▋| 1121/1161 [2:23:34<04:08,  6.21s/it]"
     ]
    },
    {
     "name": "stdout",
     "output_type": "stream",
     "text": [
      "Error scraping url https://batdongsan.com.vn/cho-thue-can-ho-chung-cu-duong-nguyen-van-huong-phuong-thao-dien-prj-hoang-anh-river-view/cho-ch-22-trieu-138m2-3pn-cuoi-thang-5-nhan-nha-full-nt-nhu-pr42688895: 're__icon-clock'\n"
     ]
    },
    {
     "name": "stderr",
     "output_type": "stream",
     "text": [
      "Processing batches:  97%|█████████▋| 1122/1161 [2:23:37<03:22,  5.19s/it]"
     ]
    },
    {
     "name": "stdout",
     "output_type": "stream",
     "text": [
      "Using Chrome with user agent: Mozilla/5.0 (Macintosh; Intel Mac OS X 10_15_7) AppleWebKit/537.36 (KHTML, like Gecko) Chrome/99.0.4844.84 Safari/537.36\n",
      "Using Chrome with user agent: Mozilla/5.0 (Macintosh; Intel Mac OS X 10_15_7) AppleWebKit/537.36 (KHTML, like Gecko) Chrome/99.0.4844.84 Safari/537.36\n"
     ]
    },
    {
     "name": "stderr",
     "output_type": "stream",
     "text": [
      "Processing batches:  97%|█████████▋| 1123/1161 [2:23:45<03:52,  6.11s/it]"
     ]
    },
    {
     "name": "stdout",
     "output_type": "stream",
     "text": [
      "Error scraping url https://batdongsan.com.vn/cho-thue-can-ho-chung-cu-duong-nguyen-luong-bang-1-phuong-tan-phu-19-prj-the-antonia/c-my-hung-goc-107m2-3pn-2wc-gia-30-trieu-thang-co-ham-xe-rieng-pr42688627: 're__icon-clock'\n",
      "Error scraping url https://batdongsan.com.vn/cho-thue-can-ho-chung-cu-duong-c8-phuong-tay-thanh/cho-gia-re-2-ngu-chi-4tr8-thang-tai-tan-phu-pr42347443: 're__icon-front-view'\n"
     ]
    },
    {
     "name": "stderr",
     "output_type": "stream",
     "text": [
      "Processing batches:  97%|█████████▋| 1124/1161 [2:23:46<02:50,  4.62s/it]"
     ]
    },
    {
     "name": "stdout",
     "output_type": "stream",
     "text": [
      "Using Chrome with user agent: Mozilla/5.0 (Macintosh; Intel Mac OS X 10_15_7) AppleWebKit/537.36 (KHTML, like Gecko) Chrome/100.0.4896.127 Safari/537.36\n",
      "Using Chrome with user agent: Mozilla/5.0 (Macintosh; Intel Mac OS X 10_15_7) AppleWebKit/537.36 (KHTML, like Gecko) Chrome/99.0.4844.84 Safari/537.36\n",
      "Error scraping url https://batdongsan.com.vn/cho-thue-can-ho-chung-cu-mini-duong-79-1-phuong-tan-quy/-dv-studio-full-noi-that-cua-so-g-ngay-truc-nguyen-thi-thap-lotte-mar-q7-pr42688529: 're__icon-front-view'\n"
     ]
    },
    {
     "name": "stderr",
     "output_type": "stream",
     "text": [
      "Processing batches:  97%|█████████▋| 1126/1161 [2:23:55<02:33,  4.39s/it]"
     ]
    },
    {
     "name": "stdout",
     "output_type": "stream",
     "text": [
      "Using Chrome with user agent: Mozilla/5.0 (Windows NT 10.0; Win64; x64) AppleWebKit/537.36 (KHTML, like Gecko) Chrome/100.0.4896.127 Safari/537.36\n",
      "Using Chrome with user agent: Mozilla/5.0 (Windows NT 10.0; Win64; x64) AppleWebKit/537.36 (KHTML, like Gecko) Chrome/100.0.4896.127 Safari/537.36\n"
     ]
    },
    {
     "name": "stderr",
     "output_type": "stream",
     "text": [
      "Processing batches:  97%|█████████▋| 1127/1161 [2:24:04<03:14,  5.72s/it]"
     ]
    },
    {
     "name": "stdout",
     "output_type": "stream",
     "text": [
      "Error scraping url https://batdongsan.com.vn/cho-thue-can-ho-chung-cu-mini-duong-nguyen-phi-khanh-phuong-tan-dinh-2/cho-cc-tai-6-8-trieu-40m2-noi-that-full-gia-uu-dai-pr42685627: 're__icon-electricity'\n",
      "Using Chrome with user agent: Mozilla/5.0 (Macintosh; Intel Mac OS X 10_15_7) AppleWebKit/537.36 (KHTML, like Gecko) Chrome/99.0.4844.84 Safari/537.36\n",
      "Error scraping url https://batdongsan.com.vn/cho-thue-can-ho-chung-cu-mini-duong-hoang-van-thu-phuong-9-12/-thang-may-moi-xay-co-ham-xe-gan-ang-phu-nhuan-gan-cau-kieu-quan-1-pr42687526: 're__icon-electricity'\n"
     ]
    },
    {
     "name": "stderr",
     "output_type": "stream",
     "text": [
      "Processing batches:  97%|█████████▋| 1129/1161 [2:24:12<02:26,  4.59s/it]"
     ]
    },
    {
     "name": "stdout",
     "output_type": "stream",
     "text": [
      "Error scraping url https://batdongsan.com.vn/cho-thue-can-ho-chung-cu-duong-so-9a-xa-binh-hung-1-prj-sai-gon-mia/hang-hiem-cho-officetel-7tr-th-pr34479367: 're__icon-document'\n",
      "Using Chrome with user agent: Mozilla/5.0 (Macintosh; Intel Mac OS X 10_15_7) AppleWebKit/537.36 (KHTML, like Gecko) Chrome/100.0.4896.127 Safari/537.36\n",
      "Using Chrome with user agent: Mozilla/5.0 (Macintosh; Intel Mac OS X 10_15_7) AppleWebKit/537.36 (KHTML, like Gecko) Chrome/100.0.4896.127 Safari/537.36\n",
      "Error scraping url https://batdongsan.com.vn/cho-thue-can-ho-chung-cu-mini-duong-thanh-thai-phuong-14-5/studio-mot-phong-ngu-ban-cong-ngay-quan-10-pr42687703: 're__icon-clock'\n"
     ]
    },
    {
     "name": "stderr",
     "output_type": "stream",
     "text": [
      "Processing batches:  97%|█████████▋| 1130/1161 [2:24:21<03:04,  5.96s/it]"
     ]
    },
    {
     "name": "stdout",
     "output_type": "stream",
     "text": [
      "Error scraping url https://batdongsan.com.vn/cho-thue-can-ho-chung-cu-duong-mai-chi-tho-phuong-an-phu-prj-lexington-residence/cho-chcc-q-2-gia-tot-nhat-1pn-gia-10tr-th-2pn-gia-13tr-th-3pn-gia-16tr-th-pr42299835: 're__icon-front-view'\n"
     ]
    },
    {
     "name": "stderr",
     "output_type": "stream",
     "text": [
      "Processing batches:  97%|█████████▋| 1131/1161 [2:24:25<02:39,  5.31s/it]"
     ]
    },
    {
     "name": "stdout",
     "output_type": "stream",
     "text": [
      "Using Chrome with user agent: Mozilla/5.0 (Macintosh; Intel Mac OS X 10_15_7) AppleWebKit/537.36 (KHTML, like Gecko) Chrome/100.0.4896.127 Safari/537.36\n",
      "Using Chrome with user agent: Mozilla/5.0 (Macintosh; Intel Mac OS X 10_15_7) AppleWebKit/537.36 (KHTML, like Gecko) Chrome/99.0.4844.84 Safari/537.36\n",
      "Error scraping url https://batdongsan.com.vn/cho-thue-can-ho-chung-cu-duong-n1-phuong-son-ky-prj-diamond-centery/cho-3pn-3wc-gia-20tr-thang-lien-he-ngay-trinh-xem-nha-pr42687681: 're__icon-electricity'\n"
     ]
    },
    {
     "name": "stderr",
     "output_type": "stream",
     "text": [
      "Processing batches:  98%|█████████▊| 1132/1161 [2:24:30<02:35,  5.35s/it]"
     ]
    },
    {
     "name": "stdout",
     "output_type": "stream",
     "text": [
      "Error scraping url https://batdongsan.com.vn/cho-thue-can-ho-chung-cu-pho-ta-quang-buu-phuong-5-11-prj-samland-giai-viet/c-dt-150m2-3pn-3wc-nha-trong-gia-13tr-th-lh-ms-tham-pr42546419: 're__icon-private-house'\n"
     ]
    },
    {
     "name": "stderr",
     "output_type": "stream",
     "text": [
      "Processing batches:  98%|█████████▊| 1133/1161 [2:24:33<02:02,  4.39s/it]"
     ]
    },
    {
     "name": "stdout",
     "output_type": "stream",
     "text": [
      "Using Chrome with user agent: Mozilla/5.0 (Windows NT 10.0; Win64; x64) AppleWebKit/537.36 (KHTML, like Gecko) Chrome/100.0.4896.127 Safari/537.36\n",
      "Error scraping url https://batdongsan.com.vn/cho-thue-can-ho-chung-cu-mini-duong-truong-son-phuong-2-22-prj-tpa-building/cho-cc-1pn-1wc-tai-tan-binh-60m2-pr42251735: HTTPConnectionPool(host='localhost', port=51989): Read timed out. (read timeout=120)\n"
     ]
    },
    {
     "name": "stderr",
     "output_type": "stream",
     "text": [
      "Processing batches:  98%|█████████▊| 1134/1161 [2:24:36<01:49,  4.05s/it]"
     ]
    },
    {
     "name": "stdout",
     "output_type": "stream",
     "text": [
      "Using Chrome with user agent: Mozilla/5.0 (Macintosh; Intel Mac OS X 10_15_7) AppleWebKit/537.36 (KHTML, like Gecko) Chrome/99.0.4844.84 Safari/537.36\n",
      "Error scraping url https://batdongsan.com.vn/cho-thue-nha-tro-phong-tro-duong-le-van-quoi-phuong-binh-tri-dong-b/-gia-re-tan-hem-413-56-8-25-quoi-pr41519434: 're__icon-front-view'\n"
     ]
    },
    {
     "name": "stderr",
     "output_type": "stream",
     "text": [
      "Processing batches:  98%|█████████▊| 1135/1161 [2:24:38<01:28,  3.42s/it]"
     ]
    },
    {
     "name": "stdout",
     "output_type": "stream",
     "text": [
      "First method failed: Message: Service /Users/macbook/Library/Application Support/undetected_chromedriver/undetected_chromedriver unexpectedly exited. Status code was: -9\n",
      "\n",
      "Using Chrome driver at: /Users/macbook/.wdm/drivers/chromedriver/mac64/135.0.7049.95/chromedriver-mac-arm64/chromedriver\n",
      "Second method failed: you cannot reuse the ChromeOptions object\n",
      "Using Chrome with user agent: Mozilla/5.0 (Macintosh; Intel Mac OS X 10_15_7) AppleWebKit/537.36 (KHTML, like Gecko) Chrome/99.0.4844.84 Safari/537.36\n"
     ]
    },
    {
     "name": "stderr",
     "output_type": "stream",
     "text": [
      "Processing batches:  98%|█████████▊| 1136/1161 [2:24:47<02:07,  5.09s/it]"
     ]
    },
    {
     "name": "stdout",
     "output_type": "stream",
     "text": [
      "Error scraping url https://batdongsan.com.vn/cho-thue-can-ho-chung-cu-mini-duong-dien-bien-phu-phuong-1-14/cho-cc-2pn-1wc-80m2-8-trieu-p-1-q-3-hcm-gia-tot-pr42686920: 're__icon-clock'\n",
      "Error scraping url https://batdongsan.com.vn/cho-thue-can-ho-chung-cu-phuong-cat-lai-1/c-citialto-2pn-2wc-o-ngay-nha-moi-vao-noi-that-co-ban-nhu-hinh-pr42687071: 're__icon-front-view'\n"
     ]
    },
    {
     "name": "stderr",
     "output_type": "stream",
     "text": [
      "Processing batches:  98%|█████████▊| 1137/1161 [2:24:48<01:32,  3.85s/it]"
     ]
    },
    {
     "name": "stdout",
     "output_type": "stream",
     "text": [
      "Using Chrome with user agent: Mozilla/5.0 (Windows NT 10.0; Win64; x64) AppleWebKit/537.36 (KHTML, like Gecko) Chrome/100.0.4896.127 Safari/537.36\n",
      "Using Chrome with user agent: Mozilla/5.0 (Windows NT 10.0; Win64; x64) AppleWebKit/537.36 (KHTML, like Gecko) Chrome/99.0.4844.84 Safari/537.36\n"
     ]
    },
    {
     "name": "stderr",
     "output_type": "stream",
     "text": [
      "Processing batches:  98%|█████████▊| 1138/1161 [2:24:55<01:51,  4.86s/it]"
     ]
    },
    {
     "name": "stdout",
     "output_type": "stream",
     "text": [
      "Error scraping url https://batdongsan.com.vn/cho-thue-nha-tro-phong-tro-phuong-thanh-my-loi-1/cho-30m2-5tr-thangtt-tp-thu-duc-quan-2-cu-pr42685245: 're__icon-home'\n",
      "Using Chrome with user agent: Mozilla/5.0 (Windows NT 10.0; Win64; x64) AppleWebKit/537.36 (KHTML, like Gecko) Chrome/99.0.4844.84 Safari/537.36\n",
      "Error scraping url https://batdongsan.com.vn/cho-thue-can-ho-chung-cu-phuong-long-binh-3-prj-the-beverly-vinhomes-grand-park/c-o-duoc-ngay-full-noi-that-cao-cap-pr42684550: 're__icon-front-view'\n"
     ]
    },
    {
     "name": "stderr",
     "output_type": "stream",
     "text": [
      "Processing batches:  98%|█████████▊| 1139/1161 [2:25:04<02:13,  6.08s/it]"
     ]
    },
    {
     "name": "stdout",
     "output_type": "stream",
     "text": [
      "Error scraping url https://batdongsan.com.vn/cho-thue-nha-tro-phong-tro-duong-dong-van-cong-phuong-cat-lai-prj-khu-do-thi-cat-lai/cho-chdv-tai-q2-pr42685453: 're__icon-clock'\n"
     ]
    },
    {
     "name": "stderr",
     "output_type": "stream",
     "text": [
      "Processing batches:  98%|█████████▊| 1140/1161 [2:25:06<01:45,  5.02s/it]"
     ]
    },
    {
     "name": "stdout",
     "output_type": "stream",
     "text": [
      "Using Chrome with user agent: Mozilla/5.0 (Windows NT 10.0; Win64; x64) AppleWebKit/537.36 (KHTML, like Gecko) Chrome/100.0.4896.127 Safari/537.36\n",
      "Using Chrome with user agent: Mozilla/5.0 (Windows NT 10.0; Win64; x64) AppleWebKit/537.36 (KHTML, like Gecko) Chrome/99.0.4844.84 Safari/537.36\n",
      "All Chrome initialization methods failed: Message: Can not connect to the Service /Users/macbook/.wdm/drivers/chromedriver/mac64/135.0.7049.95/chromedriver-mac-arm64/chromedriver\n",
      "\n",
      "Error scraping url https://batdongsan.com.vn/cho-thue-can-ho-chung-cu-duong-pham-van-nghi-phuong-tan-phong-9-prj-sky-garden-3/c-3pn-2wc-70m2-3-phu-my-hung-quan-7-gia-15tr5-thang-pr42494099: 're__icon-electricity'\n"
     ]
    },
    {
     "name": "stderr",
     "output_type": "stream",
     "text": [
      "Processing batches:  98%|█████████▊| 1141/1161 [2:25:18<02:22,  7.13s/it]"
     ]
    },
    {
     "name": "stdout",
     "output_type": "stream",
     "text": [
      "Error scraping url https://batdongsan.com.vn/cho-thue-can-ho-chung-cu-duong-le-quang-kim-phuong-8-9-prj-diamond-lotus-phuc-khang/cho-79m-2pn-2wc-full-noi-that-gia-16tr-thuong-luong-pr37296087: 're__icon-front-view'\n"
     ]
    },
    {
     "name": "stderr",
     "output_type": "stream",
     "text": [
      "Processing batches:  98%|█████████▊| 1142/1161 [2:25:19<01:37,  5.13s/it]"
     ]
    },
    {
     "name": "stdout",
     "output_type": "stream",
     "text": [
      "Using Chrome with user agent: Mozilla/5.0 (Macintosh; Intel Mac OS X 10_15_7) AppleWebKit/537.36 (KHTML, like Gecko) Chrome/99.0.4844.84 Safari/537.36\n",
      "Using Chrome with user agent: Mozilla/5.0 (Windows NT 10.0; Win64; x64) AppleWebKit/537.36 (KHTML, like Gecko) Chrome/100.0.4896.127 Safari/537.36\n",
      "Error scraping url https://batdongsan.com.vn/cho-thue-nha-tro-phong-tro-duong-85-phuong-tan-quy/cho-4-trieu-40m2-tai-85-q7-hcm-gia-cuc-chat-pr42622224: 're__icon-electricity'\n"
     ]
    },
    {
     "name": "stderr",
     "output_type": "stream",
     "text": [
      "Processing batches:  98%|█████████▊| 1143/1161 [2:25:35<02:32,  8.48s/it]"
     ]
    },
    {
     "name": "stdout",
     "output_type": "stream",
     "text": [
      "Error scraping url https://batdongsan.com.vn/cho-thue-can-ho-chung-cu-mini-duong-bui-huu-nghia-phuong-2-20/chinh-chu-c-co-ban-cong-gieng-troi-y-hinh-full-nt-100-pr42389726: 're__icon-front-view'\n"
     ]
    },
    {
     "name": "stderr",
     "output_type": "stream",
     "text": [
      "Processing batches:  99%|█████████▊| 1144/1161 [2:25:38<01:53,  6.67s/it]"
     ]
    },
    {
     "name": "stdout",
     "output_type": "stream",
     "text": [
      "Using Chrome with user agent: Mozilla/5.0 (Macintosh; Intel Mac OS X 10_15_7) AppleWebKit/537.36 (KHTML, like Gecko) Chrome/100.0.4896.127 Safari/537.36\n",
      "Using Chrome with user agent: Mozilla/5.0 (Windows NT 10.0; Win64; x64) AppleWebKit/537.36 (KHTML, like Gecko) Chrome/99.0.4844.84 Safari/537.36\n"
     ]
    },
    {
     "name": "stderr",
     "output_type": "stream",
     "text": [
      "Processing batches:  99%|█████████▊| 1145/1161 [2:25:46<01:52,  7.05s/it]"
     ]
    },
    {
     "name": "stdout",
     "output_type": "stream",
     "text": [
      "Error scraping url https://batdongsan.com.vn/cho-thue-can-ho-chung-cu-mini-pho-phan-dang-luu-phuong-5-16/chinh-chu-c-2pn-y-hinh-cam-ket-100-ngay-thich-quang-duc-pr42389756: 're__icon-clock'\n",
      "Using Chrome with user agent: Mozilla/5.0 (Windows NT 10.0; Win64; x64) AppleWebKit/537.36 (KHTML, like Gecko) Chrome/100.0.4896.127 Safari/537.36\n"
     ]
    },
    {
     "name": "stderr",
     "output_type": "stream",
     "text": [
      "Processing batches:  99%|█████████▊| 1146/1161 [2:25:55<01:57,  7.81s/it]"
     ]
    },
    {
     "name": "stdout",
     "output_type": "stream",
     "text": [
      "Error scraping url https://batdongsan.com.vn/cho-thue-nha-tro-phong-tro-duong-35cl-phuong-cat-lai/chdv-gan-citisoho-co-thang-may-khong-chu-moi-1pn-1pk-35m2-5tr2-full-noi-that-pr42575360: 're__icon-clock'\n",
      "Error scraping url https://batdongsan.com.vn/cho-thue-can-ho-chung-cu-mini-pho-phan-dang-luu-phuong-5-16/chinh-chu-cho-cc-6-2-trieu-30m2-1pn-1wc-noi-that-day-du-hang-hiem-pr42422174: 're__icon-clock'\n"
     ]
    },
    {
     "name": "stderr",
     "output_type": "stream",
     "text": [
      "Processing batches:  99%|█████████▉| 1147/1161 [2:25:58<01:26,  6.21s/it]"
     ]
    },
    {
     "name": "stdout",
     "output_type": "stream",
     "text": [
      "Using Chrome with user agent: Mozilla/5.0 (Windows NT 10.0; Win64; x64) AppleWebKit/537.36 (KHTML, like Gecko) Chrome/99.0.4844.84 Safari/537.36\n",
      "Using Chrome with user agent: Mozilla/5.0 (Macintosh; Intel Mac OS X 10_15_7) AppleWebKit/537.36 (KHTML, like Gecko) Chrome/99.0.4844.84 Safari/537.36\n"
     ]
    },
    {
     "name": "stderr",
     "output_type": "stream",
     "text": [
      "Processing batches:  99%|█████████▉| 1148/1161 [2:26:02<01:14,  5.72s/it]"
     ]
    },
    {
     "name": "stdout",
     "output_type": "stream",
     "text": [
      "Error scraping url https://batdongsan.com.vn/cho-thue-nha-tro-phong-tro-duong-1-phuong-15-6/cho-35m2-4-3-trieu-1-p-15-go-vap-hcm-hang-hot-pr42684394: 're__icon-front-view'\n",
      "Using Chrome with user agent: Mozilla/5.0 (Macintosh; Intel Mac OS X 10_15_7) AppleWebKit/537.36 (KHTML, like Gecko) Chrome/99.0.4844.84 Safari/537.36\n"
     ]
    },
    {
     "name": "stderr",
     "output_type": "stream",
     "text": [
      "Processing batches:  99%|█████████▉| 1149/1161 [2:26:11<01:18,  6.58s/it]"
     ]
    },
    {
     "name": "stdout",
     "output_type": "stream",
     "text": [
      "Error scraping url https://batdongsan.com.vn/cho-thue-can-ho-chung-cu-duong-hong-ha-phuong-2-22-prj-botanica-premier/cho-13-trieu-thang-novaland-55m2-1pn-1wc-nha-co-ban-co-noi-that-pr42684893: 're__icon-clock'\n"
     ]
    },
    {
     "name": "stderr",
     "output_type": "stream",
     "text": [
      "Service process refused to terminate gracefully with SIGTERM, escalating to SIGKILL.\n",
      "Traceback (most recent call last):\n",
      "  File \"/Users/macbook/Desktop/BecasaNetwork/crawl/scrapepage.py\", line 132, in init_driver\n",
      "    driver = uc.Chrome(version_main=135, options=options)  # Specify a version that works with your Chrome\n",
      "  File \"/Users/macbook/Desktop/BecasaNetwork/crawl/env/lib/python3.13/site-packages/undetected_chromedriver/__init__.py\", line 466, in __init__\n",
      "    super(Chrome, self).__init__(\n",
      "    ~~~~~~~~~~~~~~~~~~~~~~~~~~~~^\n",
      "        service=service,\n",
      "        ^^^^^^^^^^^^^^^^\n",
      "        options=options,\n",
      "        ^^^^^^^^^^^^^^^^\n",
      "        keep_alive=keep_alive,\n",
      "        ^^^^^^^^^^^^^^^^^^^^^^\n",
      "    )\n",
      "    ^\n",
      "  File \"/Users/macbook/Desktop/BecasaNetwork/crawl/env/lib/python3.13/site-packages/selenium/webdriver/chrome/webdriver.py\", line 45, in __init__\n",
      "    super().__init__(\n",
      "    ~~~~~~~~~~~~~~~~^\n",
      "        browser_name=DesiredCapabilities.CHROME[\"browserName\"],\n",
      "        ^^^^^^^^^^^^^^^^^^^^^^^^^^^^^^^^^^^^^^^^^^^^^^^^^^^^^^^\n",
      "    ...<3 lines>...\n",
      "        keep_alive=keep_alive,\n",
      "        ^^^^^^^^^^^^^^^^^^^^^^\n",
      "    )\n",
      "    ^\n",
      "  File \"/Users/macbook/Desktop/BecasaNetwork/crawl/env/lib/python3.13/site-packages/selenium/webdriver/chromium/webdriver.py\", line 55, in __init__\n",
      "    self.service.start()\n",
      "    ~~~~~~~~~~~~~~~~~~^^\n",
      "  File \"/Users/macbook/Desktop/BecasaNetwork/crawl/env/lib/python3.13/site-packages/selenium/webdriver/common/service.py\", line 113, in start\n",
      "    self.assert_process_still_running()\n",
      "    ~~~~~~~~~~~~~~~~~~~~~~~~~~~~~~~~~^^\n",
      "  File \"/Users/macbook/Desktop/BecasaNetwork/crawl/env/lib/python3.13/site-packages/selenium/webdriver/common/service.py\", line 126, in assert_process_still_running\n",
      "    raise WebDriverException(f\"Service {self._path} unexpectedly exited. Status code was: {return_code}\")\n",
      "selenium.common.exceptions.WebDriverException: Message: Service /Users/macbook/Library/Application Support/undetected_chromedriver/undetected_chromedriver unexpectedly exited. Status code was: -9\n",
      "\n",
      "\n",
      "During handling of the above exception, another exception occurred:\n",
      "\n",
      "Traceback (most recent call last):\n",
      "  File \"/Users/macbook/Desktop/BecasaNetwork/crawl/scrapepage.py\", line 139, in init_driver\n",
      "    driver = uc.Chrome(driver_executable_path=driver_path, options=options)\n",
      "  File \"/Users/macbook/Desktop/BecasaNetwork/crawl/env/lib/python3.13/site-packages/undetected_chromedriver/__init__.py\", line 269, in __init__\n",
      "    raise RuntimeError(\"you cannot reuse the ChromeOptions object\")\n",
      "RuntimeError: you cannot reuse the ChromeOptions object\n",
      "\n",
      "During handling of the above exception, another exception occurred:\n",
      "\n",
      "Traceback (most recent call last):\n",
      "  File \"/Users/macbook/Desktop/BecasaNetwork/crawl/scrapepage.py\", line 166, in scrape_page\n",
      "    driver = init_driver()\n",
      "  File \"/Users/macbook/Desktop/BecasaNetwork/crawl/scrapepage.py\", line 147, in init_driver\n",
      "    driver = webdriver.Chrome(service=service, options=options)\n",
      "  File \"/Users/macbook/Desktop/BecasaNetwork/crawl/env/lib/python3.13/site-packages/selenium/webdriver/chrome/webdriver.py\", line 45, in __init__\n",
      "    super().__init__(\n",
      "    ~~~~~~~~~~~~~~~~^\n",
      "        browser_name=DesiredCapabilities.CHROME[\"browserName\"],\n",
      "        ^^^^^^^^^^^^^^^^^^^^^^^^^^^^^^^^^^^^^^^^^^^^^^^^^^^^^^^\n",
      "    ...<3 lines>...\n",
      "        keep_alive=keep_alive,\n",
      "        ^^^^^^^^^^^^^^^^^^^^^^\n",
      "    )\n",
      "    ^\n",
      "  File \"/Users/macbook/Desktop/BecasaNetwork/crawl/env/lib/python3.13/site-packages/selenium/webdriver/chromium/webdriver.py\", line 55, in __init__\n",
      "    self.service.start()\n",
      "    ~~~~~~~~~~~~~~~~~~^^\n",
      "  File \"/Users/macbook/Desktop/BecasaNetwork/crawl/env/lib/python3.13/site-packages/selenium/webdriver/common/service.py\", line 120, in start\n",
      "    raise WebDriverException(f\"Can not connect to the Service {self._path}\")\n",
      "selenium.common.exceptions.WebDriverException: Message: Can not connect to the Service /Users/macbook/.wdm/drivers/chromedriver/mac64/135.0.7049.95/chromedriver-mac-arm64/chromedriver\n",
      "\n",
      "\n",
      "During handling of the above exception, another exception occurred:\n",
      "\n",
      "UnboundLocalError: cannot access local variable 'url' where it is not associated with a value\n",
      "\n",
      "During handling of the above exception, another exception occurred:\n",
      "\n",
      "Traceback (most recent call last):\n",
      "  File \"/Users/macbook/Desktop/BecasaNetwork/crawl/env/lib/python3.13/site-packages/selenium/webdriver/common/service.py\", line 184, in _terminate_process\n",
      "    self.process.wait(60)\n",
      "    ~~~~~~~~~~~~~~~~~^^^^\n",
      "  File \"/opt/homebrew/Cellar/python@3.13/3.13.2/Frameworks/Python.framework/Versions/3.13/lib/python3.13/subprocess.py\", line 1276, in wait\n",
      "    return self._wait(timeout=timeout)\n",
      "           ~~~~~~~~~~^^^^^^^^^^^^^^^^^\n",
      "  File \"/opt/homebrew/Cellar/python@3.13/3.13.2/Frameworks/Python.framework/Versions/3.13/lib/python3.13/subprocess.py\", line 2060, in _wait\n",
      "    raise TimeoutExpired(self.args, timeout)\n",
      "subprocess.TimeoutExpired: Command '['/Users/macbook/.wdm/drivers/chromedriver/mac64/135.0.7049.95/chromedriver-mac-arm64/chromedriver', '--port=57643']' timed out after 60 seconds\n",
      "Processing batches:  99%|█████████▉| 1150/1161 [2:26:12<00:53,  4.87s/it]"
     ]
    },
    {
     "name": "stdout",
     "output_type": "stream",
     "text": [
      "Error processing batch ['https://batdongsan.com.vn/cho-thue-nha-tro-phong-tro-duong-nguyen-thi-dinh-phuong-binh-trung-tay/1pn-full-noi-that-ban-cong-sieu-rong-pr42524492']: cannot access local variable 'url' where it is not associated with a value\n",
      "Using Chrome with user agent: Mozilla/5.0 (Windows NT 10.0; Win64; x64) AppleWebKit/537.36 (KHTML, like Gecko) Chrome/99.0.4844.84 Safari/537.36\n",
      "Using Chrome with user agent: Mozilla/5.0 (Windows NT 10.0; Win64; x64) AppleWebKit/537.36 (KHTML, like Gecko) Chrome/99.0.4844.84 Safari/537.36\n",
      "Error scraping url https://batdongsan.com.vn/cho-thue-can-ho-chung-cu-duong-ben-van-don-phuong-6-prj-river-gate/c-studio-quan-4-voi-noi-that-duoc-thiet-xinh-iu-pr42684811: 're__icon-clock'\n"
     ]
    },
    {
     "name": "stderr",
     "output_type": "stream",
     "text": [
      "Processing batches:  99%|█████████▉| 1151/1161 [2:26:18<00:53,  5.33s/it]"
     ]
    },
    {
     "name": "stdout",
     "output_type": "stream",
     "text": [
      "Using Chrome with user agent: Mozilla/5.0 (Windows NT 10.0; Win64; x64) AppleWebKit/537.36 (KHTML, like Gecko) Chrome/100.0.4896.127 Safari/537.36\n",
      "Error scraping url https://batdongsan.com.vn/cho-thue-can-ho-chung-cu-phuong-cat-lai-prj-citi-home/cho-ch-q2-gia-chi-6-trieu-coc-1-thang-64m2-2pn-2wc-pr42688090: 're__icon-clock'\n"
     ]
    },
    {
     "name": "stderr",
     "output_type": "stream",
     "text": [
      "Processing batches:  99%|█████████▉| 1153/1161 [2:26:50<01:15,  9.42s/it]"
     ]
    },
    {
     "name": "stdout",
     "output_type": "stream",
     "text": [
      "Using Chrome with user agent: Mozilla/5.0 (Windows NT 10.0; Win64; x64) AppleWebKit/537.36 (KHTML, like Gecko) Chrome/100.0.4896.127 Safari/537.36\n",
      "Using Chrome with user agent: Mozilla/5.0 (Windows NT 10.0; Win64; x64) AppleWebKit/537.36 (KHTML, like Gecko) Chrome/99.0.4844.84 Safari/537.36\n",
      "Error scraping url https://batdongsan.com.vn/cho-thue-can-ho-chung-cu-duong-hoang-minh-giam-phuong-9-12-prj-garden-gate/-tang-cao-17-trieu-2-png-ngu-day-du-tien-nghi-vao-ngay-gate-pr42684341: 're__icon-front-view'\n"
     ]
    },
    {
     "name": "stderr",
     "output_type": "stream",
     "text": [
      "Processing batches:  99%|█████████▉| 1154/1161 [2:27:09<01:26, 12.30s/it]"
     ]
    },
    {
     "name": "stdout",
     "output_type": "stream",
     "text": [
      "Using Chrome with user agent: Mozilla/5.0 (Macintosh; Intel Mac OS X 10_15_7) AppleWebKit/537.36 (KHTML, like Gecko) Chrome/99.0.4844.84 Safari/537.36\n",
      "Error scraping url https://batdongsan.com.vn/cho-thue-nha-tro-phong-tro-duong-ngo-tat-to-phuong-22/-studio-ban-cong-rieng-full-topping-128-to-pr42683860: 're__icon-electricity'\n"
     ]
    },
    {
     "name": "stderr",
     "output_type": "stream",
     "text": [
      "Processing batches:  99%|█████████▉| 1155/1161 [2:27:20<01:10, 11.79s/it]"
     ]
    },
    {
     "name": "stdout",
     "output_type": "stream",
     "text": [
      "Error scraping url https://batdongsan.com.vn/cho-thue-can-ho-chung-cu-duong-dao-tri-phuong-phu-thuan-3-prj-an-gia-riverside/c-view-song-angia-quan-7-2pn-2wc-full-noi-that-cao-cap-nhan-nha-ngay-pr42684113: 're__icon-front-view'\n"
     ]
    },
    {
     "name": "stderr",
     "output_type": "stream",
     "text": [
      "Processing batches: 100%|█████████▉| 1156/1161 [2:27:21<00:42,  8.59s/it]"
     ]
    },
    {
     "name": "stdout",
     "output_type": "stream",
     "text": [
      "Using Chrome with user agent: Mozilla/5.0 (Macintosh; Intel Mac OS X 10_15_7) AppleWebKit/537.36 (KHTML, like Gecko) Chrome/100.0.4896.127 Safari/537.36\n",
      "Using Chrome with user agent: Mozilla/5.0 (Macintosh; Intel Mac OS X 10_15_7) AppleWebKit/537.36 (KHTML, like Gecko) Chrome/100.0.4896.127 Safari/537.36\n",
      "Error scraping url https://batdongsan.com.vn/cho-thue-can-ho-chung-cu-duong-nguyen-duy-trinh-phuong-binh-trung-dong-prj-kris-vue/hang-hiem-cho-cc-tai-11-5-trieu-vnd-53m2-1pn-1wc-noi-that-qua-u-la-dep-pr42548415: 're__icon-clock'\n"
     ]
    },
    {
     "name": "stderr",
     "output_type": "stream",
     "text": [
      "Processing batches: 100%|█████████▉| 1157/1161 [2:27:27<00:31,  7.93s/it]"
     ]
    },
    {
     "name": "stdout",
     "output_type": "stream",
     "text": [
      "Using Chrome with user agent: Mozilla/5.0 (Windows NT 10.0; Win64; x64) AppleWebKit/537.36 (KHTML, like Gecko) Chrome/99.0.4844.84 Safari/537.36\n"
     ]
    },
    {
     "name": "stderr",
     "output_type": "stream",
     "text": [
      "Processing batches: 100%|█████████▉| 1158/1161 [2:27:39<00:27,  9.02s/it]"
     ]
    },
    {
     "name": "stdout",
     "output_type": "stream",
     "text": [
      "Error scraping url https://batdongsan.com.vn/cho-thue-can-ho-chung-cu-duong-ben-van-don-phuong-12-prj-the-tresor/-c-110m2-3pn-mat-tien-quan-4-gia-re-lh-pr41916553: 're__icon-front-view'\n"
     ]
    },
    {
     "name": "stderr",
     "output_type": "stream",
     "text": [
      "Processing batches: 100%|█████████▉| 1159/1161 [2:27:51<00:19,  9.85s/it]"
     ]
    },
    {
     "name": "stdout",
     "output_type": "stream",
     "text": [
      "Error scraping url https://batdongsan.com.vn/cho-thue-can-ho-chung-cu-duong-truong-dinh-hoi-phuong-16-1-prj-good-house-apartment/c-72m2-gom-2pn-2wc-co-ban-cong-rong-tang-mat-pr42684195: HTTPConnectionPool(host='localhost', port=56769): Read timed out. (read timeout=120)\n"
     ]
    },
    {
     "name": "stderr",
     "output_type": "stream",
     "text": [
      "Processing batches: 100%|█████████▉| 1160/1161 [2:28:40<00:21, 21.73s/it]"
     ]
    },
    {
     "name": "stdout",
     "output_type": "stream",
     "text": [
      "Error scraping url https://batdongsan.com.vn/cho-thue-can-ho-chung-cu-duong-ton-dat-tien-phuong-tan-phu-19-prj-scenic-valley-1/cho-nha-dep-tang-cao-3pn-gia-chi-29tr-thang-pr42412350: 're__icon-front-view'\n"
     ]
    },
    {
     "name": "stderr",
     "output_type": "stream",
     "text": [
      "Processing batches: 100%|██████████| 1161/1161 [2:30:09<00:00,  7.76s/it]\n",
      "Service process refused to terminate gracefully with SIGTERM, escalating to SIGKILL.\n",
      "Traceback (most recent call last):\n",
      "  File \"/Users/macbook/Desktop/BecasaNetwork/crawl/env/lib/python3.13/site-packages/selenium/webdriver/common/service.py\", line 184, in _terminate_process\n",
      "    self.process.wait(60)\n",
      "    ~~~~~~~~~~~~~~~~~^^^^\n",
      "  File \"/opt/homebrew/Cellar/python@3.13/3.13.2/Frameworks/Python.framework/Versions/3.13/lib/python3.13/subprocess.py\", line 1276, in wait\n",
      "    return self._wait(timeout=timeout)\n",
      "           ~~~~~~~~~~^^^^^^^^^^^^^^^^^\n",
      "  File \"/opt/homebrew/Cellar/python@3.13/3.13.2/Frameworks/Python.framework/Versions/3.13/lib/python3.13/subprocess.py\", line 2060, in _wait\n",
      "    raise TimeoutExpired(self.args, timeout)\n",
      "subprocess.TimeoutExpired: Command '['/Users/macbook/.wdm/drivers/chromedriver/mac64/135.0.7049.95/chromedriver-mac-arm64/chromedriver', '--port=62505']' timed out after 60 seconds\n",
      "Service process refused to terminate gracefully with SIGTERM, escalating to SIGKILL.\n",
      "Traceback (most recent call last):\n",
      "  File \"/Users/macbook/Desktop/BecasaNetwork/crawl/env/lib/python3.13/site-packages/selenium/webdriver/common/service.py\", line 184, in _terminate_process\n",
      "    self.process.wait(60)\n",
      "    ~~~~~~~~~~~~~~~~~^^^^\n",
      "  File \"/opt/homebrew/Cellar/python@3.13/3.13.2/Frameworks/Python.framework/Versions/3.13/lib/python3.13/subprocess.py\", line 1276, in wait\n",
      "    return self._wait(timeout=timeout)\n",
      "           ~~~~~~~~~~^^^^^^^^^^^^^^^^^\n",
      "  File \"/opt/homebrew/Cellar/python@3.13/3.13.2/Frameworks/Python.framework/Versions/3.13/lib/python3.13/subprocess.py\", line 2060, in _wait\n",
      "    raise TimeoutExpired(self.args, timeout)\n",
      "subprocess.TimeoutExpired: Command '['/Users/macbook/.wdm/drivers/chromedriver/mac64/135.0.7049.95/chromedriver-mac-arm64/chromedriver', '--port=60848']' timed out after 60 seconds\n",
      "Service process refused to terminate gracefully with SIGTERM, escalating to SIGKILL.\n",
      "Traceback (most recent call last):\n",
      "  File \"/Users/macbook/Desktop/BecasaNetwork/crawl/env/lib/python3.13/site-packages/selenium/webdriver/common/service.py\", line 184, in _terminate_process\n",
      "    self.process.wait(60)\n",
      "    ~~~~~~~~~~~~~~~~~^^^^\n",
      "  File \"/opt/homebrew/Cellar/python@3.13/3.13.2/Frameworks/Python.framework/Versions/3.13/lib/python3.13/subprocess.py\", line 1276, in wait\n",
      "    return self._wait(timeout=timeout)\n",
      "           ~~~~~~~~~~^^^^^^^^^^^^^^^^^\n",
      "  File \"/opt/homebrew/Cellar/python@3.13/3.13.2/Frameworks/Python.framework/Versions/3.13/lib/python3.13/subprocess.py\", line 2060, in _wait\n",
      "    raise TimeoutExpired(self.args, timeout)\n",
      "subprocess.TimeoutExpired: Command '['/Users/macbook/.wdm/drivers/chromedriver/mac64/135.0.7049.95/chromedriver-mac-arm64/chromedriver', '--port=53070']' timed out after 60 seconds\n",
      "Service process refused to terminate gracefully with SIGTERM, escalating to SIGKILL.\n",
      "Traceback (most recent call last):\n",
      "  File \"/Users/macbook/Desktop/BecasaNetwork/crawl/env/lib/python3.13/site-packages/selenium/webdriver/common/service.py\", line 184, in _terminate_process\n",
      "    self.process.wait(60)\n",
      "    ~~~~~~~~~~~~~~~~~^^^^\n",
      "  File \"/opt/homebrew/Cellar/python@3.13/3.13.2/Frameworks/Python.framework/Versions/3.13/lib/python3.13/subprocess.py\", line 1276, in wait\n",
      "    return self._wait(timeout=timeout)\n",
      "           ~~~~~~~~~~^^^^^^^^^^^^^^^^^\n",
      "  File \"/opt/homebrew/Cellar/python@3.13/3.13.2/Frameworks/Python.framework/Versions/3.13/lib/python3.13/subprocess.py\", line 2060, in _wait\n",
      "    raise TimeoutExpired(self.args, timeout)\n",
      "subprocess.TimeoutExpired: Command '['/Users/macbook/Library/Application Support/undetected_chromedriver/undetected_chromedriver', '--port=50523']' timed out after 60 seconds\n",
      "Service process refused to terminate gracefully with SIGTERM, escalating to SIGKILL.\n",
      "Traceback (most recent call last):\n",
      "  File \"/Users/macbook/Desktop/BecasaNetwork/crawl/env/lib/python3.13/site-packages/selenium/webdriver/common/service.py\", line 184, in _terminate_process\n",
      "    self.process.wait(60)\n",
      "    ~~~~~~~~~~~~~~~~~^^^^\n",
      "  File \"/opt/homebrew/Cellar/python@3.13/3.13.2/Frameworks/Python.framework/Versions/3.13/lib/python3.13/subprocess.py\", line 1276, in wait\n",
      "    return self._wait(timeout=timeout)\n",
      "           ~~~~~~~~~~^^^^^^^^^^^^^^^^^\n",
      "  File \"/opt/homebrew/Cellar/python@3.13/3.13.2/Frameworks/Python.framework/Versions/3.13/lib/python3.13/subprocess.py\", line 2060, in _wait\n",
      "    raise TimeoutExpired(self.args, timeout)\n",
      "subprocess.TimeoutExpired: Command '['/Users/macbook/.wdm/drivers/chromedriver/mac64/135.0.7049.95/chromedriver-mac-arm64/chromedriver', '--port=59982']' timed out after 60 seconds\n",
      "Service process refused to terminate gracefully with SIGTERM, escalating to SIGKILL.\n",
      "Traceback (most recent call last):\n",
      "  File \"/Users/macbook/Desktop/BecasaNetwork/crawl/env/lib/python3.13/site-packages/selenium/webdriver/common/service.py\", line 184, in _terminate_process\n",
      "    self.process.wait(60)\n",
      "    ~~~~~~~~~~~~~~~~~^^^^\n",
      "  File \"/opt/homebrew/Cellar/python@3.13/3.13.2/Frameworks/Python.framework/Versions/3.13/lib/python3.13/subprocess.py\", line 1276, in wait\n",
      "    return self._wait(timeout=timeout)\n",
      "           ~~~~~~~~~~^^^^^^^^^^^^^^^^^\n",
      "  File \"/opt/homebrew/Cellar/python@3.13/3.13.2/Frameworks/Python.framework/Versions/3.13/lib/python3.13/subprocess.py\", line 2060, in _wait\n",
      "    raise TimeoutExpired(self.args, timeout)\n",
      "subprocess.TimeoutExpired: Command '['/Users/macbook/Library/Application Support/undetected_chromedriver/undetected_chromedriver', '--port=52631']' timed out after 60 seconds\n",
      "Service process refused to terminate gracefully with SIGTERM, escalating to SIGKILL.\n",
      "Traceback (most recent call last):\n",
      "  File \"/Users/macbook/Desktop/BecasaNetwork/crawl/env/lib/python3.13/site-packages/selenium/webdriver/common/service.py\", line 184, in _terminate_process\n",
      "    self.process.wait(60)\n",
      "    ~~~~~~~~~~~~~~~~~^^^^\n",
      "  File \"/opt/homebrew/Cellar/python@3.13/3.13.2/Frameworks/Python.framework/Versions/3.13/lib/python3.13/subprocess.py\", line 1276, in wait\n",
      "    return self._wait(timeout=timeout)\n",
      "           ~~~~~~~~~~^^^^^^^^^^^^^^^^^\n",
      "  File \"/opt/homebrew/Cellar/python@3.13/3.13.2/Frameworks/Python.framework/Versions/3.13/lib/python3.13/subprocess.py\", line 2060, in _wait\n",
      "    raise TimeoutExpired(self.args, timeout)\n",
      "subprocess.TimeoutExpired: Command '['/Users/macbook/.wdm/drivers/chromedriver/mac64/135.0.7049.95/chromedriver-mac-arm64/chromedriver', '--port=52647']' timed out after 60 seconds\n",
      "Service process refused to terminate gracefully with SIGTERM, escalating to SIGKILL.\n",
      "Traceback (most recent call last):\n",
      "  File \"/Users/macbook/Desktop/BecasaNetwork/crawl/env/lib/python3.13/site-packages/selenium/webdriver/common/service.py\", line 184, in _terminate_process\n",
      "    self.process.wait(60)\n",
      "    ~~~~~~~~~~~~~~~~~^^^^\n",
      "  File \"/opt/homebrew/Cellar/python@3.13/3.13.2/Frameworks/Python.framework/Versions/3.13/lib/python3.13/subprocess.py\", line 1276, in wait\n",
      "    return self._wait(timeout=timeout)\n",
      "           ~~~~~~~~~~^^^^^^^^^^^^^^^^^\n",
      "  File \"/opt/homebrew/Cellar/python@3.13/3.13.2/Frameworks/Python.framework/Versions/3.13/lib/python3.13/subprocess.py\", line 2060, in _wait\n",
      "    raise TimeoutExpired(self.args, timeout)\n",
      "subprocess.TimeoutExpired: Command '['/Users/macbook/.wdm/drivers/chromedriver/mac64/135.0.7049.95/chromedriver-mac-arm64/chromedriver', '--port=55001']' timed out after 60 seconds\n",
      "Service process refused to terminate gracefully with SIGTERM, escalating to SIGKILL.\n",
      "Traceback (most recent call last):\n",
      "  File \"/Users/macbook/Desktop/BecasaNetwork/crawl/env/lib/python3.13/site-packages/selenium/webdriver/common/service.py\", line 184, in _terminate_process\n",
      "    self.process.wait(60)\n",
      "    ~~~~~~~~~~~~~~~~~^^^^\n",
      "  File \"/opt/homebrew/Cellar/python@3.13/3.13.2/Frameworks/Python.framework/Versions/3.13/lib/python3.13/subprocess.py\", line 1276, in wait\n",
      "    return self._wait(timeout=timeout)\n",
      "           ~~~~~~~~~~^^^^^^^^^^^^^^^^^\n",
      "  File \"/opt/homebrew/Cellar/python@3.13/3.13.2/Frameworks/Python.framework/Versions/3.13/lib/python3.13/subprocess.py\", line 2060, in _wait\n",
      "    raise TimeoutExpired(self.args, timeout)\n",
      "subprocess.TimeoutExpired: Command '['/Users/macbook/.wdm/drivers/chromedriver/mac64/135.0.7049.95/chromedriver-mac-arm64/chromedriver', '--port=64495']' timed out after 60 seconds\n",
      "Service process refused to terminate gracefully with SIGTERM, escalating to SIGKILL.\n",
      "Traceback (most recent call last):\n",
      "  File \"/Users/macbook/Desktop/BecasaNetwork/crawl/env/lib/python3.13/site-packages/selenium/webdriver/common/service.py\", line 184, in _terminate_process\n",
      "    self.process.wait(60)\n",
      "    ~~~~~~~~~~~~~~~~~^^^^\n",
      "  File \"/opt/homebrew/Cellar/python@3.13/3.13.2/Frameworks/Python.framework/Versions/3.13/lib/python3.13/subprocess.py\", line 1276, in wait\n",
      "    return self._wait(timeout=timeout)\n",
      "           ~~~~~~~~~~^^^^^^^^^^^^^^^^^\n",
      "  File \"/opt/homebrew/Cellar/python@3.13/3.13.2/Frameworks/Python.framework/Versions/3.13/lib/python3.13/subprocess.py\", line 2060, in _wait\n",
      "    raise TimeoutExpired(self.args, timeout)\n",
      "subprocess.TimeoutExpired: Command '['/Users/macbook/.wdm/drivers/chromedriver/mac64/135.0.7049.95/chromedriver-mac-arm64/chromedriver', '--port=50544']' timed out after 60 seconds\n",
      "Service process refused to terminate gracefully with SIGTERM, escalating to SIGKILL.\n",
      "Traceback (most recent call last):\n",
      "  File \"/Users/macbook/Desktop/BecasaNetwork/crawl/env/lib/python3.13/site-packages/selenium/webdriver/common/service.py\", line 184, in _terminate_process\n",
      "    self.process.wait(60)\n",
      "    ~~~~~~~~~~~~~~~~~^^^^\n",
      "  File \"/opt/homebrew/Cellar/python@3.13/3.13.2/Frameworks/Python.framework/Versions/3.13/lib/python3.13/subprocess.py\", line 1276, in wait\n",
      "    return self._wait(timeout=timeout)\n",
      "           ~~~~~~~~~~^^^^^^^^^^^^^^^^^\n",
      "  File \"/opt/homebrew/Cellar/python@3.13/3.13.2/Frameworks/Python.framework/Versions/3.13/lib/python3.13/subprocess.py\", line 2060, in _wait\n",
      "    raise TimeoutExpired(self.args, timeout)\n",
      "subprocess.TimeoutExpired: Command '['/Users/macbook/.wdm/drivers/chromedriver/mac64/135.0.7049.95/chromedriver-mac-arm64/chromedriver', '--port=58508']' timed out after 60 seconds\n",
      "Service process refused to terminate gracefully with SIGTERM, escalating to SIGKILL.\n",
      "Traceback (most recent call last):\n",
      "  File \"/Users/macbook/Desktop/BecasaNetwork/crawl/env/lib/python3.13/site-packages/selenium/webdriver/common/service.py\", line 184, in _terminate_process\n",
      "    self.process.wait(60)\n",
      "    ~~~~~~~~~~~~~~~~~^^^^\n",
      "  File \"/opt/homebrew/Cellar/python@3.13/3.13.2/Frameworks/Python.framework/Versions/3.13/lib/python3.13/subprocess.py\", line 1276, in wait\n",
      "    return self._wait(timeout=timeout)\n",
      "           ~~~~~~~~~~^^^^^^^^^^^^^^^^^\n",
      "  File \"/opt/homebrew/Cellar/python@3.13/3.13.2/Frameworks/Python.framework/Versions/3.13/lib/python3.13/subprocess.py\", line 2060, in _wait\n",
      "    raise TimeoutExpired(self.args, timeout)\n",
      "subprocess.TimeoutExpired: Command '['/Users/macbook/.wdm/drivers/chromedriver/mac64/135.0.7049.95/chromedriver-mac-arm64/chromedriver', '--port=54676']' timed out after 60 seconds\n",
      "Service process refused to terminate gracefully with SIGTERM, escalating to SIGKILL.\n",
      "Traceback (most recent call last):\n",
      "  File \"/Users/macbook/Desktop/BecasaNetwork/crawl/env/lib/python3.13/site-packages/selenium/webdriver/common/service.py\", line 184, in _terminate_process\n",
      "    self.process.wait(60)\n",
      "    ~~~~~~~~~~~~~~~~~^^^^\n",
      "  File \"/opt/homebrew/Cellar/python@3.13/3.13.2/Frameworks/Python.framework/Versions/3.13/lib/python3.13/subprocess.py\", line 1276, in wait\n",
      "    return self._wait(timeout=timeout)\n",
      "           ~~~~~~~~~~^^^^^^^^^^^^^^^^^\n",
      "  File \"/opt/homebrew/Cellar/python@3.13/3.13.2/Frameworks/Python.framework/Versions/3.13/lib/python3.13/subprocess.py\", line 2060, in _wait\n",
      "    raise TimeoutExpired(self.args, timeout)\n",
      "subprocess.TimeoutExpired: Command '['/Users/macbook/Library/Application Support/undetected_chromedriver/undetected_chromedriver', '--port=64474']' timed out after 60 seconds\n",
      "Service process refused to terminate gracefully with SIGTERM, escalating to SIGKILL.\n",
      "Traceback (most recent call last):\n",
      "  File \"/Users/macbook/Desktop/BecasaNetwork/crawl/env/lib/python3.13/site-packages/selenium/webdriver/common/service.py\", line 184, in _terminate_process\n",
      "    self.process.wait(60)\n",
      "    ~~~~~~~~~~~~~~~~~^^^^\n",
      "  File \"/opt/homebrew/Cellar/python@3.13/3.13.2/Frameworks/Python.framework/Versions/3.13/lib/python3.13/subprocess.py\", line 1276, in wait\n",
      "    return self._wait(timeout=timeout)\n",
      "           ~~~~~~~~~~^^^^^^^^^^^^^^^^^\n",
      "  File \"/opt/homebrew/Cellar/python@3.13/3.13.2/Frameworks/Python.framework/Versions/3.13/lib/python3.13/subprocess.py\", line 2060, in _wait\n",
      "    raise TimeoutExpired(self.args, timeout)\n",
      "subprocess.TimeoutExpired: Command '['/Users/macbook/.wdm/drivers/chromedriver/mac64/135.0.7049.95/chromedriver-mac-arm64/chromedriver', '--port=63732']' timed out after 60 seconds\n",
      "Service process refused to terminate gracefully with SIGTERM, escalating to SIGKILL.\n",
      "Traceback (most recent call last):\n",
      "  File \"/Users/macbook/Desktop/BecasaNetwork/crawl/env/lib/python3.13/site-packages/selenium/webdriver/common/service.py\", line 184, in _terminate_process\n",
      "    self.process.wait(60)\n",
      "    ~~~~~~~~~~~~~~~~~^^^^\n",
      "  File \"/opt/homebrew/Cellar/python@3.13/3.13.2/Frameworks/Python.framework/Versions/3.13/lib/python3.13/subprocess.py\", line 1276, in wait\n",
      "    return self._wait(timeout=timeout)\n",
      "           ~~~~~~~~~~^^^^^^^^^^^^^^^^^\n",
      "  File \"/opt/homebrew/Cellar/python@3.13/3.13.2/Frameworks/Python.framework/Versions/3.13/lib/python3.13/subprocess.py\", line 2060, in _wait\n",
      "    raise TimeoutExpired(self.args, timeout)\n",
      "subprocess.TimeoutExpired: Command '['/Users/macbook/.wdm/drivers/chromedriver/mac64/135.0.7049.95/chromedriver-mac-arm64/chromedriver', '--port=65172']' timed out after 60 seconds\n"
     ]
    },
    {
     "name": "stdout",
     "output_type": "stream",
     "text": [
      "Crawling completed. Results saved to final_data.json\n"
     ]
    }
   ],
   "source": [
    "runner(\"./phong_tro_overview_full.csv\", \"final_data.json\")"
   ]
  }
 ],
 "metadata": {
  "kernelspec": {
   "display_name": "env",
   "language": "python",
   "name": "python3"
  },
  "language_info": {
   "codemirror_mode": {
    "name": "ipython",
    "version": 3
   },
   "file_extension": ".py",
   "mimetype": "text/x-python",
   "name": "python",
   "nbconvert_exporter": "python",
   "pygments_lexer": "ipython3",
   "version": "3.13.2"
  }
 },
 "nbformat": 4,
 "nbformat_minor": 5
}
